{
 "cells": [
  {
   "cell_type": "code",
   "execution_count": null,
   "metadata": {
    "collapsed": true,
    "is_executing": true
   },
   "outputs": [],
   "source": [
    "import eventstudy as es\n",
    "import numpy as np\n",
    "import matplotlib.pyplot as plt\n",
    "import datetime\n",
    "import yfinance as yf\n",
    "import pandas as pd"
   ]
  },
  {
   "cell_type": "markdown",
   "source": [
    "检测输入数据"
   ],
   "metadata": {
    "collapsed": false
   }
  },
  {
   "cell_type": "code",
   "execution_count": 2,
   "outputs": [
    {
     "name": "stdout",
     "output_type": "stream",
     "text": [
      "[*********************100%***********************]  1 of 1 completed\n",
      "[*********************100%***********************]  1 of 1 completed\n",
      "<class 'pandas.core.series.Series'>\n"
     ]
    },
    {
     "data": {
      "text/plain": "Date\n2022-01-03    1235.199951\n2022-01-04    1230.400024\n2022-01-05    1210.800049\n2022-01-06    1216.599976\n2022-01-07    1228.000000\n                 ...     \n2022-08-15    1019.000000\n2022-08-16    1019.599976\n2022-08-17    1015.099976\n2022-08-18    1008.400024\n2022-08-19     994.900024\nName: Close, Length: 159, dtype: float64"
     },
     "execution_count": 2,
     "metadata": {},
     "output_type": "execute_result"
    }
   ],
   "source": [
    "BSE = yf.download('MME=F', '2022-01-01', '2022-08-22')['Close']\n",
    "ITC = yf.download('^BSESN', '2022-01-01', '2022-08-22')['Close']\n",
    "print(type(BSE))\n",
    "BSE"
   ],
   "metadata": {
    "collapsed": false,
    "ExecuteTime": {
     "end_time": "2023-07-29T06:47:11.027809Z",
     "start_time": "2023-07-29T06:47:07.969560Z"
    }
   }
  },
  {
   "cell_type": "code",
   "execution_count": 3,
   "outputs": [
    {
     "data": {
      "text/plain": "                 ITC       BSE\nDate                          \n2022-01-04  0.011367 -0.003886\n2022-01-05  0.006135 -0.015930\n2022-01-06 -0.010317  0.004790\n2022-01-07  0.002396  0.009370\n2022-01-10  0.010896 -0.000081\n...              ...       ...\n2022-08-12  0.002194  0.010653\n2022-08-16  0.006381  0.000589\n2022-08-17  0.006984 -0.004413\n2022-08-18  0.000628 -0.006600\n2022-08-19 -0.010811 -0.013388\n\n[151 rows x 2 columns]",
      "text/html": "<div>\n<style scoped>\n    .dataframe tbody tr th:only-of-type {\n        vertical-align: middle;\n    }\n\n    .dataframe tbody tr th {\n        vertical-align: top;\n    }\n\n    .dataframe thead th {\n        text-align: right;\n    }\n</style>\n<table border=\"1\" class=\"dataframe\">\n  <thead>\n    <tr style=\"text-align: right;\">\n      <th></th>\n      <th>ITC</th>\n      <th>BSE</th>\n    </tr>\n    <tr>\n      <th>Date</th>\n      <th></th>\n      <th></th>\n    </tr>\n  </thead>\n  <tbody>\n    <tr>\n      <th>2022-01-04</th>\n      <td>0.011367</td>\n      <td>-0.003886</td>\n    </tr>\n    <tr>\n      <th>2022-01-05</th>\n      <td>0.006135</td>\n      <td>-0.015930</td>\n    </tr>\n    <tr>\n      <th>2022-01-06</th>\n      <td>-0.010317</td>\n      <td>0.004790</td>\n    </tr>\n    <tr>\n      <th>2022-01-07</th>\n      <td>0.002396</td>\n      <td>0.009370</td>\n    </tr>\n    <tr>\n      <th>2022-01-10</th>\n      <td>0.010896</td>\n      <td>-0.000081</td>\n    </tr>\n    <tr>\n      <th>...</th>\n      <td>...</td>\n      <td>...</td>\n    </tr>\n    <tr>\n      <th>2022-08-12</th>\n      <td>0.002194</td>\n      <td>0.010653</td>\n    </tr>\n    <tr>\n      <th>2022-08-16</th>\n      <td>0.006381</td>\n      <td>0.000589</td>\n    </tr>\n    <tr>\n      <th>2022-08-17</th>\n      <td>0.006984</td>\n      <td>-0.004413</td>\n    </tr>\n    <tr>\n      <th>2022-08-18</th>\n      <td>0.000628</td>\n      <td>-0.006600</td>\n    </tr>\n    <tr>\n      <th>2022-08-19</th>\n      <td>-0.010811</td>\n      <td>-0.013388</td>\n    </tr>\n  </tbody>\n</table>\n<p>151 rows × 2 columns</p>\n</div>"
     },
     "execution_count": 3,
     "metadata": {},
     "output_type": "execute_result"
    }
   ],
   "source": [
    "# to calcualte the return fo teh ITC and BSE sensex\n",
    "ITC = ITC.pct_change()\n",
    "BSE = BSE.pct_change()\n",
    "ITC= pd.DataFrame(ITC)\n",
    "BSE = pd.DataFrame(BSE)\n",
    "BSE =BSE.dropna(axis=0)\n",
    "ITC =ITC.dropna(axis=0)\n",
    "\n",
    "# To have equal counts in ITC & BSE\n",
    "df = ITC['Close'],BSE['Close']\n",
    "df1 = pd.DataFrame(df)\n",
    "df2 = df1.T\n",
    "df2.columns = ['ITC','BSE']\n",
    "df3 = df2.dropna()\n",
    "df3"
   ],
   "metadata": {
    "collapsed": false,
    "ExecuteTime": {
     "end_time": "2023-07-29T06:47:11.051170Z",
     "start_time": "2023-07-29T06:47:11.031100Z"
    }
   }
  },
  {
   "cell_type": "markdown",
   "source": [
    "模拟输入数据"
   ],
   "metadata": {
    "collapsed": false
   }
  },
  {
   "cell_type": "code",
   "execution_count": 4,
   "outputs": [],
   "source": [
    "###todo：数据要求\n",
    "###todo：交易日期为 index，每一列的 column name 为股票代码，每一列是 close【收盘价】的percentage changed【百分比变化，相对于前一天】\n",
    "stockData=pd.read_csv(\"stockData/TushareRawData.csv\")\n",
    "stockData=stockData[['ts_code','trade_date','pct_chg']].rename(columns={'trade_date':'date'})\n",
    "# companyList=[]\n",
    "afterColumnChanged=pd.DataFrame()\n",
    "# print(\"total number of day: {}\".format(len(stockData['Date'].values)))\n",
    "# for stockCode in list(stockData.groupby('ts_code')):\n",
    "#     theData={'Date':stockCode[1]['Date'].values,stockCode[0]:stockCode[1]['pct_chg'].values}\n",
    "#     dataByCompany=pd.DataFrame(theData)\n",
    "#     dataByCompany['Date']=pd.to_datetime(dataByCompany[\"Date\"], format=\"%Y-%m-%d\")\n",
    "#     dataByCompany=dataByCompany.dropna(axis=1)\n",
    "#     # dataByCompany=dataByCompany.set_index('Date')\n",
    "#     # afterColumnChanged=afterColumnChanged.append(dataByCompany)\n",
    "#     companyList.append(dataByCompany)\n",
    "#     # afterColumnChanged=pd.concat([afterColumnChanged,dataByCompany])\n",
    "#     # print(\"{} is finished\".format(stockCode[0]))\n",
    "#\n",
    "# afterColumnChanged=pd.concat(companyList[:100])\n",
    "# # afterColumnChanged=afterColumnChanged.drop_duplicates()\n",
    "# afterColumnChanged=afterColumnChanged.sort_values(by='Date',ascending=False)\n",
    "# # afterColumnChanged=afterColumnChanged.dropna(how='all')\n",
    "stockData['date']=pd.to_datetime(stockData[\"date\"], format=\"%Y-%m-%d\")\n",
    "stockData=stockData.set_index('date')\n",
    "# dt = datetime.datetime(2022, 12, 30)\n",
    "# # for ele in afterColumnChanged[afterColumnChanged['Date']==dt].values:\n",
    "# #     print(ele)\n",
    "# afterColumnChanged\n",
    "\n",
    "for stockCode in stockData.groupby('ts_code'):\n",
    "    # if len(stockCode[1]['pct_chg'].values) >= 1000:\n",
    "    afterColumnChanged[stockCode[0]]=stockCode[1]['pct_chg']\n",
    "\n",
    "# afterColumnChanged=afterColumnChanged.dropna()\n",
    "afterColumnChanged"
   ],
   "metadata": {
    "collapsed": false,
    "ExecuteTime": {
     "end_time": "2023-07-29T06:47:11.051378Z",
     "start_time": "2023-07-29T06:47:11.043971Z"
    }
   }
  },
  {
   "cell_type": "code",
   "execution_count": 5,
   "outputs": [],
   "source": [
    "afterColumnChanged.to_csv(\"eventStudyData/train/incomeImport.csv\",sep=',',index =True)"
   ],
   "metadata": {
    "collapsed": false,
    "ExecuteTime": {
     "end_time": "2023-07-29T06:47:11.051588Z",
     "start_time": "2023-07-29T06:47:11.046558Z"
    }
   }
  },
  {
   "cell_type": "code",
   "execution_count": 6,
   "outputs": [
    {
     "name": "stdout",
     "output_type": "stream",
     "text": [
      "object\n"
     ]
    },
    {
     "data": {
      "text/plain": "            000001.SZ  000002.SZ  000004.SZ  000005.SZ  000006.SZ  000007.SZ  \\\ndate                                                                           \n2022-12-30     0.9977     0.2203     1.2552     0.5405     2.7732     0.0000   \n2022-12-29    -0.8371    -2.2605     0.1047    -0.5376    -9.9853    -0.7653   \n2022-12-28     0.2288     0.3782    -1.5464    -1.5873     2.5602     0.0000   \n2022-12-27     2.6625     0.7621     2.5370     2.7174     9.9338    -0.3812   \n2022-12-26    -1.6179    -2.1832     1.2848     0.0000     2.1997    -0.6313   \n...               ...        ...        ...        ...        ...        ...   \n2013-01-10     0.0600        NaN    -0.4800     0.3400     1.0000     6.5300   \n2013-01-09    -0.8800        NaN     0.0000     0.0000    -1.3800    -0.3900   \n2013-01-08    -1.8400        NaN     1.1000     0.3400     3.2500     8.0100   \n2013-01-07     1.9400        NaN     0.9900     0.0000    -0.2000    -1.2600   \n2013-01-04    -0.1900        NaN    -0.7300    -0.6700    -0.4000    -1.3100   \n\n            000008.SZ  000009.SZ  000010.SZ  000011.SZ  ...  872392.BJ  \\\ndate                                                    ...              \n2022-12-30     0.4367     0.9182     3.5912     1.0462  ...       -2.5   \n2022-12-29    -0.8658    -0.5809    -3.7234    -4.8922  ...        NaN   \n2022-12-28    -1.2821    -1.7129    -2.5907     1.0897  ...        NaN   \n2022-12-27     0.8621    -2.8526     0.5208     2.1404  ...        NaN   \n2022-12-26     0.8696     1.2029     3.7838    -0.8489  ...        NaN   \n...               ...        ...        ...        ...  ...        ...   \n2013-01-10     0.6400     0.0000        NaN     0.2800  ...        NaN   \n2013-01-09     1.4700     1.7000        NaN    -1.1200  ...        NaN   \n2013-01-08     1.5900    -0.4500        NaN     0.7100  ...        NaN   \n2013-01-07     0.6600     1.0300        NaN    -0.7000  ...        NaN   \n2013-01-04    -1.1200    -0.5700        NaN    -0.7000  ...        NaN   \n\n            872808.BJ  872925.BJ  873001.BJ  873122.BJ  873169.BJ  873223.BJ  \\\ndate                                                                           \n2022-12-30     2.3968     2.1127     0.5618     0.0000     0.0000     0.6270   \n2022-12-29     0.4073     0.0000    -1.6575    -2.7539    -0.5017    -2.4465   \n2022-12-28    -0.1848    -0.7687    -7.2983    -0.0860     0.5042    -2.3881   \n2022-12-27    -0.4781    -0.3482    -8.3333    -0.1717     0.0000     0.6006   \n2022-12-26    -0.4029     0.6307        NaN     4.0000     0.6768     0.0000   \n...               ...        ...        ...        ...        ...        ...   \n2013-01-10        NaN        NaN        NaN        NaN        NaN        NaN   \n2013-01-09        NaN        NaN        NaN        NaN        NaN        NaN   \n2013-01-08        NaN        NaN        NaN        NaN        NaN        NaN   \n2013-01-07        NaN        NaN        NaN        NaN        NaN        NaN   \n2013-01-04        NaN        NaN        NaN        NaN        NaN        NaN   \n\n            873305.BJ  873339.BJ  873527.BJ  \ndate                                         \n2022-12-30     0.6965     1.2121    -0.3713  \n2022-12-29    -0.9852    -1.0000     0.2481  \n2022-12-28    -1.4563    -0.7937     0.1242  \n2022-12-27     2.7944    -0.1980    -0.1241  \n2022-12-26    -0.5952    -0.3945     0.1242  \n...               ...        ...        ...  \n2013-01-10        NaN        NaN        NaN  \n2013-01-09        NaN        NaN        NaN  \n2013-01-08        NaN        NaN        NaN  \n2013-01-07        NaN        NaN        NaN  \n2013-01-04        NaN        NaN        NaN  \n\n[2428 rows x 5061 columns]",
      "text/html": "<div>\n<style scoped>\n    .dataframe tbody tr th:only-of-type {\n        vertical-align: middle;\n    }\n\n    .dataframe tbody tr th {\n        vertical-align: top;\n    }\n\n    .dataframe thead th {\n        text-align: right;\n    }\n</style>\n<table border=\"1\" class=\"dataframe\">\n  <thead>\n    <tr style=\"text-align: right;\">\n      <th></th>\n      <th>000001.SZ</th>\n      <th>000002.SZ</th>\n      <th>000004.SZ</th>\n      <th>000005.SZ</th>\n      <th>000006.SZ</th>\n      <th>000007.SZ</th>\n      <th>000008.SZ</th>\n      <th>000009.SZ</th>\n      <th>000010.SZ</th>\n      <th>000011.SZ</th>\n      <th>...</th>\n      <th>872392.BJ</th>\n      <th>872808.BJ</th>\n      <th>872925.BJ</th>\n      <th>873001.BJ</th>\n      <th>873122.BJ</th>\n      <th>873169.BJ</th>\n      <th>873223.BJ</th>\n      <th>873305.BJ</th>\n      <th>873339.BJ</th>\n      <th>873527.BJ</th>\n    </tr>\n    <tr>\n      <th>date</th>\n      <th></th>\n      <th></th>\n      <th></th>\n      <th></th>\n      <th></th>\n      <th></th>\n      <th></th>\n      <th></th>\n      <th></th>\n      <th></th>\n      <th></th>\n      <th></th>\n      <th></th>\n      <th></th>\n      <th></th>\n      <th></th>\n      <th></th>\n      <th></th>\n      <th></th>\n      <th></th>\n      <th></th>\n    </tr>\n  </thead>\n  <tbody>\n    <tr>\n      <th>2022-12-30</th>\n      <td>0.9977</td>\n      <td>0.2203</td>\n      <td>1.2552</td>\n      <td>0.5405</td>\n      <td>2.7732</td>\n      <td>0.0000</td>\n      <td>0.4367</td>\n      <td>0.9182</td>\n      <td>3.5912</td>\n      <td>1.0462</td>\n      <td>...</td>\n      <td>-2.5</td>\n      <td>2.3968</td>\n      <td>2.1127</td>\n      <td>0.5618</td>\n      <td>0.0000</td>\n      <td>0.0000</td>\n      <td>0.6270</td>\n      <td>0.6965</td>\n      <td>1.2121</td>\n      <td>-0.3713</td>\n    </tr>\n    <tr>\n      <th>2022-12-29</th>\n      <td>-0.8371</td>\n      <td>-2.2605</td>\n      <td>0.1047</td>\n      <td>-0.5376</td>\n      <td>-9.9853</td>\n      <td>-0.7653</td>\n      <td>-0.8658</td>\n      <td>-0.5809</td>\n      <td>-3.7234</td>\n      <td>-4.8922</td>\n      <td>...</td>\n      <td>NaN</td>\n      <td>0.4073</td>\n      <td>0.0000</td>\n      <td>-1.6575</td>\n      <td>-2.7539</td>\n      <td>-0.5017</td>\n      <td>-2.4465</td>\n      <td>-0.9852</td>\n      <td>-1.0000</td>\n      <td>0.2481</td>\n    </tr>\n    <tr>\n      <th>2022-12-28</th>\n      <td>0.2288</td>\n      <td>0.3782</td>\n      <td>-1.5464</td>\n      <td>-1.5873</td>\n      <td>2.5602</td>\n      <td>0.0000</td>\n      <td>-1.2821</td>\n      <td>-1.7129</td>\n      <td>-2.5907</td>\n      <td>1.0897</td>\n      <td>...</td>\n      <td>NaN</td>\n      <td>-0.1848</td>\n      <td>-0.7687</td>\n      <td>-7.2983</td>\n      <td>-0.0860</td>\n      <td>0.5042</td>\n      <td>-2.3881</td>\n      <td>-1.4563</td>\n      <td>-0.7937</td>\n      <td>0.1242</td>\n    </tr>\n    <tr>\n      <th>2022-12-27</th>\n      <td>2.6625</td>\n      <td>0.7621</td>\n      <td>2.5370</td>\n      <td>2.7174</td>\n      <td>9.9338</td>\n      <td>-0.3812</td>\n      <td>0.8621</td>\n      <td>-2.8526</td>\n      <td>0.5208</td>\n      <td>2.1404</td>\n      <td>...</td>\n      <td>NaN</td>\n      <td>-0.4781</td>\n      <td>-0.3482</td>\n      <td>-8.3333</td>\n      <td>-0.1717</td>\n      <td>0.0000</td>\n      <td>0.6006</td>\n      <td>2.7944</td>\n      <td>-0.1980</td>\n      <td>-0.1241</td>\n    </tr>\n    <tr>\n      <th>2022-12-26</th>\n      <td>-1.6179</td>\n      <td>-2.1832</td>\n      <td>1.2848</td>\n      <td>0.0000</td>\n      <td>2.1997</td>\n      <td>-0.6313</td>\n      <td>0.8696</td>\n      <td>1.2029</td>\n      <td>3.7838</td>\n      <td>-0.8489</td>\n      <td>...</td>\n      <td>NaN</td>\n      <td>-0.4029</td>\n      <td>0.6307</td>\n      <td>NaN</td>\n      <td>4.0000</td>\n      <td>0.6768</td>\n      <td>0.0000</td>\n      <td>-0.5952</td>\n      <td>-0.3945</td>\n      <td>0.1242</td>\n    </tr>\n    <tr>\n      <th>...</th>\n      <td>...</td>\n      <td>...</td>\n      <td>...</td>\n      <td>...</td>\n      <td>...</td>\n      <td>...</td>\n      <td>...</td>\n      <td>...</td>\n      <td>...</td>\n      <td>...</td>\n      <td>...</td>\n      <td>...</td>\n      <td>...</td>\n      <td>...</td>\n      <td>...</td>\n      <td>...</td>\n      <td>...</td>\n      <td>...</td>\n      <td>...</td>\n      <td>...</td>\n      <td>...</td>\n    </tr>\n    <tr>\n      <th>2013-01-10</th>\n      <td>0.0600</td>\n      <td>NaN</td>\n      <td>-0.4800</td>\n      <td>0.3400</td>\n      <td>1.0000</td>\n      <td>6.5300</td>\n      <td>0.6400</td>\n      <td>0.0000</td>\n      <td>NaN</td>\n      <td>0.2800</td>\n      <td>...</td>\n      <td>NaN</td>\n      <td>NaN</td>\n      <td>NaN</td>\n      <td>NaN</td>\n      <td>NaN</td>\n      <td>NaN</td>\n      <td>NaN</td>\n      <td>NaN</td>\n      <td>NaN</td>\n      <td>NaN</td>\n    </tr>\n    <tr>\n      <th>2013-01-09</th>\n      <td>-0.8800</td>\n      <td>NaN</td>\n      <td>0.0000</td>\n      <td>0.0000</td>\n      <td>-1.3800</td>\n      <td>-0.3900</td>\n      <td>1.4700</td>\n      <td>1.7000</td>\n      <td>NaN</td>\n      <td>-1.1200</td>\n      <td>...</td>\n      <td>NaN</td>\n      <td>NaN</td>\n      <td>NaN</td>\n      <td>NaN</td>\n      <td>NaN</td>\n      <td>NaN</td>\n      <td>NaN</td>\n      <td>NaN</td>\n      <td>NaN</td>\n      <td>NaN</td>\n    </tr>\n    <tr>\n      <th>2013-01-08</th>\n      <td>-1.8400</td>\n      <td>NaN</td>\n      <td>1.1000</td>\n      <td>0.3400</td>\n      <td>3.2500</td>\n      <td>8.0100</td>\n      <td>1.5900</td>\n      <td>-0.4500</td>\n      <td>NaN</td>\n      <td>0.7100</td>\n      <td>...</td>\n      <td>NaN</td>\n      <td>NaN</td>\n      <td>NaN</td>\n      <td>NaN</td>\n      <td>NaN</td>\n      <td>NaN</td>\n      <td>NaN</td>\n      <td>NaN</td>\n      <td>NaN</td>\n      <td>NaN</td>\n    </tr>\n    <tr>\n      <th>2013-01-07</th>\n      <td>1.9400</td>\n      <td>NaN</td>\n      <td>0.9900</td>\n      <td>0.0000</td>\n      <td>-0.2000</td>\n      <td>-1.2600</td>\n      <td>0.6600</td>\n      <td>1.0300</td>\n      <td>NaN</td>\n      <td>-0.7000</td>\n      <td>...</td>\n      <td>NaN</td>\n      <td>NaN</td>\n      <td>NaN</td>\n      <td>NaN</td>\n      <td>NaN</td>\n      <td>NaN</td>\n      <td>NaN</td>\n      <td>NaN</td>\n      <td>NaN</td>\n      <td>NaN</td>\n    </tr>\n    <tr>\n      <th>2013-01-04</th>\n      <td>-0.1900</td>\n      <td>NaN</td>\n      <td>-0.7300</td>\n      <td>-0.6700</td>\n      <td>-0.4000</td>\n      <td>-1.3100</td>\n      <td>-1.1200</td>\n      <td>-0.5700</td>\n      <td>NaN</td>\n      <td>-0.7000</td>\n      <td>...</td>\n      <td>NaN</td>\n      <td>NaN</td>\n      <td>NaN</td>\n      <td>NaN</td>\n      <td>NaN</td>\n      <td>NaN</td>\n      <td>NaN</td>\n      <td>NaN</td>\n      <td>NaN</td>\n      <td>NaN</td>\n    </tr>\n  </tbody>\n</table>\n<p>2428 rows × 5061 columns</p>\n</div>"
     },
     "execution_count": 6,
     "metadata": {},
     "output_type": "execute_result"
    }
   ],
   "source": [
    "afterColumnChanged=pd.read_csv(\"eventStudyData/train/incomeImport.csv\",index_col=\"date\")\n",
    "print(afterColumnChanged.index.dtype)\n",
    "afterColumnChanged"
   ],
   "metadata": {
    "collapsed": false,
    "ExecuteTime": {
     "end_time": "2023-07-29T06:47:12.335299Z",
     "start_time": "2023-07-29T06:47:11.050269Z"
    }
   }
  },
  {
   "cell_type": "markdown",
   "source": [
    "模拟三因子数据 an aggregate of event"
   ],
   "metadata": {
    "collapsed": false
   }
  },
  {
   "cell_type": "code",
   "execution_count": 7,
   "outputs": [
    {
     "name": "stdout",
     "output_type": "stream",
     "text": [
      "[*********************100%***********************]  1 of 1 completed\n"
     ]
    },
    {
     "data": {
      "text/plain": "Date\n2022-01-03    477.709991\n2022-01-04    477.549988\n2022-01-05    468.380005\n2022-01-06    467.940002\n2022-01-07    466.089996\n                 ...    \n2022-08-15    428.859985\n2022-08-16    429.700012\n2022-08-17    426.649994\n2022-08-18    427.890015\n2022-08-19    422.140015\nName: Close, Length: 159, dtype: float64"
     },
     "execution_count": 7,
     "metadata": {},
     "output_type": "execute_result"
    }
   ],
   "source": [
    "eventAggregate=pd.DataFrame()\n",
    "companyTickers=afterColumnChanged.columns\n",
    "companyTickers"
   ],
   "metadata": {
    "collapsed": false,
    "ExecuteTime": {
     "end_time": "2023-07-29T06:47:13.106438Z",
     "start_time": "2023-07-29T06:47:12.331507Z"
    }
   }
  },
  {
   "cell_type": "code",
   "execution_count": 8,
   "outputs": [
    {
     "data": {
      "text/plain": "           date  Mkt-RF   SMB   HML     RF\n0      19260701    0.10 -0.25 -0.27  0.009\n1      19260702    0.45 -0.33 -0.06  0.009\n2      19260706    0.17  0.30 -0.39  0.009\n3      19260707    0.09 -0.58  0.02  0.009\n4      19260708    0.21 -0.38  0.19  0.009\n...         ...     ...   ...   ...    ...\n25497  20230524   -0.72 -0.32 -0.20  0.016\n25498  20230525    0.65 -0.71 -1.08  0.016\n25499  20230526    1.32  0.04 -0.86  0.016\n25500  20230530   -0.01 -0.15 -0.42  0.016\n25501  20230531   -0.60 -0.11 -1.14  0.016\n\n[25502 rows x 5 columns]",
      "text/html": "<div>\n<style scoped>\n    .dataframe tbody tr th:only-of-type {\n        vertical-align: middle;\n    }\n\n    .dataframe tbody tr th {\n        vertical-align: top;\n    }\n\n    .dataframe thead th {\n        text-align: right;\n    }\n</style>\n<table border=\"1\" class=\"dataframe\">\n  <thead>\n    <tr style=\"text-align: right;\">\n      <th></th>\n      <th>date</th>\n      <th>Mkt-RF</th>\n      <th>SMB</th>\n      <th>HML</th>\n      <th>RF</th>\n    </tr>\n  </thead>\n  <tbody>\n    <tr>\n      <th>0</th>\n      <td>19260701</td>\n      <td>0.10</td>\n      <td>-0.25</td>\n      <td>-0.27</td>\n      <td>0.009</td>\n    </tr>\n    <tr>\n      <th>1</th>\n      <td>19260702</td>\n      <td>0.45</td>\n      <td>-0.33</td>\n      <td>-0.06</td>\n      <td>0.009</td>\n    </tr>\n    <tr>\n      <th>2</th>\n      <td>19260706</td>\n      <td>0.17</td>\n      <td>0.30</td>\n      <td>-0.39</td>\n      <td>0.009</td>\n    </tr>\n    <tr>\n      <th>3</th>\n      <td>19260707</td>\n      <td>0.09</td>\n      <td>-0.58</td>\n      <td>0.02</td>\n      <td>0.009</td>\n    </tr>\n    <tr>\n      <th>4</th>\n      <td>19260708</td>\n      <td>0.21</td>\n      <td>-0.38</td>\n      <td>0.19</td>\n      <td>0.009</td>\n    </tr>\n    <tr>\n      <th>...</th>\n      <td>...</td>\n      <td>...</td>\n      <td>...</td>\n      <td>...</td>\n      <td>...</td>\n    </tr>\n    <tr>\n      <th>25497</th>\n      <td>20230524</td>\n      <td>-0.72</td>\n      <td>-0.32</td>\n      <td>-0.20</td>\n      <td>0.016</td>\n    </tr>\n    <tr>\n      <th>25498</th>\n      <td>20230525</td>\n      <td>0.65</td>\n      <td>-0.71</td>\n      <td>-1.08</td>\n      <td>0.016</td>\n    </tr>\n    <tr>\n      <th>25499</th>\n      <td>20230526</td>\n      <td>1.32</td>\n      <td>0.04</td>\n      <td>-0.86</td>\n      <td>0.016</td>\n    </tr>\n    <tr>\n      <th>25500</th>\n      <td>20230530</td>\n      <td>-0.01</td>\n      <td>-0.15</td>\n      <td>-0.42</td>\n      <td>0.016</td>\n    </tr>\n    <tr>\n      <th>25501</th>\n      <td>20230531</td>\n      <td>-0.60</td>\n      <td>-0.11</td>\n      <td>-1.14</td>\n      <td>0.016</td>\n    </tr>\n  </tbody>\n</table>\n<p>25502 rows × 5 columns</p>\n</div>"
     },
     "execution_count": 8,
     "metadata": {},
     "output_type": "execute_result"
    }
   ],
   "source": [
    "spy=yf.download('SPY', '2022-01-01', '2022-08-22')['Close']"
   ],
   "metadata": {
    "collapsed": false,
    "ExecuteTime": {
     "end_time": "2023-07-29T06:47:13.148211Z",
     "start_time": "2023-07-29T06:47:13.103829Z"
    }
   }
  },
  {
   "cell_type": "code",
   "execution_count": null,
   "outputs": [],
   "source": [
    "fama=pd.read_csv(\"eventStudyData/train/FamaFrench.csv\")\n",
    "fama"
   ],
   "metadata": {
    "collapsed": false
   }
  },
  {
   "cell_type": "markdown",
   "source": [
    "输入数据"
   ],
   "metadata": {
    "collapsed": false,
    "ExecuteTime": {
     "end_time": "2023-07-29T06:47:14.452359Z",
     "start_time": "2023-07-29T06:47:13.125927Z"
    }
   },
   "outputs": [],
   "execution_count": 9
  },
  {
   "cell_type": "code",
   "execution_count": 12,
   "outputs": [
    {
     "name": "stdout",
     "output_type": "stream",
     "text": [
      "Intel MKL WARNING: Support of Intel(R) Streaming SIMD Extensions 4.2 (Intel(R) SSE4.2) enabled only processors has been deprecated. Intel oneAPI Math Kernel Library 2025.0 will require Intel(R) Advanced Vector Extensions (Intel(R) AVX) instructions.\n"
     ]
    }
   ],
   "source": [
    "es.Single.import_returns('eventStudyData/train/incomeImport.csv')\n",
    "es.Single.import_FamaFrench('eventStudyData/train/FamaFrench.csv')"
   ],
   "metadata": {
    "collapsed": false,
    "ExecuteTime": {
     "end_time": "2023-07-29T06:47:49.944369Z",
     "start_time": "2023-07-29T06:47:49.936245Z"
    }
   }
  },
  {
   "cell_type": "code",
   "execution_count": 12,
   "outputs": [],
   "source": [
    "event = es.Single.FamaFrench_3factor(\n",
    "    security_ticker = '000001.SZ',\n",
    "    event_date = np.datetime64('2015-03-04'),\n",
    "    event_window = (-2,+10),\n",
    "    estimation_size = 300,\n",
    "    buffer_size = 30\n",
    ")"
   ],
   "metadata": {
    "collapsed": false,
    "ExecuteTime": {
     "end_time": "2023-07-29T06:47:49.946725Z",
     "start_time": "2023-07-29T06:47:49.944041Z"
    }
   }
  },
  {
   "cell_type": "code",
   "execution_count": null,
   "outputs": [],
   "source": [
    "event.plot(AR=True)\n",
    "plt.show()"
   ],
   "metadata": {
    "collapsed": false
   }
  },
  {
   "cell_type": "markdown",
   "source": [
    "筛选 5 只医药股（随机）"
   ],
   "metadata": {
    "collapsed": false
   }
  },
  {
   "cell_type": "code",
   "execution_count": null,
   "outputs": [],
   "source": [
    "rawCompanyData=pd.read_csv(\"stockData/rawCompanyDataInTushare.csv\")\n",
    "rawCompanyData"
   ],
   "metadata": {
    "collapsed": false
   }
  },
  {
   "cell_type": "markdown",
   "source": [
    "筛选 5 只电影/旅游股（随机）"
   ],
   "metadata": {
    "collapsed": false
   }
  },
  {
   "cell_type": "code",
   "execution_count": null,
   "outputs": [],
   "source": [],
   "metadata": {
    "collapsed": false
   }
  }
 ],
 "metadata": {
  "kernelspec": {
   "display_name": "Python 3",
   "language": "python",
   "name": "python3"
  },
  "language_info": {
   "codemirror_mode": {
    "name": "ipython",
    "version": 2
   },
   "file_extension": ".py",
   "mimetype": "text/x-python",
   "name": "python",
   "nbconvert_exporter": "python",
   "pygments_lexer": "ipython2",
   "version": "2.7.6"
  }
 },
 "nbformat": 4,
 "nbformat_minor": 0
}
