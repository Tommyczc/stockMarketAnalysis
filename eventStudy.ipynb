{
 "cells": [
  {
   "cell_type": "code",
   "execution_count": null,
   "metadata": {
    "collapsed": true,
    "is_executing": true
   },
   "outputs": [],
   "source": [
    "import eventstudy as es\n",
    "import numpy as np\n",
    "import matplotlib.pyplot as plt\n",
    "import datetime\n",
    "import yfinance as yf\n",
    "import pandas as pd"
   ]
  },
  {
   "cell_type": "markdown",
   "source": [
    "# 检测输入数据"
   ],
   "metadata": {
    "collapsed": false
   }
  },
  {
   "cell_type": "code",
   "execution_count": null,
   "outputs": [],
   "source": [
    "BSE = yf.download('MME=F', '2022-01-01', '2022-08-22')['Close']\n",
    "ITC = yf.download('^BSESN', '2022-01-01', '2022-08-22')['Close']\n",
    "print(type(BSE))\n",
    "BSE"
   ],
   "metadata": {
    "collapsed": false
   }
  },
  {
   "cell_type": "code",
   "execution_count": null,
   "outputs": [],
   "source": [
    "# to calcualte the return fo teh ITC and BSE sensex\n",
    "ITC = ITC.pct_change()\n",
    "BSE = BSE.pct_change()\n",
    "ITC= pd.DataFrame(ITC)\n",
    "BSE = pd.DataFrame(BSE)\n",
    "BSE =BSE.dropna(axis=0)\n",
    "ITC =ITC.dropna(axis=0)\n",
    "\n",
    "# To have equal counts in ITC & BSE\n",
    "df = ITC['Close'],BSE['Close']\n",
    "df1 = pd.DataFrame(df)\n",
    "df2 = df1.T\n",
    "df2.columns = ['ITC','BSE']\n",
    "df3 = df2.dropna()\n",
    "df3"
   ],
   "metadata": {
    "collapsed": false
   }
  },
  {
   "cell_type": "markdown",
   "source": [
    "# 模拟输入数据"
   ],
   "metadata": {
    "collapsed": false
   }
  },
  {
   "cell_type": "code",
   "execution_count": null,
   "outputs": [],
   "source": [
    "###todo：数据要求\n",
    "###todo：交易日期为 index，每一列的 column name 为股票代码，每一列是 close【收盘价】的percentage changed【百分比变化，相对于前一天】\n",
    "stockData=pd.read_csv(\"stockData/TushareRawData.csv\")\n",
    "stockData=stockData[['ts_code','trade_date','pct_chg']].rename(columns={'trade_date':'date'})\n",
    "# companyList=[]\n",
    "afterColumnChanged=pd.DataFrame()\n",
    "# print(\"total number of day: {}\".format(len(stockData['Date'].values)))\n",
    "# for stockCode in list(stockData.groupby('ts_code')):\n",
    "#     theData={'Date':stockCode[1]['Date'].values,stockCode[0]:stockCode[1]['pct_chg'].values}\n",
    "#     dataByCompany=pd.DataFrame(theData)\n",
    "#     dataByCompany['Date']=pd.to_datetime(dataByCompany[\"Date\"], format=\"%Y-%m-%d\")\n",
    "#     dataByCompany=dataByCompany.dropna(axis=1)\n",
    "#     # dataByCompany=dataByCompany.set_index('Date')\n",
    "#     # afterColumnChanged=afterColumnChanged.append(dataByCompany)\n",
    "#     companyList.append(dataByCompany)\n",
    "#     # afterColumnChanged=pd.concat([afterColumnChanged,dataByCompany])\n",
    "#     # print(\"{} is finished\".format(stockCode[0]))\n",
    "#\n",
    "# afterColumnChanged=pd.concat(companyList[:100])\n",
    "# # afterColumnChanged=afterColumnChanged.drop_duplicates()\n",
    "# afterColumnChanged=afterColumnChanged.sort_values(by='Date',ascending=False)\n",
    "# # afterColumnChanged=afterColumnChanged.dropna(how='all')\n",
    "stockData['date']=pd.to_datetime(stockData[\"date\"], format=\"%Y-%m-%d\")\n",
    "stockData=stockData.set_index('date')\n",
    "# dt = datetime.datetime(2022, 12, 30)\n",
    "# # for ele in afterColumnChanged[afterColumnChanged['Date']==dt].values:\n",
    "# #     print(ele)\n",
    "# afterColumnChanged\n",
    "\n",
    "for stockCode in stockData.groupby('ts_code'):\n",
    "    # if len(stockCode[1]['pct_chg'].values) >= 1000:\n",
    "    afterColumnChanged[stockCode[0]]=stockCode[1]['pct_chg']\n",
    "\n",
    "# afterColumnChanged=afterColumnChanged.dropna()\n",
    "afterColumnChanged"
   ],
   "metadata": {
    "collapsed": false
   }
  },
  {
   "cell_type": "code",
   "execution_count": null,
   "outputs": [],
   "source": [
    "# afterColumnChanged.to_csv(\"eventStudyData/train/incomeImport.csv\",sep=',',index =True)"
   ],
   "metadata": {
    "collapsed": false
   }
  },
  {
   "cell_type": "code",
   "execution_count": null,
   "outputs": [],
   "source": [
    "afterColumnChanged=pd.read_csv(\"eventStudyData/train/incomeImport.csv\",index_col=\"date\")\n",
    "print(afterColumnChanged.index.dtype)\n",
    "afterColumnChanged"
   ],
   "metadata": {
    "collapsed": false
   }
  },
  {
   "cell_type": "markdown",
   "source": [
    "# 模拟三因子数据 an aggregate of event"
   ],
   "metadata": {
    "collapsed": false
   }
  },
  {
   "cell_type": "code",
   "execution_count": null,
   "outputs": [],
   "source": [
    "eventAggregate=pd.DataFrame()\n",
    "companyTickers=afterColumnChanged.columns\n",
    "companyTickers"
   ],
   "metadata": {
    "collapsed": false
   }
  },
  {
   "cell_type": "code",
   "execution_count": null,
   "outputs": [],
   "source": [
    "spy=yf.download('SPY', '2022-01-01', '2022-08-22')['Close']"
   ],
   "metadata": {
    "collapsed": false
   }
  },
  {
   "cell_type": "code",
   "execution_count": null,
   "outputs": [],
   "source": [
    "fama=pd.read_csv(\"eventStudyData/train/FamaFrench.csv\")\n",
    "fama"
   ],
   "metadata": {
    "collapsed": false
   }
  },
  {
   "cell_type": "markdown",
   "source": [
    "## 输入数据"
   ],
   "metadata": {
    "collapsed": false,
    "ExecuteTime": {
     "end_time": "2023-07-29T06:47:14.452359Z",
     "start_time": "2023-07-29T06:47:13.125927Z"
    }
   },
   "outputs": [],
   "execution_count": 9
  },
  {
   "cell_type": "code",
   "execution_count": null,
   "outputs": [],
   "source": [
    "es.Single.import_returns('eventStudyData/train/incomeImport.csv')\n",
    "es.Single.import_FamaFrench('eventStudyData/train/FamaFrench.csv')"
   ],
   "metadata": {
    "collapsed": false
   }
  },
  {
   "cell_type": "code",
   "execution_count": null,
   "outputs": [],
   "source": [
    "event = es.Single.FamaFrench_3factor(\n",
    "    security_ticker = '000001.SZ',\n",
    "    event_date = np.datetime64('2020-01-20'),\n",
    "    event_window = (-2,+10),\n",
    "    estimation_size = 300,\n",
    "    buffer_size = 30\n",
    ")"
   ],
   "metadata": {
    "collapsed": false
   }
  },
  {
   "cell_type": "code",
   "execution_count": null,
   "outputs": [],
   "source": [
    "event.plot(AR=True)\n",
    "plt.show()"
   ],
   "metadata": {
    "collapsed": false
   }
  },
  {
   "cell_type": "markdown",
   "source": [
    "# 筛选 5 只医药股（随机）"
   ],
   "metadata": {
    "collapsed": false
   }
  },
  {
   "cell_type": "code",
   "execution_count": null,
   "outputs": [],
   "source": [
    "rawCompanyData=pd.read_csv(\"stockData/rawCompanyDataInTushare.csv\")\n",
    "print(rawCompanyData['industry'].unique())\n",
    "rawMedicCompanyData=rawCompanyData[rawCompanyData['industry']=='医疗保健'].head()['ts_code'].values.tolist()\n",
    "rawMedicCompanyData"
   ],
   "metadata": {
    "collapsed": false
   }
  },
  {
   "cell_type": "code",
   "execution_count": null,
   "outputs": [],
   "source": [
    "##todo：时间点：2020/1/20，2020/2/3\n",
    "eventTime=['2020-1-20','2020-3-20']\n",
    "# eventTime=['20/1/2020']\n",
    "def createEventTime(eventTime,security_ticker,market_ticker):\n",
    "    final=pd.DataFrame()\n",
    "    for event in eventTime:\n",
    "        for ticker in security_ticker:\n",
    "            thisLine=pd.DataFrame({\"security_ticker\":[ticker],\"market_ticker\":[market_ticker],\"event_date\":[event]})\n",
    "            final=pd.concat([final,thisLine])\n",
    "    return final\n",
    "\n",
    "medicEventData=createEventTime(eventTime,rawMedicCompanyData,\"SPY\")\n",
    "medicEventData"
   ],
   "metadata": {
    "collapsed": false
   }
  },
  {
   "cell_type": "code",
   "execution_count": null,
   "outputs": [],
   "source": [
    "##导出\n",
    "# medicEventData.to_csv(\"eventStudyData/timeLineData/medicHeadData.csv\",index=False)"
   ],
   "metadata": {
    "collapsed": false
   }
  },
  {
   "cell_type": "markdown",
   "source": [
    "# 筛选 5 只旅游股（随机）"
   ],
   "metadata": {
    "collapsed": false
   }
  },
  {
   "cell_type": "code",
   "execution_count": null,
   "outputs": [],
   "source": [
    "rawTravelCompanyData=rawCompanyData[rawCompanyData['industry']=='旅游服务'].head()['ts_code'].values.tolist()\n",
    "rawTravelCompanyData"
   ],
   "metadata": {
    "collapsed": false
   }
  },
  {
   "cell_type": "code",
   "execution_count": null,
   "outputs": [],
   "source": [
    "travelEventData=createEventTime(eventTime,rawTravelCompanyData,\"SPY\")\n",
    "travelEventData"
   ],
   "metadata": {
    "collapsed": false
   }
  },
  {
   "cell_type": "code",
   "execution_count": null,
   "outputs": [],
   "source": [
    "# travelEventData.to_csv(\"eventStudyData/timeLineData/travelHeadData.csv\",index=False)"
   ],
   "metadata": {
    "collapsed": false
   }
  },
  {
   "cell_type": "markdown",
   "source": [
    "# 合并"
   ],
   "metadata": {
    "collapsed": false
   }
  },
  {
   "cell_type": "code",
   "execution_count": null,
   "outputs": [],
   "source": [
    "combine=pd.concat([travelEventData,medicEventData])\n",
    "# combine.to_csv(\"eventStudyData/timeLineData/combineData.csv\",index=False)\n",
    "combine"
   ],
   "metadata": {
    "collapsed": false
   }
  },
  {
   "cell_type": "markdown",
   "source": [
    "# 开始测试 multiple class 接口"
   ],
   "metadata": {
    "collapsed": false
   }
  },
  {
   "cell_type": "code",
   "execution_count": null,
   "outputs": [],
   "source": [
    "agg = es.Multiple.from_csv(\n",
    "    path = 'eventStudyData/timeLineData/medicHeadData.csv',\n",
    "    event_study_model = es.Single.market_model,\n",
    "    event_window = (-5,+10),\n",
    "    date_format = \"%Y-%m-%d\",\n",
    "    ignore_errors=True\n",
    ")\n",
    "agg.plot()\n",
    "plt.show()"
   ],
   "metadata": {
    "collapsed": false
   }
  }
 ],
 "metadata": {
  "kernelspec": {
   "display_name": "Python 3",
   "language": "python",
   "name": "python3"
  },
  "language_info": {
   "codemirror_mode": {
    "name": "ipython",
    "version": 2
   },
   "file_extension": ".py",
   "mimetype": "text/x-python",
   "name": "python",
   "nbconvert_exporter": "python",
   "pygments_lexer": "ipython2",
   "version": "2.7.6"
  }
 },
 "nbformat": 4,
 "nbformat_minor": 0
}
