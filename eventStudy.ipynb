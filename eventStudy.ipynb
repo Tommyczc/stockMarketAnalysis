{
 "cells": [
  {
   "cell_type": "code",
   "execution_count": 1,
   "metadata": {
    "collapsed": true,
    "ExecuteTime": {
     "end_time": "2023-07-27T07:14:14.117312Z",
     "start_time": "2023-07-27T07:14:13.782718Z"
    }
   },
   "outputs": [],
   "source": [
    "import eventstudy as es\n",
    "import numpy as np\n",
    "import matplotlib.pyplot as plt\n",
    "import datetime\n",
    "import yfinance as yf\n",
    "import pandas as pd"
   ]
  },
  {
   "cell_type": "markdown",
   "source": [
    "检测输入数据"
   ],
   "metadata": {
    "collapsed": false
   }
  },
  {
   "cell_type": "code",
   "execution_count": 10,
   "outputs": [
    {
     "name": "stdout",
     "output_type": "stream",
     "text": [
      "[*********************100%***********************]  1 of 1 completed\n",
      "[*********************100%***********************]  1 of 1 completed\n",
      "<class 'pandas.core.series.Series'>\n"
     ]
    },
    {
     "data": {
      "text/plain": "Date\n2022-01-03    1235.199951\n2022-01-04    1230.400024\n2022-01-05    1210.800049\n2022-01-06    1216.599976\n2022-01-07    1228.000000\n                 ...     \n2022-08-15    1019.000000\n2022-08-16    1019.599976\n2022-08-17    1015.099976\n2022-08-18    1008.400024\n2022-08-19     994.900024\nName: Close, Length: 159, dtype: float64"
     },
     "execution_count": 10,
     "metadata": {},
     "output_type": "execute_result"
    }
   ],
   "source": [
    "BSE = yf.download('MME=F', '2022-01-01', '2022-08-22')['Close']\n",
    "ITC = yf.download('^BSESN', '2022-01-01', '2022-08-22')['Close']\n",
    "print(type(BSE))\n",
    "BSE"
   ],
   "metadata": {
    "collapsed": false,
    "ExecuteTime": {
     "end_time": "2023-07-27T07:27:37.195403Z",
     "start_time": "2023-07-27T07:27:35.209577Z"
    }
   }
  },
  {
   "cell_type": "code",
   "execution_count": 9,
   "outputs": [
    {
     "name": "stdout",
     "output_type": "stream",
     "text": [
      "               Close\n",
      "Date                \n",
      "2022-01-04       NaN\n",
      "2022-01-05  3.099320\n",
      "2022-01-06 -1.300705\n",
      "2022-01-07  0.956176\n",
      "2022-01-10 -1.008688\n",
      "...              ...\n",
      "2022-08-15 -1.513051\n",
      "2022-08-16 -1.107728\n",
      "2022-08-17 -8.495892\n",
      "2022-08-18  0.495478\n",
      "2022-08-19  1.028328\n",
      "\n",
      "[158 rows x 1 columns]\n"
     ]
    },
    {
     "data": {
      "text/plain": "                  ITC         BSE\nDate                             \n2022-01-05  -0.460256    3.099320\n2022-01-06  -2.681614   -1.300705\n2022-01-07  -1.232247    0.956176\n2022-01-10   3.547516   -1.008688\n2022-01-11  -0.663774 -281.091179\n...               ...         ...\n2022-08-12  -0.749571    1.623506\n2022-08-16   1.908280   -1.107728\n2022-08-17   0.094454   -8.495892\n2022-08-18  -0.910010    0.495478\n2022-08-19 -18.201567    1.028328\n\n[150 rows x 2 columns]",
      "text/html": "<div>\n<style scoped>\n    .dataframe tbody tr th:only-of-type {\n        vertical-align: middle;\n    }\n\n    .dataframe tbody tr th {\n        vertical-align: top;\n    }\n\n    .dataframe thead th {\n        text-align: right;\n    }\n</style>\n<table border=\"1\" class=\"dataframe\">\n  <thead>\n    <tr style=\"text-align: right;\">\n      <th></th>\n      <th>ITC</th>\n      <th>BSE</th>\n    </tr>\n    <tr>\n      <th>Date</th>\n      <th></th>\n      <th></th>\n    </tr>\n  </thead>\n  <tbody>\n    <tr>\n      <th>2022-01-05</th>\n      <td>-0.460256</td>\n      <td>3.099320</td>\n    </tr>\n    <tr>\n      <th>2022-01-06</th>\n      <td>-2.681614</td>\n      <td>-1.300705</td>\n    </tr>\n    <tr>\n      <th>2022-01-07</th>\n      <td>-1.232247</td>\n      <td>0.956176</td>\n    </tr>\n    <tr>\n      <th>2022-01-10</th>\n      <td>3.547516</td>\n      <td>-1.008688</td>\n    </tr>\n    <tr>\n      <th>2022-01-11</th>\n      <td>-0.663774</td>\n      <td>-281.091179</td>\n    </tr>\n    <tr>\n      <th>...</th>\n      <td>...</td>\n      <td>...</td>\n    </tr>\n    <tr>\n      <th>2022-08-12</th>\n      <td>-0.749571</td>\n      <td>1.623506</td>\n    </tr>\n    <tr>\n      <th>2022-08-16</th>\n      <td>1.908280</td>\n      <td>-1.107728</td>\n    </tr>\n    <tr>\n      <th>2022-08-17</th>\n      <td>0.094454</td>\n      <td>-8.495892</td>\n    </tr>\n    <tr>\n      <th>2022-08-18</th>\n      <td>-0.910010</td>\n      <td>0.495478</td>\n    </tr>\n    <tr>\n      <th>2022-08-19</th>\n      <td>-18.201567</td>\n      <td>1.028328</td>\n    </tr>\n  </tbody>\n</table>\n<p>150 rows × 2 columns</p>\n</div>"
     },
     "execution_count": 9,
     "metadata": {},
     "output_type": "execute_result"
    }
   ],
   "source": [
    "# to calcualte the return fo teh ITC and BSE sensex\n",
    "ITC = ITC.pct_change()\n",
    "BSE = BSE.pct_change()\n",
    "ITC= pd.DataFrame(ITC)\n",
    "BSE = pd.DataFrame(BSE)\n",
    "BSE =BSE.dropna(axis=0)\n",
    "ITC =ITC.dropna(axis=0)\n",
    "\n",
    "# To have equal counts in ITC & BSE\n",
    "df = ITC['Close'],BSE['Close']\n",
    "df1 = pd.DataFrame(df)\n",
    "df2 = df1.T\n",
    "df2.columns = ['ITC','BSE']\n",
    "df3 = df2.dropna()\n",
    "df3"
   ],
   "metadata": {
    "collapsed": false,
    "ExecuteTime": {
     "end_time": "2023-07-27T07:26:12.629403Z",
     "start_time": "2023-07-27T07:26:12.599713Z"
    }
   }
  },
  {
   "cell_type": "markdown",
   "source": [
    "模拟输入数据"
   ],
   "metadata": {
    "collapsed": false
   }
  },
  {
   "cell_type": "code",
   "execution_count": null,
   "outputs": [],
   "source": [],
   "metadata": {
    "collapsed": false
   }
  },
  {
   "cell_type": "code",
   "execution_count": 4,
   "outputs": [],
   "source": [
    "# es.Single.import_returns('returns.csv')\n",
    "# es.Single.import_FamaFrench('famafrench.csv')"
   ],
   "metadata": {
    "collapsed": false,
    "ExecuteTime": {
     "end_time": "2023-07-27T07:14:15.981505Z",
     "start_time": "2023-07-27T07:14:15.962026Z"
    }
   }
  },
  {
   "cell_type": "code",
   "execution_count": 5,
   "outputs": [],
   "source": [
    "# event = es.Single.FamaFrench_3factor(\n",
    "#     security_ticker = 'AAPL',\n",
    "#     event_date = np.datetime64('2013-03-04'),\n",
    "#     event_window = (-2,+10),\n",
    "#     estimation_size = 300,\n",
    "#     buffer_size = 30\n",
    "# )"
   ],
   "metadata": {
    "collapsed": false,
    "ExecuteTime": {
     "end_time": "2023-07-27T07:14:15.987351Z",
     "start_time": "2023-07-27T07:14:15.965447Z"
    }
   }
  },
  {
   "cell_type": "code",
   "execution_count": 6,
   "outputs": [],
   "source": [
    "# event.plot(AR=True)\n",
    "# plt.show()"
   ],
   "metadata": {
    "collapsed": false,
    "ExecuteTime": {
     "end_time": "2023-07-27T07:14:15.987575Z",
     "start_time": "2023-07-27T07:14:15.968463Z"
    }
   }
  }
 ],
 "metadata": {
  "kernelspec": {
   "display_name": "Python 3",
   "language": "python",
   "name": "python3"
  },
  "language_info": {
   "codemirror_mode": {
    "name": "ipython",
    "version": 2
   },
   "file_extension": ".py",
   "mimetype": "text/x-python",
   "name": "python",
   "nbconvert_exporter": "python",
   "pygments_lexer": "ipython2",
   "version": "2.7.6"
  }
 },
 "nbformat": 4,
 "nbformat_minor": 0
}
