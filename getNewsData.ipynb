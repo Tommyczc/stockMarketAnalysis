{
 "cells": [
  {
   "cell_type": "markdown",
   "source": [
    "# 1.0 Get the raw news information\n",
    "* 本篇代码用来获取相关公司的新闻文本\n",
    "* 由于信息渠道广泛，将会爬虫数个新闻网站: [新浪新闻，微信公众号]"
   ],
   "metadata": {
    "collapsed": false
   }
  },
  {
   "cell_type": "markdown",
   "source": [
    "### 1.1 新浪新闻获取"
   ],
   "metadata": {
    "collapsed": false
   }
  },
  {
   "cell_type": "code",
   "execution_count": 1,
   "outputs": [
    {
     "name": "stdout",
     "output_type": "stream",
     "text": [
      "Hello, news\n",
      "Load time  0:00:00.918512\n"
     ]
    }
   ],
   "source": [
    "import pandas as pd\n",
    "import xlwt as xlwt\n",
    "\n",
    "print(\"Hello, news\")\n",
    "from datetime import datetime\n",
    "now=datetime.now()\n",
    "from lxml import etree\n",
    "from pylab import mpl\n",
    "# todo: solve chinese problem for plt\n",
    "mpl.rcParams['font.sans-serif']=['SimHei']\n",
    "mpl.rcParams['axes.unicode_minus']=False\n",
    "import requests\n",
    "from bs4 import BeautifulSoup\n",
    "from datetime import datetime\n",
    "import json\n",
    "print(\"Load time \",datetime.now()-now)"
   ],
   "metadata": {
    "collapsed": false
   }
  },
  {
   "cell_type": "code",
   "execution_count": 2,
   "outputs": [],
   "source": [
    "def get_list(url):\n",
    "\n",
    "    # 新闻链接\n",
    "    res=requests.get(url)\n",
    "    res.encoding='utf-8'\n",
    "\n",
    "    # 完整HTML\n",
    "    html=BeautifulSoup(res.text,'html.parser')\n",
    "\n",
    "    # 新闻列表\n",
    "    newList=[]\n",
    "\n",
    "    for item in html.find_all('div',['news-item','img-news-item']):\n",
    "        try:\n",
    "            newObj={}\n",
    "            newObj['title']=item.select('h2 a')[0].text\n",
    "            newObj['url']=item.select('h2 a')[0].get('href')\n",
    "            newList.append(newObj)\n",
    "        except:\n",
    "            print('出现异常')\n",
    "    return newList\n",
    "\n",
    "\n",
    "def get_HtmlDetail_Sina(url):\n",
    "\n",
    "    # 新闻链接\n",
    "    res=requests.get(url)\n",
    "    res.encoding='utf-8'\n",
    "\n",
    "    # 完整HTML\n",
    "    html=BeautifulSoup(res.text,'html.parser')\n",
    "\n",
    "    # 新闻对象\n",
    "    result={}\n",
    "\n",
    "    # 新闻标题\n",
    "    result['title']=html.select('.main-title')[0].text\n",
    "\n",
    "    # 发布时间\n",
    "    timesource=html.select('.date-source span')[0].text\n",
    "    createtime=datetime.strptime(timesource,'%Y年%m月%d日 %H:%M')\n",
    "    createtime.strftime('%Y-%m-%d')\n",
    "    result['createtime']=createtime\n",
    "\n",
    "    # 新闻来源\n",
    "    result['place']=html.select('.date-source a')[0].text\n",
    "\n",
    "    # 新闻内容\n",
    "    article=[]\n",
    "    for p in html.select('#article p')[:-1]:\n",
    "        article.append(p.text.strip())\n",
    "    articleText=' '.join(article)\n",
    "    result['article']=articleText\n",
    "\n",
    "    # 新闻作者\n",
    "    result['author']=html.select('.show_author')[0].text.strip('责任编辑：')\n",
    "\n",
    "    # 新闻链接\n",
    "    result['url']=url\n",
    "\n",
    "    return result\n"
   ],
   "metadata": {
    "collapsed": false
   }
  },
  {
   "cell_type": "code",
   "execution_count": 3,
   "outputs": [
    {
     "name": "stdout",
     "output_type": "stream",
     "text": [
      "出现异常\n",
      "出现异常\n",
      "出现异常\n",
      "出现异常\n"
     ]
    },
    {
     "name": "stderr",
     "output_type": "stream",
     "text": [
      "C:\\Users\\87066\\AppData\\Local\\Temp\\ipykernel_8548\\2170335289.py:8: FutureWarning: The frame.append method is deprecated and will be removed from pandas in a future version. Use pandas.concat instead.\n",
      "  resultList=resultList.append(newObj)\n"
     ]
    },
    {
     "name": "stdout",
     "output_type": "stream",
     "text": [
      "0 写入成功\n"
     ]
    },
    {
     "name": "stderr",
     "output_type": "stream",
     "text": [
      "C:\\Users\\87066\\AppData\\Local\\Temp\\ipykernel_8548\\2170335289.py:8: FutureWarning: The frame.append method is deprecated and will be removed from pandas in a future version. Use pandas.concat instead.\n",
      "  resultList=resultList.append(newObj)\n"
     ]
    },
    {
     "name": "stdout",
     "output_type": "stream",
     "text": [
      "1 写入成功\n"
     ]
    },
    {
     "name": "stderr",
     "output_type": "stream",
     "text": [
      "C:\\Users\\87066\\AppData\\Local\\Temp\\ipykernel_8548\\2170335289.py:8: FutureWarning: The frame.append method is deprecated and will be removed from pandas in a future version. Use pandas.concat instead.\n",
      "  resultList=resultList.append(newObj)\n"
     ]
    },
    {
     "name": "stdout",
     "output_type": "stream",
     "text": [
      "2 写入成功\n"
     ]
    },
    {
     "name": "stderr",
     "output_type": "stream",
     "text": [
      "C:\\Users\\87066\\AppData\\Local\\Temp\\ipykernel_8548\\2170335289.py:8: FutureWarning: The frame.append method is deprecated and will be removed from pandas in a future version. Use pandas.concat instead.\n",
      "  resultList=resultList.append(newObj)\n"
     ]
    },
    {
     "name": "stdout",
     "output_type": "stream",
     "text": [
      "3 写入成功\n"
     ]
    },
    {
     "name": "stderr",
     "output_type": "stream",
     "text": [
      "C:\\Users\\87066\\AppData\\Local\\Temp\\ipykernel_8548\\2170335289.py:8: FutureWarning: The frame.append method is deprecated and will be removed from pandas in a future version. Use pandas.concat instead.\n",
      "  resultList=resultList.append(newObj)\n"
     ]
    },
    {
     "name": "stdout",
     "output_type": "stream",
     "text": [
      "4 写入成功\n"
     ]
    },
    {
     "name": "stderr",
     "output_type": "stream",
     "text": [
      "C:\\Users\\87066\\AppData\\Local\\Temp\\ipykernel_8548\\2170335289.py:8: FutureWarning: The frame.append method is deprecated and will be removed from pandas in a future version. Use pandas.concat instead.\n",
      "  resultList=resultList.append(newObj)\n"
     ]
    },
    {
     "name": "stdout",
     "output_type": "stream",
     "text": [
      "5 写入成功\n"
     ]
    },
    {
     "name": "stderr",
     "output_type": "stream",
     "text": [
      "C:\\Users\\87066\\AppData\\Local\\Temp\\ipykernel_8548\\2170335289.py:8: FutureWarning: The frame.append method is deprecated and will be removed from pandas in a future version. Use pandas.concat instead.\n",
      "  resultList=resultList.append(newObj)\n"
     ]
    },
    {
     "name": "stdout",
     "output_type": "stream",
     "text": [
      "6 写入成功\n"
     ]
    },
    {
     "name": "stderr",
     "output_type": "stream",
     "text": [
      "C:\\Users\\87066\\AppData\\Local\\Temp\\ipykernel_8548\\2170335289.py:8: FutureWarning: The frame.append method is deprecated and will be removed from pandas in a future version. Use pandas.concat instead.\n",
      "  resultList=resultList.append(newObj)\n"
     ]
    },
    {
     "name": "stdout",
     "output_type": "stream",
     "text": [
      "7 写入成功\n"
     ]
    },
    {
     "name": "stderr",
     "output_type": "stream",
     "text": [
      "C:\\Users\\87066\\AppData\\Local\\Temp\\ipykernel_8548\\2170335289.py:8: FutureWarning: The frame.append method is deprecated and will be removed from pandas in a future version. Use pandas.concat instead.\n",
      "  resultList=resultList.append(newObj)\n"
     ]
    },
    {
     "name": "stdout",
     "output_type": "stream",
     "text": [
      "8 写入成功\n"
     ]
    },
    {
     "name": "stderr",
     "output_type": "stream",
     "text": [
      "C:\\Users\\87066\\AppData\\Local\\Temp\\ipykernel_8548\\2170335289.py:8: FutureWarning: The frame.append method is deprecated and will be removed from pandas in a future version. Use pandas.concat instead.\n",
      "  resultList=resultList.append(newObj)\n"
     ]
    },
    {
     "name": "stdout",
     "output_type": "stream",
     "text": [
      "9 写入成功\n"
     ]
    },
    {
     "name": "stderr",
     "output_type": "stream",
     "text": [
      "C:\\Users\\87066\\AppData\\Local\\Temp\\ipykernel_8548\\2170335289.py:8: FutureWarning: The frame.append method is deprecated and will be removed from pandas in a future version. Use pandas.concat instead.\n",
      "  resultList=resultList.append(newObj)\n"
     ]
    },
    {
     "name": "stdout",
     "output_type": "stream",
     "text": [
      "10 写入成功\n"
     ]
    },
    {
     "name": "stderr",
     "output_type": "stream",
     "text": [
      "C:\\Users\\87066\\AppData\\Local\\Temp\\ipykernel_8548\\2170335289.py:8: FutureWarning: The frame.append method is deprecated and will be removed from pandas in a future version. Use pandas.concat instead.\n",
      "  resultList=resultList.append(newObj)\n"
     ]
    },
    {
     "name": "stdout",
     "output_type": "stream",
     "text": [
      "11 写入成功\n"
     ]
    },
    {
     "name": "stderr",
     "output_type": "stream",
     "text": [
      "C:\\Users\\87066\\AppData\\Local\\Temp\\ipykernel_8548\\2170335289.py:8: FutureWarning: The frame.append method is deprecated and will be removed from pandas in a future version. Use pandas.concat instead.\n",
      "  resultList=resultList.append(newObj)\n"
     ]
    },
    {
     "name": "stdout",
     "output_type": "stream",
     "text": [
      "12 写入成功\n"
     ]
    },
    {
     "name": "stderr",
     "output_type": "stream",
     "text": [
      "C:\\Users\\87066\\AppData\\Local\\Temp\\ipykernel_8548\\2170335289.py:8: FutureWarning: The frame.append method is deprecated and will be removed from pandas in a future version. Use pandas.concat instead.\n",
      "  resultList=resultList.append(newObj)\n"
     ]
    },
    {
     "name": "stdout",
     "output_type": "stream",
     "text": [
      "13 写入成功\n"
     ]
    },
    {
     "name": "stderr",
     "output_type": "stream",
     "text": [
      "C:\\Users\\87066\\AppData\\Local\\Temp\\ipykernel_8548\\2170335289.py:8: FutureWarning: The frame.append method is deprecated and will be removed from pandas in a future version. Use pandas.concat instead.\n",
      "  resultList=resultList.append(newObj)\n"
     ]
    },
    {
     "name": "stdout",
     "output_type": "stream",
     "text": [
      "14 写入成功\n"
     ]
    },
    {
     "name": "stderr",
     "output_type": "stream",
     "text": [
      "C:\\Users\\87066\\AppData\\Local\\Temp\\ipykernel_8548\\2170335289.py:8: FutureWarning: The frame.append method is deprecated and will be removed from pandas in a future version. Use pandas.concat instead.\n",
      "  resultList=resultList.append(newObj)\n"
     ]
    },
    {
     "name": "stdout",
     "output_type": "stream",
     "text": [
      "15 写入成功\n"
     ]
    },
    {
     "name": "stderr",
     "output_type": "stream",
     "text": [
      "C:\\Users\\87066\\AppData\\Local\\Temp\\ipykernel_8548\\2170335289.py:8: FutureWarning: The frame.append method is deprecated and will be removed from pandas in a future version. Use pandas.concat instead.\n",
      "  resultList=resultList.append(newObj)\n"
     ]
    },
    {
     "name": "stdout",
     "output_type": "stream",
     "text": [
      "16 写入成功\n"
     ]
    },
    {
     "name": "stderr",
     "output_type": "stream",
     "text": [
      "C:\\Users\\87066\\AppData\\Local\\Temp\\ipykernel_8548\\2170335289.py:8: FutureWarning: The frame.append method is deprecated and will be removed from pandas in a future version. Use pandas.concat instead.\n",
      "  resultList=resultList.append(newObj)\n"
     ]
    },
    {
     "name": "stdout",
     "output_type": "stream",
     "text": [
      "17 写入成功\n"
     ]
    },
    {
     "name": "stderr",
     "output_type": "stream",
     "text": [
      "C:\\Users\\87066\\AppData\\Local\\Temp\\ipykernel_8548\\2170335289.py:8: FutureWarning: The frame.append method is deprecated and will be removed from pandas in a future version. Use pandas.concat instead.\n",
      "  resultList=resultList.append(newObj)\n"
     ]
    },
    {
     "name": "stdout",
     "output_type": "stream",
     "text": [
      "18 写入成功\n"
     ]
    },
    {
     "name": "stderr",
     "output_type": "stream",
     "text": [
      "C:\\Users\\87066\\AppData\\Local\\Temp\\ipykernel_8548\\2170335289.py:8: FutureWarning: The frame.append method is deprecated and will be removed from pandas in a future version. Use pandas.concat instead.\n",
      "  resultList=resultList.append(newObj)\n"
     ]
    },
    {
     "name": "stdout",
     "output_type": "stream",
     "text": [
      "19 写入成功\n"
     ]
    },
    {
     "name": "stderr",
     "output_type": "stream",
     "text": [
      "C:\\Users\\87066\\AppData\\Local\\Temp\\ipykernel_8548\\2170335289.py:8: FutureWarning: The frame.append method is deprecated and will be removed from pandas in a future version. Use pandas.concat instead.\n",
      "  resultList=resultList.append(newObj)\n"
     ]
    },
    {
     "name": "stdout",
     "output_type": "stream",
     "text": [
      "20 写入成功\n"
     ]
    },
    {
     "name": "stderr",
     "output_type": "stream",
     "text": [
      "C:\\Users\\87066\\AppData\\Local\\Temp\\ipykernel_8548\\2170335289.py:8: FutureWarning: The frame.append method is deprecated and will be removed from pandas in a future version. Use pandas.concat instead.\n",
      "  resultList=resultList.append(newObj)\n"
     ]
    },
    {
     "name": "stdout",
     "output_type": "stream",
     "text": [
      "21 写入成功\n",
      "22 出现异常:  list index out of range\n",
      "23 出现异常:  list index out of range\n",
      "24 出现异常:  list index out of range\n",
      "25 出现异常:  list index out of range\n",
      "26 出现异常:  list index out of range\n",
      "27 出现异常:  list index out of range\n",
      "28 出现异常:  list index out of range\n",
      "29 出现异常:  list index out of range\n",
      "30 出现异常:  list index out of range\n",
      "31 出现异常:  list index out of range\n",
      "32 出现异常:  list index out of range\n",
      "33 出现异常:  list index out of range\n",
      "34 出现异常:  list index out of range\n",
      "35 出现异常:  list index out of range\n",
      "36 出现异常:  list index out of range\n",
      "37 出现异常:  list index out of range\n",
      "38 出现异常:  list index out of range\n",
      "39 出现异常:  list index out of range\n",
      "40 出现异常:  list index out of range\n",
      "41 出现异常:  list index out of range\n",
      "42 出现异常:  list index out of range\n",
      "43 出现异常:  list index out of range\n",
      "44 出现异常:  list index out of range\n",
      "45 出现异常:  list index out of range\n",
      "46 出现异常:  list index out of range\n",
      "47 出现异常:  list index out of range\n",
      "48 出现异常:  list index out of range\n",
      "49 出现异常:  list index out of range\n",
      "50 出现异常:  list index out of range\n",
      "51 出现异常:  list index out of range\n",
      "52 出现异常:  list index out of range\n",
      "53 出现异常:  list index out of range\n",
      "54 出现异常:  list index out of range\n",
      "55 出现异常:  list index out of range\n",
      "56 出现异常:  list index out of range\n",
      "57 出现异常:  list index out of range\n",
      "58 出现异常:  list index out of range\n",
      "59 出现异常:  list index out of range\n",
      "60 出现异常:  list index out of range\n",
      "61 出现异常:  list index out of range\n",
      "62 出现异常:  list index out of range\n",
      "63 出现异常:  list index out of range\n",
      "64 出现异常:  list index out of range\n",
      "65 出现异常:  list index out of range\n",
      "66 出现异常:  list index out of range\n",
      "67 出现异常:  list index out of range\n",
      "68 出现异常:  list index out of range\n",
      "69 出现异常:  list index out of range\n",
      "70 出现异常:  list index out of range\n",
      "71 出现异常:  list index out of range\n",
      "72 出现异常:  list index out of range\n",
      "73 出现异常:  list index out of range\n",
      "74 出现异常:  list index out of range\n",
      "75 出现异常:  list index out of range\n",
      "76 出现异常:  list index out of range\n",
      "77 出现异常:  list index out of range\n",
      "78 出现异常:  list index out of range\n",
      "79 出现异常:  list index out of range\n",
      "80 出现异常:  list index out of range\n",
      "81 出现异常:  list index out of range\n"
     ]
    },
    {
     "data": {
      "text/plain": "                          title          createtime    place  \\\n0         英国国王查尔斯三世加冕仪式将于5月6日举行 2023-05-06 00:28:00      央视网   \n0      美国银行业危机持续发酵 又一家美国银行要被关闭？ 2023-05-05 23:41:00      央视网   \n0           拳脚相向！国际会议上，俄乌代表发生冲突 2023-05-05 12:08:00    上游新闻    \n0    美媒：美国银行业危机持续 近190家银行面临倒闭风险 2023-05-05 08:07:00      海外网   \n0       停赛、停训、停薪！梅西被“三停”，铁定离巴黎？ 2023-05-05 06:41:00      环球网   \n0       俄罗斯在莫斯科红场举行胜利日阅兵第二次夜间彩排 2023-05-05 03:00:00      央视网   \n0    环球时报社评：CIA再次坐实美国“世界最大乱源”名号 2023-05-04 23:24:00     环球时报   \n0      克宫遭无人机袭击后 俄方最可能的报复方法是什么？ 2023-05-04 21:51:00      环球网   \n0               天文学家首次观测到恒星吞噬行星 2023-05-04 17:58:00  北京日报客户端   \n0        CIA被指网络攻击他国，外交部：值得高度警惕 2023-05-04 15:29:00  北京日报客户端   \n0  伦敦警方拟在查尔斯加冕礼上使用面部识别技术，引发外界担忧 2023-05-04 15:26:00      环球网   \n0        叙利亚爆发内战以来首次，伊朗总统对叙开展访问 2023-05-04 15:15:00      新京报   \n0                谁是“袭击普京”的幕后黑手？ 2023-05-04 15:08:00   中国新闻周刊   \n0        70年来首次！英国指望查尔斯加冕典礼提振经济 2023-05-04 09:31:00      新京报   \n0            东部战区空军航空兵开展跨昼夜飞行训练 2023-05-04 06:37:00  北京日报客户端   \n0               媚美亲日反华，尹锡悦外交遭批！ 2023-05-04 06:31:00      环球网   \n0            阿贾伊·班加将出任新一任世界银行行长 2023-05-03 23:35:00      央视网   \n0      世界多国加速“去美元化” 美元储备货币地位难保？ 2023-05-03 01:37:00      央视网   \n0       韩国学者：韩美所谓“延伸威慑”刺激地区局势紧张 2023-05-02 01:00:00      央视网   \n0          俄罗斯一地突发爆炸！现场发现多个爆炸装置 2023-05-01 23:51:00      环球网   \n0        伊朗外交部：伊朗驻沙特阿拉伯使领馆已恢复工作 2023-05-01 23:49:00      新华网   \n0          岸田访非“愿望清单”不短，实现难度也不小 2023-05-01 18:51:00   新浪新闻综合   \n\n                                             article author  \\\n0  英国国王查尔斯三世加冕仪式将于5月6日在英国首都伦敦威斯敏斯特大教堂举行。这将是英国王室70...   刘光博    \n0  近来美国银行业危机持续蔓延。在摩根大通本月1日宣布接手被关闭的美国第一共和银行之后，美国区域...   刘光博    \n0  参考消息网消息 据俄罗斯卫星社5月4日报道，据俄罗斯代表团方面的消息人士透露，黑海经济合作组...    张迪    \n0  海外网5月5日电美国第一共和银行5月初因资金链断裂被关闭，成为两个月来被关闭的第三家美国区域...    张迪    \n0  [环球时报综合报道]“俱乐部必须解雇梅西！”据法新社4日报道，数百名巴黎圣日耳曼球迷聚集在俱...   刘光博    \n0  当地时间5月4日晚间，俄罗斯在莫斯科红场举行纪念卫国战争胜利78周年阅兵的第二次夜间彩排。这...   刘光博    \n0  中国国家病毒应急中心和360公司5月4日联合发布了一份调查报告，披露了美国中央情报局（CIA...   刘光博    \n0  [环球时报-环球网报道 记者 白云怡 陈青青]北京时间5月3日晚间，俄罗斯克里姆林宫新闻局发...    张迪    \n0  恒星进入老年阶段后会膨胀为红巨星，吞噬掉其“扩张”之路上遇到的任何物质，包括行星。美国科学家...   刘德宾    \n0  5月4日，外交部发言人毛宁主持例行会。 有记者提问，5月4日，中国国家计算机病毒应急处理中心...   刘德宾    \n0  当地时间5月6日，英国国王查尔斯三世将在伦敦威斯敏斯特大教堂加冕，届时伦敦警察局将进行英国历...   刘德宾    \n0  新京报讯（记者朱月红）据路透社报道，当地时间5月3日，伊朗总统易卜拉欣·莱希率团对叙利亚进行...   刘德宾    \n0  “袭击普京”之后，是“袭击泽连斯基”？ 夜色中，一个不明物体迅速飞向克里姆林宫参议院大楼的圆...   刘德宾    \n0  据路透社5月3日报道，英国国王查尔斯三世的加冕典礼将于5月6日举行。典礼组织者和白金汉宫方面...    张迪    \n0  近日，东部战区空军航空兵某旅组织开展多课目、多批次的跨昼夜飞行训练，提升部队全时作战能力，全...   刘光博    \n0  [环球时报驻韩国特约记者 林森 环球时报记者 邢晓婧 环球时报特约记者柳玉鹏]“尹锡悦在白宫...   刘光博    \n0  当地时间5月3日，世界银行执行董事会批准万事达卡公司前首席执行官阿贾伊·班加（Ajay Ba...   刘光博    \n0  近年来，美国滥用美元霸权，加剧世界经济风险。对此，多国纷纷通过减持美债、推动双边货币协议和外...   刘光博    \n0  连日来韩美首脑会晤、韩美加强对朝遏制等消息引发韩国和国际舆论的担忧和批评。 首尔传媒大学院客...   刘光博    \n0  据俄罗斯《真理报》1日报道，俄罗斯列宁格勒州一座高压电塔被炸毁，另一座电塔上也发现了一个爆炸...   刘光博    \n0  新华社德黑兰5月1日电（记者沙达提）伊朗外交部发言人卡纳尼5月1日说，伊朗驻沙特阿拉伯利雅得...   刘光博    \n0  来源：深海区 即使是日本媒体，对于岸田的努力也并不看好：无论是乌克兰问题，还是遏制中俄，岸田...    张玉    \n\n                                                 url  \n0  https://news.sina.com.cn/w/2023-05-06/doc-imys...  \n0  https://news.sina.com.cn/w/2023-05-05/doc-imys...  \n0  https://news.sina.com.cn/w/2023-05-05/doc-imys...  \n0  https://news.sina.com.cn/w/2023-05-05/doc-imys...  \n0  https://news.sina.com.cn/w/2023-05-05/doc-imys...  \n0  https://news.sina.com.cn/w/2023-05-05/doc-imys...  \n0  https://news.sina.com.cn/w/2023-05-04/doc-imys...  \n0  https://news.sina.com.cn/w/2023-05-05/doc-imys...  \n0  https://news.sina.com.cn/o/2023-05-04/doc-imys...  \n0  https://news.sina.com.cn/o/2023-05-04/doc-imys...  \n0  https://news.sina.com.cn/w/2023-05-04/doc-imys...  \n0  https://news.sina.com.cn/w/2023-05-04/doc-imys...  \n0  https://news.sina.com.cn/w/2023-05-04/doc-imys...  \n0  https://news.sina.com.cn/w/2023-05-04/doc-imys...  \n0  https://news.sina.com.cn/o/2023-05-04/doc-imys...  \n0  https://news.sina.com.cn/w/2023-05-04/doc-imys...  \n0  https://news.sina.com.cn/w/2023-05-04/doc-imys...  \n0  https://news.sina.com.cn/w/2023-05-03/doc-imys...  \n0  https://news.sina.com.cn/w/2023-05-02/doc-imys...  \n0  https://news.sina.com.cn/w/2023-05-02/doc-imys...  \n0  https://news.sina.com.cn/w/2023-05-01/doc-imys...  \n0  https://news.sina.com.cn/w/2023-05-01/doc-imys...  ",
      "text/html": "<div>\n<style scoped>\n    .dataframe tbody tr th:only-of-type {\n        vertical-align: middle;\n    }\n\n    .dataframe tbody tr th {\n        vertical-align: top;\n    }\n\n    .dataframe thead th {\n        text-align: right;\n    }\n</style>\n<table border=\"1\" class=\"dataframe\">\n  <thead>\n    <tr style=\"text-align: right;\">\n      <th></th>\n      <th>title</th>\n      <th>createtime</th>\n      <th>place</th>\n      <th>article</th>\n      <th>author</th>\n      <th>url</th>\n    </tr>\n  </thead>\n  <tbody>\n    <tr>\n      <th>0</th>\n      <td>英国国王查尔斯三世加冕仪式将于5月6日举行</td>\n      <td>2023-05-06 00:28:00</td>\n      <td>央视网</td>\n      <td>英国国王查尔斯三世加冕仪式将于5月6日在英国首都伦敦威斯敏斯特大教堂举行。这将是英国王室70...</td>\n      <td>刘光博</td>\n      <td>https://news.sina.com.cn/w/2023-05-06/doc-imys...</td>\n    </tr>\n    <tr>\n      <th>0</th>\n      <td>美国银行业危机持续发酵 又一家美国银行要被关闭？</td>\n      <td>2023-05-05 23:41:00</td>\n      <td>央视网</td>\n      <td>近来美国银行业危机持续蔓延。在摩根大通本月1日宣布接手被关闭的美国第一共和银行之后，美国区域...</td>\n      <td>刘光博</td>\n      <td>https://news.sina.com.cn/w/2023-05-05/doc-imys...</td>\n    </tr>\n    <tr>\n      <th>0</th>\n      <td>拳脚相向！国际会议上，俄乌代表发生冲突</td>\n      <td>2023-05-05 12:08:00</td>\n      <td>上游新闻</td>\n      <td>参考消息网消息 据俄罗斯卫星社5月4日报道，据俄罗斯代表团方面的消息人士透露，黑海经济合作组...</td>\n      <td>张迪</td>\n      <td>https://news.sina.com.cn/w/2023-05-05/doc-imys...</td>\n    </tr>\n    <tr>\n      <th>0</th>\n      <td>美媒：美国银行业危机持续 近190家银行面临倒闭风险</td>\n      <td>2023-05-05 08:07:00</td>\n      <td>海外网</td>\n      <td>海外网5月5日电美国第一共和银行5月初因资金链断裂被关闭，成为两个月来被关闭的第三家美国区域...</td>\n      <td>张迪</td>\n      <td>https://news.sina.com.cn/w/2023-05-05/doc-imys...</td>\n    </tr>\n    <tr>\n      <th>0</th>\n      <td>停赛、停训、停薪！梅西被“三停”，铁定离巴黎？</td>\n      <td>2023-05-05 06:41:00</td>\n      <td>环球网</td>\n      <td>[环球时报综合报道]“俱乐部必须解雇梅西！”据法新社4日报道，数百名巴黎圣日耳曼球迷聚集在俱...</td>\n      <td>刘光博</td>\n      <td>https://news.sina.com.cn/w/2023-05-05/doc-imys...</td>\n    </tr>\n    <tr>\n      <th>0</th>\n      <td>俄罗斯在莫斯科红场举行胜利日阅兵第二次夜间彩排</td>\n      <td>2023-05-05 03:00:00</td>\n      <td>央视网</td>\n      <td>当地时间5月4日晚间，俄罗斯在莫斯科红场举行纪念卫国战争胜利78周年阅兵的第二次夜间彩排。这...</td>\n      <td>刘光博</td>\n      <td>https://news.sina.com.cn/w/2023-05-05/doc-imys...</td>\n    </tr>\n    <tr>\n      <th>0</th>\n      <td>环球时报社评：CIA再次坐实美国“世界最大乱源”名号</td>\n      <td>2023-05-04 23:24:00</td>\n      <td>环球时报</td>\n      <td>中国国家病毒应急中心和360公司5月4日联合发布了一份调查报告，披露了美国中央情报局（CIA...</td>\n      <td>刘光博</td>\n      <td>https://news.sina.com.cn/w/2023-05-04/doc-imys...</td>\n    </tr>\n    <tr>\n      <th>0</th>\n      <td>克宫遭无人机袭击后 俄方最可能的报复方法是什么？</td>\n      <td>2023-05-04 21:51:00</td>\n      <td>环球网</td>\n      <td>[环球时报-环球网报道 记者 白云怡 陈青青]北京时间5月3日晚间，俄罗斯克里姆林宫新闻局发...</td>\n      <td>张迪</td>\n      <td>https://news.sina.com.cn/w/2023-05-05/doc-imys...</td>\n    </tr>\n    <tr>\n      <th>0</th>\n      <td>天文学家首次观测到恒星吞噬行星</td>\n      <td>2023-05-04 17:58:00</td>\n      <td>北京日报客户端</td>\n      <td>恒星进入老年阶段后会膨胀为红巨星，吞噬掉其“扩张”之路上遇到的任何物质，包括行星。美国科学家...</td>\n      <td>刘德宾</td>\n      <td>https://news.sina.com.cn/o/2023-05-04/doc-imys...</td>\n    </tr>\n    <tr>\n      <th>0</th>\n      <td>CIA被指网络攻击他国，外交部：值得高度警惕</td>\n      <td>2023-05-04 15:29:00</td>\n      <td>北京日报客户端</td>\n      <td>5月4日，外交部发言人毛宁主持例行会。 有记者提问，5月4日，中国国家计算机病毒应急处理中心...</td>\n      <td>刘德宾</td>\n      <td>https://news.sina.com.cn/o/2023-05-04/doc-imys...</td>\n    </tr>\n    <tr>\n      <th>0</th>\n      <td>伦敦警方拟在查尔斯加冕礼上使用面部识别技术，引发外界担忧</td>\n      <td>2023-05-04 15:26:00</td>\n      <td>环球网</td>\n      <td>当地时间5月6日，英国国王查尔斯三世将在伦敦威斯敏斯特大教堂加冕，届时伦敦警察局将进行英国历...</td>\n      <td>刘德宾</td>\n      <td>https://news.sina.com.cn/w/2023-05-04/doc-imys...</td>\n    </tr>\n    <tr>\n      <th>0</th>\n      <td>叙利亚爆发内战以来首次，伊朗总统对叙开展访问</td>\n      <td>2023-05-04 15:15:00</td>\n      <td>新京报</td>\n      <td>新京报讯（记者朱月红）据路透社报道，当地时间5月3日，伊朗总统易卜拉欣·莱希率团对叙利亚进行...</td>\n      <td>刘德宾</td>\n      <td>https://news.sina.com.cn/w/2023-05-04/doc-imys...</td>\n    </tr>\n    <tr>\n      <th>0</th>\n      <td>谁是“袭击普京”的幕后黑手？</td>\n      <td>2023-05-04 15:08:00</td>\n      <td>中国新闻周刊</td>\n      <td>“袭击普京”之后，是“袭击泽连斯基”？ 夜色中，一个不明物体迅速飞向克里姆林宫参议院大楼的圆...</td>\n      <td>刘德宾</td>\n      <td>https://news.sina.com.cn/w/2023-05-04/doc-imys...</td>\n    </tr>\n    <tr>\n      <th>0</th>\n      <td>70年来首次！英国指望查尔斯加冕典礼提振经济</td>\n      <td>2023-05-04 09:31:00</td>\n      <td>新京报</td>\n      <td>据路透社5月3日报道，英国国王查尔斯三世的加冕典礼将于5月6日举行。典礼组织者和白金汉宫方面...</td>\n      <td>张迪</td>\n      <td>https://news.sina.com.cn/w/2023-05-04/doc-imys...</td>\n    </tr>\n    <tr>\n      <th>0</th>\n      <td>东部战区空军航空兵开展跨昼夜飞行训练</td>\n      <td>2023-05-04 06:37:00</td>\n      <td>北京日报客户端</td>\n      <td>近日，东部战区空军航空兵某旅组织开展多课目、多批次的跨昼夜飞行训练，提升部队全时作战能力，全...</td>\n      <td>刘光博</td>\n      <td>https://news.sina.com.cn/o/2023-05-04/doc-imys...</td>\n    </tr>\n    <tr>\n      <th>0</th>\n      <td>媚美亲日反华，尹锡悦外交遭批！</td>\n      <td>2023-05-04 06:31:00</td>\n      <td>环球网</td>\n      <td>[环球时报驻韩国特约记者 林森 环球时报记者 邢晓婧 环球时报特约记者柳玉鹏]“尹锡悦在白宫...</td>\n      <td>刘光博</td>\n      <td>https://news.sina.com.cn/w/2023-05-04/doc-imys...</td>\n    </tr>\n    <tr>\n      <th>0</th>\n      <td>阿贾伊·班加将出任新一任世界银行行长</td>\n      <td>2023-05-03 23:35:00</td>\n      <td>央视网</td>\n      <td>当地时间5月3日，世界银行执行董事会批准万事达卡公司前首席执行官阿贾伊·班加（Ajay Ba...</td>\n      <td>刘光博</td>\n      <td>https://news.sina.com.cn/w/2023-05-04/doc-imys...</td>\n    </tr>\n    <tr>\n      <th>0</th>\n      <td>世界多国加速“去美元化” 美元储备货币地位难保？</td>\n      <td>2023-05-03 01:37:00</td>\n      <td>央视网</td>\n      <td>近年来，美国滥用美元霸权，加剧世界经济风险。对此，多国纷纷通过减持美债、推动双边货币协议和外...</td>\n      <td>刘光博</td>\n      <td>https://news.sina.com.cn/w/2023-05-03/doc-imys...</td>\n    </tr>\n    <tr>\n      <th>0</th>\n      <td>韩国学者：韩美所谓“延伸威慑”刺激地区局势紧张</td>\n      <td>2023-05-02 01:00:00</td>\n      <td>央视网</td>\n      <td>连日来韩美首脑会晤、韩美加强对朝遏制等消息引发韩国和国际舆论的担忧和批评。 首尔传媒大学院客...</td>\n      <td>刘光博</td>\n      <td>https://news.sina.com.cn/w/2023-05-02/doc-imys...</td>\n    </tr>\n    <tr>\n      <th>0</th>\n      <td>俄罗斯一地突发爆炸！现场发现多个爆炸装置</td>\n      <td>2023-05-01 23:51:00</td>\n      <td>环球网</td>\n      <td>据俄罗斯《真理报》1日报道，俄罗斯列宁格勒州一座高压电塔被炸毁，另一座电塔上也发现了一个爆炸...</td>\n      <td>刘光博</td>\n      <td>https://news.sina.com.cn/w/2023-05-02/doc-imys...</td>\n    </tr>\n    <tr>\n      <th>0</th>\n      <td>伊朗外交部：伊朗驻沙特阿拉伯使领馆已恢复工作</td>\n      <td>2023-05-01 23:49:00</td>\n      <td>新华网</td>\n      <td>新华社德黑兰5月1日电（记者沙达提）伊朗外交部发言人卡纳尼5月1日说，伊朗驻沙特阿拉伯利雅得...</td>\n      <td>刘光博</td>\n      <td>https://news.sina.com.cn/w/2023-05-01/doc-imys...</td>\n    </tr>\n    <tr>\n      <th>0</th>\n      <td>岸田访非“愿望清单”不短，实现难度也不小</td>\n      <td>2023-05-01 18:51:00</td>\n      <td>新浪新闻综合</td>\n      <td>来源：深海区 即使是日本媒体，对于岸田的努力也并不看好：无论是乌克兰问题，还是遏制中俄，岸田...</td>\n      <td>张玉</td>\n      <td>https://news.sina.com.cn/w/2023-05-01/doc-imys...</td>\n    </tr>\n  </tbody>\n</table>\n</div>"
     },
     "execution_count": 3,
     "metadata": {},
     "output_type": "execute_result"
    }
   ],
   "source": [
    "newList=get_list('https://news.sina.com.cn/world/')\n",
    "resultList=pd.DataFrame()\n",
    "\n",
    "for i,item in enumerate(newList):\n",
    "    try:\n",
    "        result=get_HtmlDetail_Sina(item['url'])\n",
    "        newObj=pd.DataFrame(result,index=[0])\n",
    "        resultList=resultList.append(newObj)\n",
    "        print (str(i),'写入成功')\n",
    "    except BaseException as err:\n",
    "        print (str(i),'出现异常: ',err)\n",
    "\n",
    "resultList.to_csv(\"newsData/test.csv\",header=resultList.columns)\n",
    "resultList"
   ],
   "metadata": {
    "collapsed": false
   }
  },
  {
   "cell_type": "code",
   "execution_count": 3,
   "outputs": [],
   "source": [],
   "metadata": {
    "collapsed": false
   }
  }
 ],
 "metadata": {
  "kernelspec": {
   "display_name": "Python 3",
   "language": "python",
   "name": "python3"
  },
  "language_info": {
   "codemirror_mode": {
    "name": "ipython",
    "version": 2
   },
   "file_extension": ".py",
   "mimetype": "text/x-python",
   "name": "python",
   "nbconvert_exporter": "python",
   "pygments_lexer": "ipython2",
   "version": "2.7.6"
  }
 },
 "nbformat": 4,
 "nbformat_minor": 0
}
