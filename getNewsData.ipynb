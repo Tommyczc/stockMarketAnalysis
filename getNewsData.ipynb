{
 "cells": [
  {
   "cell_type": "markdown",
   "source": [
    "# 1.0 Get the raw news information\n",
    "* 本篇代码用来获取相关公司的新闻文本\n",
    "*"
   ],
   "metadata": {
    "collapsed": false
   }
  },
  {
   "cell_type": "code",
   "execution_count": 1,
   "outputs": [],
   "source": [
    "import requests\n",
    "import time\n",
    "from bs4 import BeautifulSoup\n",
    "import wordcloud"
   ],
   "metadata": {
    "collapsed": false,
    "ExecuteTime": {
     "end_time": "2023-05-09T10:09:03.456983400Z",
     "start_time": "2023-05-09T10:09:02.781694600Z"
    }
   }
  },
  {
   "cell_type": "code",
   "execution_count": 2,
   "outputs": [
    {
     "ename": "IndexError",
     "evalue": "list index out of range",
     "output_type": "error",
     "traceback": [
      "\u001B[1;31m---------------------------------------------------------------------------\u001B[0m",
      "\u001B[1;31mIndexError\u001B[0m                                Traceback (most recent call last)",
      "Cell \u001B[1;32mIn[2], line 10\u001B[0m\n\u001B[0;32m      8\u001B[0m soup \u001B[38;5;241m=\u001B[39m BeautifulSoup(temp,\u001B[38;5;124m'\u001B[39m\u001B[38;5;124mhtml.parser\u001B[39m\u001B[38;5;124m'\u001B[39m)\n\u001B[0;32m      9\u001B[0m \u001B[38;5;66;03m#查找新闻所在的div快，目前这一块的代码很粗糙，后续可以优化。\u001B[39;00m\n\u001B[1;32m---> 10\u001B[0m div \u001B[38;5;241m=\u001B[39m \u001B[43msoup\u001B[49m\u001B[38;5;241;43m.\u001B[39;49m\u001B[43mfind_all\u001B[49m\u001B[43m(\u001B[49m\u001B[38;5;124;43m'\u001B[39;49m\u001B[38;5;124;43mdiv\u001B[39;49m\u001B[38;5;124;43m'\u001B[39;49m\u001B[43m,\u001B[49m\u001B[43mattrs\u001B[49m\u001B[38;5;241;43m=\u001B[39;49m\u001B[43m{\u001B[49m\u001B[38;5;124;43m\"\u001B[39;49m\u001B[38;5;124;43mclass\u001B[39;49m\u001B[38;5;124;43m\"\u001B[39;49m\u001B[43m:\u001B[49m\u001B[38;5;124;43m\"\u001B[39;49m\u001B[38;5;124;43mcntn-wrp artl-cnt\u001B[39;49m\u001B[38;5;124;43m\"\u001B[39;49m\u001B[43m}\u001B[49m\u001B[43m)\u001B[49m\u001B[43m[\u001B[49m\u001B[38;5;241;43m0\u001B[39;49m\u001B[43m]\u001B[49m\n\u001B[0;32m     11\u001B[0m \u001B[38;5;66;03m#创建两个列表，用来接收新闻并输出到本地\u001B[39;00m\n\u001B[0;32m     12\u001B[0m zy \u001B[38;5;241m=\u001B[39m []\n",
      "\u001B[1;31mIndexError\u001B[0m: list index out of range"
     ]
    }
   ],
   "source": [
    "#也可以直接修改 %d为指定日期 获取相应的新闻稿\n",
    "date = time.strftime(\"%Y年%#m月%d日\")\n",
    "#根据日期获取url\n",
    "url = \"http://mrxwlb.com/\" + date +'新闻联播文字版/amp'\n",
    "#网页爬取\n",
    "r = requests.get(url)\n",
    "temp = r.text\n",
    "soup = BeautifulSoup(temp,'html.parser')\n",
    "#查找新闻所在的div快，目前这一块的代码很粗糙，后续可以优化。\n",
    "div = soup.find_all('div',attrs={\"class\":\"cntn-wrp artl-cnt\"})[0]\n",
    "#创建两个列表，用来接收新闻并输出到本地\n",
    "zy = []\n",
    "qw = []\n",
    "#输出新闻摘要\n",
    "for i in range(len(div.find_all('li'))):\n",
    "    zy.append(div.find_all('li')[i].string)\n",
    "\n",
    "#输出新闻全文\n",
    "for i in range(len(div.find_all('p'))):\n",
    "    qw.append(div.find_all('p')[i].string)\n",
    "\n",
    "#保存到本地\n",
    "fo = open(date+\"摘要.txt\",'w',encoding='utf-8')\n",
    "for i in zy:\n",
    "    fo.write(str(i)+\"\\n\")\n",
    "# fo.writelines(str(zy))\n",
    "fo.close()\n",
    "\n",
    "ko = open(date+\"全文.txt\",'w',encoding='utf-8')\n",
    "for i in qw:\n",
    "    ko.write(str(i)+\"\\n\")\n",
    "# ko.writelines(str(qw))\n",
    "ko.close()\n",
    "\n",
    "#生成词云\n",
    "ima = wordcloud.WordCloud(font_path='msyh.ttc',height = 800,width=1000)\n",
    "ima.generate(str(qw))\n",
    "ima.to_file(date+\"新闻联播词云.png\")\n",
    "\n",
    "print(\"Done!\")"
   ],
   "metadata": {
    "collapsed": false,
    "ExecuteTime": {
     "end_time": "2023-05-09T10:09:16.646444700Z",
     "start_time": "2023-05-09T10:09:03.462967400Z"
    }
   }
  },
  {
   "cell_type": "code",
   "execution_count": null,
   "outputs": [],
   "source": [],
   "metadata": {
    "collapsed": false
   }
  }
 ],
 "metadata": {
  "kernelspec": {
   "display_name": "Python 3",
   "language": "python",
   "name": "python3"
  },
  "language_info": {
   "codemirror_mode": {
    "name": "ipython",
    "version": 2
   },
   "file_extension": ".py",
   "mimetype": "text/x-python",
   "name": "python",
   "nbconvert_exporter": "python",
   "pygments_lexer": "ipython2",
   "version": "2.7.6"
  }
 },
 "nbformat": 4,
 "nbformat_minor": 0
}
