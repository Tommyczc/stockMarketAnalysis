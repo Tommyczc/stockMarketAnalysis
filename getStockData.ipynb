{
 "cells": [
  {
   "cell_type": "markdown",
   "source": [
    "# 1.0 Get Data Of Stock Market\n",
    "\n",
    "* 本篇代码用来查询所有股票数据，所有导出的数据都将导出到stockdata文件夹内，方便管理查看。\n",
    "* 平台api方面，国内用tushare，国外用的雅虎。\n",
    "* 本篇代码也计划用来做数据清洗并且数据展示，处理好的文件也存在stockdata文件夹里面。"
   ],
   "metadata": {
    "collapsed": false
   }
  },
  {
   "cell_type": "code",
   "execution_count": 1,
   "outputs": [
    {
     "name": "stdout",
     "output_type": "stream",
     "text": [
      "Hello,stock market\n",
      "Load Time:  0:00:00.600394\n"
     ]
    }
   ],
   "source": [
    "print(\"Hello,stock market\")\n",
    "from datetime import datetime\n",
    "start_time = datetime.now()\n",
    "import time\n",
    "import numpy as np\n",
    "## todo: calculating the time of import libraries\n",
    "#先引入后面分析、可视化等可能用到的库\n",
    "import tushare as ts\n",
    "import pandas as pd\n",
    "import matplotlib.pyplot as plt\n",
    "#正常显示画图时出现的中文和负号\n",
    "from pylab import mpl\n",
    "import yfinance as yf\n",
    "import matplotlib.dates as mdates\n",
    "import seaborn as sns\n",
    "# todo: solve chinese problem for plt\n",
    "mpl.rcParams['font.sans-serif']=['SimHei']\n",
    "mpl.rcParams['axes.unicode_minus']=False\n",
    "\n",
    "#显示所有列\n",
    "# pd.set_option('display.max_columns', 100)\n",
    "# #显示所有行\n",
    "# pd.set_option('display.max_rows', 100)\n",
    "# #设置value的显示长度为100，默认为50\n",
    "# pd.set_option('max_colwidth',100)\n",
    "print(\"Load Time: \",datetime.now()-start_time)"
   ],
   "metadata": {
    "collapsed": false,
    "ExecuteTime": {
     "end_time": "2023-05-16T08:24:43.523054300Z",
     "start_time": "2023-05-16T08:24:42.909694Z"
    }
   }
  },
  {
   "cell_type": "markdown",
   "source": [
    "## 1.1 use tushare api get data"
   ],
   "metadata": {
    "collapsed": false
   }
  },
  {
   "cell_type": "code",
   "execution_count": 2,
   "outputs": [],
   "source": [
    "# login tushare, use token\n",
    "pro = ts.pro_api('f7b384108cbed0026a4dfa35835f75b0fb9d04673a067e8b75d8810f')\n",
    "\n",
    "\n",
    "def getStockCompanyInformation(status='L', stock_code=''):\n",
    "    \"\"\"\n",
    "    得到目前所有的股票公司信息\n",
    "    :param status: 上市状态 L上市 D退市 P暂停上市，默认是L\n",
    "    :param stock_code: TS股票代码\n",
    "    :return:\n",
    "    \"\"\"\n",
    "\n",
    "    if stock_code== '':\n",
    "        rawStockCompanyDataInTushare = pro.stock_basic(exchange='', list_status=status, fields='ts_code,symbol,fullname,enname,name,area,industry,list_date')\n",
    "    else:\n",
    "        rawStockCompanyDataInTushare = pro.stock_basic(ts_code=stock_code, exchange='', list_status=status, fields='ts_code,symbol,fullname,enname,name,area,industry,list_date')\n",
    "\n",
    "    rawStockCompanyDataInTushare['ts_code']=rawStockCompanyDataInTushare['ts_code'].astype(str)\n",
    "    rawStockCompanyDataInTushare['symbol']=rawStockCompanyDataInTushare['symbol'].astype('float64')\n",
    "    rawStockCompanyDataInTushare['name']=rawStockCompanyDataInTushare['name'].astype(str)\n",
    "    rawStockCompanyDataInTushare['area']=rawStockCompanyDataInTushare['area'].astype(str)\n",
    "    rawStockCompanyDataInTushare['industry']=rawStockCompanyDataInTushare['industry'].astype(str)\n",
    "    rawStockCompanyDataInTushare['fullname']=rawStockCompanyDataInTushare['fullname'].astype(str)\n",
    "    rawStockCompanyDataInTushare['enname']=rawStockCompanyDataInTushare['enname'].astype(str)\n",
    "    rawStockCompanyDataInTushare['list_date']=rawStockCompanyDataInTushare['list_date'].astype('float64')\n",
    "\n",
    "    rawStockCompanyDataInTushare['list_date']=pd.to_datetime(rawStockCompanyDataInTushare['list_date'], format='%Y%m%d')\n",
    "    return rawStockCompanyDataInTushare\n",
    "\n",
    "\n",
    "# 拉取数据\n",
    "def getDailyStockData(stock_code=\"\",start=\"20130101\",end=\"20230101\"):\n",
    "    \"\"\"\n",
    "    拉取股票日结交易信息，时间段默认 2018-1-1 到 2022-1-1，注意：该函数单次只能查询6000条记录。\n",
    "    :param stock_code: 股票代码，默认为空，输入为空的时候，拉取这段时期所有股票的交易消息；若不为空，拉去这只股票这段时间的交易消息\n",
    "    :param start: 开始日期\n",
    "    :param end: 结束日期\n",
    "    :return:\n",
    "    \"\"\"\n",
    "    rawData = pro.daily(**{\n",
    "        \"ts_code\": stock_code,\n",
    "        \"trade_date\": \"\",\n",
    "        \"start_date\": start,\n",
    "        \"end_date\": end,\n",
    "        \"offset\": \"\",\n",
    "        \"limit\": \"\",\n",
    "    }, fields=[\n",
    "        \"ts_code\",\n",
    "        \"trade_date\",\n",
    "        \"open\",\n",
    "        \"high\",\n",
    "        \"low\",\n",
    "        \"close\",\n",
    "        \"pre_close\",\n",
    "        \"change\",\n",
    "        \"pct_chg\",\n",
    "        \"vol\",\n",
    "        \"amount\"\n",
    "    ])\n",
    "    rawData['ts_code']=rawData['ts_code'].astype(str)\n",
    "    rawData['trade_date']=rawData['trade_date'].astype('float64')\n",
    "\n",
    "    rawData['trade_date']=pd.to_datetime(rawData['trade_date'], format='%Y%m%d')\n",
    "    return rawData\n"
   ],
   "metadata": {
    "collapsed": false,
    "ExecuteTime": {
     "end_time": "2023-05-16T08:24:43.543001Z",
     "start_time": "2023-05-16T08:24:43.521059400Z"
    }
   }
  },
  {
   "cell_type": "code",
   "execution_count": 3,
   "outputs": [
    {
     "name": "stdout",
     "output_type": "stream",
     "text": [
      "The shape of the data frame: (5176, 8)\n",
      "The types in the data frame ts_code              object\n",
      "symbol              float64\n",
      "name                 object\n",
      "area                 object\n",
      "industry             object\n",
      "fullname             object\n",
      "enname               object\n",
      "list_date    datetime64[ns]\n",
      "dtype: object\n"
     ]
    },
    {
     "data": {
      "text/plain": "        ts_code    symbol     name  area industry          fullname  \\\n0     000001.SZ       1.0     平安银行    深圳       银行        平安银行股份有限公司   \n1     000002.SZ       2.0      万科A    深圳     全国地产        万科企业股份有限公司   \n2     000004.SZ       4.0     ST国华    深圳     软件服务    深圳国华网安科技股份有限公司   \n3     000005.SZ       5.0     ST星源    深圳     环境保护      深圳世纪星源股份有限公司   \n4     000006.SZ       6.0     深振业A    深圳     区域地产   深圳市振业(集团)股份有限公司   \n...         ...       ...      ...   ...      ...               ...   \n5171  873305.BJ  873305.0     九菱科技  None     None      荆州九菱科技股份有限公司   \n5172  873339.BJ  873339.0     恒太照明  None     None      江苏恒太照明股份有限公司   \n5173  873527.BJ  873527.0      夜光明  None     None   浙江夜光明光电科技股份有限公司   \n5174  873593.BJ  873593.0     鼎智科技  None     None  江苏鼎智智能控制科技股份有限公司   \n5175  689009.SH  689009.0  九号公司-WD    北京      摩托车            九号有限公司   \n\n                                                 enname  list_date  \n0                                Ping An Bank Co., Ltd. 1991-04-03  \n1                                  China Vanke Co.,Ltd. 1991-01-29  \n2     Shenzhen Guohua Network Security Technology Co... 1991-01-14  \n3                         Shenzhen Fountain Corporation 1990-12-10  \n4                       Shenzhen Zhenye(Group) Co., Ltd 1992-04-27  \n...                                                 ...        ...  \n5171      Jingzhou Julin Science And Technology Co.,Ltd 2022-12-21  \n5172                 Jiangsu Ever-Tie Lighting Co., Ltd 2022-11-17  \n5173                    Zhejiang Ygm Technology Co.,Ltd 2022-10-27  \n5174  Jiangsu DINGS Intelligent Control Technology C... 2023-04-13  \n5175                                    Ninebot Limited 2020-10-29  \n\n[5176 rows x 8 columns]",
      "text/html": "<div>\n<style scoped>\n    .dataframe tbody tr th:only-of-type {\n        vertical-align: middle;\n    }\n\n    .dataframe tbody tr th {\n        vertical-align: top;\n    }\n\n    .dataframe thead th {\n        text-align: right;\n    }\n</style>\n<table border=\"1\" class=\"dataframe\">\n  <thead>\n    <tr style=\"text-align: right;\">\n      <th></th>\n      <th>ts_code</th>\n      <th>symbol</th>\n      <th>name</th>\n      <th>area</th>\n      <th>industry</th>\n      <th>fullname</th>\n      <th>enname</th>\n      <th>list_date</th>\n    </tr>\n  </thead>\n  <tbody>\n    <tr>\n      <th>0</th>\n      <td>000001.SZ</td>\n      <td>1.0</td>\n      <td>平安银行</td>\n      <td>深圳</td>\n      <td>银行</td>\n      <td>平安银行股份有限公司</td>\n      <td>Ping An Bank Co., Ltd.</td>\n      <td>1991-04-03</td>\n    </tr>\n    <tr>\n      <th>1</th>\n      <td>000002.SZ</td>\n      <td>2.0</td>\n      <td>万科A</td>\n      <td>深圳</td>\n      <td>全国地产</td>\n      <td>万科企业股份有限公司</td>\n      <td>China Vanke Co.,Ltd.</td>\n      <td>1991-01-29</td>\n    </tr>\n    <tr>\n      <th>2</th>\n      <td>000004.SZ</td>\n      <td>4.0</td>\n      <td>ST国华</td>\n      <td>深圳</td>\n      <td>软件服务</td>\n      <td>深圳国华网安科技股份有限公司</td>\n      <td>Shenzhen Guohua Network Security Technology Co...</td>\n      <td>1991-01-14</td>\n    </tr>\n    <tr>\n      <th>3</th>\n      <td>000005.SZ</td>\n      <td>5.0</td>\n      <td>ST星源</td>\n      <td>深圳</td>\n      <td>环境保护</td>\n      <td>深圳世纪星源股份有限公司</td>\n      <td>Shenzhen Fountain Corporation</td>\n      <td>1990-12-10</td>\n    </tr>\n    <tr>\n      <th>4</th>\n      <td>000006.SZ</td>\n      <td>6.0</td>\n      <td>深振业A</td>\n      <td>深圳</td>\n      <td>区域地产</td>\n      <td>深圳市振业(集团)股份有限公司</td>\n      <td>Shenzhen Zhenye(Group) Co., Ltd</td>\n      <td>1992-04-27</td>\n    </tr>\n    <tr>\n      <th>...</th>\n      <td>...</td>\n      <td>...</td>\n      <td>...</td>\n      <td>...</td>\n      <td>...</td>\n      <td>...</td>\n      <td>...</td>\n      <td>...</td>\n    </tr>\n    <tr>\n      <th>5171</th>\n      <td>873305.BJ</td>\n      <td>873305.0</td>\n      <td>九菱科技</td>\n      <td>None</td>\n      <td>None</td>\n      <td>荆州九菱科技股份有限公司</td>\n      <td>Jingzhou Julin Science And Technology Co.,Ltd</td>\n      <td>2022-12-21</td>\n    </tr>\n    <tr>\n      <th>5172</th>\n      <td>873339.BJ</td>\n      <td>873339.0</td>\n      <td>恒太照明</td>\n      <td>None</td>\n      <td>None</td>\n      <td>江苏恒太照明股份有限公司</td>\n      <td>Jiangsu Ever-Tie Lighting Co., Ltd</td>\n      <td>2022-11-17</td>\n    </tr>\n    <tr>\n      <th>5173</th>\n      <td>873527.BJ</td>\n      <td>873527.0</td>\n      <td>夜光明</td>\n      <td>None</td>\n      <td>None</td>\n      <td>浙江夜光明光电科技股份有限公司</td>\n      <td>Zhejiang Ygm Technology Co.,Ltd</td>\n      <td>2022-10-27</td>\n    </tr>\n    <tr>\n      <th>5174</th>\n      <td>873593.BJ</td>\n      <td>873593.0</td>\n      <td>鼎智科技</td>\n      <td>None</td>\n      <td>None</td>\n      <td>江苏鼎智智能控制科技股份有限公司</td>\n      <td>Jiangsu DINGS Intelligent Control Technology C...</td>\n      <td>2023-04-13</td>\n    </tr>\n    <tr>\n      <th>5175</th>\n      <td>689009.SH</td>\n      <td>689009.0</td>\n      <td>九号公司-WD</td>\n      <td>北京</td>\n      <td>摩托车</td>\n      <td>九号有限公司</td>\n      <td>Ninebot Limited</td>\n      <td>2020-10-29</td>\n    </tr>\n  </tbody>\n</table>\n<p>5176 rows × 8 columns</p>\n</div>"
     },
     "execution_count": 3,
     "metadata": {},
     "output_type": "execute_result"
    }
   ],
   "source": [
    "rawCompanyDataInTushare=getStockCompanyInformation()\n",
    "print(\"The shape of the data frame: {}\".format(rawCompanyDataInTushare.shape))\n",
    "print(\"The types in the data frame {}\".format(rawCompanyDataInTushare.dtypes))\n",
    "rawCompanyDataInTushare"
   ],
   "metadata": {
    "collapsed": false,
    "ExecuteTime": {
     "end_time": "2023-05-16T08:24:44.140273200Z",
     "start_time": "2023-05-16T08:24:43.539010900Z"
    }
   }
  },
  {
   "cell_type": "code",
   "execution_count": 4,
   "outputs": [
    {
     "name": "stdout",
     "output_type": "stream",
     "text": [
      "The shape of the data frame: (6000, 11)\n",
      "The types in the data frame:\n",
      "ts_code               object\n",
      "trade_date    datetime64[ns]\n",
      "open                 float64\n",
      "high                 float64\n",
      "low                  float64\n",
      "close                float64\n",
      "pre_close            float64\n",
      "change               float64\n",
      "pct_chg              float64\n",
      "vol                  float64\n",
      "amount               float64\n",
      "dtype: object\n",
      "The unique stock code: 5061\n"
     ]
    },
    {
     "data": {
      "text/plain": "        ts_code trade_date   open   high    low  close  pre_close  change  \\\n0     002198.SZ 2022-12-30   6.39   6.57   6.33   6.52       6.40    0.12   \n1     002199.SZ 2022-12-30   6.36   6.43   6.28   6.39       6.29    0.10   \n2     002194.SZ 2022-12-30   9.13   9.26   9.07   9.21       9.10    0.11   \n3     002181.SZ 2022-12-30   5.28   5.52   5.28   5.46       5.31    0.15   \n4     002195.SZ 2022-12-30   1.99   2.02   1.98   2.01       1.98    0.03   \n...         ...        ...    ...    ...    ...    ...        ...     ...   \n5995  300185.SZ 2022-12-29   2.43   2.43   2.38   2.39       2.43   -0.04   \n5996  002212.SZ 2022-12-29   9.51   9.93   9.48   9.85       9.59    0.26   \n5997  002213.SZ 2022-12-29  16.37  16.37  15.61  15.68      14.88    0.80   \n5998  002397.SZ 2022-12-29   4.54   4.67   4.51   4.54       4.60   -0.06   \n5999  300024.SZ 2022-12-29   8.83   8.99   8.83   8.88       8.92   -0.04   \n\n      pct_chg        vol      amount  \n0      1.8750  101579.12   65646.164  \n1      1.5898   38684.00   24640.014  \n2      1.2088  101101.41   92895.425  \n3      2.8249  547665.70  297495.407  \n4      1.5152  444728.72   89088.620  \n...       ...        ...         ...  \n5995  -1.6461  169697.00   40744.559  \n5996   2.7112  166568.42  163068.690  \n5997   5.3763  238641.86  386408.221  \n5998  -1.3043  127870.79   58483.435  \n5999  -0.4484   66528.10   59381.114  \n\n[6000 rows x 11 columns]",
      "text/html": "<div>\n<style scoped>\n    .dataframe tbody tr th:only-of-type {\n        vertical-align: middle;\n    }\n\n    .dataframe tbody tr th {\n        vertical-align: top;\n    }\n\n    .dataframe thead th {\n        text-align: right;\n    }\n</style>\n<table border=\"1\" class=\"dataframe\">\n  <thead>\n    <tr style=\"text-align: right;\">\n      <th></th>\n      <th>ts_code</th>\n      <th>trade_date</th>\n      <th>open</th>\n      <th>high</th>\n      <th>low</th>\n      <th>close</th>\n      <th>pre_close</th>\n      <th>change</th>\n      <th>pct_chg</th>\n      <th>vol</th>\n      <th>amount</th>\n    </tr>\n  </thead>\n  <tbody>\n    <tr>\n      <th>0</th>\n      <td>002198.SZ</td>\n      <td>2022-12-30</td>\n      <td>6.39</td>\n      <td>6.57</td>\n      <td>6.33</td>\n      <td>6.52</td>\n      <td>6.40</td>\n      <td>0.12</td>\n      <td>1.8750</td>\n      <td>101579.12</td>\n      <td>65646.164</td>\n    </tr>\n    <tr>\n      <th>1</th>\n      <td>002199.SZ</td>\n      <td>2022-12-30</td>\n      <td>6.36</td>\n      <td>6.43</td>\n      <td>6.28</td>\n      <td>6.39</td>\n      <td>6.29</td>\n      <td>0.10</td>\n      <td>1.5898</td>\n      <td>38684.00</td>\n      <td>24640.014</td>\n    </tr>\n    <tr>\n      <th>2</th>\n      <td>002194.SZ</td>\n      <td>2022-12-30</td>\n      <td>9.13</td>\n      <td>9.26</td>\n      <td>9.07</td>\n      <td>9.21</td>\n      <td>9.10</td>\n      <td>0.11</td>\n      <td>1.2088</td>\n      <td>101101.41</td>\n      <td>92895.425</td>\n    </tr>\n    <tr>\n      <th>3</th>\n      <td>002181.SZ</td>\n      <td>2022-12-30</td>\n      <td>5.28</td>\n      <td>5.52</td>\n      <td>5.28</td>\n      <td>5.46</td>\n      <td>5.31</td>\n      <td>0.15</td>\n      <td>2.8249</td>\n      <td>547665.70</td>\n      <td>297495.407</td>\n    </tr>\n    <tr>\n      <th>4</th>\n      <td>002195.SZ</td>\n      <td>2022-12-30</td>\n      <td>1.99</td>\n      <td>2.02</td>\n      <td>1.98</td>\n      <td>2.01</td>\n      <td>1.98</td>\n      <td>0.03</td>\n      <td>1.5152</td>\n      <td>444728.72</td>\n      <td>89088.620</td>\n    </tr>\n    <tr>\n      <th>...</th>\n      <td>...</td>\n      <td>...</td>\n      <td>...</td>\n      <td>...</td>\n      <td>...</td>\n      <td>...</td>\n      <td>...</td>\n      <td>...</td>\n      <td>...</td>\n      <td>...</td>\n      <td>...</td>\n    </tr>\n    <tr>\n      <th>5995</th>\n      <td>300185.SZ</td>\n      <td>2022-12-29</td>\n      <td>2.43</td>\n      <td>2.43</td>\n      <td>2.38</td>\n      <td>2.39</td>\n      <td>2.43</td>\n      <td>-0.04</td>\n      <td>-1.6461</td>\n      <td>169697.00</td>\n      <td>40744.559</td>\n    </tr>\n    <tr>\n      <th>5996</th>\n      <td>002212.SZ</td>\n      <td>2022-12-29</td>\n      <td>9.51</td>\n      <td>9.93</td>\n      <td>9.48</td>\n      <td>9.85</td>\n      <td>9.59</td>\n      <td>0.26</td>\n      <td>2.7112</td>\n      <td>166568.42</td>\n      <td>163068.690</td>\n    </tr>\n    <tr>\n      <th>5997</th>\n      <td>002213.SZ</td>\n      <td>2022-12-29</td>\n      <td>16.37</td>\n      <td>16.37</td>\n      <td>15.61</td>\n      <td>15.68</td>\n      <td>14.88</td>\n      <td>0.80</td>\n      <td>5.3763</td>\n      <td>238641.86</td>\n      <td>386408.221</td>\n    </tr>\n    <tr>\n      <th>5998</th>\n      <td>002397.SZ</td>\n      <td>2022-12-29</td>\n      <td>4.54</td>\n      <td>4.67</td>\n      <td>4.51</td>\n      <td>4.54</td>\n      <td>4.60</td>\n      <td>-0.06</td>\n      <td>-1.3043</td>\n      <td>127870.79</td>\n      <td>58483.435</td>\n    </tr>\n    <tr>\n      <th>5999</th>\n      <td>300024.SZ</td>\n      <td>2022-12-29</td>\n      <td>8.83</td>\n      <td>8.99</td>\n      <td>8.83</td>\n      <td>8.88</td>\n      <td>8.92</td>\n      <td>-0.04</td>\n      <td>-0.4484</td>\n      <td>66528.10</td>\n      <td>59381.114</td>\n    </tr>\n  </tbody>\n</table>\n<p>6000 rows × 11 columns</p>\n</div>"
     },
     "execution_count": 4,
     "metadata": {},
     "output_type": "execute_result"
    }
   ],
   "source": [
    "rawDailyDataInTushare=getDailyStockData()\n",
    "print(\"The shape of the data frame: {}\".format(rawDailyDataInTushare.shape))\n",
    "print(\"The types in the data frame:\\n{}\".format(rawDailyDataInTushare.dtypes))\n",
    "print(\"The unique stock code: {}\".format(len(rawDailyDataInTushare['ts_code'].unique())))\n",
    "rawDailyDataInTushare"
   ],
   "metadata": {
    "collapsed": false,
    "ExecuteTime": {
     "end_time": "2023-05-16T08:24:45.372834200Z",
     "start_time": "2023-05-16T08:24:44.140273200Z"
    }
   }
  },
  {
   "cell_type": "code",
   "execution_count": 5,
   "outputs": [
    {
     "data": {
      "text/plain": "        ts_code trade_date  open  high   low  close  pre_close  change  \\\n0     000006.SZ 2022-12-30  6.29  6.46  6.21   6.30       6.13    0.17   \n1     000006.SZ 2022-12-29  6.60  6.65  6.13   6.13       6.81   -0.68   \n2     000006.SZ 2022-12-28  6.47  7.17  6.40   6.81       6.64    0.17   \n3     000006.SZ 2022-12-27  6.00  6.64  5.96   6.64       6.04    0.60   \n4     000006.SZ 2022-12-26  5.69  6.18  5.65   6.04       5.91    0.13   \n...         ...        ...   ...   ...   ...    ...        ...     ...   \n2308  000006.SZ 2013-01-10  5.02  5.12  4.99   5.06       5.01    0.05   \n2309  000006.SZ 2013-01-09  5.02  5.07  4.95   5.01       5.08   -0.07   \n2310  000006.SZ 2013-01-08  5.15  5.30  5.01   5.08       4.92    0.16   \n2311  000006.SZ 2013-01-07  4.90  4.94  4.82   4.92       4.93   -0.01   \n2312  000006.SZ 2013-01-04  5.02  5.10  4.90   4.93       4.95   -0.02   \n\n      pct_chg         vol        amount  \n0      2.7732  1280164.06  8.071626e+05  \n1     -9.9853  2067778.94  1.305957e+06  \n2      2.5602  2646897.32  1.789639e+06  \n3      9.9338  2469265.08  1.612829e+06  \n4      2.1997  1502166.93  8.940131e+05  \n...       ...         ...           ...  \n2308   1.0000   231290.95  1.167205e+05  \n2309  -1.3800   218039.31  1.094010e+05  \n2310   3.2500   472007.79  2.412159e+05  \n2311  -0.2000   132315.27  6.452564e+04  \n2312  -0.4000   262711.01  1.312452e+05  \n\n[2313 rows x 11 columns]",
      "text/html": "<div>\n<style scoped>\n    .dataframe tbody tr th:only-of-type {\n        vertical-align: middle;\n    }\n\n    .dataframe tbody tr th {\n        vertical-align: top;\n    }\n\n    .dataframe thead th {\n        text-align: right;\n    }\n</style>\n<table border=\"1\" class=\"dataframe\">\n  <thead>\n    <tr style=\"text-align: right;\">\n      <th></th>\n      <th>ts_code</th>\n      <th>trade_date</th>\n      <th>open</th>\n      <th>high</th>\n      <th>low</th>\n      <th>close</th>\n      <th>pre_close</th>\n      <th>change</th>\n      <th>pct_chg</th>\n      <th>vol</th>\n      <th>amount</th>\n    </tr>\n  </thead>\n  <tbody>\n    <tr>\n      <th>0</th>\n      <td>000006.SZ</td>\n      <td>2022-12-30</td>\n      <td>6.29</td>\n      <td>6.46</td>\n      <td>6.21</td>\n      <td>6.30</td>\n      <td>6.13</td>\n      <td>0.17</td>\n      <td>2.7732</td>\n      <td>1280164.06</td>\n      <td>8.071626e+05</td>\n    </tr>\n    <tr>\n      <th>1</th>\n      <td>000006.SZ</td>\n      <td>2022-12-29</td>\n      <td>6.60</td>\n      <td>6.65</td>\n      <td>6.13</td>\n      <td>6.13</td>\n      <td>6.81</td>\n      <td>-0.68</td>\n      <td>-9.9853</td>\n      <td>2067778.94</td>\n      <td>1.305957e+06</td>\n    </tr>\n    <tr>\n      <th>2</th>\n      <td>000006.SZ</td>\n      <td>2022-12-28</td>\n      <td>6.47</td>\n      <td>7.17</td>\n      <td>6.40</td>\n      <td>6.81</td>\n      <td>6.64</td>\n      <td>0.17</td>\n      <td>2.5602</td>\n      <td>2646897.32</td>\n      <td>1.789639e+06</td>\n    </tr>\n    <tr>\n      <th>3</th>\n      <td>000006.SZ</td>\n      <td>2022-12-27</td>\n      <td>6.00</td>\n      <td>6.64</td>\n      <td>5.96</td>\n      <td>6.64</td>\n      <td>6.04</td>\n      <td>0.60</td>\n      <td>9.9338</td>\n      <td>2469265.08</td>\n      <td>1.612829e+06</td>\n    </tr>\n    <tr>\n      <th>4</th>\n      <td>000006.SZ</td>\n      <td>2022-12-26</td>\n      <td>5.69</td>\n      <td>6.18</td>\n      <td>5.65</td>\n      <td>6.04</td>\n      <td>5.91</td>\n      <td>0.13</td>\n      <td>2.1997</td>\n      <td>1502166.93</td>\n      <td>8.940131e+05</td>\n    </tr>\n    <tr>\n      <th>...</th>\n      <td>...</td>\n      <td>...</td>\n      <td>...</td>\n      <td>...</td>\n      <td>...</td>\n      <td>...</td>\n      <td>...</td>\n      <td>...</td>\n      <td>...</td>\n      <td>...</td>\n      <td>...</td>\n    </tr>\n    <tr>\n      <th>2308</th>\n      <td>000006.SZ</td>\n      <td>2013-01-10</td>\n      <td>5.02</td>\n      <td>5.12</td>\n      <td>4.99</td>\n      <td>5.06</td>\n      <td>5.01</td>\n      <td>0.05</td>\n      <td>1.0000</td>\n      <td>231290.95</td>\n      <td>1.167205e+05</td>\n    </tr>\n    <tr>\n      <th>2309</th>\n      <td>000006.SZ</td>\n      <td>2013-01-09</td>\n      <td>5.02</td>\n      <td>5.07</td>\n      <td>4.95</td>\n      <td>5.01</td>\n      <td>5.08</td>\n      <td>-0.07</td>\n      <td>-1.3800</td>\n      <td>218039.31</td>\n      <td>1.094010e+05</td>\n    </tr>\n    <tr>\n      <th>2310</th>\n      <td>000006.SZ</td>\n      <td>2013-01-08</td>\n      <td>5.15</td>\n      <td>5.30</td>\n      <td>5.01</td>\n      <td>5.08</td>\n      <td>4.92</td>\n      <td>0.16</td>\n      <td>3.2500</td>\n      <td>472007.79</td>\n      <td>2.412159e+05</td>\n    </tr>\n    <tr>\n      <th>2311</th>\n      <td>000006.SZ</td>\n      <td>2013-01-07</td>\n      <td>4.90</td>\n      <td>4.94</td>\n      <td>4.82</td>\n      <td>4.92</td>\n      <td>4.93</td>\n      <td>-0.01</td>\n      <td>-0.2000</td>\n      <td>132315.27</td>\n      <td>6.452564e+04</td>\n    </tr>\n    <tr>\n      <th>2312</th>\n      <td>000006.SZ</td>\n      <td>2013-01-04</td>\n      <td>5.02</td>\n      <td>5.10</td>\n      <td>4.90</td>\n      <td>4.93</td>\n      <td>4.95</td>\n      <td>-0.02</td>\n      <td>-0.4000</td>\n      <td>262711.01</td>\n      <td>1.312452e+05</td>\n    </tr>\n  </tbody>\n</table>\n<p>2313 rows × 11 columns</p>\n</div>"
     },
     "execution_count": 5,
     "metadata": {},
     "output_type": "execute_result"
    }
   ],
   "source": [
    "##test\n",
    "testDailyStockData=getDailyStockData(stock_code=\"000006.SZ\")\n",
    "testDailyStockData"
   ],
   "metadata": {
    "collapsed": false,
    "ExecuteTime": {
     "end_time": "2023-05-16T08:24:45.802127700Z",
     "start_time": "2023-05-16T08:24:45.365565700Z"
    }
   }
  },
  {
   "cell_type": "code",
   "execution_count": 6,
   "outputs": [],
   "source": [
    "###由于Toshare社区限制每次查询只能拿到 6000 行日结交易信息（每日每公司为一行），而且每分钟只能查500次。为了得到当前所有上市公司，每次查询只查一家上市公司而且将会延迟0.2秒\n",
    "def bindDailyAndCompanyInformation():\n",
    "    notIncludedData=['name']\n",
    "\n",
    "    startTime=datetime.now()\n",
    "    companies=getStockCompanyInformation()\n",
    "    bindData=pd.DataFrame()\n",
    "    i=2\n",
    "    for company in companies['ts_code'].to_numpy():\n",
    "        dailyData=getDailyStockData(stock_code=company)\n",
    "        for header in companies.columns:\n",
    "            if header!=\"ts_code\":\n",
    "                #test only\n",
    "                # print(\"------------------------------------\")\n",
    "                # print(companies[companies['ts_code'] == company][header].values.repeat(5))\n",
    "                # print(dailyData.shape[0])\n",
    "                # print(\"------------------------------------\")\n",
    "                dailyData[header]= companies[companies['ts_code'] == company][header].values.repeat(dailyData.shape[0])\n",
    "\n",
    "        dailyData=dailyData.drop(columns=notIncludedData)\n",
    "        bindData=bindData.append(dailyData)\n",
    "        #time.sleep(0.15)\n",
    "        ###########test only\n",
    "        #print(dailyData)\n",
    "        # if i==1:\n",
    "        #     break\n",
    "        # else:\n",
    "        #     i-=1\n",
    "        ###########\n",
    "    timeConsume=datetime.now()-startTime;\n",
    "    print(\"Run time: {}\".format(timeConsume))\n",
    "    return bindData\n"
   ],
   "metadata": {
    "collapsed": false,
    "ExecuteTime": {
     "end_time": "2023-05-16T08:24:45.830052100Z",
     "start_time": "2023-05-16T08:24:45.797140200Z"
    }
   }
  },
  {
   "cell_type": "code",
   "execution_count": 7,
   "outputs": [],
   "source": [
    "###此cell仅用于下载股票数据，由于信息量庞大，可导入下好的 TushareRawData.csv 文件即可\n",
    "# theBindDataInTushare=bindDailyAndCompanyInformation()\n",
    "# print(\"The shape of the data frame: {}\".format(theBindDataInTushare.shape))\n",
    "# print(\"The types in the data frame:\\n{}\".format(theBindDataInTushare.dtypes))\n",
    "# print(\"The unique stock code: {}\".format(len(theBindDataInTushare['ts_code'].unique())))\n",
    "# theBindDataInTushare.to_csv('stockData/TushareRawData.csv', header=theBindDataInTushare.columns, index=False)"
   ],
   "metadata": {
    "collapsed": false,
    "ExecuteTime": {
     "end_time": "2023-05-16T08:24:45.854985200Z",
     "start_time": "2023-05-16T08:24:45.814094900Z"
    }
   }
  },
  {
   "cell_type": "code",
   "execution_count": 8,
   "outputs": [
    {
     "name": "stdout",
     "output_type": "stream",
     "text": [
      "The shape of the data frame: (7792078, 17)\n",
      "The types in the data frame:\n",
      "ts_code        object\n",
      "trade_date     object\n",
      "open          float64\n",
      "high          float64\n",
      "low           float64\n",
      "close         float64\n",
      "pre_close     float64\n",
      "change        float64\n",
      "pct_chg       float64\n",
      "vol           float64\n",
      "amount        float64\n",
      "symbol        float64\n",
      "area           object\n",
      "industry       object\n",
      "fullname       object\n",
      "enname         object\n",
      "list_date      object\n",
      "dtype: object\n",
      "The unique stock code: 5061\n"
     ]
    }
   ],
   "source": [
    "###此cell是本地读取tushare股票信息，如果本地有csv文件就用这个，并且注释上一个cell，如果没下载csv文件就取消注释上一个cell\n",
    "theBindDataInTushare=pd.read_csv('stockData/TushareRawData.csv')\n",
    "print(\"The shape of the data frame: {}\".format(theBindDataInTushare.shape))\n",
    "print(\"The types in the data frame:\\n{}\".format(theBindDataInTushare.dtypes))\n",
    "print(\"The unique stock code: {}\".format(len(theBindDataInTushare['ts_code'].unique())))"
   ],
   "metadata": {
    "collapsed": false,
    "ExecuteTime": {
     "end_time": "2023-05-16T08:25:11.364753600Z",
     "start_time": "2023-05-16T08:24:45.827060500Z"
    }
   }
  },
  {
   "cell_type": "code",
   "execution_count": 9,
   "outputs": [
    {
     "name": "stdout",
     "output_type": "stream",
     "text": [
      "The num of miss company: 115\n"
     ]
    }
   ],
   "source": [
    "###不知道为什么有100家公司查不到，手动查询看看情况，然后手动合并吧\n",
    "missedCompany=[]\n",
    "bindCompany=theBindDataInTushare['ts_code'].unique()\n",
    "for code in rawCompanyDataInTushare['ts_code'].values:\n",
    "    if code not in bindCompany:\n",
    "        missedCompany.append(code)\n",
    "\n",
    "\n",
    "# for code in missedCompany:\n",
    "#     print(\"-------------------------------------\")\n",
    "#     print(getDailyStockData(stock_code=code,end=\"20220505\"))\n",
    "#     print(getStockCompanyInformation(stock_code=code))\n",
    "#     print(\"-------------------------------------\")\n",
    "\n",
    "print(\"The num of miss company: {}\".format(len(missedCompany)))\n",
    "\n",
    "###这些股票查不到，这些公司基本都是2023年上市的，可能数据还没更新吧"
   ],
   "metadata": {
    "collapsed": false,
    "ExecuteTime": {
     "end_time": "2023-05-16T08:25:12.345839300Z",
     "start_time": "2023-05-16T08:25:11.369769900Z"
    }
   }
  },
  {
   "cell_type": "code",
   "execution_count": null,
   "outputs": [
    {
     "name": "stdout",
     "output_type": "stream",
     "text": [
      "The number of industry: 111\n",
      "The exact number of company: 5061\n",
      "--------------------------------------------------------\n",
      "The industries: ['银行' '全国地产' '软件服务' '环境保护' '区域地产' '其他商业' '运输设备' '电气设备' '建筑工程' '玻璃' '家用电器'\n",
      " '服饰' '农业综合' '元器件' '水泥' '汽车服务' '火力发电' '医药商业' '汽车配件' '综合类' '新型电力' '多元金融'\n",
      " '装修装饰' '房产服务' '商品城' '石油加工' '铅锌' '通信设备' 'IT设备' '港口' '机场' '石油贸易' '空运'\n",
      " '生物制药' '商贸代理' '化学制药' '影视音像' '工程机械' '证券' '化纤' '供气供热' '农药化肥' '机床制造' '百货'\n",
      " '中成药' '酒店餐饮' '路桥' '旅游景点' '造纸' '医疗保健' '食品' '黄金' '化工原料' '专用机械' '水运' '日用化工'\n",
      " '旅游服务' '文教休闲' '出版业' '机械基件' '汽车整车' '煤炭开采' '铁路' '染料涂料' '白酒' '农用机械' '林业'\n",
      " '水务' '水力发电' '互联网' '广告包装' '铝' '其他建材' '批发业' '保险' '小金属' '铜' '普钢' '航空' '饲料'\n",
      " '特种钢' '种植业' '仓储物流' '焦炭加工' '纺织' '啤酒' '超市连锁' '钢加工' '矿物制品' '渔业' '软饮料' '化工机械'\n",
      " '塑料' '红黄酒' '家居用品' '摩托车' '石油开采' '轻工机械' '电器仪表' '半导体' '乳制品' '纺织机械' '电器连锁'\n",
      " '陶瓷' '橡胶' '公路' '电信运营' '公共交通' '船舶' 'None' '园区开发']\n"
     ]
    }
   ],
   "source": [
    "print(\"The number of industry: {}\".format(len(theBindDataInTushare['industry'].unique())))\n",
    "print(\"The exact number of company: {}\".format(len(theBindDataInTushare['ts_code'].unique())))\n",
    "print(\"--------------------------------------------------------\\n\"+\"The industries: {}\".format(theBindDataInTushare['industry'].unique()))\n",
    "\n",
    "\n",
    "theCounter={}\n",
    "uniqueList=theBindDataInTushare['fullname'].unique()\n",
    "for company in uniqueList:\n",
    "    industryName=theBindDataInTushare[theBindDataInTushare['fullname']==company]['industry'].values[0]\n",
    "    if industryName in theCounter:\n",
    "        theCounter[industryName]+=1\n",
    "    else:\n",
    "        theCounter[industryName]=1\n",
    "print(\"--------------------------------------------------------\\n\"+\"the number of company in different industry: {}\".format(theCounter))"
   ],
   "metadata": {
    "collapsed": false,
    "is_executing": true,
    "ExecuteTime": {
     "start_time": "2023-05-16T08:25:12.541315900Z"
    }
   }
  },
  {
   "cell_type": "markdown",
   "source": [
    "### test science data"
   ],
   "metadata": {
    "collapsed": false
   }
  },
  {
   "cell_type": "code",
   "execution_count": null,
   "outputs": [],
   "source": [
    "TCLStock=theBindDataInTushare[theBindDataInTushare['ts_code']==\"000100.SZ\"].sort_values(by='trade_date',ascending=True)\n",
    "plt.figure(figsize=(12,8))\n",
    "ax = plt.gca()\n",
    "locator = mdates.DayLocator(interval=30*3)\n",
    "ax.xaxis.set_major_locator(locator)\n",
    "plt.gcf().autofmt_xdate()\n",
    "plt.plot(TCLStock['trade_date'],TCLStock['high'],label=\"high\")\n",
    "plt.plot(TCLStock['trade_date'],TCLStock['low'],label=\"low\")\n",
    "plt.xlabel(\"Date\")\n",
    "plt.ylabel(\"Amount\")\n",
    "plt.title('TCL100')\n",
    "plt.legend()   #打上标签\n",
    "plt.show()\n",
    "TCLStock"
   ],
   "metadata": {
    "collapsed": false,
    "is_executing": true
   }
  },
  {
   "cell_type": "markdown",
   "source": [
    "### 1.1.1 大盘整体趋势"
   ],
   "metadata": {
    "collapsed": false
   }
  },
  {
   "cell_type": "code",
   "execution_count": null,
   "outputs": [],
   "source": [
    "theTrendResult=theBindDataInTushare.groupby('trade_date')['close','open'].mean()\n",
    "\n",
    "plt.figure(figsize=(16,8))\n",
    "ax = plt.gca()\n",
    "locator = mdates.DayLocator(interval=30*3)\n",
    "ax.xaxis.set_major_locator(locator)\n",
    "plt.gcf().autofmt_xdate()\n",
    "plt.plot(theTrendResult['open'],label=\"open\")\n",
    "plt.plot(theTrendResult['close'],label=\"close\")\n",
    "plt.xlabel(\"Date\")\n",
    "plt.ylabel(\"Amount (RMB)\")\n",
    "plt.title('The Trend')\n",
    "plt.legend()   #打上标签\n",
    "plt.show()\n",
    "\n",
    "theTrendResult"
   ],
   "metadata": {
    "collapsed": false,
    "is_executing": true
   }
  },
  {
   "cell_type": "markdown",
   "source": [
    "### 1.1.2 各个行业领域大盘\n",
    "\n",
    "注意: 该cell运行会绘制大量的图表，图表都被保存好了，如果不想运行可以查看路径stockData/tableForIndustry/raw"
   ],
   "metadata": {
    "collapsed": false
   }
  },
  {
   "cell_type": "code",
   "execution_count": null,
   "outputs": [],
   "source": [
    "###生成各个领域的平均总览图标\n",
    "# theIndustryTrendResult=theBindDataInTushare.groupby(['trade_date','industry'],as_index=False)['close'].agg('mean')\n",
    "#\n",
    "# plt.figure(figsize=(20,18))\n",
    "# plt.figure(1)\n",
    "# theIndustryTrendResult.set_index('trade_date', inplace=True)\n",
    "# theIndustryGroupedTrendResult=theIndustryTrendResult.groupby('industry')\n",
    "# theIndustryGroupedTrendResult['close'].plot()\n",
    "# plt.xlabel(\"Date\")\n",
    "# plt.ylabel(\"Amount (RMB)\")\n",
    "# plt.title('The Industry Trend')\n",
    "# plt.legend()   #打上标签\n",
    "# plt.savefig(\"stockData/tableForIndustry/raw/tablesForAllIndustries.jpg\")\n",
    "# # plt.show()\n",
    "#\n",
    "# for i in list(theIndustryGroupedTrendResult):\n",
    "#     plt.figure(figsize=(16,8))\n",
    "#     x = np.arange(0, 300, 20)\n",
    "#     plt.yticks(x)\n",
    "#     i[-1]['close'].plot()\n",
    "#     plt.xlabel(\"Date\")\n",
    "#     plt.ylabel(\"Amount (RMB)\")\n",
    "#     plt.title(\"The Industry Trend: {}\".format(i[-1]['industry'].unique()[0]))\n",
    "#     plt.legend()   #打上标签\n",
    "#     plt.savefig(\"stockData/tableForIndustry/raw/industryTablesFor{}.jpg\".format(format(i[-1]['industry'].unique()[0])))\n",
    "#\n",
    "# plt.show()\n",
    "#\n",
    "# theIndustryTrendResult"
   ],
   "metadata": {
    "collapsed": false,
    "is_executing": true
   }
  },
  {
   "cell_type": "markdown",
   "source": [
    "### 1.1.3 数据异常处理 (industry 为 none，建议优化)\n",
    "注意: 行业总共110种，很多，在模型里面本身是建议降维的; 而且有些行业重复，例如金属被分成好几个领域，但是不建议归类，因为这些行业的走势都不一样，建议保留，等后续讨论。\n",
    "\n",
    "目前计划拿到这些公司的产品与介绍，nle分析并将其分类到合适的种类"
   ],
   "metadata": {
    "collapsed": false
   }
  },
  {
   "cell_type": "code",
   "execution_count": null,
   "outputs": [],
   "source": [
    "### 目前已知的行业有110种，还有一种没有归类，现在尝试归类\n",
    "print(\"the number of company with none industry: {}\".format(len(theBindDataInTushare[theBindDataInTushare['industry'] == \"None\"]['ts_code'].unique())))\n",
    "\n",
    "noneIndustryCodeList=theBindDataInTushare[theBindDataInTushare['industry'] == \"None\"]['ts_code'].unique()\n",
    "\n",
    "###查询行业缺失的公司简介与产品名称\n",
    "# noneIndustryDF=pd.DataFrame()\n",
    "# now=datetime.now()\n",
    "# for code in noneIndustryCodeList:\n",
    "#     ###该接口每分钟最多10次，尼玛得搞16分钟，之后会存在stockData/CompanyIntroductionWithNoneIndustry.csv\n",
    "#     noneIndustrydf = pro.stock_company(ts_code=code, fields='ts_code,introduction,main_business')\n",
    "#     noneIndustryDF=noneIndustryDF.append(noneIndustrydf)\n",
    "#     time.sleep(6)\n",
    "#\n",
    "# noneIndustryDF.to_csv(\"stockData/CompanyIntroductionWithNoneIndustry.csv\")\n",
    "# print(\"cost time: {}\".format(datetime.now()-now))\n",
    "\n",
    "noneIndustryDF=pd.read_csv(\"stockData/CompanyIntroductionWithNoneIndustry.csv\")\n"
   ],
   "metadata": {
    "collapsed": false,
    "is_executing": true
   }
  },
  {
   "cell_type": "markdown",
   "source": [
    "## 1.2 use yfinance (雅虎非官方API) api get stock data"
   ],
   "metadata": {
    "collapsed": false
   }
  },
  {
   "cell_type": "code",
   "execution_count": null,
   "outputs": [],
   "source": [
    "#测试api\n",
    "data = yf.download(tickers='AMD',start='2013-01-1',end='2023-01-01')\n",
    "print(\"The types in the data frame:\\n{}\".format(data.dtypes))\n",
    "data"
   ],
   "metadata": {
    "collapsed": false,
    "is_executing": true
   }
  },
  {
   "cell_type": "code",
   "execution_count": null,
   "outputs": [],
   "source": [
    "amd = yf.Ticker(\"AMD\")\n",
    "info=pd.DataFrame.from_dict(amd.info)\n",
    "print(\"The types in the data frame:\\n{}\".format(info.dtypes))\n",
    "info"
   ],
   "metadata": {
    "collapsed": false,
    "is_executing": true
   }
  },
  {
   "cell_type": "code",
   "execution_count": null,
   "outputs": [],
   "source": [
    "data[\"Close\"].plot()\n",
    "plt.show()"
   ],
   "metadata": {
    "collapsed": false,
    "is_executing": true
   }
  },
  {
   "cell_type": "code",
   "execution_count": null,
   "outputs": [],
   "source": [
    "##获取标普500股票公司名字\n",
    "import bs4 as bs\n",
    "import requests\n",
    "\n",
    "###爬取维基百科标普500公司名称\n",
    "resp = requests.get('http://en.wikipedia.org/wiki/List_of_S%26P_500_companies')\n",
    "soup = bs.BeautifulSoup(resp.text, 'lxml')\n",
    "table = soup.find('table', {'class': 'wikitable sortable'})\n",
    "\n",
    "###筛选元素\n",
    "tickers = []\n",
    "for row in table.findAll('tr')[1:]:\n",
    "   ticker = row.findAll('td')[0].text\n",
    "   ticker=ticker.replace(\"\\n\",\"\")\n",
    "   tickers.append(ticker)\n",
    "\n",
    "\n",
    "tickers"
   ],
   "metadata": {
    "collapsed": false,
    "is_executing": true
   }
  },
  {
   "cell_type": "code",
   "execution_count": null,
   "outputs": [],
   "source": [
    "def getStockDataInYFinance(name,start='2013-01-1',end='2023-01-01'):\n",
    "    includedList=['country','zip','industry','sector']\n",
    "    data = yf.download(tickers=name,start=start,end=end)\n",
    "    data['trade_date'] = data.index\n",
    "    company = yf.Ticker(name)\n",
    "    try:\n",
    "        companyInfo=pd.DataFrame.from_dict(company.info)\n",
    "    except BaseException:\n",
    "        print(company.info)\n",
    "        return np.nan\n",
    "    else:\n",
    "        data['name']=[name]*data.shape[0]\n",
    "        for column in companyInfo.columns:\n",
    "            if column in includedList:\n",
    "                data[column]=np.array([companyInfo[column].values[0]]).repeat(data.shape[0])\n",
    "\n",
    "    return data\n",
    "\n",
    "\n",
    "### get all stock data and store them\n",
    "def storeAllStockDataForYFinance():\n",
    "    now=datetime.now()\n",
    "    allStockDataInYFinance=pd.DataFrame()\n",
    "    for company in tickers:\n",
    "        companyInfo=getStockDataInYFinance(company)\n",
    "        if companyInfo is np.nan:\n",
    "            print(\"break, company {} data is null\")\n",
    "            continue\n",
    "        else:\n",
    "            allStockDataInYFinance=allStockDataInYFinance.append(companyInfo)\n",
    "    print(\"Cost time: {}\".format(datetime.now()-now))\n",
    "    return allStockDataInYFinance"
   ],
   "metadata": {
    "collapsed": false,
    "is_executing": true
   }
  },
  {
   "cell_type": "code",
   "execution_count": null,
   "outputs": [],
   "source": [
    "getStockDataInYFinance(tickers[0]).dtypes"
   ],
   "metadata": {
    "collapsed": false,
    "is_executing": true
   }
  },
  {
   "cell_type": "code",
   "execution_count": null,
   "outputs": [],
   "source": [
    "###仅用于下载yfinance 股票数据\n",
    "# stockDataInYFinance=storeAllStockDataForYFinance()\n",
    "# stockDataInYFinance.to_csv('stockData/YFinanceRawData.csv', header=stockDataInYFinance.columns,index=False)"
   ],
   "metadata": {
    "collapsed": false,
    "is_executing": true
   }
  },
  {
   "cell_type": "code",
   "execution_count": null,
   "outputs": [],
   "source": [
    "###验证一下有多少个查漏了\n",
    "stockDataInYFinance=pd.read_csv('stockData/YFinanceRawData.csv')\n",
    "uniqueCompany=stockDataInYFinance['name'].unique()\n",
    "missedList=[]\n",
    "for ticker in tickers:\n",
    "    if ticker not in uniqueCompany:\n",
    "        missedList.append(ticker)\n",
    "\n",
    "print(\"length of miss company: {}\".format(len(missedList)))\n",
    "###总共有3个公司遗漏\n",
    "\n",
    "###手动查询\n",
    "for company in missedList:\n",
    "    print(\"------------------------------------------------------\")\n",
    "    print(\"This is the information for {}\".format(company))\n",
    "    print(getStockDataInYFinance(name=company))\n",
    "    print(\"------------------------------------------------------\")\n",
    "###经过调查，属于信息不完善，有的连公司信息都不全"
   ],
   "metadata": {
    "collapsed": false,
    "is_executing": true
   }
  },
  {
   "cell_type": "code",
   "execution_count": null,
   "outputs": [],
   "source": [
    "print(\"types in data: {}\".format(stockDataInYFinance.dtypes))\n",
    "stockDataInYFinance"
   ],
   "metadata": {
    "collapsed": false,
    "is_executing": true
   }
  },
  {
   "cell_type": "code",
   "execution_count": null,
   "outputs": [],
   "source": [
    "MMMStock=stockDataInYFinance[stockDataInYFinance['name']==\"MMM\"]\n",
    "\n",
    "plt.figure(figsize=(15,8))\n",
    "\n",
    "ax = plt.gca()\n",
    "locator = mdates.DayLocator(interval=30*3)\n",
    "ax.xaxis.set_major_locator(locator)\n",
    "\n",
    "x=MMMStock['trade_date']\n",
    "\n",
    "plt.plot(x,MMMStock['High'],label=\"high\")\n",
    "plt.plot(x,MMMStock['Low'],label=\"low\")\n",
    "plt.gcf().autofmt_xdate()\n",
    "plt.xlabel(\"Date\")\n",
    "plt.ylabel(\"Amount\")\n",
    "plt.title('MMM')\n",
    "plt.rc('xtick', labelsize=15)\n",
    "plt.rc('ytick', labelsize=15)\n",
    "plt.rcParams.update({'font.size': 15})\n",
    "plt.legend()   #打上标签\n",
    "plt.show()\n",
    "MMMStock"
   ],
   "metadata": {
    "collapsed": false,
    "is_executing": true
   }
  },
  {
   "cell_type": "markdown",
   "source": [
    "# 2.0 Analysis the raw data in AI\n",
    "* data engineering\n",
    "* data cleaning\n",
    "* build model\n",
    "* train"
   ],
   "metadata": {
    "collapsed": false
   }
  },
  {
   "cell_type": "markdown",
   "source": [
    "------------------------------------------\n",
    "这里说一下训练集与验证集的分配:\n",
    "* 训练集:\n",
    "* 验证集1:\n",
    "* 验证集2:"
   ],
   "metadata": {
    "collapsed": false
   }
  },
  {
   "cell_type": "code",
   "execution_count": null,
   "outputs": [],
   "source": [],
   "metadata": {
    "collapsed": false,
    "is_executing": true
   }
  }
 ],
 "metadata": {
  "kernelspec": {
   "display_name": "Python 3",
   "language": "python",
   "name": "python3"
  },
  "language_info": {
   "codemirror_mode": {
    "name": "ipython",
    "version": 2
   },
   "file_extension": ".py",
   "mimetype": "text/x-python",
   "name": "python",
   "nbconvert_exporter": "python",
   "pygments_lexer": "ipython2",
   "version": "2.7.6"
  }
 },
 "nbformat": 4,
 "nbformat_minor": 0
}
