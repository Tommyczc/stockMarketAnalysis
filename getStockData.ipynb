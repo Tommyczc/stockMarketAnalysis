{
 "cells": [
  {
   "cell_type": "markdown",
   "source": [
    "# 1.0 Get Data Of Stock Market\n",
    "\n",
    "* 本篇代码用来查询所有股票数据，所有导出的数据都将导出到stockdata文件夹内，方便管理查看。\n",
    "* 平台api方面，国内用tushare，国外用的雅虎。\n",
    "* 本篇代码也计划用来做数据清洗并且数据展示，处理好的文件也存在stockdata文件夹里面。"
   ],
   "metadata": {
    "collapsed": false
   }
  },
  {
   "cell_type": "code",
   "execution_count": 1,
   "outputs": [
    {
     "name": "stdout",
     "output_type": "stream",
     "text": [
      "Hello,stock market\n",
      "Load Time:  0:00:01.245976\n"
     ]
    }
   ],
   "source": [
    "import time\n",
    "\n",
    "import numpy as np\n",
    "\n",
    "print(\"Hello,stock market\")\n",
    "import pandas as pd\n",
    "from datetime import datetime\n",
    "start_time = datetime.now()\n",
    "## todo: calculating the time of import libraries\n",
    "#先引入后面分析、可视化等可能用到的库\n",
    "import tushare as ts\n",
    "import pandas as pd\n",
    "import matplotlib.pyplot as plt\n",
    "#正常显示画图时出现的中文和负号\n",
    "from pylab import mpl\n",
    "import yfinance as yf\n",
    "import matplotlib.pyplot as plt\n",
    "import matplotlib.dates as mdates\n",
    "# todo: solve chinese problem for plt\n",
    "mpl.rcParams['font.sans-serif']=['SimHei']\n",
    "mpl.rcParams['axes.unicode_minus']=False\n",
    "\n",
    "#显示所有列\n",
    "# pd.set_option('display.max_columns', 100)\n",
    "# #显示所有行\n",
    "# pd.set_option('display.max_rows', 100)\n",
    "# #设置value的显示长度为100，默认为50\n",
    "# pd.set_option('max_colwidth',100)\n",
    "print(\"Load Time: \",datetime.now()-start_time)"
   ],
   "metadata": {
    "collapsed": false,
    "ExecuteTime": {
     "end_time": "2023-05-09T01:45:59.616243400Z",
     "start_time": "2023-05-09T01:45:57.634235500Z"
    }
   }
  },
  {
   "cell_type": "markdown",
   "source": [
    "## 1.1 use tushare api get data"
   ],
   "metadata": {
    "collapsed": false
   }
  },
  {
   "cell_type": "code",
   "execution_count": 2,
   "outputs": [],
   "source": [
    "# login tushare, use token\n",
    "pro = ts.pro_api('f7b384108cbed0026a4dfa35835f75b0fb9d04673a067e8b75d8810f')\n",
    "\n",
    "\n",
    "def getStockCompanyInformation(status='L', stock_code=''):\n",
    "    \"\"\"\n",
    "    得到目前所有的股票公司信息\n",
    "    :param status: 上市状态 L上市 D退市 P暂停上市，默认是L\n",
    "    :param stock_code: TS股票代码\n",
    "    :return:\n",
    "    \"\"\"\n",
    "\n",
    "    if stock_code== '':\n",
    "        rawStockCompanyDataInTushare = pro.stock_basic(exchange='', list_status=status, fields='ts_code,symbol,fullname,enname,name,area,industry,list_date')\n",
    "    else:\n",
    "        rawStockCompanyDataInTushare = pro.stock_basic(ts_code=stock_code, exchange='', list_status=status, fields='ts_code,symbol,fullname,enname,name,area,industry,list_date')\n",
    "\n",
    "    rawStockCompanyDataInTushare['ts_code']=rawStockCompanyDataInTushare['ts_code'].astype(str)\n",
    "    rawStockCompanyDataInTushare['symbol']=rawStockCompanyDataInTushare['symbol'].astype('float64')\n",
    "    rawStockCompanyDataInTushare['name']=rawStockCompanyDataInTushare['name'].astype(str)\n",
    "    rawStockCompanyDataInTushare['area']=rawStockCompanyDataInTushare['area'].astype(str)\n",
    "    rawStockCompanyDataInTushare['industry']=rawStockCompanyDataInTushare['industry'].astype(str)\n",
    "    rawStockCompanyDataInTushare['fullname']=rawStockCompanyDataInTushare['fullname'].astype(str)\n",
    "    rawStockCompanyDataInTushare['enname']=rawStockCompanyDataInTushare['enname'].astype(str)\n",
    "    rawStockCompanyDataInTushare['list_date']=rawStockCompanyDataInTushare['list_date'].astype('float64')\n",
    "\n",
    "    rawStockCompanyDataInTushare['list_date']=pd.to_datetime(rawStockCompanyDataInTushare['list_date'], format='%Y%m%d')\n",
    "    return rawStockCompanyDataInTushare\n",
    "\n",
    "\n",
    "# 拉取数据\n",
    "def getDailyStockData(stock_code=\"\",start=\"20180101\",end=\"20230101\"):\n",
    "    \"\"\"\n",
    "    拉取股票日结交易信息，时间段默认 2018-1-1 到 2022-1-1，注意：该函数单次只能查询6000条记录。\n",
    "    :param stock_code: 股票代码，默认为空，输入为空的时候，拉取这段时期所有股票的交易消息；若不为空，拉去这只股票这段时间的交易消息\n",
    "    :param start: 开始日期\n",
    "    :param end: 结束日期\n",
    "    :return:\n",
    "    \"\"\"\n",
    "    rawData = pro.daily(**{\n",
    "        \"ts_code\": stock_code,\n",
    "        \"trade_date\": \"\",\n",
    "        \"start_date\": start,\n",
    "        \"end_date\": end,\n",
    "        \"offset\": \"\",\n",
    "        \"limit\": \"\",\n",
    "    }, fields=[\n",
    "        \"ts_code\",\n",
    "        \"trade_date\",\n",
    "        \"open\",\n",
    "        \"high\",\n",
    "        \"low\",\n",
    "        \"close\",\n",
    "        \"pre_close\",\n",
    "        \"change\",\n",
    "        \"pct_chg\",\n",
    "        \"vol\",\n",
    "        \"amount\"\n",
    "    ])\n",
    "    rawData['ts_code']=rawData['ts_code'].astype(str)\n",
    "    rawData['trade_date']=rawData['trade_date'].astype('float64')\n",
    "\n",
    "    rawData['trade_date']=pd.to_datetime(rawData['trade_date'], format='%Y%m%d')\n",
    "    return rawData\n"
   ],
   "metadata": {
    "collapsed": false,
    "ExecuteTime": {
     "end_time": "2023-05-09T01:45:59.646213Z",
     "start_time": "2023-05-09T01:45:59.591312400Z"
    }
   }
  },
  {
   "cell_type": "code",
   "execution_count": 3,
   "outputs": [
    {
     "name": "stdout",
     "output_type": "stream",
     "text": [
      "The shape of the data frame: (5168, 8)\n",
      "The types in the data frame ts_code              object\n",
      "symbol              float64\n",
      "name                 object\n",
      "area                 object\n",
      "industry             object\n",
      "fullname             object\n",
      "enname               object\n",
      "list_date    datetime64[ns]\n",
      "dtype: object\n"
     ]
    },
    {
     "data": {
      "text/plain": "        ts_code    symbol     name  area industry          fullname  \\\n0     000001.SZ       1.0     平安银行    深圳       银行        平安银行股份有限公司   \n1     000002.SZ       2.0      万科A    深圳     全国地产        万科企业股份有限公司   \n2     000004.SZ       4.0     ST国华    深圳     软件服务    深圳国华网安科技股份有限公司   \n3     000005.SZ       5.0     ST星源    深圳     环境保护      深圳世纪星源股份有限公司   \n4     000006.SZ       6.0     深振业A    深圳     区域地产   深圳市振业(集团)股份有限公司   \n...         ...       ...      ...   ...      ...               ...   \n5163  873305.BJ  873305.0     九菱科技  None     None      荆州九菱科技股份有限公司   \n5164  873339.BJ  873339.0     恒太照明  None     None      江苏恒太照明股份有限公司   \n5165  873527.BJ  873527.0      夜光明  None     None   浙江夜光明光电科技股份有限公司   \n5166  873593.BJ  873593.0     鼎智科技  None     None  江苏鼎智智能控制科技股份有限公司   \n5167  689009.SH  689009.0  九号公司-WD    北京      摩托车            九号有限公司   \n\n                                                 enname  list_date  \n0                                Ping An Bank Co., Ltd. 1991-04-03  \n1                                  China Vanke Co.,Ltd. 1991-01-29  \n2     Shenzhen Guohua Network Security Technology Co... 1991-01-14  \n3                         Shenzhen Fountain Corporation 1990-12-10  \n4                       Shenzhen Zhenye(Group) Co., Ltd 1992-04-27  \n...                                                 ...        ...  \n5163      Jingzhou Julin Science And Technology Co.,Ltd 2022-12-21  \n5164                 Jiangsu Ever-Tie Lighting Co., Ltd 2022-11-17  \n5165                    Zhejiang Ygm Technology Co.,Ltd 2022-10-27  \n5166  Jiangsu DINGS Intelligent Control Technology C... 2023-04-13  \n5167                                    Ninebot Limited 2020-10-29  \n\n[5168 rows x 8 columns]",
      "text/html": "<div>\n<style scoped>\n    .dataframe tbody tr th:only-of-type {\n        vertical-align: middle;\n    }\n\n    .dataframe tbody tr th {\n        vertical-align: top;\n    }\n\n    .dataframe thead th {\n        text-align: right;\n    }\n</style>\n<table border=\"1\" class=\"dataframe\">\n  <thead>\n    <tr style=\"text-align: right;\">\n      <th></th>\n      <th>ts_code</th>\n      <th>symbol</th>\n      <th>name</th>\n      <th>area</th>\n      <th>industry</th>\n      <th>fullname</th>\n      <th>enname</th>\n      <th>list_date</th>\n    </tr>\n  </thead>\n  <tbody>\n    <tr>\n      <th>0</th>\n      <td>000001.SZ</td>\n      <td>1.0</td>\n      <td>平安银行</td>\n      <td>深圳</td>\n      <td>银行</td>\n      <td>平安银行股份有限公司</td>\n      <td>Ping An Bank Co., Ltd.</td>\n      <td>1991-04-03</td>\n    </tr>\n    <tr>\n      <th>1</th>\n      <td>000002.SZ</td>\n      <td>2.0</td>\n      <td>万科A</td>\n      <td>深圳</td>\n      <td>全国地产</td>\n      <td>万科企业股份有限公司</td>\n      <td>China Vanke Co.,Ltd.</td>\n      <td>1991-01-29</td>\n    </tr>\n    <tr>\n      <th>2</th>\n      <td>000004.SZ</td>\n      <td>4.0</td>\n      <td>ST国华</td>\n      <td>深圳</td>\n      <td>软件服务</td>\n      <td>深圳国华网安科技股份有限公司</td>\n      <td>Shenzhen Guohua Network Security Technology Co...</td>\n      <td>1991-01-14</td>\n    </tr>\n    <tr>\n      <th>3</th>\n      <td>000005.SZ</td>\n      <td>5.0</td>\n      <td>ST星源</td>\n      <td>深圳</td>\n      <td>环境保护</td>\n      <td>深圳世纪星源股份有限公司</td>\n      <td>Shenzhen Fountain Corporation</td>\n      <td>1990-12-10</td>\n    </tr>\n    <tr>\n      <th>4</th>\n      <td>000006.SZ</td>\n      <td>6.0</td>\n      <td>深振业A</td>\n      <td>深圳</td>\n      <td>区域地产</td>\n      <td>深圳市振业(集团)股份有限公司</td>\n      <td>Shenzhen Zhenye(Group) Co., Ltd</td>\n      <td>1992-04-27</td>\n    </tr>\n    <tr>\n      <th>...</th>\n      <td>...</td>\n      <td>...</td>\n      <td>...</td>\n      <td>...</td>\n      <td>...</td>\n      <td>...</td>\n      <td>...</td>\n      <td>...</td>\n    </tr>\n    <tr>\n      <th>5163</th>\n      <td>873305.BJ</td>\n      <td>873305.0</td>\n      <td>九菱科技</td>\n      <td>None</td>\n      <td>None</td>\n      <td>荆州九菱科技股份有限公司</td>\n      <td>Jingzhou Julin Science And Technology Co.,Ltd</td>\n      <td>2022-12-21</td>\n    </tr>\n    <tr>\n      <th>5164</th>\n      <td>873339.BJ</td>\n      <td>873339.0</td>\n      <td>恒太照明</td>\n      <td>None</td>\n      <td>None</td>\n      <td>江苏恒太照明股份有限公司</td>\n      <td>Jiangsu Ever-Tie Lighting Co., Ltd</td>\n      <td>2022-11-17</td>\n    </tr>\n    <tr>\n      <th>5165</th>\n      <td>873527.BJ</td>\n      <td>873527.0</td>\n      <td>夜光明</td>\n      <td>None</td>\n      <td>None</td>\n      <td>浙江夜光明光电科技股份有限公司</td>\n      <td>Zhejiang Ygm Technology Co.,Ltd</td>\n      <td>2022-10-27</td>\n    </tr>\n    <tr>\n      <th>5166</th>\n      <td>873593.BJ</td>\n      <td>873593.0</td>\n      <td>鼎智科技</td>\n      <td>None</td>\n      <td>None</td>\n      <td>江苏鼎智智能控制科技股份有限公司</td>\n      <td>Jiangsu DINGS Intelligent Control Technology C...</td>\n      <td>2023-04-13</td>\n    </tr>\n    <tr>\n      <th>5167</th>\n      <td>689009.SH</td>\n      <td>689009.0</td>\n      <td>九号公司-WD</td>\n      <td>北京</td>\n      <td>摩托车</td>\n      <td>九号有限公司</td>\n      <td>Ninebot Limited</td>\n      <td>2020-10-29</td>\n    </tr>\n  </tbody>\n</table>\n<p>5168 rows × 8 columns</p>\n</div>"
     },
     "execution_count": 3,
     "metadata": {},
     "output_type": "execute_result"
    }
   ],
   "source": [
    "rawCompanyDataInTushare=getStockCompanyInformation()\n",
    "print(\"The shape of the data frame: {}\".format(rawCompanyDataInTushare.shape))\n",
    "print(\"The types in the data frame {}\".format(rawCompanyDataInTushare.dtypes))\n",
    "rawCompanyDataInTushare"
   ],
   "metadata": {
    "collapsed": false,
    "ExecuteTime": {
     "end_time": "2023-05-09T01:46:00.594590400Z",
     "start_time": "2023-05-09T01:45:59.621232100Z"
    }
   }
  },
  {
   "cell_type": "code",
   "execution_count": 4,
   "outputs": [
    {
     "name": "stdout",
     "output_type": "stream",
     "text": [
      "The shape of the data frame: (6000, 11)\n",
      "The types in the data frame:\n",
      "ts_code               object\n",
      "trade_date    datetime64[ns]\n",
      "open                 float64\n",
      "high                 float64\n",
      "low                  float64\n",
      "close                float64\n",
      "pre_close            float64\n",
      "change               float64\n",
      "pct_chg              float64\n",
      "vol                  float64\n",
      "amount               float64\n",
      "dtype: object\n",
      "The unique stock code: 5061\n"
     ]
    },
    {
     "data": {
      "text/plain": "        ts_code trade_date   open   high    low  close  pre_close  change  \\\n0     002198.SZ 2022-12-30   6.39   6.57   6.33   6.52       6.40    0.12   \n1     002199.SZ 2022-12-30   6.36   6.43   6.28   6.39       6.29    0.10   \n2     002194.SZ 2022-12-30   9.13   9.26   9.07   9.21       9.10    0.11   \n3     002181.SZ 2022-12-30   5.28   5.52   5.28   5.46       5.31    0.15   \n4     002195.SZ 2022-12-30   1.99   2.02   1.98   2.01       1.98    0.03   \n...         ...        ...    ...    ...    ...    ...        ...     ...   \n5995  300185.SZ 2022-12-29   2.43   2.43   2.38   2.39       2.43   -0.04   \n5996  002212.SZ 2022-12-29   9.51   9.93   9.48   9.85       9.59    0.26   \n5997  002213.SZ 2022-12-29  16.37  16.37  15.61  15.68      14.88    0.80   \n5998  002397.SZ 2022-12-29   4.54   4.67   4.51   4.54       4.60   -0.06   \n5999  300024.SZ 2022-12-29   8.83   8.99   8.83   8.88       8.92   -0.04   \n\n      pct_chg        vol      amount  \n0      1.8750  101579.12   65646.164  \n1      1.5898   38684.00   24640.014  \n2      1.2088  101101.41   92895.425  \n3      2.8249  547665.70  297495.407  \n4      1.5152  444728.72   89088.620  \n...       ...        ...         ...  \n5995  -1.6461  169697.00   40744.559  \n5996   2.7112  166568.42  163068.690  \n5997   5.3763  238641.86  386408.221  \n5998  -1.3043  127870.79   58483.435  \n5999  -0.4484   66528.10   59381.114  \n\n[6000 rows x 11 columns]",
      "text/html": "<div>\n<style scoped>\n    .dataframe tbody tr th:only-of-type {\n        vertical-align: middle;\n    }\n\n    .dataframe tbody tr th {\n        vertical-align: top;\n    }\n\n    .dataframe thead th {\n        text-align: right;\n    }\n</style>\n<table border=\"1\" class=\"dataframe\">\n  <thead>\n    <tr style=\"text-align: right;\">\n      <th></th>\n      <th>ts_code</th>\n      <th>trade_date</th>\n      <th>open</th>\n      <th>high</th>\n      <th>low</th>\n      <th>close</th>\n      <th>pre_close</th>\n      <th>change</th>\n      <th>pct_chg</th>\n      <th>vol</th>\n      <th>amount</th>\n    </tr>\n  </thead>\n  <tbody>\n    <tr>\n      <th>0</th>\n      <td>002198.SZ</td>\n      <td>2022-12-30</td>\n      <td>6.39</td>\n      <td>6.57</td>\n      <td>6.33</td>\n      <td>6.52</td>\n      <td>6.40</td>\n      <td>0.12</td>\n      <td>1.8750</td>\n      <td>101579.12</td>\n      <td>65646.164</td>\n    </tr>\n    <tr>\n      <th>1</th>\n      <td>002199.SZ</td>\n      <td>2022-12-30</td>\n      <td>6.36</td>\n      <td>6.43</td>\n      <td>6.28</td>\n      <td>6.39</td>\n      <td>6.29</td>\n      <td>0.10</td>\n      <td>1.5898</td>\n      <td>38684.00</td>\n      <td>24640.014</td>\n    </tr>\n    <tr>\n      <th>2</th>\n      <td>002194.SZ</td>\n      <td>2022-12-30</td>\n      <td>9.13</td>\n      <td>9.26</td>\n      <td>9.07</td>\n      <td>9.21</td>\n      <td>9.10</td>\n      <td>0.11</td>\n      <td>1.2088</td>\n      <td>101101.41</td>\n      <td>92895.425</td>\n    </tr>\n    <tr>\n      <th>3</th>\n      <td>002181.SZ</td>\n      <td>2022-12-30</td>\n      <td>5.28</td>\n      <td>5.52</td>\n      <td>5.28</td>\n      <td>5.46</td>\n      <td>5.31</td>\n      <td>0.15</td>\n      <td>2.8249</td>\n      <td>547665.70</td>\n      <td>297495.407</td>\n    </tr>\n    <tr>\n      <th>4</th>\n      <td>002195.SZ</td>\n      <td>2022-12-30</td>\n      <td>1.99</td>\n      <td>2.02</td>\n      <td>1.98</td>\n      <td>2.01</td>\n      <td>1.98</td>\n      <td>0.03</td>\n      <td>1.5152</td>\n      <td>444728.72</td>\n      <td>89088.620</td>\n    </tr>\n    <tr>\n      <th>...</th>\n      <td>...</td>\n      <td>...</td>\n      <td>...</td>\n      <td>...</td>\n      <td>...</td>\n      <td>...</td>\n      <td>...</td>\n      <td>...</td>\n      <td>...</td>\n      <td>...</td>\n      <td>...</td>\n    </tr>\n    <tr>\n      <th>5995</th>\n      <td>300185.SZ</td>\n      <td>2022-12-29</td>\n      <td>2.43</td>\n      <td>2.43</td>\n      <td>2.38</td>\n      <td>2.39</td>\n      <td>2.43</td>\n      <td>-0.04</td>\n      <td>-1.6461</td>\n      <td>169697.00</td>\n      <td>40744.559</td>\n    </tr>\n    <tr>\n      <th>5996</th>\n      <td>002212.SZ</td>\n      <td>2022-12-29</td>\n      <td>9.51</td>\n      <td>9.93</td>\n      <td>9.48</td>\n      <td>9.85</td>\n      <td>9.59</td>\n      <td>0.26</td>\n      <td>2.7112</td>\n      <td>166568.42</td>\n      <td>163068.690</td>\n    </tr>\n    <tr>\n      <th>5997</th>\n      <td>002213.SZ</td>\n      <td>2022-12-29</td>\n      <td>16.37</td>\n      <td>16.37</td>\n      <td>15.61</td>\n      <td>15.68</td>\n      <td>14.88</td>\n      <td>0.80</td>\n      <td>5.3763</td>\n      <td>238641.86</td>\n      <td>386408.221</td>\n    </tr>\n    <tr>\n      <th>5998</th>\n      <td>002397.SZ</td>\n      <td>2022-12-29</td>\n      <td>4.54</td>\n      <td>4.67</td>\n      <td>4.51</td>\n      <td>4.54</td>\n      <td>4.60</td>\n      <td>-0.06</td>\n      <td>-1.3043</td>\n      <td>127870.79</td>\n      <td>58483.435</td>\n    </tr>\n    <tr>\n      <th>5999</th>\n      <td>300024.SZ</td>\n      <td>2022-12-29</td>\n      <td>8.83</td>\n      <td>8.99</td>\n      <td>8.83</td>\n      <td>8.88</td>\n      <td>8.92</td>\n      <td>-0.04</td>\n      <td>-0.4484</td>\n      <td>66528.10</td>\n      <td>59381.114</td>\n    </tr>\n  </tbody>\n</table>\n<p>6000 rows × 11 columns</p>\n</div>"
     },
     "execution_count": 4,
     "metadata": {},
     "output_type": "execute_result"
    }
   ],
   "source": [
    "rawDailyDataInTushare=getDailyStockData()\n",
    "print(\"The shape of the data frame: {}\".format(rawDailyDataInTushare.shape))\n",
    "print(\"The types in the data frame:\\n{}\".format(rawDailyDataInTushare.dtypes))\n",
    "print(\"The unique stock code: {}\".format(len(rawDailyDataInTushare['ts_code'].unique())))\n",
    "rawDailyDataInTushare"
   ],
   "metadata": {
    "collapsed": false,
    "ExecuteTime": {
     "end_time": "2023-05-09T01:46:01.513229600Z",
     "start_time": "2023-05-09T01:46:00.591402200Z"
    }
   }
  },
  {
   "cell_type": "code",
   "execution_count": 5,
   "outputs": [
    {
     "data": {
      "text/plain": "        ts_code trade_date  open  high   low  close  pre_close  change  \\\n0     000006.SZ 2022-12-30  6.29  6.46  6.21   6.30       6.13    0.17   \n1     000006.SZ 2022-12-29  6.60  6.65  6.13   6.13       6.81   -0.68   \n2     000006.SZ 2022-12-28  6.47  7.17  6.40   6.81       6.64    0.17   \n3     000006.SZ 2022-12-27  6.00  6.64  5.96   6.64       6.04    0.60   \n4     000006.SZ 2022-12-26  5.69  6.18  5.65   6.04       5.91    0.13   \n...         ...        ...   ...   ...   ...    ...        ...     ...   \n1168  000006.SZ 2018-03-14  8.55  8.65  8.28   8.29       8.70   -0.41   \n1169  000006.SZ 2018-03-13  8.65  8.88  8.60   8.70       8.65    0.05   \n1170  000006.SZ 2018-03-12  8.61  8.79  8.49   8.65       8.80   -0.15   \n1171  000006.SZ 2018-03-09  8.61  9.23  8.44   8.80       8.87   -0.07   \n1172  000006.SZ 2018-03-08  8.87  8.87  8.87   8.87       9.85   -0.98   \n\n      pct_chg         vol       amount  \n0      2.7732  1280164.06   807162.552  \n1     -9.9853  2067778.94  1305956.659  \n2      2.5602  2646897.32  1789639.303  \n3      9.9338  2469265.08  1612828.768  \n4      2.1997  1502166.93   894013.083  \n...       ...         ...          ...  \n1168  -4.7100   596514.45   502396.942  \n1169   0.5800   607777.85   530832.951  \n1170  -1.7000   738316.89   635967.707  \n1171  -0.7900  1119431.92   971167.257  \n1172  -9.9500    58255.00    51672.185  \n\n[1173 rows x 11 columns]",
      "text/html": "<div>\n<style scoped>\n    .dataframe tbody tr th:only-of-type {\n        vertical-align: middle;\n    }\n\n    .dataframe tbody tr th {\n        vertical-align: top;\n    }\n\n    .dataframe thead th {\n        text-align: right;\n    }\n</style>\n<table border=\"1\" class=\"dataframe\">\n  <thead>\n    <tr style=\"text-align: right;\">\n      <th></th>\n      <th>ts_code</th>\n      <th>trade_date</th>\n      <th>open</th>\n      <th>high</th>\n      <th>low</th>\n      <th>close</th>\n      <th>pre_close</th>\n      <th>change</th>\n      <th>pct_chg</th>\n      <th>vol</th>\n      <th>amount</th>\n    </tr>\n  </thead>\n  <tbody>\n    <tr>\n      <th>0</th>\n      <td>000006.SZ</td>\n      <td>2022-12-30</td>\n      <td>6.29</td>\n      <td>6.46</td>\n      <td>6.21</td>\n      <td>6.30</td>\n      <td>6.13</td>\n      <td>0.17</td>\n      <td>2.7732</td>\n      <td>1280164.06</td>\n      <td>807162.552</td>\n    </tr>\n    <tr>\n      <th>1</th>\n      <td>000006.SZ</td>\n      <td>2022-12-29</td>\n      <td>6.60</td>\n      <td>6.65</td>\n      <td>6.13</td>\n      <td>6.13</td>\n      <td>6.81</td>\n      <td>-0.68</td>\n      <td>-9.9853</td>\n      <td>2067778.94</td>\n      <td>1305956.659</td>\n    </tr>\n    <tr>\n      <th>2</th>\n      <td>000006.SZ</td>\n      <td>2022-12-28</td>\n      <td>6.47</td>\n      <td>7.17</td>\n      <td>6.40</td>\n      <td>6.81</td>\n      <td>6.64</td>\n      <td>0.17</td>\n      <td>2.5602</td>\n      <td>2646897.32</td>\n      <td>1789639.303</td>\n    </tr>\n    <tr>\n      <th>3</th>\n      <td>000006.SZ</td>\n      <td>2022-12-27</td>\n      <td>6.00</td>\n      <td>6.64</td>\n      <td>5.96</td>\n      <td>6.64</td>\n      <td>6.04</td>\n      <td>0.60</td>\n      <td>9.9338</td>\n      <td>2469265.08</td>\n      <td>1612828.768</td>\n    </tr>\n    <tr>\n      <th>4</th>\n      <td>000006.SZ</td>\n      <td>2022-12-26</td>\n      <td>5.69</td>\n      <td>6.18</td>\n      <td>5.65</td>\n      <td>6.04</td>\n      <td>5.91</td>\n      <td>0.13</td>\n      <td>2.1997</td>\n      <td>1502166.93</td>\n      <td>894013.083</td>\n    </tr>\n    <tr>\n      <th>...</th>\n      <td>...</td>\n      <td>...</td>\n      <td>...</td>\n      <td>...</td>\n      <td>...</td>\n      <td>...</td>\n      <td>...</td>\n      <td>...</td>\n      <td>...</td>\n      <td>...</td>\n      <td>...</td>\n    </tr>\n    <tr>\n      <th>1168</th>\n      <td>000006.SZ</td>\n      <td>2018-03-14</td>\n      <td>8.55</td>\n      <td>8.65</td>\n      <td>8.28</td>\n      <td>8.29</td>\n      <td>8.70</td>\n      <td>-0.41</td>\n      <td>-4.7100</td>\n      <td>596514.45</td>\n      <td>502396.942</td>\n    </tr>\n    <tr>\n      <th>1169</th>\n      <td>000006.SZ</td>\n      <td>2018-03-13</td>\n      <td>8.65</td>\n      <td>8.88</td>\n      <td>8.60</td>\n      <td>8.70</td>\n      <td>8.65</td>\n      <td>0.05</td>\n      <td>0.5800</td>\n      <td>607777.85</td>\n      <td>530832.951</td>\n    </tr>\n    <tr>\n      <th>1170</th>\n      <td>000006.SZ</td>\n      <td>2018-03-12</td>\n      <td>8.61</td>\n      <td>8.79</td>\n      <td>8.49</td>\n      <td>8.65</td>\n      <td>8.80</td>\n      <td>-0.15</td>\n      <td>-1.7000</td>\n      <td>738316.89</td>\n      <td>635967.707</td>\n    </tr>\n    <tr>\n      <th>1171</th>\n      <td>000006.SZ</td>\n      <td>2018-03-09</td>\n      <td>8.61</td>\n      <td>9.23</td>\n      <td>8.44</td>\n      <td>8.80</td>\n      <td>8.87</td>\n      <td>-0.07</td>\n      <td>-0.7900</td>\n      <td>1119431.92</td>\n      <td>971167.257</td>\n    </tr>\n    <tr>\n      <th>1172</th>\n      <td>000006.SZ</td>\n      <td>2018-03-08</td>\n      <td>8.87</td>\n      <td>8.87</td>\n      <td>8.87</td>\n      <td>8.87</td>\n      <td>9.85</td>\n      <td>-0.98</td>\n      <td>-9.9500</td>\n      <td>58255.00</td>\n      <td>51672.185</td>\n    </tr>\n  </tbody>\n</table>\n<p>1173 rows × 11 columns</p>\n</div>"
     },
     "execution_count": 5,
     "metadata": {},
     "output_type": "execute_result"
    }
   ],
   "source": [
    "##test\n",
    "testDailyStockData=getDailyStockData(stock_code=\"000006.SZ\")\n",
    "testDailyStockData"
   ],
   "metadata": {
    "collapsed": false,
    "ExecuteTime": {
     "end_time": "2023-05-09T01:46:01.760489100Z",
     "start_time": "2023-05-09T01:46:01.486153100Z"
    }
   }
  },
  {
   "cell_type": "code",
   "execution_count": 6,
   "outputs": [],
   "source": [
    "###由于Toshare社区限制每次查询只能拿到 6000 行日结交易信息（每日每公司为一行），而且每分钟只能查500次。为了得到当前所有上市公司，每次查询只查一家上市公司而且将会延迟0.2秒\n",
    "def bindDailyAndCompanyInformation():\n",
    "    notIncludedData=['name']\n",
    "\n",
    "    startTime=datetime.now()\n",
    "    companies=getStockCompanyInformation()\n",
    "    bindData=pd.DataFrame()\n",
    "    i=2\n",
    "    for company in companies['ts_code'].to_numpy():\n",
    "        dailyData=getDailyStockData(stock_code=company)\n",
    "        for header in companies.columns:\n",
    "            if header!=\"ts_code\":\n",
    "                #test only\n",
    "                # print(\"------------------------------------\")\n",
    "                # print(companies[companies['ts_code'] == company][header].values.repeat(5))\n",
    "                # print(dailyData.shape[0])\n",
    "                # print(\"------------------------------------\")\n",
    "                dailyData[header]= companies[companies['ts_code'] == company][header].values.repeat(dailyData.shape[0])\n",
    "\n",
    "        dailyData=dailyData.drop(columns=notIncludedData)\n",
    "        bindData=bindData.append(dailyData)\n",
    "        #time.sleep(0.15)\n",
    "        ###########test only\n",
    "        #print(dailyData)\n",
    "        # if i==1:\n",
    "        #     break\n",
    "        # else:\n",
    "        #     i-=1\n",
    "        ###########\n",
    "    timeConsume=datetime.now()-startTime;\n",
    "    print(\"Run time: {}\".format(timeConsume))\n",
    "    return bindData\n"
   ],
   "metadata": {
    "collapsed": false,
    "ExecuteTime": {
     "end_time": "2023-05-09T01:46:01.781433700Z",
     "start_time": "2023-05-09T01:46:01.764478400Z"
    }
   }
  },
  {
   "cell_type": "code",
   "execution_count": 7,
   "outputs": [],
   "source": [
    "###此cell仅用于下载股票数据，由于信息量庞大，可导入下好的 TushareRawData.csv 文件即可\n",
    "# theBindDataInTushare=bindDailyAndCompanyInformation()\n",
    "# print(\"The shape of the data frame: {}\".format(theBindDataInTushare.shape))\n",
    "# print(\"The types in the data frame:\\n{}\".format(theBindDataInTushare.dtypes))\n",
    "# print(\"The unique stock code: {}\".format(len(theBindDataInTushare['ts_code'].unique())))\n",
    "# theBindDataInTushare.to_csv('stockData/TushareRawData.csv', header=theBindDataInTushare.columns, index=False)"
   ],
   "metadata": {
    "collapsed": false,
    "ExecuteTime": {
     "end_time": "2023-05-09T01:46:01.827721900Z",
     "start_time": "2023-05-09T01:46:01.776448Z"
    }
   }
  },
  {
   "cell_type": "code",
   "execution_count": 8,
   "outputs": [
    {
     "name": "stdout",
     "output_type": "stream",
     "text": [
      "The shape of the data frame: (4808334, 17)\n",
      "The types in the data frame:\n",
      "ts_code        object\n",
      "trade_date     object\n",
      "open          float64\n",
      "high          float64\n",
      "low           float64\n",
      "close         float64\n",
      "pre_close     float64\n",
      "change        float64\n",
      "pct_chg       float64\n",
      "vol           float64\n",
      "amount        float64\n",
      "symbol        float64\n",
      "area           object\n",
      "industry       object\n",
      "fullname       object\n",
      "enname         object\n",
      "list_date      object\n",
      "dtype: object\n",
      "The unique stock code: 5061\n"
     ]
    }
   ],
   "source": [
    "###此cell是本地读取tushare股票信息，如果本地有csv文件就用这个，并且注释上一个cell，如果没下载csv文件就取消注释上一个cell\n",
    "theBindDataInTushare=pd.read_csv('stockData/TushareRawData.csv')\n",
    "print(\"The shape of the data frame: {}\".format(theBindDataInTushare.shape))\n",
    "print(\"The types in the data frame:\\n{}\".format(theBindDataInTushare.dtypes))\n",
    "print(\"The unique stock code: {}\".format(len(theBindDataInTushare['ts_code'].unique())))"
   ],
   "metadata": {
    "collapsed": false,
    "ExecuteTime": {
     "end_time": "2023-05-09T01:46:17.791319800Z",
     "start_time": "2023-05-09T01:46:01.792815Z"
    }
   }
  },
  {
   "cell_type": "code",
   "execution_count": 9,
   "outputs": [
    {
     "name": "stdout",
     "output_type": "stream",
     "text": [
      "The num of miss company: 107\n"
     ]
    }
   ],
   "source": [
    "###不知道为什么有100家公司查不到，手动查询看看情况，然后手动合并吧\n",
    "missedCompany=[]\n",
    "bindCompany=theBindDataInTushare['ts_code'].unique()\n",
    "for code in rawCompanyDataInTushare['ts_code'].values:\n",
    "    if code not in bindCompany:\n",
    "        missedCompany.append(code)\n",
    "\n",
    "\n",
    "# for code in missedCompany:\n",
    "#     print(\"-------------------------------------\")\n",
    "#     print(getDailyStockData(stock_code=code,end=\"20220505\"))\n",
    "#     print(getStockCompanyInformation(stock_code=code))\n",
    "#     print(\"-------------------------------------\")\n",
    "\n",
    "print(\"The num of miss company: {}\".format(len(missedCompany)))\n",
    "\n",
    "###这些股票查不到，这些公司基本都是2023年上市的，可能数据还没更新吧"
   ],
   "metadata": {
    "collapsed": false,
    "ExecuteTime": {
     "end_time": "2023-05-09T01:46:18.622181200Z",
     "start_time": "2023-05-09T01:46:17.793306600Z"
    }
   }
  },
  {
   "cell_type": "code",
   "execution_count": 10,
   "outputs": [
    {
     "data": {
      "text/plain": "<Figure size 1200x800 with 1 Axes>",
      "image/png": "[encoded data removed]"
     },
     "metadata": {},
     "output_type": "display_data"
    },
    {
     "data": {
      "text/plain": "         ts_code  trade_date  open  high   low  close  pre_close  change  \\\n68765  000100.SZ  2022-12-30  3.71  3.73  3.69   3.72       3.70    0.02   \n68766  000100.SZ  2022-12-29  3.72  3.73  3.68   3.70       3.73   -0.03   \n68767  000100.SZ  2022-12-28  3.75  3.76  3.71   3.73       3.75   -0.02   \n68768  000100.SZ  2022-12-27  3.76  3.77  3.73   3.75       3.75    0.00   \n68769  000100.SZ  2022-12-26  3.72  3.76  3.72   3.75       3.73    0.02   \n...          ...         ...   ...   ...   ...    ...        ...     ...   \n69974  000100.SZ  2018-01-08  3.92  3.93  3.84   3.88       3.92   -0.04   \n69975  000100.SZ  2018-01-05  3.97  3.97  3.90   3.92       3.96   -0.04   \n69976  000100.SZ  2018-01-04  3.98  4.03  3.95   3.96       3.99   -0.03   \n69977  000100.SZ  2018-01-03  3.90  4.01  3.89   3.99       3.91    0.08   \n69978  000100.SZ  2018-01-02  3.88  3.94  3.88   3.91       3.90    0.01   \n\n       pct_chg         vol      amount  symbol area industry       fullname  \\\n68765   0.5405   746469.94  277090.833   100.0   广东      元器件  TCL科技集团股份有限公司   \n68766  -0.8043   839641.79  310683.418   100.0   广东      元器件  TCL科技集团股份有限公司   \n68767  -0.5333   690095.26  257697.493   100.0   广东      元器件  TCL科技集团股份有限公司   \n68768   0.0000   514072.58  192359.193   100.0   广东      元器件  TCL科技集团股份有限公司   \n68769   0.5362   533547.21  199601.121   100.0   广东      元器件  TCL科技集团股份有限公司   \n...        ...         ...         ...     ...  ...      ...            ...   \n69974  -1.0200  1195519.87  463110.265   100.0   广东      元器件  TCL科技集团股份有限公司   \n69975  -1.0100   895278.01  351262.479   100.0   广东      元器件  TCL科技集团股份有限公司   \n69976  -0.7500   931098.87  370750.903   100.0   广东      元器件  TCL科技集团股份有限公司   \n69977   2.0500  1460967.32  578296.762   100.0   广东      元器件  TCL科技集团股份有限公司   \n69978   0.2600   891914.47  348298.561   100.0   广东      元器件  TCL科技集团股份有限公司   \n\n                                 enname   list_date  \n68765  Tcl Technology Group Corporation  2004-01-30  \n68766  Tcl Technology Group Corporation  2004-01-30  \n68767  Tcl Technology Group Corporation  2004-01-30  \n68768  Tcl Technology Group Corporation  2004-01-30  \n68769  Tcl Technology Group Corporation  2004-01-30  \n...                                 ...         ...  \n69974  Tcl Technology Group Corporation  2004-01-30  \n69975  Tcl Technology Group Corporation  2004-01-30  \n69976  Tcl Technology Group Corporation  2004-01-30  \n69977  Tcl Technology Group Corporation  2004-01-30  \n69978  Tcl Technology Group Corporation  2004-01-30  \n\n[1214 rows x 17 columns]",
      "text/html": "<div>\n<style scoped>\n    .dataframe tbody tr th:only-of-type {\n        vertical-align: middle;\n    }\n\n    .dataframe tbody tr th {\n        vertical-align: top;\n    }\n\n    .dataframe thead th {\n        text-align: right;\n    }\n</style>\n<table border=\"1\" class=\"dataframe\">\n  <thead>\n    <tr style=\"text-align: right;\">\n      <th></th>\n      <th>ts_code</th>\n      <th>trade_date</th>\n      <th>open</th>\n      <th>high</th>\n      <th>low</th>\n      <th>close</th>\n      <th>pre_close</th>\n      <th>change</th>\n      <th>pct_chg</th>\n      <th>vol</th>\n      <th>amount</th>\n      <th>symbol</th>\n      <th>area</th>\n      <th>industry</th>\n      <th>fullname</th>\n      <th>enname</th>\n      <th>list_date</th>\n    </tr>\n  </thead>\n  <tbody>\n    <tr>\n      <th>68765</th>\n      <td>000100.SZ</td>\n      <td>2022-12-30</td>\n      <td>3.71</td>\n      <td>3.73</td>\n      <td>3.69</td>\n      <td>3.72</td>\n      <td>3.70</td>\n      <td>0.02</td>\n      <td>0.5405</td>\n      <td>746469.94</td>\n      <td>277090.833</td>\n      <td>100.0</td>\n      <td>广东</td>\n      <td>元器件</td>\n      <td>TCL科技集团股份有限公司</td>\n      <td>Tcl Technology Group Corporation</td>\n      <td>2004-01-30</td>\n    </tr>\n    <tr>\n      <th>68766</th>\n      <td>000100.SZ</td>\n      <td>2022-12-29</td>\n      <td>3.72</td>\n      <td>3.73</td>\n      <td>3.68</td>\n      <td>3.70</td>\n      <td>3.73</td>\n      <td>-0.03</td>\n      <td>-0.8043</td>\n      <td>839641.79</td>\n      <td>310683.418</td>\n      <td>100.0</td>\n      <td>广东</td>\n      <td>元器件</td>\n      <td>TCL科技集团股份有限公司</td>\n      <td>Tcl Technology Group Corporation</td>\n      <td>2004-01-30</td>\n    </tr>\n    <tr>\n      <th>68767</th>\n      <td>000100.SZ</td>\n      <td>2022-12-28</td>\n      <td>3.75</td>\n      <td>3.76</td>\n      <td>3.71</td>\n      <td>3.73</td>\n      <td>3.75</td>\n      <td>-0.02</td>\n      <td>-0.5333</td>\n      <td>690095.26</td>\n      <td>257697.493</td>\n      <td>100.0</td>\n      <td>广东</td>\n      <td>元器件</td>\n      <td>TCL科技集团股份有限公司</td>\n      <td>Tcl Technology Group Corporation</td>\n      <td>2004-01-30</td>\n    </tr>\n    <tr>\n      <th>68768</th>\n      <td>000100.SZ</td>\n      <td>2022-12-27</td>\n      <td>3.76</td>\n      <td>3.77</td>\n      <td>3.73</td>\n      <td>3.75</td>\n      <td>3.75</td>\n      <td>0.00</td>\n      <td>0.0000</td>\n      <td>514072.58</td>\n      <td>192359.193</td>\n      <td>100.0</td>\n      <td>广东</td>\n      <td>元器件</td>\n      <td>TCL科技集团股份有限公司</td>\n      <td>Tcl Technology Group Corporation</td>\n      <td>2004-01-30</td>\n    </tr>\n    <tr>\n      <th>68769</th>\n      <td>000100.SZ</td>\n      <td>2022-12-26</td>\n      <td>3.72</td>\n      <td>3.76</td>\n      <td>3.72</td>\n      <td>3.75</td>\n      <td>3.73</td>\n      <td>0.02</td>\n      <td>0.5362</td>\n      <td>533547.21</td>\n      <td>199601.121</td>\n      <td>100.0</td>\n      <td>广东</td>\n      <td>元器件</td>\n      <td>TCL科技集团股份有限公司</td>\n      <td>Tcl Technology Group Corporation</td>\n      <td>2004-01-30</td>\n    </tr>\n    <tr>\n      <th>...</th>\n      <td>...</td>\n      <td>...</td>\n      <td>...</td>\n      <td>...</td>\n      <td>...</td>\n      <td>...</td>\n      <td>...</td>\n      <td>...</td>\n      <td>...</td>\n      <td>...</td>\n      <td>...</td>\n      <td>...</td>\n      <td>...</td>\n      <td>...</td>\n      <td>...</td>\n      <td>...</td>\n      <td>...</td>\n    </tr>\n    <tr>\n      <th>69974</th>\n      <td>000100.SZ</td>\n      <td>2018-01-08</td>\n      <td>3.92</td>\n      <td>3.93</td>\n      <td>3.84</td>\n      <td>3.88</td>\n      <td>3.92</td>\n      <td>-0.04</td>\n      <td>-1.0200</td>\n      <td>1195519.87</td>\n      <td>463110.265</td>\n      <td>100.0</td>\n      <td>广东</td>\n      <td>元器件</td>\n      <td>TCL科技集团股份有限公司</td>\n      <td>Tcl Technology Group Corporation</td>\n      <td>2004-01-30</td>\n    </tr>\n    <tr>\n      <th>69975</th>\n      <td>000100.SZ</td>\n      <td>2018-01-05</td>\n      <td>3.97</td>\n      <td>3.97</td>\n      <td>3.90</td>\n      <td>3.92</td>\n      <td>3.96</td>\n      <td>-0.04</td>\n      <td>-1.0100</td>\n      <td>895278.01</td>\n      <td>351262.479</td>\n      <td>100.0</td>\n      <td>广东</td>\n      <td>元器件</td>\n      <td>TCL科技集团股份有限公司</td>\n      <td>Tcl Technology Group Corporation</td>\n      <td>2004-01-30</td>\n    </tr>\n    <tr>\n      <th>69976</th>\n      <td>000100.SZ</td>\n      <td>2018-01-04</td>\n      <td>3.98</td>\n      <td>4.03</td>\n      <td>3.95</td>\n      <td>3.96</td>\n      <td>3.99</td>\n      <td>-0.03</td>\n      <td>-0.7500</td>\n      <td>931098.87</td>\n      <td>370750.903</td>\n      <td>100.0</td>\n      <td>广东</td>\n      <td>元器件</td>\n      <td>TCL科技集团股份有限公司</td>\n      <td>Tcl Technology Group Corporation</td>\n      <td>2004-01-30</td>\n    </tr>\n    <tr>\n      <th>69977</th>\n      <td>000100.SZ</td>\n      <td>2018-01-03</td>\n      <td>3.90</td>\n      <td>4.01</td>\n      <td>3.89</td>\n      <td>3.99</td>\n      <td>3.91</td>\n      <td>0.08</td>\n      <td>2.0500</td>\n      <td>1460967.32</td>\n      <td>578296.762</td>\n      <td>100.0</td>\n      <td>广东</td>\n      <td>元器件</td>\n      <td>TCL科技集团股份有限公司</td>\n      <td>Tcl Technology Group Corporation</td>\n      <td>2004-01-30</td>\n    </tr>\n    <tr>\n      <th>69978</th>\n      <td>000100.SZ</td>\n      <td>2018-01-02</td>\n      <td>3.88</td>\n      <td>3.94</td>\n      <td>3.88</td>\n      <td>3.91</td>\n      <td>3.90</td>\n      <td>0.01</td>\n      <td>0.2600</td>\n      <td>891914.47</td>\n      <td>348298.561</td>\n      <td>100.0</td>\n      <td>广东</td>\n      <td>元器件</td>\n      <td>TCL科技集团股份有限公司</td>\n      <td>Tcl Technology Group Corporation</td>\n      <td>2004-01-30</td>\n    </tr>\n  </tbody>\n</table>\n<p>1214 rows × 17 columns</p>\n</div>"
     },
     "execution_count": 10,
     "metadata": {},
     "output_type": "execute_result"
    }
   ],
   "source": [
    "TCLStock=theBindDataInTushare[theBindDataInTushare['ts_code']==\"000100.SZ\"]\n",
    "plt.figure(figsize=(12,8))\n",
    "plt.plot(TCLStock['trade_date'],TCLStock['high'],label=\"high\")\n",
    "plt.plot(TCLStock['trade_date'],TCLStock['low'],label=\"low\")\n",
    "plt.xlabel(\"Date\")\n",
    "plt.ylabel(\"Amount\")\n",
    "plt.title('TCL100')\n",
    "plt.legend()   #打上标签\n",
    "plt.show()\n",
    "TCLStock"
   ],
   "metadata": {
    "collapsed": false,
    "ExecuteTime": {
     "end_time": "2023-05-09T01:46:26.104752400Z",
     "start_time": "2023-05-09T01:46:18.624176400Z"
    }
   }
  },
  {
   "cell_type": "markdown",
   "source": [
    "## 1.2 use yfinance (雅虎非官方API) api get stock data"
   ],
   "metadata": {
    "collapsed": false
   }
  },
  {
   "cell_type": "code",
   "execution_count": 11,
   "outputs": [
    {
     "name": "stdout",
     "output_type": "stream",
     "text": [
      "[*********************100%***********************]  1 of 1 completed\n",
      "The types in the data frame:\n",
      "Open         float64\n",
      "High         float64\n",
      "Low          float64\n",
      "Close        float64\n",
      "Adj Close    float64\n",
      "Volume         int64\n",
      "dtype: object\n"
     ]
    },
    {
     "data": {
      "text/plain": "                 Open       High        Low      Close  Adj Close     Volume\nDate                                                                        \n2018-01-02  10.420000  11.020000  10.340000  10.980000  10.980000   44146300\n2018-01-03  11.610000  12.140000  11.360000  11.550000  11.550000  154066700\n2018-01-04  12.100000  12.430000  11.970000  12.120000  12.120000  109503000\n2018-01-05  12.190000  12.220000  11.660000  11.880000  11.880000   63808900\n2018-01-08  12.010000  12.300000  11.850000  12.280000  12.280000   63346000\n...               ...        ...        ...        ...        ...        ...\n2022-12-23  63.110001  64.660004  62.720001  64.519997  64.519997   45923000\n2022-12-27  63.869999  64.279999  62.970001  63.270000  63.270000   36086000\n2022-12-28  62.540001  63.540001  61.959999  62.570000  62.570000   39526500\n2022-12-29  63.639999  65.180000  63.060001  64.820000  64.820000   41428500\n2022-12-30  63.770000  64.820000  63.139999  64.769997  64.769997   37127000\n\n[1259 rows x 6 columns]",
      "text/html": "<div>\n<style scoped>\n    .dataframe tbody tr th:only-of-type {\n        vertical-align: middle;\n    }\n\n    .dataframe tbody tr th {\n        vertical-align: top;\n    }\n\n    .dataframe thead th {\n        text-align: right;\n    }\n</style>\n<table border=\"1\" class=\"dataframe\">\n  <thead>\n    <tr style=\"text-align: right;\">\n      <th></th>\n      <th>Open</th>\n      <th>High</th>\n      <th>Low</th>\n      <th>Close</th>\n      <th>Adj Close</th>\n      <th>Volume</th>\n    </tr>\n    <tr>\n      <th>Date</th>\n      <th></th>\n      <th></th>\n      <th></th>\n      <th></th>\n      <th></th>\n      <th></th>\n    </tr>\n  </thead>\n  <tbody>\n    <tr>\n      <th>2018-01-02</th>\n      <td>10.420000</td>\n      <td>11.020000</td>\n      <td>10.340000</td>\n      <td>10.980000</td>\n      <td>10.980000</td>\n      <td>44146300</td>\n    </tr>\n    <tr>\n      <th>2018-01-03</th>\n      <td>11.610000</td>\n      <td>12.140000</td>\n      <td>11.360000</td>\n      <td>11.550000</td>\n      <td>11.550000</td>\n      <td>154066700</td>\n    </tr>\n    <tr>\n      <th>2018-01-04</th>\n      <td>12.100000</td>\n      <td>12.430000</td>\n      <td>11.970000</td>\n      <td>12.120000</td>\n      <td>12.120000</td>\n      <td>109503000</td>\n    </tr>\n    <tr>\n      <th>2018-01-05</th>\n      <td>12.190000</td>\n      <td>12.220000</td>\n      <td>11.660000</td>\n      <td>11.880000</td>\n      <td>11.880000</td>\n      <td>63808900</td>\n    </tr>\n    <tr>\n      <th>2018-01-08</th>\n      <td>12.010000</td>\n      <td>12.300000</td>\n      <td>11.850000</td>\n      <td>12.280000</td>\n      <td>12.280000</td>\n      <td>63346000</td>\n    </tr>\n    <tr>\n      <th>...</th>\n      <td>...</td>\n      <td>...</td>\n      <td>...</td>\n      <td>...</td>\n      <td>...</td>\n      <td>...</td>\n    </tr>\n    <tr>\n      <th>2022-12-23</th>\n      <td>63.110001</td>\n      <td>64.660004</td>\n      <td>62.720001</td>\n      <td>64.519997</td>\n      <td>64.519997</td>\n      <td>45923000</td>\n    </tr>\n    <tr>\n      <th>2022-12-27</th>\n      <td>63.869999</td>\n      <td>64.279999</td>\n      <td>62.970001</td>\n      <td>63.270000</td>\n      <td>63.270000</td>\n      <td>36086000</td>\n    </tr>\n    <tr>\n      <th>2022-12-28</th>\n      <td>62.540001</td>\n      <td>63.540001</td>\n      <td>61.959999</td>\n      <td>62.570000</td>\n      <td>62.570000</td>\n      <td>39526500</td>\n    </tr>\n    <tr>\n      <th>2022-12-29</th>\n      <td>63.639999</td>\n      <td>65.180000</td>\n      <td>63.060001</td>\n      <td>64.820000</td>\n      <td>64.820000</td>\n      <td>41428500</td>\n    </tr>\n    <tr>\n      <th>2022-12-30</th>\n      <td>63.770000</td>\n      <td>64.820000</td>\n      <td>63.139999</td>\n      <td>64.769997</td>\n      <td>64.769997</td>\n      <td>37127000</td>\n    </tr>\n  </tbody>\n</table>\n<p>1259 rows × 6 columns</p>\n</div>"
     },
     "execution_count": 11,
     "metadata": {},
     "output_type": "execute_result"
    }
   ],
   "source": [
    "#测试api\n",
    "data = yf.download(tickers='AMD',start='2018-01-1',end='2023-01-01')\n",
    "print(\"The types in the data frame:\\n{}\".format(data.dtypes))\n",
    "data"
   ],
   "metadata": {
    "collapsed": false,
    "ExecuteTime": {
     "end_time": "2023-05-09T01:46:27.097817Z",
     "start_time": "2023-05-09T01:46:26.106748Z"
    }
   }
  },
  {
   "cell_type": "code",
   "execution_count": 12,
   "outputs": [
    {
     "name": "stdout",
     "output_type": "stream",
     "text": [
      "The types in the data frame:\n",
      "address1              object\n",
      "city                  object\n",
      "state                 object\n",
      "zip                   object\n",
      "country               object\n",
      "                      ...   \n",
      "grossMargins         float64\n",
      "ebitdaMargins        float64\n",
      "operatingMargins     float64\n",
      "financialCurrency     object\n",
      "trailingPegRatio     float64\n",
      "Length: 103, dtype: object\n"
     ]
    },
    {
     "data": {
      "text/plain": "               address1         city state    zip        country  \\\n0  2485 Augustine Drive  Santa Clara    CA  95054  United States   \n1  2485 Augustine Drive  Santa Clara    CA  95054  United States   \n2  2485 Augustine Drive  Santa Clara    CA  95054  United States   \n3  2485 Augustine Drive  Santa Clara    CA  95054  United States   \n4  2485 Augustine Drive  Santa Clara    CA  95054  United States   \n5  2485 Augustine Drive  Santa Clara    CA  95054  United States   \n6  2485 Augustine Drive  Santa Clara    CA  95054  United States   \n7  2485 Augustine Drive  Santa Clara    CA  95054  United States   \n8  2485 Augustine Drive  Santa Clara    CA  95054  United States   \n9  2485 Augustine Drive  Santa Clara    CA  95054  United States   \n\n          phone              website        industry    industryDisp  \\\n0  408 749 4000  https://www.amd.com  Semiconductors  Semiconductors   \n1  408 749 4000  https://www.amd.com  Semiconductors  Semiconductors   \n2  408 749 4000  https://www.amd.com  Semiconductors  Semiconductors   \n3  408 749 4000  https://www.amd.com  Semiconductors  Semiconductors   \n4  408 749 4000  https://www.amd.com  Semiconductors  Semiconductors   \n5  408 749 4000  https://www.amd.com  Semiconductors  Semiconductors   \n6  408 749 4000  https://www.amd.com  Semiconductors  Semiconductors   \n7  408 749 4000  https://www.amd.com  Semiconductors  Semiconductors   \n8  408 749 4000  https://www.amd.com  Semiconductors  Semiconductors   \n9  408 749 4000  https://www.amd.com  Semiconductors  Semiconductors   \n\n       sector  ... recommendationMean  recommendationKey  \\\n0  Technology  ...                2.1                buy   \n1  Technology  ...                2.1                buy   \n2  Technology  ...                2.1                buy   \n3  Technology  ...                2.1                buy   \n4  Technology  ...                2.1                buy   \n5  Technology  ...                2.1                buy   \n6  Technology  ...                2.1                buy   \n7  Technology  ...                2.1                buy   \n8  Technology  ...                2.1                buy   \n9  Technology  ...                2.1                buy   \n\n  numberOfAnalystOpinions  revenuePerShare  grossProfits  grossMargins  \\\n0                      35           15.119   12051000000           0.0   \n1                      35           15.119   12051000000           0.0   \n2                      35           15.119   12051000000           0.0   \n3                      35           15.119   12051000000           0.0   \n4                      35           15.119   12051000000           0.0   \n5                      35           15.119   12051000000           0.0   \n6                      35           15.119   12051000000           0.0   \n7                      35           15.119   12051000000           0.0   \n8                      35           15.119   12051000000           0.0   \n9                      35           15.119   12051000000           0.0   \n\n   ebitdaMargins  operatingMargins  financialCurrency  trailingPegRatio  \n0            0.0               0.0                USD            1.5936  \n1            0.0               0.0                USD            1.5936  \n2            0.0               0.0                USD            1.5936  \n3            0.0               0.0                USD            1.5936  \n4            0.0               0.0                USD            1.5936  \n5            0.0               0.0                USD            1.5936  \n6            0.0               0.0                USD            1.5936  \n7            0.0               0.0                USD            1.5936  \n8            0.0               0.0                USD            1.5936  \n9            0.0               0.0                USD            1.5936  \n\n[10 rows x 103 columns]",
      "text/html": "<div>\n<style scoped>\n    .dataframe tbody tr th:only-of-type {\n        vertical-align: middle;\n    }\n\n    .dataframe tbody tr th {\n        vertical-align: top;\n    }\n\n    .dataframe thead th {\n        text-align: right;\n    }\n</style>\n<table border=\"1\" class=\"dataframe\">\n  <thead>\n    <tr style=\"text-align: right;\">\n      <th></th>\n      <th>address1</th>\n      <th>city</th>\n      <th>state</th>\n      <th>zip</th>\n      <th>country</th>\n      <th>phone</th>\n      <th>website</th>\n      <th>industry</th>\n      <th>industryDisp</th>\n      <th>sector</th>\n      <th>...</th>\n      <th>recommendationMean</th>\n      <th>recommendationKey</th>\n      <th>numberOfAnalystOpinions</th>\n      <th>revenuePerShare</th>\n      <th>grossProfits</th>\n      <th>grossMargins</th>\n      <th>ebitdaMargins</th>\n      <th>operatingMargins</th>\n      <th>financialCurrency</th>\n      <th>trailingPegRatio</th>\n    </tr>\n  </thead>\n  <tbody>\n    <tr>\n      <th>0</th>\n      <td>2485 Augustine Drive</td>\n      <td>Santa Clara</td>\n      <td>CA</td>\n      <td>95054</td>\n      <td>United States</td>\n      <td>408 749 4000</td>\n      <td>https://www.amd.com</td>\n      <td>Semiconductors</td>\n      <td>Semiconductors</td>\n      <td>Technology</td>\n      <td>...</td>\n      <td>2.1</td>\n      <td>buy</td>\n      <td>35</td>\n      <td>15.119</td>\n      <td>12051000000</td>\n      <td>0.0</td>\n      <td>0.0</td>\n      <td>0.0</td>\n      <td>USD</td>\n      <td>1.5936</td>\n    </tr>\n    <tr>\n      <th>1</th>\n      <td>2485 Augustine Drive</td>\n      <td>Santa Clara</td>\n      <td>CA</td>\n      <td>95054</td>\n      <td>United States</td>\n      <td>408 749 4000</td>\n      <td>https://www.amd.com</td>\n      <td>Semiconductors</td>\n      <td>Semiconductors</td>\n      <td>Technology</td>\n      <td>...</td>\n      <td>2.1</td>\n      <td>buy</td>\n      <td>35</td>\n      <td>15.119</td>\n      <td>12051000000</td>\n      <td>0.0</td>\n      <td>0.0</td>\n      <td>0.0</td>\n      <td>USD</td>\n      <td>1.5936</td>\n    </tr>\n    <tr>\n      <th>2</th>\n      <td>2485 Augustine Drive</td>\n      <td>Santa Clara</td>\n      <td>CA</td>\n      <td>95054</td>\n      <td>United States</td>\n      <td>408 749 4000</td>\n      <td>https://www.amd.com</td>\n      <td>Semiconductors</td>\n      <td>Semiconductors</td>\n      <td>Technology</td>\n      <td>...</td>\n      <td>2.1</td>\n      <td>buy</td>\n      <td>35</td>\n      <td>15.119</td>\n      <td>12051000000</td>\n      <td>0.0</td>\n      <td>0.0</td>\n      <td>0.0</td>\n      <td>USD</td>\n      <td>1.5936</td>\n    </tr>\n    <tr>\n      <th>3</th>\n      <td>2485 Augustine Drive</td>\n      <td>Santa Clara</td>\n      <td>CA</td>\n      <td>95054</td>\n      <td>United States</td>\n      <td>408 749 4000</td>\n      <td>https://www.amd.com</td>\n      <td>Semiconductors</td>\n      <td>Semiconductors</td>\n      <td>Technology</td>\n      <td>...</td>\n      <td>2.1</td>\n      <td>buy</td>\n      <td>35</td>\n      <td>15.119</td>\n      <td>12051000000</td>\n      <td>0.0</td>\n      <td>0.0</td>\n      <td>0.0</td>\n      <td>USD</td>\n      <td>1.5936</td>\n    </tr>\n    <tr>\n      <th>4</th>\n      <td>2485 Augustine Drive</td>\n      <td>Santa Clara</td>\n      <td>CA</td>\n      <td>95054</td>\n      <td>United States</td>\n      <td>408 749 4000</td>\n      <td>https://www.amd.com</td>\n      <td>Semiconductors</td>\n      <td>Semiconductors</td>\n      <td>Technology</td>\n      <td>...</td>\n      <td>2.1</td>\n      <td>buy</td>\n      <td>35</td>\n      <td>15.119</td>\n      <td>12051000000</td>\n      <td>0.0</td>\n      <td>0.0</td>\n      <td>0.0</td>\n      <td>USD</td>\n      <td>1.5936</td>\n    </tr>\n    <tr>\n      <th>5</th>\n      <td>2485 Augustine Drive</td>\n      <td>Santa Clara</td>\n      <td>CA</td>\n      <td>95054</td>\n      <td>United States</td>\n      <td>408 749 4000</td>\n      <td>https://www.amd.com</td>\n      <td>Semiconductors</td>\n      <td>Semiconductors</td>\n      <td>Technology</td>\n      <td>...</td>\n      <td>2.1</td>\n      <td>buy</td>\n      <td>35</td>\n      <td>15.119</td>\n      <td>12051000000</td>\n      <td>0.0</td>\n      <td>0.0</td>\n      <td>0.0</td>\n      <td>USD</td>\n      <td>1.5936</td>\n    </tr>\n    <tr>\n      <th>6</th>\n      <td>2485 Augustine Drive</td>\n      <td>Santa Clara</td>\n      <td>CA</td>\n      <td>95054</td>\n      <td>United States</td>\n      <td>408 749 4000</td>\n      <td>https://www.amd.com</td>\n      <td>Semiconductors</td>\n      <td>Semiconductors</td>\n      <td>Technology</td>\n      <td>...</td>\n      <td>2.1</td>\n      <td>buy</td>\n      <td>35</td>\n      <td>15.119</td>\n      <td>12051000000</td>\n      <td>0.0</td>\n      <td>0.0</td>\n      <td>0.0</td>\n      <td>USD</td>\n      <td>1.5936</td>\n    </tr>\n    <tr>\n      <th>7</th>\n      <td>2485 Augustine Drive</td>\n      <td>Santa Clara</td>\n      <td>CA</td>\n      <td>95054</td>\n      <td>United States</td>\n      <td>408 749 4000</td>\n      <td>https://www.amd.com</td>\n      <td>Semiconductors</td>\n      <td>Semiconductors</td>\n      <td>Technology</td>\n      <td>...</td>\n      <td>2.1</td>\n      <td>buy</td>\n      <td>35</td>\n      <td>15.119</td>\n      <td>12051000000</td>\n      <td>0.0</td>\n      <td>0.0</td>\n      <td>0.0</td>\n      <td>USD</td>\n      <td>1.5936</td>\n    </tr>\n    <tr>\n      <th>8</th>\n      <td>2485 Augustine Drive</td>\n      <td>Santa Clara</td>\n      <td>CA</td>\n      <td>95054</td>\n      <td>United States</td>\n      <td>408 749 4000</td>\n      <td>https://www.amd.com</td>\n      <td>Semiconductors</td>\n      <td>Semiconductors</td>\n      <td>Technology</td>\n      <td>...</td>\n      <td>2.1</td>\n      <td>buy</td>\n      <td>35</td>\n      <td>15.119</td>\n      <td>12051000000</td>\n      <td>0.0</td>\n      <td>0.0</td>\n      <td>0.0</td>\n      <td>USD</td>\n      <td>1.5936</td>\n    </tr>\n    <tr>\n      <th>9</th>\n      <td>2485 Augustine Drive</td>\n      <td>Santa Clara</td>\n      <td>CA</td>\n      <td>95054</td>\n      <td>United States</td>\n      <td>408 749 4000</td>\n      <td>https://www.amd.com</td>\n      <td>Semiconductors</td>\n      <td>Semiconductors</td>\n      <td>Technology</td>\n      <td>...</td>\n      <td>2.1</td>\n      <td>buy</td>\n      <td>35</td>\n      <td>15.119</td>\n      <td>12051000000</td>\n      <td>0.0</td>\n      <td>0.0</td>\n      <td>0.0</td>\n      <td>USD</td>\n      <td>1.5936</td>\n    </tr>\n  </tbody>\n</table>\n<p>10 rows × 103 columns</p>\n</div>"
     },
     "execution_count": 12,
     "metadata": {},
     "output_type": "execute_result"
    }
   ],
   "source": [
    "amd = yf.Ticker(\"AMD\")\n",
    "info=pd.DataFrame.from_dict(amd.info)\n",
    "print(\"The types in the data frame:\\n{}\".format(info.dtypes))\n",
    "info"
   ],
   "metadata": {
    "collapsed": false,
    "ExecuteTime": {
     "end_time": "2023-05-09T01:46:28.438957800Z",
     "start_time": "2023-05-09T01:46:27.072726Z"
    }
   }
  },
  {
   "cell_type": "code",
   "execution_count": 13,
   "outputs": [
    {
     "data": {
      "text/plain": "<Figure size 640x480 with 1 Axes>",
      "image/png": "[encoded data removed]"
     },
     "metadata": {},
     "output_type": "display_data"
    }
   ],
   "source": [
    "data[\"Close\"].plot()\n",
    "plt.show()"
   ],
   "metadata": {
    "collapsed": false,
    "ExecuteTime": {
     "end_time": "2023-05-09T01:46:28.665954700Z",
     "start_time": "2023-05-09T01:46:28.437960500Z"
    }
   }
  },
  {
   "cell_type": "code",
   "execution_count": 14,
   "outputs": [
    {
     "data": {
      "text/plain": "['MMM',\n 'AOS',\n 'ABT',\n 'ABBV',\n 'ACN',\n 'ATVI',\n 'ADM',\n 'ADBE',\n 'ADP',\n 'AAP',\n 'AES',\n 'AFL',\n 'A',\n 'APD',\n 'AKAM',\n 'ALK',\n 'ALB',\n 'ARE',\n 'ALGN',\n 'ALLE',\n 'LNT',\n 'ALL',\n 'GOOGL',\n 'GOOG',\n 'MO',\n 'AMZN',\n 'AMCR',\n 'AMD',\n 'AEE',\n 'AAL',\n 'AEP',\n 'AXP',\n 'AIG',\n 'AMT',\n 'AWK',\n 'AMP',\n 'ABC',\n 'AME',\n 'AMGN',\n 'APH',\n 'ADI',\n 'ANSS',\n 'AON',\n 'APA',\n 'AAPL',\n 'AMAT',\n 'APTV',\n 'ACGL',\n 'ANET',\n 'AJG',\n 'AIZ',\n 'T',\n 'ATO',\n 'ADSK',\n 'AZO',\n 'AVB',\n 'AVY',\n 'AXON',\n 'BKR',\n 'BALL',\n 'BAC',\n 'BBWI',\n 'BAX',\n 'BDX',\n 'WRB',\n 'BRK.B',\n 'BBY',\n 'BIO',\n 'TECH',\n 'BIIB',\n 'BLK',\n 'BK',\n 'BA',\n 'BKNG',\n 'BWA',\n 'BXP',\n 'BSX',\n 'BMY',\n 'AVGO',\n 'BR',\n 'BRO',\n 'BF.B',\n 'BG',\n 'CHRW',\n 'CDNS',\n 'CZR',\n 'CPT',\n 'CPB',\n 'COF',\n 'CAH',\n 'KMX',\n 'CCL',\n 'CARR',\n 'CTLT',\n 'CAT',\n 'CBOE',\n 'CBRE',\n 'CDW',\n 'CE',\n 'CNC',\n 'CNP',\n 'CDAY',\n 'CF',\n 'CRL',\n 'SCHW',\n 'CHTR',\n 'CVX',\n 'CMG',\n 'CB',\n 'CHD',\n 'CI',\n 'CINF',\n 'CTAS',\n 'CSCO',\n 'C',\n 'CFG',\n 'CLX',\n 'CME',\n 'CMS',\n 'KO',\n 'CTSH',\n 'CL',\n 'CMCSA',\n 'CMA',\n 'CAG',\n 'COP',\n 'ED',\n 'STZ',\n 'CEG',\n 'COO',\n 'CPRT',\n 'GLW',\n 'CTVA',\n 'CSGP',\n 'COST',\n 'CTRA',\n 'CCI',\n 'CSX',\n 'CMI',\n 'CVS',\n 'DHI',\n 'DHR',\n 'DRI',\n 'DVA',\n 'DE',\n 'DAL',\n 'XRAY',\n 'DVN',\n 'DXCM',\n 'FANG',\n 'DLR',\n 'DFS',\n 'DISH',\n 'DIS',\n 'DG',\n 'DLTR',\n 'D',\n 'DPZ',\n 'DOV',\n 'DOW',\n 'DTE',\n 'DUK',\n 'DD',\n 'DXC',\n 'EMN',\n 'ETN',\n 'EBAY',\n 'ECL',\n 'EIX',\n 'EW',\n 'EA',\n 'ELV',\n 'LLY',\n 'EMR',\n 'ENPH',\n 'ETR',\n 'EOG',\n 'EPAM',\n 'EQT',\n 'EFX',\n 'EQIX',\n 'EQR',\n 'ESS',\n 'EL',\n 'ETSY',\n 'RE',\n 'EVRG',\n 'ES',\n 'EXC',\n 'EXPE',\n 'EXPD',\n 'EXR',\n 'XOM',\n 'FFIV',\n 'FDS',\n 'FICO',\n 'FAST',\n 'FRT',\n 'FDX',\n 'FITB',\n 'FSLR',\n 'FE',\n 'FIS',\n 'FISV',\n 'FLT',\n 'FMC',\n 'F',\n 'FTNT',\n 'FTV',\n 'FOXA',\n 'FOX',\n 'BEN',\n 'FCX',\n 'GRMN',\n 'IT',\n 'GEHC',\n 'GEN',\n 'GNRC',\n 'GD',\n 'GE',\n 'GIS',\n 'GM',\n 'GPC',\n 'GILD',\n 'GL',\n 'GPN',\n 'GS',\n 'HAL',\n 'HIG',\n 'HAS',\n 'HCA',\n 'PEAK',\n 'HSIC',\n 'HSY',\n 'HES',\n 'HPE',\n 'HLT',\n 'HOLX',\n 'HD',\n 'HON',\n 'HRL',\n 'HST',\n 'HWM',\n 'HPQ',\n 'HUM',\n 'HBAN',\n 'HII',\n 'IBM',\n 'IEX',\n 'IDXX',\n 'ITW',\n 'ILMN',\n 'INCY',\n 'IR',\n 'PODD',\n 'INTC',\n 'ICE',\n 'IFF',\n 'IP',\n 'IPG',\n 'INTU',\n 'ISRG',\n 'IVZ',\n 'INVH',\n 'IQV',\n 'IRM',\n 'JBHT',\n 'JKHY',\n 'J',\n 'JNJ',\n 'JCI',\n 'JPM',\n 'JNPR',\n 'K',\n 'KDP',\n 'KEY',\n 'KEYS',\n 'KMB',\n 'KIM',\n 'KMI',\n 'KLAC',\n 'KHC',\n 'KR',\n 'LHX',\n 'LH',\n 'LRCX',\n 'LW',\n 'LVS',\n 'LDOS',\n 'LEN',\n 'LNC',\n 'LIN',\n 'LYV',\n 'LKQ',\n 'LMT',\n 'L',\n 'LOW',\n 'LYB',\n 'MTB',\n 'MRO',\n 'MPC',\n 'MKTX',\n 'MAR',\n 'MMC',\n 'MLM',\n 'MAS',\n 'MA',\n 'MTCH',\n 'MKC',\n 'MCD',\n 'MCK',\n 'MDT',\n 'MRK',\n 'META',\n 'MET',\n 'MTD',\n 'MGM',\n 'MCHP',\n 'MU',\n 'MSFT',\n 'MAA',\n 'MRNA',\n 'MHK',\n 'MOH',\n 'TAP',\n 'MDLZ',\n 'MPWR',\n 'MNST',\n 'MCO',\n 'MS',\n 'MOS',\n 'MSI',\n 'MSCI',\n 'NDAQ',\n 'NTAP',\n 'NFLX',\n 'NWL',\n 'NEM',\n 'NWSA',\n 'NWS',\n 'NEE',\n 'NKE',\n 'NI',\n 'NDSN',\n 'NSC',\n 'NTRS',\n 'NOC',\n 'NCLH',\n 'NRG',\n 'NUE',\n 'NVDA',\n 'NVR',\n 'NXPI',\n 'ORLY',\n 'OXY',\n 'ODFL',\n 'OMC',\n 'ON',\n 'OKE',\n 'ORCL',\n 'OGN',\n 'OTIS',\n 'PCAR',\n 'PKG',\n 'PARA',\n 'PH',\n 'PAYX',\n 'PAYC',\n 'PYPL',\n 'PNR',\n 'PEP',\n 'PKI',\n 'PFE',\n 'PCG',\n 'PM',\n 'PSX',\n 'PNW',\n 'PXD',\n 'PNC',\n 'POOL',\n 'PPG',\n 'PPL',\n 'PFG',\n 'PG',\n 'PGR',\n 'PLD',\n 'PRU',\n 'PEG',\n 'PTC',\n 'PSA',\n 'PHM',\n 'QRVO',\n 'PWR',\n 'QCOM',\n 'DGX',\n 'RL',\n 'RJF',\n 'RTX',\n 'O',\n 'REG',\n 'REGN',\n 'RF',\n 'RSG',\n 'RMD',\n 'RHI',\n 'ROK',\n 'ROL',\n 'ROP',\n 'ROST',\n 'RCL',\n 'SPGI',\n 'CRM',\n 'SBAC',\n 'SLB',\n 'STX',\n 'SEE',\n 'SRE',\n 'NOW',\n 'SHW',\n 'SPG',\n 'SWKS',\n 'SJM',\n 'SNA',\n 'SEDG',\n 'SO',\n 'LUV',\n 'SWK',\n 'SBUX',\n 'STT',\n 'STLD',\n 'STE',\n 'SYK',\n 'SYF',\n 'SNPS',\n 'SYY',\n 'TMUS',\n 'TROW',\n 'TTWO',\n 'TPR',\n 'TRGP',\n 'TGT',\n 'TEL',\n 'TDY',\n 'TFX',\n 'TER',\n 'TSLA',\n 'TXN',\n 'TXT',\n 'TMO',\n 'TJX',\n 'TSCO',\n 'TT',\n 'TDG',\n 'TRV',\n 'TRMB',\n 'TFC',\n 'TYL',\n 'TSN',\n 'USB',\n 'UDR',\n 'ULTA',\n 'UNP',\n 'UAL',\n 'UPS',\n 'URI',\n 'UNH',\n 'UHS',\n 'VLO',\n 'VTR',\n 'VRSN',\n 'VRSK',\n 'VZ',\n 'VRTX',\n 'VFC',\n 'VTRS',\n 'VICI',\n 'V',\n 'VMC',\n 'WAB',\n 'WBA',\n 'WMT',\n 'WBD',\n 'WM',\n 'WAT',\n 'WEC',\n 'WFC',\n 'WELL',\n 'WST',\n 'WDC',\n 'WRK',\n 'WY',\n 'WHR',\n 'WMB',\n 'WTW',\n 'GWW',\n 'WYNN',\n 'XEL',\n 'XYL',\n 'YUM',\n 'ZBRA',\n 'ZBH',\n 'ZION',\n 'ZTS']"
     },
     "execution_count": 14,
     "metadata": {},
     "output_type": "execute_result"
    }
   ],
   "source": [
    "##获取标普500股票公司名字\n",
    "import bs4 as bs\n",
    "import requests\n",
    "\n",
    "###爬取维基百科标普500公司名称\n",
    "resp = requests.get('http://en.wikipedia.org/wiki/List_of_S%26P_500_companies')\n",
    "soup = bs.BeautifulSoup(resp.text, 'lxml')\n",
    "table = soup.find('table', {'class': 'wikitable sortable'})\n",
    "\n",
    "###筛选元素\n",
    "tickers = []\n",
    "for row in table.findAll('tr')[1:]:\n",
    "   ticker = row.findAll('td')[0].text\n",
    "   ticker=ticker.replace(\"\\n\",\"\")\n",
    "   tickers.append(ticker)\n",
    "\n",
    "\n",
    "tickers"
   ],
   "metadata": {
    "collapsed": false,
    "ExecuteTime": {
     "end_time": "2023-05-09T01:46:30.531061500Z",
     "start_time": "2023-05-09T01:46:28.668945800Z"
    }
   }
  },
  {
   "cell_type": "code",
   "execution_count": 15,
   "outputs": [],
   "source": [
    "def getStockDataInYFinance(name,start='2018-01-1',end='2023-01-01'):\n",
    "    includedList=['country','zip','industry','sector']\n",
    "    data = yf.download(tickers=name,start=start,end=end)\n",
    "    data['trade_date'] = data.index\n",
    "    company = yf.Ticker(name)\n",
    "    try:\n",
    "        companyInfo=pd.DataFrame.from_dict(company.info)\n",
    "    except BaseException:\n",
    "        print(company.info)\n",
    "        return np.nan\n",
    "    else:\n",
    "        data['name']=[name]*data.shape[0]\n",
    "        for column in companyInfo.columns:\n",
    "            if column in includedList:\n",
    "                data[column]=np.array([companyInfo[column].values[0]]).repeat(data.shape[0])\n",
    "\n",
    "    return data\n",
    "\n",
    "\n",
    "### get all stock data and store them\n",
    "def storeAllStockDataForYFinance():\n",
    "    now=datetime.now()\n",
    "    allStockDataInYFinance=pd.DataFrame()\n",
    "    for company in tickers:\n",
    "        companyInfo=getStockDataInYFinance(company)\n",
    "        if companyInfo is np.nan:\n",
    "            print(\"break, company {} data is null\")\n",
    "            continue\n",
    "        else:\n",
    "            allStockDataInYFinance=allStockDataInYFinance.append(companyInfo)\n",
    "    print(\"Cost time: {}\".format(datetime.now()-now))\n",
    "    return allStockDataInYFinance"
   ],
   "metadata": {
    "collapsed": false,
    "ExecuteTime": {
     "end_time": "2023-05-09T01:46:30.545023800Z",
     "start_time": "2023-05-09T01:46:30.535050900Z"
    }
   }
  },
  {
   "cell_type": "code",
   "execution_count": 16,
   "outputs": [
    {
     "name": "stdout",
     "output_type": "stream",
     "text": [
      "[*********************100%***********************]  1 of 1 completed\n"
     ]
    },
    {
     "data": {
      "text/plain": "Open                 float64\nHigh                 float64\nLow                  float64\nClose                float64\nAdj Close            float64\nVolume                 int64\ntrade_date    datetime64[ns]\nname                  object\nzip                   object\ncountry               object\nindustry              object\nsector                object\ndtype: object"
     },
     "execution_count": 16,
     "metadata": {},
     "output_type": "execute_result"
    }
   ],
   "source": [
    "getStockDataInYFinance(tickers[0]).dtypes"
   ],
   "metadata": {
    "collapsed": false,
    "ExecuteTime": {
     "end_time": "2023-05-09T01:46:32.377646Z",
     "start_time": "2023-05-09T01:46:30.546052300Z"
    }
   }
  },
  {
   "cell_type": "code",
   "execution_count": 17,
   "outputs": [
    {
     "name": "stdout",
     "output_type": "stream",
     "text": [
      "[*********************100%***********************]  1 of 1 completed\n"
     ]
    },
    {
     "name": "stderr",
     "output_type": "stream",
     "text": [
      "C:\\Users\\87066\\AppData\\Local\\Temp\\ipykernel_14672\\4037774555.py:30: FutureWarning: The frame.append method is deprecated and will be removed from pandas in a future version. Use pandas.concat instead.\n",
      "  allStockDataInYFinance=allStockDataInYFinance.append(companyInfo)\n"
     ]
    },
    {
     "name": "stdout",
     "output_type": "stream",
     "text": [
      "[*********************100%***********************]  1 of 1 completed\n"
     ]
    },
    {
     "name": "stderr",
     "output_type": "stream",
     "text": [
      "C:\\Users\\87066\\AppData\\Local\\Temp\\ipykernel_14672\\4037774555.py:30: FutureWarning: The frame.append method is deprecated and will be removed from pandas in a future version. Use pandas.concat instead.\n",
      "  allStockDataInYFinance=allStockDataInYFinance.append(companyInfo)\n"
     ]
    },
    {
     "name": "stdout",
     "output_type": "stream",
     "text": [
      "[*********************100%***********************]  1 of 1 completed\n"
     ]
    },
    {
     "name": "stderr",
     "output_type": "stream",
     "text": [
      "C:\\Users\\87066\\AppData\\Local\\Temp\\ipykernel_14672\\4037774555.py:30: FutureWarning: The frame.append method is deprecated and will be removed from pandas in a future version. Use pandas.concat instead.\n",
      "  allStockDataInYFinance=allStockDataInYFinance.append(companyInfo)\n"
     ]
    },
    {
     "name": "stdout",
     "output_type": "stream",
     "text": [
      "[*********************100%***********************]  1 of 1 completed\n"
     ]
    },
    {
     "name": "stderr",
     "output_type": "stream",
     "text": [
      "C:\\Users\\87066\\AppData\\Local\\Temp\\ipykernel_14672\\4037774555.py:30: FutureWarning: The frame.append method is deprecated and will be removed from pandas in a future version. Use pandas.concat instead.\n",
      "  allStockDataInYFinance=allStockDataInYFinance.append(companyInfo)\n"
     ]
    },
    {
     "name": "stdout",
     "output_type": "stream",
     "text": [
      "[*********************100%***********************]  1 of 1 completed\n"
     ]
    },
    {
     "name": "stderr",
     "output_type": "stream",
     "text": [
      "C:\\Users\\87066\\AppData\\Local\\Temp\\ipykernel_14672\\4037774555.py:30: FutureWarning: The frame.append method is deprecated and will be removed from pandas in a future version. Use pandas.concat instead.\n",
      "  allStockDataInYFinance=allStockDataInYFinance.append(companyInfo)\n"
     ]
    },
    {
     "name": "stdout",
     "output_type": "stream",
     "text": [
      "[*********************100%***********************]  1 of 1 completed\n"
     ]
    },
    {
     "name": "stderr",
     "output_type": "stream",
     "text": [
      "C:\\Users\\87066\\AppData\\Local\\Temp\\ipykernel_14672\\4037774555.py:30: FutureWarning: The frame.append method is deprecated and will be removed from pandas in a future version. Use pandas.concat instead.\n",
      "  allStockDataInYFinance=allStockDataInYFinance.append(companyInfo)\n"
     ]
    },
    {
     "name": "stdout",
     "output_type": "stream",
     "text": [
      "[*********************100%***********************]  1 of 1 completed\n"
     ]
    },
    {
     "name": "stderr",
     "output_type": "stream",
     "text": [
      "C:\\Users\\87066\\AppData\\Local\\Temp\\ipykernel_14672\\4037774555.py:30: FutureWarning: The frame.append method is deprecated and will be removed from pandas in a future version. Use pandas.concat instead.\n",
      "  allStockDataInYFinance=allStockDataInYFinance.append(companyInfo)\n"
     ]
    },
    {
     "name": "stdout",
     "output_type": "stream",
     "text": [
      "[*********************100%***********************]  1 of 1 completed\n"
     ]
    },
    {
     "name": "stderr",
     "output_type": "stream",
     "text": [
      "C:\\Users\\87066\\AppData\\Local\\Temp\\ipykernel_14672\\4037774555.py:30: FutureWarning: The frame.append method is deprecated and will be removed from pandas in a future version. Use pandas.concat instead.\n",
      "  allStockDataInYFinance=allStockDataInYFinance.append(companyInfo)\n"
     ]
    },
    {
     "name": "stdout",
     "output_type": "stream",
     "text": [
      "[*********************100%***********************]  1 of 1 completed\n"
     ]
    },
    {
     "name": "stderr",
     "output_type": "stream",
     "text": [
      "C:\\Users\\87066\\AppData\\Local\\Temp\\ipykernel_14672\\4037774555.py:30: FutureWarning: The frame.append method is deprecated and will be removed from pandas in a future version. Use pandas.concat instead.\n",
      "  allStockDataInYFinance=allStockDataInYFinance.append(companyInfo)\n"
     ]
    },
    {
     "name": "stdout",
     "output_type": "stream",
     "text": [
      "[*********************100%***********************]  1 of 1 completed\n"
     ]
    },
    {
     "name": "stderr",
     "output_type": "stream",
     "text": [
      "C:\\Users\\87066\\AppData\\Local\\Temp\\ipykernel_14672\\4037774555.py:30: FutureWarning: The frame.append method is deprecated and will be removed from pandas in a future version. Use pandas.concat instead.\n",
      "  allStockDataInYFinance=allStockDataInYFinance.append(companyInfo)\n"
     ]
    },
    {
     "name": "stdout",
     "output_type": "stream",
     "text": [
      "[*********************100%***********************]  1 of 1 completed\n"
     ]
    },
    {
     "name": "stderr",
     "output_type": "stream",
     "text": [
      "C:\\Users\\87066\\AppData\\Local\\Temp\\ipykernel_14672\\4037774555.py:30: FutureWarning: The frame.append method is deprecated and will be removed from pandas in a future version. Use pandas.concat instead.\n",
      "  allStockDataInYFinance=allStockDataInYFinance.append(companyInfo)\n"
     ]
    },
    {
     "name": "stdout",
     "output_type": "stream",
     "text": [
      "[*********************100%***********************]  1 of 1 completed\n"
     ]
    },
    {
     "name": "stderr",
     "output_type": "stream",
     "text": [
      "C:\\Users\\87066\\AppData\\Local\\Temp\\ipykernel_14672\\4037774555.py:30: FutureWarning: The frame.append method is deprecated and will be removed from pandas in a future version. Use pandas.concat instead.\n",
      "  allStockDataInYFinance=allStockDataInYFinance.append(companyInfo)\n"
     ]
    },
    {
     "name": "stdout",
     "output_type": "stream",
     "text": [
      "[*********************100%***********************]  1 of 1 completed\n"
     ]
    },
    {
     "name": "stderr",
     "output_type": "stream",
     "text": [
      "C:\\Users\\87066\\AppData\\Local\\Temp\\ipykernel_14672\\4037774555.py:30: FutureWarning: The frame.append method is deprecated and will be removed from pandas in a future version. Use pandas.concat instead.\n",
      "  allStockDataInYFinance=allStockDataInYFinance.append(companyInfo)\n"
     ]
    },
    {
     "name": "stdout",
     "output_type": "stream",
     "text": [
      "[*********************100%***********************]  1 of 1 completed\n"
     ]
    },
    {
     "name": "stderr",
     "output_type": "stream",
     "text": [
      "C:\\Users\\87066\\AppData\\Local\\Temp\\ipykernel_14672\\4037774555.py:30: FutureWarning: The frame.append method is deprecated and will be removed from pandas in a future version. Use pandas.concat instead.\n",
      "  allStockDataInYFinance=allStockDataInYFinance.append(companyInfo)\n"
     ]
    },
    {
     "name": "stdout",
     "output_type": "stream",
     "text": [
      "[*********************100%***********************]  1 of 1 completed\n"
     ]
    },
    {
     "name": "stderr",
     "output_type": "stream",
     "text": [
      "C:\\Users\\87066\\AppData\\Local\\Temp\\ipykernel_14672\\4037774555.py:30: FutureWarning: The frame.append method is deprecated and will be removed from pandas in a future version. Use pandas.concat instead.\n",
      "  allStockDataInYFinance=allStockDataInYFinance.append(companyInfo)\n"
     ]
    },
    {
     "name": "stdout",
     "output_type": "stream",
     "text": [
      "[*********************100%***********************]  1 of 1 completed\n"
     ]
    },
    {
     "name": "stderr",
     "output_type": "stream",
     "text": [
      "C:\\Users\\87066\\AppData\\Local\\Temp\\ipykernel_14672\\4037774555.py:30: FutureWarning: The frame.append method is deprecated and will be removed from pandas in a future version. Use pandas.concat instead.\n",
      "  allStockDataInYFinance=allStockDataInYFinance.append(companyInfo)\n"
     ]
    },
    {
     "name": "stdout",
     "output_type": "stream",
     "text": [
      "[*********************100%***********************]  1 of 1 completed\n"
     ]
    },
    {
     "name": "stderr",
     "output_type": "stream",
     "text": [
      "C:\\Users\\87066\\AppData\\Local\\Temp\\ipykernel_14672\\4037774555.py:30: FutureWarning: The frame.append method is deprecated and will be removed from pandas in a future version. Use pandas.concat instead.\n",
      "  allStockDataInYFinance=allStockDataInYFinance.append(companyInfo)\n"
     ]
    },
    {
     "name": "stdout",
     "output_type": "stream",
     "text": [
      "[*********************100%***********************]  1 of 1 completed\n"
     ]
    },
    {
     "name": "stderr",
     "output_type": "stream",
     "text": [
      "C:\\Users\\87066\\AppData\\Local\\Temp\\ipykernel_14672\\4037774555.py:30: FutureWarning: The frame.append method is deprecated and will be removed from pandas in a future version. Use pandas.concat instead.\n",
      "  allStockDataInYFinance=allStockDataInYFinance.append(companyInfo)\n"
     ]
    },
    {
     "name": "stdout",
     "output_type": "stream",
     "text": [
      "[*********************100%***********************]  1 of 1 completed\n"
     ]
    },
    {
     "name": "stderr",
     "output_type": "stream",
     "text": [
      "C:\\Users\\87066\\AppData\\Local\\Temp\\ipykernel_14672\\4037774555.py:30: FutureWarning: The frame.append method is deprecated and will be removed from pandas in a future version. Use pandas.concat instead.\n",
      "  allStockDataInYFinance=allStockDataInYFinance.append(companyInfo)\n"
     ]
    },
    {
     "name": "stdout",
     "output_type": "stream",
     "text": [
      "[*********************100%***********************]  1 of 1 completed\n"
     ]
    },
    {
     "name": "stderr",
     "output_type": "stream",
     "text": [
      "C:\\Users\\87066\\AppData\\Local\\Temp\\ipykernel_14672\\4037774555.py:30: FutureWarning: The frame.append method is deprecated and will be removed from pandas in a future version. Use pandas.concat instead.\n",
      "  allStockDataInYFinance=allStockDataInYFinance.append(companyInfo)\n"
     ]
    },
    {
     "name": "stdout",
     "output_type": "stream",
     "text": [
      "[*********************100%***********************]  1 of 1 completed\n"
     ]
    },
    {
     "name": "stderr",
     "output_type": "stream",
     "text": [
      "C:\\Users\\87066\\AppData\\Local\\Temp\\ipykernel_14672\\4037774555.py:30: FutureWarning: The frame.append method is deprecated and will be removed from pandas in a future version. Use pandas.concat instead.\n",
      "  allStockDataInYFinance=allStockDataInYFinance.append(companyInfo)\n"
     ]
    },
    {
     "name": "stdout",
     "output_type": "stream",
     "text": [
      "[*********************100%***********************]  1 of 1 completed\n"
     ]
    },
    {
     "name": "stderr",
     "output_type": "stream",
     "text": [
      "C:\\Users\\87066\\AppData\\Local\\Temp\\ipykernel_14672\\4037774555.py:30: FutureWarning: The frame.append method is deprecated and will be removed from pandas in a future version. Use pandas.concat instead.\n",
      "  allStockDataInYFinance=allStockDataInYFinance.append(companyInfo)\n"
     ]
    },
    {
     "name": "stdout",
     "output_type": "stream",
     "text": [
      "[*********************100%***********************]  1 of 1 completed\n"
     ]
    },
    {
     "name": "stderr",
     "output_type": "stream",
     "text": [
      "C:\\Users\\87066\\AppData\\Local\\Temp\\ipykernel_14672\\4037774555.py:30: FutureWarning: The frame.append method is deprecated and will be removed from pandas in a future version. Use pandas.concat instead.\n",
      "  allStockDataInYFinance=allStockDataInYFinance.append(companyInfo)\n"
     ]
    },
    {
     "name": "stdout",
     "output_type": "stream",
     "text": [
      "[*********************100%***********************]  1 of 1 completed\n"
     ]
    },
    {
     "name": "stderr",
     "output_type": "stream",
     "text": [
      "C:\\Users\\87066\\AppData\\Local\\Temp\\ipykernel_14672\\4037774555.py:30: FutureWarning: The frame.append method is deprecated and will be removed from pandas in a future version. Use pandas.concat instead.\n",
      "  allStockDataInYFinance=allStockDataInYFinance.append(companyInfo)\n"
     ]
    },
    {
     "name": "stdout",
     "output_type": "stream",
     "text": [
      "[*********************100%***********************]  1 of 1 completed\n"
     ]
    },
    {
     "name": "stderr",
     "output_type": "stream",
     "text": [
      "C:\\Users\\87066\\AppData\\Local\\Temp\\ipykernel_14672\\4037774555.py:30: FutureWarning: The frame.append method is deprecated and will be removed from pandas in a future version. Use pandas.concat instead.\n",
      "  allStockDataInYFinance=allStockDataInYFinance.append(companyInfo)\n"
     ]
    },
    {
     "name": "stdout",
     "output_type": "stream",
     "text": [
      "[*********************100%***********************]  1 of 1 completed\n"
     ]
    },
    {
     "name": "stderr",
     "output_type": "stream",
     "text": [
      "C:\\Users\\87066\\AppData\\Local\\Temp\\ipykernel_14672\\4037774555.py:30: FutureWarning: The frame.append method is deprecated and will be removed from pandas in a future version. Use pandas.concat instead.\n",
      "  allStockDataInYFinance=allStockDataInYFinance.append(companyInfo)\n"
     ]
    },
    {
     "name": "stdout",
     "output_type": "stream",
     "text": [
      "[*********************100%***********************]  1 of 1 completed\n"
     ]
    },
    {
     "name": "stderr",
     "output_type": "stream",
     "text": [
      "C:\\Users\\87066\\AppData\\Local\\Temp\\ipykernel_14672\\4037774555.py:30: FutureWarning: The frame.append method is deprecated and will be removed from pandas in a future version. Use pandas.concat instead.\n",
      "  allStockDataInYFinance=allStockDataInYFinance.append(companyInfo)\n"
     ]
    },
    {
     "name": "stdout",
     "output_type": "stream",
     "text": [
      "[*********************100%***********************]  1 of 1 completed\n"
     ]
    },
    {
     "name": "stderr",
     "output_type": "stream",
     "text": [
      "C:\\Users\\87066\\AppData\\Local\\Temp\\ipykernel_14672\\4037774555.py:30: FutureWarning: The frame.append method is deprecated and will be removed from pandas in a future version. Use pandas.concat instead.\n",
      "  allStockDataInYFinance=allStockDataInYFinance.append(companyInfo)\n"
     ]
    },
    {
     "name": "stdout",
     "output_type": "stream",
     "text": [
      "[*********************100%***********************]  1 of 1 completed\n"
     ]
    },
    {
     "name": "stderr",
     "output_type": "stream",
     "text": [
      "C:\\Users\\87066\\AppData\\Local\\Temp\\ipykernel_14672\\4037774555.py:30: FutureWarning: The frame.append method is deprecated and will be removed from pandas in a future version. Use pandas.concat instead.\n",
      "  allStockDataInYFinance=allStockDataInYFinance.append(companyInfo)\n"
     ]
    },
    {
     "name": "stdout",
     "output_type": "stream",
     "text": [
      "[*********************100%***********************]  1 of 1 completed\n"
     ]
    },
    {
     "name": "stderr",
     "output_type": "stream",
     "text": [
      "C:\\Users\\87066\\AppData\\Local\\Temp\\ipykernel_14672\\4037774555.py:30: FutureWarning: The frame.append method is deprecated and will be removed from pandas in a future version. Use pandas.concat instead.\n",
      "  allStockDataInYFinance=allStockDataInYFinance.append(companyInfo)\n"
     ]
    },
    {
     "name": "stdout",
     "output_type": "stream",
     "text": [
      "[*********************100%***********************]  1 of 1 completed\n"
     ]
    },
    {
     "name": "stderr",
     "output_type": "stream",
     "text": [
      "C:\\Users\\87066\\AppData\\Local\\Temp\\ipykernel_14672\\4037774555.py:30: FutureWarning: The frame.append method is deprecated and will be removed from pandas in a future version. Use pandas.concat instead.\n",
      "  allStockDataInYFinance=allStockDataInYFinance.append(companyInfo)\n"
     ]
    },
    {
     "name": "stdout",
     "output_type": "stream",
     "text": [
      "[*********************100%***********************]  1 of 1 completed\n"
     ]
    },
    {
     "name": "stderr",
     "output_type": "stream",
     "text": [
      "C:\\Users\\87066\\AppData\\Local\\Temp\\ipykernel_14672\\4037774555.py:30: FutureWarning: The frame.append method is deprecated and will be removed from pandas in a future version. Use pandas.concat instead.\n",
      "  allStockDataInYFinance=allStockDataInYFinance.append(companyInfo)\n"
     ]
    },
    {
     "name": "stdout",
     "output_type": "stream",
     "text": [
      "[*********************100%***********************]  1 of 1 completed\n"
     ]
    },
    {
     "name": "stderr",
     "output_type": "stream",
     "text": [
      "C:\\Users\\87066\\AppData\\Local\\Temp\\ipykernel_14672\\4037774555.py:30: FutureWarning: The frame.append method is deprecated and will be removed from pandas in a future version. Use pandas.concat instead.\n",
      "  allStockDataInYFinance=allStockDataInYFinance.append(companyInfo)\n"
     ]
    },
    {
     "name": "stdout",
     "output_type": "stream",
     "text": [
      "[*********************100%***********************]  1 of 1 completed\n"
     ]
    },
    {
     "name": "stderr",
     "output_type": "stream",
     "text": [
      "C:\\Users\\87066\\AppData\\Local\\Temp\\ipykernel_14672\\4037774555.py:30: FutureWarning: The frame.append method is deprecated and will be removed from pandas in a future version. Use pandas.concat instead.\n",
      "  allStockDataInYFinance=allStockDataInYFinance.append(companyInfo)\n"
     ]
    },
    {
     "name": "stdout",
     "output_type": "stream",
     "text": [
      "[*********************100%***********************]  1 of 1 completed\n"
     ]
    },
    {
     "name": "stderr",
     "output_type": "stream",
     "text": [
      "C:\\Users\\87066\\AppData\\Local\\Temp\\ipykernel_14672\\4037774555.py:30: FutureWarning: The frame.append method is deprecated and will be removed from pandas in a future version. Use pandas.concat instead.\n",
      "  allStockDataInYFinance=allStockDataInYFinance.append(companyInfo)\n"
     ]
    },
    {
     "name": "stdout",
     "output_type": "stream",
     "text": [
      "[*********************100%***********************]  1 of 1 completed\n"
     ]
    },
    {
     "name": "stderr",
     "output_type": "stream",
     "text": [
      "C:\\Users\\87066\\AppData\\Local\\Temp\\ipykernel_14672\\4037774555.py:30: FutureWarning: The frame.append method is deprecated and will be removed from pandas in a future version. Use pandas.concat instead.\n",
      "  allStockDataInYFinance=allStockDataInYFinance.append(companyInfo)\n"
     ]
    },
    {
     "name": "stdout",
     "output_type": "stream",
     "text": [
      "[*********************100%***********************]  1 of 1 completed\n"
     ]
    },
    {
     "name": "stderr",
     "output_type": "stream",
     "text": [
      "C:\\Users\\87066\\AppData\\Local\\Temp\\ipykernel_14672\\4037774555.py:30: FutureWarning: The frame.append method is deprecated and will be removed from pandas in a future version. Use pandas.concat instead.\n",
      "  allStockDataInYFinance=allStockDataInYFinance.append(companyInfo)\n"
     ]
    },
    {
     "name": "stdout",
     "output_type": "stream",
     "text": [
      "[*********************100%***********************]  1 of 1 completed\n"
     ]
    },
    {
     "name": "stderr",
     "output_type": "stream",
     "text": [
      "C:\\Users\\87066\\AppData\\Local\\Temp\\ipykernel_14672\\4037774555.py:30: FutureWarning: The frame.append method is deprecated and will be removed from pandas in a future version. Use pandas.concat instead.\n",
      "  allStockDataInYFinance=allStockDataInYFinance.append(companyInfo)\n"
     ]
    },
    {
     "name": "stdout",
     "output_type": "stream",
     "text": [
      "[*********************100%***********************]  1 of 1 completed\n"
     ]
    },
    {
     "name": "stderr",
     "output_type": "stream",
     "text": [
      "C:\\Users\\87066\\AppData\\Local\\Temp\\ipykernel_14672\\4037774555.py:30: FutureWarning: The frame.append method is deprecated and will be removed from pandas in a future version. Use pandas.concat instead.\n",
      "  allStockDataInYFinance=allStockDataInYFinance.append(companyInfo)\n"
     ]
    },
    {
     "name": "stdout",
     "output_type": "stream",
     "text": [
      "[*********************100%***********************]  1 of 1 completed\n"
     ]
    },
    {
     "name": "stderr",
     "output_type": "stream",
     "text": [
      "C:\\Users\\87066\\AppData\\Local\\Temp\\ipykernel_14672\\4037774555.py:30: FutureWarning: The frame.append method is deprecated and will be removed from pandas in a future version. Use pandas.concat instead.\n",
      "  allStockDataInYFinance=allStockDataInYFinance.append(companyInfo)\n"
     ]
    },
    {
     "name": "stdout",
     "output_type": "stream",
     "text": [
      "[*********************100%***********************]  1 of 1 completed\n"
     ]
    },
    {
     "name": "stderr",
     "output_type": "stream",
     "text": [
      "C:\\Users\\87066\\AppData\\Local\\Temp\\ipykernel_14672\\4037774555.py:30: FutureWarning: The frame.append method is deprecated and will be removed from pandas in a future version. Use pandas.concat instead.\n",
      "  allStockDataInYFinance=allStockDataInYFinance.append(companyInfo)\n"
     ]
    },
    {
     "name": "stdout",
     "output_type": "stream",
     "text": [
      "[*********************100%***********************]  1 of 1 completed\n"
     ]
    },
    {
     "name": "stderr",
     "output_type": "stream",
     "text": [
      "C:\\Users\\87066\\AppData\\Local\\Temp\\ipykernel_14672\\4037774555.py:30: FutureWarning: The frame.append method is deprecated and will be removed from pandas in a future version. Use pandas.concat instead.\n",
      "  allStockDataInYFinance=allStockDataInYFinance.append(companyInfo)\n"
     ]
    },
    {
     "name": "stdout",
     "output_type": "stream",
     "text": [
      "[*********************100%***********************]  1 of 1 completed\n"
     ]
    },
    {
     "name": "stderr",
     "output_type": "stream",
     "text": [
      "C:\\Users\\87066\\AppData\\Local\\Temp\\ipykernel_14672\\4037774555.py:30: FutureWarning: The frame.append method is deprecated and will be removed from pandas in a future version. Use pandas.concat instead.\n",
      "  allStockDataInYFinance=allStockDataInYFinance.append(companyInfo)\n"
     ]
    },
    {
     "name": "stdout",
     "output_type": "stream",
     "text": [
      "[*********************100%***********************]  1 of 1 completed\n"
     ]
    },
    {
     "name": "stderr",
     "output_type": "stream",
     "text": [
      "C:\\Users\\87066\\AppData\\Local\\Temp\\ipykernel_14672\\4037774555.py:30: FutureWarning: The frame.append method is deprecated and will be removed from pandas in a future version. Use pandas.concat instead.\n",
      "  allStockDataInYFinance=allStockDataInYFinance.append(companyInfo)\n"
     ]
    },
    {
     "name": "stdout",
     "output_type": "stream",
     "text": [
      "[*********************100%***********************]  1 of 1 completed\n"
     ]
    },
    {
     "name": "stderr",
     "output_type": "stream",
     "text": [
      "C:\\Users\\87066\\AppData\\Local\\Temp\\ipykernel_14672\\4037774555.py:30: FutureWarning: The frame.append method is deprecated and will be removed from pandas in a future version. Use pandas.concat instead.\n",
      "  allStockDataInYFinance=allStockDataInYFinance.append(companyInfo)\n"
     ]
    },
    {
     "name": "stdout",
     "output_type": "stream",
     "text": [
      "[*********************100%***********************]  1 of 1 completed\n"
     ]
    },
    {
     "name": "stderr",
     "output_type": "stream",
     "text": [
      "C:\\Users\\87066\\AppData\\Local\\Temp\\ipykernel_14672\\4037774555.py:30: FutureWarning: The frame.append method is deprecated and will be removed from pandas in a future version. Use pandas.concat instead.\n",
      "  allStockDataInYFinance=allStockDataInYFinance.append(companyInfo)\n"
     ]
    },
    {
     "name": "stdout",
     "output_type": "stream",
     "text": [
      "[*********************100%***********************]  1 of 1 completed\n"
     ]
    },
    {
     "name": "stderr",
     "output_type": "stream",
     "text": [
      "C:\\Users\\87066\\AppData\\Local\\Temp\\ipykernel_14672\\4037774555.py:30: FutureWarning: The frame.append method is deprecated and will be removed from pandas in a future version. Use pandas.concat instead.\n",
      "  allStockDataInYFinance=allStockDataInYFinance.append(companyInfo)\n"
     ]
    },
    {
     "name": "stdout",
     "output_type": "stream",
     "text": [
      "[*********************100%***********************]  1 of 1 completed\n"
     ]
    },
    {
     "name": "stderr",
     "output_type": "stream",
     "text": [
      "C:\\Users\\87066\\AppData\\Local\\Temp\\ipykernel_14672\\4037774555.py:30: FutureWarning: The frame.append method is deprecated and will be removed from pandas in a future version. Use pandas.concat instead.\n",
      "  allStockDataInYFinance=allStockDataInYFinance.append(companyInfo)\n"
     ]
    },
    {
     "name": "stdout",
     "output_type": "stream",
     "text": [
      "[*********************100%***********************]  1 of 1 completed\n"
     ]
    },
    {
     "name": "stderr",
     "output_type": "stream",
     "text": [
      "C:\\Users\\87066\\AppData\\Local\\Temp\\ipykernel_14672\\4037774555.py:30: FutureWarning: The frame.append method is deprecated and will be removed from pandas in a future version. Use pandas.concat instead.\n",
      "  allStockDataInYFinance=allStockDataInYFinance.append(companyInfo)\n"
     ]
    },
    {
     "name": "stdout",
     "output_type": "stream",
     "text": [
      "[*********************100%***********************]  1 of 1 completed\n"
     ]
    },
    {
     "name": "stderr",
     "output_type": "stream",
     "text": [
      "C:\\Users\\87066\\AppData\\Local\\Temp\\ipykernel_14672\\4037774555.py:30: FutureWarning: The frame.append method is deprecated and will be removed from pandas in a future version. Use pandas.concat instead.\n",
      "  allStockDataInYFinance=allStockDataInYFinance.append(companyInfo)\n"
     ]
    },
    {
     "name": "stdout",
     "output_type": "stream",
     "text": [
      "[*********************100%***********************]  1 of 1 completed\n"
     ]
    },
    {
     "name": "stderr",
     "output_type": "stream",
     "text": [
      "C:\\Users\\87066\\AppData\\Local\\Temp\\ipykernel_14672\\4037774555.py:30: FutureWarning: The frame.append method is deprecated and will be removed from pandas in a future version. Use pandas.concat instead.\n",
      "  allStockDataInYFinance=allStockDataInYFinance.append(companyInfo)\n"
     ]
    },
    {
     "name": "stdout",
     "output_type": "stream",
     "text": [
      "[*********************100%***********************]  1 of 1 completed\n"
     ]
    },
    {
     "name": "stderr",
     "output_type": "stream",
     "text": [
      "C:\\Users\\87066\\AppData\\Local\\Temp\\ipykernel_14672\\4037774555.py:30: FutureWarning: The frame.append method is deprecated and will be removed from pandas in a future version. Use pandas.concat instead.\n",
      "  allStockDataInYFinance=allStockDataInYFinance.append(companyInfo)\n"
     ]
    },
    {
     "name": "stdout",
     "output_type": "stream",
     "text": [
      "[*********************100%***********************]  1 of 1 completed\n"
     ]
    },
    {
     "name": "stderr",
     "output_type": "stream",
     "text": [
      "C:\\Users\\87066\\AppData\\Local\\Temp\\ipykernel_14672\\4037774555.py:30: FutureWarning: The frame.append method is deprecated and will be removed from pandas in a future version. Use pandas.concat instead.\n",
      "  allStockDataInYFinance=allStockDataInYFinance.append(companyInfo)\n"
     ]
    },
    {
     "name": "stdout",
     "output_type": "stream",
     "text": [
      "[*********************100%***********************]  1 of 1 completed\n"
     ]
    },
    {
     "name": "stderr",
     "output_type": "stream",
     "text": [
      "C:\\Users\\87066\\AppData\\Local\\Temp\\ipykernel_14672\\4037774555.py:30: FutureWarning: The frame.append method is deprecated and will be removed from pandas in a future version. Use pandas.concat instead.\n",
      "  allStockDataInYFinance=allStockDataInYFinance.append(companyInfo)\n"
     ]
    },
    {
     "name": "stdout",
     "output_type": "stream",
     "text": [
      "[*********************100%***********************]  1 of 1 completed\n"
     ]
    },
    {
     "name": "stderr",
     "output_type": "stream",
     "text": [
      "C:\\Users\\87066\\AppData\\Local\\Temp\\ipykernel_14672\\4037774555.py:30: FutureWarning: The frame.append method is deprecated and will be removed from pandas in a future version. Use pandas.concat instead.\n",
      "  allStockDataInYFinance=allStockDataInYFinance.append(companyInfo)\n"
     ]
    },
    {
     "name": "stdout",
     "output_type": "stream",
     "text": [
      "[*********************100%***********************]  1 of 1 completed\n"
     ]
    },
    {
     "name": "stderr",
     "output_type": "stream",
     "text": [
      "C:\\Users\\87066\\AppData\\Local\\Temp\\ipykernel_14672\\4037774555.py:30: FutureWarning: The frame.append method is deprecated and will be removed from pandas in a future version. Use pandas.concat instead.\n",
      "  allStockDataInYFinance=allStockDataInYFinance.append(companyInfo)\n"
     ]
    },
    {
     "name": "stdout",
     "output_type": "stream",
     "text": [
      "[*********************100%***********************]  1 of 1 completed\n"
     ]
    },
    {
     "name": "stderr",
     "output_type": "stream",
     "text": [
      "C:\\Users\\87066\\AppData\\Local\\Temp\\ipykernel_14672\\4037774555.py:30: FutureWarning: The frame.append method is deprecated and will be removed from pandas in a future version. Use pandas.concat instead.\n",
      "  allStockDataInYFinance=allStockDataInYFinance.append(companyInfo)\n"
     ]
    },
    {
     "name": "stdout",
     "output_type": "stream",
     "text": [
      "[*********************100%***********************]  1 of 1 completed\n"
     ]
    },
    {
     "name": "stderr",
     "output_type": "stream",
     "text": [
      "C:\\Users\\87066\\AppData\\Local\\Temp\\ipykernel_14672\\4037774555.py:30: FutureWarning: The frame.append method is deprecated and will be removed from pandas in a future version. Use pandas.concat instead.\n",
      "  allStockDataInYFinance=allStockDataInYFinance.append(companyInfo)\n"
     ]
    },
    {
     "name": "stdout",
     "output_type": "stream",
     "text": [
      "[*********************100%***********************]  1 of 1 completed\n"
     ]
    },
    {
     "name": "stderr",
     "output_type": "stream",
     "text": [
      "C:\\Users\\87066\\AppData\\Local\\Temp\\ipykernel_14672\\4037774555.py:30: FutureWarning: The frame.append method is deprecated and will be removed from pandas in a future version. Use pandas.concat instead.\n",
      "  allStockDataInYFinance=allStockDataInYFinance.append(companyInfo)\n"
     ]
    },
    {
     "name": "stdout",
     "output_type": "stream",
     "text": [
      "[*********************100%***********************]  1 of 1 completed\n"
     ]
    },
    {
     "name": "stderr",
     "output_type": "stream",
     "text": [
      "C:\\Users\\87066\\AppData\\Local\\Temp\\ipykernel_14672\\4037774555.py:30: FutureWarning: The frame.append method is deprecated and will be removed from pandas in a future version. Use pandas.concat instead.\n",
      "  allStockDataInYFinance=allStockDataInYFinance.append(companyInfo)\n"
     ]
    },
    {
     "name": "stdout",
     "output_type": "stream",
     "text": [
      "[*********************100%***********************]  1 of 1 completed\n"
     ]
    },
    {
     "name": "stderr",
     "output_type": "stream",
     "text": [
      "C:\\Users\\87066\\AppData\\Local\\Temp\\ipykernel_14672\\4037774555.py:30: FutureWarning: The frame.append method is deprecated and will be removed from pandas in a future version. Use pandas.concat instead.\n",
      "  allStockDataInYFinance=allStockDataInYFinance.append(companyInfo)\n"
     ]
    },
    {
     "name": "stdout",
     "output_type": "stream",
     "text": [
      "[*********************100%***********************]  1 of 1 completed\n"
     ]
    },
    {
     "name": "stderr",
     "output_type": "stream",
     "text": [
      "C:\\Users\\87066\\AppData\\Local\\Temp\\ipykernel_14672\\4037774555.py:30: FutureWarning: The frame.append method is deprecated and will be removed from pandas in a future version. Use pandas.concat instead.\n",
      "  allStockDataInYFinance=allStockDataInYFinance.append(companyInfo)\n"
     ]
    },
    {
     "name": "stdout",
     "output_type": "stream",
     "text": [
      "[*********************100%***********************]  1 of 1 completed\n"
     ]
    },
    {
     "name": "stderr",
     "output_type": "stream",
     "text": [
      "C:\\Users\\87066\\AppData\\Local\\Temp\\ipykernel_14672\\4037774555.py:30: FutureWarning: The frame.append method is deprecated and will be removed from pandas in a future version. Use pandas.concat instead.\n",
      "  allStockDataInYFinance=allStockDataInYFinance.append(companyInfo)\n"
     ]
    },
    {
     "name": "stdout",
     "output_type": "stream",
     "text": [
      "[*********************100%***********************]  1 of 1 completed\n"
     ]
    },
    {
     "name": "stderr",
     "output_type": "stream",
     "text": [
      "C:\\Users\\87066\\AppData\\Local\\Temp\\ipykernel_14672\\4037774555.py:30: FutureWarning: The frame.append method is deprecated and will be removed from pandas in a future version. Use pandas.concat instead.\n",
      "  allStockDataInYFinance=allStockDataInYFinance.append(companyInfo)\n"
     ]
    },
    {
     "name": "stdout",
     "output_type": "stream",
     "text": [
      "[*********************100%***********************]  1 of 1 completed\n"
     ]
    },
    {
     "name": "stderr",
     "output_type": "stream",
     "text": [
      "C:\\Users\\87066\\AppData\\Local\\Temp\\ipykernel_14672\\4037774555.py:30: FutureWarning: The frame.append method is deprecated and will be removed from pandas in a future version. Use pandas.concat instead.\n",
      "  allStockDataInYFinance=allStockDataInYFinance.append(companyInfo)\n"
     ]
    },
    {
     "name": "stdout",
     "output_type": "stream",
     "text": [
      "[*********************100%***********************]  1 of 1 completed\n",
      "\n",
      "1 Failed download:\n",
      "- BRK.B: No timezone found, symbol may be delisted\n",
      "{'maxAge': 86400, 'priceHint': 2, 'quoteType': 'EQUITY', 'symbol': 'BRK.B', 'underlyingSymbol': 'BRK.B', 'uuid': '5a2c1675-19de-345f-a8c3-a61c958d64f1', 'trailingPegRatio': None}\n",
      "break, company {} data is null\n",
      "[*********************100%***********************]  1 of 1 completed\n"
     ]
    },
    {
     "name": "stderr",
     "output_type": "stream",
     "text": [
      "C:\\Users\\87066\\AppData\\Local\\Temp\\ipykernel_14672\\4037774555.py:30: FutureWarning: The frame.append method is deprecated and will be removed from pandas in a future version. Use pandas.concat instead.\n",
      "  allStockDataInYFinance=allStockDataInYFinance.append(companyInfo)\n"
     ]
    },
    {
     "name": "stdout",
     "output_type": "stream",
     "text": [
      "[*********************100%***********************]  1 of 1 completed\n"
     ]
    },
    {
     "name": "stderr",
     "output_type": "stream",
     "text": [
      "C:\\Users\\87066\\AppData\\Local\\Temp\\ipykernel_14672\\4037774555.py:30: FutureWarning: The frame.append method is deprecated and will be removed from pandas in a future version. Use pandas.concat instead.\n",
      "  allStockDataInYFinance=allStockDataInYFinance.append(companyInfo)\n"
     ]
    },
    {
     "name": "stdout",
     "output_type": "stream",
     "text": [
      "[*********************100%***********************]  1 of 1 completed\n"
     ]
    },
    {
     "name": "stderr",
     "output_type": "stream",
     "text": [
      "C:\\Users\\87066\\AppData\\Local\\Temp\\ipykernel_14672\\4037774555.py:30: FutureWarning: The frame.append method is deprecated and will be removed from pandas in a future version. Use pandas.concat instead.\n",
      "  allStockDataInYFinance=allStockDataInYFinance.append(companyInfo)\n"
     ]
    },
    {
     "name": "stdout",
     "output_type": "stream",
     "text": [
      "[*********************100%***********************]  1 of 1 completed\n"
     ]
    },
    {
     "name": "stderr",
     "output_type": "stream",
     "text": [
      "C:\\Users\\87066\\AppData\\Local\\Temp\\ipykernel_14672\\4037774555.py:30: FutureWarning: The frame.append method is deprecated and will be removed from pandas in a future version. Use pandas.concat instead.\n",
      "  allStockDataInYFinance=allStockDataInYFinance.append(companyInfo)\n"
     ]
    },
    {
     "name": "stdout",
     "output_type": "stream",
     "text": [
      "[*********************100%***********************]  1 of 1 completed\n"
     ]
    },
    {
     "name": "stderr",
     "output_type": "stream",
     "text": [
      "C:\\Users\\87066\\AppData\\Local\\Temp\\ipykernel_14672\\4037774555.py:30: FutureWarning: The frame.append method is deprecated and will be removed from pandas in a future version. Use pandas.concat instead.\n",
      "  allStockDataInYFinance=allStockDataInYFinance.append(companyInfo)\n"
     ]
    },
    {
     "name": "stdout",
     "output_type": "stream",
     "text": [
      "[*********************100%***********************]  1 of 1 completed\n"
     ]
    },
    {
     "name": "stderr",
     "output_type": "stream",
     "text": [
      "C:\\Users\\87066\\AppData\\Local\\Temp\\ipykernel_14672\\4037774555.py:30: FutureWarning: The frame.append method is deprecated and will be removed from pandas in a future version. Use pandas.concat instead.\n",
      "  allStockDataInYFinance=allStockDataInYFinance.append(companyInfo)\n"
     ]
    },
    {
     "name": "stdout",
     "output_type": "stream",
     "text": [
      "[*********************100%***********************]  1 of 1 completed\n"
     ]
    },
    {
     "name": "stderr",
     "output_type": "stream",
     "text": [
      "C:\\Users\\87066\\AppData\\Local\\Temp\\ipykernel_14672\\4037774555.py:30: FutureWarning: The frame.append method is deprecated and will be removed from pandas in a future version. Use pandas.concat instead.\n",
      "  allStockDataInYFinance=allStockDataInYFinance.append(companyInfo)\n"
     ]
    },
    {
     "name": "stdout",
     "output_type": "stream",
     "text": [
      "[*********************100%***********************]  1 of 1 completed\n"
     ]
    },
    {
     "name": "stderr",
     "output_type": "stream",
     "text": [
      "C:\\Users\\87066\\AppData\\Local\\Temp\\ipykernel_14672\\4037774555.py:30: FutureWarning: The frame.append method is deprecated and will be removed from pandas in a future version. Use pandas.concat instead.\n",
      "  allStockDataInYFinance=allStockDataInYFinance.append(companyInfo)\n"
     ]
    },
    {
     "name": "stdout",
     "output_type": "stream",
     "text": [
      "[*********************100%***********************]  1 of 1 completed\n"
     ]
    },
    {
     "name": "stderr",
     "output_type": "stream",
     "text": [
      "C:\\Users\\87066\\AppData\\Local\\Temp\\ipykernel_14672\\4037774555.py:30: FutureWarning: The frame.append method is deprecated and will be removed from pandas in a future version. Use pandas.concat instead.\n",
      "  allStockDataInYFinance=allStockDataInYFinance.append(companyInfo)\n"
     ]
    },
    {
     "name": "stdout",
     "output_type": "stream",
     "text": [
      "[*********************100%***********************]  1 of 1 completed\n"
     ]
    },
    {
     "name": "stderr",
     "output_type": "stream",
     "text": [
      "C:\\Users\\87066\\AppData\\Local\\Temp\\ipykernel_14672\\4037774555.py:30: FutureWarning: The frame.append method is deprecated and will be removed from pandas in a future version. Use pandas.concat instead.\n",
      "  allStockDataInYFinance=allStockDataInYFinance.append(companyInfo)\n"
     ]
    },
    {
     "name": "stdout",
     "output_type": "stream",
     "text": [
      "[*********************100%***********************]  1 of 1 completed\n"
     ]
    },
    {
     "name": "stderr",
     "output_type": "stream",
     "text": [
      "C:\\Users\\87066\\AppData\\Local\\Temp\\ipykernel_14672\\4037774555.py:30: FutureWarning: The frame.append method is deprecated and will be removed from pandas in a future version. Use pandas.concat instead.\n",
      "  allStockDataInYFinance=allStockDataInYFinance.append(companyInfo)\n"
     ]
    },
    {
     "name": "stdout",
     "output_type": "stream",
     "text": [
      "[*********************100%***********************]  1 of 1 completed\n"
     ]
    },
    {
     "name": "stderr",
     "output_type": "stream",
     "text": [
      "C:\\Users\\87066\\AppData\\Local\\Temp\\ipykernel_14672\\4037774555.py:30: FutureWarning: The frame.append method is deprecated and will be removed from pandas in a future version. Use pandas.concat instead.\n",
      "  allStockDataInYFinance=allStockDataInYFinance.append(companyInfo)\n"
     ]
    },
    {
     "name": "stdout",
     "output_type": "stream",
     "text": [
      "[*********************100%***********************]  1 of 1 completed\n"
     ]
    },
    {
     "name": "stderr",
     "output_type": "stream",
     "text": [
      "C:\\Users\\87066\\AppData\\Local\\Temp\\ipykernel_14672\\4037774555.py:30: FutureWarning: The frame.append method is deprecated and will be removed from pandas in a future version. Use pandas.concat instead.\n",
      "  allStockDataInYFinance=allStockDataInYFinance.append(companyInfo)\n"
     ]
    },
    {
     "name": "stdout",
     "output_type": "stream",
     "text": [
      "[*********************100%***********************]  1 of 1 completed\n"
     ]
    },
    {
     "name": "stderr",
     "output_type": "stream",
     "text": [
      "C:\\Users\\87066\\AppData\\Local\\Temp\\ipykernel_14672\\4037774555.py:30: FutureWarning: The frame.append method is deprecated and will be removed from pandas in a future version. Use pandas.concat instead.\n",
      "  allStockDataInYFinance=allStockDataInYFinance.append(companyInfo)\n"
     ]
    },
    {
     "name": "stdout",
     "output_type": "stream",
     "text": [
      "[*********************100%***********************]  1 of 1 completed\n"
     ]
    },
    {
     "name": "stderr",
     "output_type": "stream",
     "text": [
      "C:\\Users\\87066\\AppData\\Local\\Temp\\ipykernel_14672\\4037774555.py:30: FutureWarning: The frame.append method is deprecated and will be removed from pandas in a future version. Use pandas.concat instead.\n",
      "  allStockDataInYFinance=allStockDataInYFinance.append(companyInfo)\n"
     ]
    },
    {
     "name": "stdout",
     "output_type": "stream",
     "text": [
      "[*********************100%***********************]  1 of 1 completed\n",
      "\n",
      "1 Failed download:\n",
      "- BF.B: No data found for this date range, symbol may be delisted\n",
      "{'exchange': 'YHD', 'quoteType': 'MUTUALFUND', 'symbol': 'BF.B', 'underlyingSymbol': 'BF.B', 'timeZoneFullName': 'America/New_York', 'timeZoneShortName': 'EDT', 'uuid': '69748612-d5d0-36f5-be88-ea00a370321d', 'gmtOffSetMilliseconds': -14400000, 'maxAge': 86400, 'trailingPegRatio': None}\n",
      "break, company {} data is null\n",
      "[*********************100%***********************]  1 of 1 completed\n"
     ]
    },
    {
     "name": "stderr",
     "output_type": "stream",
     "text": [
      "C:\\Users\\87066\\AppData\\Local\\Temp\\ipykernel_14672\\4037774555.py:30: FutureWarning: The frame.append method is deprecated and will be removed from pandas in a future version. Use pandas.concat instead.\n",
      "  allStockDataInYFinance=allStockDataInYFinance.append(companyInfo)\n"
     ]
    },
    {
     "name": "stdout",
     "output_type": "stream",
     "text": [
      "[*********************100%***********************]  1 of 1 completed\n"
     ]
    },
    {
     "name": "stderr",
     "output_type": "stream",
     "text": [
      "C:\\Users\\87066\\AppData\\Local\\Temp\\ipykernel_14672\\4037774555.py:30: FutureWarning: The frame.append method is deprecated and will be removed from pandas in a future version. Use pandas.concat instead.\n",
      "  allStockDataInYFinance=allStockDataInYFinance.append(companyInfo)\n"
     ]
    },
    {
     "name": "stdout",
     "output_type": "stream",
     "text": [
      "[*********************100%***********************]  1 of 1 completed\n"
     ]
    },
    {
     "name": "stderr",
     "output_type": "stream",
     "text": [
      "C:\\Users\\87066\\AppData\\Local\\Temp\\ipykernel_14672\\4037774555.py:30: FutureWarning: The frame.append method is deprecated and will be removed from pandas in a future version. Use pandas.concat instead.\n",
      "  allStockDataInYFinance=allStockDataInYFinance.append(companyInfo)\n"
     ]
    },
    {
     "name": "stdout",
     "output_type": "stream",
     "text": [
      "[*********************100%***********************]  1 of 1 completed\n"
     ]
    },
    {
     "name": "stderr",
     "output_type": "stream",
     "text": [
      "C:\\Users\\87066\\AppData\\Local\\Temp\\ipykernel_14672\\4037774555.py:30: FutureWarning: The frame.append method is deprecated and will be removed from pandas in a future version. Use pandas.concat instead.\n",
      "  allStockDataInYFinance=allStockDataInYFinance.append(companyInfo)\n"
     ]
    },
    {
     "name": "stdout",
     "output_type": "stream",
     "text": [
      "[*********************100%***********************]  1 of 1 completed\n"
     ]
    },
    {
     "name": "stderr",
     "output_type": "stream",
     "text": [
      "C:\\Users\\87066\\AppData\\Local\\Temp\\ipykernel_14672\\4037774555.py:30: FutureWarning: The frame.append method is deprecated and will be removed from pandas in a future version. Use pandas.concat instead.\n",
      "  allStockDataInYFinance=allStockDataInYFinance.append(companyInfo)\n"
     ]
    },
    {
     "name": "stdout",
     "output_type": "stream",
     "text": [
      "[*********************100%***********************]  1 of 1 completed\n"
     ]
    },
    {
     "name": "stderr",
     "output_type": "stream",
     "text": [
      "C:\\Users\\87066\\AppData\\Local\\Temp\\ipykernel_14672\\4037774555.py:30: FutureWarning: The frame.append method is deprecated and will be removed from pandas in a future version. Use pandas.concat instead.\n",
      "  allStockDataInYFinance=allStockDataInYFinance.append(companyInfo)\n"
     ]
    },
    {
     "name": "stdout",
     "output_type": "stream",
     "text": [
      "[*********************100%***********************]  1 of 1 completed\n"
     ]
    },
    {
     "name": "stderr",
     "output_type": "stream",
     "text": [
      "C:\\Users\\87066\\AppData\\Local\\Temp\\ipykernel_14672\\4037774555.py:30: FutureWarning: The frame.append method is deprecated and will be removed from pandas in a future version. Use pandas.concat instead.\n",
      "  allStockDataInYFinance=allStockDataInYFinance.append(companyInfo)\n"
     ]
    },
    {
     "name": "stdout",
     "output_type": "stream",
     "text": [
      "[*********************100%***********************]  1 of 1 completed\n"
     ]
    },
    {
     "name": "stderr",
     "output_type": "stream",
     "text": [
      "C:\\Users\\87066\\AppData\\Local\\Temp\\ipykernel_14672\\4037774555.py:30: FutureWarning: The frame.append method is deprecated and will be removed from pandas in a future version. Use pandas.concat instead.\n",
      "  allStockDataInYFinance=allStockDataInYFinance.append(companyInfo)\n"
     ]
    },
    {
     "name": "stdout",
     "output_type": "stream",
     "text": [
      "[*********************100%***********************]  1 of 1 completed\n"
     ]
    },
    {
     "name": "stderr",
     "output_type": "stream",
     "text": [
      "C:\\Users\\87066\\AppData\\Local\\Temp\\ipykernel_14672\\4037774555.py:30: FutureWarning: The frame.append method is deprecated and will be removed from pandas in a future version. Use pandas.concat instead.\n",
      "  allStockDataInYFinance=allStockDataInYFinance.append(companyInfo)\n"
     ]
    },
    {
     "name": "stdout",
     "output_type": "stream",
     "text": [
      "[*********************100%***********************]  1 of 1 completed\n"
     ]
    },
    {
     "name": "stderr",
     "output_type": "stream",
     "text": [
      "C:\\Users\\87066\\AppData\\Local\\Temp\\ipykernel_14672\\4037774555.py:30: FutureWarning: The frame.append method is deprecated and will be removed from pandas in a future version. Use pandas.concat instead.\n",
      "  allStockDataInYFinance=allStockDataInYFinance.append(companyInfo)\n"
     ]
    },
    {
     "name": "stdout",
     "output_type": "stream",
     "text": [
      "[*********************100%***********************]  1 of 1 completed\n"
     ]
    },
    {
     "name": "stderr",
     "output_type": "stream",
     "text": [
      "C:\\Users\\87066\\AppData\\Local\\Temp\\ipykernel_14672\\4037774555.py:30: FutureWarning: The frame.append method is deprecated and will be removed from pandas in a future version. Use pandas.concat instead.\n",
      "  allStockDataInYFinance=allStockDataInYFinance.append(companyInfo)\n"
     ]
    },
    {
     "name": "stdout",
     "output_type": "stream",
     "text": [
      "[*********************100%***********************]  1 of 1 completed\n"
     ]
    },
    {
     "name": "stderr",
     "output_type": "stream",
     "text": [
      "C:\\Users\\87066\\AppData\\Local\\Temp\\ipykernel_14672\\4037774555.py:30: FutureWarning: The frame.append method is deprecated and will be removed from pandas in a future version. Use pandas.concat instead.\n",
      "  allStockDataInYFinance=allStockDataInYFinance.append(companyInfo)\n"
     ]
    },
    {
     "name": "stdout",
     "output_type": "stream",
     "text": [
      "[*********************100%***********************]  1 of 1 completed\n",
      "{'maxAge': 86400, 'priceHint': 2, 'previousClose': 215.09, 'open': 216.44, 'dayLow': 213.63, 'dayHigh': 218.11, 'regularMarketPreviousClose': 215.09, 'regularMarketOpen': 216.44, 'regularMarketDayLow': 213.63, 'regularMarketDayHigh': 218.11, 'trailingPE': 15.886833, 'forwardPE': 11.860297, 'volume': 2366629, 'regularMarketVolume': 2366629, 'averageVolume': 3147613, 'averageVolume10days': 3485070, 'averageDailyVolume10Day': 3485070, 'bid': 214.08, 'ask': 214.99, 'bidSize': 800, 'askSize': 1200, 'marketCap': 110905950208, 'fiftyTwoWeekLow': 160.6, 'fiftyTwoWeekHigh': 266.04, 'fiftyDayAverage': 224.787, 'twoHundredDayAverage': 216.9991, 'trailingAnnualDividendRate': 3.6, 'trailingAnnualDividendYield': 0.01673718, 'currency': 'USD', 'exchange': 'NYQ', 'quoteType': 'EQUITY', 'symbol': 'CAT', 'underlyingSymbol': 'CAT', 'shortName': 'Caterpillar, Inc.', 'longName': 'Caterpillar Inc.', 'firstTradeDateEpochUtc': -252322200, 'timeZoneFullName': 'America/New_York', 'timeZoneShortName': 'EDT', 'uuid': 'c01ae1a5-f122-325c-a567-5f86028b536a', 'messageBoardId': 'finmb_259378', 'gmtOffSetMilliseconds': -14400000, 'currentPrice': 214.79, 'targetHighPrice': 300.0, 'targetLowPrice': 175.0, 'targetMeanPrice': 239.33, 'targetMedianPrice': 240.0, 'recommendationMean': 2.7, 'recommendationKey': 'hold', 'numberOfAnalystOpinions': 24, 'grossProfits': 15565000000, 'financialCurrency': 'USD', 'trailingPegRatio': 1.4198}\n",
      "break, company {} data is null\n",
      "[*********************100%***********************]  1 of 1 completed\n"
     ]
    },
    {
     "name": "stderr",
     "output_type": "stream",
     "text": [
      "C:\\Users\\87066\\AppData\\Local\\Temp\\ipykernel_14672\\4037774555.py:30: FutureWarning: The frame.append method is deprecated and will be removed from pandas in a future version. Use pandas.concat instead.\n",
      "  allStockDataInYFinance=allStockDataInYFinance.append(companyInfo)\n"
     ]
    },
    {
     "name": "stdout",
     "output_type": "stream",
     "text": [
      "[*********************100%***********************]  1 of 1 completed\n"
     ]
    },
    {
     "name": "stderr",
     "output_type": "stream",
     "text": [
      "C:\\Users\\87066\\AppData\\Local\\Temp\\ipykernel_14672\\4037774555.py:30: FutureWarning: The frame.append method is deprecated and will be removed from pandas in a future version. Use pandas.concat instead.\n",
      "  allStockDataInYFinance=allStockDataInYFinance.append(companyInfo)\n"
     ]
    },
    {
     "name": "stdout",
     "output_type": "stream",
     "text": [
      "[*********************100%***********************]  1 of 1 completed\n"
     ]
    },
    {
     "name": "stderr",
     "output_type": "stream",
     "text": [
      "C:\\Users\\87066\\AppData\\Local\\Temp\\ipykernel_14672\\4037774555.py:30: FutureWarning: The frame.append method is deprecated and will be removed from pandas in a future version. Use pandas.concat instead.\n",
      "  allStockDataInYFinance=allStockDataInYFinance.append(companyInfo)\n"
     ]
    },
    {
     "name": "stdout",
     "output_type": "stream",
     "text": [
      "[*********************100%***********************]  1 of 1 completed\n"
     ]
    },
    {
     "name": "stderr",
     "output_type": "stream",
     "text": [
      "C:\\Users\\87066\\AppData\\Local\\Temp\\ipykernel_14672\\4037774555.py:30: FutureWarning: The frame.append method is deprecated and will be removed from pandas in a future version. Use pandas.concat instead.\n",
      "  allStockDataInYFinance=allStockDataInYFinance.append(companyInfo)\n"
     ]
    },
    {
     "name": "stdout",
     "output_type": "stream",
     "text": [
      "[*********************100%***********************]  1 of 1 completed\n"
     ]
    },
    {
     "name": "stderr",
     "output_type": "stream",
     "text": [
      "C:\\Users\\87066\\AppData\\Local\\Temp\\ipykernel_14672\\4037774555.py:30: FutureWarning: The frame.append method is deprecated and will be removed from pandas in a future version. Use pandas.concat instead.\n",
      "  allStockDataInYFinance=allStockDataInYFinance.append(companyInfo)\n"
     ]
    },
    {
     "name": "stdout",
     "output_type": "stream",
     "text": [
      "[*********************100%***********************]  1 of 1 completed\n"
     ]
    },
    {
     "name": "stderr",
     "output_type": "stream",
     "text": [
      "C:\\Users\\87066\\AppData\\Local\\Temp\\ipykernel_14672\\4037774555.py:30: FutureWarning: The frame.append method is deprecated and will be removed from pandas in a future version. Use pandas.concat instead.\n",
      "  allStockDataInYFinance=allStockDataInYFinance.append(companyInfo)\n"
     ]
    },
    {
     "name": "stdout",
     "output_type": "stream",
     "text": [
      "[*********************100%***********************]  1 of 1 completed\n"
     ]
    },
    {
     "name": "stderr",
     "output_type": "stream",
     "text": [
      "C:\\Users\\87066\\AppData\\Local\\Temp\\ipykernel_14672\\4037774555.py:30: FutureWarning: The frame.append method is deprecated and will be removed from pandas in a future version. Use pandas.concat instead.\n",
      "  allStockDataInYFinance=allStockDataInYFinance.append(companyInfo)\n"
     ]
    },
    {
     "name": "stdout",
     "output_type": "stream",
     "text": [
      "[*********************100%***********************]  1 of 1 completed\n"
     ]
    },
    {
     "name": "stderr",
     "output_type": "stream",
     "text": [
      "C:\\Users\\87066\\AppData\\Local\\Temp\\ipykernel_14672\\4037774555.py:30: FutureWarning: The frame.append method is deprecated and will be removed from pandas in a future version. Use pandas.concat instead.\n",
      "  allStockDataInYFinance=allStockDataInYFinance.append(companyInfo)\n"
     ]
    },
    {
     "name": "stdout",
     "output_type": "stream",
     "text": [
      "[*********************100%***********************]  1 of 1 completed\n"
     ]
    },
    {
     "name": "stderr",
     "output_type": "stream",
     "text": [
      "C:\\Users\\87066\\AppData\\Local\\Temp\\ipykernel_14672\\4037774555.py:30: FutureWarning: The frame.append method is deprecated and will be removed from pandas in a future version. Use pandas.concat instead.\n",
      "  allStockDataInYFinance=allStockDataInYFinance.append(companyInfo)\n"
     ]
    },
    {
     "name": "stdout",
     "output_type": "stream",
     "text": [
      "[*********************100%***********************]  1 of 1 completed\n"
     ]
    },
    {
     "name": "stderr",
     "output_type": "stream",
     "text": [
      "C:\\Users\\87066\\AppData\\Local\\Temp\\ipykernel_14672\\4037774555.py:30: FutureWarning: The frame.append method is deprecated and will be removed from pandas in a future version. Use pandas.concat instead.\n",
      "  allStockDataInYFinance=allStockDataInYFinance.append(companyInfo)\n"
     ]
    },
    {
     "name": "stdout",
     "output_type": "stream",
     "text": [
      "[*********************100%***********************]  1 of 1 completed\n"
     ]
    },
    {
     "name": "stderr",
     "output_type": "stream",
     "text": [
      "C:\\Users\\87066\\AppData\\Local\\Temp\\ipykernel_14672\\4037774555.py:30: FutureWarning: The frame.append method is deprecated and will be removed from pandas in a future version. Use pandas.concat instead.\n",
      "  allStockDataInYFinance=allStockDataInYFinance.append(companyInfo)\n"
     ]
    },
    {
     "name": "stdout",
     "output_type": "stream",
     "text": [
      "[*********************100%***********************]  1 of 1 completed\n"
     ]
    },
    {
     "name": "stderr",
     "output_type": "stream",
     "text": [
      "C:\\Users\\87066\\AppData\\Local\\Temp\\ipykernel_14672\\4037774555.py:30: FutureWarning: The frame.append method is deprecated and will be removed from pandas in a future version. Use pandas.concat instead.\n",
      "  allStockDataInYFinance=allStockDataInYFinance.append(companyInfo)\n"
     ]
    },
    {
     "name": "stdout",
     "output_type": "stream",
     "text": [
      "[*********************100%***********************]  1 of 1 completed\n"
     ]
    },
    {
     "name": "stderr",
     "output_type": "stream",
     "text": [
      "C:\\Users\\87066\\AppData\\Local\\Temp\\ipykernel_14672\\4037774555.py:30: FutureWarning: The frame.append method is deprecated and will be removed from pandas in a future version. Use pandas.concat instead.\n",
      "  allStockDataInYFinance=allStockDataInYFinance.append(companyInfo)\n"
     ]
    },
    {
     "name": "stdout",
     "output_type": "stream",
     "text": [
      "[*********************100%***********************]  1 of 1 completed\n"
     ]
    },
    {
     "name": "stderr",
     "output_type": "stream",
     "text": [
      "C:\\Users\\87066\\AppData\\Local\\Temp\\ipykernel_14672\\4037774555.py:30: FutureWarning: The frame.append method is deprecated and will be removed from pandas in a future version. Use pandas.concat instead.\n",
      "  allStockDataInYFinance=allStockDataInYFinance.append(companyInfo)\n"
     ]
    },
    {
     "name": "stdout",
     "output_type": "stream",
     "text": [
      "[*********************100%***********************]  1 of 1 completed\n"
     ]
    },
    {
     "name": "stderr",
     "output_type": "stream",
     "text": [
      "C:\\Users\\87066\\AppData\\Local\\Temp\\ipykernel_14672\\4037774555.py:30: FutureWarning: The frame.append method is deprecated and will be removed from pandas in a future version. Use pandas.concat instead.\n",
      "  allStockDataInYFinance=allStockDataInYFinance.append(companyInfo)\n"
     ]
    },
    {
     "name": "stdout",
     "output_type": "stream",
     "text": [
      "[*********************100%***********************]  1 of 1 completed\n"
     ]
    },
    {
     "name": "stderr",
     "output_type": "stream",
     "text": [
      "C:\\Users\\87066\\AppData\\Local\\Temp\\ipykernel_14672\\4037774555.py:30: FutureWarning: The frame.append method is deprecated and will be removed from pandas in a future version. Use pandas.concat instead.\n",
      "  allStockDataInYFinance=allStockDataInYFinance.append(companyInfo)\n"
     ]
    },
    {
     "name": "stdout",
     "output_type": "stream",
     "text": [
      "[*********************100%***********************]  1 of 1 completed\n"
     ]
    },
    {
     "name": "stderr",
     "output_type": "stream",
     "text": [
      "C:\\Users\\87066\\AppData\\Local\\Temp\\ipykernel_14672\\4037774555.py:30: FutureWarning: The frame.append method is deprecated and will be removed from pandas in a future version. Use pandas.concat instead.\n",
      "  allStockDataInYFinance=allStockDataInYFinance.append(companyInfo)\n"
     ]
    },
    {
     "name": "stdout",
     "output_type": "stream",
     "text": [
      "[*********************100%***********************]  1 of 1 completed\n"
     ]
    },
    {
     "name": "stderr",
     "output_type": "stream",
     "text": [
      "C:\\Users\\87066\\AppData\\Local\\Temp\\ipykernel_14672\\4037774555.py:30: FutureWarning: The frame.append method is deprecated and will be removed from pandas in a future version. Use pandas.concat instead.\n",
      "  allStockDataInYFinance=allStockDataInYFinance.append(companyInfo)\n"
     ]
    },
    {
     "name": "stdout",
     "output_type": "stream",
     "text": [
      "[*********************100%***********************]  1 of 1 completed\n"
     ]
    },
    {
     "name": "stderr",
     "output_type": "stream",
     "text": [
      "C:\\Users\\87066\\AppData\\Local\\Temp\\ipykernel_14672\\4037774555.py:30: FutureWarning: The frame.append method is deprecated and will be removed from pandas in a future version. Use pandas.concat instead.\n",
      "  allStockDataInYFinance=allStockDataInYFinance.append(companyInfo)\n"
     ]
    },
    {
     "name": "stdout",
     "output_type": "stream",
     "text": [
      "[*********************100%***********************]  1 of 1 completed\n"
     ]
    },
    {
     "name": "stderr",
     "output_type": "stream",
     "text": [
      "C:\\Users\\87066\\AppData\\Local\\Temp\\ipykernel_14672\\4037774555.py:30: FutureWarning: The frame.append method is deprecated and will be removed from pandas in a future version. Use pandas.concat instead.\n",
      "  allStockDataInYFinance=allStockDataInYFinance.append(companyInfo)\n"
     ]
    },
    {
     "name": "stdout",
     "output_type": "stream",
     "text": [
      "[*********************100%***********************]  1 of 1 completed\n"
     ]
    },
    {
     "name": "stderr",
     "output_type": "stream",
     "text": [
      "C:\\Users\\87066\\AppData\\Local\\Temp\\ipykernel_14672\\4037774555.py:30: FutureWarning: The frame.append method is deprecated and will be removed from pandas in a future version. Use pandas.concat instead.\n",
      "  allStockDataInYFinance=allStockDataInYFinance.append(companyInfo)\n"
     ]
    },
    {
     "name": "stdout",
     "output_type": "stream",
     "text": [
      "[*********************100%***********************]  1 of 1 completed\n"
     ]
    },
    {
     "name": "stderr",
     "output_type": "stream",
     "text": [
      "C:\\Users\\87066\\AppData\\Local\\Temp\\ipykernel_14672\\4037774555.py:30: FutureWarning: The frame.append method is deprecated and will be removed from pandas in a future version. Use pandas.concat instead.\n",
      "  allStockDataInYFinance=allStockDataInYFinance.append(companyInfo)\n"
     ]
    },
    {
     "name": "stdout",
     "output_type": "stream",
     "text": [
      "[*********************100%***********************]  1 of 1 completed\n"
     ]
    },
    {
     "name": "stderr",
     "output_type": "stream",
     "text": [
      "C:\\Users\\87066\\AppData\\Local\\Temp\\ipykernel_14672\\4037774555.py:30: FutureWarning: The frame.append method is deprecated and will be removed from pandas in a future version. Use pandas.concat instead.\n",
      "  allStockDataInYFinance=allStockDataInYFinance.append(companyInfo)\n"
     ]
    },
    {
     "name": "stdout",
     "output_type": "stream",
     "text": [
      "[*********************100%***********************]  1 of 1 completed\n"
     ]
    },
    {
     "name": "stderr",
     "output_type": "stream",
     "text": [
      "C:\\Users\\87066\\AppData\\Local\\Temp\\ipykernel_14672\\4037774555.py:30: FutureWarning: The frame.append method is deprecated and will be removed from pandas in a future version. Use pandas.concat instead.\n",
      "  allStockDataInYFinance=allStockDataInYFinance.append(companyInfo)\n"
     ]
    },
    {
     "name": "stdout",
     "output_type": "stream",
     "text": [
      "[*********************100%***********************]  1 of 1 completed\n"
     ]
    },
    {
     "name": "stderr",
     "output_type": "stream",
     "text": [
      "C:\\Users\\87066\\AppData\\Local\\Temp\\ipykernel_14672\\4037774555.py:30: FutureWarning: The frame.append method is deprecated and will be removed from pandas in a future version. Use pandas.concat instead.\n",
      "  allStockDataInYFinance=allStockDataInYFinance.append(companyInfo)\n"
     ]
    },
    {
     "name": "stdout",
     "output_type": "stream",
     "text": [
      "[*********************100%***********************]  1 of 1 completed\n"
     ]
    },
    {
     "name": "stderr",
     "output_type": "stream",
     "text": [
      "C:\\Users\\87066\\AppData\\Local\\Temp\\ipykernel_14672\\4037774555.py:30: FutureWarning: The frame.append method is deprecated and will be removed from pandas in a future version. Use pandas.concat instead.\n",
      "  allStockDataInYFinance=allStockDataInYFinance.append(companyInfo)\n"
     ]
    },
    {
     "name": "stdout",
     "output_type": "stream",
     "text": [
      "[*********************100%***********************]  1 of 1 completed\n"
     ]
    },
    {
     "name": "stderr",
     "output_type": "stream",
     "text": [
      "C:\\Users\\87066\\AppData\\Local\\Temp\\ipykernel_14672\\4037774555.py:30: FutureWarning: The frame.append method is deprecated and will be removed from pandas in a future version. Use pandas.concat instead.\n",
      "  allStockDataInYFinance=allStockDataInYFinance.append(companyInfo)\n"
     ]
    },
    {
     "name": "stdout",
     "output_type": "stream",
     "text": [
      "[*********************100%***********************]  1 of 1 completed\n"
     ]
    },
    {
     "name": "stderr",
     "output_type": "stream",
     "text": [
      "C:\\Users\\87066\\AppData\\Local\\Temp\\ipykernel_14672\\4037774555.py:30: FutureWarning: The frame.append method is deprecated and will be removed from pandas in a future version. Use pandas.concat instead.\n",
      "  allStockDataInYFinance=allStockDataInYFinance.append(companyInfo)\n"
     ]
    },
    {
     "name": "stdout",
     "output_type": "stream",
     "text": [
      "[*********************100%***********************]  1 of 1 completed\n"
     ]
    },
    {
     "name": "stderr",
     "output_type": "stream",
     "text": [
      "C:\\Users\\87066\\AppData\\Local\\Temp\\ipykernel_14672\\4037774555.py:30: FutureWarning: The frame.append method is deprecated and will be removed from pandas in a future version. Use pandas.concat instead.\n",
      "  allStockDataInYFinance=allStockDataInYFinance.append(companyInfo)\n"
     ]
    },
    {
     "name": "stdout",
     "output_type": "stream",
     "text": [
      "[*********************100%***********************]  1 of 1 completed\n"
     ]
    },
    {
     "name": "stderr",
     "output_type": "stream",
     "text": [
      "C:\\Users\\87066\\AppData\\Local\\Temp\\ipykernel_14672\\4037774555.py:30: FutureWarning: The frame.append method is deprecated and will be removed from pandas in a future version. Use pandas.concat instead.\n",
      "  allStockDataInYFinance=allStockDataInYFinance.append(companyInfo)\n"
     ]
    },
    {
     "name": "stdout",
     "output_type": "stream",
     "text": [
      "[*********************100%***********************]  1 of 1 completed\n"
     ]
    },
    {
     "name": "stderr",
     "output_type": "stream",
     "text": [
      "C:\\Users\\87066\\AppData\\Local\\Temp\\ipykernel_14672\\4037774555.py:30: FutureWarning: The frame.append method is deprecated and will be removed from pandas in a future version. Use pandas.concat instead.\n",
      "  allStockDataInYFinance=allStockDataInYFinance.append(companyInfo)\n"
     ]
    },
    {
     "name": "stdout",
     "output_type": "stream",
     "text": [
      "[*********************100%***********************]  1 of 1 completed\n"
     ]
    },
    {
     "name": "stderr",
     "output_type": "stream",
     "text": [
      "C:\\Users\\87066\\AppData\\Local\\Temp\\ipykernel_14672\\4037774555.py:30: FutureWarning: The frame.append method is deprecated and will be removed from pandas in a future version. Use pandas.concat instead.\n",
      "  allStockDataInYFinance=allStockDataInYFinance.append(companyInfo)\n"
     ]
    },
    {
     "name": "stdout",
     "output_type": "stream",
     "text": [
      "[*********************100%***********************]  1 of 1 completed\n"
     ]
    },
    {
     "name": "stderr",
     "output_type": "stream",
     "text": [
      "C:\\Users\\87066\\AppData\\Local\\Temp\\ipykernel_14672\\4037774555.py:30: FutureWarning: The frame.append method is deprecated and will be removed from pandas in a future version. Use pandas.concat instead.\n",
      "  allStockDataInYFinance=allStockDataInYFinance.append(companyInfo)\n"
     ]
    },
    {
     "name": "stdout",
     "output_type": "stream",
     "text": [
      "[*********************100%***********************]  1 of 1 completed\n"
     ]
    },
    {
     "name": "stderr",
     "output_type": "stream",
     "text": [
      "C:\\Users\\87066\\AppData\\Local\\Temp\\ipykernel_14672\\4037774555.py:30: FutureWarning: The frame.append method is deprecated and will be removed from pandas in a future version. Use pandas.concat instead.\n",
      "  allStockDataInYFinance=allStockDataInYFinance.append(companyInfo)\n"
     ]
    },
    {
     "name": "stdout",
     "output_type": "stream",
     "text": [
      "[*********************100%***********************]  1 of 1 completed\n"
     ]
    },
    {
     "name": "stderr",
     "output_type": "stream",
     "text": [
      "C:\\Users\\87066\\AppData\\Local\\Temp\\ipykernel_14672\\4037774555.py:30: FutureWarning: The frame.append method is deprecated and will be removed from pandas in a future version. Use pandas.concat instead.\n",
      "  allStockDataInYFinance=allStockDataInYFinance.append(companyInfo)\n"
     ]
    },
    {
     "name": "stdout",
     "output_type": "stream",
     "text": [
      "[*********************100%***********************]  1 of 1 completed\n"
     ]
    },
    {
     "name": "stderr",
     "output_type": "stream",
     "text": [
      "C:\\Users\\87066\\AppData\\Local\\Temp\\ipykernel_14672\\4037774555.py:30: FutureWarning: The frame.append method is deprecated and will be removed from pandas in a future version. Use pandas.concat instead.\n",
      "  allStockDataInYFinance=allStockDataInYFinance.append(companyInfo)\n"
     ]
    },
    {
     "name": "stdout",
     "output_type": "stream",
     "text": [
      "[*********************100%***********************]  1 of 1 completed\n"
     ]
    },
    {
     "name": "stderr",
     "output_type": "stream",
     "text": [
      "C:\\Users\\87066\\AppData\\Local\\Temp\\ipykernel_14672\\4037774555.py:30: FutureWarning: The frame.append method is deprecated and will be removed from pandas in a future version. Use pandas.concat instead.\n",
      "  allStockDataInYFinance=allStockDataInYFinance.append(companyInfo)\n"
     ]
    },
    {
     "name": "stdout",
     "output_type": "stream",
     "text": [
      "[*********************100%***********************]  1 of 1 completed\n"
     ]
    },
    {
     "name": "stderr",
     "output_type": "stream",
     "text": [
      "C:\\Users\\87066\\AppData\\Local\\Temp\\ipykernel_14672\\4037774555.py:30: FutureWarning: The frame.append method is deprecated and will be removed from pandas in a future version. Use pandas.concat instead.\n",
      "  allStockDataInYFinance=allStockDataInYFinance.append(companyInfo)\n"
     ]
    },
    {
     "name": "stdout",
     "output_type": "stream",
     "text": [
      "[*********************100%***********************]  1 of 1 completed\n"
     ]
    },
    {
     "name": "stderr",
     "output_type": "stream",
     "text": [
      "C:\\Users\\87066\\AppData\\Local\\Temp\\ipykernel_14672\\4037774555.py:30: FutureWarning: The frame.append method is deprecated and will be removed from pandas in a future version. Use pandas.concat instead.\n",
      "  allStockDataInYFinance=allStockDataInYFinance.append(companyInfo)\n"
     ]
    },
    {
     "name": "stdout",
     "output_type": "stream",
     "text": [
      "[*********************100%***********************]  1 of 1 completed\n"
     ]
    },
    {
     "name": "stderr",
     "output_type": "stream",
     "text": [
      "C:\\Users\\87066\\AppData\\Local\\Temp\\ipykernel_14672\\4037774555.py:30: FutureWarning: The frame.append method is deprecated and will be removed from pandas in a future version. Use pandas.concat instead.\n",
      "  allStockDataInYFinance=allStockDataInYFinance.append(companyInfo)\n"
     ]
    },
    {
     "name": "stdout",
     "output_type": "stream",
     "text": [
      "[*********************100%***********************]  1 of 1 completed\n"
     ]
    },
    {
     "name": "stderr",
     "output_type": "stream",
     "text": [
      "C:\\Users\\87066\\AppData\\Local\\Temp\\ipykernel_14672\\4037774555.py:30: FutureWarning: The frame.append method is deprecated and will be removed from pandas in a future version. Use pandas.concat instead.\n",
      "  allStockDataInYFinance=allStockDataInYFinance.append(companyInfo)\n"
     ]
    },
    {
     "name": "stdout",
     "output_type": "stream",
     "text": [
      "[*********************100%***********************]  1 of 1 completed\n"
     ]
    },
    {
     "name": "stderr",
     "output_type": "stream",
     "text": [
      "C:\\Users\\87066\\AppData\\Local\\Temp\\ipykernel_14672\\4037774555.py:30: FutureWarning: The frame.append method is deprecated and will be removed from pandas in a future version. Use pandas.concat instead.\n",
      "  allStockDataInYFinance=allStockDataInYFinance.append(companyInfo)\n"
     ]
    },
    {
     "name": "stdout",
     "output_type": "stream",
     "text": [
      "[*********************100%***********************]  1 of 1 completed\n"
     ]
    },
    {
     "name": "stderr",
     "output_type": "stream",
     "text": [
      "C:\\Users\\87066\\AppData\\Local\\Temp\\ipykernel_14672\\4037774555.py:30: FutureWarning: The frame.append method is deprecated and will be removed from pandas in a future version. Use pandas.concat instead.\n",
      "  allStockDataInYFinance=allStockDataInYFinance.append(companyInfo)\n"
     ]
    },
    {
     "name": "stdout",
     "output_type": "stream",
     "text": [
      "[*********************100%***********************]  1 of 1 completed\n"
     ]
    },
    {
     "name": "stderr",
     "output_type": "stream",
     "text": [
      "C:\\Users\\87066\\AppData\\Local\\Temp\\ipykernel_14672\\4037774555.py:30: FutureWarning: The frame.append method is deprecated and will be removed from pandas in a future version. Use pandas.concat instead.\n",
      "  allStockDataInYFinance=allStockDataInYFinance.append(companyInfo)\n"
     ]
    },
    {
     "name": "stdout",
     "output_type": "stream",
     "text": [
      "[*********************100%***********************]  1 of 1 completed\n"
     ]
    },
    {
     "name": "stderr",
     "output_type": "stream",
     "text": [
      "C:\\Users\\87066\\AppData\\Local\\Temp\\ipykernel_14672\\4037774555.py:30: FutureWarning: The frame.append method is deprecated and will be removed from pandas in a future version. Use pandas.concat instead.\n",
      "  allStockDataInYFinance=allStockDataInYFinance.append(companyInfo)\n"
     ]
    },
    {
     "name": "stdout",
     "output_type": "stream",
     "text": [
      "[*********************100%***********************]  1 of 1 completed\n"
     ]
    },
    {
     "name": "stderr",
     "output_type": "stream",
     "text": [
      "C:\\Users\\87066\\AppData\\Local\\Temp\\ipykernel_14672\\4037774555.py:30: FutureWarning: The frame.append method is deprecated and will be removed from pandas in a future version. Use pandas.concat instead.\n",
      "  allStockDataInYFinance=allStockDataInYFinance.append(companyInfo)\n"
     ]
    },
    {
     "name": "stdout",
     "output_type": "stream",
     "text": [
      "[*********************100%***********************]  1 of 1 completed\n"
     ]
    },
    {
     "name": "stderr",
     "output_type": "stream",
     "text": [
      "C:\\Users\\87066\\AppData\\Local\\Temp\\ipykernel_14672\\4037774555.py:30: FutureWarning: The frame.append method is deprecated and will be removed from pandas in a future version. Use pandas.concat instead.\n",
      "  allStockDataInYFinance=allStockDataInYFinance.append(companyInfo)\n"
     ]
    },
    {
     "name": "stdout",
     "output_type": "stream",
     "text": [
      "[*********************100%***********************]  1 of 1 completed\n"
     ]
    },
    {
     "name": "stderr",
     "output_type": "stream",
     "text": [
      "C:\\Users\\87066\\AppData\\Local\\Temp\\ipykernel_14672\\4037774555.py:30: FutureWarning: The frame.append method is deprecated and will be removed from pandas in a future version. Use pandas.concat instead.\n",
      "  allStockDataInYFinance=allStockDataInYFinance.append(companyInfo)\n"
     ]
    },
    {
     "name": "stdout",
     "output_type": "stream",
     "text": [
      "[*********************100%***********************]  1 of 1 completed\n"
     ]
    },
    {
     "name": "stderr",
     "output_type": "stream",
     "text": [
      "C:\\Users\\87066\\AppData\\Local\\Temp\\ipykernel_14672\\4037774555.py:30: FutureWarning: The frame.append method is deprecated and will be removed from pandas in a future version. Use pandas.concat instead.\n",
      "  allStockDataInYFinance=allStockDataInYFinance.append(companyInfo)\n"
     ]
    },
    {
     "name": "stdout",
     "output_type": "stream",
     "text": [
      "[*********************100%***********************]  1 of 1 completed\n"
     ]
    },
    {
     "name": "stderr",
     "output_type": "stream",
     "text": [
      "C:\\Users\\87066\\AppData\\Local\\Temp\\ipykernel_14672\\4037774555.py:30: FutureWarning: The frame.append method is deprecated and will be removed from pandas in a future version. Use pandas.concat instead.\n",
      "  allStockDataInYFinance=allStockDataInYFinance.append(companyInfo)\n"
     ]
    },
    {
     "name": "stdout",
     "output_type": "stream",
     "text": [
      "[*********************100%***********************]  1 of 1 completed\n"
     ]
    },
    {
     "name": "stderr",
     "output_type": "stream",
     "text": [
      "C:\\Users\\87066\\AppData\\Local\\Temp\\ipykernel_14672\\4037774555.py:30: FutureWarning: The frame.append method is deprecated and will be removed from pandas in a future version. Use pandas.concat instead.\n",
      "  allStockDataInYFinance=allStockDataInYFinance.append(companyInfo)\n"
     ]
    },
    {
     "name": "stdout",
     "output_type": "stream",
     "text": [
      "[*********************100%***********************]  1 of 1 completed\n"
     ]
    },
    {
     "name": "stderr",
     "output_type": "stream",
     "text": [
      "C:\\Users\\87066\\AppData\\Local\\Temp\\ipykernel_14672\\4037774555.py:30: FutureWarning: The frame.append method is deprecated and will be removed from pandas in a future version. Use pandas.concat instead.\n",
      "  allStockDataInYFinance=allStockDataInYFinance.append(companyInfo)\n"
     ]
    },
    {
     "name": "stdout",
     "output_type": "stream",
     "text": [
      "[*********************100%***********************]  1 of 1 completed\n"
     ]
    },
    {
     "name": "stderr",
     "output_type": "stream",
     "text": [
      "C:\\Users\\87066\\AppData\\Local\\Temp\\ipykernel_14672\\4037774555.py:30: FutureWarning: The frame.append method is deprecated and will be removed from pandas in a future version. Use pandas.concat instead.\n",
      "  allStockDataInYFinance=allStockDataInYFinance.append(companyInfo)\n"
     ]
    },
    {
     "name": "stdout",
     "output_type": "stream",
     "text": [
      "[*********************100%***********************]  1 of 1 completed\n"
     ]
    },
    {
     "name": "stderr",
     "output_type": "stream",
     "text": [
      "C:\\Users\\87066\\AppData\\Local\\Temp\\ipykernel_14672\\4037774555.py:30: FutureWarning: The frame.append method is deprecated and will be removed from pandas in a future version. Use pandas.concat instead.\n",
      "  allStockDataInYFinance=allStockDataInYFinance.append(companyInfo)\n"
     ]
    },
    {
     "name": "stdout",
     "output_type": "stream",
     "text": [
      "[*********************100%***********************]  1 of 1 completed\n"
     ]
    },
    {
     "name": "stderr",
     "output_type": "stream",
     "text": [
      "C:\\Users\\87066\\AppData\\Local\\Temp\\ipykernel_14672\\4037774555.py:30: FutureWarning: The frame.append method is deprecated and will be removed from pandas in a future version. Use pandas.concat instead.\n",
      "  allStockDataInYFinance=allStockDataInYFinance.append(companyInfo)\n"
     ]
    },
    {
     "name": "stdout",
     "output_type": "stream",
     "text": [
      "[*********************100%***********************]  1 of 1 completed\n"
     ]
    },
    {
     "name": "stderr",
     "output_type": "stream",
     "text": [
      "C:\\Users\\87066\\AppData\\Local\\Temp\\ipykernel_14672\\4037774555.py:30: FutureWarning: The frame.append method is deprecated and will be removed from pandas in a future version. Use pandas.concat instead.\n",
      "  allStockDataInYFinance=allStockDataInYFinance.append(companyInfo)\n"
     ]
    },
    {
     "name": "stdout",
     "output_type": "stream",
     "text": [
      "[*********************100%***********************]  1 of 1 completed\n"
     ]
    },
    {
     "name": "stderr",
     "output_type": "stream",
     "text": [
      "C:\\Users\\87066\\AppData\\Local\\Temp\\ipykernel_14672\\4037774555.py:30: FutureWarning: The frame.append method is deprecated and will be removed from pandas in a future version. Use pandas.concat instead.\n",
      "  allStockDataInYFinance=allStockDataInYFinance.append(companyInfo)\n"
     ]
    },
    {
     "name": "stdout",
     "output_type": "stream",
     "text": [
      "[*********************100%***********************]  1 of 1 completed\n"
     ]
    },
    {
     "name": "stderr",
     "output_type": "stream",
     "text": [
      "C:\\Users\\87066\\AppData\\Local\\Temp\\ipykernel_14672\\4037774555.py:30: FutureWarning: The frame.append method is deprecated and will be removed from pandas in a future version. Use pandas.concat instead.\n",
      "  allStockDataInYFinance=allStockDataInYFinance.append(companyInfo)\n"
     ]
    },
    {
     "name": "stdout",
     "output_type": "stream",
     "text": [
      "[*********************100%***********************]  1 of 1 completed\n"
     ]
    },
    {
     "name": "stderr",
     "output_type": "stream",
     "text": [
      "C:\\Users\\87066\\AppData\\Local\\Temp\\ipykernel_14672\\4037774555.py:30: FutureWarning: The frame.append method is deprecated and will be removed from pandas in a future version. Use pandas.concat instead.\n",
      "  allStockDataInYFinance=allStockDataInYFinance.append(companyInfo)\n"
     ]
    },
    {
     "name": "stdout",
     "output_type": "stream",
     "text": [
      "[*********************100%***********************]  1 of 1 completed\n"
     ]
    },
    {
     "name": "stderr",
     "output_type": "stream",
     "text": [
      "C:\\Users\\87066\\AppData\\Local\\Temp\\ipykernel_14672\\4037774555.py:30: FutureWarning: The frame.append method is deprecated and will be removed from pandas in a future version. Use pandas.concat instead.\n",
      "  allStockDataInYFinance=allStockDataInYFinance.append(companyInfo)\n"
     ]
    },
    {
     "name": "stdout",
     "output_type": "stream",
     "text": [
      "[*********************100%***********************]  1 of 1 completed\n"
     ]
    },
    {
     "name": "stderr",
     "output_type": "stream",
     "text": [
      "C:\\Users\\87066\\AppData\\Local\\Temp\\ipykernel_14672\\4037774555.py:30: FutureWarning: The frame.append method is deprecated and will be removed from pandas in a future version. Use pandas.concat instead.\n",
      "  allStockDataInYFinance=allStockDataInYFinance.append(companyInfo)\n"
     ]
    },
    {
     "name": "stdout",
     "output_type": "stream",
     "text": [
      "[*********************100%***********************]  1 of 1 completed\n"
     ]
    },
    {
     "name": "stderr",
     "output_type": "stream",
     "text": [
      "C:\\Users\\87066\\AppData\\Local\\Temp\\ipykernel_14672\\4037774555.py:30: FutureWarning: The frame.append method is deprecated and will be removed from pandas in a future version. Use pandas.concat instead.\n",
      "  allStockDataInYFinance=allStockDataInYFinance.append(companyInfo)\n"
     ]
    },
    {
     "name": "stdout",
     "output_type": "stream",
     "text": [
      "[*********************100%***********************]  1 of 1 completed\n"
     ]
    },
    {
     "name": "stderr",
     "output_type": "stream",
     "text": [
      "C:\\Users\\87066\\AppData\\Local\\Temp\\ipykernel_14672\\4037774555.py:30: FutureWarning: The frame.append method is deprecated and will be removed from pandas in a future version. Use pandas.concat instead.\n",
      "  allStockDataInYFinance=allStockDataInYFinance.append(companyInfo)\n"
     ]
    },
    {
     "name": "stdout",
     "output_type": "stream",
     "text": [
      "[*********************100%***********************]  1 of 1 completed\n"
     ]
    },
    {
     "name": "stderr",
     "output_type": "stream",
     "text": [
      "C:\\Users\\87066\\AppData\\Local\\Temp\\ipykernel_14672\\4037774555.py:30: FutureWarning: The frame.append method is deprecated and will be removed from pandas in a future version. Use pandas.concat instead.\n",
      "  allStockDataInYFinance=allStockDataInYFinance.append(companyInfo)\n"
     ]
    },
    {
     "name": "stdout",
     "output_type": "stream",
     "text": [
      "[*********************100%***********************]  1 of 1 completed\n"
     ]
    },
    {
     "name": "stderr",
     "output_type": "stream",
     "text": [
      "C:\\Users\\87066\\AppData\\Local\\Temp\\ipykernel_14672\\4037774555.py:30: FutureWarning: The frame.append method is deprecated and will be removed from pandas in a future version. Use pandas.concat instead.\n",
      "  allStockDataInYFinance=allStockDataInYFinance.append(companyInfo)\n"
     ]
    },
    {
     "name": "stdout",
     "output_type": "stream",
     "text": [
      "[*********************100%***********************]  1 of 1 completed\n"
     ]
    },
    {
     "name": "stderr",
     "output_type": "stream",
     "text": [
      "C:\\Users\\87066\\AppData\\Local\\Temp\\ipykernel_14672\\4037774555.py:30: FutureWarning: The frame.append method is deprecated and will be removed from pandas in a future version. Use pandas.concat instead.\n",
      "  allStockDataInYFinance=allStockDataInYFinance.append(companyInfo)\n"
     ]
    },
    {
     "name": "stdout",
     "output_type": "stream",
     "text": [
      "[*********************100%***********************]  1 of 1 completed\n"
     ]
    },
    {
     "name": "stderr",
     "output_type": "stream",
     "text": [
      "C:\\Users\\87066\\AppData\\Local\\Temp\\ipykernel_14672\\4037774555.py:30: FutureWarning: The frame.append method is deprecated and will be removed from pandas in a future version. Use pandas.concat instead.\n",
      "  allStockDataInYFinance=allStockDataInYFinance.append(companyInfo)\n"
     ]
    },
    {
     "name": "stdout",
     "output_type": "stream",
     "text": [
      "[*********************100%***********************]  1 of 1 completed\n"
     ]
    },
    {
     "name": "stderr",
     "output_type": "stream",
     "text": [
      "C:\\Users\\87066\\AppData\\Local\\Temp\\ipykernel_14672\\4037774555.py:30: FutureWarning: The frame.append method is deprecated and will be removed from pandas in a future version. Use pandas.concat instead.\n",
      "  allStockDataInYFinance=allStockDataInYFinance.append(companyInfo)\n"
     ]
    },
    {
     "name": "stdout",
     "output_type": "stream",
     "text": [
      "[*********************100%***********************]  1 of 1 completed\n"
     ]
    },
    {
     "name": "stderr",
     "output_type": "stream",
     "text": [
      "C:\\Users\\87066\\AppData\\Local\\Temp\\ipykernel_14672\\4037774555.py:30: FutureWarning: The frame.append method is deprecated and will be removed from pandas in a future version. Use pandas.concat instead.\n",
      "  allStockDataInYFinance=allStockDataInYFinance.append(companyInfo)\n"
     ]
    },
    {
     "name": "stdout",
     "output_type": "stream",
     "text": [
      "[*********************100%***********************]  1 of 1 completed\n"
     ]
    },
    {
     "name": "stderr",
     "output_type": "stream",
     "text": [
      "C:\\Users\\87066\\AppData\\Local\\Temp\\ipykernel_14672\\4037774555.py:30: FutureWarning: The frame.append method is deprecated and will be removed from pandas in a future version. Use pandas.concat instead.\n",
      "  allStockDataInYFinance=allStockDataInYFinance.append(companyInfo)\n"
     ]
    },
    {
     "name": "stdout",
     "output_type": "stream",
     "text": [
      "[*********************100%***********************]  1 of 1 completed\n"
     ]
    },
    {
     "name": "stderr",
     "output_type": "stream",
     "text": [
      "C:\\Users\\87066\\AppData\\Local\\Temp\\ipykernel_14672\\4037774555.py:30: FutureWarning: The frame.append method is deprecated and will be removed from pandas in a future version. Use pandas.concat instead.\n",
      "  allStockDataInYFinance=allStockDataInYFinance.append(companyInfo)\n"
     ]
    },
    {
     "name": "stdout",
     "output_type": "stream",
     "text": [
      "[*********************100%***********************]  1 of 1 completed\n"
     ]
    },
    {
     "name": "stderr",
     "output_type": "stream",
     "text": [
      "C:\\Users\\87066\\AppData\\Local\\Temp\\ipykernel_14672\\4037774555.py:30: FutureWarning: The frame.append method is deprecated and will be removed from pandas in a future version. Use pandas.concat instead.\n",
      "  allStockDataInYFinance=allStockDataInYFinance.append(companyInfo)\n"
     ]
    },
    {
     "name": "stdout",
     "output_type": "stream",
     "text": [
      "[*********************100%***********************]  1 of 1 completed\n"
     ]
    },
    {
     "name": "stderr",
     "output_type": "stream",
     "text": [
      "C:\\Users\\87066\\AppData\\Local\\Temp\\ipykernel_14672\\4037774555.py:30: FutureWarning: The frame.append method is deprecated and will be removed from pandas in a future version. Use pandas.concat instead.\n",
      "  allStockDataInYFinance=allStockDataInYFinance.append(companyInfo)\n"
     ]
    },
    {
     "name": "stdout",
     "output_type": "stream",
     "text": [
      "[*********************100%***********************]  1 of 1 completed\n"
     ]
    },
    {
     "name": "stderr",
     "output_type": "stream",
     "text": [
      "C:\\Users\\87066\\AppData\\Local\\Temp\\ipykernel_14672\\4037774555.py:30: FutureWarning: The frame.append method is deprecated and will be removed from pandas in a future version. Use pandas.concat instead.\n",
      "  allStockDataInYFinance=allStockDataInYFinance.append(companyInfo)\n"
     ]
    },
    {
     "name": "stdout",
     "output_type": "stream",
     "text": [
      "[*********************100%***********************]  1 of 1 completed\n"
     ]
    },
    {
     "name": "stderr",
     "output_type": "stream",
     "text": [
      "C:\\Users\\87066\\AppData\\Local\\Temp\\ipykernel_14672\\4037774555.py:30: FutureWarning: The frame.append method is deprecated and will be removed from pandas in a future version. Use pandas.concat instead.\n",
      "  allStockDataInYFinance=allStockDataInYFinance.append(companyInfo)\n"
     ]
    },
    {
     "name": "stdout",
     "output_type": "stream",
     "text": [
      "[*********************100%***********************]  1 of 1 completed\n"
     ]
    },
    {
     "name": "stderr",
     "output_type": "stream",
     "text": [
      "C:\\Users\\87066\\AppData\\Local\\Temp\\ipykernel_14672\\4037774555.py:30: FutureWarning: The frame.append method is deprecated and will be removed from pandas in a future version. Use pandas.concat instead.\n",
      "  allStockDataInYFinance=allStockDataInYFinance.append(companyInfo)\n"
     ]
    },
    {
     "name": "stdout",
     "output_type": "stream",
     "text": [
      "[*********************100%***********************]  1 of 1 completed\n"
     ]
    },
    {
     "name": "stderr",
     "output_type": "stream",
     "text": [
      "C:\\Users\\87066\\AppData\\Local\\Temp\\ipykernel_14672\\4037774555.py:30: FutureWarning: The frame.append method is deprecated and will be removed from pandas in a future version. Use pandas.concat instead.\n",
      "  allStockDataInYFinance=allStockDataInYFinance.append(companyInfo)\n"
     ]
    },
    {
     "name": "stdout",
     "output_type": "stream",
     "text": [
      "[*********************100%***********************]  1 of 1 completed\n"
     ]
    },
    {
     "name": "stderr",
     "output_type": "stream",
     "text": [
      "C:\\Users\\87066\\AppData\\Local\\Temp\\ipykernel_14672\\4037774555.py:30: FutureWarning: The frame.append method is deprecated and will be removed from pandas in a future version. Use pandas.concat instead.\n",
      "  allStockDataInYFinance=allStockDataInYFinance.append(companyInfo)\n"
     ]
    },
    {
     "name": "stdout",
     "output_type": "stream",
     "text": [
      "[*********************100%***********************]  1 of 1 completed\n"
     ]
    },
    {
     "name": "stderr",
     "output_type": "stream",
     "text": [
      "C:\\Users\\87066\\AppData\\Local\\Temp\\ipykernel_14672\\4037774555.py:30: FutureWarning: The frame.append method is deprecated and will be removed from pandas in a future version. Use pandas.concat instead.\n",
      "  allStockDataInYFinance=allStockDataInYFinance.append(companyInfo)\n"
     ]
    },
    {
     "name": "stdout",
     "output_type": "stream",
     "text": [
      "[*********************100%***********************]  1 of 1 completed\n"
     ]
    },
    {
     "name": "stderr",
     "output_type": "stream",
     "text": [
      "C:\\Users\\87066\\AppData\\Local\\Temp\\ipykernel_14672\\4037774555.py:30: FutureWarning: The frame.append method is deprecated and will be removed from pandas in a future version. Use pandas.concat instead.\n",
      "  allStockDataInYFinance=allStockDataInYFinance.append(companyInfo)\n"
     ]
    },
    {
     "name": "stdout",
     "output_type": "stream",
     "text": [
      "[*********************100%***********************]  1 of 1 completed\n"
     ]
    },
    {
     "name": "stderr",
     "output_type": "stream",
     "text": [
      "C:\\Users\\87066\\AppData\\Local\\Temp\\ipykernel_14672\\4037774555.py:30: FutureWarning: The frame.append method is deprecated and will be removed from pandas in a future version. Use pandas.concat instead.\n",
      "  allStockDataInYFinance=allStockDataInYFinance.append(companyInfo)\n"
     ]
    },
    {
     "name": "stdout",
     "output_type": "stream",
     "text": [
      "[*********************100%***********************]  1 of 1 completed\n"
     ]
    },
    {
     "name": "stderr",
     "output_type": "stream",
     "text": [
      "C:\\Users\\87066\\AppData\\Local\\Temp\\ipykernel_14672\\4037774555.py:30: FutureWarning: The frame.append method is deprecated and will be removed from pandas in a future version. Use pandas.concat instead.\n",
      "  allStockDataInYFinance=allStockDataInYFinance.append(companyInfo)\n"
     ]
    },
    {
     "name": "stdout",
     "output_type": "stream",
     "text": [
      "[*********************100%***********************]  1 of 1 completed\n"
     ]
    },
    {
     "name": "stderr",
     "output_type": "stream",
     "text": [
      "C:\\Users\\87066\\AppData\\Local\\Temp\\ipykernel_14672\\4037774555.py:30: FutureWarning: The frame.append method is deprecated and will be removed from pandas in a future version. Use pandas.concat instead.\n",
      "  allStockDataInYFinance=allStockDataInYFinance.append(companyInfo)\n"
     ]
    },
    {
     "name": "stdout",
     "output_type": "stream",
     "text": [
      "[*********************100%***********************]  1 of 1 completed\n"
     ]
    },
    {
     "name": "stderr",
     "output_type": "stream",
     "text": [
      "C:\\Users\\87066\\AppData\\Local\\Temp\\ipykernel_14672\\4037774555.py:30: FutureWarning: The frame.append method is deprecated and will be removed from pandas in a future version. Use pandas.concat instead.\n",
      "  allStockDataInYFinance=allStockDataInYFinance.append(companyInfo)\n"
     ]
    },
    {
     "name": "stdout",
     "output_type": "stream",
     "text": [
      "[*********************100%***********************]  1 of 1 completed\n"
     ]
    },
    {
     "name": "stderr",
     "output_type": "stream",
     "text": [
      "C:\\Users\\87066\\AppData\\Local\\Temp\\ipykernel_14672\\4037774555.py:30: FutureWarning: The frame.append method is deprecated and will be removed from pandas in a future version. Use pandas.concat instead.\n",
      "  allStockDataInYFinance=allStockDataInYFinance.append(companyInfo)\n"
     ]
    },
    {
     "name": "stdout",
     "output_type": "stream",
     "text": [
      "[*********************100%***********************]  1 of 1 completed\n"
     ]
    },
    {
     "name": "stderr",
     "output_type": "stream",
     "text": [
      "C:\\Users\\87066\\AppData\\Local\\Temp\\ipykernel_14672\\4037774555.py:30: FutureWarning: The frame.append method is deprecated and will be removed from pandas in a future version. Use pandas.concat instead.\n",
      "  allStockDataInYFinance=allStockDataInYFinance.append(companyInfo)\n"
     ]
    },
    {
     "name": "stdout",
     "output_type": "stream",
     "text": [
      "[*********************100%***********************]  1 of 1 completed\n"
     ]
    },
    {
     "name": "stderr",
     "output_type": "stream",
     "text": [
      "C:\\Users\\87066\\AppData\\Local\\Temp\\ipykernel_14672\\4037774555.py:30: FutureWarning: The frame.append method is deprecated and will be removed from pandas in a future version. Use pandas.concat instead.\n",
      "  allStockDataInYFinance=allStockDataInYFinance.append(companyInfo)\n"
     ]
    },
    {
     "name": "stdout",
     "output_type": "stream",
     "text": [
      "[*********************100%***********************]  1 of 1 completed\n"
     ]
    },
    {
     "name": "stderr",
     "output_type": "stream",
     "text": [
      "C:\\Users\\87066\\AppData\\Local\\Temp\\ipykernel_14672\\4037774555.py:30: FutureWarning: The frame.append method is deprecated and will be removed from pandas in a future version. Use pandas.concat instead.\n",
      "  allStockDataInYFinance=allStockDataInYFinance.append(companyInfo)\n"
     ]
    },
    {
     "name": "stdout",
     "output_type": "stream",
     "text": [
      "[*********************100%***********************]  1 of 1 completed\n"
     ]
    },
    {
     "name": "stderr",
     "output_type": "stream",
     "text": [
      "C:\\Users\\87066\\AppData\\Local\\Temp\\ipykernel_14672\\4037774555.py:30: FutureWarning: The frame.append method is deprecated and will be removed from pandas in a future version. Use pandas.concat instead.\n",
      "  allStockDataInYFinance=allStockDataInYFinance.append(companyInfo)\n"
     ]
    },
    {
     "name": "stdout",
     "output_type": "stream",
     "text": [
      "[*********************100%***********************]  1 of 1 completed\n"
     ]
    },
    {
     "name": "stderr",
     "output_type": "stream",
     "text": [
      "C:\\Users\\87066\\AppData\\Local\\Temp\\ipykernel_14672\\4037774555.py:30: FutureWarning: The frame.append method is deprecated and will be removed from pandas in a future version. Use pandas.concat instead.\n",
      "  allStockDataInYFinance=allStockDataInYFinance.append(companyInfo)\n"
     ]
    },
    {
     "name": "stdout",
     "output_type": "stream",
     "text": [
      "[*********************100%***********************]  1 of 1 completed\n"
     ]
    },
    {
     "name": "stderr",
     "output_type": "stream",
     "text": [
      "C:\\Users\\87066\\AppData\\Local\\Temp\\ipykernel_14672\\4037774555.py:30: FutureWarning: The frame.append method is deprecated and will be removed from pandas in a future version. Use pandas.concat instead.\n",
      "  allStockDataInYFinance=allStockDataInYFinance.append(companyInfo)\n"
     ]
    },
    {
     "name": "stdout",
     "output_type": "stream",
     "text": [
      "[*********************100%***********************]  1 of 1 completed\n"
     ]
    },
    {
     "name": "stderr",
     "output_type": "stream",
     "text": [
      "C:\\Users\\87066\\AppData\\Local\\Temp\\ipykernel_14672\\4037774555.py:30: FutureWarning: The frame.append method is deprecated and will be removed from pandas in a future version. Use pandas.concat instead.\n",
      "  allStockDataInYFinance=allStockDataInYFinance.append(companyInfo)\n"
     ]
    },
    {
     "name": "stdout",
     "output_type": "stream",
     "text": [
      "[*********************100%***********************]  1 of 1 completed\n"
     ]
    },
    {
     "name": "stderr",
     "output_type": "stream",
     "text": [
      "C:\\Users\\87066\\AppData\\Local\\Temp\\ipykernel_14672\\4037774555.py:30: FutureWarning: The frame.append method is deprecated and will be removed from pandas in a future version. Use pandas.concat instead.\n",
      "  allStockDataInYFinance=allStockDataInYFinance.append(companyInfo)\n"
     ]
    },
    {
     "name": "stdout",
     "output_type": "stream",
     "text": [
      "[*********************100%***********************]  1 of 1 completed\n"
     ]
    },
    {
     "name": "stderr",
     "output_type": "stream",
     "text": [
      "C:\\Users\\87066\\AppData\\Local\\Temp\\ipykernel_14672\\4037774555.py:30: FutureWarning: The frame.append method is deprecated and will be removed from pandas in a future version. Use pandas.concat instead.\n",
      "  allStockDataInYFinance=allStockDataInYFinance.append(companyInfo)\n"
     ]
    },
    {
     "name": "stdout",
     "output_type": "stream",
     "text": [
      "[*********************100%***********************]  1 of 1 completed\n"
     ]
    },
    {
     "name": "stderr",
     "output_type": "stream",
     "text": [
      "C:\\Users\\87066\\AppData\\Local\\Temp\\ipykernel_14672\\4037774555.py:30: FutureWarning: The frame.append method is deprecated and will be removed from pandas in a future version. Use pandas.concat instead.\n",
      "  allStockDataInYFinance=allStockDataInYFinance.append(companyInfo)\n"
     ]
    },
    {
     "name": "stdout",
     "output_type": "stream",
     "text": [
      "[*********************100%***********************]  1 of 1 completed\n"
     ]
    },
    {
     "name": "stderr",
     "output_type": "stream",
     "text": [
      "C:\\Users\\87066\\AppData\\Local\\Temp\\ipykernel_14672\\4037774555.py:30: FutureWarning: The frame.append method is deprecated and will be removed from pandas in a future version. Use pandas.concat instead.\n",
      "  allStockDataInYFinance=allStockDataInYFinance.append(companyInfo)\n"
     ]
    },
    {
     "name": "stdout",
     "output_type": "stream",
     "text": [
      "[*********************100%***********************]  1 of 1 completed\n"
     ]
    },
    {
     "name": "stderr",
     "output_type": "stream",
     "text": [
      "C:\\Users\\87066\\AppData\\Local\\Temp\\ipykernel_14672\\4037774555.py:30: FutureWarning: The frame.append method is deprecated and will be removed from pandas in a future version. Use pandas.concat instead.\n",
      "  allStockDataInYFinance=allStockDataInYFinance.append(companyInfo)\n"
     ]
    },
    {
     "name": "stdout",
     "output_type": "stream",
     "text": [
      "[*********************100%***********************]  1 of 1 completed\n"
     ]
    },
    {
     "name": "stderr",
     "output_type": "stream",
     "text": [
      "C:\\Users\\87066\\AppData\\Local\\Temp\\ipykernel_14672\\4037774555.py:30: FutureWarning: The frame.append method is deprecated and will be removed from pandas in a future version. Use pandas.concat instead.\n",
      "  allStockDataInYFinance=allStockDataInYFinance.append(companyInfo)\n"
     ]
    },
    {
     "name": "stdout",
     "output_type": "stream",
     "text": [
      "[*********************100%***********************]  1 of 1 completed\n"
     ]
    },
    {
     "name": "stderr",
     "output_type": "stream",
     "text": [
      "C:\\Users\\87066\\AppData\\Local\\Temp\\ipykernel_14672\\4037774555.py:30: FutureWarning: The frame.append method is deprecated and will be removed from pandas in a future version. Use pandas.concat instead.\n",
      "  allStockDataInYFinance=allStockDataInYFinance.append(companyInfo)\n"
     ]
    },
    {
     "name": "stdout",
     "output_type": "stream",
     "text": [
      "[*********************100%***********************]  1 of 1 completed\n"
     ]
    },
    {
     "name": "stderr",
     "output_type": "stream",
     "text": [
      "C:\\Users\\87066\\AppData\\Local\\Temp\\ipykernel_14672\\4037774555.py:30: FutureWarning: The frame.append method is deprecated and will be removed from pandas in a future version. Use pandas.concat instead.\n",
      "  allStockDataInYFinance=allStockDataInYFinance.append(companyInfo)\n"
     ]
    },
    {
     "name": "stdout",
     "output_type": "stream",
     "text": [
      "[*********************100%***********************]  1 of 1 completed\n"
     ]
    },
    {
     "name": "stderr",
     "output_type": "stream",
     "text": [
      "C:\\Users\\87066\\AppData\\Local\\Temp\\ipykernel_14672\\4037774555.py:30: FutureWarning: The frame.append method is deprecated and will be removed from pandas in a future version. Use pandas.concat instead.\n",
      "  allStockDataInYFinance=allStockDataInYFinance.append(companyInfo)\n"
     ]
    },
    {
     "name": "stdout",
     "output_type": "stream",
     "text": [
      "[*********************100%***********************]  1 of 1 completed\n"
     ]
    },
    {
     "name": "stderr",
     "output_type": "stream",
     "text": [
      "C:\\Users\\87066\\AppData\\Local\\Temp\\ipykernel_14672\\4037774555.py:30: FutureWarning: The frame.append method is deprecated and will be removed from pandas in a future version. Use pandas.concat instead.\n",
      "  allStockDataInYFinance=allStockDataInYFinance.append(companyInfo)\n"
     ]
    },
    {
     "name": "stdout",
     "output_type": "stream",
     "text": [
      "[*********************100%***********************]  1 of 1 completed\n"
     ]
    },
    {
     "name": "stderr",
     "output_type": "stream",
     "text": [
      "C:\\Users\\87066\\AppData\\Local\\Temp\\ipykernel_14672\\4037774555.py:30: FutureWarning: The frame.append method is deprecated and will be removed from pandas in a future version. Use pandas.concat instead.\n",
      "  allStockDataInYFinance=allStockDataInYFinance.append(companyInfo)\n"
     ]
    },
    {
     "name": "stdout",
     "output_type": "stream",
     "text": [
      "[*********************100%***********************]  1 of 1 completed\n"
     ]
    },
    {
     "name": "stderr",
     "output_type": "stream",
     "text": [
      "C:\\Users\\87066\\AppData\\Local\\Temp\\ipykernel_14672\\4037774555.py:30: FutureWarning: The frame.append method is deprecated and will be removed from pandas in a future version. Use pandas.concat instead.\n",
      "  allStockDataInYFinance=allStockDataInYFinance.append(companyInfo)\n"
     ]
    },
    {
     "name": "stdout",
     "output_type": "stream",
     "text": [
      "[*********************100%***********************]  1 of 1 completed\n"
     ]
    },
    {
     "name": "stderr",
     "output_type": "stream",
     "text": [
      "C:\\Users\\87066\\AppData\\Local\\Temp\\ipykernel_14672\\4037774555.py:30: FutureWarning: The frame.append method is deprecated and will be removed from pandas in a future version. Use pandas.concat instead.\n",
      "  allStockDataInYFinance=allStockDataInYFinance.append(companyInfo)\n"
     ]
    },
    {
     "name": "stdout",
     "output_type": "stream",
     "text": [
      "[*********************100%***********************]  1 of 1 completed\n"
     ]
    },
    {
     "name": "stderr",
     "output_type": "stream",
     "text": [
      "C:\\Users\\87066\\AppData\\Local\\Temp\\ipykernel_14672\\4037774555.py:30: FutureWarning: The frame.append method is deprecated and will be removed from pandas in a future version. Use pandas.concat instead.\n",
      "  allStockDataInYFinance=allStockDataInYFinance.append(companyInfo)\n"
     ]
    },
    {
     "name": "stdout",
     "output_type": "stream",
     "text": [
      "[*********************100%***********************]  1 of 1 completed\n"
     ]
    },
    {
     "name": "stderr",
     "output_type": "stream",
     "text": [
      "C:\\Users\\87066\\AppData\\Local\\Temp\\ipykernel_14672\\4037774555.py:30: FutureWarning: The frame.append method is deprecated and will be removed from pandas in a future version. Use pandas.concat instead.\n",
      "  allStockDataInYFinance=allStockDataInYFinance.append(companyInfo)\n"
     ]
    },
    {
     "name": "stdout",
     "output_type": "stream",
     "text": [
      "[*********************100%***********************]  1 of 1 completed\n"
     ]
    },
    {
     "name": "stderr",
     "output_type": "stream",
     "text": [
      "C:\\Users\\87066\\AppData\\Local\\Temp\\ipykernel_14672\\4037774555.py:30: FutureWarning: The frame.append method is deprecated and will be removed from pandas in a future version. Use pandas.concat instead.\n",
      "  allStockDataInYFinance=allStockDataInYFinance.append(companyInfo)\n"
     ]
    },
    {
     "name": "stdout",
     "output_type": "stream",
     "text": [
      "[*********************100%***********************]  1 of 1 completed\n"
     ]
    },
    {
     "name": "stderr",
     "output_type": "stream",
     "text": [
      "C:\\Users\\87066\\AppData\\Local\\Temp\\ipykernel_14672\\4037774555.py:30: FutureWarning: The frame.append method is deprecated and will be removed from pandas in a future version. Use pandas.concat instead.\n",
      "  allStockDataInYFinance=allStockDataInYFinance.append(companyInfo)\n"
     ]
    },
    {
     "name": "stdout",
     "output_type": "stream",
     "text": [
      "[*********************100%***********************]  1 of 1 completed\n"
     ]
    },
    {
     "name": "stderr",
     "output_type": "stream",
     "text": [
      "C:\\Users\\87066\\AppData\\Local\\Temp\\ipykernel_14672\\4037774555.py:30: FutureWarning: The frame.append method is deprecated and will be removed from pandas in a future version. Use pandas.concat instead.\n",
      "  allStockDataInYFinance=allStockDataInYFinance.append(companyInfo)\n"
     ]
    },
    {
     "name": "stdout",
     "output_type": "stream",
     "text": [
      "[*********************100%***********************]  1 of 1 completed\n"
     ]
    },
    {
     "name": "stderr",
     "output_type": "stream",
     "text": [
      "C:\\Users\\87066\\AppData\\Local\\Temp\\ipykernel_14672\\4037774555.py:30: FutureWarning: The frame.append method is deprecated and will be removed from pandas in a future version. Use pandas.concat instead.\n",
      "  allStockDataInYFinance=allStockDataInYFinance.append(companyInfo)\n"
     ]
    },
    {
     "name": "stdout",
     "output_type": "stream",
     "text": [
      "[*********************100%***********************]  1 of 1 completed\n"
     ]
    },
    {
     "name": "stderr",
     "output_type": "stream",
     "text": [
      "C:\\Users\\87066\\AppData\\Local\\Temp\\ipykernel_14672\\4037774555.py:30: FutureWarning: The frame.append method is deprecated and will be removed from pandas in a future version. Use pandas.concat instead.\n",
      "  allStockDataInYFinance=allStockDataInYFinance.append(companyInfo)\n"
     ]
    },
    {
     "name": "stdout",
     "output_type": "stream",
     "text": [
      "[*********************100%***********************]  1 of 1 completed\n"
     ]
    },
    {
     "name": "stderr",
     "output_type": "stream",
     "text": [
      "C:\\Users\\87066\\AppData\\Local\\Temp\\ipykernel_14672\\4037774555.py:30: FutureWarning: The frame.append method is deprecated and will be removed from pandas in a future version. Use pandas.concat instead.\n",
      "  allStockDataInYFinance=allStockDataInYFinance.append(companyInfo)\n"
     ]
    },
    {
     "name": "stdout",
     "output_type": "stream",
     "text": [
      "[*********************100%***********************]  1 of 1 completed\n"
     ]
    },
    {
     "name": "stderr",
     "output_type": "stream",
     "text": [
      "C:\\Users\\87066\\AppData\\Local\\Temp\\ipykernel_14672\\4037774555.py:30: FutureWarning: The frame.append method is deprecated and will be removed from pandas in a future version. Use pandas.concat instead.\n",
      "  allStockDataInYFinance=allStockDataInYFinance.append(companyInfo)\n"
     ]
    },
    {
     "name": "stdout",
     "output_type": "stream",
     "text": [
      "[*********************100%***********************]  1 of 1 completed\n"
     ]
    },
    {
     "name": "stderr",
     "output_type": "stream",
     "text": [
      "C:\\Users\\87066\\AppData\\Local\\Temp\\ipykernel_14672\\4037774555.py:30: FutureWarning: The frame.append method is deprecated and will be removed from pandas in a future version. Use pandas.concat instead.\n",
      "  allStockDataInYFinance=allStockDataInYFinance.append(companyInfo)\n"
     ]
    },
    {
     "name": "stdout",
     "output_type": "stream",
     "text": [
      "[*********************100%***********************]  1 of 1 completed\n"
     ]
    },
    {
     "name": "stderr",
     "output_type": "stream",
     "text": [
      "C:\\Users\\87066\\AppData\\Local\\Temp\\ipykernel_14672\\4037774555.py:30: FutureWarning: The frame.append method is deprecated and will be removed from pandas in a future version. Use pandas.concat instead.\n",
      "  allStockDataInYFinance=allStockDataInYFinance.append(companyInfo)\n"
     ]
    },
    {
     "name": "stdout",
     "output_type": "stream",
     "text": [
      "[*********************100%***********************]  1 of 1 completed\n"
     ]
    },
    {
     "name": "stderr",
     "output_type": "stream",
     "text": [
      "C:\\Users\\87066\\AppData\\Local\\Temp\\ipykernel_14672\\4037774555.py:30: FutureWarning: The frame.append method is deprecated and will be removed from pandas in a future version. Use pandas.concat instead.\n",
      "  allStockDataInYFinance=allStockDataInYFinance.append(companyInfo)\n"
     ]
    },
    {
     "name": "stdout",
     "output_type": "stream",
     "text": [
      "[*********************100%***********************]  1 of 1 completed\n"
     ]
    },
    {
     "name": "stderr",
     "output_type": "stream",
     "text": [
      "C:\\Users\\87066\\AppData\\Local\\Temp\\ipykernel_14672\\4037774555.py:30: FutureWarning: The frame.append method is deprecated and will be removed from pandas in a future version. Use pandas.concat instead.\n",
      "  allStockDataInYFinance=allStockDataInYFinance.append(companyInfo)\n"
     ]
    },
    {
     "name": "stdout",
     "output_type": "stream",
     "text": [
      "[*********************100%***********************]  1 of 1 completed\n"
     ]
    },
    {
     "name": "stderr",
     "output_type": "stream",
     "text": [
      "C:\\Users\\87066\\AppData\\Local\\Temp\\ipykernel_14672\\4037774555.py:30: FutureWarning: The frame.append method is deprecated and will be removed from pandas in a future version. Use pandas.concat instead.\n",
      "  allStockDataInYFinance=allStockDataInYFinance.append(companyInfo)\n"
     ]
    },
    {
     "name": "stdout",
     "output_type": "stream",
     "text": [
      "[*********************100%***********************]  1 of 1 completed\n"
     ]
    },
    {
     "name": "stderr",
     "output_type": "stream",
     "text": [
      "C:\\Users\\87066\\AppData\\Local\\Temp\\ipykernel_14672\\4037774555.py:30: FutureWarning: The frame.append method is deprecated and will be removed from pandas in a future version. Use pandas.concat instead.\n",
      "  allStockDataInYFinance=allStockDataInYFinance.append(companyInfo)\n"
     ]
    },
    {
     "name": "stdout",
     "output_type": "stream",
     "text": [
      "[*********************100%***********************]  1 of 1 completed\n"
     ]
    },
    {
     "name": "stderr",
     "output_type": "stream",
     "text": [
      "C:\\Users\\87066\\AppData\\Local\\Temp\\ipykernel_14672\\4037774555.py:30: FutureWarning: The frame.append method is deprecated and will be removed from pandas in a future version. Use pandas.concat instead.\n",
      "  allStockDataInYFinance=allStockDataInYFinance.append(companyInfo)\n"
     ]
    },
    {
     "name": "stdout",
     "output_type": "stream",
     "text": [
      "[*********************100%***********************]  1 of 1 completed\n"
     ]
    },
    {
     "name": "stderr",
     "output_type": "stream",
     "text": [
      "C:\\Users\\87066\\AppData\\Local\\Temp\\ipykernel_14672\\4037774555.py:30: FutureWarning: The frame.append method is deprecated and will be removed from pandas in a future version. Use pandas.concat instead.\n",
      "  allStockDataInYFinance=allStockDataInYFinance.append(companyInfo)\n"
     ]
    },
    {
     "name": "stdout",
     "output_type": "stream",
     "text": [
      "[*********************100%***********************]  1 of 1 completed\n"
     ]
    },
    {
     "name": "stderr",
     "output_type": "stream",
     "text": [
      "C:\\Users\\87066\\AppData\\Local\\Temp\\ipykernel_14672\\4037774555.py:30: FutureWarning: The frame.append method is deprecated and will be removed from pandas in a future version. Use pandas.concat instead.\n",
      "  allStockDataInYFinance=allStockDataInYFinance.append(companyInfo)\n"
     ]
    },
    {
     "name": "stdout",
     "output_type": "stream",
     "text": [
      "[*********************100%***********************]  1 of 1 completed\n"
     ]
    },
    {
     "name": "stderr",
     "output_type": "stream",
     "text": [
      "C:\\Users\\87066\\AppData\\Local\\Temp\\ipykernel_14672\\4037774555.py:30: FutureWarning: The frame.append method is deprecated and will be removed from pandas in a future version. Use pandas.concat instead.\n",
      "  allStockDataInYFinance=allStockDataInYFinance.append(companyInfo)\n"
     ]
    },
    {
     "name": "stdout",
     "output_type": "stream",
     "text": [
      "[*********************100%***********************]  1 of 1 completed\n"
     ]
    },
    {
     "name": "stderr",
     "output_type": "stream",
     "text": [
      "C:\\Users\\87066\\AppData\\Local\\Temp\\ipykernel_14672\\4037774555.py:30: FutureWarning: The frame.append method is deprecated and will be removed from pandas in a future version. Use pandas.concat instead.\n",
      "  allStockDataInYFinance=allStockDataInYFinance.append(companyInfo)\n"
     ]
    },
    {
     "name": "stdout",
     "output_type": "stream",
     "text": [
      "[*********************100%***********************]  1 of 1 completed\n"
     ]
    },
    {
     "name": "stderr",
     "output_type": "stream",
     "text": [
      "C:\\Users\\87066\\AppData\\Local\\Temp\\ipykernel_14672\\4037774555.py:30: FutureWarning: The frame.append method is deprecated and will be removed from pandas in a future version. Use pandas.concat instead.\n",
      "  allStockDataInYFinance=allStockDataInYFinance.append(companyInfo)\n"
     ]
    },
    {
     "name": "stdout",
     "output_type": "stream",
     "text": [
      "[*********************100%***********************]  1 of 1 completed\n"
     ]
    },
    {
     "name": "stderr",
     "output_type": "stream",
     "text": [
      "C:\\Users\\87066\\AppData\\Local\\Temp\\ipykernel_14672\\4037774555.py:30: FutureWarning: The frame.append method is deprecated and will be removed from pandas in a future version. Use pandas.concat instead.\n",
      "  allStockDataInYFinance=allStockDataInYFinance.append(companyInfo)\n"
     ]
    },
    {
     "name": "stdout",
     "output_type": "stream",
     "text": [
      "[*********************100%***********************]  1 of 1 completed\n"
     ]
    },
    {
     "name": "stderr",
     "output_type": "stream",
     "text": [
      "C:\\Users\\87066\\AppData\\Local\\Temp\\ipykernel_14672\\4037774555.py:30: FutureWarning: The frame.append method is deprecated and will be removed from pandas in a future version. Use pandas.concat instead.\n",
      "  allStockDataInYFinance=allStockDataInYFinance.append(companyInfo)\n"
     ]
    },
    {
     "name": "stdout",
     "output_type": "stream",
     "text": [
      "[*********************100%***********************]  1 of 1 completed\n"
     ]
    },
    {
     "name": "stderr",
     "output_type": "stream",
     "text": [
      "C:\\Users\\87066\\AppData\\Local\\Temp\\ipykernel_14672\\4037774555.py:30: FutureWarning: The frame.append method is deprecated and will be removed from pandas in a future version. Use pandas.concat instead.\n",
      "  allStockDataInYFinance=allStockDataInYFinance.append(companyInfo)\n"
     ]
    },
    {
     "name": "stdout",
     "output_type": "stream",
     "text": [
      "[*********************100%***********************]  1 of 1 completed\n"
     ]
    },
    {
     "name": "stderr",
     "output_type": "stream",
     "text": [
      "C:\\Users\\87066\\AppData\\Local\\Temp\\ipykernel_14672\\4037774555.py:30: FutureWarning: The frame.append method is deprecated and will be removed from pandas in a future version. Use pandas.concat instead.\n",
      "  allStockDataInYFinance=allStockDataInYFinance.append(companyInfo)\n"
     ]
    },
    {
     "name": "stdout",
     "output_type": "stream",
     "text": [
      "[*********************100%***********************]  1 of 1 completed\n"
     ]
    },
    {
     "name": "stderr",
     "output_type": "stream",
     "text": [
      "C:\\Users\\87066\\AppData\\Local\\Temp\\ipykernel_14672\\4037774555.py:30: FutureWarning: The frame.append method is deprecated and will be removed from pandas in a future version. Use pandas.concat instead.\n",
      "  allStockDataInYFinance=allStockDataInYFinance.append(companyInfo)\n"
     ]
    },
    {
     "name": "stdout",
     "output_type": "stream",
     "text": [
      "[*********************100%***********************]  1 of 1 completed\n"
     ]
    },
    {
     "name": "stderr",
     "output_type": "stream",
     "text": [
      "C:\\Users\\87066\\AppData\\Local\\Temp\\ipykernel_14672\\4037774555.py:30: FutureWarning: The frame.append method is deprecated and will be removed from pandas in a future version. Use pandas.concat instead.\n",
      "  allStockDataInYFinance=allStockDataInYFinance.append(companyInfo)\n"
     ]
    },
    {
     "name": "stdout",
     "output_type": "stream",
     "text": [
      "[*********************100%***********************]  1 of 1 completed\n"
     ]
    },
    {
     "name": "stderr",
     "output_type": "stream",
     "text": [
      "C:\\Users\\87066\\AppData\\Local\\Temp\\ipykernel_14672\\4037774555.py:30: FutureWarning: The frame.append method is deprecated and will be removed from pandas in a future version. Use pandas.concat instead.\n",
      "  allStockDataInYFinance=allStockDataInYFinance.append(companyInfo)\n"
     ]
    },
    {
     "name": "stdout",
     "output_type": "stream",
     "text": [
      "[*********************100%***********************]  1 of 1 completed\n"
     ]
    },
    {
     "name": "stderr",
     "output_type": "stream",
     "text": [
      "C:\\Users\\87066\\AppData\\Local\\Temp\\ipykernel_14672\\4037774555.py:30: FutureWarning: The frame.append method is deprecated and will be removed from pandas in a future version. Use pandas.concat instead.\n",
      "  allStockDataInYFinance=allStockDataInYFinance.append(companyInfo)\n"
     ]
    },
    {
     "name": "stdout",
     "output_type": "stream",
     "text": [
      "[*********************100%***********************]  1 of 1 completed\n"
     ]
    },
    {
     "name": "stderr",
     "output_type": "stream",
     "text": [
      "C:\\Users\\87066\\AppData\\Local\\Temp\\ipykernel_14672\\4037774555.py:30: FutureWarning: The frame.append method is deprecated and will be removed from pandas in a future version. Use pandas.concat instead.\n",
      "  allStockDataInYFinance=allStockDataInYFinance.append(companyInfo)\n"
     ]
    },
    {
     "name": "stdout",
     "output_type": "stream",
     "text": [
      "[*********************100%***********************]  1 of 1 completed\n"
     ]
    },
    {
     "name": "stderr",
     "output_type": "stream",
     "text": [
      "C:\\Users\\87066\\AppData\\Local\\Temp\\ipykernel_14672\\4037774555.py:30: FutureWarning: The frame.append method is deprecated and will be removed from pandas in a future version. Use pandas.concat instead.\n",
      "  allStockDataInYFinance=allStockDataInYFinance.append(companyInfo)\n"
     ]
    },
    {
     "name": "stdout",
     "output_type": "stream",
     "text": [
      "[*********************100%***********************]  1 of 1 completed\n"
     ]
    },
    {
     "name": "stderr",
     "output_type": "stream",
     "text": [
      "C:\\Users\\87066\\AppData\\Local\\Temp\\ipykernel_14672\\4037774555.py:30: FutureWarning: The frame.append method is deprecated and will be removed from pandas in a future version. Use pandas.concat instead.\n",
      "  allStockDataInYFinance=allStockDataInYFinance.append(companyInfo)\n"
     ]
    },
    {
     "name": "stdout",
     "output_type": "stream",
     "text": [
      "[*********************100%***********************]  1 of 1 completed\n"
     ]
    },
    {
     "name": "stderr",
     "output_type": "stream",
     "text": [
      "C:\\Users\\87066\\AppData\\Local\\Temp\\ipykernel_14672\\4037774555.py:30: FutureWarning: The frame.append method is deprecated and will be removed from pandas in a future version. Use pandas.concat instead.\n",
      "  allStockDataInYFinance=allStockDataInYFinance.append(companyInfo)\n"
     ]
    },
    {
     "name": "stdout",
     "output_type": "stream",
     "text": [
      "[*********************100%***********************]  1 of 1 completed\n"
     ]
    },
    {
     "name": "stderr",
     "output_type": "stream",
     "text": [
      "C:\\Users\\87066\\AppData\\Local\\Temp\\ipykernel_14672\\4037774555.py:30: FutureWarning: The frame.append method is deprecated and will be removed from pandas in a future version. Use pandas.concat instead.\n",
      "  allStockDataInYFinance=allStockDataInYFinance.append(companyInfo)\n"
     ]
    },
    {
     "name": "stdout",
     "output_type": "stream",
     "text": [
      "[*********************100%***********************]  1 of 1 completed\n"
     ]
    },
    {
     "name": "stderr",
     "output_type": "stream",
     "text": [
      "C:\\Users\\87066\\AppData\\Local\\Temp\\ipykernel_14672\\4037774555.py:30: FutureWarning: The frame.append method is deprecated and will be removed from pandas in a future version. Use pandas.concat instead.\n",
      "  allStockDataInYFinance=allStockDataInYFinance.append(companyInfo)\n"
     ]
    },
    {
     "name": "stdout",
     "output_type": "stream",
     "text": [
      "[*********************100%***********************]  1 of 1 completed\n"
     ]
    },
    {
     "name": "stderr",
     "output_type": "stream",
     "text": [
      "C:\\Users\\87066\\AppData\\Local\\Temp\\ipykernel_14672\\4037774555.py:30: FutureWarning: The frame.append method is deprecated and will be removed from pandas in a future version. Use pandas.concat instead.\n",
      "  allStockDataInYFinance=allStockDataInYFinance.append(companyInfo)\n"
     ]
    },
    {
     "name": "stdout",
     "output_type": "stream",
     "text": [
      "[*********************100%***********************]  1 of 1 completed\n"
     ]
    },
    {
     "name": "stderr",
     "output_type": "stream",
     "text": [
      "C:\\Users\\87066\\AppData\\Local\\Temp\\ipykernel_14672\\4037774555.py:30: FutureWarning: The frame.append method is deprecated and will be removed from pandas in a future version. Use pandas.concat instead.\n",
      "  allStockDataInYFinance=allStockDataInYFinance.append(companyInfo)\n"
     ]
    },
    {
     "name": "stdout",
     "output_type": "stream",
     "text": [
      "[*********************100%***********************]  1 of 1 completed\n"
     ]
    },
    {
     "name": "stderr",
     "output_type": "stream",
     "text": [
      "C:\\Users\\87066\\AppData\\Local\\Temp\\ipykernel_14672\\4037774555.py:30: FutureWarning: The frame.append method is deprecated and will be removed from pandas in a future version. Use pandas.concat instead.\n",
      "  allStockDataInYFinance=allStockDataInYFinance.append(companyInfo)\n"
     ]
    },
    {
     "name": "stdout",
     "output_type": "stream",
     "text": [
      "[*********************100%***********************]  1 of 1 completed\n"
     ]
    },
    {
     "name": "stderr",
     "output_type": "stream",
     "text": [
      "C:\\Users\\87066\\AppData\\Local\\Temp\\ipykernel_14672\\4037774555.py:30: FutureWarning: The frame.append method is deprecated and will be removed from pandas in a future version. Use pandas.concat instead.\n",
      "  allStockDataInYFinance=allStockDataInYFinance.append(companyInfo)\n"
     ]
    },
    {
     "name": "stdout",
     "output_type": "stream",
     "text": [
      "[*********************100%***********************]  1 of 1 completed\n"
     ]
    },
    {
     "name": "stderr",
     "output_type": "stream",
     "text": [
      "C:\\Users\\87066\\AppData\\Local\\Temp\\ipykernel_14672\\4037774555.py:30: FutureWarning: The frame.append method is deprecated and will be removed from pandas in a future version. Use pandas.concat instead.\n",
      "  allStockDataInYFinance=allStockDataInYFinance.append(companyInfo)\n"
     ]
    },
    {
     "name": "stdout",
     "output_type": "stream",
     "text": [
      "[*********************100%***********************]  1 of 1 completed\n"
     ]
    },
    {
     "name": "stderr",
     "output_type": "stream",
     "text": [
      "C:\\Users\\87066\\AppData\\Local\\Temp\\ipykernel_14672\\4037774555.py:30: FutureWarning: The frame.append method is deprecated and will be removed from pandas in a future version. Use pandas.concat instead.\n",
      "  allStockDataInYFinance=allStockDataInYFinance.append(companyInfo)\n"
     ]
    },
    {
     "name": "stdout",
     "output_type": "stream",
     "text": [
      "[*********************100%***********************]  1 of 1 completed\n"
     ]
    },
    {
     "name": "stderr",
     "output_type": "stream",
     "text": [
      "C:\\Users\\87066\\AppData\\Local\\Temp\\ipykernel_14672\\4037774555.py:30: FutureWarning: The frame.append method is deprecated and will be removed from pandas in a future version. Use pandas.concat instead.\n",
      "  allStockDataInYFinance=allStockDataInYFinance.append(companyInfo)\n"
     ]
    },
    {
     "name": "stdout",
     "output_type": "stream",
     "text": [
      "[*********************100%***********************]  1 of 1 completed\n"
     ]
    },
    {
     "name": "stderr",
     "output_type": "stream",
     "text": [
      "C:\\Users\\87066\\AppData\\Local\\Temp\\ipykernel_14672\\4037774555.py:30: FutureWarning: The frame.append method is deprecated and will be removed from pandas in a future version. Use pandas.concat instead.\n",
      "  allStockDataInYFinance=allStockDataInYFinance.append(companyInfo)\n"
     ]
    },
    {
     "name": "stdout",
     "output_type": "stream",
     "text": [
      "[*********************100%***********************]  1 of 1 completed\n"
     ]
    },
    {
     "name": "stderr",
     "output_type": "stream",
     "text": [
      "C:\\Users\\87066\\AppData\\Local\\Temp\\ipykernel_14672\\4037774555.py:30: FutureWarning: The frame.append method is deprecated and will be removed from pandas in a future version. Use pandas.concat instead.\n",
      "  allStockDataInYFinance=allStockDataInYFinance.append(companyInfo)\n"
     ]
    },
    {
     "name": "stdout",
     "output_type": "stream",
     "text": [
      "[*********************100%***********************]  1 of 1 completed\n"
     ]
    },
    {
     "name": "stderr",
     "output_type": "stream",
     "text": [
      "C:\\Users\\87066\\AppData\\Local\\Temp\\ipykernel_14672\\4037774555.py:30: FutureWarning: The frame.append method is deprecated and will be removed from pandas in a future version. Use pandas.concat instead.\n",
      "  allStockDataInYFinance=allStockDataInYFinance.append(companyInfo)\n"
     ]
    },
    {
     "name": "stdout",
     "output_type": "stream",
     "text": [
      "[*********************100%***********************]  1 of 1 completed\n"
     ]
    },
    {
     "name": "stderr",
     "output_type": "stream",
     "text": [
      "C:\\Users\\87066\\AppData\\Local\\Temp\\ipykernel_14672\\4037774555.py:30: FutureWarning: The frame.append method is deprecated and will be removed from pandas in a future version. Use pandas.concat instead.\n",
      "  allStockDataInYFinance=allStockDataInYFinance.append(companyInfo)\n"
     ]
    },
    {
     "name": "stdout",
     "output_type": "stream",
     "text": [
      "[*********************100%***********************]  1 of 1 completed\n"
     ]
    },
    {
     "name": "stderr",
     "output_type": "stream",
     "text": [
      "C:\\Users\\87066\\AppData\\Local\\Temp\\ipykernel_14672\\4037774555.py:30: FutureWarning: The frame.append method is deprecated and will be removed from pandas in a future version. Use pandas.concat instead.\n",
      "  allStockDataInYFinance=allStockDataInYFinance.append(companyInfo)\n"
     ]
    },
    {
     "name": "stdout",
     "output_type": "stream",
     "text": [
      "[*********************100%***********************]  1 of 1 completed\n"
     ]
    },
    {
     "name": "stderr",
     "output_type": "stream",
     "text": [
      "C:\\Users\\87066\\AppData\\Local\\Temp\\ipykernel_14672\\4037774555.py:30: FutureWarning: The frame.append method is deprecated and will be removed from pandas in a future version. Use pandas.concat instead.\n",
      "  allStockDataInYFinance=allStockDataInYFinance.append(companyInfo)\n"
     ]
    },
    {
     "name": "stdout",
     "output_type": "stream",
     "text": [
      "[*********************100%***********************]  1 of 1 completed\n"
     ]
    },
    {
     "name": "stderr",
     "output_type": "stream",
     "text": [
      "C:\\Users\\87066\\AppData\\Local\\Temp\\ipykernel_14672\\4037774555.py:30: FutureWarning: The frame.append method is deprecated and will be removed from pandas in a future version. Use pandas.concat instead.\n",
      "  allStockDataInYFinance=allStockDataInYFinance.append(companyInfo)\n"
     ]
    },
    {
     "name": "stdout",
     "output_type": "stream",
     "text": [
      "[*********************100%***********************]  1 of 1 completed\n"
     ]
    },
    {
     "name": "stderr",
     "output_type": "stream",
     "text": [
      "C:\\Users\\87066\\AppData\\Local\\Temp\\ipykernel_14672\\4037774555.py:30: FutureWarning: The frame.append method is deprecated and will be removed from pandas in a future version. Use pandas.concat instead.\n",
      "  allStockDataInYFinance=allStockDataInYFinance.append(companyInfo)\n"
     ]
    },
    {
     "name": "stdout",
     "output_type": "stream",
     "text": [
      "[*********************100%***********************]  1 of 1 completed\n"
     ]
    },
    {
     "name": "stderr",
     "output_type": "stream",
     "text": [
      "C:\\Users\\87066\\AppData\\Local\\Temp\\ipykernel_14672\\4037774555.py:30: FutureWarning: The frame.append method is deprecated and will be removed from pandas in a future version. Use pandas.concat instead.\n",
      "  allStockDataInYFinance=allStockDataInYFinance.append(companyInfo)\n"
     ]
    },
    {
     "name": "stdout",
     "output_type": "stream",
     "text": [
      "[*********************100%***********************]  1 of 1 completed\n"
     ]
    },
    {
     "name": "stderr",
     "output_type": "stream",
     "text": [
      "C:\\Users\\87066\\AppData\\Local\\Temp\\ipykernel_14672\\4037774555.py:30: FutureWarning: The frame.append method is deprecated and will be removed from pandas in a future version. Use pandas.concat instead.\n",
      "  allStockDataInYFinance=allStockDataInYFinance.append(companyInfo)\n"
     ]
    },
    {
     "name": "stdout",
     "output_type": "stream",
     "text": [
      "[*********************100%***********************]  1 of 1 completed\n"
     ]
    },
    {
     "name": "stderr",
     "output_type": "stream",
     "text": [
      "C:\\Users\\87066\\AppData\\Local\\Temp\\ipykernel_14672\\4037774555.py:30: FutureWarning: The frame.append method is deprecated and will be removed from pandas in a future version. Use pandas.concat instead.\n",
      "  allStockDataInYFinance=allStockDataInYFinance.append(companyInfo)\n"
     ]
    },
    {
     "name": "stdout",
     "output_type": "stream",
     "text": [
      "[*********************100%***********************]  1 of 1 completed\n"
     ]
    },
    {
     "name": "stderr",
     "output_type": "stream",
     "text": [
      "C:\\Users\\87066\\AppData\\Local\\Temp\\ipykernel_14672\\4037774555.py:30: FutureWarning: The frame.append method is deprecated and will be removed from pandas in a future version. Use pandas.concat instead.\n",
      "  allStockDataInYFinance=allStockDataInYFinance.append(companyInfo)\n"
     ]
    },
    {
     "name": "stdout",
     "output_type": "stream",
     "text": [
      "[*********************100%***********************]  1 of 1 completed\n"
     ]
    },
    {
     "name": "stderr",
     "output_type": "stream",
     "text": [
      "C:\\Users\\87066\\AppData\\Local\\Temp\\ipykernel_14672\\4037774555.py:30: FutureWarning: The frame.append method is deprecated and will be removed from pandas in a future version. Use pandas.concat instead.\n",
      "  allStockDataInYFinance=allStockDataInYFinance.append(companyInfo)\n"
     ]
    },
    {
     "name": "stdout",
     "output_type": "stream",
     "text": [
      "[*********************100%***********************]  1 of 1 completed\n"
     ]
    },
    {
     "name": "stderr",
     "output_type": "stream",
     "text": [
      "C:\\Users\\87066\\AppData\\Local\\Temp\\ipykernel_14672\\4037774555.py:30: FutureWarning: The frame.append method is deprecated and will be removed from pandas in a future version. Use pandas.concat instead.\n",
      "  allStockDataInYFinance=allStockDataInYFinance.append(companyInfo)\n"
     ]
    },
    {
     "name": "stdout",
     "output_type": "stream",
     "text": [
      "[*********************100%***********************]  1 of 1 completed\n"
     ]
    },
    {
     "name": "stderr",
     "output_type": "stream",
     "text": [
      "C:\\Users\\87066\\AppData\\Local\\Temp\\ipykernel_14672\\4037774555.py:30: FutureWarning: The frame.append method is deprecated and will be removed from pandas in a future version. Use pandas.concat instead.\n",
      "  allStockDataInYFinance=allStockDataInYFinance.append(companyInfo)\n"
     ]
    },
    {
     "name": "stdout",
     "output_type": "stream",
     "text": [
      "[*********************100%***********************]  1 of 1 completed\n"
     ]
    },
    {
     "name": "stderr",
     "output_type": "stream",
     "text": [
      "C:\\Users\\87066\\AppData\\Local\\Temp\\ipykernel_14672\\4037774555.py:30: FutureWarning: The frame.append method is deprecated and will be removed from pandas in a future version. Use pandas.concat instead.\n",
      "  allStockDataInYFinance=allStockDataInYFinance.append(companyInfo)\n"
     ]
    },
    {
     "name": "stdout",
     "output_type": "stream",
     "text": [
      "[*********************100%***********************]  1 of 1 completed\n"
     ]
    },
    {
     "name": "stderr",
     "output_type": "stream",
     "text": [
      "C:\\Users\\87066\\AppData\\Local\\Temp\\ipykernel_14672\\4037774555.py:30: FutureWarning: The frame.append method is deprecated and will be removed from pandas in a future version. Use pandas.concat instead.\n",
      "  allStockDataInYFinance=allStockDataInYFinance.append(companyInfo)\n"
     ]
    },
    {
     "name": "stdout",
     "output_type": "stream",
     "text": [
      "[*********************100%***********************]  1 of 1 completed\n"
     ]
    },
    {
     "name": "stderr",
     "output_type": "stream",
     "text": [
      "C:\\Users\\87066\\AppData\\Local\\Temp\\ipykernel_14672\\4037774555.py:30: FutureWarning: The frame.append method is deprecated and will be removed from pandas in a future version. Use pandas.concat instead.\n",
      "  allStockDataInYFinance=allStockDataInYFinance.append(companyInfo)\n"
     ]
    },
    {
     "name": "stdout",
     "output_type": "stream",
     "text": [
      "[*********************100%***********************]  1 of 1 completed\n"
     ]
    },
    {
     "name": "stderr",
     "output_type": "stream",
     "text": [
      "C:\\Users\\87066\\AppData\\Local\\Temp\\ipykernel_14672\\4037774555.py:30: FutureWarning: The frame.append method is deprecated and will be removed from pandas in a future version. Use pandas.concat instead.\n",
      "  allStockDataInYFinance=allStockDataInYFinance.append(companyInfo)\n"
     ]
    },
    {
     "name": "stdout",
     "output_type": "stream",
     "text": [
      "[*********************100%***********************]  1 of 1 completed\n"
     ]
    },
    {
     "name": "stderr",
     "output_type": "stream",
     "text": [
      "C:\\Users\\87066\\AppData\\Local\\Temp\\ipykernel_14672\\4037774555.py:30: FutureWarning: The frame.append method is deprecated and will be removed from pandas in a future version. Use pandas.concat instead.\n",
      "  allStockDataInYFinance=allStockDataInYFinance.append(companyInfo)\n"
     ]
    },
    {
     "name": "stdout",
     "output_type": "stream",
     "text": [
      "[*********************100%***********************]  1 of 1 completed\n"
     ]
    },
    {
     "name": "stderr",
     "output_type": "stream",
     "text": [
      "C:\\Users\\87066\\AppData\\Local\\Temp\\ipykernel_14672\\4037774555.py:30: FutureWarning: The frame.append method is deprecated and will be removed from pandas in a future version. Use pandas.concat instead.\n",
      "  allStockDataInYFinance=allStockDataInYFinance.append(companyInfo)\n"
     ]
    },
    {
     "name": "stdout",
     "output_type": "stream",
     "text": [
      "[*********************100%***********************]  1 of 1 completed\n"
     ]
    },
    {
     "name": "stderr",
     "output_type": "stream",
     "text": [
      "C:\\Users\\87066\\AppData\\Local\\Temp\\ipykernel_14672\\4037774555.py:30: FutureWarning: The frame.append method is deprecated and will be removed from pandas in a future version. Use pandas.concat instead.\n",
      "  allStockDataInYFinance=allStockDataInYFinance.append(companyInfo)\n"
     ]
    },
    {
     "name": "stdout",
     "output_type": "stream",
     "text": [
      "[*********************100%***********************]  1 of 1 completed\n"
     ]
    },
    {
     "name": "stderr",
     "output_type": "stream",
     "text": [
      "C:\\Users\\87066\\AppData\\Local\\Temp\\ipykernel_14672\\4037774555.py:30: FutureWarning: The frame.append method is deprecated and will be removed from pandas in a future version. Use pandas.concat instead.\n",
      "  allStockDataInYFinance=allStockDataInYFinance.append(companyInfo)\n"
     ]
    },
    {
     "name": "stdout",
     "output_type": "stream",
     "text": [
      "[*********************100%***********************]  1 of 1 completed\n"
     ]
    },
    {
     "name": "stderr",
     "output_type": "stream",
     "text": [
      "C:\\Users\\87066\\AppData\\Local\\Temp\\ipykernel_14672\\4037774555.py:30: FutureWarning: The frame.append method is deprecated and will be removed from pandas in a future version. Use pandas.concat instead.\n",
      "  allStockDataInYFinance=allStockDataInYFinance.append(companyInfo)\n"
     ]
    },
    {
     "name": "stdout",
     "output_type": "stream",
     "text": [
      "[*********************100%***********************]  1 of 1 completed\n"
     ]
    },
    {
     "name": "stderr",
     "output_type": "stream",
     "text": [
      "C:\\Users\\87066\\AppData\\Local\\Temp\\ipykernel_14672\\4037774555.py:30: FutureWarning: The frame.append method is deprecated and will be removed from pandas in a future version. Use pandas.concat instead.\n",
      "  allStockDataInYFinance=allStockDataInYFinance.append(companyInfo)\n"
     ]
    },
    {
     "name": "stdout",
     "output_type": "stream",
     "text": [
      "[*********************100%***********************]  1 of 1 completed\n"
     ]
    },
    {
     "name": "stderr",
     "output_type": "stream",
     "text": [
      "C:\\Users\\87066\\AppData\\Local\\Temp\\ipykernel_14672\\4037774555.py:30: FutureWarning: The frame.append method is deprecated and will be removed from pandas in a future version. Use pandas.concat instead.\n",
      "  allStockDataInYFinance=allStockDataInYFinance.append(companyInfo)\n"
     ]
    },
    {
     "name": "stdout",
     "output_type": "stream",
     "text": [
      "[*********************100%***********************]  1 of 1 completed\n"
     ]
    },
    {
     "name": "stderr",
     "output_type": "stream",
     "text": [
      "C:\\Users\\87066\\AppData\\Local\\Temp\\ipykernel_14672\\4037774555.py:30: FutureWarning: The frame.append method is deprecated and will be removed from pandas in a future version. Use pandas.concat instead.\n",
      "  allStockDataInYFinance=allStockDataInYFinance.append(companyInfo)\n"
     ]
    },
    {
     "name": "stdout",
     "output_type": "stream",
     "text": [
      "[*********************100%***********************]  1 of 1 completed\n"
     ]
    },
    {
     "name": "stderr",
     "output_type": "stream",
     "text": [
      "C:\\Users\\87066\\AppData\\Local\\Temp\\ipykernel_14672\\4037774555.py:30: FutureWarning: The frame.append method is deprecated and will be removed from pandas in a future version. Use pandas.concat instead.\n",
      "  allStockDataInYFinance=allStockDataInYFinance.append(companyInfo)\n"
     ]
    },
    {
     "name": "stdout",
     "output_type": "stream",
     "text": [
      "[*********************100%***********************]  1 of 1 completed\n"
     ]
    },
    {
     "name": "stderr",
     "output_type": "stream",
     "text": [
      "C:\\Users\\87066\\AppData\\Local\\Temp\\ipykernel_14672\\4037774555.py:30: FutureWarning: The frame.append method is deprecated and will be removed from pandas in a future version. Use pandas.concat instead.\n",
      "  allStockDataInYFinance=allStockDataInYFinance.append(companyInfo)\n"
     ]
    },
    {
     "name": "stdout",
     "output_type": "stream",
     "text": [
      "[*********************100%***********************]  1 of 1 completed\n"
     ]
    },
    {
     "name": "stderr",
     "output_type": "stream",
     "text": [
      "C:\\Users\\87066\\AppData\\Local\\Temp\\ipykernel_14672\\4037774555.py:30: FutureWarning: The frame.append method is deprecated and will be removed from pandas in a future version. Use pandas.concat instead.\n",
      "  allStockDataInYFinance=allStockDataInYFinance.append(companyInfo)\n"
     ]
    },
    {
     "name": "stdout",
     "output_type": "stream",
     "text": [
      "[*********************100%***********************]  1 of 1 completed\n"
     ]
    },
    {
     "name": "stderr",
     "output_type": "stream",
     "text": [
      "C:\\Users\\87066\\AppData\\Local\\Temp\\ipykernel_14672\\4037774555.py:30: FutureWarning: The frame.append method is deprecated and will be removed from pandas in a future version. Use pandas.concat instead.\n",
      "  allStockDataInYFinance=allStockDataInYFinance.append(companyInfo)\n"
     ]
    },
    {
     "name": "stdout",
     "output_type": "stream",
     "text": [
      "[*********************100%***********************]  1 of 1 completed\n"
     ]
    },
    {
     "name": "stderr",
     "output_type": "stream",
     "text": [
      "C:\\Users\\87066\\AppData\\Local\\Temp\\ipykernel_14672\\4037774555.py:30: FutureWarning: The frame.append method is deprecated and will be removed from pandas in a future version. Use pandas.concat instead.\n",
      "  allStockDataInYFinance=allStockDataInYFinance.append(companyInfo)\n"
     ]
    },
    {
     "name": "stdout",
     "output_type": "stream",
     "text": [
      "[*********************100%***********************]  1 of 1 completed\n"
     ]
    },
    {
     "name": "stderr",
     "output_type": "stream",
     "text": [
      "C:\\Users\\87066\\AppData\\Local\\Temp\\ipykernel_14672\\4037774555.py:30: FutureWarning: The frame.append method is deprecated and will be removed from pandas in a future version. Use pandas.concat instead.\n",
      "  allStockDataInYFinance=allStockDataInYFinance.append(companyInfo)\n"
     ]
    },
    {
     "name": "stdout",
     "output_type": "stream",
     "text": [
      "[*********************100%***********************]  1 of 1 completed\n"
     ]
    },
    {
     "name": "stderr",
     "output_type": "stream",
     "text": [
      "C:\\Users\\87066\\AppData\\Local\\Temp\\ipykernel_14672\\4037774555.py:30: FutureWarning: The frame.append method is deprecated and will be removed from pandas in a future version. Use pandas.concat instead.\n",
      "  allStockDataInYFinance=allStockDataInYFinance.append(companyInfo)\n"
     ]
    },
    {
     "name": "stdout",
     "output_type": "stream",
     "text": [
      "[*********************100%***********************]  1 of 1 completed\n"
     ]
    },
    {
     "name": "stderr",
     "output_type": "stream",
     "text": [
      "C:\\Users\\87066\\AppData\\Local\\Temp\\ipykernel_14672\\4037774555.py:30: FutureWarning: The frame.append method is deprecated and will be removed from pandas in a future version. Use pandas.concat instead.\n",
      "  allStockDataInYFinance=allStockDataInYFinance.append(companyInfo)\n"
     ]
    },
    {
     "name": "stdout",
     "output_type": "stream",
     "text": [
      "[*********************100%***********************]  1 of 1 completed\n"
     ]
    },
    {
     "name": "stderr",
     "output_type": "stream",
     "text": [
      "C:\\Users\\87066\\AppData\\Local\\Temp\\ipykernel_14672\\4037774555.py:30: FutureWarning: The frame.append method is deprecated and will be removed from pandas in a future version. Use pandas.concat instead.\n",
      "  allStockDataInYFinance=allStockDataInYFinance.append(companyInfo)\n"
     ]
    },
    {
     "name": "stdout",
     "output_type": "stream",
     "text": [
      "[*********************100%***********************]  1 of 1 completed\n"
     ]
    },
    {
     "name": "stderr",
     "output_type": "stream",
     "text": [
      "C:\\Users\\87066\\AppData\\Local\\Temp\\ipykernel_14672\\4037774555.py:30: FutureWarning: The frame.append method is deprecated and will be removed from pandas in a future version. Use pandas.concat instead.\n",
      "  allStockDataInYFinance=allStockDataInYFinance.append(companyInfo)\n"
     ]
    },
    {
     "name": "stdout",
     "output_type": "stream",
     "text": [
      "[*********************100%***********************]  1 of 1 completed\n"
     ]
    },
    {
     "name": "stderr",
     "output_type": "stream",
     "text": [
      "C:\\Users\\87066\\AppData\\Local\\Temp\\ipykernel_14672\\4037774555.py:30: FutureWarning: The frame.append method is deprecated and will be removed from pandas in a future version. Use pandas.concat instead.\n",
      "  allStockDataInYFinance=allStockDataInYFinance.append(companyInfo)\n"
     ]
    },
    {
     "name": "stdout",
     "output_type": "stream",
     "text": [
      "[*********************100%***********************]  1 of 1 completed\n"
     ]
    },
    {
     "name": "stderr",
     "output_type": "stream",
     "text": [
      "C:\\Users\\87066\\AppData\\Local\\Temp\\ipykernel_14672\\4037774555.py:30: FutureWarning: The frame.append method is deprecated and will be removed from pandas in a future version. Use pandas.concat instead.\n",
      "  allStockDataInYFinance=allStockDataInYFinance.append(companyInfo)\n"
     ]
    },
    {
     "name": "stdout",
     "output_type": "stream",
     "text": [
      "[*********************100%***********************]  1 of 1 completed\n"
     ]
    },
    {
     "name": "stderr",
     "output_type": "stream",
     "text": [
      "C:\\Users\\87066\\AppData\\Local\\Temp\\ipykernel_14672\\4037774555.py:30: FutureWarning: The frame.append method is deprecated and will be removed from pandas in a future version. Use pandas.concat instead.\n",
      "  allStockDataInYFinance=allStockDataInYFinance.append(companyInfo)\n"
     ]
    },
    {
     "name": "stdout",
     "output_type": "stream",
     "text": [
      "[*********************100%***********************]  1 of 1 completed\n"
     ]
    },
    {
     "name": "stderr",
     "output_type": "stream",
     "text": [
      "C:\\Users\\87066\\AppData\\Local\\Temp\\ipykernel_14672\\4037774555.py:30: FutureWarning: The frame.append method is deprecated and will be removed from pandas in a future version. Use pandas.concat instead.\n",
      "  allStockDataInYFinance=allStockDataInYFinance.append(companyInfo)\n"
     ]
    },
    {
     "name": "stdout",
     "output_type": "stream",
     "text": [
      "[*********************100%***********************]  1 of 1 completed\n"
     ]
    },
    {
     "name": "stderr",
     "output_type": "stream",
     "text": [
      "C:\\Users\\87066\\AppData\\Local\\Temp\\ipykernel_14672\\4037774555.py:30: FutureWarning: The frame.append method is deprecated and will be removed from pandas in a future version. Use pandas.concat instead.\n",
      "  allStockDataInYFinance=allStockDataInYFinance.append(companyInfo)\n"
     ]
    },
    {
     "name": "stdout",
     "output_type": "stream",
     "text": [
      "[*********************100%***********************]  1 of 1 completed\n"
     ]
    },
    {
     "name": "stderr",
     "output_type": "stream",
     "text": [
      "C:\\Users\\87066\\AppData\\Local\\Temp\\ipykernel_14672\\4037774555.py:30: FutureWarning: The frame.append method is deprecated and will be removed from pandas in a future version. Use pandas.concat instead.\n",
      "  allStockDataInYFinance=allStockDataInYFinance.append(companyInfo)\n"
     ]
    },
    {
     "name": "stdout",
     "output_type": "stream",
     "text": [
      "[*********************100%***********************]  1 of 1 completed\n"
     ]
    },
    {
     "name": "stderr",
     "output_type": "stream",
     "text": [
      "C:\\Users\\87066\\AppData\\Local\\Temp\\ipykernel_14672\\4037774555.py:30: FutureWarning: The frame.append method is deprecated and will be removed from pandas in a future version. Use pandas.concat instead.\n",
      "  allStockDataInYFinance=allStockDataInYFinance.append(companyInfo)\n"
     ]
    },
    {
     "name": "stdout",
     "output_type": "stream",
     "text": [
      "[*********************100%***********************]  1 of 1 completed\n"
     ]
    },
    {
     "name": "stderr",
     "output_type": "stream",
     "text": [
      "C:\\Users\\87066\\AppData\\Local\\Temp\\ipykernel_14672\\4037774555.py:30: FutureWarning: The frame.append method is deprecated and will be removed from pandas in a future version. Use pandas.concat instead.\n",
      "  allStockDataInYFinance=allStockDataInYFinance.append(companyInfo)\n"
     ]
    },
    {
     "name": "stdout",
     "output_type": "stream",
     "text": [
      "[*********************100%***********************]  1 of 1 completed\n"
     ]
    },
    {
     "name": "stderr",
     "output_type": "stream",
     "text": [
      "C:\\Users\\87066\\AppData\\Local\\Temp\\ipykernel_14672\\4037774555.py:30: FutureWarning: The frame.append method is deprecated and will be removed from pandas in a future version. Use pandas.concat instead.\n",
      "  allStockDataInYFinance=allStockDataInYFinance.append(companyInfo)\n"
     ]
    },
    {
     "name": "stdout",
     "output_type": "stream",
     "text": [
      "[*********************100%***********************]  1 of 1 completed\n"
     ]
    },
    {
     "name": "stderr",
     "output_type": "stream",
     "text": [
      "C:\\Users\\87066\\AppData\\Local\\Temp\\ipykernel_14672\\4037774555.py:30: FutureWarning: The frame.append method is deprecated and will be removed from pandas in a future version. Use pandas.concat instead.\n",
      "  allStockDataInYFinance=allStockDataInYFinance.append(companyInfo)\n"
     ]
    },
    {
     "name": "stdout",
     "output_type": "stream",
     "text": [
      "[*********************100%***********************]  1 of 1 completed\n"
     ]
    },
    {
     "name": "stderr",
     "output_type": "stream",
     "text": [
      "C:\\Users\\87066\\AppData\\Local\\Temp\\ipykernel_14672\\4037774555.py:30: FutureWarning: The frame.append method is deprecated and will be removed from pandas in a future version. Use pandas.concat instead.\n",
      "  allStockDataInYFinance=allStockDataInYFinance.append(companyInfo)\n"
     ]
    },
    {
     "name": "stdout",
     "output_type": "stream",
     "text": [
      "[*********************100%***********************]  1 of 1 completed\n"
     ]
    },
    {
     "name": "stderr",
     "output_type": "stream",
     "text": [
      "C:\\Users\\87066\\AppData\\Local\\Temp\\ipykernel_14672\\4037774555.py:30: FutureWarning: The frame.append method is deprecated and will be removed from pandas in a future version. Use pandas.concat instead.\n",
      "  allStockDataInYFinance=allStockDataInYFinance.append(companyInfo)\n"
     ]
    },
    {
     "name": "stdout",
     "output_type": "stream",
     "text": [
      "[*********************100%***********************]  1 of 1 completed\n"
     ]
    },
    {
     "name": "stderr",
     "output_type": "stream",
     "text": [
      "C:\\Users\\87066\\AppData\\Local\\Temp\\ipykernel_14672\\4037774555.py:30: FutureWarning: The frame.append method is deprecated and will be removed from pandas in a future version. Use pandas.concat instead.\n",
      "  allStockDataInYFinance=allStockDataInYFinance.append(companyInfo)\n"
     ]
    },
    {
     "name": "stdout",
     "output_type": "stream",
     "text": [
      "[*********************100%***********************]  1 of 1 completed\n"
     ]
    },
    {
     "name": "stderr",
     "output_type": "stream",
     "text": [
      "C:\\Users\\87066\\AppData\\Local\\Temp\\ipykernel_14672\\4037774555.py:30: FutureWarning: The frame.append method is deprecated and will be removed from pandas in a future version. Use pandas.concat instead.\n",
      "  allStockDataInYFinance=allStockDataInYFinance.append(companyInfo)\n"
     ]
    },
    {
     "name": "stdout",
     "output_type": "stream",
     "text": [
      "[*********************100%***********************]  1 of 1 completed\n"
     ]
    },
    {
     "name": "stderr",
     "output_type": "stream",
     "text": [
      "C:\\Users\\87066\\AppData\\Local\\Temp\\ipykernel_14672\\4037774555.py:30: FutureWarning: The frame.append method is deprecated and will be removed from pandas in a future version. Use pandas.concat instead.\n",
      "  allStockDataInYFinance=allStockDataInYFinance.append(companyInfo)\n"
     ]
    },
    {
     "name": "stdout",
     "output_type": "stream",
     "text": [
      "[*********************100%***********************]  1 of 1 completed\n"
     ]
    },
    {
     "name": "stderr",
     "output_type": "stream",
     "text": [
      "C:\\Users\\87066\\AppData\\Local\\Temp\\ipykernel_14672\\4037774555.py:30: FutureWarning: The frame.append method is deprecated and will be removed from pandas in a future version. Use pandas.concat instead.\n",
      "  allStockDataInYFinance=allStockDataInYFinance.append(companyInfo)\n"
     ]
    },
    {
     "name": "stdout",
     "output_type": "stream",
     "text": [
      "[*********************100%***********************]  1 of 1 completed\n"
     ]
    },
    {
     "name": "stderr",
     "output_type": "stream",
     "text": [
      "C:\\Users\\87066\\AppData\\Local\\Temp\\ipykernel_14672\\4037774555.py:30: FutureWarning: The frame.append method is deprecated and will be removed from pandas in a future version. Use pandas.concat instead.\n",
      "  allStockDataInYFinance=allStockDataInYFinance.append(companyInfo)\n"
     ]
    },
    {
     "name": "stdout",
     "output_type": "stream",
     "text": [
      "[*********************100%***********************]  1 of 1 completed\n"
     ]
    },
    {
     "name": "stderr",
     "output_type": "stream",
     "text": [
      "C:\\Users\\87066\\AppData\\Local\\Temp\\ipykernel_14672\\4037774555.py:30: FutureWarning: The frame.append method is deprecated and will be removed from pandas in a future version. Use pandas.concat instead.\n",
      "  allStockDataInYFinance=allStockDataInYFinance.append(companyInfo)\n"
     ]
    },
    {
     "name": "stdout",
     "output_type": "stream",
     "text": [
      "[*********************100%***********************]  1 of 1 completed\n"
     ]
    },
    {
     "name": "stderr",
     "output_type": "stream",
     "text": [
      "C:\\Users\\87066\\AppData\\Local\\Temp\\ipykernel_14672\\4037774555.py:30: FutureWarning: The frame.append method is deprecated and will be removed from pandas in a future version. Use pandas.concat instead.\n",
      "  allStockDataInYFinance=allStockDataInYFinance.append(companyInfo)\n"
     ]
    },
    {
     "name": "stdout",
     "output_type": "stream",
     "text": [
      "[*********************100%***********************]  1 of 1 completed\n"
     ]
    },
    {
     "name": "stderr",
     "output_type": "stream",
     "text": [
      "C:\\Users\\87066\\AppData\\Local\\Temp\\ipykernel_14672\\4037774555.py:30: FutureWarning: The frame.append method is deprecated and will be removed from pandas in a future version. Use pandas.concat instead.\n",
      "  allStockDataInYFinance=allStockDataInYFinance.append(companyInfo)\n"
     ]
    },
    {
     "name": "stdout",
     "output_type": "stream",
     "text": [
      "[*********************100%***********************]  1 of 1 completed\n"
     ]
    },
    {
     "name": "stderr",
     "output_type": "stream",
     "text": [
      "C:\\Users\\87066\\AppData\\Local\\Temp\\ipykernel_14672\\4037774555.py:30: FutureWarning: The frame.append method is deprecated and will be removed from pandas in a future version. Use pandas.concat instead.\n",
      "  allStockDataInYFinance=allStockDataInYFinance.append(companyInfo)\n"
     ]
    },
    {
     "name": "stdout",
     "output_type": "stream",
     "text": [
      "[*********************100%***********************]  1 of 1 completed\n"
     ]
    },
    {
     "name": "stderr",
     "output_type": "stream",
     "text": [
      "C:\\Users\\87066\\AppData\\Local\\Temp\\ipykernel_14672\\4037774555.py:30: FutureWarning: The frame.append method is deprecated and will be removed from pandas in a future version. Use pandas.concat instead.\n",
      "  allStockDataInYFinance=allStockDataInYFinance.append(companyInfo)\n"
     ]
    },
    {
     "name": "stdout",
     "output_type": "stream",
     "text": [
      "[*********************100%***********************]  1 of 1 completed\n"
     ]
    },
    {
     "name": "stderr",
     "output_type": "stream",
     "text": [
      "C:\\Users\\87066\\AppData\\Local\\Temp\\ipykernel_14672\\4037774555.py:30: FutureWarning: The frame.append method is deprecated and will be removed from pandas in a future version. Use pandas.concat instead.\n",
      "  allStockDataInYFinance=allStockDataInYFinance.append(companyInfo)\n"
     ]
    },
    {
     "name": "stdout",
     "output_type": "stream",
     "text": [
      "[*********************100%***********************]  1 of 1 completed\n"
     ]
    },
    {
     "name": "stderr",
     "output_type": "stream",
     "text": [
      "C:\\Users\\87066\\AppData\\Local\\Temp\\ipykernel_14672\\4037774555.py:30: FutureWarning: The frame.append method is deprecated and will be removed from pandas in a future version. Use pandas.concat instead.\n",
      "  allStockDataInYFinance=allStockDataInYFinance.append(companyInfo)\n"
     ]
    },
    {
     "name": "stdout",
     "output_type": "stream",
     "text": [
      "[*********************100%***********************]  1 of 1 completed\n"
     ]
    },
    {
     "name": "stderr",
     "output_type": "stream",
     "text": [
      "C:\\Users\\87066\\AppData\\Local\\Temp\\ipykernel_14672\\4037774555.py:30: FutureWarning: The frame.append method is deprecated and will be removed from pandas in a future version. Use pandas.concat instead.\n",
      "  allStockDataInYFinance=allStockDataInYFinance.append(companyInfo)\n"
     ]
    },
    {
     "name": "stdout",
     "output_type": "stream",
     "text": [
      "[*********************100%***********************]  1 of 1 completed\n"
     ]
    },
    {
     "name": "stderr",
     "output_type": "stream",
     "text": [
      "C:\\Users\\87066\\AppData\\Local\\Temp\\ipykernel_14672\\4037774555.py:30: FutureWarning: The frame.append method is deprecated and will be removed from pandas in a future version. Use pandas.concat instead.\n",
      "  allStockDataInYFinance=allStockDataInYFinance.append(companyInfo)\n"
     ]
    },
    {
     "name": "stdout",
     "output_type": "stream",
     "text": [
      "[*********************100%***********************]  1 of 1 completed\n"
     ]
    },
    {
     "name": "stderr",
     "output_type": "stream",
     "text": [
      "C:\\Users\\87066\\AppData\\Local\\Temp\\ipykernel_14672\\4037774555.py:30: FutureWarning: The frame.append method is deprecated and will be removed from pandas in a future version. Use pandas.concat instead.\n",
      "  allStockDataInYFinance=allStockDataInYFinance.append(companyInfo)\n"
     ]
    },
    {
     "name": "stdout",
     "output_type": "stream",
     "text": [
      "[*********************100%***********************]  1 of 1 completed\n"
     ]
    },
    {
     "name": "stderr",
     "output_type": "stream",
     "text": [
      "C:\\Users\\87066\\AppData\\Local\\Temp\\ipykernel_14672\\4037774555.py:30: FutureWarning: The frame.append method is deprecated and will be removed from pandas in a future version. Use pandas.concat instead.\n",
      "  allStockDataInYFinance=allStockDataInYFinance.append(companyInfo)\n"
     ]
    },
    {
     "name": "stdout",
     "output_type": "stream",
     "text": [
      "[*********************100%***********************]  1 of 1 completed\n"
     ]
    },
    {
     "name": "stderr",
     "output_type": "stream",
     "text": [
      "C:\\Users\\87066\\AppData\\Local\\Temp\\ipykernel_14672\\4037774555.py:30: FutureWarning: The frame.append method is deprecated and will be removed from pandas in a future version. Use pandas.concat instead.\n",
      "  allStockDataInYFinance=allStockDataInYFinance.append(companyInfo)\n"
     ]
    },
    {
     "name": "stdout",
     "output_type": "stream",
     "text": [
      "[*********************100%***********************]  1 of 1 completed\n"
     ]
    },
    {
     "name": "stderr",
     "output_type": "stream",
     "text": [
      "C:\\Users\\87066\\AppData\\Local\\Temp\\ipykernel_14672\\4037774555.py:30: FutureWarning: The frame.append method is deprecated and will be removed from pandas in a future version. Use pandas.concat instead.\n",
      "  allStockDataInYFinance=allStockDataInYFinance.append(companyInfo)\n"
     ]
    },
    {
     "name": "stdout",
     "output_type": "stream",
     "text": [
      "[*********************100%***********************]  1 of 1 completed\n"
     ]
    },
    {
     "name": "stderr",
     "output_type": "stream",
     "text": [
      "C:\\Users\\87066\\AppData\\Local\\Temp\\ipykernel_14672\\4037774555.py:30: FutureWarning: The frame.append method is deprecated and will be removed from pandas in a future version. Use pandas.concat instead.\n",
      "  allStockDataInYFinance=allStockDataInYFinance.append(companyInfo)\n"
     ]
    },
    {
     "name": "stdout",
     "output_type": "stream",
     "text": [
      "[*********************100%***********************]  1 of 1 completed\n"
     ]
    },
    {
     "name": "stderr",
     "output_type": "stream",
     "text": [
      "C:\\Users\\87066\\AppData\\Local\\Temp\\ipykernel_14672\\4037774555.py:30: FutureWarning: The frame.append method is deprecated and will be removed from pandas in a future version. Use pandas.concat instead.\n",
      "  allStockDataInYFinance=allStockDataInYFinance.append(companyInfo)\n"
     ]
    },
    {
     "name": "stdout",
     "output_type": "stream",
     "text": [
      "[*********************100%***********************]  1 of 1 completed\n"
     ]
    },
    {
     "name": "stderr",
     "output_type": "stream",
     "text": [
      "C:\\Users\\87066\\AppData\\Local\\Temp\\ipykernel_14672\\4037774555.py:30: FutureWarning: The frame.append method is deprecated and will be removed from pandas in a future version. Use pandas.concat instead.\n",
      "  allStockDataInYFinance=allStockDataInYFinance.append(companyInfo)\n"
     ]
    },
    {
     "name": "stdout",
     "output_type": "stream",
     "text": [
      "[*********************100%***********************]  1 of 1 completed\n"
     ]
    },
    {
     "name": "stderr",
     "output_type": "stream",
     "text": [
      "C:\\Users\\87066\\AppData\\Local\\Temp\\ipykernel_14672\\4037774555.py:30: FutureWarning: The frame.append method is deprecated and will be removed from pandas in a future version. Use pandas.concat instead.\n",
      "  allStockDataInYFinance=allStockDataInYFinance.append(companyInfo)\n"
     ]
    },
    {
     "name": "stdout",
     "output_type": "stream",
     "text": [
      "[*********************100%***********************]  1 of 1 completed\n"
     ]
    },
    {
     "name": "stderr",
     "output_type": "stream",
     "text": [
      "C:\\Users\\87066\\AppData\\Local\\Temp\\ipykernel_14672\\4037774555.py:30: FutureWarning: The frame.append method is deprecated and will be removed from pandas in a future version. Use pandas.concat instead.\n",
      "  allStockDataInYFinance=allStockDataInYFinance.append(companyInfo)\n"
     ]
    },
    {
     "name": "stdout",
     "output_type": "stream",
     "text": [
      "[*********************100%***********************]  1 of 1 completed\n"
     ]
    },
    {
     "name": "stderr",
     "output_type": "stream",
     "text": [
      "C:\\Users\\87066\\AppData\\Local\\Temp\\ipykernel_14672\\4037774555.py:30: FutureWarning: The frame.append method is deprecated and will be removed from pandas in a future version. Use pandas.concat instead.\n",
      "  allStockDataInYFinance=allStockDataInYFinance.append(companyInfo)\n"
     ]
    },
    {
     "name": "stdout",
     "output_type": "stream",
     "text": [
      "[*********************100%***********************]  1 of 1 completed\n"
     ]
    },
    {
     "name": "stderr",
     "output_type": "stream",
     "text": [
      "C:\\Users\\87066\\AppData\\Local\\Temp\\ipykernel_14672\\4037774555.py:30: FutureWarning: The frame.append method is deprecated and will be removed from pandas in a future version. Use pandas.concat instead.\n",
      "  allStockDataInYFinance=allStockDataInYFinance.append(companyInfo)\n"
     ]
    },
    {
     "name": "stdout",
     "output_type": "stream",
     "text": [
      "[*********************100%***********************]  1 of 1 completed\n"
     ]
    },
    {
     "name": "stderr",
     "output_type": "stream",
     "text": [
      "C:\\Users\\87066\\AppData\\Local\\Temp\\ipykernel_14672\\4037774555.py:30: FutureWarning: The frame.append method is deprecated and will be removed from pandas in a future version. Use pandas.concat instead.\n",
      "  allStockDataInYFinance=allStockDataInYFinance.append(companyInfo)\n"
     ]
    },
    {
     "name": "stdout",
     "output_type": "stream",
     "text": [
      "[*********************100%***********************]  1 of 1 completed\n"
     ]
    },
    {
     "name": "stderr",
     "output_type": "stream",
     "text": [
      "C:\\Users\\87066\\AppData\\Local\\Temp\\ipykernel_14672\\4037774555.py:30: FutureWarning: The frame.append method is deprecated and will be removed from pandas in a future version. Use pandas.concat instead.\n",
      "  allStockDataInYFinance=allStockDataInYFinance.append(companyInfo)\n"
     ]
    },
    {
     "name": "stdout",
     "output_type": "stream",
     "text": [
      "[*********************100%***********************]  1 of 1 completed\n"
     ]
    },
    {
     "name": "stderr",
     "output_type": "stream",
     "text": [
      "C:\\Users\\87066\\AppData\\Local\\Temp\\ipykernel_14672\\4037774555.py:30: FutureWarning: The frame.append method is deprecated and will be removed from pandas in a future version. Use pandas.concat instead.\n",
      "  allStockDataInYFinance=allStockDataInYFinance.append(companyInfo)\n"
     ]
    },
    {
     "name": "stdout",
     "output_type": "stream",
     "text": [
      "[*********************100%***********************]  1 of 1 completed\n"
     ]
    },
    {
     "name": "stderr",
     "output_type": "stream",
     "text": [
      "C:\\Users\\87066\\AppData\\Local\\Temp\\ipykernel_14672\\4037774555.py:30: FutureWarning: The frame.append method is deprecated and will be removed from pandas in a future version. Use pandas.concat instead.\n",
      "  allStockDataInYFinance=allStockDataInYFinance.append(companyInfo)\n"
     ]
    },
    {
     "name": "stdout",
     "output_type": "stream",
     "text": [
      "[*********************100%***********************]  1 of 1 completed\n"
     ]
    },
    {
     "name": "stderr",
     "output_type": "stream",
     "text": [
      "C:\\Users\\87066\\AppData\\Local\\Temp\\ipykernel_14672\\4037774555.py:30: FutureWarning: The frame.append method is deprecated and will be removed from pandas in a future version. Use pandas.concat instead.\n",
      "  allStockDataInYFinance=allStockDataInYFinance.append(companyInfo)\n"
     ]
    },
    {
     "name": "stdout",
     "output_type": "stream",
     "text": [
      "[*********************100%***********************]  1 of 1 completed\n"
     ]
    },
    {
     "name": "stderr",
     "output_type": "stream",
     "text": [
      "C:\\Users\\87066\\AppData\\Local\\Temp\\ipykernel_14672\\4037774555.py:30: FutureWarning: The frame.append method is deprecated and will be removed from pandas in a future version. Use pandas.concat instead.\n",
      "  allStockDataInYFinance=allStockDataInYFinance.append(companyInfo)\n"
     ]
    },
    {
     "name": "stdout",
     "output_type": "stream",
     "text": [
      "[*********************100%***********************]  1 of 1 completed\n"
     ]
    },
    {
     "name": "stderr",
     "output_type": "stream",
     "text": [
      "C:\\Users\\87066\\AppData\\Local\\Temp\\ipykernel_14672\\4037774555.py:30: FutureWarning: The frame.append method is deprecated and will be removed from pandas in a future version. Use pandas.concat instead.\n",
      "  allStockDataInYFinance=allStockDataInYFinance.append(companyInfo)\n"
     ]
    },
    {
     "name": "stdout",
     "output_type": "stream",
     "text": [
      "[*********************100%***********************]  1 of 1 completed\n"
     ]
    },
    {
     "name": "stderr",
     "output_type": "stream",
     "text": [
      "C:\\Users\\87066\\AppData\\Local\\Temp\\ipykernel_14672\\4037774555.py:30: FutureWarning: The frame.append method is deprecated and will be removed from pandas in a future version. Use pandas.concat instead.\n",
      "  allStockDataInYFinance=allStockDataInYFinance.append(companyInfo)\n"
     ]
    },
    {
     "name": "stdout",
     "output_type": "stream",
     "text": [
      "[*********************100%***********************]  1 of 1 completed\n"
     ]
    },
    {
     "name": "stderr",
     "output_type": "stream",
     "text": [
      "C:\\Users\\87066\\AppData\\Local\\Temp\\ipykernel_14672\\4037774555.py:30: FutureWarning: The frame.append method is deprecated and will be removed from pandas in a future version. Use pandas.concat instead.\n",
      "  allStockDataInYFinance=allStockDataInYFinance.append(companyInfo)\n"
     ]
    },
    {
     "name": "stdout",
     "output_type": "stream",
     "text": [
      "[*********************100%***********************]  1 of 1 completed\n"
     ]
    },
    {
     "name": "stderr",
     "output_type": "stream",
     "text": [
      "C:\\Users\\87066\\AppData\\Local\\Temp\\ipykernel_14672\\4037774555.py:30: FutureWarning: The frame.append method is deprecated and will be removed from pandas in a future version. Use pandas.concat instead.\n",
      "  allStockDataInYFinance=allStockDataInYFinance.append(companyInfo)\n"
     ]
    },
    {
     "name": "stdout",
     "output_type": "stream",
     "text": [
      "[*********************100%***********************]  1 of 1 completed\n"
     ]
    },
    {
     "name": "stderr",
     "output_type": "stream",
     "text": [
      "C:\\Users\\87066\\AppData\\Local\\Temp\\ipykernel_14672\\4037774555.py:30: FutureWarning: The frame.append method is deprecated and will be removed from pandas in a future version. Use pandas.concat instead.\n",
      "  allStockDataInYFinance=allStockDataInYFinance.append(companyInfo)\n"
     ]
    },
    {
     "name": "stdout",
     "output_type": "stream",
     "text": [
      "[*********************100%***********************]  1 of 1 completed\n"
     ]
    },
    {
     "name": "stderr",
     "output_type": "stream",
     "text": [
      "C:\\Users\\87066\\AppData\\Local\\Temp\\ipykernel_14672\\4037774555.py:30: FutureWarning: The frame.append method is deprecated and will be removed from pandas in a future version. Use pandas.concat instead.\n",
      "  allStockDataInYFinance=allStockDataInYFinance.append(companyInfo)\n"
     ]
    },
    {
     "name": "stdout",
     "output_type": "stream",
     "text": [
      "[*********************100%***********************]  1 of 1 completed\n"
     ]
    },
    {
     "name": "stderr",
     "output_type": "stream",
     "text": [
      "C:\\Users\\87066\\AppData\\Local\\Temp\\ipykernel_14672\\4037774555.py:30: FutureWarning: The frame.append method is deprecated and will be removed from pandas in a future version. Use pandas.concat instead.\n",
      "  allStockDataInYFinance=allStockDataInYFinance.append(companyInfo)\n"
     ]
    },
    {
     "name": "stdout",
     "output_type": "stream",
     "text": [
      "[*********************100%***********************]  1 of 1 completed\n"
     ]
    },
    {
     "name": "stderr",
     "output_type": "stream",
     "text": [
      "C:\\Users\\87066\\AppData\\Local\\Temp\\ipykernel_14672\\4037774555.py:30: FutureWarning: The frame.append method is deprecated and will be removed from pandas in a future version. Use pandas.concat instead.\n",
      "  allStockDataInYFinance=allStockDataInYFinance.append(companyInfo)\n"
     ]
    },
    {
     "name": "stdout",
     "output_type": "stream",
     "text": [
      "[*********************100%***********************]  1 of 1 completed\n"
     ]
    },
    {
     "name": "stderr",
     "output_type": "stream",
     "text": [
      "C:\\Users\\87066\\AppData\\Local\\Temp\\ipykernel_14672\\4037774555.py:30: FutureWarning: The frame.append method is deprecated and will be removed from pandas in a future version. Use pandas.concat instead.\n",
      "  allStockDataInYFinance=allStockDataInYFinance.append(companyInfo)\n"
     ]
    },
    {
     "name": "stdout",
     "output_type": "stream",
     "text": [
      "[*********************100%***********************]  1 of 1 completed\n"
     ]
    },
    {
     "name": "stderr",
     "output_type": "stream",
     "text": [
      "C:\\Users\\87066\\AppData\\Local\\Temp\\ipykernel_14672\\4037774555.py:30: FutureWarning: The frame.append method is deprecated and will be removed from pandas in a future version. Use pandas.concat instead.\n",
      "  allStockDataInYFinance=allStockDataInYFinance.append(companyInfo)\n"
     ]
    },
    {
     "name": "stdout",
     "output_type": "stream",
     "text": [
      "[*********************100%***********************]  1 of 1 completed\n"
     ]
    },
    {
     "name": "stderr",
     "output_type": "stream",
     "text": [
      "C:\\Users\\87066\\AppData\\Local\\Temp\\ipykernel_14672\\4037774555.py:30: FutureWarning: The frame.append method is deprecated and will be removed from pandas in a future version. Use pandas.concat instead.\n",
      "  allStockDataInYFinance=allStockDataInYFinance.append(companyInfo)\n"
     ]
    },
    {
     "name": "stdout",
     "output_type": "stream",
     "text": [
      "[*********************100%***********************]  1 of 1 completed\n"
     ]
    },
    {
     "name": "stderr",
     "output_type": "stream",
     "text": [
      "C:\\Users\\87066\\AppData\\Local\\Temp\\ipykernel_14672\\4037774555.py:30: FutureWarning: The frame.append method is deprecated and will be removed from pandas in a future version. Use pandas.concat instead.\n",
      "  allStockDataInYFinance=allStockDataInYFinance.append(companyInfo)\n"
     ]
    },
    {
     "name": "stdout",
     "output_type": "stream",
     "text": [
      "[*********************100%***********************]  1 of 1 completed\n"
     ]
    },
    {
     "name": "stderr",
     "output_type": "stream",
     "text": [
      "C:\\Users\\87066\\AppData\\Local\\Temp\\ipykernel_14672\\4037774555.py:30: FutureWarning: The frame.append method is deprecated and will be removed from pandas in a future version. Use pandas.concat instead.\n",
      "  allStockDataInYFinance=allStockDataInYFinance.append(companyInfo)\n"
     ]
    },
    {
     "name": "stdout",
     "output_type": "stream",
     "text": [
      "[*********************100%***********************]  1 of 1 completed\n"
     ]
    },
    {
     "name": "stderr",
     "output_type": "stream",
     "text": [
      "C:\\Users\\87066\\AppData\\Local\\Temp\\ipykernel_14672\\4037774555.py:30: FutureWarning: The frame.append method is deprecated and will be removed from pandas in a future version. Use pandas.concat instead.\n",
      "  allStockDataInYFinance=allStockDataInYFinance.append(companyInfo)\n"
     ]
    },
    {
     "name": "stdout",
     "output_type": "stream",
     "text": [
      "[*********************100%***********************]  1 of 1 completed\n"
     ]
    },
    {
     "name": "stderr",
     "output_type": "stream",
     "text": [
      "C:\\Users\\87066\\AppData\\Local\\Temp\\ipykernel_14672\\4037774555.py:30: FutureWarning: The frame.append method is deprecated and will be removed from pandas in a future version. Use pandas.concat instead.\n",
      "  allStockDataInYFinance=allStockDataInYFinance.append(companyInfo)\n"
     ]
    },
    {
     "name": "stdout",
     "output_type": "stream",
     "text": [
      "[*********************100%***********************]  1 of 1 completed\n"
     ]
    },
    {
     "name": "stderr",
     "output_type": "stream",
     "text": [
      "C:\\Users\\87066\\AppData\\Local\\Temp\\ipykernel_14672\\4037774555.py:30: FutureWarning: The frame.append method is deprecated and will be removed from pandas in a future version. Use pandas.concat instead.\n",
      "  allStockDataInYFinance=allStockDataInYFinance.append(companyInfo)\n"
     ]
    },
    {
     "name": "stdout",
     "output_type": "stream",
     "text": [
      "[*********************100%***********************]  1 of 1 completed\n"
     ]
    },
    {
     "name": "stderr",
     "output_type": "stream",
     "text": [
      "C:\\Users\\87066\\AppData\\Local\\Temp\\ipykernel_14672\\4037774555.py:30: FutureWarning: The frame.append method is deprecated and will be removed from pandas in a future version. Use pandas.concat instead.\n",
      "  allStockDataInYFinance=allStockDataInYFinance.append(companyInfo)\n"
     ]
    },
    {
     "name": "stdout",
     "output_type": "stream",
     "text": [
      "[*********************100%***********************]  1 of 1 completed\n"
     ]
    },
    {
     "name": "stderr",
     "output_type": "stream",
     "text": [
      "C:\\Users\\87066\\AppData\\Local\\Temp\\ipykernel_14672\\4037774555.py:30: FutureWarning: The frame.append method is deprecated and will be removed from pandas in a future version. Use pandas.concat instead.\n",
      "  allStockDataInYFinance=allStockDataInYFinance.append(companyInfo)\n"
     ]
    },
    {
     "name": "stdout",
     "output_type": "stream",
     "text": [
      "[*********************100%***********************]  1 of 1 completed\n"
     ]
    },
    {
     "name": "stderr",
     "output_type": "stream",
     "text": [
      "C:\\Users\\87066\\AppData\\Local\\Temp\\ipykernel_14672\\4037774555.py:30: FutureWarning: The frame.append method is deprecated and will be removed from pandas in a future version. Use pandas.concat instead.\n",
      "  allStockDataInYFinance=allStockDataInYFinance.append(companyInfo)\n"
     ]
    },
    {
     "name": "stdout",
     "output_type": "stream",
     "text": [
      "[*********************100%***********************]  1 of 1 completed\n"
     ]
    },
    {
     "name": "stderr",
     "output_type": "stream",
     "text": [
      "C:\\Users\\87066\\AppData\\Local\\Temp\\ipykernel_14672\\4037774555.py:30: FutureWarning: The frame.append method is deprecated and will be removed from pandas in a future version. Use pandas.concat instead.\n",
      "  allStockDataInYFinance=allStockDataInYFinance.append(companyInfo)\n"
     ]
    },
    {
     "name": "stdout",
     "output_type": "stream",
     "text": [
      "[*********************100%***********************]  1 of 1 completed\n"
     ]
    },
    {
     "name": "stderr",
     "output_type": "stream",
     "text": [
      "C:\\Users\\87066\\AppData\\Local\\Temp\\ipykernel_14672\\4037774555.py:30: FutureWarning: The frame.append method is deprecated and will be removed from pandas in a future version. Use pandas.concat instead.\n",
      "  allStockDataInYFinance=allStockDataInYFinance.append(companyInfo)\n"
     ]
    },
    {
     "name": "stdout",
     "output_type": "stream",
     "text": [
      "[*********************100%***********************]  1 of 1 completed\n"
     ]
    },
    {
     "name": "stderr",
     "output_type": "stream",
     "text": [
      "C:\\Users\\87066\\AppData\\Local\\Temp\\ipykernel_14672\\4037774555.py:30: FutureWarning: The frame.append method is deprecated and will be removed from pandas in a future version. Use pandas.concat instead.\n",
      "  allStockDataInYFinance=allStockDataInYFinance.append(companyInfo)\n"
     ]
    },
    {
     "name": "stdout",
     "output_type": "stream",
     "text": [
      "[*********************100%***********************]  1 of 1 completed\n"
     ]
    },
    {
     "name": "stderr",
     "output_type": "stream",
     "text": [
      "C:\\Users\\87066\\AppData\\Local\\Temp\\ipykernel_14672\\4037774555.py:30: FutureWarning: The frame.append method is deprecated and will be removed from pandas in a future version. Use pandas.concat instead.\n",
      "  allStockDataInYFinance=allStockDataInYFinance.append(companyInfo)\n"
     ]
    },
    {
     "name": "stdout",
     "output_type": "stream",
     "text": [
      "[*********************100%***********************]  1 of 1 completed\n"
     ]
    },
    {
     "name": "stderr",
     "output_type": "stream",
     "text": [
      "C:\\Users\\87066\\AppData\\Local\\Temp\\ipykernel_14672\\4037774555.py:30: FutureWarning: The frame.append method is deprecated and will be removed from pandas in a future version. Use pandas.concat instead.\n",
      "  allStockDataInYFinance=allStockDataInYFinance.append(companyInfo)\n"
     ]
    },
    {
     "name": "stdout",
     "output_type": "stream",
     "text": [
      "[*********************100%***********************]  1 of 1 completed\n"
     ]
    },
    {
     "name": "stderr",
     "output_type": "stream",
     "text": [
      "C:\\Users\\87066\\AppData\\Local\\Temp\\ipykernel_14672\\4037774555.py:30: FutureWarning: The frame.append method is deprecated and will be removed from pandas in a future version. Use pandas.concat instead.\n",
      "  allStockDataInYFinance=allStockDataInYFinance.append(companyInfo)\n"
     ]
    },
    {
     "name": "stdout",
     "output_type": "stream",
     "text": [
      "[*********************100%***********************]  1 of 1 completed\n"
     ]
    },
    {
     "name": "stderr",
     "output_type": "stream",
     "text": [
      "C:\\Users\\87066\\AppData\\Local\\Temp\\ipykernel_14672\\4037774555.py:30: FutureWarning: The frame.append method is deprecated and will be removed from pandas in a future version. Use pandas.concat instead.\n",
      "  allStockDataInYFinance=allStockDataInYFinance.append(companyInfo)\n"
     ]
    },
    {
     "name": "stdout",
     "output_type": "stream",
     "text": [
      "[*********************100%***********************]  1 of 1 completed\n"
     ]
    },
    {
     "name": "stderr",
     "output_type": "stream",
     "text": [
      "C:\\Users\\87066\\AppData\\Local\\Temp\\ipykernel_14672\\4037774555.py:30: FutureWarning: The frame.append method is deprecated and will be removed from pandas in a future version. Use pandas.concat instead.\n",
      "  allStockDataInYFinance=allStockDataInYFinance.append(companyInfo)\n"
     ]
    },
    {
     "name": "stdout",
     "output_type": "stream",
     "text": [
      "[*********************100%***********************]  1 of 1 completed\n"
     ]
    },
    {
     "name": "stderr",
     "output_type": "stream",
     "text": [
      "C:\\Users\\87066\\AppData\\Local\\Temp\\ipykernel_14672\\4037774555.py:30: FutureWarning: The frame.append method is deprecated and will be removed from pandas in a future version. Use pandas.concat instead.\n",
      "  allStockDataInYFinance=allStockDataInYFinance.append(companyInfo)\n"
     ]
    },
    {
     "name": "stdout",
     "output_type": "stream",
     "text": [
      "[*********************100%***********************]  1 of 1 completed\n"
     ]
    },
    {
     "name": "stderr",
     "output_type": "stream",
     "text": [
      "C:\\Users\\87066\\AppData\\Local\\Temp\\ipykernel_14672\\4037774555.py:30: FutureWarning: The frame.append method is deprecated and will be removed from pandas in a future version. Use pandas.concat instead.\n",
      "  allStockDataInYFinance=allStockDataInYFinance.append(companyInfo)\n"
     ]
    },
    {
     "name": "stdout",
     "output_type": "stream",
     "text": [
      "[*********************100%***********************]  1 of 1 completed\n"
     ]
    },
    {
     "name": "stderr",
     "output_type": "stream",
     "text": [
      "C:\\Users\\87066\\AppData\\Local\\Temp\\ipykernel_14672\\4037774555.py:30: FutureWarning: The frame.append method is deprecated and will be removed from pandas in a future version. Use pandas.concat instead.\n",
      "  allStockDataInYFinance=allStockDataInYFinance.append(companyInfo)\n"
     ]
    },
    {
     "name": "stdout",
     "output_type": "stream",
     "text": [
      "[*********************100%***********************]  1 of 1 completed\n"
     ]
    },
    {
     "name": "stderr",
     "output_type": "stream",
     "text": [
      "C:\\Users\\87066\\AppData\\Local\\Temp\\ipykernel_14672\\4037774555.py:30: FutureWarning: The frame.append method is deprecated and will be removed from pandas in a future version. Use pandas.concat instead.\n",
      "  allStockDataInYFinance=allStockDataInYFinance.append(companyInfo)\n"
     ]
    },
    {
     "name": "stdout",
     "output_type": "stream",
     "text": [
      "[*********************100%***********************]  1 of 1 completed\n"
     ]
    },
    {
     "name": "stderr",
     "output_type": "stream",
     "text": [
      "C:\\Users\\87066\\AppData\\Local\\Temp\\ipykernel_14672\\4037774555.py:30: FutureWarning: The frame.append method is deprecated and will be removed from pandas in a future version. Use pandas.concat instead.\n",
      "  allStockDataInYFinance=allStockDataInYFinance.append(companyInfo)\n"
     ]
    },
    {
     "name": "stdout",
     "output_type": "stream",
     "text": [
      "[*********************100%***********************]  1 of 1 completed\n"
     ]
    },
    {
     "name": "stderr",
     "output_type": "stream",
     "text": [
      "C:\\Users\\87066\\AppData\\Local\\Temp\\ipykernel_14672\\4037774555.py:30: FutureWarning: The frame.append method is deprecated and will be removed from pandas in a future version. Use pandas.concat instead.\n",
      "  allStockDataInYFinance=allStockDataInYFinance.append(companyInfo)\n"
     ]
    },
    {
     "name": "stdout",
     "output_type": "stream",
     "text": [
      "[*********************100%***********************]  1 of 1 completed\n"
     ]
    },
    {
     "name": "stderr",
     "output_type": "stream",
     "text": [
      "C:\\Users\\87066\\AppData\\Local\\Temp\\ipykernel_14672\\4037774555.py:30: FutureWarning: The frame.append method is deprecated and will be removed from pandas in a future version. Use pandas.concat instead.\n",
      "  allStockDataInYFinance=allStockDataInYFinance.append(companyInfo)\n"
     ]
    },
    {
     "name": "stdout",
     "output_type": "stream",
     "text": [
      "[*********************100%***********************]  1 of 1 completed\n"
     ]
    },
    {
     "name": "stderr",
     "output_type": "stream",
     "text": [
      "C:\\Users\\87066\\AppData\\Local\\Temp\\ipykernel_14672\\4037774555.py:30: FutureWarning: The frame.append method is deprecated and will be removed from pandas in a future version. Use pandas.concat instead.\n",
      "  allStockDataInYFinance=allStockDataInYFinance.append(companyInfo)\n"
     ]
    },
    {
     "name": "stdout",
     "output_type": "stream",
     "text": [
      "[*********************100%***********************]  1 of 1 completed\n"
     ]
    },
    {
     "name": "stderr",
     "output_type": "stream",
     "text": [
      "C:\\Users\\87066\\AppData\\Local\\Temp\\ipykernel_14672\\4037774555.py:30: FutureWarning: The frame.append method is deprecated and will be removed from pandas in a future version. Use pandas.concat instead.\n",
      "  allStockDataInYFinance=allStockDataInYFinance.append(companyInfo)\n"
     ]
    },
    {
     "name": "stdout",
     "output_type": "stream",
     "text": [
      "[*********************100%***********************]  1 of 1 completed\n"
     ]
    },
    {
     "name": "stderr",
     "output_type": "stream",
     "text": [
      "C:\\Users\\87066\\AppData\\Local\\Temp\\ipykernel_14672\\4037774555.py:30: FutureWarning: The frame.append method is deprecated and will be removed from pandas in a future version. Use pandas.concat instead.\n",
      "  allStockDataInYFinance=allStockDataInYFinance.append(companyInfo)\n"
     ]
    },
    {
     "name": "stdout",
     "output_type": "stream",
     "text": [
      "[*********************100%***********************]  1 of 1 completed\n"
     ]
    },
    {
     "name": "stderr",
     "output_type": "stream",
     "text": [
      "C:\\Users\\87066\\AppData\\Local\\Temp\\ipykernel_14672\\4037774555.py:30: FutureWarning: The frame.append method is deprecated and will be removed from pandas in a future version. Use pandas.concat instead.\n",
      "  allStockDataInYFinance=allStockDataInYFinance.append(companyInfo)\n"
     ]
    },
    {
     "name": "stdout",
     "output_type": "stream",
     "text": [
      "[*********************100%***********************]  1 of 1 completed\n"
     ]
    },
    {
     "name": "stderr",
     "output_type": "stream",
     "text": [
      "C:\\Users\\87066\\AppData\\Local\\Temp\\ipykernel_14672\\4037774555.py:30: FutureWarning: The frame.append method is deprecated and will be removed from pandas in a future version. Use pandas.concat instead.\n",
      "  allStockDataInYFinance=allStockDataInYFinance.append(companyInfo)\n"
     ]
    },
    {
     "name": "stdout",
     "output_type": "stream",
     "text": [
      "[*********************100%***********************]  1 of 1 completed\n"
     ]
    },
    {
     "name": "stderr",
     "output_type": "stream",
     "text": [
      "C:\\Users\\87066\\AppData\\Local\\Temp\\ipykernel_14672\\4037774555.py:30: FutureWarning: The frame.append method is deprecated and will be removed from pandas in a future version. Use pandas.concat instead.\n",
      "  allStockDataInYFinance=allStockDataInYFinance.append(companyInfo)\n"
     ]
    },
    {
     "name": "stdout",
     "output_type": "stream",
     "text": [
      "[*********************100%***********************]  1 of 1 completed\n"
     ]
    },
    {
     "name": "stderr",
     "output_type": "stream",
     "text": [
      "C:\\Users\\87066\\AppData\\Local\\Temp\\ipykernel_14672\\4037774555.py:30: FutureWarning: The frame.append method is deprecated and will be removed from pandas in a future version. Use pandas.concat instead.\n",
      "  allStockDataInYFinance=allStockDataInYFinance.append(companyInfo)\n"
     ]
    },
    {
     "name": "stdout",
     "output_type": "stream",
     "text": [
      "[*********************100%***********************]  1 of 1 completed\n"
     ]
    },
    {
     "name": "stderr",
     "output_type": "stream",
     "text": [
      "C:\\Users\\87066\\AppData\\Local\\Temp\\ipykernel_14672\\4037774555.py:30: FutureWarning: The frame.append method is deprecated and will be removed from pandas in a future version. Use pandas.concat instead.\n",
      "  allStockDataInYFinance=allStockDataInYFinance.append(companyInfo)\n"
     ]
    },
    {
     "name": "stdout",
     "output_type": "stream",
     "text": [
      "[*********************100%***********************]  1 of 1 completed\n"
     ]
    },
    {
     "name": "stderr",
     "output_type": "stream",
     "text": [
      "C:\\Users\\87066\\AppData\\Local\\Temp\\ipykernel_14672\\4037774555.py:30: FutureWarning: The frame.append method is deprecated and will be removed from pandas in a future version. Use pandas.concat instead.\n",
      "  allStockDataInYFinance=allStockDataInYFinance.append(companyInfo)\n"
     ]
    },
    {
     "name": "stdout",
     "output_type": "stream",
     "text": [
      "[*********************100%***********************]  1 of 1 completed\n"
     ]
    },
    {
     "name": "stderr",
     "output_type": "stream",
     "text": [
      "C:\\Users\\87066\\AppData\\Local\\Temp\\ipykernel_14672\\4037774555.py:30: FutureWarning: The frame.append method is deprecated and will be removed from pandas in a future version. Use pandas.concat instead.\n",
      "  allStockDataInYFinance=allStockDataInYFinance.append(companyInfo)\n"
     ]
    },
    {
     "name": "stdout",
     "output_type": "stream",
     "text": [
      "[*********************100%***********************]  1 of 1 completed\n"
     ]
    },
    {
     "name": "stderr",
     "output_type": "stream",
     "text": [
      "C:\\Users\\87066\\AppData\\Local\\Temp\\ipykernel_14672\\4037774555.py:30: FutureWarning: The frame.append method is deprecated and will be removed from pandas in a future version. Use pandas.concat instead.\n",
      "  allStockDataInYFinance=allStockDataInYFinance.append(companyInfo)\n"
     ]
    },
    {
     "name": "stdout",
     "output_type": "stream",
     "text": [
      "[*********************100%***********************]  1 of 1 completed\n"
     ]
    },
    {
     "name": "stderr",
     "output_type": "stream",
     "text": [
      "C:\\Users\\87066\\AppData\\Local\\Temp\\ipykernel_14672\\4037774555.py:30: FutureWarning: The frame.append method is deprecated and will be removed from pandas in a future version. Use pandas.concat instead.\n",
      "  allStockDataInYFinance=allStockDataInYFinance.append(companyInfo)\n"
     ]
    },
    {
     "name": "stdout",
     "output_type": "stream",
     "text": [
      "[*********************100%***********************]  1 of 1 completed\n"
     ]
    },
    {
     "name": "stderr",
     "output_type": "stream",
     "text": [
      "C:\\Users\\87066\\AppData\\Local\\Temp\\ipykernel_14672\\4037774555.py:30: FutureWarning: The frame.append method is deprecated and will be removed from pandas in a future version. Use pandas.concat instead.\n",
      "  allStockDataInYFinance=allStockDataInYFinance.append(companyInfo)\n"
     ]
    },
    {
     "name": "stdout",
     "output_type": "stream",
     "text": [
      "[*********************100%***********************]  1 of 1 completed\n"
     ]
    },
    {
     "name": "stderr",
     "output_type": "stream",
     "text": [
      "C:\\Users\\87066\\AppData\\Local\\Temp\\ipykernel_14672\\4037774555.py:30: FutureWarning: The frame.append method is deprecated and will be removed from pandas in a future version. Use pandas.concat instead.\n",
      "  allStockDataInYFinance=allStockDataInYFinance.append(companyInfo)\n"
     ]
    },
    {
     "name": "stdout",
     "output_type": "stream",
     "text": [
      "[*********************100%***********************]  1 of 1 completed\n"
     ]
    },
    {
     "name": "stderr",
     "output_type": "stream",
     "text": [
      "C:\\Users\\87066\\AppData\\Local\\Temp\\ipykernel_14672\\4037774555.py:30: FutureWarning: The frame.append method is deprecated and will be removed from pandas in a future version. Use pandas.concat instead.\n",
      "  allStockDataInYFinance=allStockDataInYFinance.append(companyInfo)\n"
     ]
    },
    {
     "name": "stdout",
     "output_type": "stream",
     "text": [
      "[*********************100%***********************]  1 of 1 completed\n"
     ]
    },
    {
     "name": "stderr",
     "output_type": "stream",
     "text": [
      "C:\\Users\\87066\\AppData\\Local\\Temp\\ipykernel_14672\\4037774555.py:30: FutureWarning: The frame.append method is deprecated and will be removed from pandas in a future version. Use pandas.concat instead.\n",
      "  allStockDataInYFinance=allStockDataInYFinance.append(companyInfo)\n"
     ]
    },
    {
     "name": "stdout",
     "output_type": "stream",
     "text": [
      "[*********************100%***********************]  1 of 1 completed\n"
     ]
    },
    {
     "name": "stderr",
     "output_type": "stream",
     "text": [
      "C:\\Users\\87066\\AppData\\Local\\Temp\\ipykernel_14672\\4037774555.py:30: FutureWarning: The frame.append method is deprecated and will be removed from pandas in a future version. Use pandas.concat instead.\n",
      "  allStockDataInYFinance=allStockDataInYFinance.append(companyInfo)\n"
     ]
    },
    {
     "name": "stdout",
     "output_type": "stream",
     "text": [
      "[*********************100%***********************]  1 of 1 completed\n"
     ]
    },
    {
     "name": "stderr",
     "output_type": "stream",
     "text": [
      "C:\\Users\\87066\\AppData\\Local\\Temp\\ipykernel_14672\\4037774555.py:30: FutureWarning: The frame.append method is deprecated and will be removed from pandas in a future version. Use pandas.concat instead.\n",
      "  allStockDataInYFinance=allStockDataInYFinance.append(companyInfo)\n"
     ]
    },
    {
     "name": "stdout",
     "output_type": "stream",
     "text": [
      "[*********************100%***********************]  1 of 1 completed\n"
     ]
    },
    {
     "name": "stderr",
     "output_type": "stream",
     "text": [
      "C:\\Users\\87066\\AppData\\Local\\Temp\\ipykernel_14672\\4037774555.py:30: FutureWarning: The frame.append method is deprecated and will be removed from pandas in a future version. Use pandas.concat instead.\n",
      "  allStockDataInYFinance=allStockDataInYFinance.append(companyInfo)\n"
     ]
    },
    {
     "name": "stdout",
     "output_type": "stream",
     "text": [
      "[*********************100%***********************]  1 of 1 completed\n"
     ]
    },
    {
     "name": "stderr",
     "output_type": "stream",
     "text": [
      "C:\\Users\\87066\\AppData\\Local\\Temp\\ipykernel_14672\\4037774555.py:30: FutureWarning: The frame.append method is deprecated and will be removed from pandas in a future version. Use pandas.concat instead.\n",
      "  allStockDataInYFinance=allStockDataInYFinance.append(companyInfo)\n"
     ]
    },
    {
     "name": "stdout",
     "output_type": "stream",
     "text": [
      "[*********************100%***********************]  1 of 1 completed\n"
     ]
    },
    {
     "name": "stderr",
     "output_type": "stream",
     "text": [
      "C:\\Users\\87066\\AppData\\Local\\Temp\\ipykernel_14672\\4037774555.py:30: FutureWarning: The frame.append method is deprecated and will be removed from pandas in a future version. Use pandas.concat instead.\n",
      "  allStockDataInYFinance=allStockDataInYFinance.append(companyInfo)\n"
     ]
    },
    {
     "name": "stdout",
     "output_type": "stream",
     "text": [
      "[*********************100%***********************]  1 of 1 completed\n"
     ]
    },
    {
     "name": "stderr",
     "output_type": "stream",
     "text": [
      "C:\\Users\\87066\\AppData\\Local\\Temp\\ipykernel_14672\\4037774555.py:30: FutureWarning: The frame.append method is deprecated and will be removed from pandas in a future version. Use pandas.concat instead.\n",
      "  allStockDataInYFinance=allStockDataInYFinance.append(companyInfo)\n"
     ]
    },
    {
     "name": "stdout",
     "output_type": "stream",
     "text": [
      "[*********************100%***********************]  1 of 1 completed\n"
     ]
    },
    {
     "name": "stderr",
     "output_type": "stream",
     "text": [
      "C:\\Users\\87066\\AppData\\Local\\Temp\\ipykernel_14672\\4037774555.py:30: FutureWarning: The frame.append method is deprecated and will be removed from pandas in a future version. Use pandas.concat instead.\n",
      "  allStockDataInYFinance=allStockDataInYFinance.append(companyInfo)\n"
     ]
    },
    {
     "name": "stdout",
     "output_type": "stream",
     "text": [
      "[*********************100%***********************]  1 of 1 completed\n"
     ]
    },
    {
     "name": "stderr",
     "output_type": "stream",
     "text": [
      "C:\\Users\\87066\\AppData\\Local\\Temp\\ipykernel_14672\\4037774555.py:30: FutureWarning: The frame.append method is deprecated and will be removed from pandas in a future version. Use pandas.concat instead.\n",
      "  allStockDataInYFinance=allStockDataInYFinance.append(companyInfo)\n"
     ]
    },
    {
     "name": "stdout",
     "output_type": "stream",
     "text": [
      "[*********************100%***********************]  1 of 1 completed\n"
     ]
    },
    {
     "name": "stderr",
     "output_type": "stream",
     "text": [
      "C:\\Users\\87066\\AppData\\Local\\Temp\\ipykernel_14672\\4037774555.py:30: FutureWarning: The frame.append method is deprecated and will be removed from pandas in a future version. Use pandas.concat instead.\n",
      "  allStockDataInYFinance=allStockDataInYFinance.append(companyInfo)\n"
     ]
    },
    {
     "name": "stdout",
     "output_type": "stream",
     "text": [
      "[*********************100%***********************]  1 of 1 completed\n"
     ]
    },
    {
     "name": "stderr",
     "output_type": "stream",
     "text": [
      "C:\\Users\\87066\\AppData\\Local\\Temp\\ipykernel_14672\\4037774555.py:30: FutureWarning: The frame.append method is deprecated and will be removed from pandas in a future version. Use pandas.concat instead.\n",
      "  allStockDataInYFinance=allStockDataInYFinance.append(companyInfo)\n"
     ]
    },
    {
     "name": "stdout",
     "output_type": "stream",
     "text": [
      "[*********************100%***********************]  1 of 1 completed\n"
     ]
    },
    {
     "name": "stderr",
     "output_type": "stream",
     "text": [
      "C:\\Users\\87066\\AppData\\Local\\Temp\\ipykernel_14672\\4037774555.py:30: FutureWarning: The frame.append method is deprecated and will be removed from pandas in a future version. Use pandas.concat instead.\n",
      "  allStockDataInYFinance=allStockDataInYFinance.append(companyInfo)\n"
     ]
    },
    {
     "name": "stdout",
     "output_type": "stream",
     "text": [
      "[*********************100%***********************]  1 of 1 completed\n"
     ]
    },
    {
     "name": "stderr",
     "output_type": "stream",
     "text": [
      "C:\\Users\\87066\\AppData\\Local\\Temp\\ipykernel_14672\\4037774555.py:30: FutureWarning: The frame.append method is deprecated and will be removed from pandas in a future version. Use pandas.concat instead.\n",
      "  allStockDataInYFinance=allStockDataInYFinance.append(companyInfo)\n"
     ]
    },
    {
     "name": "stdout",
     "output_type": "stream",
     "text": [
      "[*********************100%***********************]  1 of 1 completed\n"
     ]
    },
    {
     "name": "stderr",
     "output_type": "stream",
     "text": [
      "C:\\Users\\87066\\AppData\\Local\\Temp\\ipykernel_14672\\4037774555.py:30: FutureWarning: The frame.append method is deprecated and will be removed from pandas in a future version. Use pandas.concat instead.\n",
      "  allStockDataInYFinance=allStockDataInYFinance.append(companyInfo)\n"
     ]
    },
    {
     "name": "stdout",
     "output_type": "stream",
     "text": [
      "[*********************100%***********************]  1 of 1 completed\n"
     ]
    },
    {
     "name": "stderr",
     "output_type": "stream",
     "text": [
      "C:\\Users\\87066\\AppData\\Local\\Temp\\ipykernel_14672\\4037774555.py:30: FutureWarning: The frame.append method is deprecated and will be removed from pandas in a future version. Use pandas.concat instead.\n",
      "  allStockDataInYFinance=allStockDataInYFinance.append(companyInfo)\n"
     ]
    },
    {
     "name": "stdout",
     "output_type": "stream",
     "text": [
      "[*********************100%***********************]  1 of 1 completed\n"
     ]
    },
    {
     "name": "stderr",
     "output_type": "stream",
     "text": [
      "C:\\Users\\87066\\AppData\\Local\\Temp\\ipykernel_14672\\4037774555.py:30: FutureWarning: The frame.append method is deprecated and will be removed from pandas in a future version. Use pandas.concat instead.\n",
      "  allStockDataInYFinance=allStockDataInYFinance.append(companyInfo)\n"
     ]
    },
    {
     "name": "stdout",
     "output_type": "stream",
     "text": [
      "[*********************100%***********************]  1 of 1 completed\n"
     ]
    },
    {
     "name": "stderr",
     "output_type": "stream",
     "text": [
      "C:\\Users\\87066\\AppData\\Local\\Temp\\ipykernel_14672\\4037774555.py:30: FutureWarning: The frame.append method is deprecated and will be removed from pandas in a future version. Use pandas.concat instead.\n",
      "  allStockDataInYFinance=allStockDataInYFinance.append(companyInfo)\n"
     ]
    },
    {
     "name": "stdout",
     "output_type": "stream",
     "text": [
      "[*********************100%***********************]  1 of 1 completed\n"
     ]
    },
    {
     "name": "stderr",
     "output_type": "stream",
     "text": [
      "C:\\Users\\87066\\AppData\\Local\\Temp\\ipykernel_14672\\4037774555.py:30: FutureWarning: The frame.append method is deprecated and will be removed from pandas in a future version. Use pandas.concat instead.\n",
      "  allStockDataInYFinance=allStockDataInYFinance.append(companyInfo)\n"
     ]
    },
    {
     "name": "stdout",
     "output_type": "stream",
     "text": [
      "[*********************100%***********************]  1 of 1 completed\n"
     ]
    },
    {
     "name": "stderr",
     "output_type": "stream",
     "text": [
      "C:\\Users\\87066\\AppData\\Local\\Temp\\ipykernel_14672\\4037774555.py:30: FutureWarning: The frame.append method is deprecated and will be removed from pandas in a future version. Use pandas.concat instead.\n",
      "  allStockDataInYFinance=allStockDataInYFinance.append(companyInfo)\n"
     ]
    },
    {
     "name": "stdout",
     "output_type": "stream",
     "text": [
      "[*********************100%***********************]  1 of 1 completed\n"
     ]
    },
    {
     "name": "stderr",
     "output_type": "stream",
     "text": [
      "C:\\Users\\87066\\AppData\\Local\\Temp\\ipykernel_14672\\4037774555.py:30: FutureWarning: The frame.append method is deprecated and will be removed from pandas in a future version. Use pandas.concat instead.\n",
      "  allStockDataInYFinance=allStockDataInYFinance.append(companyInfo)\n"
     ]
    },
    {
     "name": "stdout",
     "output_type": "stream",
     "text": [
      "[*********************100%***********************]  1 of 1 completed\n"
     ]
    },
    {
     "name": "stderr",
     "output_type": "stream",
     "text": [
      "C:\\Users\\87066\\AppData\\Local\\Temp\\ipykernel_14672\\4037774555.py:30: FutureWarning: The frame.append method is deprecated and will be removed from pandas in a future version. Use pandas.concat instead.\n",
      "  allStockDataInYFinance=allStockDataInYFinance.append(companyInfo)\n"
     ]
    },
    {
     "name": "stdout",
     "output_type": "stream",
     "text": [
      "[*********************100%***********************]  1 of 1 completed\n"
     ]
    },
    {
     "name": "stderr",
     "output_type": "stream",
     "text": [
      "C:\\Users\\87066\\AppData\\Local\\Temp\\ipykernel_14672\\4037774555.py:30: FutureWarning: The frame.append method is deprecated and will be removed from pandas in a future version. Use pandas.concat instead.\n",
      "  allStockDataInYFinance=allStockDataInYFinance.append(companyInfo)\n"
     ]
    },
    {
     "name": "stdout",
     "output_type": "stream",
     "text": [
      "[*********************100%***********************]  1 of 1 completed\n"
     ]
    },
    {
     "name": "stderr",
     "output_type": "stream",
     "text": [
      "C:\\Users\\87066\\AppData\\Local\\Temp\\ipykernel_14672\\4037774555.py:30: FutureWarning: The frame.append method is deprecated and will be removed from pandas in a future version. Use pandas.concat instead.\n",
      "  allStockDataInYFinance=allStockDataInYFinance.append(companyInfo)\n"
     ]
    },
    {
     "name": "stdout",
     "output_type": "stream",
     "text": [
      "[*********************100%***********************]  1 of 1 completed\n"
     ]
    },
    {
     "name": "stderr",
     "output_type": "stream",
     "text": [
      "C:\\Users\\87066\\AppData\\Local\\Temp\\ipykernel_14672\\4037774555.py:30: FutureWarning: The frame.append method is deprecated and will be removed from pandas in a future version. Use pandas.concat instead.\n",
      "  allStockDataInYFinance=allStockDataInYFinance.append(companyInfo)\n"
     ]
    },
    {
     "name": "stdout",
     "output_type": "stream",
     "text": [
      "[*********************100%***********************]  1 of 1 completed\n"
     ]
    },
    {
     "name": "stderr",
     "output_type": "stream",
     "text": [
      "C:\\Users\\87066\\AppData\\Local\\Temp\\ipykernel_14672\\4037774555.py:30: FutureWarning: The frame.append method is deprecated and will be removed from pandas in a future version. Use pandas.concat instead.\n",
      "  allStockDataInYFinance=allStockDataInYFinance.append(companyInfo)\n"
     ]
    },
    {
     "name": "stdout",
     "output_type": "stream",
     "text": [
      "[*********************100%***********************]  1 of 1 completed\n"
     ]
    },
    {
     "name": "stderr",
     "output_type": "stream",
     "text": [
      "C:\\Users\\87066\\AppData\\Local\\Temp\\ipykernel_14672\\4037774555.py:30: FutureWarning: The frame.append method is deprecated and will be removed from pandas in a future version. Use pandas.concat instead.\n",
      "  allStockDataInYFinance=allStockDataInYFinance.append(companyInfo)\n"
     ]
    },
    {
     "name": "stdout",
     "output_type": "stream",
     "text": [
      "[*********************100%***********************]  1 of 1 completed\n"
     ]
    },
    {
     "name": "stderr",
     "output_type": "stream",
     "text": [
      "C:\\Users\\87066\\AppData\\Local\\Temp\\ipykernel_14672\\4037774555.py:30: FutureWarning: The frame.append method is deprecated and will be removed from pandas in a future version. Use pandas.concat instead.\n",
      "  allStockDataInYFinance=allStockDataInYFinance.append(companyInfo)\n"
     ]
    },
    {
     "name": "stdout",
     "output_type": "stream",
     "text": [
      "[*********************100%***********************]  1 of 1 completed\n"
     ]
    },
    {
     "name": "stderr",
     "output_type": "stream",
     "text": [
      "C:\\Users\\87066\\AppData\\Local\\Temp\\ipykernel_14672\\4037774555.py:30: FutureWarning: The frame.append method is deprecated and will be removed from pandas in a future version. Use pandas.concat instead.\n",
      "  allStockDataInYFinance=allStockDataInYFinance.append(companyInfo)\n"
     ]
    },
    {
     "name": "stdout",
     "output_type": "stream",
     "text": [
      "[*********************100%***********************]  1 of 1 completed\n"
     ]
    },
    {
     "name": "stderr",
     "output_type": "stream",
     "text": [
      "C:\\Users\\87066\\AppData\\Local\\Temp\\ipykernel_14672\\4037774555.py:30: FutureWarning: The frame.append method is deprecated and will be removed from pandas in a future version. Use pandas.concat instead.\n",
      "  allStockDataInYFinance=allStockDataInYFinance.append(companyInfo)\n"
     ]
    },
    {
     "name": "stdout",
     "output_type": "stream",
     "text": [
      "[*********************100%***********************]  1 of 1 completed\n"
     ]
    },
    {
     "name": "stderr",
     "output_type": "stream",
     "text": [
      "C:\\Users\\87066\\AppData\\Local\\Temp\\ipykernel_14672\\4037774555.py:30: FutureWarning: The frame.append method is deprecated and will be removed from pandas in a future version. Use pandas.concat instead.\n",
      "  allStockDataInYFinance=allStockDataInYFinance.append(companyInfo)\n"
     ]
    },
    {
     "name": "stdout",
     "output_type": "stream",
     "text": [
      "[*********************100%***********************]  1 of 1 completed\n"
     ]
    },
    {
     "name": "stderr",
     "output_type": "stream",
     "text": [
      "C:\\Users\\87066\\AppData\\Local\\Temp\\ipykernel_14672\\4037774555.py:30: FutureWarning: The frame.append method is deprecated and will be removed from pandas in a future version. Use pandas.concat instead.\n",
      "  allStockDataInYFinance=allStockDataInYFinance.append(companyInfo)\n"
     ]
    },
    {
     "name": "stdout",
     "output_type": "stream",
     "text": [
      "[*********************100%***********************]  1 of 1 completed\n"
     ]
    },
    {
     "name": "stderr",
     "output_type": "stream",
     "text": [
      "C:\\Users\\87066\\AppData\\Local\\Temp\\ipykernel_14672\\4037774555.py:30: FutureWarning: The frame.append method is deprecated and will be removed from pandas in a future version. Use pandas.concat instead.\n",
      "  allStockDataInYFinance=allStockDataInYFinance.append(companyInfo)\n"
     ]
    },
    {
     "name": "stdout",
     "output_type": "stream",
     "text": [
      "[*********************100%***********************]  1 of 1 completed\n"
     ]
    },
    {
     "name": "stderr",
     "output_type": "stream",
     "text": [
      "C:\\Users\\87066\\AppData\\Local\\Temp\\ipykernel_14672\\4037774555.py:30: FutureWarning: The frame.append method is deprecated and will be removed from pandas in a future version. Use pandas.concat instead.\n",
      "  allStockDataInYFinance=allStockDataInYFinance.append(companyInfo)\n"
     ]
    },
    {
     "name": "stdout",
     "output_type": "stream",
     "text": [
      "[*********************100%***********************]  1 of 1 completed\n"
     ]
    },
    {
     "name": "stderr",
     "output_type": "stream",
     "text": [
      "C:\\Users\\87066\\AppData\\Local\\Temp\\ipykernel_14672\\4037774555.py:30: FutureWarning: The frame.append method is deprecated and will be removed from pandas in a future version. Use pandas.concat instead.\n",
      "  allStockDataInYFinance=allStockDataInYFinance.append(companyInfo)\n"
     ]
    },
    {
     "name": "stdout",
     "output_type": "stream",
     "text": [
      "[*********************100%***********************]  1 of 1 completed\n"
     ]
    },
    {
     "name": "stderr",
     "output_type": "stream",
     "text": [
      "C:\\Users\\87066\\AppData\\Local\\Temp\\ipykernel_14672\\4037774555.py:30: FutureWarning: The frame.append method is deprecated and will be removed from pandas in a future version. Use pandas.concat instead.\n",
      "  allStockDataInYFinance=allStockDataInYFinance.append(companyInfo)\n"
     ]
    },
    {
     "name": "stdout",
     "output_type": "stream",
     "text": [
      "[*********************100%***********************]  1 of 1 completed\n"
     ]
    },
    {
     "name": "stderr",
     "output_type": "stream",
     "text": [
      "C:\\Users\\87066\\AppData\\Local\\Temp\\ipykernel_14672\\4037774555.py:30: FutureWarning: The frame.append method is deprecated and will be removed from pandas in a future version. Use pandas.concat instead.\n",
      "  allStockDataInYFinance=allStockDataInYFinance.append(companyInfo)\n"
     ]
    },
    {
     "name": "stdout",
     "output_type": "stream",
     "text": [
      "[*********************100%***********************]  1 of 1 completed\n"
     ]
    },
    {
     "name": "stderr",
     "output_type": "stream",
     "text": [
      "C:\\Users\\87066\\AppData\\Local\\Temp\\ipykernel_14672\\4037774555.py:30: FutureWarning: The frame.append method is deprecated and will be removed from pandas in a future version. Use pandas.concat instead.\n",
      "  allStockDataInYFinance=allStockDataInYFinance.append(companyInfo)\n"
     ]
    },
    {
     "name": "stdout",
     "output_type": "stream",
     "text": [
      "[*********************100%***********************]  1 of 1 completed\n"
     ]
    },
    {
     "name": "stderr",
     "output_type": "stream",
     "text": [
      "C:\\Users\\87066\\AppData\\Local\\Temp\\ipykernel_14672\\4037774555.py:30: FutureWarning: The frame.append method is deprecated and will be removed from pandas in a future version. Use pandas.concat instead.\n",
      "  allStockDataInYFinance=allStockDataInYFinance.append(companyInfo)\n"
     ]
    },
    {
     "name": "stdout",
     "output_type": "stream",
     "text": [
      "[*********************100%***********************]  1 of 1 completed\n"
     ]
    },
    {
     "name": "stderr",
     "output_type": "stream",
     "text": [
      "C:\\Users\\87066\\AppData\\Local\\Temp\\ipykernel_14672\\4037774555.py:30: FutureWarning: The frame.append method is deprecated and will be removed from pandas in a future version. Use pandas.concat instead.\n",
      "  allStockDataInYFinance=allStockDataInYFinance.append(companyInfo)\n"
     ]
    },
    {
     "name": "stdout",
     "output_type": "stream",
     "text": [
      "[*********************100%***********************]  1 of 1 completed\n"
     ]
    },
    {
     "name": "stderr",
     "output_type": "stream",
     "text": [
      "C:\\Users\\87066\\AppData\\Local\\Temp\\ipykernel_14672\\4037774555.py:30: FutureWarning: The frame.append method is deprecated and will be removed from pandas in a future version. Use pandas.concat instead.\n",
      "  allStockDataInYFinance=allStockDataInYFinance.append(companyInfo)\n"
     ]
    },
    {
     "name": "stdout",
     "output_type": "stream",
     "text": [
      "[*********************100%***********************]  1 of 1 completed\n"
     ]
    },
    {
     "name": "stderr",
     "output_type": "stream",
     "text": [
      "C:\\Users\\87066\\AppData\\Local\\Temp\\ipykernel_14672\\4037774555.py:30: FutureWarning: The frame.append method is deprecated and will be removed from pandas in a future version. Use pandas.concat instead.\n",
      "  allStockDataInYFinance=allStockDataInYFinance.append(companyInfo)\n"
     ]
    },
    {
     "name": "stdout",
     "output_type": "stream",
     "text": [
      "[*********************100%***********************]  1 of 1 completed\n"
     ]
    },
    {
     "name": "stderr",
     "output_type": "stream",
     "text": [
      "C:\\Users\\87066\\AppData\\Local\\Temp\\ipykernel_14672\\4037774555.py:30: FutureWarning: The frame.append method is deprecated and will be removed from pandas in a future version. Use pandas.concat instead.\n",
      "  allStockDataInYFinance=allStockDataInYFinance.append(companyInfo)\n"
     ]
    },
    {
     "name": "stdout",
     "output_type": "stream",
     "text": [
      "[*********************100%***********************]  1 of 1 completed\n"
     ]
    },
    {
     "name": "stderr",
     "output_type": "stream",
     "text": [
      "C:\\Users\\87066\\AppData\\Local\\Temp\\ipykernel_14672\\4037774555.py:30: FutureWarning: The frame.append method is deprecated and will be removed from pandas in a future version. Use pandas.concat instead.\n",
      "  allStockDataInYFinance=allStockDataInYFinance.append(companyInfo)\n"
     ]
    },
    {
     "name": "stdout",
     "output_type": "stream",
     "text": [
      "[*********************100%***********************]  1 of 1 completed\n"
     ]
    },
    {
     "name": "stderr",
     "output_type": "stream",
     "text": [
      "C:\\Users\\87066\\AppData\\Local\\Temp\\ipykernel_14672\\4037774555.py:30: FutureWarning: The frame.append method is deprecated and will be removed from pandas in a future version. Use pandas.concat instead.\n",
      "  allStockDataInYFinance=allStockDataInYFinance.append(companyInfo)\n"
     ]
    },
    {
     "name": "stdout",
     "output_type": "stream",
     "text": [
      "[*********************100%***********************]  1 of 1 completed\n"
     ]
    },
    {
     "name": "stderr",
     "output_type": "stream",
     "text": [
      "C:\\Users\\87066\\AppData\\Local\\Temp\\ipykernel_14672\\4037774555.py:30: FutureWarning: The frame.append method is deprecated and will be removed from pandas in a future version. Use pandas.concat instead.\n",
      "  allStockDataInYFinance=allStockDataInYFinance.append(companyInfo)\n"
     ]
    },
    {
     "name": "stdout",
     "output_type": "stream",
     "text": [
      "[*********************100%***********************]  1 of 1 completed\n"
     ]
    },
    {
     "name": "stderr",
     "output_type": "stream",
     "text": [
      "C:\\Users\\87066\\AppData\\Local\\Temp\\ipykernel_14672\\4037774555.py:30: FutureWarning: The frame.append method is deprecated and will be removed from pandas in a future version. Use pandas.concat instead.\n",
      "  allStockDataInYFinance=allStockDataInYFinance.append(companyInfo)\n"
     ]
    },
    {
     "name": "stdout",
     "output_type": "stream",
     "text": [
      "[*********************100%***********************]  1 of 1 completed\n"
     ]
    },
    {
     "name": "stderr",
     "output_type": "stream",
     "text": [
      "C:\\Users\\87066\\AppData\\Local\\Temp\\ipykernel_14672\\4037774555.py:30: FutureWarning: The frame.append method is deprecated and will be removed from pandas in a future version. Use pandas.concat instead.\n",
      "  allStockDataInYFinance=allStockDataInYFinance.append(companyInfo)\n"
     ]
    },
    {
     "name": "stdout",
     "output_type": "stream",
     "text": [
      "[*********************100%***********************]  1 of 1 completed\n"
     ]
    },
    {
     "name": "stderr",
     "output_type": "stream",
     "text": [
      "C:\\Users\\87066\\AppData\\Local\\Temp\\ipykernel_14672\\4037774555.py:30: FutureWarning: The frame.append method is deprecated and will be removed from pandas in a future version. Use pandas.concat instead.\n",
      "  allStockDataInYFinance=allStockDataInYFinance.append(companyInfo)\n"
     ]
    },
    {
     "name": "stdout",
     "output_type": "stream",
     "text": [
      "[*********************100%***********************]  1 of 1 completed\n"
     ]
    },
    {
     "name": "stderr",
     "output_type": "stream",
     "text": [
      "C:\\Users\\87066\\AppData\\Local\\Temp\\ipykernel_14672\\4037774555.py:30: FutureWarning: The frame.append method is deprecated and will be removed from pandas in a future version. Use pandas.concat instead.\n",
      "  allStockDataInYFinance=allStockDataInYFinance.append(companyInfo)\n"
     ]
    },
    {
     "name": "stdout",
     "output_type": "stream",
     "text": [
      "[*********************100%***********************]  1 of 1 completed\n"
     ]
    },
    {
     "name": "stderr",
     "output_type": "stream",
     "text": [
      "C:\\Users\\87066\\AppData\\Local\\Temp\\ipykernel_14672\\4037774555.py:30: FutureWarning: The frame.append method is deprecated and will be removed from pandas in a future version. Use pandas.concat instead.\n",
      "  allStockDataInYFinance=allStockDataInYFinance.append(companyInfo)\n"
     ]
    },
    {
     "name": "stdout",
     "output_type": "stream",
     "text": [
      "[*********************100%***********************]  1 of 1 completed\n"
     ]
    },
    {
     "name": "stderr",
     "output_type": "stream",
     "text": [
      "C:\\Users\\87066\\AppData\\Local\\Temp\\ipykernel_14672\\4037774555.py:30: FutureWarning: The frame.append method is deprecated and will be removed from pandas in a future version. Use pandas.concat instead.\n",
      "  allStockDataInYFinance=allStockDataInYFinance.append(companyInfo)\n"
     ]
    },
    {
     "name": "stdout",
     "output_type": "stream",
     "text": [
      "[*********************100%***********************]  1 of 1 completed\n"
     ]
    },
    {
     "name": "stderr",
     "output_type": "stream",
     "text": [
      "C:\\Users\\87066\\AppData\\Local\\Temp\\ipykernel_14672\\4037774555.py:30: FutureWarning: The frame.append method is deprecated and will be removed from pandas in a future version. Use pandas.concat instead.\n",
      "  allStockDataInYFinance=allStockDataInYFinance.append(companyInfo)\n"
     ]
    },
    {
     "name": "stdout",
     "output_type": "stream",
     "text": [
      "[*********************100%***********************]  1 of 1 completed\n"
     ]
    },
    {
     "name": "stderr",
     "output_type": "stream",
     "text": [
      "C:\\Users\\87066\\AppData\\Local\\Temp\\ipykernel_14672\\4037774555.py:30: FutureWarning: The frame.append method is deprecated and will be removed from pandas in a future version. Use pandas.concat instead.\n",
      "  allStockDataInYFinance=allStockDataInYFinance.append(companyInfo)\n"
     ]
    },
    {
     "name": "stdout",
     "output_type": "stream",
     "text": [
      "[*********************100%***********************]  1 of 1 completed\n"
     ]
    },
    {
     "name": "stderr",
     "output_type": "stream",
     "text": [
      "C:\\Users\\87066\\AppData\\Local\\Temp\\ipykernel_14672\\4037774555.py:30: FutureWarning: The frame.append method is deprecated and will be removed from pandas in a future version. Use pandas.concat instead.\n",
      "  allStockDataInYFinance=allStockDataInYFinance.append(companyInfo)\n"
     ]
    },
    {
     "name": "stdout",
     "output_type": "stream",
     "text": [
      "[*********************100%***********************]  1 of 1 completed\n"
     ]
    },
    {
     "name": "stderr",
     "output_type": "stream",
     "text": [
      "C:\\Users\\87066\\AppData\\Local\\Temp\\ipykernel_14672\\4037774555.py:30: FutureWarning: The frame.append method is deprecated and will be removed from pandas in a future version. Use pandas.concat instead.\n",
      "  allStockDataInYFinance=allStockDataInYFinance.append(companyInfo)\n"
     ]
    },
    {
     "name": "stdout",
     "output_type": "stream",
     "text": [
      "[*********************100%***********************]  1 of 1 completed\n"
     ]
    },
    {
     "name": "stderr",
     "output_type": "stream",
     "text": [
      "C:\\Users\\87066\\AppData\\Local\\Temp\\ipykernel_14672\\4037774555.py:30: FutureWarning: The frame.append method is deprecated and will be removed from pandas in a future version. Use pandas.concat instead.\n",
      "  allStockDataInYFinance=allStockDataInYFinance.append(companyInfo)\n"
     ]
    },
    {
     "name": "stdout",
     "output_type": "stream",
     "text": [
      "[*********************100%***********************]  1 of 1 completed\n"
     ]
    },
    {
     "name": "stderr",
     "output_type": "stream",
     "text": [
      "C:\\Users\\87066\\AppData\\Local\\Temp\\ipykernel_14672\\4037774555.py:30: FutureWarning: The frame.append method is deprecated and will be removed from pandas in a future version. Use pandas.concat instead.\n",
      "  allStockDataInYFinance=allStockDataInYFinance.append(companyInfo)\n"
     ]
    },
    {
     "name": "stdout",
     "output_type": "stream",
     "text": [
      "[*********************100%***********************]  1 of 1 completed\n"
     ]
    },
    {
     "name": "stderr",
     "output_type": "stream",
     "text": [
      "C:\\Users\\87066\\AppData\\Local\\Temp\\ipykernel_14672\\4037774555.py:30: FutureWarning: The frame.append method is deprecated and will be removed from pandas in a future version. Use pandas.concat instead.\n",
      "  allStockDataInYFinance=allStockDataInYFinance.append(companyInfo)\n"
     ]
    },
    {
     "name": "stdout",
     "output_type": "stream",
     "text": [
      "[*********************100%***********************]  1 of 1 completed\n"
     ]
    },
    {
     "name": "stderr",
     "output_type": "stream",
     "text": [
      "C:\\Users\\87066\\AppData\\Local\\Temp\\ipykernel_14672\\4037774555.py:30: FutureWarning: The frame.append method is deprecated and will be removed from pandas in a future version. Use pandas.concat instead.\n",
      "  allStockDataInYFinance=allStockDataInYFinance.append(companyInfo)\n"
     ]
    },
    {
     "name": "stdout",
     "output_type": "stream",
     "text": [
      "[*********************100%***********************]  1 of 1 completed\n"
     ]
    },
    {
     "name": "stderr",
     "output_type": "stream",
     "text": [
      "C:\\Users\\87066\\AppData\\Local\\Temp\\ipykernel_14672\\4037774555.py:30: FutureWarning: The frame.append method is deprecated and will be removed from pandas in a future version. Use pandas.concat instead.\n",
      "  allStockDataInYFinance=allStockDataInYFinance.append(companyInfo)\n"
     ]
    },
    {
     "name": "stdout",
     "output_type": "stream",
     "text": [
      "[*********************100%***********************]  1 of 1 completed\n"
     ]
    },
    {
     "name": "stderr",
     "output_type": "stream",
     "text": [
      "C:\\Users\\87066\\AppData\\Local\\Temp\\ipykernel_14672\\4037774555.py:30: FutureWarning: The frame.append method is deprecated and will be removed from pandas in a future version. Use pandas.concat instead.\n",
      "  allStockDataInYFinance=allStockDataInYFinance.append(companyInfo)\n"
     ]
    },
    {
     "name": "stdout",
     "output_type": "stream",
     "text": [
      "[*********************100%***********************]  1 of 1 completed\n"
     ]
    },
    {
     "name": "stderr",
     "output_type": "stream",
     "text": [
      "C:\\Users\\87066\\AppData\\Local\\Temp\\ipykernel_14672\\4037774555.py:30: FutureWarning: The frame.append method is deprecated and will be removed from pandas in a future version. Use pandas.concat instead.\n",
      "  allStockDataInYFinance=allStockDataInYFinance.append(companyInfo)\n"
     ]
    },
    {
     "name": "stdout",
     "output_type": "stream",
     "text": [
      "[*********************100%***********************]  1 of 1 completed\n"
     ]
    },
    {
     "name": "stderr",
     "output_type": "stream",
     "text": [
      "C:\\Users\\87066\\AppData\\Local\\Temp\\ipykernel_14672\\4037774555.py:30: FutureWarning: The frame.append method is deprecated and will be removed from pandas in a future version. Use pandas.concat instead.\n",
      "  allStockDataInYFinance=allStockDataInYFinance.append(companyInfo)\n"
     ]
    },
    {
     "name": "stdout",
     "output_type": "stream",
     "text": [
      "[*********************100%***********************]  1 of 1 completed\n"
     ]
    },
    {
     "name": "stderr",
     "output_type": "stream",
     "text": [
      "C:\\Users\\87066\\AppData\\Local\\Temp\\ipykernel_14672\\4037774555.py:30: FutureWarning: The frame.append method is deprecated and will be removed from pandas in a future version. Use pandas.concat instead.\n",
      "  allStockDataInYFinance=allStockDataInYFinance.append(companyInfo)\n"
     ]
    },
    {
     "name": "stdout",
     "output_type": "stream",
     "text": [
      "[*********************100%***********************]  1 of 1 completed\n"
     ]
    },
    {
     "name": "stderr",
     "output_type": "stream",
     "text": [
      "C:\\Users\\87066\\AppData\\Local\\Temp\\ipykernel_14672\\4037774555.py:30: FutureWarning: The frame.append method is deprecated and will be removed from pandas in a future version. Use pandas.concat instead.\n",
      "  allStockDataInYFinance=allStockDataInYFinance.append(companyInfo)\n"
     ]
    },
    {
     "name": "stdout",
     "output_type": "stream",
     "text": [
      "[*********************100%***********************]  1 of 1 completed\n"
     ]
    },
    {
     "name": "stderr",
     "output_type": "stream",
     "text": [
      "C:\\Users\\87066\\AppData\\Local\\Temp\\ipykernel_14672\\4037774555.py:30: FutureWarning: The frame.append method is deprecated and will be removed from pandas in a future version. Use pandas.concat instead.\n",
      "  allStockDataInYFinance=allStockDataInYFinance.append(companyInfo)\n"
     ]
    },
    {
     "name": "stdout",
     "output_type": "stream",
     "text": [
      "[*********************100%***********************]  1 of 1 completed\n"
     ]
    },
    {
     "name": "stderr",
     "output_type": "stream",
     "text": [
      "C:\\Users\\87066\\AppData\\Local\\Temp\\ipykernel_14672\\4037774555.py:30: FutureWarning: The frame.append method is deprecated and will be removed from pandas in a future version. Use pandas.concat instead.\n",
      "  allStockDataInYFinance=allStockDataInYFinance.append(companyInfo)\n"
     ]
    },
    {
     "name": "stdout",
     "output_type": "stream",
     "text": [
      "[*********************100%***********************]  1 of 1 completed\n"
     ]
    },
    {
     "name": "stderr",
     "output_type": "stream",
     "text": [
      "C:\\Users\\87066\\AppData\\Local\\Temp\\ipykernel_14672\\4037774555.py:30: FutureWarning: The frame.append method is deprecated and will be removed from pandas in a future version. Use pandas.concat instead.\n",
      "  allStockDataInYFinance=allStockDataInYFinance.append(companyInfo)\n"
     ]
    },
    {
     "name": "stdout",
     "output_type": "stream",
     "text": [
      "[*********************100%***********************]  1 of 1 completed\n"
     ]
    },
    {
     "name": "stderr",
     "output_type": "stream",
     "text": [
      "C:\\Users\\87066\\AppData\\Local\\Temp\\ipykernel_14672\\4037774555.py:30: FutureWarning: The frame.append method is deprecated and will be removed from pandas in a future version. Use pandas.concat instead.\n",
      "  allStockDataInYFinance=allStockDataInYFinance.append(companyInfo)\n"
     ]
    },
    {
     "name": "stdout",
     "output_type": "stream",
     "text": [
      "[*********************100%***********************]  1 of 1 completed\n"
     ]
    },
    {
     "name": "stderr",
     "output_type": "stream",
     "text": [
      "C:\\Users\\87066\\AppData\\Local\\Temp\\ipykernel_14672\\4037774555.py:30: FutureWarning: The frame.append method is deprecated and will be removed from pandas in a future version. Use pandas.concat instead.\n",
      "  allStockDataInYFinance=allStockDataInYFinance.append(companyInfo)\n"
     ]
    },
    {
     "name": "stdout",
     "output_type": "stream",
     "text": [
      "[*********************100%***********************]  1 of 1 completed\n"
     ]
    },
    {
     "name": "stderr",
     "output_type": "stream",
     "text": [
      "C:\\Users\\87066\\AppData\\Local\\Temp\\ipykernel_14672\\4037774555.py:30: FutureWarning: The frame.append method is deprecated and will be removed from pandas in a future version. Use pandas.concat instead.\n",
      "  allStockDataInYFinance=allStockDataInYFinance.append(companyInfo)\n"
     ]
    },
    {
     "name": "stdout",
     "output_type": "stream",
     "text": [
      "[*********************100%***********************]  1 of 1 completed\n"
     ]
    },
    {
     "name": "stderr",
     "output_type": "stream",
     "text": [
      "C:\\Users\\87066\\AppData\\Local\\Temp\\ipykernel_14672\\4037774555.py:30: FutureWarning: The frame.append method is deprecated and will be removed from pandas in a future version. Use pandas.concat instead.\n",
      "  allStockDataInYFinance=allStockDataInYFinance.append(companyInfo)\n"
     ]
    },
    {
     "name": "stdout",
     "output_type": "stream",
     "text": [
      "[*********************100%***********************]  1 of 1 completed\n"
     ]
    },
    {
     "name": "stderr",
     "output_type": "stream",
     "text": [
      "C:\\Users\\87066\\AppData\\Local\\Temp\\ipykernel_14672\\4037774555.py:30: FutureWarning: The frame.append method is deprecated and will be removed from pandas in a future version. Use pandas.concat instead.\n",
      "  allStockDataInYFinance=allStockDataInYFinance.append(companyInfo)\n"
     ]
    },
    {
     "name": "stdout",
     "output_type": "stream",
     "text": [
      "[*********************100%***********************]  1 of 1 completed\n"
     ]
    },
    {
     "name": "stderr",
     "output_type": "stream",
     "text": [
      "C:\\Users\\87066\\AppData\\Local\\Temp\\ipykernel_14672\\4037774555.py:30: FutureWarning: The frame.append method is deprecated and will be removed from pandas in a future version. Use pandas.concat instead.\n",
      "  allStockDataInYFinance=allStockDataInYFinance.append(companyInfo)\n"
     ]
    },
    {
     "name": "stdout",
     "output_type": "stream",
     "text": [
      "[*********************100%***********************]  1 of 1 completed\n"
     ]
    },
    {
     "name": "stderr",
     "output_type": "stream",
     "text": [
      "C:\\Users\\87066\\AppData\\Local\\Temp\\ipykernel_14672\\4037774555.py:30: FutureWarning: The frame.append method is deprecated and will be removed from pandas in a future version. Use pandas.concat instead.\n",
      "  allStockDataInYFinance=allStockDataInYFinance.append(companyInfo)\n"
     ]
    },
    {
     "name": "stdout",
     "output_type": "stream",
     "text": [
      "[*********************100%***********************]  1 of 1 completed\n"
     ]
    },
    {
     "name": "stderr",
     "output_type": "stream",
     "text": [
      "C:\\Users\\87066\\AppData\\Local\\Temp\\ipykernel_14672\\4037774555.py:30: FutureWarning: The frame.append method is deprecated and will be removed from pandas in a future version. Use pandas.concat instead.\n",
      "  allStockDataInYFinance=allStockDataInYFinance.append(companyInfo)\n"
     ]
    },
    {
     "name": "stdout",
     "output_type": "stream",
     "text": [
      "[*********************100%***********************]  1 of 1 completed\n"
     ]
    },
    {
     "name": "stderr",
     "output_type": "stream",
     "text": [
      "C:\\Users\\87066\\AppData\\Local\\Temp\\ipykernel_14672\\4037774555.py:30: FutureWarning: The frame.append method is deprecated and will be removed from pandas in a future version. Use pandas.concat instead.\n",
      "  allStockDataInYFinance=allStockDataInYFinance.append(companyInfo)\n"
     ]
    },
    {
     "name": "stdout",
     "output_type": "stream",
     "text": [
      "[*********************100%***********************]  1 of 1 completed\n"
     ]
    },
    {
     "name": "stderr",
     "output_type": "stream",
     "text": [
      "C:\\Users\\87066\\AppData\\Local\\Temp\\ipykernel_14672\\4037774555.py:30: FutureWarning: The frame.append method is deprecated and will be removed from pandas in a future version. Use pandas.concat instead.\n",
      "  allStockDataInYFinance=allStockDataInYFinance.append(companyInfo)\n"
     ]
    },
    {
     "name": "stdout",
     "output_type": "stream",
     "text": [
      "[*********************100%***********************]  1 of 1 completed\n"
     ]
    },
    {
     "name": "stderr",
     "output_type": "stream",
     "text": [
      "C:\\Users\\87066\\AppData\\Local\\Temp\\ipykernel_14672\\4037774555.py:30: FutureWarning: The frame.append method is deprecated and will be removed from pandas in a future version. Use pandas.concat instead.\n",
      "  allStockDataInYFinance=allStockDataInYFinance.append(companyInfo)\n"
     ]
    },
    {
     "name": "stdout",
     "output_type": "stream",
     "text": [
      "[*********************100%***********************]  1 of 1 completed\n"
     ]
    },
    {
     "name": "stderr",
     "output_type": "stream",
     "text": [
      "C:\\Users\\87066\\AppData\\Local\\Temp\\ipykernel_14672\\4037774555.py:30: FutureWarning: The frame.append method is deprecated and will be removed from pandas in a future version. Use pandas.concat instead.\n",
      "  allStockDataInYFinance=allStockDataInYFinance.append(companyInfo)\n"
     ]
    },
    {
     "name": "stdout",
     "output_type": "stream",
     "text": [
      "[*********************100%***********************]  1 of 1 completed\n"
     ]
    },
    {
     "name": "stderr",
     "output_type": "stream",
     "text": [
      "C:\\Users\\87066\\AppData\\Local\\Temp\\ipykernel_14672\\4037774555.py:30: FutureWarning: The frame.append method is deprecated and will be removed from pandas in a future version. Use pandas.concat instead.\n",
      "  allStockDataInYFinance=allStockDataInYFinance.append(companyInfo)\n"
     ]
    },
    {
     "name": "stdout",
     "output_type": "stream",
     "text": [
      "[*********************100%***********************]  1 of 1 completed\n"
     ]
    },
    {
     "name": "stderr",
     "output_type": "stream",
     "text": [
      "C:\\Users\\87066\\AppData\\Local\\Temp\\ipykernel_14672\\4037774555.py:30: FutureWarning: The frame.append method is deprecated and will be removed from pandas in a future version. Use pandas.concat instead.\n",
      "  allStockDataInYFinance=allStockDataInYFinance.append(companyInfo)\n"
     ]
    },
    {
     "name": "stdout",
     "output_type": "stream",
     "text": [
      "[*********************100%***********************]  1 of 1 completed\n"
     ]
    },
    {
     "name": "stderr",
     "output_type": "stream",
     "text": [
      "C:\\Users\\87066\\AppData\\Local\\Temp\\ipykernel_14672\\4037774555.py:30: FutureWarning: The frame.append method is deprecated and will be removed from pandas in a future version. Use pandas.concat instead.\n",
      "  allStockDataInYFinance=allStockDataInYFinance.append(companyInfo)\n"
     ]
    },
    {
     "name": "stdout",
     "output_type": "stream",
     "text": [
      "[*********************100%***********************]  1 of 1 completed\n"
     ]
    },
    {
     "name": "stderr",
     "output_type": "stream",
     "text": [
      "C:\\Users\\87066\\AppData\\Local\\Temp\\ipykernel_14672\\4037774555.py:30: FutureWarning: The frame.append method is deprecated and will be removed from pandas in a future version. Use pandas.concat instead.\n",
      "  allStockDataInYFinance=allStockDataInYFinance.append(companyInfo)\n"
     ]
    },
    {
     "name": "stdout",
     "output_type": "stream",
     "text": [
      "[*********************100%***********************]  1 of 1 completed\n"
     ]
    },
    {
     "name": "stderr",
     "output_type": "stream",
     "text": [
      "C:\\Users\\87066\\AppData\\Local\\Temp\\ipykernel_14672\\4037774555.py:30: FutureWarning: The frame.append method is deprecated and will be removed from pandas in a future version. Use pandas.concat instead.\n",
      "  allStockDataInYFinance=allStockDataInYFinance.append(companyInfo)\n"
     ]
    },
    {
     "name": "stdout",
     "output_type": "stream",
     "text": [
      "[*********************100%***********************]  1 of 1 completed\n"
     ]
    },
    {
     "name": "stderr",
     "output_type": "stream",
     "text": [
      "C:\\Users\\87066\\AppData\\Local\\Temp\\ipykernel_14672\\4037774555.py:30: FutureWarning: The frame.append method is deprecated and will be removed from pandas in a future version. Use pandas.concat instead.\n",
      "  allStockDataInYFinance=allStockDataInYFinance.append(companyInfo)\n"
     ]
    },
    {
     "name": "stdout",
     "output_type": "stream",
     "text": [
      "[*********************100%***********************]  1 of 1 completed\n"
     ]
    },
    {
     "name": "stderr",
     "output_type": "stream",
     "text": [
      "C:\\Users\\87066\\AppData\\Local\\Temp\\ipykernel_14672\\4037774555.py:30: FutureWarning: The frame.append method is deprecated and will be removed from pandas in a future version. Use pandas.concat instead.\n",
      "  allStockDataInYFinance=allStockDataInYFinance.append(companyInfo)\n"
     ]
    },
    {
     "name": "stdout",
     "output_type": "stream",
     "text": [
      "[*********************100%***********************]  1 of 1 completed\n"
     ]
    },
    {
     "name": "stderr",
     "output_type": "stream",
     "text": [
      "C:\\Users\\87066\\AppData\\Local\\Temp\\ipykernel_14672\\4037774555.py:30: FutureWarning: The frame.append method is deprecated and will be removed from pandas in a future version. Use pandas.concat instead.\n",
      "  allStockDataInYFinance=allStockDataInYFinance.append(companyInfo)\n"
     ]
    },
    {
     "name": "stdout",
     "output_type": "stream",
     "text": [
      "[*********************100%***********************]  1 of 1 completed\n"
     ]
    },
    {
     "name": "stderr",
     "output_type": "stream",
     "text": [
      "C:\\Users\\87066\\AppData\\Local\\Temp\\ipykernel_14672\\4037774555.py:30: FutureWarning: The frame.append method is deprecated and will be removed from pandas in a future version. Use pandas.concat instead.\n",
      "  allStockDataInYFinance=allStockDataInYFinance.append(companyInfo)\n"
     ]
    },
    {
     "name": "stdout",
     "output_type": "stream",
     "text": [
      "[*********************100%***********************]  1 of 1 completed\n"
     ]
    },
    {
     "name": "stderr",
     "output_type": "stream",
     "text": [
      "C:\\Users\\87066\\AppData\\Local\\Temp\\ipykernel_14672\\4037774555.py:30: FutureWarning: The frame.append method is deprecated and will be removed from pandas in a future version. Use pandas.concat instead.\n",
      "  allStockDataInYFinance=allStockDataInYFinance.append(companyInfo)\n"
     ]
    },
    {
     "name": "stdout",
     "output_type": "stream",
     "text": [
      "[*********************100%***********************]  1 of 1 completed\n"
     ]
    },
    {
     "name": "stderr",
     "output_type": "stream",
     "text": [
      "C:\\Users\\87066\\AppData\\Local\\Temp\\ipykernel_14672\\4037774555.py:30: FutureWarning: The frame.append method is deprecated and will be removed from pandas in a future version. Use pandas.concat instead.\n",
      "  allStockDataInYFinance=allStockDataInYFinance.append(companyInfo)\n"
     ]
    },
    {
     "name": "stdout",
     "output_type": "stream",
     "text": [
      "[*********************100%***********************]  1 of 1 completed\n"
     ]
    },
    {
     "name": "stderr",
     "output_type": "stream",
     "text": [
      "C:\\Users\\87066\\AppData\\Local\\Temp\\ipykernel_14672\\4037774555.py:30: FutureWarning: The frame.append method is deprecated and will be removed from pandas in a future version. Use pandas.concat instead.\n",
      "  allStockDataInYFinance=allStockDataInYFinance.append(companyInfo)\n"
     ]
    },
    {
     "name": "stdout",
     "output_type": "stream",
     "text": [
      "[*********************100%***********************]  1 of 1 completed\n"
     ]
    },
    {
     "name": "stderr",
     "output_type": "stream",
     "text": [
      "C:\\Users\\87066\\AppData\\Local\\Temp\\ipykernel_14672\\4037774555.py:30: FutureWarning: The frame.append method is deprecated and will be removed from pandas in a future version. Use pandas.concat instead.\n",
      "  allStockDataInYFinance=allStockDataInYFinance.append(companyInfo)\n"
     ]
    },
    {
     "name": "stdout",
     "output_type": "stream",
     "text": [
      "[*********************100%***********************]  1 of 1 completed\n"
     ]
    },
    {
     "name": "stderr",
     "output_type": "stream",
     "text": [
      "C:\\Users\\87066\\AppData\\Local\\Temp\\ipykernel_14672\\4037774555.py:30: FutureWarning: The frame.append method is deprecated and will be removed from pandas in a future version. Use pandas.concat instead.\n",
      "  allStockDataInYFinance=allStockDataInYFinance.append(companyInfo)\n"
     ]
    },
    {
     "name": "stdout",
     "output_type": "stream",
     "text": [
      "[*********************100%***********************]  1 of 1 completed\n"
     ]
    },
    {
     "name": "stderr",
     "output_type": "stream",
     "text": [
      "C:\\Users\\87066\\AppData\\Local\\Temp\\ipykernel_14672\\4037774555.py:30: FutureWarning: The frame.append method is deprecated and will be removed from pandas in a future version. Use pandas.concat instead.\n",
      "  allStockDataInYFinance=allStockDataInYFinance.append(companyInfo)\n"
     ]
    },
    {
     "name": "stdout",
     "output_type": "stream",
     "text": [
      "[*********************100%***********************]  1 of 1 completed\n"
     ]
    },
    {
     "name": "stderr",
     "output_type": "stream",
     "text": [
      "C:\\Users\\87066\\AppData\\Local\\Temp\\ipykernel_14672\\4037774555.py:30: FutureWarning: The frame.append method is deprecated and will be removed from pandas in a future version. Use pandas.concat instead.\n",
      "  allStockDataInYFinance=allStockDataInYFinance.append(companyInfo)\n"
     ]
    },
    {
     "name": "stdout",
     "output_type": "stream",
     "text": [
      "[*********************100%***********************]  1 of 1 completed\n"
     ]
    },
    {
     "name": "stderr",
     "output_type": "stream",
     "text": [
      "C:\\Users\\87066\\AppData\\Local\\Temp\\ipykernel_14672\\4037774555.py:30: FutureWarning: The frame.append method is deprecated and will be removed from pandas in a future version. Use pandas.concat instead.\n",
      "  allStockDataInYFinance=allStockDataInYFinance.append(companyInfo)\n"
     ]
    },
    {
     "name": "stdout",
     "output_type": "stream",
     "text": [
      "[*********************100%***********************]  1 of 1 completed\n"
     ]
    },
    {
     "name": "stderr",
     "output_type": "stream",
     "text": [
      "C:\\Users\\87066\\AppData\\Local\\Temp\\ipykernel_14672\\4037774555.py:30: FutureWarning: The frame.append method is deprecated and will be removed from pandas in a future version. Use pandas.concat instead.\n",
      "  allStockDataInYFinance=allStockDataInYFinance.append(companyInfo)\n"
     ]
    },
    {
     "name": "stdout",
     "output_type": "stream",
     "text": [
      "[*********************100%***********************]  1 of 1 completed\n"
     ]
    },
    {
     "name": "stderr",
     "output_type": "stream",
     "text": [
      "C:\\Users\\87066\\AppData\\Local\\Temp\\ipykernel_14672\\4037774555.py:30: FutureWarning: The frame.append method is deprecated and will be removed from pandas in a future version. Use pandas.concat instead.\n",
      "  allStockDataInYFinance=allStockDataInYFinance.append(companyInfo)\n"
     ]
    },
    {
     "name": "stdout",
     "output_type": "stream",
     "text": [
      "[*********************100%***********************]  1 of 1 completed\n"
     ]
    },
    {
     "name": "stderr",
     "output_type": "stream",
     "text": [
      "C:\\Users\\87066\\AppData\\Local\\Temp\\ipykernel_14672\\4037774555.py:30: FutureWarning: The frame.append method is deprecated and will be removed from pandas in a future version. Use pandas.concat instead.\n",
      "  allStockDataInYFinance=allStockDataInYFinance.append(companyInfo)\n"
     ]
    },
    {
     "name": "stdout",
     "output_type": "stream",
     "text": [
      "[*********************100%***********************]  1 of 1 completed\n"
     ]
    },
    {
     "name": "stderr",
     "output_type": "stream",
     "text": [
      "C:\\Users\\87066\\AppData\\Local\\Temp\\ipykernel_14672\\4037774555.py:30: FutureWarning: The frame.append method is deprecated and will be removed from pandas in a future version. Use pandas.concat instead.\n",
      "  allStockDataInYFinance=allStockDataInYFinance.append(companyInfo)\n"
     ]
    },
    {
     "name": "stdout",
     "output_type": "stream",
     "text": [
      "[*********************100%***********************]  1 of 1 completed\n"
     ]
    },
    {
     "name": "stderr",
     "output_type": "stream",
     "text": [
      "C:\\Users\\87066\\AppData\\Local\\Temp\\ipykernel_14672\\4037774555.py:30: FutureWarning: The frame.append method is deprecated and will be removed from pandas in a future version. Use pandas.concat instead.\n",
      "  allStockDataInYFinance=allStockDataInYFinance.append(companyInfo)\n"
     ]
    },
    {
     "name": "stdout",
     "output_type": "stream",
     "text": [
      "[*********************100%***********************]  1 of 1 completed\n"
     ]
    },
    {
     "name": "stderr",
     "output_type": "stream",
     "text": [
      "C:\\Users\\87066\\AppData\\Local\\Temp\\ipykernel_14672\\4037774555.py:30: FutureWarning: The frame.append method is deprecated and will be removed from pandas in a future version. Use pandas.concat instead.\n",
      "  allStockDataInYFinance=allStockDataInYFinance.append(companyInfo)\n"
     ]
    },
    {
     "name": "stdout",
     "output_type": "stream",
     "text": [
      "[*********************100%***********************]  1 of 1 completed\n"
     ]
    },
    {
     "name": "stderr",
     "output_type": "stream",
     "text": [
      "C:\\Users\\87066\\AppData\\Local\\Temp\\ipykernel_14672\\4037774555.py:30: FutureWarning: The frame.append method is deprecated and will be removed from pandas in a future version. Use pandas.concat instead.\n",
      "  allStockDataInYFinance=allStockDataInYFinance.append(companyInfo)\n"
     ]
    },
    {
     "name": "stdout",
     "output_type": "stream",
     "text": [
      "[*********************100%***********************]  1 of 1 completed\n"
     ]
    },
    {
     "name": "stderr",
     "output_type": "stream",
     "text": [
      "C:\\Users\\87066\\AppData\\Local\\Temp\\ipykernel_14672\\4037774555.py:30: FutureWarning: The frame.append method is deprecated and will be removed from pandas in a future version. Use pandas.concat instead.\n",
      "  allStockDataInYFinance=allStockDataInYFinance.append(companyInfo)\n"
     ]
    },
    {
     "name": "stdout",
     "output_type": "stream",
     "text": [
      "[*********************100%***********************]  1 of 1 completed\n"
     ]
    },
    {
     "name": "stderr",
     "output_type": "stream",
     "text": [
      "C:\\Users\\87066\\AppData\\Local\\Temp\\ipykernel_14672\\4037774555.py:30: FutureWarning: The frame.append method is deprecated and will be removed from pandas in a future version. Use pandas.concat instead.\n",
      "  allStockDataInYFinance=allStockDataInYFinance.append(companyInfo)\n"
     ]
    },
    {
     "name": "stdout",
     "output_type": "stream",
     "text": [
      "[*********************100%***********************]  1 of 1 completed\n"
     ]
    },
    {
     "name": "stderr",
     "output_type": "stream",
     "text": [
      "C:\\Users\\87066\\AppData\\Local\\Temp\\ipykernel_14672\\4037774555.py:30: FutureWarning: The frame.append method is deprecated and will be removed from pandas in a future version. Use pandas.concat instead.\n",
      "  allStockDataInYFinance=allStockDataInYFinance.append(companyInfo)\n"
     ]
    },
    {
     "name": "stdout",
     "output_type": "stream",
     "text": [
      "[*********************100%***********************]  1 of 1 completed\n"
     ]
    },
    {
     "name": "stderr",
     "output_type": "stream",
     "text": [
      "C:\\Users\\87066\\AppData\\Local\\Temp\\ipykernel_14672\\4037774555.py:30: FutureWarning: The frame.append method is deprecated and will be removed from pandas in a future version. Use pandas.concat instead.\n",
      "  allStockDataInYFinance=allStockDataInYFinance.append(companyInfo)\n"
     ]
    },
    {
     "name": "stdout",
     "output_type": "stream",
     "text": [
      "[*********************100%***********************]  1 of 1 completed\n"
     ]
    },
    {
     "name": "stderr",
     "output_type": "stream",
     "text": [
      "C:\\Users\\87066\\AppData\\Local\\Temp\\ipykernel_14672\\4037774555.py:30: FutureWarning: The frame.append method is deprecated and will be removed from pandas in a future version. Use pandas.concat instead.\n",
      "  allStockDataInYFinance=allStockDataInYFinance.append(companyInfo)\n"
     ]
    },
    {
     "name": "stdout",
     "output_type": "stream",
     "text": [
      "[*********************100%***********************]  1 of 1 completed\n"
     ]
    },
    {
     "name": "stderr",
     "output_type": "stream",
     "text": [
      "C:\\Users\\87066\\AppData\\Local\\Temp\\ipykernel_14672\\4037774555.py:30: FutureWarning: The frame.append method is deprecated and will be removed from pandas in a future version. Use pandas.concat instead.\n",
      "  allStockDataInYFinance=allStockDataInYFinance.append(companyInfo)\n"
     ]
    },
    {
     "name": "stdout",
     "output_type": "stream",
     "text": [
      "[*********************100%***********************]  1 of 1 completed\n"
     ]
    },
    {
     "name": "stderr",
     "output_type": "stream",
     "text": [
      "C:\\Users\\87066\\AppData\\Local\\Temp\\ipykernel_14672\\4037774555.py:30: FutureWarning: The frame.append method is deprecated and will be removed from pandas in a future version. Use pandas.concat instead.\n",
      "  allStockDataInYFinance=allStockDataInYFinance.append(companyInfo)\n"
     ]
    },
    {
     "name": "stdout",
     "output_type": "stream",
     "text": [
      "[*********************100%***********************]  1 of 1 completed\n"
     ]
    },
    {
     "name": "stderr",
     "output_type": "stream",
     "text": [
      "C:\\Users\\87066\\AppData\\Local\\Temp\\ipykernel_14672\\4037774555.py:30: FutureWarning: The frame.append method is deprecated and will be removed from pandas in a future version. Use pandas.concat instead.\n",
      "  allStockDataInYFinance=allStockDataInYFinance.append(companyInfo)\n"
     ]
    },
    {
     "name": "stdout",
     "output_type": "stream",
     "text": [
      "[*********************100%***********************]  1 of 1 completed\n"
     ]
    },
    {
     "name": "stderr",
     "output_type": "stream",
     "text": [
      "C:\\Users\\87066\\AppData\\Local\\Temp\\ipykernel_14672\\4037774555.py:30: FutureWarning: The frame.append method is deprecated and will be removed from pandas in a future version. Use pandas.concat instead.\n",
      "  allStockDataInYFinance=allStockDataInYFinance.append(companyInfo)\n"
     ]
    },
    {
     "name": "stdout",
     "output_type": "stream",
     "text": [
      "[*********************100%***********************]  1 of 1 completed\n"
     ]
    },
    {
     "name": "stderr",
     "output_type": "stream",
     "text": [
      "C:\\Users\\87066\\AppData\\Local\\Temp\\ipykernel_14672\\4037774555.py:30: FutureWarning: The frame.append method is deprecated and will be removed from pandas in a future version. Use pandas.concat instead.\n",
      "  allStockDataInYFinance=allStockDataInYFinance.append(companyInfo)\n"
     ]
    },
    {
     "name": "stdout",
     "output_type": "stream",
     "text": [
      "[*********************100%***********************]  1 of 1 completed\n"
     ]
    },
    {
     "name": "stderr",
     "output_type": "stream",
     "text": [
      "C:\\Users\\87066\\AppData\\Local\\Temp\\ipykernel_14672\\4037774555.py:30: FutureWarning: The frame.append method is deprecated and will be removed from pandas in a future version. Use pandas.concat instead.\n",
      "  allStockDataInYFinance=allStockDataInYFinance.append(companyInfo)\n"
     ]
    },
    {
     "name": "stdout",
     "output_type": "stream",
     "text": [
      "[*********************100%***********************]  1 of 1 completed\n"
     ]
    },
    {
     "name": "stderr",
     "output_type": "stream",
     "text": [
      "C:\\Users\\87066\\AppData\\Local\\Temp\\ipykernel_14672\\4037774555.py:30: FutureWarning: The frame.append method is deprecated and will be removed from pandas in a future version. Use pandas.concat instead.\n",
      "  allStockDataInYFinance=allStockDataInYFinance.append(companyInfo)\n"
     ]
    },
    {
     "name": "stdout",
     "output_type": "stream",
     "text": [
      "[*********************100%***********************]  1 of 1 completed\n"
     ]
    },
    {
     "name": "stderr",
     "output_type": "stream",
     "text": [
      "C:\\Users\\87066\\AppData\\Local\\Temp\\ipykernel_14672\\4037774555.py:30: FutureWarning: The frame.append method is deprecated and will be removed from pandas in a future version. Use pandas.concat instead.\n",
      "  allStockDataInYFinance=allStockDataInYFinance.append(companyInfo)\n"
     ]
    },
    {
     "name": "stdout",
     "output_type": "stream",
     "text": [
      "[*********************100%***********************]  1 of 1 completed\n"
     ]
    },
    {
     "name": "stderr",
     "output_type": "stream",
     "text": [
      "C:\\Users\\87066\\AppData\\Local\\Temp\\ipykernel_14672\\4037774555.py:30: FutureWarning: The frame.append method is deprecated and will be removed from pandas in a future version. Use pandas.concat instead.\n",
      "  allStockDataInYFinance=allStockDataInYFinance.append(companyInfo)\n"
     ]
    },
    {
     "name": "stdout",
     "output_type": "stream",
     "text": [
      "[*********************100%***********************]  1 of 1 completed\n"
     ]
    },
    {
     "name": "stderr",
     "output_type": "stream",
     "text": [
      "C:\\Users\\87066\\AppData\\Local\\Temp\\ipykernel_14672\\4037774555.py:30: FutureWarning: The frame.append method is deprecated and will be removed from pandas in a future version. Use pandas.concat instead.\n",
      "  allStockDataInYFinance=allStockDataInYFinance.append(companyInfo)\n"
     ]
    },
    {
     "name": "stdout",
     "output_type": "stream",
     "text": [
      "[*********************100%***********************]  1 of 1 completed\n"
     ]
    },
    {
     "name": "stderr",
     "output_type": "stream",
     "text": [
      "C:\\Users\\87066\\AppData\\Local\\Temp\\ipykernel_14672\\4037774555.py:30: FutureWarning: The frame.append method is deprecated and will be removed from pandas in a future version. Use pandas.concat instead.\n",
      "  allStockDataInYFinance=allStockDataInYFinance.append(companyInfo)\n"
     ]
    },
    {
     "name": "stdout",
     "output_type": "stream",
     "text": [
      "[*********************100%***********************]  1 of 1 completed\n"
     ]
    },
    {
     "name": "stderr",
     "output_type": "stream",
     "text": [
      "C:\\Users\\87066\\AppData\\Local\\Temp\\ipykernel_14672\\4037774555.py:30: FutureWarning: The frame.append method is deprecated and will be removed from pandas in a future version. Use pandas.concat instead.\n",
      "  allStockDataInYFinance=allStockDataInYFinance.append(companyInfo)\n"
     ]
    },
    {
     "name": "stdout",
     "output_type": "stream",
     "text": [
      "[*********************100%***********************]  1 of 1 completed\n"
     ]
    },
    {
     "name": "stderr",
     "output_type": "stream",
     "text": [
      "C:\\Users\\87066\\AppData\\Local\\Temp\\ipykernel_14672\\4037774555.py:30: FutureWarning: The frame.append method is deprecated and will be removed from pandas in a future version. Use pandas.concat instead.\n",
      "  allStockDataInYFinance=allStockDataInYFinance.append(companyInfo)\n"
     ]
    },
    {
     "name": "stdout",
     "output_type": "stream",
     "text": [
      "[*********************100%***********************]  1 of 1 completed\n"
     ]
    },
    {
     "name": "stderr",
     "output_type": "stream",
     "text": [
      "C:\\Users\\87066\\AppData\\Local\\Temp\\ipykernel_14672\\4037774555.py:30: FutureWarning: The frame.append method is deprecated and will be removed from pandas in a future version. Use pandas.concat instead.\n",
      "  allStockDataInYFinance=allStockDataInYFinance.append(companyInfo)\n"
     ]
    },
    {
     "name": "stdout",
     "output_type": "stream",
     "text": [
      "[*********************100%***********************]  1 of 1 completed\n"
     ]
    },
    {
     "name": "stderr",
     "output_type": "stream",
     "text": [
      "C:\\Users\\87066\\AppData\\Local\\Temp\\ipykernel_14672\\4037774555.py:30: FutureWarning: The frame.append method is deprecated and will be removed from pandas in a future version. Use pandas.concat instead.\n",
      "  allStockDataInYFinance=allStockDataInYFinance.append(companyInfo)\n"
     ]
    },
    {
     "name": "stdout",
     "output_type": "stream",
     "text": [
      "[*********************100%***********************]  1 of 1 completed\n"
     ]
    },
    {
     "name": "stderr",
     "output_type": "stream",
     "text": [
      "C:\\Users\\87066\\AppData\\Local\\Temp\\ipykernel_14672\\4037774555.py:30: FutureWarning: The frame.append method is deprecated and will be removed from pandas in a future version. Use pandas.concat instead.\n",
      "  allStockDataInYFinance=allStockDataInYFinance.append(companyInfo)\n"
     ]
    },
    {
     "name": "stdout",
     "output_type": "stream",
     "text": [
      "[*********************100%***********************]  1 of 1 completed\n"
     ]
    },
    {
     "name": "stderr",
     "output_type": "stream",
     "text": [
      "C:\\Users\\87066\\AppData\\Local\\Temp\\ipykernel_14672\\4037774555.py:30: FutureWarning: The frame.append method is deprecated and will be removed from pandas in a future version. Use pandas.concat instead.\n",
      "  allStockDataInYFinance=allStockDataInYFinance.append(companyInfo)\n"
     ]
    },
    {
     "name": "stdout",
     "output_type": "stream",
     "text": [
      "[*********************100%***********************]  1 of 1 completed\n"
     ]
    },
    {
     "name": "stderr",
     "output_type": "stream",
     "text": [
      "C:\\Users\\87066\\AppData\\Local\\Temp\\ipykernel_14672\\4037774555.py:30: FutureWarning: The frame.append method is deprecated and will be removed from pandas in a future version. Use pandas.concat instead.\n",
      "  allStockDataInYFinance=allStockDataInYFinance.append(companyInfo)\n"
     ]
    },
    {
     "name": "stdout",
     "output_type": "stream",
     "text": [
      "[*********************100%***********************]  1 of 1 completed\n"
     ]
    },
    {
     "name": "stderr",
     "output_type": "stream",
     "text": [
      "C:\\Users\\87066\\AppData\\Local\\Temp\\ipykernel_14672\\4037774555.py:30: FutureWarning: The frame.append method is deprecated and will be removed from pandas in a future version. Use pandas.concat instead.\n",
      "  allStockDataInYFinance=allStockDataInYFinance.append(companyInfo)\n"
     ]
    },
    {
     "name": "stdout",
     "output_type": "stream",
     "text": [
      "[*********************100%***********************]  1 of 1 completed\n"
     ]
    },
    {
     "name": "stderr",
     "output_type": "stream",
     "text": [
      "C:\\Users\\87066\\AppData\\Local\\Temp\\ipykernel_14672\\4037774555.py:30: FutureWarning: The frame.append method is deprecated and will be removed from pandas in a future version. Use pandas.concat instead.\n",
      "  allStockDataInYFinance=allStockDataInYFinance.append(companyInfo)\n"
     ]
    },
    {
     "name": "stdout",
     "output_type": "stream",
     "text": [
      "[*********************100%***********************]  1 of 1 completed\n"
     ]
    },
    {
     "name": "stderr",
     "output_type": "stream",
     "text": [
      "C:\\Users\\87066\\AppData\\Local\\Temp\\ipykernel_14672\\4037774555.py:30: FutureWarning: The frame.append method is deprecated and will be removed from pandas in a future version. Use pandas.concat instead.\n",
      "  allStockDataInYFinance=allStockDataInYFinance.append(companyInfo)\n"
     ]
    },
    {
     "name": "stdout",
     "output_type": "stream",
     "text": [
      "[*********************100%***********************]  1 of 1 completed\n"
     ]
    },
    {
     "name": "stderr",
     "output_type": "stream",
     "text": [
      "C:\\Users\\87066\\AppData\\Local\\Temp\\ipykernel_14672\\4037774555.py:30: FutureWarning: The frame.append method is deprecated and will be removed from pandas in a future version. Use pandas.concat instead.\n",
      "  allStockDataInYFinance=allStockDataInYFinance.append(companyInfo)\n"
     ]
    },
    {
     "name": "stdout",
     "output_type": "stream",
     "text": [
      "[*********************100%***********************]  1 of 1 completed\n"
     ]
    },
    {
     "name": "stderr",
     "output_type": "stream",
     "text": [
      "C:\\Users\\87066\\AppData\\Local\\Temp\\ipykernel_14672\\4037774555.py:30: FutureWarning: The frame.append method is deprecated and will be removed from pandas in a future version. Use pandas.concat instead.\n",
      "  allStockDataInYFinance=allStockDataInYFinance.append(companyInfo)\n"
     ]
    },
    {
     "name": "stdout",
     "output_type": "stream",
     "text": [
      "Cost time: 0:17:46.948663\n"
     ]
    }
   ],
   "source": [
    "stockDataInYFinance=storeAllStockDataForYFinance()\n",
    "stockDataInYFinance.to_csv('stockData/YFinanceRawData.csv', header=stockDataInYFinance.columns,index=False)"
   ],
   "metadata": {
    "collapsed": false,
    "ExecuteTime": {
     "end_time": "2023-05-09T02:04:26.999539Z",
     "start_time": "2023-05-09T01:46:32.378642200Z"
    }
   }
  },
  {
   "cell_type": "code",
   "execution_count": 18,
   "outputs": [
    {
     "name": "stdout",
     "output_type": "stream",
     "text": [
      "length of miss company: 3\n",
      "------------------------------------------------------\n",
      "This is the information for BRK.B\n",
      "[*********************100%***********************]  1 of 1 completed\n",
      "\n",
      "1 Failed download:\n",
      "- BRK.B: No timezone found, symbol may be delisted\n",
      "{'maxAge': 86400, 'priceHint': 2, 'quoteType': 'EQUITY', 'symbol': 'BRK.B', 'underlyingSymbol': 'BRK.B', 'uuid': '5a2c1675-19de-345f-a8c3-a61c958d64f1', 'trailingPegRatio': None}\n",
      "nan\n",
      "------------------------------------------------------\n",
      "------------------------------------------------------\n",
      "This is the information for BF.B\n",
      "[*********************100%***********************]  1 of 1 completed\n",
      "\n",
      "1 Failed download:\n",
      "- BF.B: No data found for this date range, symbol may be delisted\n",
      "{'exchange': 'YHD', 'quoteType': 'MUTUALFUND', 'symbol': 'BF.B', 'underlyingSymbol': 'BF.B', 'timeZoneFullName': 'America/New_York', 'timeZoneShortName': 'EDT', 'uuid': '69748612-d5d0-36f5-be88-ea00a370321d', 'gmtOffSetMilliseconds': -14400000, 'maxAge': 86400, 'trailingPegRatio': None}\n",
      "nan\n",
      "------------------------------------------------------\n",
      "------------------------------------------------------\n",
      "This is the information for CAT\n",
      "[*********************100%***********************]  1 of 1 completed\n",
      "{'maxAge': 86400, 'priceHint': 2, 'previousClose': 215.09, 'open': 216.44, 'dayLow': 213.63, 'dayHigh': 218.11, 'regularMarketPreviousClose': 215.09, 'regularMarketOpen': 216.44, 'regularMarketDayLow': 213.63, 'regularMarketDayHigh': 218.11, 'trailingPE': 15.886833, 'forwardPE': 11.860297, 'volume': 2366629, 'regularMarketVolume': 2366629, 'averageVolume': 3147613, 'averageVolume10days': 3485070, 'averageDailyVolume10Day': 3485070, 'bid': 214.08, 'ask': 214.99, 'bidSize': 800, 'askSize': 1200, 'marketCap': 110905950208, 'fiftyTwoWeekLow': 160.6, 'fiftyTwoWeekHigh': 266.04, 'fiftyDayAverage': 224.787, 'twoHundredDayAverage': 216.9991, 'trailingAnnualDividendRate': 3.6, 'trailingAnnualDividendYield': 0.01673718, 'currency': 'USD', 'exchange': 'NYQ', 'quoteType': 'EQUITY', 'symbol': 'CAT', 'underlyingSymbol': 'CAT', 'shortName': 'Caterpillar, Inc.', 'longName': 'Caterpillar Inc.', 'firstTradeDateEpochUtc': -252322200, 'timeZoneFullName': 'America/New_York', 'timeZoneShortName': 'EDT', 'uuid': 'c01ae1a5-f122-325c-a567-5f86028b536a', 'messageBoardId': 'finmb_259378', 'gmtOffSetMilliseconds': -14400000, 'currentPrice': 214.79, 'targetHighPrice': 300.0, 'targetLowPrice': 175.0, 'targetMeanPrice': 239.33, 'targetMedianPrice': 240.0, 'recommendationMean': 2.7, 'recommendationKey': 'hold', 'numberOfAnalystOpinions': 24, 'grossProfits': 15565000000, 'financialCurrency': 'USD', 'trailingPegRatio': 1.4198}\n",
      "nan\n",
      "------------------------------------------------------\n"
     ]
    }
   ],
   "source": [
    "###验证一下有多少个查漏了\n",
    "stockDataInYFinance=pd.read_csv('stockData/YFinanceRawData.csv')\n",
    "uniqueCompany=stockDataInYFinance['name'].unique()\n",
    "missedList=[]\n",
    "for ticker in tickers:\n",
    "    if ticker not in uniqueCompany:\n",
    "        missedList.append(ticker)\n",
    "\n",
    "print(\"length of miss company: {}\".format(len(missedList)))\n",
    "###总共有3个公司遗漏\n",
    "\n",
    "###手动查询\n",
    "for company in missedList:\n",
    "    print(\"------------------------------------------------------\")\n",
    "    print(\"This is the information for {}\".format(company))\n",
    "    print(getStockDataInYFinance(name=company))\n",
    "    print(\"------------------------------------------------------\")\n",
    "###经过调查，属于信息不完善，有的连公司信息都不全"
   ],
   "metadata": {
    "collapsed": false,
    "ExecuteTime": {
     "end_time": "2023-05-09T02:04:35.216590300Z",
     "start_time": "2023-05-09T02:04:26.998541500Z"
    }
   }
  },
  {
   "cell_type": "code",
   "execution_count": 18,
   "outputs": [],
   "source": [],
   "metadata": {
    "collapsed": false,
    "ExecuteTime": {
     "end_time": "2023-05-09T02:04:35.230586100Z",
     "start_time": "2023-05-09T02:04:35.208611400Z"
    }
   }
  }
 ],
 "metadata": {
  "kernelspec": {
   "display_name": "Python 3",
   "language": "python",
   "name": "python3"
  },
  "language_info": {
   "codemirror_mode": {
    "name": "ipython",
    "version": 2
   },
   "file_extension": ".py",
   "mimetype": "text/x-python",
   "name": "python",
   "nbconvert_exporter": "python",
   "pygments_lexer": "ipython2",
   "version": "2.7.6"
  }
 },
 "nbformat": 4,
 "nbformat_minor": 0
}
