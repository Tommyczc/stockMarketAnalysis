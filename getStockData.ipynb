{
 "cells": [
  {
   "cell_type": "markdown",
   "source": [
    "# 1.0 Get Data Of Stock Market\n",
    "\n",
    "* 本篇代码用来查询所有股票数据，所有导出的数据都将导出到stockdata文件夹内，方便管理查看。\n",
    "* 平台api方面，国内用tushare，国外用的雅虎。\n",
    "* 本篇代码也计划用来做数据清洗并且数据展示，处理好的文件也存在stockdata文件夹里面。"
   ],
   "metadata": {
    "collapsed": false
   }
  },
  {
   "cell_type": "code",
   "execution_count": null,
   "outputs": [],
   "source": [
    "print(\"Hello,stock market\")\n",
    "from datetime import datetime\n",
    "start_time = datetime.now()\n",
    "import time\n",
    "import numpy as np\n",
    "## todo: calculating the time of import libraries\n",
    "#先引入后面分析、可视化等可能用到的库\n",
    "import tushare as ts\n",
    "import pandas as pd\n",
    "import matplotlib.pyplot as plt\n",
    "#正常显示画图时出现的中文和负号\n",
    "from pylab import mpl\n",
    "import yfinance as yf\n",
    "import matplotlib.dates as mdates\n",
    "import seaborn as sns\n",
    "# todo: solve chinese problem for plt\n",
    "mpl.rcParams['font.sans-serif']=['SimHei']\n",
    "mpl.rcParams['axes.unicode_minus']=False\n",
    "\n",
    "#显示所有列\n",
    "# pd.set_option('display.max_columns', 100)\n",
    "# #显示所有行\n",
    "# pd.set_option('display.max_rows', 100)\n",
    "# #设置value的显示长度为100，默认为50\n",
    "# pd.set_option('max_colwidth',100)\n",
    "print(\"Load Time: \",datetime.now()-start_time)"
   ],
   "metadata": {
    "collapsed": false
   }
  },
  {
   "cell_type": "markdown",
   "source": [
    "## 1.1 use tushare api get data"
   ],
   "metadata": {
    "collapsed": false
   }
  },
  {
   "cell_type": "code",
   "execution_count": null,
   "outputs": [],
   "source": [
    "# login tushare, use token\n",
    "pro = ts.pro_api('f3987990df2a25038e5123dd321b5ed941048135b923e9c6415f20e1')\n",
    "\n",
    "def getStockCompanyInformation(status='L', stock_code=''):\n",
    "    \"\"\"\n",
    "    得到目前所有的股票公司信息\n",
    "    :param status: 上市状态 L上市 D退市 P暂停上市，默认是L\n",
    "    :param stock_code: TS股票代码\n",
    "    :return:\n",
    "    \"\"\"\n",
    "\n",
    "    if stock_code== '':\n",
    "        rawStockCompanyDataInTushare = pro.stock_basic(exchange='', list_status=status, fields='ts_code,symbol,fullname,enname,name,area,industry,list_date')\n",
    "    else:\n",
    "        rawStockCompanyDataInTushare = pro.stock_basic(ts_code=stock_code, exchange='', list_status=status, fields='ts_code,symbol,fullname,enname,name,area,industry,list_date')\n",
    "\n",
    "    rawStockCompanyDataInTushare['ts_code']=rawStockCompanyDataInTushare['ts_code'].astype(str)\n",
    "    rawStockCompanyDataInTushare['symbol']=rawStockCompanyDataInTushare['symbol'].astype('float64')\n",
    "    rawStockCompanyDataInTushare['name']=rawStockCompanyDataInTushare['name'].astype(str)\n",
    "    rawStockCompanyDataInTushare['area']=rawStockCompanyDataInTushare['area'].astype(str)\n",
    "    rawStockCompanyDataInTushare['industry']=rawStockCompanyDataInTushare['industry'].astype(str)\n",
    "    rawStockCompanyDataInTushare['fullname']=rawStockCompanyDataInTushare['fullname'].astype(str)\n",
    "    rawStockCompanyDataInTushare['enname']=rawStockCompanyDataInTushare['enname'].astype(str)\n",
    "    rawStockCompanyDataInTushare['list_date']=rawStockCompanyDataInTushare['list_date'].astype('float64')\n",
    "\n",
    "    rawStockCompanyDataInTushare['list_date']=pd.to_datetime(rawStockCompanyDataInTushare['list_date'], format='%Y%m%d')\n",
    "    return rawStockCompanyDataInTushare\n",
    "\n",
    "\n",
    "# 拉取数据\n",
    "def getDailyStockData(stock_code=\"\",start=\"20130101\",end=\"20230101\"):\n",
    "    \"\"\"\n",
    "    拉取股票日结交易信息，时间段默认 2018-1-1 到 2022-1-1，注意：该函数单次只能查询6000条记录。\n",
    "    :param stock_code: 股票代码，默认为空，输入为空的时候，拉取这段时期所有股票的交易消息；若不为空，拉去这只股票这段时间的交易消息\n",
    "    :param start: 开始日期\n",
    "    :param end: 结束日期\n",
    "    :return:\n",
    "    \"\"\"\n",
    "    rawData = pro.daily(**{\n",
    "        \"ts_code\": stock_code,\n",
    "        \"trade_date\": \"\",\n",
    "        \"start_date\": start,\n",
    "        \"end_date\": end,\n",
    "        \"offset\": \"\",\n",
    "        \"limit\": \"\",\n",
    "    }, fields=[\n",
    "        \"ts_code\",\n",
    "        \"trade_date\",\n",
    "        \"open\",\n",
    "        \"high\",\n",
    "        \"low\",\n",
    "        \"close\",\n",
    "        \"pre_close\",\n",
    "        \"change\",\n",
    "        \"pct_chg\",\n",
    "        \"vol\",\n",
    "        \"amount\"\n",
    "    ])\n",
    "    rawData['ts_code']=rawData['ts_code'].astype(str)\n",
    "    rawData['trade_date']=rawData['trade_date'].astype('float64')\n",
    "\n",
    "    rawData['trade_date']=pd.to_datetime(rawData['trade_date'], format='%Y%m%d')\n",
    "    return rawData"
   ],
   "metadata": {
    "collapsed": false
   }
  },
  {
   "cell_type": "code",
   "execution_count": null,
   "outputs": [],
   "source": [
    "# rawCompanyDataInTushare=getStockCompanyInformation()\n",
    "# rawCompanyDataInTushare.to_csv('stockData/rawCompanyDataInTushare.csv', header=rawCompanyDataInTushare.columns, index=False)\n",
    "rawCompanyDataInTushare=pd.read_csv('stockData/rawCompanyDataInTushare.csv')\n",
    "print(\"The shape of the data frame: {}\".format(rawCompanyDataInTushare.shape))\n",
    "print(\"The types in the data frame {}\".format(rawCompanyDataInTushare.dtypes))\n",
    "rawCompanyDataInTushare"
   ],
   "metadata": {
    "collapsed": false
   }
  },
  {
   "cell_type": "code",
   "execution_count": null,
   "outputs": [],
   "source": [
    "# rawDailyDataInTushare=getDailyStockData()\n",
    "# print(\"The shape of the data frame: {}\".format(rawDailyDataInTushare.shape))\n",
    "# print(\"The types in the data frame:\\n{}\".format(rawDailyDataInTushare.dtypes))\n",
    "# print(\"The unique stock code: {}\".format(len(rawDailyDataInTushare['ts_code'].unique())))\n",
    "# rawDailyDataInTushare"
   ],
   "metadata": {
    "collapsed": false
   }
  },
  {
   "cell_type": "code",
   "execution_count": null,
   "outputs": [],
   "source": [
    "##test api\n",
    "# testDailyStockData=getDailyStockData(stock_code=\"000006.SZ\")\n",
    "# testDailyStockData"
   ],
   "metadata": {
    "collapsed": false
   }
  },
  {
   "cell_type": "code",
   "execution_count": null,
   "outputs": [],
   "source": [
    "###由于Toshare社区限制每次查询只能拿到 6000 行日结交易信息（每日每公司为一行），而且每分钟只能查500次。为了得到当前所有上市公司，每次查询只查一家上市公司而且将会延迟0.2秒\n",
    "def bindDailyAndCompanyInformation():\n",
    "    notIncludedData=['name']\n",
    "\n",
    "    startTime=datetime.now()\n",
    "    companies=getStockCompanyInformation()\n",
    "    bindData=pd.DataFrame()\n",
    "    i=2\n",
    "    for company in companies['ts_code'].to_numpy():\n",
    "        dailyData=getDailyStockData(stock_code=company)\n",
    "        for header in companies.columns:\n",
    "            if header!=\"ts_code\":\n",
    "                #test only\n",
    "                # print(\"------------------------------------\")\n",
    "                # print(companies[companies['ts_code'] == company][header].values.repeat(5))\n",
    "                # print(dailyData.shape[0])\n",
    "                # print(\"------------------------------------\")\n",
    "                dailyData[header]= companies[companies['ts_code'] == company][header].values.repeat(dailyData.shape[0])\n",
    "\n",
    "        dailyData=dailyData.drop(columns=notIncludedData)\n",
    "        bindData=bindData.append(dailyData)\n",
    "        #time.sleep(0.15)\n",
    "        ###########test only\n",
    "        #print(dailyData)\n",
    "        # if i==1:\n",
    "        #     break\n",
    "        # else:\n",
    "        #     i-=1\n",
    "        ###########\n",
    "    timeConsume=datetime.now()-startTime\n",
    "    print(\"Run time: {}\".format(timeConsume))\n",
    "    return bindData\n"
   ],
   "metadata": {
    "collapsed": false
   }
  },
  {
   "cell_type": "code",
   "execution_count": null,
   "outputs": [],
   "source": [
    "###此cell仅用于下载股票数据，由于信息量庞大，可导入下好的 TushareRawData.csv 文件即可\n",
    "# theBindDataInTushare=bindDailyAndCompanyInformation()\n",
    "# print(\"The shape of the data frame: {}\".format(theBindDataInTushare.shape))\n",
    "# print(\"The types in the data frame:\\n{}\".format(theBindDataInTushare.dtypes))\n",
    "# print(\"The unique stock code: {}\".format(len(theBindDataInTushare['ts_code'].unique())))\n",
    "# theBindDataInTushare.to_csv('stockData/TushareRawData.csv', header=theBindDataInTushare.columns, index=False)"
   ],
   "metadata": {
    "collapsed": false
   }
  },
  {
   "cell_type": "code",
   "execution_count": null,
   "outputs": [],
   "source": [
    "###此cell是本地读取tushare股票信息，如果本地有csv文件就用这个，并且注释上一个cell，如果没下载csv文件就取消注释上一个cell\n",
    "theBindDataInTushare=pd.read_csv('stockData/TushareRawData.csv')\n",
    "print(\"The shape of the data frame: {}\".format(theBindDataInTushare.shape))\n",
    "print(\"The types in the data frame:\\n{}\".format(theBindDataInTushare.dtypes))\n",
    "print(\"The unique stock code: {}\".format(len(theBindDataInTushare['ts_code'].unique())))"
   ],
   "metadata": {
    "collapsed": false
   }
  },
  {
   "cell_type": "code",
   "execution_count": null,
   "outputs": [],
   "source": [
    "###todo 不知道为什么有100家公司查不到，手动查询看看情况，然后手动合并吧\n",
    "missedCompany=[]\n",
    "bindCompany=theBindDataInTushare['ts_code'].unique()\n",
    "for code in rawCompanyDataInTushare['ts_code'].values:\n",
    "    if code not in bindCompany:\n",
    "        missedCompany.append(code)\n",
    "\n",
    "\n",
    "# for code in missedCompany:\n",
    "#     print(\"-------------------------------------\")\n",
    "#     print(getDailyStockData(stock_code=code,end=\"20220505\"))\n",
    "#     print(getStockCompanyInformation(stock_code=code))\n",
    "#     print(\"-------------------------------------\")\n",
    "\n",
    "print(\"The num of miss company: {}\".format(len(missedCompany)))\n",
    "\n",
    "###todo 这些股票查不到，这些公司基本都是2023年上市的，可能数据还没更新吧"
   ],
   "metadata": {
    "collapsed": false
   }
  },
  {
   "cell_type": "code",
   "execution_count": null,
   "outputs": [],
   "source": [
    "print(\"The number of industry: {}\".format(len(theBindDataInTushare['industry'].unique())))\n",
    "print(\"The exact number of company: {}\".format(len(theBindDataInTushare['ts_code'].unique())))\n",
    "# print(\"--------------------------------------------------------\\n\"+\"The industries: {}\".format(theBindDataInTushare['industry'].unique()))\n",
    "\n",
    "theCounter={}\n",
    "uniqueList=rawCompanyDataInTushare['industry'].values\n",
    "for industry in uniqueList:\n",
    "    if industry in theCounter:\n",
    "        theCounter[industry]+=1\n",
    "    else:\n",
    "        theCounter[industry]=1\n",
    "theCounter=sorted(theCounter.items(), key = lambda kv:kv[1],reverse=True)\n",
    "print(\"--------------------------------------------------------\\n\"+\"the number of company in different industry:\\n {}\".format(theCounter))"
   ],
   "metadata": {
    "collapsed": false
   }
  },
  {
   "cell_type": "markdown",
   "source": [
    "### test science data"
   ],
   "metadata": {
    "collapsed": false
   }
  },
  {
   "cell_type": "code",
   "execution_count": null,
   "outputs": [],
   "source": [
    "TCLStock=theBindDataInTushare[theBindDataInTushare['ts_code']==\"000100.SZ\"].sort_values(by='trade_date',ascending=True)\n",
    "plt.figure(figsize=(12,8))\n",
    "ax = plt.gca()\n",
    "locator = mdates.DayLocator(interval=30*3)\n",
    "ax.xaxis.set_major_locator(locator)\n",
    "plt.gcf().autofmt_xdate()\n",
    "plt.plot(TCLStock['trade_date'],TCLStock['high'],label=\"high\")\n",
    "plt.plot(TCLStock['trade_date'],TCLStock['low'],label=\"low\")\n",
    "plt.xlabel(\"Date\")\n",
    "plt.ylabel(\"Amount\")\n",
    "plt.title('TCL100')\n",
    "plt.legend()   #打上标签\n",
    "plt.show()\n",
    "TCLStock"
   ],
   "metadata": {
    "collapsed": false
   }
  },
  {
   "cell_type": "markdown",
   "source": [
    "### 1.1.1 大盘整体趋势"
   ],
   "metadata": {
    "collapsed": false
   }
  },
  {
   "cell_type": "code",
   "execution_count": null,
   "outputs": [],
   "source": [
    "theTrendResult=theBindDataInTushare.groupby('trade_date')[['close','open']].mean()\n",
    "\n",
    "plt.figure(figsize=(16,8))\n",
    "ax = plt.gca()\n",
    "locator = mdates.DayLocator(interval=30*3)\n",
    "ax.xaxis.set_major_locator(locator)\n",
    "plt.gcf().autofmt_xdate()\n",
    "plt.plot(theTrendResult['open'],label=\"open\")\n",
    "plt.plot(theTrendResult['close'],label=\"close\")\n",
    "plt.xlabel(\"Date\")\n",
    "plt.ylabel(\"Amount (RMB)\")\n",
    "plt.title('The Trend')\n",
    "plt.legend()   #打上标签\n",
    "plt.show()\n",
    "\n",
    "theTrendResult"
   ],
   "metadata": {
    "collapsed": false
   }
  },
  {
   "cell_type": "markdown",
   "source": [
    "### 1.1.2 各个行业领域大盘\n",
    "\n",
    "注意: 该cell运行会绘制大量的图表，图表都被保存好了，如果不想运行可以查看路径stockData/tableForIndustry/raw"
   ],
   "metadata": {
    "collapsed": false
   }
  },
  {
   "cell_type": "code",
   "execution_count": null,
   "outputs": [],
   "source": [
    "###生成各个领域的平均总览图标\n",
    "#\n",
    "# for i in list(theIndustryGroupedTrendResult):\n",
    "#     plt.figure(figsize=(16,8))\n",
    "#     x = np.arange(0, 300, 20)\n",
    "#     plt.yticks(x)\n",
    "#     i[-1]['close'].plot()\n",
    "#     plt.xlabel(\"Date\")\n",
    "#     plt.ylabel(\"Amount (RMB)\")\n",
    "#     plt.title(\"The Industry Trend: {}\".format(i[-1]['industry'].unique()[0]))\n",
    "#     plt.legend()   #打上标签\n",
    "#\n",
    "#     ###下载图表\n",
    "#     # plt.savefig(\"stockData/tableForIndustry/raw/industryTablesFor{}.jpg\".format(format(i[-1]['industry'].unique()[0])))\n",
    "#\n",
    "# plt.show()\n",
    "#\n",
    "# theIndustryTrendResult"
   ],
   "metadata": {
    "collapsed": false
   }
  },
  {
   "cell_type": "markdown",
   "source": [
    "### 1.1.3 数据异常处理 (industry 为 none，建议优化)\n",
    "注意: 行业总共110种，很多，在模型里面本身是建议降维的; 而且有些行业重复，例如金属被分成好几个领域，但是不建议归类，因为这些行业的走势都不一样，建议保留，等后续讨论。\n",
    "\n",
    "目前计划拿到这些公司的产品与介绍，nle分析并将其分类到合适的种类"
   ],
   "metadata": {
    "collapsed": false
   }
  },
  {
   "cell_type": "code",
   "execution_count": null,
   "outputs": [],
   "source": [
    "### 目前已知的行业有110种，还有一种没有归类，现在尝试归类\n",
    "print(\"the number of company with none industry: {}\".format(len(theBindDataInTushare[theBindDataInTushare['industry'] == np.nan]['ts_code'].unique())))\n",
    "\n",
    "\n",
    "###查询行业缺失的公司简介与产品名称\n",
    "# noneIndustryCodeList=theBindDataInTushare[theBindDataInTushare['industry'] == \"None\"]['ts_code'].unique()\n",
    "# noneIndustryDF=pd.DataFrame()\n",
    "# now=datetime.now()\n",
    "# for code in noneIndustryCodeList:\n",
    "#     ###该接口每分钟最多10次，尼玛得搞16分钟，之后会存在stockData/CompanyIntroductionWithNoneIndustry.csv\n",
    "#     noneIndustrydf = pro.stock_company(ts_code=code, fields='ts_code,introduction,main_business')\n",
    "#     noneIndustryDF=noneIndustryDF.append(noneIndustrydf)\n",
    "#     time.sleep(6)\n",
    "#\n",
    "# noneIndustryDF.to_csv(\"stockData/CompanyIntroductionWithNoneIndustry.csv\")\n",
    "# print(\"cost time: {}\".format(datetime.now()-now))\n",
    "\n",
    "\n",
    "\n",
    "###查询行业已知的公司简介与产品名称\n",
    "# knownIndustryCodeList=theBindDataInTushare[theBindDataInTushare['industry'] != \"None\"]['ts_code'].unique()\n",
    "# knownIndustryDF=pd.DataFrame()\n",
    "# now=datetime.now()\n",
    "# for code in knownIndustryCodeList:\n",
    "#     ###该接口每分钟最多10次，尼玛得搞16分钟，之后会存在stockData/CompanyIntroductionWithNoneIndustry.csv\n",
    "#     knownIndustrydf = pro.stock_company(ts_code=code, fields='ts_code,introduction,main_business')\n",
    "#     knownIndustryDF=knownIndustryDF.append(knownIndustrydf)\n",
    "#     time.sleep(6)\n",
    "#\n",
    "# knownIndustryDF.to_csv(\"stockData/CompanyIntroductionWithKnownIndustry.csv\")\n",
    "# print(\"cost time: {}\".format(datetime.now()-now))\n",
    "\n",
    "\n",
    "noneIndustryDF=pd.read_csv(\"stockData/CompanyIntroductionWithNoneIndustry.csv\")\n",
    "\n",
    "knownIndustryDF=pd.read_csv(\"stockData/CompanyIntroductionWithKnownIndustry.csv\")"
   ],
   "metadata": {
    "collapsed": false
   }
  },
  {
   "cell_type": "code",
   "execution_count": null,
   "outputs": [],
   "source": [
    "noneIndustryDF['industry']=noneIndustryDF.apply(lambda x:rawCompanyDataInTushare[x['ts_code']==rawCompanyDataInTushare['ts_code']]['industry'].values,axis=1)\n",
    "noneIndustryDF"
   ],
   "metadata": {
    "collapsed": false
   }
  },
  {
   "cell_type": "code",
   "execution_count": null,
   "outputs": [],
   "source": [
    "knownIndustryDF['industry']=knownIndustryDF.apply(lambda x:rawCompanyDataInTushare[x['ts_code']==rawCompanyDataInTushare['ts_code']]['industry'].values[0],axis=1)\n",
    "knownIndustryDF=knownIndustryDF[knownIndustryDF['industry']!='None']\n",
    "print(\"行业数量（不包括None）: {}\\n行业:{}\".format(len(knownIndustryDF['industry'].unique()),knownIndustryDF['industry'].unique()))\n",
    "knownIndustryDF"
   ],
   "metadata": {
    "collapsed": false
   }
  },
  {
   "cell_type": "code",
   "execution_count": null,
   "outputs": [],
   "source": [
    "###分词\n",
    "import jieba\n",
    "import re\n",
    "\n",
    "def getStopWords(url):\n",
    "    with open(\"NLP/stopwords/hit_stopwords.txt\",'r',encoding='utf8') as f:\n",
    "        stopword = f.readlines()\n",
    "    return [i.replace('\\n','') for i in stopword]\n",
    "\n",
    "def tokenizPara(text,stopword):\n",
    "    sentences=re.split('，|_|-|!|。|, ',text.strip())\n",
    "    cutSentences=[]\n",
    "\n",
    "    for sentence in sentences:\n",
    "        ex=\"///\".join(jieba.lcut(sentence))\n",
    "        cutSentences+=ex.split('///')\n",
    "\n",
    "    afterStop=list(set(cutSentences).difference(set(stopword)))\n",
    "    afterStop=[i for i in afterStop if len(i)>1 and not i.isdigit()]\n",
    "    return afterStop\n",
    "\n",
    "def getVector(words):\n",
    "    \"\"\"\n",
    "    得到该句子的词向量总和\n",
    "    :param words: 字符串列表\n",
    "    \"\"\"\n",
    "    return\n",
    "\n",
    "###加载stopword\n",
    "cn_stopwords=getStopWords(\"NLP/stopwords/cn_stopwords.txt\")\n",
    "baidu_stopword=getStopWords(\"NLP/stopwords/baidu_stopwords.txt\")\n",
    "hit_stopword=getStopWords(\"NLP/stopwords/hit_stopwords.txt\")\n",
    "scu_stopword=getStopWords(\"NLP/stopwords/scu_stopwords.txt\")\n",
    "myStopword=['一家','','目前']\n",
    "stopword_list=cn_stopwords+hit_stopword+baidu_stopword+scu_stopword+myStopword\n",
    "\n",
    "\n",
    "unknownIndustryParagraphs=[]\n",
    "for item in noneIndustryDF.values:\n",
    "    tokens=tokenizPara(item[2],stopword_list)\n",
    "    unknownIndustryParagraphs.append(tokens)\n",
    "\n",
    "knownIndustryParagraphs=[]\n",
    "for item in knownIndustryDF.values:\n",
    "    tokens=tokenizPara(item[2],stopword_list)\n",
    "    knownIndustryParagraphs.append(tokens)\n",
    "\n",
    "\n",
    "# print(\"------------------------------------\\n\"\n",
    "#       \"unknowIndustry:\\n{}\"\n",
    "#       \"\\n------------------------------------\\n\"\n",
    "#       \"knowIndustry:\\n{}\".format(unknownIndustryParagraphs[:3],knownIndustryParagraphs[:3]))\n",
    "\n",
    "knownIndustryDF['keyword']=knownIndustryParagraphs\n",
    "noneIndustryDF['keyword']=unknownIndustryParagraphs\n",
    "\n",
    "###根据行业合并文本，合并材料\n",
    "introductionByIndustry=pd.DataFrame()\n",
    "for intro in list(knownIndustryDF.groupby('industry')):\n",
    "    paras=[]\n",
    "    AllIntroduction=[]\n",
    "    for para in intro[1][['keyword','introduction']].values:\n",
    "        paras+=para[0]\n",
    "        AllIntroduction.append(para[1])\n",
    "\n",
    "    row={'industry':intro[0],'keywords':[paras],'AllIntro':[AllIntroduction],'frequency':paras.count()}\n",
    "    introductionByIndustry=pd.concat([pd.DataFrame.from_dict(row),introductionByIndustry])\n",
    "\n",
    "introductionByIndustry['cut_keywords']=introductionByIndustry.apply(lambda x:\" \".join(x['keywords']), axis=1)\n",
    "\n",
    "introductionByIndustry"
   ],
   "metadata": {
    "collapsed": false
   }
  },
  {
   "cell_type": "code",
   "execution_count": null,
   "outputs": [],
   "source": [
    "###todo 准备句向量模型\n",
    "import gensim\n",
    "from gensim.models import KeyedVectors\n",
    "model = KeyedVectors.load_word2vec_format('E:\\\\tencent-ailab-embedding-zh-d100-v0.2.0\\\\tencent-ailab-embedding-zh-d100-v0.2.0.txt', binary=False)"
   ],
   "metadata": {
    "collapsed": false
   }
  },
  {
   "cell_type": "code",
   "execution_count": null,
   "outputs": [],
   "source": [
    "def getWordVector(groupedSentences,sentence,w2v_model=model):\n",
    "\n",
    "    return\n",
    "\n",
    "\n",
    "for index, row in introductionByIndustry.iterrows():\n",
    "    print(\"industry: {}, score: {}\".format(row['industry'],model.n_similarity(noneIndustryDF['keyword'].values[0],row['keywords'])))\n",
    "\n",
    "print(\"原文: {}\".format(noneIndustryDF['introduction'].values[0]))\n",
    "# model.n_similarity(['美国','银行','破产','导致','国内','动荡'],['银行','导致','经济','大萧条'])"
   ],
   "metadata": {
    "collapsed": false
   }
  },
  {
   "cell_type": "code",
   "execution_count": null,
   "outputs": [],
   "source": [
    "###todo 验证\n"
   ],
   "metadata": {
    "collapsed": false
   }
  },
  {
   "cell_type": "markdown",
   "source": [
    "如果写到这一步，证明主题分类的模型已经写好了，虽然不知道质量怎么样hhh。其实说真的，缺失行业标记的公司不过才164家，人力做的话几天就能写完了，不过我没做过中文的词义分析，这算是一个nlp的开始吧，但是说真的太麻烦了，希望以后有高效的方法，"
   ],
   "metadata": {
    "collapsed": false
   }
  },
  {
   "cell_type": "code",
   "execution_count": null,
   "outputs": [],
   "source": [
    "### todo 泛化"
   ],
   "metadata": {
    "collapsed": false
   }
  },
  {
   "cell_type": "markdown",
   "source": [
    "## 1.2 use yfinance (雅虎非官方API) api get stock data"
   ],
   "metadata": {
    "collapsed": false
   }
  },
  {
   "cell_type": "code",
   "execution_count": null,
   "outputs": [],
   "source": [
    "#测试api\n",
    "data = yf.download(tickers='AMD',start='2013-01-1',end='2023-01-01')\n",
    "print(\"The types in the data frame:\\n{}\".format(data.dtypes))\n",
    "data"
   ],
   "metadata": {
    "collapsed": false
   }
  },
  {
   "cell_type": "code",
   "execution_count": null,
   "outputs": [],
   "source": [
    "amd = yf.Ticker(\"AMD\")\n",
    "info=pd.DataFrame.from_dict(amd.info)\n",
    "print(\"The types in the data frame:\\n{}\".format(info.dtypes))\n",
    "info"
   ],
   "metadata": {
    "collapsed": false
   }
  },
  {
   "cell_type": "code",
   "execution_count": null,
   "outputs": [],
   "source": [
    "data[\"Close\"].plot()\n",
    "plt.show()"
   ],
   "metadata": {
    "collapsed": false
   }
  },
  {
   "cell_type": "code",
   "execution_count": null,
   "outputs": [],
   "source": [
    "##获取标普500股票公司名字\n",
    "import bs4 as bs\n",
    "import requests\n",
    "\n",
    "###爬取维基百科标普500公司名称\n",
    "resp = requests.get('http://en.wikipedia.org/wiki/List_of_S%26P_500_companies')\n",
    "soup = bs.BeautifulSoup(resp.text, 'lxml')\n",
    "table = soup.find('table', {'class': 'wikitable sortable'})\n",
    "\n",
    "###筛选元素\n",
    "tickers = []\n",
    "for row in table.findAll('tr')[1:]:\n",
    "   ticker = row.findAll('td')[0].text\n",
    "   ticker=ticker.replace(\"\\n\",\"\")\n",
    "   tickers.append(ticker)\n",
    "\n",
    "\n",
    "tickers"
   ],
   "metadata": {
    "collapsed": false
   }
  },
  {
   "cell_type": "code",
   "execution_count": null,
   "outputs": [],
   "source": [
    "def getStockDataInYFinance(name,start='2013-01-1',end='2023-01-01'):\n",
    "    includedList=['country','zip','industry','sector']\n",
    "    data = yf.download(tickers=name,start=start,end=end)\n",
    "    data['trade_date'] = data.index\n",
    "    company = yf.Ticker(name)\n",
    "    try:\n",
    "        companyInfo=pd.DataFrame.from_dict(company.info)\n",
    "    except BaseException:\n",
    "        print(company.info)\n",
    "        return np.nan\n",
    "    else:\n",
    "        data['name']=[name]*data.shape[0]\n",
    "        for column in companyInfo.columns:\n",
    "            if column in includedList:\n",
    "                data[column]=np.array([companyInfo[column].values[0]]).repeat(data.shape[0])\n",
    "\n",
    "    return data\n",
    "\n",
    "\n",
    "### get all stock data and store them\n",
    "def storeAllStockDataForYFinance():\n",
    "    now=datetime.now()\n",
    "    allStockDataInYFinance=pd.DataFrame()\n",
    "    for company in tickers:\n",
    "        companyInfo=getStockDataInYFinance(company)\n",
    "        if companyInfo is np.nan:\n",
    "            print(\"break, company {} data is null\")\n",
    "            continue\n",
    "        else:\n",
    "            allStockDataInYFinance=allStockDataInYFinance.append(companyInfo)\n",
    "    print(\"Cost time: {}\".format(datetime.now()-now))\n",
    "    return allStockDataInYFinance"
   ],
   "metadata": {
    "collapsed": false
   }
  },
  {
   "cell_type": "code",
   "execution_count": null,
   "outputs": [],
   "source": [
    "getStockDataInYFinance(tickers[0]).dtypes"
   ],
   "metadata": {
    "collapsed": false
   }
  },
  {
   "cell_type": "code",
   "execution_count": null,
   "outputs": [],
   "source": [
    "###仅用于下载yfinance 股票数据\n",
    "# stockDataInYFinance=storeAllStockDataForYFinance()\n",
    "# stockDataInYFinance.to_csv('stockData/YFinanceRawData.csv', header=stockDataInYFinance.columns,index=False)"
   ],
   "metadata": {
    "collapsed": false
   }
  },
  {
   "cell_type": "code",
   "execution_count": null,
   "outputs": [],
   "source": [
    "###验证一下有多少个查漏了\n",
    "stockDataInYFinance=pd.read_csv('stockData/YFinanceRawData.csv')\n",
    "uniqueCompany=stockDataInYFinance['name'].unique()\n",
    "missedList=[]\n",
    "for ticker in tickers:\n",
    "    if ticker not in uniqueCompany:\n",
    "        missedList.append(ticker)\n",
    "\n",
    "print(\"length of miss company: {}\".format(len(missedList)))\n",
    "###总共有3个公司遗漏\n",
    "\n",
    "###手动查询\n",
    "for company in missedList:\n",
    "    print(\"------------------------------------------------------\")\n",
    "    print(\"This is the information for {}\".format(company))\n",
    "    print(getStockDataInYFinance(name=company))\n",
    "    print(\"------------------------------------------------------\")\n",
    "###经过调查，属于信息不完善，有的连公司信息都不全"
   ],
   "metadata": {
    "collapsed": false
   }
  },
  {
   "cell_type": "code",
   "execution_count": null,
   "outputs": [],
   "source": [
    "print(\"types in data: {}\".format(stockDataInYFinance.dtypes))\n",
    "stockDataInYFinance"
   ],
   "metadata": {
    "collapsed": false
   }
  },
  {
   "cell_type": "code",
   "execution_count": null,
   "outputs": [],
   "source": [
    "MMMStock=stockDataInYFinance[stockDataInYFinance['name']==\"MMM\"]\n",
    "\n",
    "plt.figure(figsize=(15,8))\n",
    "\n",
    "ax = plt.gca()\n",
    "locator = mdates.DayLocator(interval=30*3)\n",
    "ax.xaxis.set_major_locator(locator)\n",
    "\n",
    "x=MMMStock['trade_date']\n",
    "\n",
    "plt.plot(x,MMMStock['High'],label=\"high\")\n",
    "plt.plot(x,MMMStock['Low'],label=\"low\")\n",
    "plt.gcf().autofmt_xdate()\n",
    "plt.xlabel(\"Date\")\n",
    "plt.ylabel(\"Amount\")\n",
    "plt.title('MMM')\n",
    "plt.rc('xtick', labelsize=15)\n",
    "plt.rc('ytick', labelsize=15)\n",
    "plt.rcParams.update({'font.size': 15})\n",
    "plt.legend()   #打上标签\n",
    "plt.show()\n",
    "MMMStock"
   ],
   "metadata": {
    "collapsed": false
   }
  },
  {
   "cell_type": "markdown",
   "source": [
    "# 2.0 Analysis the raw data in AI\n",
    "* data engineering\n",
    "* data cleaning\n",
    "* build model\n",
    "* train"
   ],
   "metadata": {
    "collapsed": false
   }
  },
  {
   "cell_type": "markdown",
   "source": [
    "------------------------------------------\n",
    "这里说一下训练集与验证集的分配:\n",
    "* 训练集: 截取 2013-01-01 to 2018-01-01，5年数据，占总比50%。\n",
    "* 验证集1: 截取 2018-01-01 to 2019-01-01 1年数据， 占总比10%，因为疫情就发生在2019年，该验证集用于检测模型准确度，确保该模型在疫情前时期可以正常使用\n",
    "* 验证集2: 截取 2019-01-01 to 2023-01-01 4年数据，占比40%，该数据集并非用于验证，而是在确保验证集1能正常运行的情况下，用于观察疫情发生与正常预期是否有大偏差（验证是否疫情对股票市场有巨大影响）"
   ],
   "metadata": {
    "collapsed": false
   }
  },
  {
   "cell_type": "code",
   "execution_count": null,
   "outputs": [],
   "source": [],
   "metadata": {
    "collapsed": false
   }
  }
 ],
 "metadata": {
  "kernelspec": {
   "display_name": "Python 3",
   "language": "python",
   "name": "python3"
  },
  "language_info": {
   "codemirror_mode": {
    "name": "ipython",
    "version": 2
   },
   "file_extension": ".py",
   "mimetype": "text/x-python",
   "name": "python",
   "nbconvert_exporter": "python",
   "pygments_lexer": "ipython2",
   "version": "2.7.6"
  }
 },
 "nbformat": 4,
 "nbformat_minor": 0
}
