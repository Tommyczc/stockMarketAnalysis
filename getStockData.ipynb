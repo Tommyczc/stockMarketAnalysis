{
 "cells": [
  {
   "cell_type": "markdown",
   "source": [
    "# 1.0 Get Data Of Stock Market\n",
    "\n",
    "* 本篇代码用来查询所有股票数据，所有导出的数据都将导出到stockdata文件夹内，方便管理查看。\n",
    "* 平台api方面，国内用tushare，国外用的雅虎。\n",
    "* 本篇代码也计划用来做数据清洗并且数据展示，处理好的文件也存在stockdata文件夹里面。"
   ],
   "metadata": {
    "collapsed": false
   }
  },
  {
   "cell_type": "code",
   "execution_count": 1,
   "outputs": [
    {
     "name": "stdout",
     "output_type": "stream",
     "text": [
      "Hello,stock market\n",
      "Load Time:  0:00:00.134290\n"
     ]
    }
   ],
   "source": [
    "print(\"Hello,stock market\")\n",
    "from datetime import datetime\n",
    "start_time = datetime.now()\n",
    "import time\n",
    "import numpy as np\n",
    "## todo: calculating the time of import libraries\n",
    "#先引入后面分析、可视化等可能用到的库\n",
    "import tushare as ts\n",
    "import pandas as pd\n",
    "import matplotlib.pyplot as plt\n",
    "#正常显示画图时出现的中文和负号\n",
    "from pylab import mpl\n",
    "import yfinance as yf\n",
    "import matplotlib.dates as mdates\n",
    "import seaborn as sns\n",
    "# todo: solve chinese problem for plt\n",
    "mpl.rcParams['font.sans-serif']=['SimHei']\n",
    "mpl.rcParams['axes.unicode_minus']=False\n",
    "\n",
    "#显示所有列\n",
    "# pd.set_option('display.max_columns', 100)\n",
    "# #显示所有行\n",
    "# pd.set_option('display.max_rows', 100)\n",
    "# #设置value的显示长度为100，默认为50\n",
    "# pd.set_option('max_colwidth',100)\n",
    "print(\"Load Time: \",datetime.now()-start_time)"
   ],
   "metadata": {
    "collapsed": false,
    "ExecuteTime": {
     "end_time": "2023-07-02T08:45:40.335802Z",
     "start_time": "2023-07-02T08:45:40.023054Z"
    }
   }
  },
  {
   "cell_type": "markdown",
   "source": [
    "## 1.1 use tushare api get data"
   ],
   "metadata": {
    "collapsed": false
   }
  },
  {
   "cell_type": "code",
   "execution_count": 2,
   "outputs": [],
   "source": [
    "# login tushare, use token\n",
    "pro = ts.pro_api('f3987990df2a25038e5123dd321b5ed941048135b923e9c6415f20e1')\n",
    "\n",
    "def getStockCompanyInformation(status='L', stock_code=''):\n",
    "    \"\"\"\n",
    "    得到目前所有的股票公司信息\n",
    "    :param status: 上市状态 L上市 D退市 P暂停上市，默认是L\n",
    "    :param stock_code: TS股票代码\n",
    "    :return:\n",
    "    \"\"\"\n",
    "\n",
    "    if stock_code== '':\n",
    "        rawStockCompanyDataInTushare = pro.stock_basic(exchange='', list_status=status, fields='ts_code,symbol,fullname,enname,name,area,industry,list_date')\n",
    "    else:\n",
    "        rawStockCompanyDataInTushare = pro.stock_basic(ts_code=stock_code, exchange='', list_status=status, fields='ts_code,symbol,fullname,enname,name,area,industry,list_date')\n",
    "\n",
    "    rawStockCompanyDataInTushare['ts_code']=rawStockCompanyDataInTushare['ts_code'].astype(str)\n",
    "    rawStockCompanyDataInTushare['symbol']=rawStockCompanyDataInTushare['symbol'].astype('float64')\n",
    "    rawStockCompanyDataInTushare['name']=rawStockCompanyDataInTushare['name'].astype(str)\n",
    "    rawStockCompanyDataInTushare['area']=rawStockCompanyDataInTushare['area'].astype(str)\n",
    "    rawStockCompanyDataInTushare['industry']=rawStockCompanyDataInTushare['industry'].astype(str)\n",
    "    rawStockCompanyDataInTushare['fullname']=rawStockCompanyDataInTushare['fullname'].astype(str)\n",
    "    rawStockCompanyDataInTushare['enname']=rawStockCompanyDataInTushare['enname'].astype(str)\n",
    "    rawStockCompanyDataInTushare['list_date']=rawStockCompanyDataInTushare['list_date'].astype('float64')\n",
    "\n",
    "    rawStockCompanyDataInTushare['list_date']=pd.to_datetime(rawStockCompanyDataInTushare['list_date'], format='%Y%m%d')\n",
    "    return rawStockCompanyDataInTushare\n",
    "\n",
    "\n",
    "# 拉取数据\n",
    "def getDailyStockData(stock_code=\"\",start=\"20130101\",end=\"20230101\"):\n",
    "    \"\"\"\n",
    "    拉取股票日结交易信息，时间段默认 2018-1-1 到 2022-1-1，注意：该函数单次只能查询6000条记录。\n",
    "    :param stock_code: 股票代码，默认为空，输入为空的时候，拉取这段时期所有股票的交易消息；若不为空，拉去这只股票这段时间的交易消息\n",
    "    :param start: 开始日期\n",
    "    :param end: 结束日期\n",
    "    :return:\n",
    "    \"\"\"\n",
    "    rawData = pro.daily(**{\n",
    "        \"ts_code\": stock_code,\n",
    "        \"trade_date\": \"\",\n",
    "        \"start_date\": start,\n",
    "        \"end_date\": end,\n",
    "        \"offset\": \"\",\n",
    "        \"limit\": \"\",\n",
    "    }, fields=[\n",
    "        \"ts_code\",\n",
    "        \"trade_date\",\n",
    "        \"open\",\n",
    "        \"high\",\n",
    "        \"low\",\n",
    "        \"close\",\n",
    "        \"pre_close\",\n",
    "        \"change\",\n",
    "        \"pct_chg\",\n",
    "        \"vol\",\n",
    "        \"amount\"\n",
    "    ])\n",
    "    rawData['ts_code']=rawData['ts_code'].astype(str)\n",
    "    rawData['trade_date']=rawData['trade_date'].astype('float64')\n",
    "\n",
    "    rawData['trade_date']=pd.to_datetime(rawData['trade_date'], format='%Y%m%d')\n",
    "    return rawData"
   ],
   "metadata": {
    "collapsed": false,
    "ExecuteTime": {
     "end_time": "2023-07-02T08:45:40.335999Z",
     "start_time": "2023-07-02T08:45:40.159211Z"
    }
   }
  },
  {
   "cell_type": "code",
   "execution_count": 3,
   "outputs": [
    {
     "name": "stdout",
     "output_type": "stream",
     "text": [
      "The shape of the data frame: (5191, 8)\n",
      "The types in the data frame ts_code       object\n",
      "symbol       float64\n",
      "name          object\n",
      "area          object\n",
      "industry      object\n",
      "fullname      object\n",
      "enname        object\n",
      "list_date     object\n",
      "dtype: object\n"
     ]
    },
    {
     "data": {
      "text/plain": "        ts_code    symbol     name  area industry          fullname  \\\n0     000001.SZ       1.0     平安银行    深圳       银行        平安银行股份有限公司   \n1     000002.SZ       2.0      万科A    深圳     全国地产        万科企业股份有限公司   \n2     000004.SZ       4.0     ST国华    深圳     软件服务    深圳国华网安科技股份有限公司   \n3     000005.SZ       5.0     ST星源    深圳     环境保护      深圳世纪星源股份有限公司   \n4     000006.SZ       6.0     深振业A    深圳     区域地产   深圳市振业(集团)股份有限公司   \n...         ...       ...      ...   ...      ...               ...   \n5186  873305.BJ  873305.0     九菱科技  None     None      荆州九菱科技股份有限公司   \n5187  873339.BJ  873339.0     恒太照明  None     None      江苏恒太照明股份有限公司   \n5188  873527.BJ  873527.0      夜光明  None     None   浙江夜光明光电科技股份有限公司   \n5189  873593.BJ  873593.0     鼎智科技  None     None  江苏鼎智智能控制科技股份有限公司   \n5190  689009.SH  689009.0  九号公司-WD    北京      摩托车            九号有限公司   \n\n                                                 enname   list_date  \n0                                Ping An Bank Co., Ltd.  1991-04-03  \n1                                  China Vanke Co.,Ltd.  1991-01-29  \n2     Shenzhen Guohua Network Security Technology Co...  1991-01-14  \n3                         Shenzhen Fountain Corporation  1990-12-10  \n4                       Shenzhen Zhenye(Group) Co., Ltd  1992-04-27  \n...                                                 ...         ...  \n5186      Jingzhou Julin Science and Technology Co.,Ltd  2022-12-21  \n5187                 Jiangsu Ever-Tie Lighting Co., Ltd  2022-11-17  \n5188                    Zhejiang Ygm Technology Co.,Ltd  2022-10-27  \n5189  Jiangsu DINGS Intelligent Control Technology C...  2023-04-13  \n5190                                    Ninebot Limited  2020-10-29  \n\n[5191 rows x 8 columns]",
      "text/html": "<div>\n<style scoped>\n    .dataframe tbody tr th:only-of-type {\n        vertical-align: middle;\n    }\n\n    .dataframe tbody tr th {\n        vertical-align: top;\n    }\n\n    .dataframe thead th {\n        text-align: right;\n    }\n</style>\n<table border=\"1\" class=\"dataframe\">\n  <thead>\n    <tr style=\"text-align: right;\">\n      <th></th>\n      <th>ts_code</th>\n      <th>symbol</th>\n      <th>name</th>\n      <th>area</th>\n      <th>industry</th>\n      <th>fullname</th>\n      <th>enname</th>\n      <th>list_date</th>\n    </tr>\n  </thead>\n  <tbody>\n    <tr>\n      <th>0</th>\n      <td>000001.SZ</td>\n      <td>1.0</td>\n      <td>平安银行</td>\n      <td>深圳</td>\n      <td>银行</td>\n      <td>平安银行股份有限公司</td>\n      <td>Ping An Bank Co., Ltd.</td>\n      <td>1991-04-03</td>\n    </tr>\n    <tr>\n      <th>1</th>\n      <td>000002.SZ</td>\n      <td>2.0</td>\n      <td>万科A</td>\n      <td>深圳</td>\n      <td>全国地产</td>\n      <td>万科企业股份有限公司</td>\n      <td>China Vanke Co.,Ltd.</td>\n      <td>1991-01-29</td>\n    </tr>\n    <tr>\n      <th>2</th>\n      <td>000004.SZ</td>\n      <td>4.0</td>\n      <td>ST国华</td>\n      <td>深圳</td>\n      <td>软件服务</td>\n      <td>深圳国华网安科技股份有限公司</td>\n      <td>Shenzhen Guohua Network Security Technology Co...</td>\n      <td>1991-01-14</td>\n    </tr>\n    <tr>\n      <th>3</th>\n      <td>000005.SZ</td>\n      <td>5.0</td>\n      <td>ST星源</td>\n      <td>深圳</td>\n      <td>环境保护</td>\n      <td>深圳世纪星源股份有限公司</td>\n      <td>Shenzhen Fountain Corporation</td>\n      <td>1990-12-10</td>\n    </tr>\n    <tr>\n      <th>4</th>\n      <td>000006.SZ</td>\n      <td>6.0</td>\n      <td>深振业A</td>\n      <td>深圳</td>\n      <td>区域地产</td>\n      <td>深圳市振业(集团)股份有限公司</td>\n      <td>Shenzhen Zhenye(Group) Co., Ltd</td>\n      <td>1992-04-27</td>\n    </tr>\n    <tr>\n      <th>...</th>\n      <td>...</td>\n      <td>...</td>\n      <td>...</td>\n      <td>...</td>\n      <td>...</td>\n      <td>...</td>\n      <td>...</td>\n      <td>...</td>\n    </tr>\n    <tr>\n      <th>5186</th>\n      <td>873305.BJ</td>\n      <td>873305.0</td>\n      <td>九菱科技</td>\n      <td>None</td>\n      <td>None</td>\n      <td>荆州九菱科技股份有限公司</td>\n      <td>Jingzhou Julin Science and Technology Co.,Ltd</td>\n      <td>2022-12-21</td>\n    </tr>\n    <tr>\n      <th>5187</th>\n      <td>873339.BJ</td>\n      <td>873339.0</td>\n      <td>恒太照明</td>\n      <td>None</td>\n      <td>None</td>\n      <td>江苏恒太照明股份有限公司</td>\n      <td>Jiangsu Ever-Tie Lighting Co., Ltd</td>\n      <td>2022-11-17</td>\n    </tr>\n    <tr>\n      <th>5188</th>\n      <td>873527.BJ</td>\n      <td>873527.0</td>\n      <td>夜光明</td>\n      <td>None</td>\n      <td>None</td>\n      <td>浙江夜光明光电科技股份有限公司</td>\n      <td>Zhejiang Ygm Technology Co.,Ltd</td>\n      <td>2022-10-27</td>\n    </tr>\n    <tr>\n      <th>5189</th>\n      <td>873593.BJ</td>\n      <td>873593.0</td>\n      <td>鼎智科技</td>\n      <td>None</td>\n      <td>None</td>\n      <td>江苏鼎智智能控制科技股份有限公司</td>\n      <td>Jiangsu DINGS Intelligent Control Technology C...</td>\n      <td>2023-04-13</td>\n    </tr>\n    <tr>\n      <th>5190</th>\n      <td>689009.SH</td>\n      <td>689009.0</td>\n      <td>九号公司-WD</td>\n      <td>北京</td>\n      <td>摩托车</td>\n      <td>九号有限公司</td>\n      <td>Ninebot Limited</td>\n      <td>2020-10-29</td>\n    </tr>\n  </tbody>\n</table>\n<p>5191 rows × 8 columns</p>\n</div>"
     },
     "execution_count": 3,
     "metadata": {},
     "output_type": "execute_result"
    }
   ],
   "source": [
    "# rawCompanyDataInTushare=getStockCompanyInformation()\n",
    "# rawCompanyDataInTushare.to_csv('stockData/rawCompanyDataInTushare.csv',header=rawCompanyDataInTushare.columns,index=False)\n",
    "\n",
    "rawCompanyDataInTushare=pd.read_csv('stockData/rawCompanyDataInTushare.csv')\n",
    "rawCompanyDataInTushare['industry'].replace([np.nan,''],'None', inplace=True)\n",
    "\n",
    "print(\"The shape of the data frame: {}\".format(rawCompanyDataInTushare.shape))\n",
    "print(\"The types in the data frame {}\".format(rawCompanyDataInTushare.dtypes))\n",
    "rawCompanyDataInTushare"
   ],
   "metadata": {
    "collapsed": false,
    "ExecuteTime": {
     "end_time": "2023-07-02T08:45:40.343882Z",
     "start_time": "2023-07-02T08:45:40.166571Z"
    }
   }
  },
  {
   "cell_type": "code",
   "execution_count": 4,
   "outputs": [],
   "source": [
    "# rawDailyDataInTushare=getDailyStockData()\n",
    "# print(\"The shape of the data frame: {}\".format(rawDailyDataInTushare.shape))\n",
    "# print(\"The types in the data frame:\\n{}\".format(rawDailyDataInTushare.dtypes))\n",
    "# print(\"The unique stock code: {}\".format(len(rawDailyDataInTushare['ts_code'].unique())))\n",
    "# rawDailyDataInTushare"
   ],
   "metadata": {
    "collapsed": false,
    "ExecuteTime": {
     "end_time": "2023-07-02T08:45:40.344016Z",
     "start_time": "2023-07-02T08:45:40.192889Z"
    }
   }
  },
  {
   "cell_type": "code",
   "execution_count": 5,
   "outputs": [],
   "source": [
    "##test api\n",
    "# testDailyStockData=getDailyStockData(stock_code=\"000006.SZ\")\n",
    "# testDailyStockData"
   ],
   "metadata": {
    "collapsed": false,
    "ExecuteTime": {
     "end_time": "2023-07-02T08:45:40.344072Z",
     "start_time": "2023-07-02T08:45:40.195166Z"
    }
   }
  },
  {
   "cell_type": "code",
   "execution_count": 6,
   "outputs": [],
   "source": [
    "###由于Toshare社区限制每次查询只能拿到 6000 行日结交易信息（每日每公司为一行），而且每分钟只能查500次。为了得到当前所有上市公司，每次查询只查一家上市公司而且将会延迟0.2秒\n",
    "def bindDailyAndCompanyInformation():\n",
    "    notIncludedData=['name']\n",
    "\n",
    "    startTime=datetime.now()\n",
    "    companies=getStockCompanyInformation()\n",
    "    bindData=pd.DataFrame()\n",
    "    i=2\n",
    "    for company in companies['ts_code'].to_numpy():\n",
    "        dailyData=getDailyStockData(stock_code=company)\n",
    "        for header in companies.columns:\n",
    "            if header!=\"ts_code\":\n",
    "                #test only\n",
    "                # print(\"------------------------------------\")\n",
    "                # print(companies[companies['ts_code'] == company][header].values.repeat(5))\n",
    "                # print(dailyData.shape[0])\n",
    "                # print(\"------------------------------------\")\n",
    "                dailyData[header]= companies[companies['ts_code'] == company][header].values.repeat(dailyData.shape[0])\n",
    "\n",
    "        dailyData=dailyData.drop(columns=notIncludedData)\n",
    "        bindData=bindData.append(dailyData)\n",
    "        #time.sleep(0.15)\n",
    "        ###########test only\n",
    "        #print(dailyData)\n",
    "        # if i==1:\n",
    "        #     break\n",
    "        # else:\n",
    "        #     i-=1\n",
    "        ###########\n",
    "    timeConsume=datetime.now()-startTime\n",
    "    print(\"Run time: {}\".format(timeConsume))\n",
    "    return bindData\n"
   ],
   "metadata": {
    "collapsed": false,
    "ExecuteTime": {
     "end_time": "2023-07-02T08:45:40.344167Z",
     "start_time": "2023-07-02T08:45:40.199356Z"
    }
   }
  },
  {
   "cell_type": "code",
   "execution_count": 7,
   "outputs": [],
   "source": [
    "###此cell仅用于下载股票数据，由于信息量庞大，可导入下好的 TushareRawData.csv 文件即可\n",
    "# theBindDataInTushare=bindDailyAndCompanyInformation()\n",
    "# print(\"The shape of the data frame: {}\".format(theBindDataInTushare.shape))\n",
    "# print(\"The types in the data frame:\\n{}\".format(theBindDataInTushare.dtypes))\n",
    "# print(\"The unique stock code: {}\".format(len(theBindDataInTushare['ts_code'].unique())))\n",
    "# theBindDataInTushare.to_csv('stockData/TushareRawData.csv', header=theBindDataInTushare.columns, index=False)"
   ],
   "metadata": {
    "collapsed": false,
    "ExecuteTime": {
     "end_time": "2023-07-02T08:45:40.344253Z",
     "start_time": "2023-07-02T08:45:40.201941Z"
    }
   }
  },
  {
   "cell_type": "code",
   "execution_count": 8,
   "outputs": [
    {
     "name": "stdout",
     "output_type": "stream",
     "text": [
      "The shape of the data frame: (7792078, 17)\n",
      "The types in the data frame:\n",
      "ts_code        object\n",
      "trade_date     object\n",
      "open          float64\n",
      "high          float64\n",
      "low           float64\n",
      "close         float64\n",
      "pre_close     float64\n",
      "change        float64\n",
      "pct_chg       float64\n",
      "vol           float64\n",
      "amount        float64\n",
      "symbol        float64\n",
      "area           object\n",
      "industry       object\n",
      "fullname       object\n",
      "enname         object\n",
      "list_date      object\n",
      "dtype: object\n",
      "The unique stock code: 5061\n"
     ]
    }
   ],
   "source": [
    "###此cell是本地读取tushare股票信息，如果本地有csv文件就用这个，并且注释上一个cell，如果没下载csv文件就取消注释上一个cell\n",
    "theBindDataInTushare=pd.read_csv('stockData/TushareRawData.csv')\n",
    "print(\"The shape of the data frame: {}\".format(theBindDataInTushare.shape))\n",
    "print(\"The types in the data frame:\\n{}\".format(theBindDataInTushare.dtypes))\n",
    "print(\"The unique stock code: {}\".format(len(theBindDataInTushare['ts_code'].unique())))"
   ],
   "metadata": {
    "collapsed": false,
    "ExecuteTime": {
     "end_time": "2023-07-02T08:45:52.222703Z",
     "start_time": "2023-07-02T08:45:40.204645Z"
    }
   }
  },
  {
   "cell_type": "code",
   "execution_count": 9,
   "outputs": [
    {
     "name": "stdout",
     "output_type": "stream",
     "text": [
      "The num of miss company: 131\n"
     ]
    }
   ],
   "source": [
    "###todo 不知道为什么有100家公司查不到，手动查询看看情况，然后手动合并吧\n",
    "missedCompany=[]\n",
    "bindCompany=theBindDataInTushare['ts_code'].unique()\n",
    "for code in rawCompanyDataInTushare['ts_code'].values:\n",
    "    if code not in bindCompany:\n",
    "        missedCompany.append(code)\n",
    "\n",
    "\n",
    "# for code in missedCompany:\n",
    "#     print(\"-------------------------------------\")\n",
    "#     print(getDailyStockData(stock_code=code,end=\"20220505\"))\n",
    "#     print(getStockCompanyInformation(stock_code=code))\n",
    "#     print(\"-------------------------------------\")\n",
    "\n",
    "print(\"The num of miss company: {}\".format(len(missedCompany)))\n",
    "\n",
    "###todo 这些股票查不到，这些公司基本都是2023年上市的，可能数据还没更新吧"
   ],
   "metadata": {
    "collapsed": false,
    "ExecuteTime": {
     "end_time": "2023-07-02T08:45:52.783114Z",
     "start_time": "2023-07-02T08:45:52.361648Z"
    }
   }
  },
  {
   "cell_type": "code",
   "execution_count": 10,
   "outputs": [
    {
     "name": "stdout",
     "output_type": "stream",
     "text": [
      "The number of industry: 111\n",
      "The exact number of company: 5061\n",
      "--------------------------------------------------------\n",
      "the number of company in different industry:\n",
      " [('电气设备', 291), ('软件服务', 272), ('元器件', 260), ('专用机械', 228), ('化工原料', 221), ('None', 198), ('汽车配件', 197), ('医疗保健', 164), ('半导体', 159), ('化学制药', 140), ('通信设备', 132), ('环境保护', 128), ('建筑工程', 118), ('机械基件', 105), ('互联网', 88), ('食品', 85), ('电器仪表', 84), ('家用电器', 79), ('中成药', 73), ('生物制药', 71), ('服饰', 67), ('家居用品', 62), ('塑料', 61), ('IT设备', 58), ('农药化肥', 54), ('小金属', 54), ('区域地产', 52), ('文教休闲', 52), ('证券', 51), ('广告包装', 51), ('仓储物流', 48), ('航空', 47), ('运输设备', 44), ('纺织', 44), ('供气供热', 43), ('银行', 42), ('农业综合', 41), ('医药商业', 37), ('影视音像', 37), ('百货', 36), ('全国地产', 34), ('其他建材', 33), ('火力发电', 32), ('装修装饰', 31), ('工程机械', 31), ('造纸', 31), ('染料涂料', 31), ('铝', 31), ('多元金融', 30), ('化纤', 29), ('出版业', 29), ('矿物制品', 29), ('普钢', 26), ('煤炭开采', 25), ('水泥', 23), ('汽车整车', 23), ('新型电力', 22), ('机床制造', 21), ('商贸代理', 20), ('白酒', 20), ('钢加工', 20), ('石油开采', 20), ('乳制品', 20), ('港口', 19), ('路桥', 19), ('玻璃', 18), ('综合类', 18), ('水力发电', 18), ('饲料', 18), ('种植业', 18), ('日用化工', 17), ('水务', 16), ('铜', 16), ('汽车服务', 15), ('水运', 14), ('铅锌', 13), ('旅游景点', 13), ('园区开发', 13), ('其他商业', 12), ('房产服务', 12), ('黄金', 12), ('船舶', 12), ('摩托车', 11), ('纺织机械', 11), ('石油加工', 10), ('旅游服务', 10), ('农用机械', 10), ('特种钢', 10), ('化工机械', 10), ('橡胶', 10), ('空运', 9), ('超市连锁', 9), ('软饮料', 9), ('红黄酒', 9), ('酒店餐饮', 8), ('焦炭加工', 8), ('啤酒', 8), ('石油贸易', 7), ('轻工机械', 7), ('铁路', 6), ('保险', 6), ('渔业', 6), ('公共交通', 6), ('电信运营', 6), ('机场', 5), ('批发业', 5), ('陶瓷', 5), ('商品城', 4), ('林业', 4), ('电器连锁', 2), ('公路', 2)]\n"
     ]
    }
   ],
   "source": [
    "print(\"The number of industry: {}\".format(len(theBindDataInTushare['industry'].unique())))\n",
    "print(\"The exact number of company: {}\".format(len(theBindDataInTushare['ts_code'].unique())))\n",
    "# print(\"--------------------------------------------------------\\n\"+\"The industries: {}\".format(theBindDataInTushare['industry'].unique()))\n",
    "\n",
    "theCounter={}\n",
    "uniqueList=rawCompanyDataInTushare['industry'].values\n",
    "for industry in uniqueList:\n",
    "    if industry in theCounter:\n",
    "        theCounter[industry]+=1\n",
    "    else:\n",
    "        theCounter[industry]=1\n",
    "theCounter=sorted(theCounter.items(), key = lambda kv:kv[1],reverse=True)\n",
    "print(\"--------------------------------------------------------\\n\"+\"the number of company in different industry:\\n {}\".format(theCounter))"
   ],
   "metadata": {
    "collapsed": false,
    "ExecuteTime": {
     "end_time": "2023-07-02T08:45:53.239925Z",
     "start_time": "2023-07-02T08:45:52.933061Z"
    }
   }
  },
  {
   "cell_type": "markdown",
   "source": [
    "### test science data"
   ],
   "metadata": {
    "collapsed": false
   }
  },
  {
   "cell_type": "code",
   "execution_count": 11,
   "outputs": [
    {
     "data": {
      "text/plain": "<Figure size 1200x800 with 1 Axes>",
      "image/png": "[encoded data removed]"
     },
     "metadata": {},
     "output_type": "display_data"
    },
    {
     "data": {
      "text/plain": "          ts_code  trade_date  open  high   low  close  pre_close  change  \\\n134489  000100.SZ  2013-01-04  2.20  2.21  2.16   2.21       2.19    0.02   \n134488  000100.SZ  2013-01-07  2.21  2.26  2.20   2.25       2.21    0.04   \n134487  000100.SZ  2013-01-08  2.25  2.25  2.21   2.24       2.25   -0.01   \n134486  000100.SZ  2013-01-09  2.23  2.24  2.20   2.22       2.24   -0.02   \n134485  000100.SZ  2013-01-10  2.22  2.23  2.20   2.22       2.22    0.00   \n...           ...         ...   ...   ...   ...    ...        ...     ...   \n132257  000100.SZ  2022-12-26  3.72  3.76  3.72   3.75       3.73    0.02   \n132256  000100.SZ  2022-12-27  3.76  3.77  3.73   3.75       3.75    0.00   \n132255  000100.SZ  2022-12-28  3.75  3.76  3.71   3.73       3.75   -0.02   \n132254  000100.SZ  2022-12-29  3.72  3.73  3.68   3.70       3.73   -0.03   \n132253  000100.SZ  2022-12-30  3.71  3.73  3.69   3.72       3.70    0.02   \n\n        pct_chg         vol       amount  symbol area industry       fullname  \\\n134489   0.9100  1603589.32  350309.8057   100.0   广东      元器件  TCL科技集团股份有限公司   \n134488   1.8100  2446465.65  548610.2820   100.0   广东      元器件  TCL科技集团股份有限公司   \n134487  -0.4400  1223850.55  273030.6377   100.0   广东      元器件  TCL科技集团股份有限公司   \n134486  -0.8900  1173131.58  260120.9124   100.0   广东      元器件  TCL科技集团股份有限公司   \n134485   0.0000   805958.97  178699.0808   100.0   广东      元器件  TCL科技集团股份有限公司   \n...         ...         ...          ...     ...  ...      ...            ...   \n132257   0.5362   533547.21  199601.1210   100.0   广东      元器件  TCL科技集团股份有限公司   \n132256   0.0000   514072.58  192359.1930   100.0   广东      元器件  TCL科技集团股份有限公司   \n132255  -0.5333   690095.26  257697.4930   100.0   广东      元器件  TCL科技集团股份有限公司   \n132254  -0.8043   839641.79  310683.4180   100.0   广东      元器件  TCL科技集团股份有限公司   \n132253   0.5405   746469.94  277090.8330   100.0   广东      元器件  TCL科技集团股份有限公司   \n\n                                  enname   list_date  \n134489  Tcl Technology Group Corporation  2004-01-30  \n134488  Tcl Technology Group Corporation  2004-01-30  \n134487  Tcl Technology Group Corporation  2004-01-30  \n134486  Tcl Technology Group Corporation  2004-01-30  \n134485  Tcl Technology Group Corporation  2004-01-30  \n...                                  ...         ...  \n132257  Tcl Technology Group Corporation  2004-01-30  \n132256  Tcl Technology Group Corporation  2004-01-30  \n132255  Tcl Technology Group Corporation  2004-01-30  \n132254  Tcl Technology Group Corporation  2004-01-30  \n132253  Tcl Technology Group Corporation  2004-01-30  \n\n[2237 rows x 17 columns]",
      "text/html": "<div>\n<style scoped>\n    .dataframe tbody tr th:only-of-type {\n        vertical-align: middle;\n    }\n\n    .dataframe tbody tr th {\n        vertical-align: top;\n    }\n\n    .dataframe thead th {\n        text-align: right;\n    }\n</style>\n<table border=\"1\" class=\"dataframe\">\n  <thead>\n    <tr style=\"text-align: right;\">\n      <th></th>\n      <th>ts_code</th>\n      <th>trade_date</th>\n      <th>open</th>\n      <th>high</th>\n      <th>low</th>\n      <th>close</th>\n      <th>pre_close</th>\n      <th>change</th>\n      <th>pct_chg</th>\n      <th>vol</th>\n      <th>amount</th>\n      <th>symbol</th>\n      <th>area</th>\n      <th>industry</th>\n      <th>fullname</th>\n      <th>enname</th>\n      <th>list_date</th>\n    </tr>\n  </thead>\n  <tbody>\n    <tr>\n      <th>134489</th>\n      <td>000100.SZ</td>\n      <td>2013-01-04</td>\n      <td>2.20</td>\n      <td>2.21</td>\n      <td>2.16</td>\n      <td>2.21</td>\n      <td>2.19</td>\n      <td>0.02</td>\n      <td>0.9100</td>\n      <td>1603589.32</td>\n      <td>350309.8057</td>\n      <td>100.0</td>\n      <td>广东</td>\n      <td>元器件</td>\n      <td>TCL科技集团股份有限公司</td>\n      <td>Tcl Technology Group Corporation</td>\n      <td>2004-01-30</td>\n    </tr>\n    <tr>\n      <th>134488</th>\n      <td>000100.SZ</td>\n      <td>2013-01-07</td>\n      <td>2.21</td>\n      <td>2.26</td>\n      <td>2.20</td>\n      <td>2.25</td>\n      <td>2.21</td>\n      <td>0.04</td>\n      <td>1.8100</td>\n      <td>2446465.65</td>\n      <td>548610.2820</td>\n      <td>100.0</td>\n      <td>广东</td>\n      <td>元器件</td>\n      <td>TCL科技集团股份有限公司</td>\n      <td>Tcl Technology Group Corporation</td>\n      <td>2004-01-30</td>\n    </tr>\n    <tr>\n      <th>134487</th>\n      <td>000100.SZ</td>\n      <td>2013-01-08</td>\n      <td>2.25</td>\n      <td>2.25</td>\n      <td>2.21</td>\n      <td>2.24</td>\n      <td>2.25</td>\n      <td>-0.01</td>\n      <td>-0.4400</td>\n      <td>1223850.55</td>\n      <td>273030.6377</td>\n      <td>100.0</td>\n      <td>广东</td>\n      <td>元器件</td>\n      <td>TCL科技集团股份有限公司</td>\n      <td>Tcl Technology Group Corporation</td>\n      <td>2004-01-30</td>\n    </tr>\n    <tr>\n      <th>134486</th>\n      <td>000100.SZ</td>\n      <td>2013-01-09</td>\n      <td>2.23</td>\n      <td>2.24</td>\n      <td>2.20</td>\n      <td>2.22</td>\n      <td>2.24</td>\n      <td>-0.02</td>\n      <td>-0.8900</td>\n      <td>1173131.58</td>\n      <td>260120.9124</td>\n      <td>100.0</td>\n      <td>广东</td>\n      <td>元器件</td>\n      <td>TCL科技集团股份有限公司</td>\n      <td>Tcl Technology Group Corporation</td>\n      <td>2004-01-30</td>\n    </tr>\n    <tr>\n      <th>134485</th>\n      <td>000100.SZ</td>\n      <td>2013-01-10</td>\n      <td>2.22</td>\n      <td>2.23</td>\n      <td>2.20</td>\n      <td>2.22</td>\n      <td>2.22</td>\n      <td>0.00</td>\n      <td>0.0000</td>\n      <td>805958.97</td>\n      <td>178699.0808</td>\n      <td>100.0</td>\n      <td>广东</td>\n      <td>元器件</td>\n      <td>TCL科技集团股份有限公司</td>\n      <td>Tcl Technology Group Corporation</td>\n      <td>2004-01-30</td>\n    </tr>\n    <tr>\n      <th>...</th>\n      <td>...</td>\n      <td>...</td>\n      <td>...</td>\n      <td>...</td>\n      <td>...</td>\n      <td>...</td>\n      <td>...</td>\n      <td>...</td>\n      <td>...</td>\n      <td>...</td>\n      <td>...</td>\n      <td>...</td>\n      <td>...</td>\n      <td>...</td>\n      <td>...</td>\n      <td>...</td>\n      <td>...</td>\n    </tr>\n    <tr>\n      <th>132257</th>\n      <td>000100.SZ</td>\n      <td>2022-12-26</td>\n      <td>3.72</td>\n      <td>3.76</td>\n      <td>3.72</td>\n      <td>3.75</td>\n      <td>3.73</td>\n      <td>0.02</td>\n      <td>0.5362</td>\n      <td>533547.21</td>\n      <td>199601.1210</td>\n      <td>100.0</td>\n      <td>广东</td>\n      <td>元器件</td>\n      <td>TCL科技集团股份有限公司</td>\n      <td>Tcl Technology Group Corporation</td>\n      <td>2004-01-30</td>\n    </tr>\n    <tr>\n      <th>132256</th>\n      <td>000100.SZ</td>\n      <td>2022-12-27</td>\n      <td>3.76</td>\n      <td>3.77</td>\n      <td>3.73</td>\n      <td>3.75</td>\n      <td>3.75</td>\n      <td>0.00</td>\n      <td>0.0000</td>\n      <td>514072.58</td>\n      <td>192359.1930</td>\n      <td>100.0</td>\n      <td>广东</td>\n      <td>元器件</td>\n      <td>TCL科技集团股份有限公司</td>\n      <td>Tcl Technology Group Corporation</td>\n      <td>2004-01-30</td>\n    </tr>\n    <tr>\n      <th>132255</th>\n      <td>000100.SZ</td>\n      <td>2022-12-28</td>\n      <td>3.75</td>\n      <td>3.76</td>\n      <td>3.71</td>\n      <td>3.73</td>\n      <td>3.75</td>\n      <td>-0.02</td>\n      <td>-0.5333</td>\n      <td>690095.26</td>\n      <td>257697.4930</td>\n      <td>100.0</td>\n      <td>广东</td>\n      <td>元器件</td>\n      <td>TCL科技集团股份有限公司</td>\n      <td>Tcl Technology Group Corporation</td>\n      <td>2004-01-30</td>\n    </tr>\n    <tr>\n      <th>132254</th>\n      <td>000100.SZ</td>\n      <td>2022-12-29</td>\n      <td>3.72</td>\n      <td>3.73</td>\n      <td>3.68</td>\n      <td>3.70</td>\n      <td>3.73</td>\n      <td>-0.03</td>\n      <td>-0.8043</td>\n      <td>839641.79</td>\n      <td>310683.4180</td>\n      <td>100.0</td>\n      <td>广东</td>\n      <td>元器件</td>\n      <td>TCL科技集团股份有限公司</td>\n      <td>Tcl Technology Group Corporation</td>\n      <td>2004-01-30</td>\n    </tr>\n    <tr>\n      <th>132253</th>\n      <td>000100.SZ</td>\n      <td>2022-12-30</td>\n      <td>3.71</td>\n      <td>3.73</td>\n      <td>3.69</td>\n      <td>3.72</td>\n      <td>3.70</td>\n      <td>0.02</td>\n      <td>0.5405</td>\n      <td>746469.94</td>\n      <td>277090.8330</td>\n      <td>100.0</td>\n      <td>广东</td>\n      <td>元器件</td>\n      <td>TCL科技集团股份有限公司</td>\n      <td>Tcl Technology Group Corporation</td>\n      <td>2004-01-30</td>\n    </tr>\n  </tbody>\n</table>\n<p>2237 rows × 17 columns</p>\n</div>"
     },
     "execution_count": 11,
     "metadata": {},
     "output_type": "execute_result"
    }
   ],
   "source": [
    "TCLStock=theBindDataInTushare[theBindDataInTushare['ts_code']==\"000100.SZ\"].sort_values(by='trade_date',ascending=True)\n",
    "plt.figure(figsize=(12,8))\n",
    "ax = plt.gca()\n",
    "locator = mdates.DayLocator(interval=30*3)\n",
    "ax.xaxis.set_major_locator(locator)\n",
    "plt.gcf().autofmt_xdate()\n",
    "plt.plot(TCLStock['trade_date'],TCLStock['high'],label=\"high\")\n",
    "plt.plot(TCLStock['trade_date'],TCLStock['low'],label=\"low\")\n",
    "plt.xlabel(\"Date\")\n",
    "plt.ylabel(\"Amount\")\n",
    "plt.title('TCL100')\n",
    "plt.legend()   #打上标签\n",
    "plt.show()\n",
    "TCLStock"
   ],
   "metadata": {
    "collapsed": false,
    "ExecuteTime": {
     "end_time": "2023-07-02T08:45:53.997180Z",
     "start_time": "2023-07-02T08:45:53.528375Z"
    }
   }
  },
  {
   "cell_type": "markdown",
   "source": [
    "### 1.1.1 大盘整体趋势"
   ],
   "metadata": {
    "collapsed": false
   }
  },
  {
   "cell_type": "code",
   "execution_count": 12,
   "outputs": [
    {
     "data": {
      "text/plain": "<Figure size 1600x800 with 1 Axes>",
      "image/png": "[encoded data removed]"
     },
     "metadata": {},
     "output_type": "display_data"
    },
    {
     "data": {
      "text/plain": "                close       open\ntrade_date                      \n2013-01-04  11.260674  11.363834\n2013-01-07  11.402936  11.238364\n2013-01-08  11.536381  11.375546\n2013-01-09  11.543813  11.509729\n2013-01-10  11.601051  11.522294\n...               ...        ...\n2022-12-26  22.060998  21.562804\n2022-12-27  22.272486  22.097048\n2022-12-28  22.043449  22.206167\n2022-12-29  22.029087  21.964800\n2022-12-30  22.077034  22.100867\n\n[2430 rows x 2 columns]",
      "text/html": "<div>\n<style scoped>\n    .dataframe tbody tr th:only-of-type {\n        vertical-align: middle;\n    }\n\n    .dataframe tbody tr th {\n        vertical-align: top;\n    }\n\n    .dataframe thead th {\n        text-align: right;\n    }\n</style>\n<table border=\"1\" class=\"dataframe\">\n  <thead>\n    <tr style=\"text-align: right;\">\n      <th></th>\n      <th>close</th>\n      <th>open</th>\n    </tr>\n    <tr>\n      <th>trade_date</th>\n      <th></th>\n      <th></th>\n    </tr>\n  </thead>\n  <tbody>\n    <tr>\n      <th>2013-01-04</th>\n      <td>11.260674</td>\n      <td>11.363834</td>\n    </tr>\n    <tr>\n      <th>2013-01-07</th>\n      <td>11.402936</td>\n      <td>11.238364</td>\n    </tr>\n    <tr>\n      <th>2013-01-08</th>\n      <td>11.536381</td>\n      <td>11.375546</td>\n    </tr>\n    <tr>\n      <th>2013-01-09</th>\n      <td>11.543813</td>\n      <td>11.509729</td>\n    </tr>\n    <tr>\n      <th>2013-01-10</th>\n      <td>11.601051</td>\n      <td>11.522294</td>\n    </tr>\n    <tr>\n      <th>...</th>\n      <td>...</td>\n      <td>...</td>\n    </tr>\n    <tr>\n      <th>2022-12-26</th>\n      <td>22.060998</td>\n      <td>21.562804</td>\n    </tr>\n    <tr>\n      <th>2022-12-27</th>\n      <td>22.272486</td>\n      <td>22.097048</td>\n    </tr>\n    <tr>\n      <th>2022-12-28</th>\n      <td>22.043449</td>\n      <td>22.206167</td>\n    </tr>\n    <tr>\n      <th>2022-12-29</th>\n      <td>22.029087</td>\n      <td>21.964800</td>\n    </tr>\n    <tr>\n      <th>2022-12-30</th>\n      <td>22.077034</td>\n      <td>22.100867</td>\n    </tr>\n  </tbody>\n</table>\n<p>2430 rows × 2 columns</p>\n</div>"
     },
     "execution_count": 12,
     "metadata": {},
     "output_type": "execute_result"
    }
   ],
   "source": [
    "theTrendResult=theBindDataInTushare.groupby('trade_date')[['close','open']].mean()\n",
    "\n",
    "plt.figure(figsize=(16,8))\n",
    "ax = plt.gca()\n",
    "locator = mdates.DayLocator(interval=30*3)\n",
    "ax.xaxis.set_major_locator(locator)\n",
    "plt.gcf().autofmt_xdate()\n",
    "plt.plot(theTrendResult['open'],label=\"open\")\n",
    "plt.plot(theTrendResult['close'],label=\"close\")\n",
    "plt.xlabel(\"Date\")\n",
    "plt.ylabel(\"Amount (RMB)\")\n",
    "plt.title('The Trend')\n",
    "plt.legend()   #打上标签\n",
    "plt.show()\n",
    "\n",
    "theTrendResult"
   ],
   "metadata": {
    "collapsed": false,
    "ExecuteTime": {
     "end_time": "2023-07-02T08:45:54.900476Z",
     "start_time": "2023-07-02T08:45:53.997764Z"
    }
   }
  },
  {
   "cell_type": "markdown",
   "source": [
    "### 1.1.2 各个行业领域大盘\n",
    "\n",
    "注意: 该cell运行会绘制大量的图表，图表都被保存好了，如果不想运行可以查看路径stockData/tableForIndustry/raw"
   ],
   "metadata": {
    "collapsed": false
   }
  },
  {
   "cell_type": "code",
   "execution_count": 13,
   "outputs": [],
   "source": [
    "###生成各个领域的平均总览图标\n",
    "#\n",
    "# for i in list(theIndustryGroupedTrendResult):\n",
    "#     plt.figure(figsize=(16,8))\n",
    "#     x = np.arange(0, 300, 20)\n",
    "#     plt.yticks(x)\n",
    "#     i[-1]['close'].plot()\n",
    "#     plt.xlabel(\"Date\")\n",
    "#     plt.ylabel(\"Amount (RMB)\")\n",
    "#     plt.title(\"The Industry Trend: {}\".format(i[-1]['industry'].unique()[0]))\n",
    "#     plt.legend()   #打上标签\n",
    "#\n",
    "#     ###下载图表\n",
    "#     # plt.savefig(\"stockData/tableForIndustry/raw/industryTablesFor{}.jpg\".format(format(i[-1]['industry'].unique()[0])))\n",
    "#\n",
    "# plt.show()\n",
    "#\n",
    "# theIndustryTrendResult"
   ],
   "metadata": {
    "collapsed": false,
    "ExecuteTime": {
     "end_time": "2023-07-02T08:45:54.901973Z",
     "start_time": "2023-07-02T08:45:54.901114Z"
    }
   }
  },
  {
   "cell_type": "markdown",
   "source": [
    "### 1.1.3 数据异常处理 (industry 为 none，建议优化)\n",
    "注意: 行业总共110种，很多，在模型里面本身是建议降维的; 而且有些行业重复，例如金属被分成好几个领域，但是不建议归类，因为这些行业的走势都不一样，建议保留，等后续讨论。\n",
    "\n",
    "目前计划拿到这些公司的产品与介绍，nle分析并将其分类到合适的种类\n",
    "\n",
    "目前有两个方向，一个根据tf-idf来量化词语，一个是通过word2vec来量化(此方案为back up，原因不够精确)"
   ],
   "metadata": {
    "collapsed": false
   }
  },
  {
   "cell_type": "code",
   "execution_count": 14,
   "outputs": [
    {
     "name": "stdout",
     "output_type": "stream",
     "text": [
      "the number of company with none industry: 198\n"
     ]
    }
   ],
   "source": [
    "### 目前已知的行业有110种，还有一种没有归类，现在尝试归类\n",
    "print(\"the number of company with none industry: {}\".format(len(rawCompanyDataInTushare[rawCompanyDataInTushare['industry'] == 'None']['ts_code'].values)))\n",
    "\n",
    "\n",
    "# ##查询行业缺失的公司简介与产品名称\n",
    "# noneIndustryCodeList=rawCompanyDataInTushare[rawCompanyDataInTushare['industry'] == 'None']['ts_code'].values\n",
    "# noneIndustryDF=pd.DataFrame()\n",
    "# now=datetime.now()\n",
    "# for code in noneIndustryCodeList:\n",
    "#     ###该接口每分钟最多10次，尼玛得搞16分钟，之后会存在stockData/CompanyIntroductionWithNoneIndustry.csv\n",
    "#     noneIndustrydf = pro.stock_company(ts_code=code, fields='ts_code,introduction,main_business')\n",
    "#     noneIndustryDF=pd.concat([noneIndustryDF,noneIndustrydf])\n",
    "#     time.sleep(6)\n",
    "#\n",
    "# noneIndustryDF.to_csv(\"stockData/CompanyIntroductionWithNoneIndustry.csv\")\n",
    "# print(\"cost time: {}\".format(datetime.now()-now))\n",
    "#\n",
    "#\n",
    "#\n",
    "# ##查询行业已知的公司简介与产品名称\n",
    "# knownIndustryCodeList=rawCompanyDataInTushare[rawCompanyDataInTushare['industry'] != 'None']['ts_code'].values\n",
    "# knownIndustryDF=pd.DataFrame()\n",
    "# now=datetime.now()\n",
    "# for code in knownIndustryCodeList:\n",
    "#     ###该接口每分钟最多10次，尼玛得搞16分钟，之后会存在stockData/CompanyIntroductionWithNoneIndustry.csv\n",
    "#     knownIndustrydf = pro.stock_company(ts_code=code, fields='ts_code,introduction,main_business')\n",
    "#     knownIndustryDF=pd.concat([knownIndustryDF,knownIndustrydf])\n",
    "#     time.sleep(6)\n",
    "#\n",
    "# knownIndustryDF.to_csv(\"stockData/CompanyIntroductionWithKnownIndustry.csv\")\n",
    "# print(\"cost time: {}\".format(datetime.now()-now))\n",
    "\n",
    "\n",
    "noneIndustryDF=pd.read_csv(\"stockData/CompanyIntroductionWithNoneIndustry.csv\", index_col=False)\n",
    "knownIndustryDF=pd.read_csv(\"stockData/CompanyIntroductionWithKnownIndustry.csv\", index_col=False)"
   ],
   "metadata": {
    "collapsed": false,
    "ExecuteTime": {
     "end_time": "2023-07-02T08:45:55.019164Z",
     "start_time": "2023-07-02T08:45:54.903823Z"
    }
   }
  },
  {
   "cell_type": "code",
   "execution_count": 15,
   "outputs": [
    {
     "data": {
      "text/plain": "       ts_code                                       introduction  \\\n0    300309.SZ  公司是国内知名的石油测井设备专业制造商。主营业务是石油测井仪器的研发、生产、销售和现场技术服...   \n1    430047.BJ  公司是一家创新型生物制药企业，专业从事基因治疗药物、重组蛋白质类药物和眼科用药的研发、生产与...   \n2    430090.BJ  公司通过了ISO9001-2008质量体系认证，在多媒体视频解决方案的研发、组装及系统集成服...   \n3    430139.BJ  公司2001年成立于上海张江高科技园区。公司是一家专业从事集成电路测试技术研究开发、芯片设计...   \n4    430198.BJ  公司主要从事智慧交通领域中以视频为核心的高速公路监控信息化产品的研发、生产、销售及技术服务。...   \n..         ...                                                ...   \n191  873223.BJ  公司的主营业务为紧固件的研发、生产和销售，主要产品有铜钉、铜件、铜套、SMD、铝件、钢件、铆...   \n192  873305.BJ  公司的主营业务为粉末冶金零件的研发、生产和销售。主要产品涉及汽车零件、家电零件两个领域，包括...   \n193  873339.BJ  公司自2013年成立以来，就致力于LED灯具的研发、生产、销售。公司主营业务为LED照明产品...   \n194  873527.BJ  公司是一家专业从事反光材料及其下游应用产品的研发、生产及销售的高新技术企业。经过多年的发展，...   \n195  873593.BJ  公司主营业务为医疗及工业自动化用线性执行器、编码器、驱控器及其组件为基础的精密运动控制系列产...   \n\n                                         main_business industry  \n0    公司的主营业务是石油测井仪器的研发,生产,销售和现场技术服务,以及利用测井仪器为油田客户提供...     None  \n1                     基因工程蛋白质类药物,基因治疗药物和眼科用药物的研发,生产及销售     None  \n2         公司主营业务为向金融,展览展示,教育,影院等各行业用户提供领先的视觉综合解决方案及产品.     None  \n3                晶圆测试,IC成品测试,测试验证分析,测试技术研究,程序开发,自有设备租赁     None  \n4                                  以视频为核心的监控信息化产品和解决方案     None  \n..                                                 ...      ...  \n191                     精密紧固件,连接件,结构件等精密金属零部件的研发,制造和销售     None  \n192                               粉末冶金制品和磁性材料的研发,生产和销售     None  \n193                                            LED照明灯具     None  \n194                                         反光材料,反光制品等     None  \n195                        线性执行器,混合式步进电机,直流电机,音圈电机及其组件     None  \n\n[196 rows x 4 columns]",
      "text/html": "<div>\n<style scoped>\n    .dataframe tbody tr th:only-of-type {\n        vertical-align: middle;\n    }\n\n    .dataframe tbody tr th {\n        vertical-align: top;\n    }\n\n    .dataframe thead th {\n        text-align: right;\n    }\n</style>\n<table border=\"1\" class=\"dataframe\">\n  <thead>\n    <tr style=\"text-align: right;\">\n      <th></th>\n      <th>ts_code</th>\n      <th>introduction</th>\n      <th>main_business</th>\n      <th>industry</th>\n    </tr>\n  </thead>\n  <tbody>\n    <tr>\n      <th>0</th>\n      <td>300309.SZ</td>\n      <td>公司是国内知名的石油测井设备专业制造商。主营业务是石油测井仪器的研发、生产、销售和现场技术服...</td>\n      <td>公司的主营业务是石油测井仪器的研发,生产,销售和现场技术服务,以及利用测井仪器为油田客户提供...</td>\n      <td>None</td>\n    </tr>\n    <tr>\n      <th>1</th>\n      <td>430047.BJ</td>\n      <td>公司是一家创新型生物制药企业，专业从事基因治疗药物、重组蛋白质类药物和眼科用药的研发、生产与...</td>\n      <td>基因工程蛋白质类药物,基因治疗药物和眼科用药物的研发,生产及销售</td>\n      <td>None</td>\n    </tr>\n    <tr>\n      <th>2</th>\n      <td>430090.BJ</td>\n      <td>公司通过了ISO9001-2008质量体系认证，在多媒体视频解决方案的研发、组装及系统集成服...</td>\n      <td>公司主营业务为向金融,展览展示,教育,影院等各行业用户提供领先的视觉综合解决方案及产品.</td>\n      <td>None</td>\n    </tr>\n    <tr>\n      <th>3</th>\n      <td>430139.BJ</td>\n      <td>公司2001年成立于上海张江高科技园区。公司是一家专业从事集成电路测试技术研究开发、芯片设计...</td>\n      <td>晶圆测试,IC成品测试,测试验证分析,测试技术研究,程序开发,自有设备租赁</td>\n      <td>None</td>\n    </tr>\n    <tr>\n      <th>4</th>\n      <td>430198.BJ</td>\n      <td>公司主要从事智慧交通领域中以视频为核心的高速公路监控信息化产品的研发、生产、销售及技术服务。...</td>\n      <td>以视频为核心的监控信息化产品和解决方案</td>\n      <td>None</td>\n    </tr>\n    <tr>\n      <th>...</th>\n      <td>...</td>\n      <td>...</td>\n      <td>...</td>\n      <td>...</td>\n    </tr>\n    <tr>\n      <th>191</th>\n      <td>873223.BJ</td>\n      <td>公司的主营业务为紧固件的研发、生产和销售，主要产品有铜钉、铜件、铜套、SMD、铝件、钢件、铆...</td>\n      <td>精密紧固件,连接件,结构件等精密金属零部件的研发,制造和销售</td>\n      <td>None</td>\n    </tr>\n    <tr>\n      <th>192</th>\n      <td>873305.BJ</td>\n      <td>公司的主营业务为粉末冶金零件的研发、生产和销售。主要产品涉及汽车零件、家电零件两个领域，包括...</td>\n      <td>粉末冶金制品和磁性材料的研发,生产和销售</td>\n      <td>None</td>\n    </tr>\n    <tr>\n      <th>193</th>\n      <td>873339.BJ</td>\n      <td>公司自2013年成立以来，就致力于LED灯具的研发、生产、销售。公司主营业务为LED照明产品...</td>\n      <td>LED照明灯具</td>\n      <td>None</td>\n    </tr>\n    <tr>\n      <th>194</th>\n      <td>873527.BJ</td>\n      <td>公司是一家专业从事反光材料及其下游应用产品的研发、生产及销售的高新技术企业。经过多年的发展，...</td>\n      <td>反光材料,反光制品等</td>\n      <td>None</td>\n    </tr>\n    <tr>\n      <th>195</th>\n      <td>873593.BJ</td>\n      <td>公司主营业务为医疗及工业自动化用线性执行器、编码器、驱控器及其组件为基础的精密运动控制系列产...</td>\n      <td>线性执行器,混合式步进电机,直流电机,音圈电机及其组件</td>\n      <td>None</td>\n    </tr>\n  </tbody>\n</table>\n<p>196 rows × 4 columns</p>\n</div>"
     },
     "execution_count": 15,
     "metadata": {},
     "output_type": "execute_result"
    }
   ],
   "source": [
    "noneIndustryDF['industry']=noneIndustryDF.apply(lambda x:rawCompanyDataInTushare[x['ts_code']==rawCompanyDataInTushare['ts_code']]['industry'].values[0],axis=1)\n",
    "\n",
    "noneIndustryDF"
   ],
   "metadata": {
    "collapsed": false,
    "ExecuteTime": {
     "end_time": "2023-07-02T08:45:55.077889Z",
     "start_time": "2023-07-02T08:45:55.013356Z"
    }
   }
  },
  {
   "cell_type": "code",
   "execution_count": 16,
   "outputs": [
    {
     "name": "stdout",
     "output_type": "stream",
     "text": [
      "行业数量（不包括None）: 110\n",
      "行业:['银行' '全国地产' '软件服务' '环境保护' '区域地产' '其他商业' '运输设备' '电气设备' '建筑工程' '玻璃' '家用电器'\n",
      " '服饰' '农业综合' '元器件' '水泥' '汽车服务' '火力发电' '医药商业' '汽车配件' '综合类' '新型电力' '多元金融'\n",
      " '装修装饰' '房产服务' '商品城' '石油加工' '铅锌' '通信设备' 'IT设备' '港口' '机场' '石油贸易' '空运'\n",
      " '生物制药' '商贸代理' '化学制药' '影视音像' '工程机械' '证券' '化纤' '供气供热' '农药化肥' '机床制造' '百货'\n",
      " '中成药' '酒店餐饮' '路桥' '旅游景点' '造纸' '医疗保健' '食品' '黄金' '化工原料' '专用机械' '水运' '日用化工'\n",
      " '旅游服务' '文教休闲' '出版业' '机械基件' '汽车整车' '煤炭开采' '铁路' '染料涂料' '白酒' '农用机械' '林业'\n",
      " '水务' '水力发电' '互联网' '广告包装' '铝' '其他建材' '批发业' '保险' '小金属' '铜' '普钢' '航空' '饲料'\n",
      " '特种钢' '种植业' '焦炭加工' '纺织' '啤酒' '超市连锁' '钢加工' '矿物制品' '渔业' '软饮料' '化工机械' '塑料'\n",
      " '红黄酒' '仓储物流' '家居用品' '摩托车' '石油开采' '轻工机械' '电器仪表' '半导体' '乳制品' '纺织机械' '电器连锁'\n",
      " '陶瓷' '橡胶' '公路' '公共交通' '船舶' '电信运营' '园区开发']\n"
     ]
    },
    {
     "data": {
      "text/plain": "        ts_code                                       introduction  \\\n0     000001.SZ  公司是深圳发展银行股份有限公司以吸收合并原平安银行股份有限公司的方式完成两行整合并更名后的银...   \n1     000002.SZ  公司成立于1984年，1988年进入房地产行业，经过三十余年的发展，已成为国内领先的城市配套...   \n2     000004.SZ  公司创立于1981年，1990年12月1日起在深圳证券交易所挂牌交易，是深交所首家挂牌的上市...   \n3     000005.SZ  公司是中国早期大规模介入酒店式公寓服务业的公司之一，中国早期上市的公司之一。公司从事的主要业...   \n4     000006.SZ  公司是深圳市国有资产监督管理委员会直管的国有上市公司，公司以房地产开发经营为主营业务，具备国...   \n...         ...                                                ...   \n4987  688799.SH  公司自创立以来，秉承“科技服务健康”的企业宗旨，遵循“潜心制药，诚信待人”的企业经营理念，坚...   \n4988  688800.SH  公司是专业从事连接系统产品的研发、生产、销售和服务的高新技术企业。自设立伊始，公司始终以连接...   \n4989  688819.SH  公司是一家以电动轻型车绿色动力电池业务为主，集电动特种车绿色动力电池、新能源汽车动力电池、汽...   \n4990  688981.SH  公司是全球领先的集成电路晶圆代工企业之一，也是中国大陆技术最先进、规模最大、配套服务最完善、...   \n4991  689009.SH  公司是专注于智能短交通和服务类机器人领域的创新企业。公司主营业务为各类智能短程移动设备的设计...   \n\n                                          main_business industry  \n0                              主要业务:贷款,拆借,存放等同业业务,债券投资.       银行  \n1                                            房地产开发和物业服务     全国地产  \n2                             主要业务:移动互联网游戏业务,移动应用安全服务业务     软件服务  \n3     主要业务:交通及基础设施经营,低碳技术集成和环境处理服务,不动产开发管理及工程监理,酒店经营...     环境保护  \n4                         主要产品或提供的服务:提供商品住宅,以及提供物业租赁服务.     区域地产  \n...                                                 ...      ...  \n4987                            主营业务为药品制剂和原料药的研发,生产和销售.     化学制药  \n4988  公司是从事连接系统产品的研发,生产,销售和售后服务的综合解决方案提供商,主要产品包括电子元件...      元器件  \n4989  以电动轻型车动力电池业务为主,集电动特种车动力电池,新能源汽车动力电池,汽车起动启停电池,储...     电气设备  \n4990      主要为客户提供0.35微米至14纳米多种技术节点,不同工艺平台的集成电路晶圆代工及配套服务      半导体  \n4991  主营业务为各类智能短程移动设备的设计,研发,生产,销售及服务.公司主要产品分为智能电动平衡车...      摩托车  \n\n[4992 rows x 4 columns]",
      "text/html": "<div>\n<style scoped>\n    .dataframe tbody tr th:only-of-type {\n        vertical-align: middle;\n    }\n\n    .dataframe tbody tr th {\n        vertical-align: top;\n    }\n\n    .dataframe thead th {\n        text-align: right;\n    }\n</style>\n<table border=\"1\" class=\"dataframe\">\n  <thead>\n    <tr style=\"text-align: right;\">\n      <th></th>\n      <th>ts_code</th>\n      <th>introduction</th>\n      <th>main_business</th>\n      <th>industry</th>\n    </tr>\n  </thead>\n  <tbody>\n    <tr>\n      <th>0</th>\n      <td>000001.SZ</td>\n      <td>公司是深圳发展银行股份有限公司以吸收合并原平安银行股份有限公司的方式完成两行整合并更名后的银...</td>\n      <td>主要业务:贷款,拆借,存放等同业业务,债券投资.</td>\n      <td>银行</td>\n    </tr>\n    <tr>\n      <th>1</th>\n      <td>000002.SZ</td>\n      <td>公司成立于1984年，1988年进入房地产行业，经过三十余年的发展，已成为国内领先的城市配套...</td>\n      <td>房地产开发和物业服务</td>\n      <td>全国地产</td>\n    </tr>\n    <tr>\n      <th>2</th>\n      <td>000004.SZ</td>\n      <td>公司创立于1981年，1990年12月1日起在深圳证券交易所挂牌交易，是深交所首家挂牌的上市...</td>\n      <td>主要业务:移动互联网游戏业务,移动应用安全服务业务</td>\n      <td>软件服务</td>\n    </tr>\n    <tr>\n      <th>3</th>\n      <td>000005.SZ</td>\n      <td>公司是中国早期大规模介入酒店式公寓服务业的公司之一，中国早期上市的公司之一。公司从事的主要业...</td>\n      <td>主要业务:交通及基础设施经营,低碳技术集成和环境处理服务,不动产开发管理及工程监理,酒店经营...</td>\n      <td>环境保护</td>\n    </tr>\n    <tr>\n      <th>4</th>\n      <td>000006.SZ</td>\n      <td>公司是深圳市国有资产监督管理委员会直管的国有上市公司，公司以房地产开发经营为主营业务，具备国...</td>\n      <td>主要产品或提供的服务:提供商品住宅,以及提供物业租赁服务.</td>\n      <td>区域地产</td>\n    </tr>\n    <tr>\n      <th>...</th>\n      <td>...</td>\n      <td>...</td>\n      <td>...</td>\n      <td>...</td>\n    </tr>\n    <tr>\n      <th>4987</th>\n      <td>688799.SH</td>\n      <td>公司自创立以来，秉承“科技服务健康”的企业宗旨，遵循“潜心制药，诚信待人”的企业经营理念，坚...</td>\n      <td>主营业务为药品制剂和原料药的研发,生产和销售.</td>\n      <td>化学制药</td>\n    </tr>\n    <tr>\n      <th>4988</th>\n      <td>688800.SH</td>\n      <td>公司是专业从事连接系统产品的研发、生产、销售和服务的高新技术企业。自设立伊始，公司始终以连接...</td>\n      <td>公司是从事连接系统产品的研发,生产,销售和售后服务的综合解决方案提供商,主要产品包括电子元件...</td>\n      <td>元器件</td>\n    </tr>\n    <tr>\n      <th>4989</th>\n      <td>688819.SH</td>\n      <td>公司是一家以电动轻型车绿色动力电池业务为主，集电动特种车绿色动力电池、新能源汽车动力电池、汽...</td>\n      <td>以电动轻型车动力电池业务为主,集电动特种车动力电池,新能源汽车动力电池,汽车起动启停电池,储...</td>\n      <td>电气设备</td>\n    </tr>\n    <tr>\n      <th>4990</th>\n      <td>688981.SH</td>\n      <td>公司是全球领先的集成电路晶圆代工企业之一，也是中国大陆技术最先进、规模最大、配套服务最完善、...</td>\n      <td>主要为客户提供0.35微米至14纳米多种技术节点,不同工艺平台的集成电路晶圆代工及配套服务</td>\n      <td>半导体</td>\n    </tr>\n    <tr>\n      <th>4991</th>\n      <td>689009.SH</td>\n      <td>公司是专注于智能短交通和服务类机器人领域的创新企业。公司主营业务为各类智能短程移动设备的设计...</td>\n      <td>主营业务为各类智能短程移动设备的设计,研发,生产,销售及服务.公司主要产品分为智能电动平衡车...</td>\n      <td>摩托车</td>\n    </tr>\n  </tbody>\n</table>\n<p>4992 rows × 4 columns</p>\n</div>"
     },
     "execution_count": 16,
     "metadata": {},
     "output_type": "execute_result"
    }
   ],
   "source": [
    "knownIndustryDF['industry']=knownIndustryDF.apply(lambda x:rawCompanyDataInTushare[x['ts_code']==rawCompanyDataInTushare['ts_code']]['industry'].values[0],axis=1)\n",
    "knownIndustryDF=knownIndustryDF[knownIndustryDF['industry']!='None']\n",
    "print(\"行业数量（不包括None）: {}\\n行业:{}\".format(len(knownIndustryDF['industry'].unique()),knownIndustryDF['industry'].unique()))\n",
    "knownIndustryDF"
   ],
   "metadata": {
    "collapsed": false,
    "ExecuteTime": {
     "end_time": "2023-07-02T08:45:56.607848Z",
     "start_time": "2023-07-02T08:45:55.733713Z"
    }
   }
  },
  {
   "cell_type": "code",
   "execution_count": 17,
   "outputs": [],
   "source": [
    "### 由于有110个行业，有的重复度比较高，我打算降维一下\n",
    "def decreseIndustrDiamantion(theData,name):\n",
    "    theDecreased={'钢材':['特种钢','钢加工','普钢'],'酒类':['白酒','啤酒','红黄酒'],'矿业':['铝锌','铜','铝','黄金','小金属'],'石油':['石油加工','石油贸易','石油开采'],'电力':['火力发电','新型电力'],'机械':['轻工机械','纺织机械','工程机械','专用机械','机械基件'],'运输':['水运','空运','仓储物流'],'地产':['全国地产','区域地产']}\n",
    "    for thisIndex, thisRow in theData.iterrows():\n",
    "        for key, value in theDecreased.items():\n",
    "            if thisRow[name] in value:\n",
    "                thisRow[name]=key\n",
    "                theData.loc[thisIndex]=thisRow\n",
    "    return theData"
   ],
   "metadata": {
    "collapsed": false,
    "ExecuteTime": {
     "end_time": "2023-07-02T08:45:56.611534Z",
     "start_time": "2023-07-02T08:45:56.609797Z"
    }
   }
  },
  {
   "cell_type": "code",
   "execution_count": 18,
   "outputs": [
    {
     "name": "stderr",
     "output_type": "stream",
     "text": [
      "Building prefix dict from the default dictionary ...\n"
     ]
    },
    {
     "name": "stdout",
     "output_type": "stream",
     "text": [
      "2023-07-02 16:45:56,929 - jieba - DEBUG - Building prefix dict from the default dictionary ...\n"
     ]
    },
    {
     "name": "stderr",
     "output_type": "stream",
     "text": [
      "Loading model from cache /var/folders/ct/s3lrfn2541b8hydxbp_njzch0000gn/T/jieba.cache\n"
     ]
    },
    {
     "name": "stdout",
     "output_type": "stream",
     "text": [
      "2023-07-02 16:45:56,930 - jieba - DEBUG - Loading model from cache /var/folders/ct/s3lrfn2541b8hydxbp_njzch0000gn/T/jieba.cache\n"
     ]
    },
    {
     "name": "stderr",
     "output_type": "stream",
     "text": [
      "Loading model cost 0.341 seconds.\n"
     ]
    },
    {
     "name": "stdout",
     "output_type": "stream",
     "text": [
      "2023-07-02 16:45:57,271 - jieba - DEBUG - Loading model cost 0.341 seconds.\n"
     ]
    },
    {
     "name": "stderr",
     "output_type": "stream",
     "text": [
      "Prefix dict has been built successfully.\n"
     ]
    },
    {
     "name": "stdout",
     "output_type": "stream",
     "text": [
      "2023-07-02 16:45:57,272 - jieba - DEBUG - Prefix dict has been built successfully.\n"
     ]
    }
   ],
   "source": [
    "import math\n",
    "###分词\n",
    "import jieba\n",
    "import re\n",
    "import jieba.analyse as analyse\n",
    "\n",
    "for industry in knownIndustryDF['industry'].unique():\n",
    "    jieba.add_word(industry, freq=None, tag=None)\n",
    "\n",
    "\n",
    "def getStopWords(url):\n",
    "    with open(\"NLP/stopwords/hit_stopwords.txt\",'r',encoding='utf8') as f:\n",
    "        stopword = f.readlines()\n",
    "    return [i.replace('\\n','') for i in stopword]\n",
    "\n",
    "def tokenizPara(text,stopword,fin_length=0.5):\n",
    "    text=text.replace(\".\",\" \")\n",
    "    sentences=re.split('，|_|-|!|。|,|/|：|:',text.strip())\n",
    "    cutSentences=[]\n",
    "\n",
    "    ###先分词\n",
    "    for sentence in sentences:\n",
    "        ex=\"///\".join(jieba.cut(sentence,cut_all=False))\n",
    "        cutSentences+=ex.split('///')\n",
    "\n",
    "    ###先去除停用词与一些数字，拿到提纯的文本\n",
    "    afterStop=[i for i in cutSentences if len(i)>1 and not i.isdigit() and i not in stopword]\n",
    "\n",
    "    ###二次提纯，根据比例提出tf-idf分数高于平均的词语，并且词性作筛选,并且至少留住50%个词\n",
    "    afterTfidf=dict(analyse.extract_tags(\" \".join(afterStop), withWeight=True, allowPOS=('ns', 'n', 'vn')))\n",
    "    averTfidf=np.mean(list(afterTfidf.values()))\n",
    "    # if len([k for k, v in afterTfidf.items() if v>=averTfidf]) >=len(afterStop)*fin_length:\n",
    "    #     # print([k for k, v in afterTfidf.items() if v>=averTfidf])\n",
    "    #     return [k for k, v in afterTfidf.items() if v>=averTfidf]\n",
    "    # else:\n",
    "    #     afterTfidf=dict(sorted(afterTfidf.items(), key = lambda kv:kv[1],reverse=True))\n",
    "    #     # print(list(afterTfidf.keys())[:math.ceil(len(afterStop)*fin_length)])\n",
    "    #     return list(afterTfidf.keys())[:math.ceil(len(afterStop)*fin_length)]\n",
    "    return [k for k, v in afterTfidf.items()]\n",
    "\n",
    "def getVector(words):\n",
    "    \"\"\"\n",
    "    得到该句子的词向量总和\n",
    "    :param words: 字符串列表\n",
    "    \"\"\"\n",
    "    return"
   ],
   "metadata": {
    "collapsed": false,
    "ExecuteTime": {
     "end_time": "2023-07-02T08:45:57.276502Z",
     "start_time": "2023-07-02T08:45:56.614484Z"
    }
   }
  },
  {
   "cell_type": "code",
   "execution_count": 19,
   "outputs": [],
   "source": [
    "###todo 加载stopword\n",
    "cn_stopwords=getStopWords(\"NLP/stopwords/cn_stopwords.txt\")\n",
    "baidu_stopword=getStopWords(\"NLP/stopwords/baidu_stopwords.txt\")\n",
    "hit_stopword=getStopWords(\"NLP/stopwords/hit_stopwords.txt\")\n",
    "scu_stopword=getStopWords(\"NLP/stopwords/scu_stopwords.txt\")\n",
    "myStopword=['一家','','目前','公司','产品','企业','生产','山东','上市','坚实','每天','天天','完全','没有','众多','提供','完全','以古','地方','典当','拥有','下属','固有','无处不在','行业','销售','业务','主要','主要业务']\n",
    "limitedIndustryList=['机场','批发业','陶瓷','商品城','林业','电器连锁','公路']\n",
    "stopword_list=cn_stopwords+hit_stopword+baidu_stopword+scu_stopword+myStopword\n",
    "for stopword in stopword_list:\n",
    "    jieba.add_word(stopword, freq=None, tag=None)"
   ],
   "metadata": {
    "collapsed": false,
    "ExecuteTime": {
     "end_time": "2023-07-02T08:45:57.321990Z",
     "start_time": "2023-07-02T08:45:57.278171Z"
    }
   }
  },
  {
   "cell_type": "code",
   "execution_count": 20,
   "outputs": [],
   "source": [
    "###todo 开始分词\n",
    "unknownIndustryParagraphs=[]\n",
    "unknownIndustryCutKeyword=[]\n",
    "for item in noneIndustryDF.values:\n",
    "    # item2=\"\"\n",
    "    # if item[2]!=np.nan and item[2]!=np.NAN and item[2]!=\"nan\":\n",
    "    #     item2=item[2]\n",
    "    tokens=tokenizPara(str(item[1])+str(item[2]),stopword_list)\n",
    "    unknownIndustryParagraphs.append(tokens)\n",
    "    unknownIndustryCutKeyword.append(\" \".join(tokens))\n",
    "\n",
    "knownIndustryParagraphs=[]\n",
    "knownIndustryCutKeyword=[]\n",
    "for item in knownIndustryDF.values:\n",
    "    # item2=\"\"\n",
    "    # if item[2]!=np.nan and item[2]!=np.NAN and item[2]!=\"nan\":\n",
    "    #     item2=item[2]\n",
    "    tokens=tokenizPara(str(item[1])+str(item[2]),stopword_list)\n",
    "    knownIndustryParagraphs.append(tokens)\n",
    "    knownIndustryCutKeyword.append(\" \".join(tokens))\n",
    "\n",
    "\n",
    "# print(\"------------------------------------\\n\"\n",
    "#       \"unknowIndustry:\\n{}\"\n",
    "#       \"\\n------------------------------------\\n\"\n",
    "#       \"knowIndustry:\\n{}\".format(unknownIndustryParagraphs[:3],knownIndustryParagraphs[:3]))\n",
    "\n",
    "knownIndustryDF['keyword']=knownIndustryParagraphs\n",
    "knownIndustryDF['cut_keywords']=knownIndustryCutKeyword\n",
    "noneIndustryDF['keyword']=unknownIndustryParagraphs\n",
    "noneIndustryDF['cut_keywords']=unknownIndustryCutKeyword"
   ],
   "metadata": {
    "collapsed": false,
    "ExecuteTime": {
     "end_time": "2023-07-02T08:46:29.871551Z",
     "start_time": "2023-07-02T08:45:57.381032Z"
    }
   }
  },
  {
   "cell_type": "code",
   "execution_count": 21,
   "outputs": [
    {
     "name": "stdout",
     "output_type": "stream",
     "text": [
      "原文： ['银行', '零售', '转型', '领先', '客户', '双轻化', 'E通', '优势', '全面', '综合', '金融', '有限公司', '利用', '对公', '股份', '数据', '数字化', '分销', '精品', '全国性']\n"
     ]
    },
    {
     "data": {
      "text/plain": "['双轻化', 'E通', '对公', '数字化', '分销']"
     },
     "execution_count": 21,
     "metadata": {},
     "output_type": "execute_result"
    }
   ],
   "source": [
    "###todo test jieba\n",
    "print(\"原文：\",knownIndustryDF['keyword'].values[0])\n",
    "testwordlist=\" \".join(knownIndustryDF['keyword'].values[0])\n",
    "keywords = analyse.extract_tags(testwordlist, topK=5, withWeight=False, allowPOS=('ns', 'n', 'vn'))\n",
    "keywords"
   ],
   "metadata": {
    "collapsed": false,
    "ExecuteTime": {
     "end_time": "2023-07-02T08:46:29.876370Z",
     "start_time": "2023-07-02T08:46:29.872264Z"
    }
   }
  },
  {
   "cell_type": "code",
   "execution_count": 22,
   "outputs": [
    {
     "data": {
      "text/plain": "        ts_code                                       introduction  \\\n0     000001.SZ  公司是深圳发展银行股份有限公司以吸收合并原平安银行股份有限公司的方式完成两行整合并更名后的银...   \n1     000002.SZ  公司成立于1984年，1988年进入房地产行业，经过三十余年的发展，已成为国内领先的城市配套...   \n2     000004.SZ  公司创立于1981年，1990年12月1日起在深圳证券交易所挂牌交易，是深交所首家挂牌的上市...   \n3     000005.SZ  公司是中国早期大规模介入酒店式公寓服务业的公司之一，中国早期上市的公司之一。公司从事的主要业...   \n4     000006.SZ  公司是深圳市国有资产监督管理委员会直管的国有上市公司，公司以房地产开发经营为主营业务，具备国...   \n...         ...                                                ...   \n4987  688799.SH  公司自创立以来，秉承“科技服务健康”的企业宗旨，遵循“潜心制药，诚信待人”的企业经营理念，坚...   \n4988  688800.SH  公司是专业从事连接系统产品的研发、生产、销售和服务的高新技术企业。自设立伊始，公司始终以连接...   \n4989  688819.SH  公司是一家以电动轻型车绿色动力电池业务为主，集电动特种车绿色动力电池、新能源汽车动力电池、汽...   \n4990  688981.SH  公司是全球领先的集成电路晶圆代工企业之一，也是中国大陆技术最先进、规模最大、配套服务最完善、...   \n4991  689009.SH  公司是专注于智能短交通和服务类机器人领域的创新企业。公司主营业务为各类智能短程移动设备的设计...   \n\n                                          main_business industry  \\\n0                              主要业务:贷款,拆借,存放等同业业务,债券投资.       银行   \n1                                            房地产开发和物业服务       地产   \n2                             主要业务:移动互联网游戏业务,移动应用安全服务业务     软件服务   \n3     主要业务:交通及基础设施经营,低碳技术集成和环境处理服务,不动产开发管理及工程监理,酒店经营...     环境保护   \n4                         主要产品或提供的服务:提供商品住宅,以及提供物业租赁服务.       地产   \n...                                                 ...      ...   \n4987                            主营业务为药品制剂和原料药的研发,生产和销售.     化学制药   \n4988  公司是从事连接系统产品的研发,生产,销售和售后服务的综合解决方案提供商,主要产品包括电子元件...      元器件   \n4989  以电动轻型车动力电池业务为主,集电动特种车动力电池,新能源汽车动力电池,汽车起动启停电池,储...     电气设备   \n4990      主要为客户提供0.35微米至14纳米多种技术节点,不同工艺平台的集成电路晶圆代工及配套服务      半导体   \n4991  主营业务为各类智能短程移动设备的设计,研发,生产,销售及服务.公司主要产品分为智能电动平衡车...      摩托车   \n\n                                                keyword  \\\n0     [银行, 零售, 转型, 领先, 客户, 双轻化, E通, 优势, 全面, 综合, 金融, ...   \n1     [服务商, 住宅, 物业, 服务, 城市, 生态, 发展, 定位, 运营, 升级, 长租, ...   \n2     [移动, 互联网, 指纹识别, 资产, 主营业务, 外延, 调整, 游戏, 优化, 智游, ...   \n3     [服务, 绿色, 经营, 基础设施, 发展, 项目, 物管, 管理, 社区, 环境, 重构,...   \n4     [振业, 花园, 星海, 百强, 名城, 深圳市, 住宅, 物业, 综合奖, 泊墅, 深圳,...   \n...                                                 ...   \n4987  [类药物, 药品, 消化, 果胶, 原料药, 胶体, 制剂, 质量, 主营业务, 磷霉素, ...   \n4988  [苏州市, 电子元件, 系统, 专精, 单位, 协会, 器件, 微波, 理事单位, 线束, ...   \n4989  [电池, 动力电池, 绿色, 轻型车, 电动, 储能, 特种车, 汽车, 工作站, 国家, ...   \n4990  [代工, 工艺, 服务, 客户, 大陆, 技术, 节点, 高性能, 传感器, 领域, 图像,...   \n4991  [智能, 电动, 机器人, 服务, 滑板车, 领域, 设计, 主营业务, 移动, 链延伸, ...   \n\n                                           cut_keywords  \n0     银行 零售 转型 领先 客户 双轻化 E通 优势 全面 综合 金融 有限公司 利用 对公 股...  \n1     服务商 住宅 物业 服务 城市 生态 发展 定位 运营 升级 长租 试验田 建设者 经济圈 ...  \n2     移动 互联网 指纹识别 资产 主营业务 外延 调整 游戏 优化 智游 网安 生物 互联网服务...  \n3     服务 绿色 经营 基础设施 发展 项目 物管 管理 社区 环境 重构 监理 交通 投资 营造...  \n4     振业 花园 星海 百强 名城 深圳市 住宅 物业 综合奖 泊墅 深圳 产品类别 直管 金质奖...  \n...                                                 ...  \n4987  类药物 药品 消化 果胶 原料药 胶体 制剂 质量 主营业务 磷霉素 企业宗旨 半胱氨酸 法...  \n4988  苏州市 电子元件 系统 专精 单位 协会 器件 微波 理事单位 线束 客户 产品链 企业信用...  \n4989  电池 动力电池 绿色 轻型车 电动 储能 特种车 汽车 工作站 国家 品类 轻工业 新能源 ...  \n4990  代工 工艺 服务 客户 大陆 技术 节点 高性能 传感器 领域 图像 产业链 国际 特色 平...  \n4991  智能 电动 机器人 服务 滑板车 领域 设计 主营业务 移动 链延伸 交通 设备 工业 知名...  \n\n[4992 rows x 6 columns]",
      "text/html": "<div>\n<style scoped>\n    .dataframe tbody tr th:only-of-type {\n        vertical-align: middle;\n    }\n\n    .dataframe tbody tr th {\n        vertical-align: top;\n    }\n\n    .dataframe thead th {\n        text-align: right;\n    }\n</style>\n<table border=\"1\" class=\"dataframe\">\n  <thead>\n    <tr style=\"text-align: right;\">\n      <th></th>\n      <th>ts_code</th>\n      <th>introduction</th>\n      <th>main_business</th>\n      <th>industry</th>\n      <th>keyword</th>\n      <th>cut_keywords</th>\n    </tr>\n  </thead>\n  <tbody>\n    <tr>\n      <th>0</th>\n      <td>000001.SZ</td>\n      <td>公司是深圳发展银行股份有限公司以吸收合并原平安银行股份有限公司的方式完成两行整合并更名后的银...</td>\n      <td>主要业务:贷款,拆借,存放等同业业务,债券投资.</td>\n      <td>银行</td>\n      <td>[银行, 零售, 转型, 领先, 客户, 双轻化, E通, 优势, 全面, 综合, 金融, ...</td>\n      <td>银行 零售 转型 领先 客户 双轻化 E通 优势 全面 综合 金融 有限公司 利用 对公 股...</td>\n    </tr>\n    <tr>\n      <th>1</th>\n      <td>000002.SZ</td>\n      <td>公司成立于1984年，1988年进入房地产行业，经过三十余年的发展，已成为国内领先的城市配套...</td>\n      <td>房地产开发和物业服务</td>\n      <td>地产</td>\n      <td>[服务商, 住宅, 物业, 服务, 城市, 生态, 发展, 定位, 运营, 升级, 长租, ...</td>\n      <td>服务商 住宅 物业 服务 城市 生态 发展 定位 运营 升级 长租 试验田 建设者 经济圈 ...</td>\n    </tr>\n    <tr>\n      <th>2</th>\n      <td>000004.SZ</td>\n      <td>公司创立于1981年，1990年12月1日起在深圳证券交易所挂牌交易，是深交所首家挂牌的上市...</td>\n      <td>主要业务:移动互联网游戏业务,移动应用安全服务业务</td>\n      <td>软件服务</td>\n      <td>[移动, 互联网, 指纹识别, 资产, 主营业务, 外延, 调整, 游戏, 优化, 智游, ...</td>\n      <td>移动 互联网 指纹识别 资产 主营业务 外延 调整 游戏 优化 智游 网安 生物 互联网服务...</td>\n    </tr>\n    <tr>\n      <th>3</th>\n      <td>000005.SZ</td>\n      <td>公司是中国早期大规模介入酒店式公寓服务业的公司之一，中国早期上市的公司之一。公司从事的主要业...</td>\n      <td>主要业务:交通及基础设施经营,低碳技术集成和环境处理服务,不动产开发管理及工程监理,酒店经营...</td>\n      <td>环境保护</td>\n      <td>[服务, 绿色, 经营, 基础设施, 发展, 项目, 物管, 管理, 社区, 环境, 重构,...</td>\n      <td>服务 绿色 经营 基础设施 发展 项目 物管 管理 社区 环境 重构 监理 交通 投资 营造...</td>\n    </tr>\n    <tr>\n      <th>4</th>\n      <td>000006.SZ</td>\n      <td>公司是深圳市国有资产监督管理委员会直管的国有上市公司，公司以房地产开发经营为主营业务，具备国...</td>\n      <td>主要产品或提供的服务:提供商品住宅,以及提供物业租赁服务.</td>\n      <td>地产</td>\n      <td>[振业, 花园, 星海, 百强, 名城, 深圳市, 住宅, 物业, 综合奖, 泊墅, 深圳,...</td>\n      <td>振业 花园 星海 百强 名城 深圳市 住宅 物业 综合奖 泊墅 深圳 产品类别 直管 金质奖...</td>\n    </tr>\n    <tr>\n      <th>...</th>\n      <td>...</td>\n      <td>...</td>\n      <td>...</td>\n      <td>...</td>\n      <td>...</td>\n      <td>...</td>\n    </tr>\n    <tr>\n      <th>4987</th>\n      <td>688799.SH</td>\n      <td>公司自创立以来，秉承“科技服务健康”的企业宗旨，遵循“潜心制药，诚信待人”的企业经营理念，坚...</td>\n      <td>主营业务为药品制剂和原料药的研发,生产和销售.</td>\n      <td>化学制药</td>\n      <td>[类药物, 药品, 消化, 果胶, 原料药, 胶体, 制剂, 质量, 主营业务, 磷霉素, ...</td>\n      <td>类药物 药品 消化 果胶 原料药 胶体 制剂 质量 主营业务 磷霉素 企业宗旨 半胱氨酸 法...</td>\n    </tr>\n    <tr>\n      <th>4988</th>\n      <td>688800.SH</td>\n      <td>公司是专业从事连接系统产品的研发、生产、销售和服务的高新技术企业。自设立伊始，公司始终以连接...</td>\n      <td>公司是从事连接系统产品的研发,生产,销售和售后服务的综合解决方案提供商,主要产品包括电子元件...</td>\n      <td>元器件</td>\n      <td>[苏州市, 电子元件, 系统, 专精, 单位, 协会, 器件, 微波, 理事单位, 线束, ...</td>\n      <td>苏州市 电子元件 系统 专精 单位 协会 器件 微波 理事单位 线束 客户 产品链 企业信用...</td>\n    </tr>\n    <tr>\n      <th>4989</th>\n      <td>688819.SH</td>\n      <td>公司是一家以电动轻型车绿色动力电池业务为主，集电动特种车绿色动力电池、新能源汽车动力电池、汽...</td>\n      <td>以电动轻型车动力电池业务为主,集电动特种车动力电池,新能源汽车动力电池,汽车起动启停电池,储...</td>\n      <td>电气设备</td>\n      <td>[电池, 动力电池, 绿色, 轻型车, 电动, 储能, 特种车, 汽车, 工作站, 国家, ...</td>\n      <td>电池 动力电池 绿色 轻型车 电动 储能 特种车 汽车 工作站 国家 品类 轻工业 新能源 ...</td>\n    </tr>\n    <tr>\n      <th>4990</th>\n      <td>688981.SH</td>\n      <td>公司是全球领先的集成电路晶圆代工企业之一，也是中国大陆技术最先进、规模最大、配套服务最完善、...</td>\n      <td>主要为客户提供0.35微米至14纳米多种技术节点,不同工艺平台的集成电路晶圆代工及配套服务</td>\n      <td>半导体</td>\n      <td>[代工, 工艺, 服务, 客户, 大陆, 技术, 节点, 高性能, 传感器, 领域, 图像,...</td>\n      <td>代工 工艺 服务 客户 大陆 技术 节点 高性能 传感器 领域 图像 产业链 国际 特色 平...</td>\n    </tr>\n    <tr>\n      <th>4991</th>\n      <td>689009.SH</td>\n      <td>公司是专注于智能短交通和服务类机器人领域的创新企业。公司主营业务为各类智能短程移动设备的设计...</td>\n      <td>主营业务为各类智能短程移动设备的设计,研发,生产,销售及服务.公司主要产品分为智能电动平衡车...</td>\n      <td>摩托车</td>\n      <td>[智能, 电动, 机器人, 服务, 滑板车, 领域, 设计, 主营业务, 移动, 链延伸, ...</td>\n      <td>智能 电动 机器人 服务 滑板车 领域 设计 主营业务 移动 链延伸 交通 设备 工业 知名...</td>\n    </tr>\n  </tbody>\n</table>\n<p>4992 rows × 6 columns</p>\n</div>"
     },
     "execution_count": 22,
     "metadata": {},
     "output_type": "execute_result"
    }
   ],
   "source": [
    "###todo 行业降维\n",
    "knownIndustryDF=decreseIndustrDiamantion(knownIndustryDF,'industry')\n",
    "knownIndustryDF"
   ],
   "metadata": {
    "collapsed": false,
    "ExecuteTime": {
     "end_time": "2023-07-02T08:46:30.055164Z",
     "start_time": "2023-07-02T08:46:29.877139Z"
    }
   }
  },
  {
   "cell_type": "code",
   "execution_count": 23,
   "outputs": [
    {
     "data": {
      "text/plain": "   industry                                            keyword  \\\n0        饲料  [饲料行业, 饲料, 国家, 肉食品, 浓缩料, 进步奖, 产业化, 科学技术, 研究, 种...   \n0        食品  [品牌, 影响力, 古船, 植物油, 古币, 评选活动, 知名品牌, 北京, 加工, 食品,...   \n0        陶瓷  [釉面砖, 地砖, 名牌产品, 医疗, 陶瓷, 玻化砖, 内外墙, 墙砖, 绿色建材, 磁砖...   \n0        银行  [银行, 零售, 转型, 领先, 客户, 双轻化, E通, 优势, 全面, 综合, 金融, ...   \n0        铅锌  [铅锌, 选矿, 铅锭, 锌合金, 铅锌矿, 硫磺, 金属, 硫酸, 矿业, 有色金属, 黄...   \n..      ...                                                ...   \n0      供气供热  [天然气, 产业, 塑胶, 山东省, 塑胶管, 农化, 守信用, 能源, 胜邦, 经营, 主...   \n0       互联网  [服务, 线下, 门店, 互联网, 团队, 人才, 布局, 百城, 模式, 高度, 千店, ...   \n0       乳制品  [乳饮料, 乳制品, 低温, 管理体系, 主打产品, 消费者, 质量, 牧场, 示范场, 江...   \n0       中成药  [百强, 胶类, 中药, 东阿, 全国, 阿胶, 医药, 国家, 中国, 质量体系, 保健食...   \n0      IT设备  [信息化, 中间件, 关键, 外设, 电子, 领域, 服务, 计算机信息, 业务水平, 党政...   \n\n                                             AllIntro  \\\n0   [公司是一家以研发生产销售饲料产品为主营业务，拥有自主知识产权的大型企业集团。公司除进行饲料...   \n0   [公司是海南省首家A、B股上市公司，公司原主业为房地产开发、酒店旅游、物业管理，后经过重大资...   \n0   [公司是专业生产和销售高级玻化石和高级釉面砖系列产品的企业，主营业务为玻化砖、釉面砖的生产与...   \n0   [公司是深圳发展银行股份有限公司以吸收合并原平安银行股份有限公司的方式完成两行整合并更名后的...   \n0   [公司是一家主要是从事铅锌铜等有色金属的采矿、选矿、冶炼和深加工一体化生产的企业。公司通过一...   \n..                                                ...   \n0   [公司是山东省政府重点扶持的骨干企业。司投资经营主要在天然气、塑胶管道等产业领域，现已形成胜...   \n0   [公司是国内为数不多的互联网企业服务商，主要以“连锁化”和“互联网化”的O2O模式为中小微企...   \n0   [公司专注于乳制品及乳饮料的研发、生产和销售，并以低温乳制品、低温乳饮料为主打产品。作为城市...   \n0   [公司系国家高新技术企业、国家级创新型企业、国家胶类中药工程技术研究中心、国家胶类中药标准制...   \n0   [公司是中国电子网络安全与信息化的专业子集团，核心业务覆盖自主可控关键基础设施及解决方案、军...   \n\n                                            frequency  \\\n0   {'饲料': 14, '产业化': 7, '龙头企业': 7, '养殖': 7, '国家':...   \n0   {'食品': 48, '品牌': 17, '主营业务': 17, '技术': 16, '龙头...   \n0   {'陶瓷': 3, '主营业务': 3, '建筑': 2, '材料': 2, '釉面砖': ...   \n0   {'银行': 34, '服务': 21, '金融': 16, '银行业务': 14, '客户...   \n0   {'有色金属': 10, '矿山': 7, '铅锌': 6, '铅锌矿': 5, '硫酸':...   \n..                                                ...   \n0   {'天然气': 26, '服务': 21, '燃气': 17, '能源': 16, '经营'...   \n0   {'服务': 54, '互联网': 52, '主营业务': 30, '运营': 29, '平...   \n0   {'乳制品': 14, '乳饮料': 10, '乳品': 10, '食品': 8, '加工'...   \n0   {'中药': 42, '胶囊': 32, '国家': 27, '心脑血管': 21, '药品...   \n0   {'技术': 30, '解决方案': 29, '服务': 25, '智能': 21, '领域...   \n\n                                         cut_keywords  \n0   饲料行业 饲料 国家 肉食品 浓缩料 进步奖 产业化 科学技术 研究 种猪场 银质奖章 加工...  \n0   品牌 影响力 古船 植物油 古币 评选活动 知名品牌 北京 加工 食品 主营业务 股份 胚芽...  \n0   釉面砖 地砖 名牌产品 医疗 陶瓷 玻化砖 内外墙 墙砖 绿色建材 磁砖 资源 权威机构 系...  \n0   银行 零售 转型 领先 客户 双轻化 E通 优势 全面 综合 金融 有限公司 利用 对公 股...  \n0   铅锌 选矿 铅锭 锌合金 铅锌矿 硫磺 金属 硫酸 矿业 有色金属 黄金 省部级 工业 工作...  \n..                                                ...  \n0   天然气 产业 塑胶 山东省 塑胶管 农化 守信用 能源 胜邦 经营 主导产业 重点 分布式 ...  \n0   服务 线下 门店 互联网 团队 人才 布局 百城 模式 高度 千店 增员 现代级 互联网服务...  \n0   乳饮料 乳制品 低温 管理体系 主打产品 消费者 质量 牧场 示范场 江西 责任事故 生命 ...  \n0   百强 胶类 中药 东阿 全国 阿胶 医药 国家 中国 质量体系 保健食品 辅料 新药 制定者...  \n0   信息化 中间件 关键 外设 电子 领域 服务 计算机信息 业务水平 党政 技术 株洲 产品线...  \n\n[93 rows x 5 columns]",
      "text/html": "<div>\n<style scoped>\n    .dataframe tbody tr th:only-of-type {\n        vertical-align: middle;\n    }\n\n    .dataframe tbody tr th {\n        vertical-align: top;\n    }\n\n    .dataframe thead th {\n        text-align: right;\n    }\n</style>\n<table border=\"1\" class=\"dataframe\">\n  <thead>\n    <tr style=\"text-align: right;\">\n      <th></th>\n      <th>industry</th>\n      <th>keyword</th>\n      <th>AllIntro</th>\n      <th>frequency</th>\n      <th>cut_keywords</th>\n    </tr>\n  </thead>\n  <tbody>\n    <tr>\n      <th>0</th>\n      <td>饲料</td>\n      <td>[饲料行业, 饲料, 国家, 肉食品, 浓缩料, 进步奖, 产业化, 科学技术, 研究, 种...</td>\n      <td>[公司是一家以研发生产销售饲料产品为主营业务，拥有自主知识产权的大型企业集团。公司除进行饲料...</td>\n      <td>{'饲料': 14, '产业化': 7, '龙头企业': 7, '养殖': 7, '国家':...</td>\n      <td>饲料行业 饲料 国家 肉食品 浓缩料 进步奖 产业化 科学技术 研究 种猪场 银质奖章 加工...</td>\n    </tr>\n    <tr>\n      <th>0</th>\n      <td>食品</td>\n      <td>[品牌, 影响力, 古船, 植物油, 古币, 评选活动, 知名品牌, 北京, 加工, 食品,...</td>\n      <td>[公司是海南省首家A、B股上市公司，公司原主业为房地产开发、酒店旅游、物业管理，后经过重大资...</td>\n      <td>{'食品': 48, '品牌': 17, '主营业务': 17, '技术': 16, '龙头...</td>\n      <td>品牌 影响力 古船 植物油 古币 评选活动 知名品牌 北京 加工 食品 主营业务 股份 胚芽...</td>\n    </tr>\n    <tr>\n      <th>0</th>\n      <td>陶瓷</td>\n      <td>[釉面砖, 地砖, 名牌产品, 医疗, 陶瓷, 玻化砖, 内外墙, 墙砖, 绿色建材, 磁砖...</td>\n      <td>[公司是专业生产和销售高级玻化石和高级釉面砖系列产品的企业，主营业务为玻化砖、釉面砖的生产与...</td>\n      <td>{'陶瓷': 3, '主营业务': 3, '建筑': 2, '材料': 2, '釉面砖': ...</td>\n      <td>釉面砖 地砖 名牌产品 医疗 陶瓷 玻化砖 内外墙 墙砖 绿色建材 磁砖 资源 权威机构 系...</td>\n    </tr>\n    <tr>\n      <th>0</th>\n      <td>银行</td>\n      <td>[银行, 零售, 转型, 领先, 客户, 双轻化, E通, 优势, 全面, 综合, 金融, ...</td>\n      <td>[公司是深圳发展银行股份有限公司以吸收合并原平安银行股份有限公司的方式完成两行整合并更名后的...</td>\n      <td>{'银行': 34, '服务': 21, '金融': 16, '银行业务': 14, '客户...</td>\n      <td>银行 零售 转型 领先 客户 双轻化 E通 优势 全面 综合 金融 有限公司 利用 对公 股...</td>\n    </tr>\n    <tr>\n      <th>0</th>\n      <td>铅锌</td>\n      <td>[铅锌, 选矿, 铅锭, 锌合金, 铅锌矿, 硫磺, 金属, 硫酸, 矿业, 有色金属, 黄...</td>\n      <td>[公司是一家主要是从事铅锌铜等有色金属的采矿、选矿、冶炼和深加工一体化生产的企业。公司通过一...</td>\n      <td>{'有色金属': 10, '矿山': 7, '铅锌': 6, '铅锌矿': 5, '硫酸':...</td>\n      <td>铅锌 选矿 铅锭 锌合金 铅锌矿 硫磺 金属 硫酸 矿业 有色金属 黄金 省部级 工业 工作...</td>\n    </tr>\n    <tr>\n      <th>...</th>\n      <td>...</td>\n      <td>...</td>\n      <td>...</td>\n      <td>...</td>\n      <td>...</td>\n    </tr>\n    <tr>\n      <th>0</th>\n      <td>供气供热</td>\n      <td>[天然气, 产业, 塑胶, 山东省, 塑胶管, 农化, 守信用, 能源, 胜邦, 经营, 主...</td>\n      <td>[公司是山东省政府重点扶持的骨干企业。司投资经营主要在天然气、塑胶管道等产业领域，现已形成胜...</td>\n      <td>{'天然气': 26, '服务': 21, '燃气': 17, '能源': 16, '经营'...</td>\n      <td>天然气 产业 塑胶 山东省 塑胶管 农化 守信用 能源 胜邦 经营 主导产业 重点 分布式 ...</td>\n    </tr>\n    <tr>\n      <th>0</th>\n      <td>互联网</td>\n      <td>[服务, 线下, 门店, 互联网, 团队, 人才, 布局, 百城, 模式, 高度, 千店, ...</td>\n      <td>[公司是国内为数不多的互联网企业服务商，主要以“连锁化”和“互联网化”的O2O模式为中小微企...</td>\n      <td>{'服务': 54, '互联网': 52, '主营业务': 30, '运营': 29, '平...</td>\n      <td>服务 线下 门店 互联网 团队 人才 布局 百城 模式 高度 千店 增员 现代级 互联网服务...</td>\n    </tr>\n    <tr>\n      <th>0</th>\n      <td>乳制品</td>\n      <td>[乳饮料, 乳制品, 低温, 管理体系, 主打产品, 消费者, 质量, 牧场, 示范场, 江...</td>\n      <td>[公司专注于乳制品及乳饮料的研发、生产和销售，并以低温乳制品、低温乳饮料为主打产品。作为城市...</td>\n      <td>{'乳制品': 14, '乳饮料': 10, '乳品': 10, '食品': 8, '加工'...</td>\n      <td>乳饮料 乳制品 低温 管理体系 主打产品 消费者 质量 牧场 示范场 江西 责任事故 生命 ...</td>\n    </tr>\n    <tr>\n      <th>0</th>\n      <td>中成药</td>\n      <td>[百强, 胶类, 中药, 东阿, 全国, 阿胶, 医药, 国家, 中国, 质量体系, 保健食...</td>\n      <td>[公司系国家高新技术企业、国家级创新型企业、国家胶类中药工程技术研究中心、国家胶类中药标准制...</td>\n      <td>{'中药': 42, '胶囊': 32, '国家': 27, '心脑血管': 21, '药品...</td>\n      <td>百强 胶类 中药 东阿 全国 阿胶 医药 国家 中国 质量体系 保健食品 辅料 新药 制定者...</td>\n    </tr>\n    <tr>\n      <th>0</th>\n      <td>IT设备</td>\n      <td>[信息化, 中间件, 关键, 外设, 电子, 领域, 服务, 计算机信息, 业务水平, 党政...</td>\n      <td>[公司是中国电子网络安全与信息化的专业子集团，核心业务覆盖自主可控关键基础设施及解决方案、军...</td>\n      <td>{'技术': 30, '解决方案': 29, '服务': 25, '智能': 21, '领域...</td>\n      <td>信息化 中间件 关键 外设 电子 领域 服务 计算机信息 业务水平 党政 技术 株洲 产品线...</td>\n    </tr>\n  </tbody>\n</table>\n<p>93 rows × 5 columns</p>\n</div>"
     },
     "execution_count": 23,
     "metadata": {},
     "output_type": "execute_result"
    }
   ],
   "source": [
    "### todo 分类并合并数据\n",
    "# print(knownIndustryDF.head())\n",
    "tempdf=knownIndustryDF\n",
    "###根据行业合并文本，合并材料\n",
    "introductionByIndustry=pd.DataFrame()\n",
    "for intro in list(tempdf.groupby('industry')):\n",
    "    paras=[]\n",
    "    AllIntroduction=[]\n",
    "    for para in intro[1][['keyword','introduction']].values:\n",
    "        paras+=para[0]\n",
    "        AllIntroduction.append(para[1])\n",
    "\n",
    "    ###calculate word frequency\n",
    "    freq={}\n",
    "    for word in paras:\n",
    "        if word in freq:\n",
    "            freq[word]+=1\n",
    "        else:\n",
    "            freq[word]=1\n",
    "    freq=sorted(freq.items(), key = lambda kv:kv[1],reverse=True)\n",
    "    freq = dict(freq)\n",
    "    #('机场', 5), ('批发业', 5), ('陶瓷', 5), ('商品城', 4), ('林业', 4), ('电器连锁', 2), ('公路', 2)\n",
    "    ###开始排除部分词频为1的词语，减少影响，以上的行业关键词看情况减少，因为样本数量实在太少了\n",
    "    notIncludedIndustryWords=[]\n",
    "    # for key, value in freq.items():\n",
    "    #     if value==1:\n",
    "    #         notIncludedIndustryWords.append(key)\n",
    "    #         stopword_list.append(key)\n",
    "    # if intro[0] not in limitedIndustryList:\n",
    "    # print(\"industry: {}, notIncl: {}\".format(intro[0],notIncludedIndustryWords))\n",
    "    # paras=[x for x in paras if x not in notIncludedIndustryWords]\n",
    "    row=pd.DataFrame({'industry':intro[0],'keyword':[paras],'AllIntro':[AllIntroduction],'frequency':[freq]})\n",
    "    introductionByIndustry=pd.concat([row,introductionByIndustry])\n",
    "\n",
    "introductionByIndustry['cut_keywords']=introductionByIndustry.apply(lambda x:\" \".join(x['keyword']), axis=1)\n",
    "\n",
    "###\n",
    "#对未知行业的关键词也进行筛选\n",
    "noneIndustryDF['keyword']=noneIndustryDF['keyword'].apply(lambda x: [j for j in x if j not in stopword_list])\n",
    "knownIndustryDF['keyword']=knownIndustryDF['keyword'].apply(lambda x : [j for j in x if j not in stopword_list])\n",
    "introductionByIndustry"
   ],
   "metadata": {
    "collapsed": false,
    "ExecuteTime": {
     "end_time": "2023-07-02T08:46:32.823865Z",
     "start_time": "2023-07-02T08:46:30.058695Z"
    }
   }
  },
  {
   "cell_type": "code",
   "execution_count": 24,
   "outputs": [
    {
     "data": {
      "text/plain": "  industry                                            keyword  \\\n0       陶瓷  [釉面砖, 地砖, 名牌产品, 医疗, 陶瓷, 玻化砖, 内外墙, 墙砖, 绿色建材, 磁砖...   \n0     电器连锁  [物流, 服务, 体验, 电器, 供应链, 效率, 云和, 消品, 家装, 空调器, 维度,...   \n0       林业  [烟草, 化肥, 营林, 农资, 纤维板, 加工, 造林, 子公司, 福人, 品牌, 园林景...   \n0       机场  [航空, 主业, 机场, 运营, 旅客, 服务, 管理, 停场, 候机, 战略, 进出港, ...   \n0      批发业  [汽车空调, 空调设备, 服务, 经营, 集团型, 资质证书, 客户, 发展, 汽车, 新起...   \n0      商品城  [专业, 市场, 电子市场, 电子, 服务, 渠道, 小额贷款, 电子商务, 经营, 主营业...   \n0       公路  [客运站, 运输, 道路, 百强, 服务, 汽车, 旅客, 经营, 主营业务, 站务, 先锋...   \n\n                                            AllIntro  \\\n0  [公司是专业生产和销售高级玻化石和高级釉面砖系列产品的企业，主营业务为玻化砖、釉面砖的生产与...   \n0  [公司是中国领先的O2O智慧零售商，面对互联网、物联网、大数据时代，持续推进智慧零售和线上线...   \n0  [公司经营领域涵盖造林营林、林木产品加工与销售、种苗培育、园林景观、建筑材料制造与销售、房产...   \n0  [公司是国内最早由地方政府自主投资建设管理的机场，也是中国最大的航空运输市场之一。公司作为深...   \n0  [公司是国内最早进入汽车空调行业的企业之一。主要从事生产、销售制冷空调设备，销售汽车(含小轿...   \n0  [公司的主营业务是电子专业市场及其配套项目的开发及经营、物业租赁服务业务、贸易及渠道业务、电...   \n0  [公司是专业从事公路运输的国家道路旅客运输一级企业、中国道路运输百强企业、国家一级道路旅客运...   \n\n                                           frequency  \\\n0  {'陶瓷': 3, '主营业务': 3, '建筑': 2, '材料': 2, '釉面砖': ...   \n0  {'服务': 2, '供应链': 2, '数码': 2, '物流': 1, '体验': 1,...   \n0  {'纤维板': 2, '造林': 2, '品牌': 2, '种苗': 2, '名牌产品': ...   \n0  {'机场': 5, '航空': 4, '旅客': 4, '服务': 4, '运营': 2, ...   \n0  {'服务': 4, '客户': 2, '发展': 2, '投资': 2, '项目': 2, ...   \n0  {'市场': 4, '服务': 3, '专业': 2, '电子商务': 2, '交易': 2...   \n0  {'客运站': 2, '运输': 2, '道路': 2, '服务': 2, '汽车': 2,...   \n\n                                        cut_keywords  \n0  釉面砖 地砖 名牌产品 医疗 陶瓷 玻化砖 内外墙 墙砖 绿色建材 磁砖 资源 权威机构 系...  \n0  物流 服务 体验 电器 供应链 效率 云和 消品 家装 空调器 维度 服务平台 高标准 数据...  \n0  烟草 化肥 营林 农资 纤维板 加工 造林 子公司 福人 品牌 园林景观 贸易 种苗 领域 ...  \n0  航空 主业 机场 运营 旅客 服务 管理 停场 候机 战略 进出港 提供者 控制区 引领者 ...  \n0  汽车空调 空调设备 服务 经营 集团型 资质证书 客户 发展 汽车 新起点 科学管理 小轿车...  \n0  专业 市场 电子市场 电子 服务 渠道 小额贷款 电子商务 经营 主营业务 影响力 物业 品...  \n0  客运站 运输 道路 百强 服务 汽车 旅客 经营 主营业务 站务 先锋号 荣誉称号 班车 信...  ",
      "text/html": "<div>\n<style scoped>\n    .dataframe tbody tr th:only-of-type {\n        vertical-align: middle;\n    }\n\n    .dataframe tbody tr th {\n        vertical-align: top;\n    }\n\n    .dataframe thead th {\n        text-align: right;\n    }\n</style>\n<table border=\"1\" class=\"dataframe\">\n  <thead>\n    <tr style=\"text-align: right;\">\n      <th></th>\n      <th>industry</th>\n      <th>keyword</th>\n      <th>AllIntro</th>\n      <th>frequency</th>\n      <th>cut_keywords</th>\n    </tr>\n  </thead>\n  <tbody>\n    <tr>\n      <th>0</th>\n      <td>陶瓷</td>\n      <td>[釉面砖, 地砖, 名牌产品, 医疗, 陶瓷, 玻化砖, 内外墙, 墙砖, 绿色建材, 磁砖...</td>\n      <td>[公司是专业生产和销售高级玻化石和高级釉面砖系列产品的企业，主营业务为玻化砖、釉面砖的生产与...</td>\n      <td>{'陶瓷': 3, '主营业务': 3, '建筑': 2, '材料': 2, '釉面砖': ...</td>\n      <td>釉面砖 地砖 名牌产品 医疗 陶瓷 玻化砖 内外墙 墙砖 绿色建材 磁砖 资源 权威机构 系...</td>\n    </tr>\n    <tr>\n      <th>0</th>\n      <td>电器连锁</td>\n      <td>[物流, 服务, 体验, 电器, 供应链, 效率, 云和, 消品, 家装, 空调器, 维度,...</td>\n      <td>[公司是中国领先的O2O智慧零售商，面对互联网、物联网、大数据时代，持续推进智慧零售和线上线...</td>\n      <td>{'服务': 2, '供应链': 2, '数码': 2, '物流': 1, '体验': 1,...</td>\n      <td>物流 服务 体验 电器 供应链 效率 云和 消品 家装 空调器 维度 服务平台 高标准 数据...</td>\n    </tr>\n    <tr>\n      <th>0</th>\n      <td>林业</td>\n      <td>[烟草, 化肥, 营林, 农资, 纤维板, 加工, 造林, 子公司, 福人, 品牌, 园林景...</td>\n      <td>[公司经营领域涵盖造林营林、林木产品加工与销售、种苗培育、园林景观、建筑材料制造与销售、房产...</td>\n      <td>{'纤维板': 2, '造林': 2, '品牌': 2, '种苗': 2, '名牌产品': ...</td>\n      <td>烟草 化肥 营林 农资 纤维板 加工 造林 子公司 福人 品牌 园林景观 贸易 种苗 领域 ...</td>\n    </tr>\n    <tr>\n      <th>0</th>\n      <td>机场</td>\n      <td>[航空, 主业, 机场, 运营, 旅客, 服务, 管理, 停场, 候机, 战略, 进出港, ...</td>\n      <td>[公司是国内最早由地方政府自主投资建设管理的机场，也是中国最大的航空运输市场之一。公司作为深...</td>\n      <td>{'机场': 5, '航空': 4, '旅客': 4, '服务': 4, '运营': 2, ...</td>\n      <td>航空 主业 机场 运营 旅客 服务 管理 停场 候机 战略 进出港 提供者 控制区 引领者 ...</td>\n    </tr>\n    <tr>\n      <th>0</th>\n      <td>批发业</td>\n      <td>[汽车空调, 空调设备, 服务, 经营, 集团型, 资质证书, 客户, 发展, 汽车, 新起...</td>\n      <td>[公司是国内最早进入汽车空调行业的企业之一。主要从事生产、销售制冷空调设备，销售汽车(含小轿...</td>\n      <td>{'服务': 4, '客户': 2, '发展': 2, '投资': 2, '项目': 2, ...</td>\n      <td>汽车空调 空调设备 服务 经营 集团型 资质证书 客户 发展 汽车 新起点 科学管理 小轿车...</td>\n    </tr>\n    <tr>\n      <th>0</th>\n      <td>商品城</td>\n      <td>[专业, 市场, 电子市场, 电子, 服务, 渠道, 小额贷款, 电子商务, 经营, 主营业...</td>\n      <td>[公司的主营业务是电子专业市场及其配套项目的开发及经营、物业租赁服务业务、贸易及渠道业务、电...</td>\n      <td>{'市场': 4, '服务': 3, '专业': 2, '电子商务': 2, '交易': 2...</td>\n      <td>专业 市场 电子市场 电子 服务 渠道 小额贷款 电子商务 经营 主营业务 影响力 物业 品...</td>\n    </tr>\n    <tr>\n      <th>0</th>\n      <td>公路</td>\n      <td>[客运站, 运输, 道路, 百强, 服务, 汽车, 旅客, 经营, 主营业务, 站务, 先锋...</td>\n      <td>[公司是专业从事公路运输的国家道路旅客运输一级企业、中国道路运输百强企业、国家一级道路旅客运...</td>\n      <td>{'客运站': 2, '运输': 2, '道路': 2, '服务': 2, '汽车': 2,...</td>\n      <td>客运站 运输 道路 百强 服务 汽车 旅客 经营 主营业务 站务 先锋号 荣誉称号 班车 信...</td>\n    </tr>\n  </tbody>\n</table>\n</div>"
     },
     "execution_count": 24,
     "metadata": {},
     "output_type": "execute_result"
    }
   ],
   "source": [
    "introductionByIndustry.loc[introductionByIndustry[\"industry\"].isin(limitedIndustryList)]"
   ],
   "metadata": {
    "collapsed": false,
    "ExecuteTime": {
     "end_time": "2023-07-02T08:46:32.839159Z",
     "start_time": "2023-07-02T08:46:32.836323Z"
    }
   }
  },
  {
   "cell_type": "markdown",
   "source": [
    "#### 公司行业归类(tf-idf) (废弃，该算法已融入进下一个方案)"
   ],
   "metadata": {
    "collapsed": false
   }
  },
  {
   "cell_type": "code",
   "execution_count": 25,
   "outputs": [
    {
     "name": "stdout",
     "output_type": "stream",
     "text": [
      "\n",
      "词汇表大小：15993\n",
      "['1号店' '4s店' 'aa制' ... '龟苓' '龟苓膏' '龟龄']\n",
      "\n",
      "权重形状：(5188, 15993)\n",
      "[[0. 0. 0. ... 0. 0. 0.]\n",
      " [0. 0. 0. ... 0. 0. 0.]\n",
      " [0. 0. 0. ... 0. 0. 0.]\n",
      " ...\n",
      " [0. 0. 0. ... 0. 0. 0.]\n",
      " [0. 0. 0. ... 0. 0. 0.]\n",
      " [0. 0. 0. ... 0. 0. 0.]]\n"
     ]
    },
    {
     "data": {
      "text/plain": "array([[0., 0., 0., ..., 0., 0., 0.],\n       [0., 0., 0., ..., 0., 0., 0.],\n       [0., 0., 0., ..., 0., 0., 0.],\n       ...,\n       [0., 0., 0., ..., 0., 0., 0.],\n       [0., 0., 0., ..., 0., 0., 0.],\n       [0., 0., 0., ..., 0., 0., 0.]])"
     },
     "execution_count": 25,
     "metadata": {},
     "output_type": "execute_result"
    }
   ],
   "source": [
    "###量化词语成tfidf分数\n",
    "from sklearn.feature_extraction.text import TfidfTransformer,TfidfVectorizer,CountVectorizer\n",
    "corpus_list=knownIndustryDF['cut_keywords'].values.tolist()+noneIndustryDF['cut_keywords'].values.tolist()\n",
    "vectorizer = TfidfVectorizer(use_idf=True, smooth_idf=True, norm=None)\n",
    "tfidf = vectorizer.fit_transform(corpus_list)\n",
    "weight = tfidf.toarray()\n",
    "vocab = vectorizer.get_feature_names_out()\n",
    "print(\"\\n词汇表大小：{}\\n{}\".format(len(vocab),vocab))\n",
    "print(\"\\n权重形状：{}\\n{}\".format(weight.shape,weight))\n",
    "weight"
   ],
   "metadata": {
    "collapsed": false,
    "ExecuteTime": {
     "end_time": "2023-07-02T08:46:33.141055Z",
     "start_time": "2023-07-02T08:46:32.840843Z"
    }
   }
  },
  {
   "cell_type": "markdown",
   "source": [
    "#### 公司行业归类(word2vec词向量)"
   ],
   "metadata": {
    "collapsed": false
   }
  },
  {
   "cell_type": "code",
   "execution_count": 26,
   "outputs": [],
   "source": [
    "from gensim.models import KeyedVectors, word2vec\n",
    "# ### todo 训练词向量库\n",
    "# sentences=knownIndustryDF['keyword'].values.tolist()+noneIndustryDF['keyword'].values.tolist()\n",
    "# model = word2vec.Word2Vec(sentences,min_count=1, vector_size=200,sg=1)\n",
    "#\n",
    "# ### todo 保存词向量库\n",
    "# model.wv.save('NLP/wordVector/MineWordVec/MyWordModel.model')"
   ],
   "metadata": {
    "collapsed": false,
    "ExecuteTime": {
     "end_time": "2023-07-02T08:46:33.342392Z",
     "start_time": "2023-07-02T08:46:33.141977Z"
    }
   }
  },
  {
   "cell_type": "code",
   "execution_count": 27,
   "outputs": [],
   "source": [
    "###todo 准备词向量库\n",
    "###100向量\n",
    "# model = KeyedVectors.load_word2vec_format('NLP/wordVector/tencent-ailab-embedding-zh-d100-v0.2.0/tencent-ailab-embedding-zh-d100-v0.2.0.txt', binary=False)\n",
    "\n",
    "###200向量\n",
    "model = KeyedVectors.load_word2vec_format('NLP/wordVector/tencent-ailab-embedding-zh-d200-v0.2.0/tencent-ailab-embedding-zh-d200-v0.2.0.txt', binary=False)\n",
    "\n",
    "###自己的词库，不怎么样\n",
    "# model=KeyedVectors.load('NLP/wordVector/MineWordVec/MyWordModel.model')"
   ],
   "metadata": {
    "collapsed": false,
    "ExecuteTime": {
     "end_time": "2023-07-02T09:01:54.119414Z",
     "start_time": "2023-07-02T08:46:33.342926Z"
    }
   }
  },
  {
   "cell_type": "code",
   "execution_count": 28,
   "outputs": [],
   "source": [
    "###todo 把词库里没有的词去掉\n",
    "noneIndustryDF['keyword']=noneIndustryDF['keyword'].apply(lambda x: [j for j in x if j in model])\n",
    "knownIndustryDF['keyword']=knownIndustryDF['keyword'].apply(lambda x : [j for j in x if j in model])\n",
    "introductionByIndustry['keyword']=introductionByIndustry['keyword'].apply(lambda x : [j for j in x if j in model])\n",
    "###todo 去掉不相干词语\n",
    "# knownIndustryDF['keyword']=knownIndustryDF['keyword'].apply(lambda x:[j for j in x if j!=model.doesnt_match(x)])\n",
    "# introductionByIndustry['keyword']=introductionByIndustry['keyword'].apply(lambda x:[j for j in x if j!=model.doesnt_match(x)])\n",
    "# noneIndustryDF['keyword']=noneIndustryDF['keyword'].apply(lambda x:[j for j in x if j!=model.doesnt_match(x)])"
   ],
   "metadata": {
    "collapsed": false,
    "ExecuteTime": {
     "end_time": "2023-07-02T09:01:57.545093Z",
     "start_time": "2023-07-02T09:01:57.214721Z"
    }
   }
  },
  {
   "cell_type": "code",
   "execution_count": 29,
   "outputs": [
    {
     "name": "stdout",
     "output_type": "stream",
     "text": [
      "The largest num of word in Known: 20\n",
      "The largest num of word in unKnown: 20\n",
      "The largest num of word in Introduction: 7503\n"
     ]
    }
   ],
   "source": [
    "largestWordInKnow=0\n",
    "for paragra in knownIndustryDF['keyword'].values:\n",
    "    if len(paragra)>largestWordInKnow:\n",
    "        largestWordInKnow=len(paragra)\n",
    "\n",
    "largestWordInUnknow=0\n",
    "for paragra in noneIndustryDF['keyword'].values:\n",
    "    if len(paragra)>largestWordInUnknow:\n",
    "        largestWordInUnknow=len(paragra)\n",
    "\n",
    "largestWordInIntro=0\n",
    "for paragra in introductionByIndustry['keyword'].values:\n",
    "    if len(paragra)>largestWordInIntro:\n",
    "        largestWordInIntro=len(paragra)\n",
    "\n",
    "print(\"The largest num of word in Known: {}\".format(largestWordInKnow))\n",
    "print(\"The largest num of word in unKnown: {}\".format(largestWordInUnknow))\n",
    "print(\"The largest num of word in Introduction: {}\".format(largestWordInIntro))"
   ],
   "metadata": {
    "collapsed": false,
    "ExecuteTime": {
     "end_time": "2023-07-02T09:01:57.551514Z",
     "start_time": "2023-07-02T09:01:57.548307Z"
    }
   }
  },
  {
   "cell_type": "code",
   "execution_count": 30,
   "outputs": [],
   "source": [
    "##[\"我不看好当前股票市场\"] negative -1.0 -4.0\n",
    "###[\"我对当前市场持积极股票\"] positive 2.0 5.0\n",
    "###[\"我保持观望态度\"] neutral -1 1\n",
    "\n",
    "\n",
    "###wordbag:['失望':-0.7,.....]"
   ],
   "metadata": {
    "collapsed": false,
    "ExecuteTime": {
     "end_time": "2023-07-02T09:01:57.553996Z",
     "start_time": "2023-07-02T09:01:57.552350Z"
    }
   }
  },
  {
   "cell_type": "markdown",
   "source": [
    "##### 方案一: 直接调用接口（目前最优解）"
   ],
   "metadata": {
    "collapsed": false
   }
  },
  {
   "cell_type": "code",
   "execution_count": 31,
   "outputs": [
    {
     "name": "stdout",
     "output_type": "stream",
     "text": [
      "第一种方式:\n",
      "\n",
      "------------------------------------\n",
      "第1原文: 公司是国内知名的石油测井设备专业制造商。主营业务是石油测井仪器的研发、生产、销售和现场技术服务，以及利用测井仪器为油田客户提供测井工程服务，主要产品为GILEE系列成像测井系统，包括下井仪器和地面系统。公司的产品性能与核心技术处于国际先进水平，在国内同行业中具有显著的竞争优势，打破了少数国际领先的技术服务公司对测井仪器制造技术的垄断。公司与国内主要的石油测井服务单位如大庆钻探、渤海钻探等建立了稳定的合作关系。\n",
      "相似度:\n",
      "[('综合类', 0.9198627), ('石油', 0.9107927), ('汽车服务', 0.90724313), ('批发业', 0.9038955), ('电器仪表', 0.89784795), ('机械', 0.8971852), ('环境保护', 0.8961939), ('航空', 0.8939136), ('商贸代理', 0.8931777), ('软件服务', 0.891821)]\n",
      "------------------------------------\n",
      "第2原文: 公司是一家创新型生物制药企业，专业从事基因治疗药物、重组蛋白质类药物和眼科用药的研发、生产与销售，主要产品为生物工程新药(基因治疗药物、重组蛋白质类药物)和眼科药物，并依托自身技术平台提供技术转让和技术服务。生物工程新药为公司重点开发的产品，但因其开发周期长、投入大，公司同步开发了滴眼液化学仿制药。该类药物资金投入小、周期短、资金回笼快，可为生物工程新药的开发和公司持续运营提供资金支持。此外，公司充分利用现有滴眼液生产技术和产能优势提供受托加工服务，以增加造血功能、缓解资金压力。\n",
      "相似度:\n",
      "[('生物制药', 0.92607385), ('化学制药', 0.9049642), ('医疗保健', 0.88835466), ('中成药', 0.86620426), ('医药商业', 0.8480706), ('农业综合', 0.8254645), ('农药化肥', 0.8231149), ('化工原料', 0.8051896), ('日用化工', 0.8041595), ('饲料', 0.80307907)]\n",
      "------------------------------------\n",
      "第3原文: 公司通过了ISO9001-2008质量体系认证，在多媒体视频解决方案的研发、组装及系统集成服务方面具备标准化的质量控制体系，公司加入了北京中关村企业信用促进会、北京中关村高新技术企业协会、北京软件行业协会、北京民营科技实业家协会，在行业中具备一定的影响力，。目前公司已在高端视频墙和室外液晶数字标牌领域占据了较强的市场地位，尤其是在传媒与能源行业，知名度较高。公司在商用显示解决方案领域树立起自己的口碑和品牌。\n",
      "相似度:\n",
      "[('文教休闲', 0.9346988), ('IT设备', 0.92553395), ('软件服务', 0.92529833), ('综合类', 0.92461437), ('互联网', 0.9240335), ('汽车服务', 0.9162054), ('其他商业', 0.9160863), ('房产服务', 0.9115714), ('通信设备', 0.90879524), ('元器件', 0.9069785)]\n",
      "------------------------------------\n",
      "第4原文: 公司2001年成立于上海张江高科技园区。公司是一家专业从事集成电路测试技术研究开发、芯片设计验证分析和产业化生产测试服务企业，是第一批国家鼓励的集成电路企业、高新技术企业和上海市“创新型企业”，是上海市科委、国家工信部、国家科委立项支持的“集成电路测试公共服务平台”和上海市“集成电路测试专业技术服务平台”。公司是第一批国家鼓励的集成电路企业和高新技术企业，公司技术水平先进、装备一流，是具有自主技术创新研发和持续发展能力的国内先进的集成电路测试技术领先企业。公司自2001年成立已来，先后承担了国家集成电路技术研发和上海市科技攻关项目等多个国家和地方的集成电路测试技术开发项目，已为国内外200多家集成电路企业几百种集成电路产品提供了优质的测试服务。\n",
      "相似度:\n",
      "[('软件服务', 0.91775984), ('综合类', 0.9145262), ('文教休闲', 0.91292256), ('批发业', 0.90238255), ('环境保护', 0.89917773), ('汽车服务', 0.89701015), ('电器仪表', 0.896997), ('房产服务', 0.89433706), ('通信设备', 0.8934536), ('IT设备', 0.8873611)]\n",
      "------------------------------------\n",
      "第5原文: 公司主要从事智慧交通领域中以视频为核心的高速公路监控信息化产品的研发、生产、销售及技术服务。智慧交通是在智能交通的基础上，充分运用物联网、云计算、互联网、人工智能、自动控制、移动互联网等技术，通过汇集交通信息，对交通管理、交通运输、公众出行等领域以及交通建设管理全过程进行管控支撑，使交通系统在区域、城市甚至更大的时空范围具备感知、互联、分析、预测、控制等能力，以充分保障交通安全、发挥交通基础设施效能、提升交通系统运行效率和管理水平，为通畅的公众出行和可持续的经济发展服务。\n",
      "相似度:\n",
      "[('软件服务', 0.9185582), ('IT设备', 0.90122163), ('电信运营', 0.89139307), ('通信设备', 0.89131045), ('电器仪表', 0.8748696), ('互联网', 0.87005246), ('综合类', 0.86519444), ('环境保护', 0.8597618), ('运输设备', 0.8573799), ('文教休闲', 0.85446024)]\n"
     ]
    }
   ],
   "source": [
    "###todo直接测试句向量similarity,看看准确率\n",
    "###这个cell的对比方法是[所有相同行业的公司简介分词]:[当前某个None行业公司简介分词]\n",
    "def getWordVector(keywords=None,w2v_model=model):\n",
    "    results={}\n",
    "    for index, row in introductionByIndustry.iterrows():\n",
    "        results[row['industry']]=w2v_model.n_similarity(keywords,row['keyword'])\n",
    "    results=sorted(results.items(), key = lambda kv:kv[1],reverse=True)\n",
    "    return results\n",
    "\n",
    "\n",
    "print(\"第一种方式:\\n\")\n",
    "i=0\n",
    "for index, row in noneIndustryDF.iterrows():\n",
    "    if i==5:\n",
    "        break\n",
    "    else:\n",
    "        i+=1\n",
    "\n",
    "    print(\"------------------------------------\")\n",
    "    print(\"第{}原文: {}\".format(i,row['introduction']))\n",
    "    results=getWordVector(keywords=row['keyword'])\n",
    "    # print(\"原分类:\")\n",
    "    # print(row['industry'])\n",
    "    print(\"相似度:\")\n",
    "    print(results[:10])\n",
    "\n",
    "# correct_num=0\n",
    "# for index, row in knownIndustryDF.iterrows():\n",
    "#     results=dict(getWordVector(keywords=row['keyword']))\n",
    "#     if next(iter(results.keys()))==row['industry']:\n",
    "#         correct_num+=1\n",
    "# print(\"accuracy score: {}%\".format((correct_num/len(knownIndustryDF['industry'].values)*100)))\n",
    "###腾讯词库准确率:52.54%\n",
    "###自己训练的词库: 35.38%\n",
    "\n",
    "###200向量的准确率 56.69%"
   ],
   "metadata": {
    "collapsed": false,
    "ExecuteTime": {
     "end_time": "2023-07-02T09:02:00.506694Z",
     "start_time": "2023-07-02T09:01:57.558849Z"
    }
   }
  },
  {
   "cell_type": "code",
   "execution_count": 32,
   "outputs": [
    {
     "name": "stdout",
     "output_type": "stream",
     "text": [
      "第二种方式:\n",
      "\n",
      "第1原文: 公司是国内知名的石油测井设备专业制造商。主营业务是石油测井仪器的研发、生产、销售和现场技术服务，以及利用测井仪器为油田客户提供测井工程服务，主要产品为GILEE系列成像测井系统，包括下井仪器和地面系统。公司的产品性能与核心技术处于国际先进水平，在国内同行业中具有显著的竞争优势，打破了少数国际领先的技术服务公司对测井仪器制造技术的垄断。公司与国内主要的石油测井服务单位如大庆钻探、渤海钻探等建立了稳定的合作关系。\n",
      "相似度: \n",
      "[('其他商业', 0.7164711952209473), ('化工原料', 0.7015880346298218), ('家用电器', 0.692905068397522), ('日用化工', 0.6860302686691284), ('矿业', 0.6856368780136108)]\n",
      "第2原文: 公司是一家创新型生物制药企业，专业从事基因治疗药物、重组蛋白质类药物和眼科用药的研发、生产与销售，主要产品为生物工程新药(基因治疗药物、重组蛋白质类药物)和眼科药物，并依托自身技术平台提供技术转让和技术服务。生物工程新药为公司重点开发的产品，但因其开发周期长、投入大，公司同步开发了滴眼液化学仿制药。该类药物资金投入小、周期短、资金回笼快，可为生物工程新药的开发和公司持续运营提供资金支持。此外，公司充分利用现有滴眼液生产技术和产能优势提供受托加工服务，以增加造血功能、缓解资金压力。\n",
      "相似度: \n",
      "[('医药商业', 0.6294282078742981), ('化学制药', 0.6117293834686279), ('农药化肥', 0.588837742805481), ('生物制药', 0.5780662298202515), ('医疗保健', 0.5543274879455566)]\n",
      "第3原文: 公司通过了ISO9001-2008质量体系认证，在多媒体视频解决方案的研发、组装及系统集成服务方面具备标准化的质量控制体系，公司加入了北京中关村企业信用促进会、北京中关村高新技术企业协会、北京软件行业协会、北京民营科技实业家协会，在行业中具备一定的影响力，。目前公司已在高端视频墙和室外液晶数字标牌领域占据了较强的市场地位，尤其是在传媒与能源行业，知名度较高。公司在商用显示解决方案领域树立起自己的口碑和品牌。\n",
      "相似度: \n",
      "[('其他商业', 0.6387472748756409), ('家用电器', 0.6224857568740845), ('医药商业', 0.6193711757659912), ('出版业', 0.6170787215232849), ('超市连锁', 0.5990417003631592)]\n",
      "第4原文: 公司2001年成立于上海张江高科技园区。公司是一家专业从事集成电路测试技术研究开发、芯片设计验证分析和产业化生产测试服务企业，是第一批国家鼓励的集成电路企业、高新技术企业和上海市“创新型企业”，是上海市科委、国家工信部、国家科委立项支持的“集成电路测试公共服务平台”和上海市“集成电路测试专业技术服务平台”。公司是第一批国家鼓励的集成电路企业和高新技术企业，公司技术水平先进、装备一流，是具有自主技术创新研发和持续发展能力的国内先进的集成电路测试技术领先企业。公司自2001年成立已来，先后承担了国家集成电路技术研发和上海市科技攻关项目等多个国家和地方的集成电路测试技术开发项目，已为国内外200多家集成电路企业几百种集成电路产品提供了优质的测试服务。\n",
      "相似度: \n",
      "[('其他商业', 0.6412776708602905), ('医药商业', 0.6361716985702515), ('化学制药', 0.6360235810279846), ('化工原料', 0.6208934783935547), ('化工机械', 0.615807294845581)]\n",
      "第5原文: 公司主要从事智慧交通领域中以视频为核心的高速公路监控信息化产品的研发、生产、销售及技术服务。智慧交通是在智能交通的基础上，充分运用物联网、云计算、互联网、人工智能、自动控制、移动互联网等技术，通过汇集交通信息，对交通管理、交通运输、公众出行等领域以及交通建设管理全过程进行管控支撑，使交通系统在区域、城市甚至更大的时空范围具备感知、互联、分析、预测、控制等能力，以充分保障交通安全、发挥交通基础设施效能、提升交通系统运行效率和管理水平，为通畅的公众出行和可持续的经济发展服务。\n",
      "相似度: \n",
      "[('其他商业', 0.6122153997421265), ('化学制药', 0.6058558225631714), ('日用化工', 0.6039630174636841), ('超市连锁', 0.6034450531005859), ('化工机械', 0.6017609238624573)]\n"
     ]
    }
   ],
   "source": [
    "###这个cell的对比方法是[单个行业的某个公司简介分词]:[当前某个None行业公司简介分词]\n",
    "###最后取平均值\n",
    "print(\"第二种方式:\\n\")\n",
    "i=0\n",
    "for index, row in noneIndustryDF.iterrows():\n",
    "    if i==5:\n",
    "        break\n",
    "    else:\n",
    "        i+=1\n",
    "\n",
    "    print(\"第{}原文: {}\".format(i,row['introduction']))\n",
    "\n",
    "    meanScore={}\n",
    "    for intro in list(knownIndustryDF.groupby('industry')):\n",
    "        scores=[]\n",
    "        for para in intro[1][['industry','keyword']].values:\n",
    "            scores.append(model.n_similarity(para[0],row['keyword']))\n",
    "        meanScore[intro[1]['industry'].values[0]]=sum(scores)/len(scores)\n",
    "    meanScore=sorted(meanScore.items(),key=lambda k:k[1],reverse=True)\n",
    "    print(\"相似度: \\n{}\".format(meanScore[:5]))"
   ],
   "metadata": {
    "collapsed": false,
    "ExecuteTime": {
     "end_time": "2023-07-02T09:02:02.659551Z",
     "start_time": "2023-07-02T09:02:00.524460Z"
    }
   }
  },
  {
   "cell_type": "markdown",
   "source": [
    "##### 方案二: Xgboost\n",
    "上面两个cell的结果是直接用句向量数值进行比较，得出每个行业的相似度，相似度越高，与这个行业契合度越高，然后每个cell都有一种方法(在注释)。可是经过测试证明，第二个cell采取平均值完全没用，第一个cell虽然能有效地把公司简介主题归化从110个到5-2个左右，但是到了这个范围，准确率就不高了，只能说取得了初步效果，但是不是很理想\n",
    "\n",
    "第二次测试一下神经网络与xgboost，不过需要把每个词都改成向量，而不是句向量\n",
    "\n",
    "一开始直接把similarity输进去训练，准确率只有46，方法不对，不如直接调用word2vec接口\n"
   ],
   "metadata": {
    "collapsed": false
   }
  },
  {
   "cell_type": "code",
   "execution_count": 33,
   "outputs": [
    {
     "name": "stderr",
     "output_type": "stream",
     "text": [
      "/Users/czc/anaconda3/envs/DataAnalysis/lib/python3.9/site-packages/sklearn/preprocessing/_encoders.py:868: FutureWarning: `sparse` was renamed to `sparse_output` in version 1.2 and will be removed in 1.4. `sparse_output` is ignored unless you leave `sparse` to its default value.\n",
      "  warnings.warn(\n"
     ]
    }
   ],
   "source": [
    "###todo 准备训练输入数据\n",
    "from sklearn.metrics import mean_squared_error\n",
    "from sklearn.multioutput import MultiOutputRegressor\n",
    "from sklearn.model_selection import train_test_split, GridSearchCV\n",
    "from sklearn.preprocessing import OneHotEncoder\n",
    "import xgboost as xgb\n",
    "\n",
    "def average_word_vectors(words,model,vocabulary,num_features):\n",
    "    feature_vector=np.zeros((num_features,),dtype='float64')\n",
    "    nwords=0\n",
    "    for word in words:\n",
    "        if word in vocabulary:\n",
    "            nwords=nwords+1\n",
    "            feature_vector=np.add(feature_vector,model[word])\n",
    "    if nwords:\n",
    "        feature_vector=np.divide(feature_vector,nwords)\n",
    "    return feature_vector\n",
    "\n",
    "###a: 145word word:200 vector\n",
    "###b: 155wod word:200 vect\n",
    "###a:[] shape(155)   b:[] shape(155)\n",
    "###a sum[vector]/word_count\n",
    "### 200\n",
    "###\n",
    "\n",
    "# def average_word_vectors(words,model,vocabulary,num_features):\n",
    "#     feature_vector=np.zeros((num_features,),dtype='float64')\n",
    "#     n_words=0\n",
    "#     for word in words:\n",
    "#         feature_vector[n_words]=round(model[word].mean(),5)\n",
    "#         n_words+=1\n",
    "#         if n_words==num_features:\n",
    "#             break\n",
    "#     return feature_vector\n",
    "\n",
    "def averaged_word_vectorizer(corpus,model,num_features):\n",
    "    #get the all vocabulary\n",
    "    vocabulary=model\n",
    "    features=[average_word_vectors(tokenized_sentence,model,vocabulary,num_features) for tokenized_sentence in corpus]\n",
    "    return np.array(features)\n",
    "\n",
    "# def get_word_vectors(data,model):\n",
    "#     words_art=[]\n",
    "#     for i in range(len(data)):\n",
    "#         words_art.append(eval(data.loc[i]))\n",
    "#     return averaged_word_vectorizer(words_art,model,num_features=300)\n",
    "\n",
    "###todo 词向量模型分析,准备数据输入\n",
    "### 量化keyword\n",
    "knownIndustryDF['keyword_vector']=knownIndustryDF['keyword'].apply(lambda x:[model.get_vector(j) for j in x])\n",
    "# knownIndustryDF['keyword_vector_mean']=knownIndustryDF['keyword'].apply(lambda x : [model.get_vector(i).mean() for i in x])\n",
    "# knownIndustryDF['keyword_length']=knownIndustryDF['keyword'].apply(lambda x: len(x))\n",
    "# knownIndustryDF['sentence_vector_sum']=knownIndustryDF['keyword_vector'].apply(lambda x : sum(x))\n",
    "# knownIndustryDF['sentence_vector_mean']=knownIndustryDF['keyword_vector'].apply(lambda x : sum(x)/len(x))\n",
    "# ###把句向量也引进来\n",
    "# for index, row in introductionByIndustry.iterrows():\n",
    "#     knownIndustryDF['n_similarity_'+row['industry']]=knownIndustryDF['keyword'].apply(lambda x: model.n_similarity(x,row['keyword']))\n",
    "\n",
    "# TheDataSet=pd.read_csv(\"stockData/keywordVecIntroductionWithKnownIndustry.csv\")\n",
    "# TheDataSet=TheDataSet.drop(labels=['keyword_vector','keyword_vector_mean','industry','main_business','introduction','ts_code','keyword'], axis=1)\n",
    "\n",
    "TheDataSet=knownIndustryDF\n",
    "x=averaged_word_vectorizer(knownIndustryDF['keyword'].values,model,model.vector_size)\n",
    "\n",
    "\n",
    "###one-hot\n",
    "encoder = OneHotEncoder(sparse=False)\n",
    "y=encoder.fit_transform([[x] for x in TheDataSet['industry'].values])\n",
    "# x=TheDataSet\n",
    "###分割数据集\n",
    "x_train , x_test , y_train , y_test = train_test_split(x,y, test_size= 0.1 ,random_state=42)"
   ],
   "metadata": {
    "collapsed": false,
    "ExecuteTime": {
     "end_time": "2023-07-02T09:02:03.197025Z",
     "start_time": "2023-07-02T09:02:02.659887Z"
    }
   }
  },
  {
   "cell_type": "code",
   "execution_count": null,
   "outputs": [],
   "source": [
    "###准备参数,开始训练\n",
    "# param_grid = {\n",
    "#             'max_depth': [2, 3, 4, 5, 6, 7, 8],\n",
    "#             'n_estimators': [30, 50, 100, 300, 500, 1000,2000],\n",
    "#             'learning_rate': [0.1, 0.2, 0.3, 0.4, 0.01, 0.02, 0.03, 0.05, 0.5],\n",
    "#             \"gamma\":[0.0, 0.1, 0.2, 0.3, 0.4],\n",
    "#             \"reg_alpha\":[0.0001,0.001, 0.01, 0.1, 1, 100],\n",
    "#             \"reg_lambda\":[0.0001,0.001, 0.01, 0.1, 1, 100],\n",
    "#             \"min_child_weight\": [2,3,4,5,6,7,8],\n",
    "#             \"colsample_bytree\": [0.6, 0.7, 0.8, 0.9],\n",
    "#             \"subsample\":[0.6, 0.7, 0.8, 0.9]\n",
    "# }\n",
    "param_grid = {\n",
    "            'max_depth': [2, 4, 6, 8],\n",
    "            'n_estimators': [50, 100, 300, 500,1000],\n",
    "            \"gamma\":[0.1, 0.2, 0.3],\n",
    "            \"min_child_weight\": [2,4,6,8],\n",
    "}\n",
    "\n",
    "# other_params = {'learning_rate': 0.3, 'n_estimators': 400, 'max_depth': 5, 'min_child_weight': 1, 'seed': 42, 'subsample': 0.8, 'colsample_bytree': 0.8, 'gamma': 0, 'reg_alpha': 0, 'reg_lambda': 1}\n",
    "# grid_xgboost = GridSearchCV(estimator=xgb.XGBRegressor(seed=27), param_grid=param_grid, cv=5)\n",
    "# multioutputregressor = MultiOutputRegressor(grid_xgboost).fit(x_train, y_train)\n",
    "\n",
    "multioutputregressor = MultiOutputRegressor(xgb.XGBRegressor(max_depth=3,min_child_weight=2,learning_rate=0.1,n_estimators=300,objective='binary:logistic')).fit(x_train, y_train)"
   ],
   "metadata": {
    "collapsed": false,
    "ExecuteTime": {
     "start_time": "2023-07-02T09:02:03.200682Z"
    }
   }
  },
  {
   "cell_type": "code",
   "execution_count": null,
   "outputs": [],
   "source": [
    "### 熟料 发贴    [熟料 发贴]\n",
    "###熟料          [1,0]\n",
    "###发贴           [0,1]"
   ],
   "metadata": {
    "collapsed": false
   }
  },
  {
   "cell_type": "code",
   "execution_count": null,
   "outputs": [],
   "source": [
    "###todo 验证\n",
    "from sklearn import metrics\n",
    "from sklearn.metrics import classification_report\n",
    "# def get_scores(preds,gt):\n",
    "#     # print ('AUC: %.4f' % metrics.roc_auc_score(gt,preds))\n",
    "#     print ('ACC: %.4f' % metrics.accuracy_score(gt,preds))\n",
    "#     print('macro')\n",
    "#     print( 'Recall: %.4f' % metrics.recall_score(y_test,preds,average='macro'))\n",
    "#     print( 'F1-score: %.4f' %metrics.f1_score(gt,preds,average='macro'))\n",
    "#     print( 'Precision: %.4f' %metrics.precision_score(gt,preds,average='macro'))\n",
    "#\n",
    "#     print('\\nmicro:')\n",
    "#     print( 'Recall: %.4f' % metrics.recall_score(y_test,preds,average='micro'))\n",
    "#     print( 'F1-score: %.4f' %metrics.f1_score(gt,preds,average='micro'))\n",
    "#     print( 'Precision: %.4f' %metrics.precision_score(gt,preds,average='micro'))\n",
    "\n",
    "check=multioutputregressor.predict(x_test)\n",
    "for i in range(len(check)):\n",
    "        max_value=max(check[i])\n",
    "        for j in range(len(check[i])):\n",
    "            if max_value==check[i][j]:\n",
    "                check[i][j]=1\n",
    "            else:\n",
    "                check[i][j]=0\n",
    "\n",
    "print(classification_report(y_test, check))\n",
    "mse = mean_squared_error(y_test, check)\n",
    "print(\"mse score: {}%\".format(round(mse*100,2)))\n",
    "\n",
    "result={\"result\":[j[0] for j in encoder.inverse_transform(check)],\"test_answer\":[j[0] for j in encoder.inverse_transform(y_test)]}\n",
    "\n",
    "result_check=pd.DataFrame(result)\n",
    "\n",
    "accurate_num=0\n",
    "for index, element in enumerate(encoder.inverse_transform(y_test)):\n",
    "    if element==encoder.inverse_transform(check)[index]:\n",
    "        accurate_num+=1\n",
    "\n",
    "print(\"accuracy score: {}%\".format(round((accurate_num/len(y_test))*100,2)))\n",
    "result_check\n",
    "### word2vec & xgboost 表现不是很好, mse:0.65%, 准确率 47%，不过个人认为方法完全错了"
   ],
   "metadata": {
    "collapsed": false
   }
  },
  {
   "cell_type": "markdown",
   "source": [
    "##### 方案三: svm 向量机"
   ],
   "metadata": {
    "collapsed": false
   }
  },
  {
   "cell_type": "code",
   "execution_count": null,
   "outputs": [],
   "source": [
    "from sklearn import svm\n",
    "\n",
    "clf = MultiOutputRegressor(svm.SVC(C=5, gamma= 1, probability=True)).fit(x_train, y_train)\n",
    "y_predict = clf.predict(x_test)\n",
    "print(classification_report(y_test, y_predict))\n",
    "\n",
    "for i in range(len(y_predict)):\n",
    "        max_value=max(y_predict[i])\n",
    "        for j in range(len(y_predict[i])):\n",
    "            if max_value==y_predict[i][j]:\n",
    "                y_predict[i][j]=1\n",
    "            else:\n",
    "                y_predict[i][j]=0\n",
    "result={\"result\":[j[0] for j in encoder.inverse_transform(y_predict)],\"test_answer\":[j[0] for j in encoder.inverse_transform(y_test)]}\n",
    "\n",
    "result_check=pd.DataFrame(result)\n",
    "\n",
    "accurate_num=0\n",
    "for index, element in enumerate(encoder.inverse_transform(y_test)):\n",
    "    if element==encoder.inverse_transform(y_predict)[index]:\n",
    "        accurate_num+=1\n",
    "\n",
    "print(\"accuracy score: {}%\".format(round((accurate_num/len(y_test))*100,2)))\n",
    "result_check"
   ],
   "metadata": {
    "collapsed": false
   }
  },
  {
   "cell_type": "markdown",
   "source": [
    "##### 方案四: textCnn\n"
   ],
   "metadata": {
    "collapsed": false
   }
  },
  {
   "cell_type": "code",
   "execution_count": null,
   "outputs": [],
   "source": [
    "import tensorflow as tf\n",
    "from keras.models import Sequential,Model\n",
    "from keras.models import load_model\n",
    "from keras.layers import Dense,Dropout,Activation,Input, Lambda, Reshape,concatenate\n",
    "from keras.layers import Embedding,Conv1D,MaxPooling1D,GlobalMaxPooling1D,Flatten,BatchNormalization\n",
    "from keras.losses import categorical_crossentropy\n",
    "from keras.optimizers import Adam\n",
    "from keras.regularizers import l2\n",
    "from keras.preprocessing.text import Tokenizer\n",
    "from keras.utils import to_categorical, pad_sequences\n",
    "\n",
    "\n",
    "#导入word2vec模型并进行预处理\n",
    "def w2v_model_preprocessing(content,w2v_model,max_len=32):\n",
    "    # 初始化 `[word : index]` 字典\n",
    "    word2idx = {\"_PAD\": 0}\n",
    "    # 训练数据 词汇表构建\n",
    "    tokenizer = Tokenizer()\n",
    "    tokenizer.fit_on_texts(content)\n",
    "    vocab_size = len(tokenizer.word_index)  # 词库大小\n",
    "    print(tokenizer.word_index)\n",
    "    error_count = 0\n",
    "    # 存储所有 word2vec 中所有向量的数组，其中多一位，词向量全为 0， 用于 padding\n",
    "    embedding_matrix = np.zeros((vocab_size + 1, w2v_model.vector_size))\n",
    "    print(embedding_matrix.shape)\n",
    "    for word, i in tokenizer.word_index.items():\n",
    "        if word in w2v_model:\n",
    "            embedding_matrix[i] = w2v_model[word]\n",
    "        else:\n",
    "            error_count += 1\n",
    "    # 训练数据 词向量截断补全(padding)\n",
    "    seq = tokenizer.texts_to_sequences(content)\n",
    "    trainseq = pad_sequences(seq, maxlen=max_len,padding='post')\n",
    "    return embedding_matrix,trainseq\n",
    "\n",
    "\n",
    "def build_textcnn(max_len,embeddings_dim,embeddings_matrix):\n",
    "    #构建textCNN模型\n",
    "    main_input = Input(shape=(max_len,), dtype='float64')\n",
    "    # 词嵌入（使用预训练的词向量）\n",
    "    embedder = Embedding(\n",
    "                         len(embeddings_matrix), #表示文本数据中词汇的取值可能数,从语料库之中保留多少个单词\n",
    "                         embeddings_dim, # 嵌入单词的向量空间的大小\n",
    "                         input_length=max_len, #规定长度\n",
    "                         weights=[embeddings_matrix],# 输入序列的长度，也就是一次输入带有的词汇个数\n",
    "                         trainable=False # 设置词向量不作为参数进行更新\n",
    "                         )\n",
    "    embed = embedder(main_input)\n",
    "    flat = Flatten()(embed)\n",
    "    dense01 = Dense(5096, activation='relu')(flat)\n",
    "    dense02 = Dense(1024, activation='relu')(dense01)\n",
    "    main_output = Dense(2, activation='softmax')(dense02)\n",
    "    model = Model(inputs=main_input, outputs=main_output)\n",
    "    model.compile(loss='categorical_crossentropy', optimizer='adam', metrics=['accuracy'])\n",
    "    model.summary()\n",
    "    return model\n",
    "\n",
    "embedding_matrix,trainSet=w2v_model_preprocessing(knownIndustryDF['keyword'].values,model)\n",
    "embedding_matrix"
   ],
   "metadata": {
    "collapsed": false
   }
  },
  {
   "cell_type": "markdown",
   "source": [
    "如果写到这一步，证明主题分类的模型已经写好了，虽然不知道质量怎么样hhh。其实说真的，缺失行业标记的公司不过才164家，人力做的话几天就能写完了，不过我没做过中文的词义分析，这算是一个nlp的开始吧，但是说真的太麻烦了，希望以后有高效的方法，"
   ],
   "metadata": {
    "collapsed": false
   }
  },
  {
   "cell_type": "code",
   "execution_count": null,
   "outputs": [],
   "source": [
    "### todo 泛化\n"
   ],
   "metadata": {
    "collapsed": false
   }
  },
  {
   "cell_type": "markdown",
   "source": [
    "## 1.2 use yfinance (雅虎非官方API) api get stock data"
   ],
   "metadata": {
    "collapsed": false
   }
  },
  {
   "cell_type": "code",
   "execution_count": null,
   "outputs": [],
   "source": [
    "#测试api\n",
    "data = yf.download(tickers='AMD',start='2013-01-1',end='2023-01-01')\n",
    "print(\"The types in the data frame:\\n{}\".format(data.dtypes))\n",
    "data"
   ],
   "metadata": {
    "collapsed": false
   }
  },
  {
   "cell_type": "code",
   "execution_count": null,
   "outputs": [],
   "source": [
    "amd = yf.Ticker(\"AMD\")\n",
    "info=pd.DataFrame.from_dict(amd.info)\n",
    "print(\"The types in the data frame:\\n{}\".format(info.dtypes))\n",
    "info"
   ],
   "metadata": {
    "collapsed": false
   }
  },
  {
   "cell_type": "code",
   "execution_count": null,
   "outputs": [],
   "source": [
    "data[\"Close\"].plot()\n",
    "plt.show()"
   ],
   "metadata": {
    "collapsed": false
   }
  },
  {
   "cell_type": "code",
   "execution_count": null,
   "outputs": [],
   "source": [
    "##获取标普500股票公司名字\n",
    "import bs4 as bs\n",
    "import requests\n",
    "\n",
    "###爬取维基百科标普500公司名称\n",
    "resp = requests.get('http://en.wikipedia.org/wiki/List_of_S%26P_500_companies')\n",
    "soup = bs.BeautifulSoup(resp.text, 'lxml')\n",
    "table = soup.find('table', {'class': 'wikitable sortable'})\n",
    "\n",
    "###筛选元素\n",
    "tickers = []\n",
    "for row in table.findAll('tr')[1:]:\n",
    "   ticker = row.findAll('td')[0].text\n",
    "   ticker=ticker.replace(\"\\n\",\"\")\n",
    "   tickers.append(ticker)\n",
    "\n",
    "\n",
    "tickers"
   ],
   "metadata": {
    "collapsed": false
   }
  },
  {
   "cell_type": "code",
   "execution_count": null,
   "outputs": [],
   "source": [
    "def getStockDataInYFinance(name,start='2013-01-1',end='2023-01-01'):\n",
    "    includedList=['country','zip','industry','sector']\n",
    "    data = yf.download(tickers=name,start=start,end=end)\n",
    "    data['trade_date'] = data.index\n",
    "    company = yf.Ticker(name)\n",
    "    try:\n",
    "        companyInfo=pd.DataFrame.from_dict(company.info)\n",
    "    except BaseException:\n",
    "        print(company.info)\n",
    "        return np.nan\n",
    "    else:\n",
    "        data['name']=[name]*data.shape[0]\n",
    "        for column in companyInfo.columns:\n",
    "            if column in includedList:\n",
    "                data[column]=np.array([companyInfo[column].values[0]]).repeat(data.shape[0])\n",
    "\n",
    "    return data\n",
    "\n",
    "\n",
    "### get all stock data and store them\n",
    "def storeAllStockDataForYFinance():\n",
    "    now=datetime.now()\n",
    "    allStockDataInYFinance=pd.DataFrame()\n",
    "    for company in tickers:\n",
    "        companyInfo=getStockDataInYFinance(company)\n",
    "        if companyInfo is np.nan:\n",
    "            print(\"break, company {} data is null\")\n",
    "            continue\n",
    "        else:\n",
    "            allStockDataInYFinance=pd.concat([allStockDataInYFinance,companyInfo])\n",
    "    print(\"Cost time: {}\".format(datetime.now()-now))\n",
    "    return allStockDataInYFinance"
   ],
   "metadata": {
    "collapsed": false
   }
  },
  {
   "cell_type": "code",
   "execution_count": null,
   "outputs": [],
   "source": [
    "getStockDataInYFinance(tickers[0]).dtypes"
   ],
   "metadata": {
    "collapsed": false
   }
  },
  {
   "cell_type": "code",
   "execution_count": null,
   "outputs": [],
   "source": [
    "###仅用于下载yfinance 股票数据\n",
    "# stockDataInYFinance=storeAllStockDataForYFinance()\n",
    "# stockDataInYFinance.to_csv('stockData/YFinanceRawData.csv', header=stockDataInYFinance.columns,index=False)"
   ],
   "metadata": {
    "collapsed": false
   }
  },
  {
   "cell_type": "code",
   "execution_count": null,
   "outputs": [],
   "source": [
    "###验证一下有多少个查漏了\n",
    "stockDataInYFinance=pd.read_csv('stockData/YFinanceRawData.csv')\n",
    "uniqueCompany=stockDataInYFinance['name'].unique()\n",
    "missedList=[]\n",
    "for ticker in tickers:\n",
    "    if ticker not in uniqueCompany:\n",
    "        missedList.append(ticker)\n",
    "\n",
    "print(\"length of miss company: {}\".format(len(missedList)))\n",
    "###总共有3个公司遗漏\n",
    "\n",
    "###手动查询\n",
    "for company in missedList:\n",
    "    print(\"------------------------------------------------------\")\n",
    "    print(\"This is the information for {}\".format(company))\n",
    "    print(getStockDataInYFinance(name=company))\n",
    "    print(\"------------------------------------------------------\")\n",
    "###经过调查，属于信息不完善，有的连公司信息都不全"
   ],
   "metadata": {
    "collapsed": false
   }
  },
  {
   "cell_type": "code",
   "execution_count": null,
   "outputs": [],
   "source": [
    "print(\"types in data: {}\".format(stockDataInYFinance.dtypes))\n",
    "stockDataInYFinance"
   ],
   "metadata": {
    "collapsed": false
   }
  },
  {
   "cell_type": "code",
   "execution_count": null,
   "outputs": [],
   "source": [
    "MMMStock=stockDataInYFinance[stockDataInYFinance['name']==\"MMM\"]\n",
    "\n",
    "plt.figure(figsize=(15,8))\n",
    "\n",
    "ax = plt.gca()\n",
    "locator = mdates.DayLocator(interval=30*3)\n",
    "ax.xaxis.set_major_locator(locator)\n",
    "\n",
    "x=MMMStock['trade_date']\n",
    "\n",
    "plt.plot(x,MMMStock['High'],label=\"high\")\n",
    "plt.plot(x,MMMStock['Low'],label=\"low\")\n",
    "plt.gcf().autofmt_xdate()\n",
    "plt.xlabel(\"Date\")\n",
    "plt.ylabel(\"Amount\")\n",
    "plt.title('MMM')\n",
    "plt.rc('xtick', labelsize=15)\n",
    "plt.rc('ytick', labelsize=15)\n",
    "plt.rcParams.update({'font.size': 15})\n",
    "plt.legend()   #打上标签\n",
    "plt.show()\n",
    "MMMStock"
   ],
   "metadata": {
    "collapsed": false
   }
  },
  {
   "cell_type": "markdown",
   "source": [
    "# 2.0 Analysis the raw data in AI\n",
    "* data engineering\n",
    "* data cleaning\n",
    "* build model\n",
    "* train"
   ],
   "metadata": {
    "collapsed": false
   }
  },
  {
   "cell_type": "markdown",
   "source": [
    "------------------------------------------\n",
    "这里说一下训练集与验证集的分配:\n",
    "* 训练集: 截取 2013-01-01 to 2018-01-01，5年数据，占总比50%。\n",
    "* 验证集1: 截取 2018-01-01 to 2019-01-01 1年数据， 占总比10%，因为疫情就发生在2019年，该验证集用于检测模型准确度，确保该模型在疫情前时期可以正常使用\n",
    "* 验证集2: 截取 2019-01-01 to 2023-01-01 4年数据，占比40%，该数据集并非用于验证，而是在确保验证集1能正常运行的情况下，用于观察疫情发生与正常预期是否有大偏差（验证是否疫情对股票市场有巨大影响）"
   ],
   "metadata": {
    "collapsed": false
   }
  },
  {
   "cell_type": "code",
   "execution_count": null,
   "outputs": [],
   "source": [],
   "metadata": {
    "collapsed": false
   }
  }
 ],
 "metadata": {
  "kernelspec": {
   "display_name": "Python 3",
   "language": "python",
   "name": "python3"
  },
  "language_info": {
   "codemirror_mode": {
    "name": "ipython",
    "version": 2
   },
   "file_extension": ".py",
   "mimetype": "text/x-python",
   "name": "python",
   "nbconvert_exporter": "python",
   "pygments_lexer": "ipython2",
   "version": "2.7.6"
  }
 },
 "nbformat": 4,
 "nbformat_minor": 0
}
