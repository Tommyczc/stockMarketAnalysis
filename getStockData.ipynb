{
 "cells": [
  {
   "cell_type": "markdown",
   "source": [
    "# 1.0 Get Data Of Stock Market\n",
    "\n",
    "* 本篇代码用来查询所有股票数据，所有导出的数据都将导出到stockdata文件夹内，方便管理查看。\n",
    "* 平台api方面，国内用tushare，国外用的雅虎。\n",
    "* 本篇代码也计划用来做数据清洗并且数据展示，处理好的文件也存在stockdata文件夹里面。"
   ],
   "metadata": {
    "collapsed": false
   }
  },
  {
   "cell_type": "code",
   "execution_count": 1,
   "outputs": [
    {
     "name": "stdout",
     "output_type": "stream",
     "text": [
      "Hello,stock market\n"
     ]
    },
    {
     "name": "stderr",
     "output_type": "stream",
     "text": [
      "D:\\app\\anaconda\\envs\\machineLearning\\lib\\site-packages\\requests\\__init__.py:109: RequestsDependencyWarning: urllib3 (2.0.2) or chardet (None)/charset_normalizer (2.1.1) doesn't match a supported version!\n",
      "  warnings.warn(\n"
     ]
    },
    {
     "name": "stdout",
     "output_type": "stream",
     "text": [
      "Load Time:  0:00:01.216848\n"
     ]
    }
   ],
   "source": [
    "print(\"Hello,stock market\")\n",
    "from datetime import datetime\n",
    "start_time = datetime.now()\n",
    "import time\n",
    "import numpy as np\n",
    "## todo: calculating the time of import libraries\n",
    "#先引入后面分析、可视化等可能用到的库\n",
    "import tushare as ts\n",
    "import pandas as pd\n",
    "import matplotlib.pyplot as plt\n",
    "#正常显示画图时出现的中文和负号\n",
    "from pylab import mpl\n",
    "import yfinance as yf\n",
    "import matplotlib.dates as mdates\n",
    "import seaborn as sns\n",
    "# todo: solve chinese problem for plt\n",
    "mpl.rcParams['font.sans-serif']=['SimHei']\n",
    "mpl.rcParams['axes.unicode_minus']=False\n",
    "\n",
    "#显示所有列\n",
    "# pd.set_option('display.max_columns', 100)\n",
    "# #显示所有行\n",
    "# pd.set_option('display.max_rows', 100)\n",
    "# #设置value的显示长度为100，默认为50\n",
    "# pd.set_option('max_colwidth',100)\n",
    "print(\"Load Time: \",datetime.now()-start_time)"
   ],
   "metadata": {
    "collapsed": false,
    "ExecuteTime": {
     "end_time": "2023-05-19T15:18:03.459301800Z",
     "start_time": "2023-05-19T15:18:02.211537900Z"
    }
   }
  },
  {
   "cell_type": "markdown",
   "source": [
    "## 1.1 use tushare api get data"
   ],
   "metadata": {
    "collapsed": false
   }
  },
  {
   "cell_type": "code",
   "execution_count": 2,
   "outputs": [],
   "source": [
    "# login tushare, use token\n",
    "pro = ts.pro_api('f7b384108cbed0026a4dfa35835f75b0fb9d04673a067e8b75d8810f')\n",
    "\n",
    "\n",
    "def getStockCompanyInformation(status='L', stock_code=''):\n",
    "    \"\"\"\n",
    "    得到目前所有的股票公司信息\n",
    "    :param status: 上市状态 L上市 D退市 P暂停上市，默认是L\n",
    "    :param stock_code: TS股票代码\n",
    "    :return:\n",
    "    \"\"\"\n",
    "\n",
    "    if stock_code== '':\n",
    "        rawStockCompanyDataInTushare = pro.stock_basic(exchange='', list_status=status, fields='ts_code,symbol,fullname,enname,name,area,industry,list_date')\n",
    "    else:\n",
    "        rawStockCompanyDataInTushare = pro.stock_basic(ts_code=stock_code, exchange='', list_status=status, fields='ts_code,symbol,fullname,enname,name,area,industry,list_date')\n",
    "\n",
    "    rawStockCompanyDataInTushare['ts_code']=rawStockCompanyDataInTushare['ts_code'].astype(str)\n",
    "    rawStockCompanyDataInTushare['symbol']=rawStockCompanyDataInTushare['symbol'].astype('float64')\n",
    "    rawStockCompanyDataInTushare['name']=rawStockCompanyDataInTushare['name'].astype(str)\n",
    "    rawStockCompanyDataInTushare['area']=rawStockCompanyDataInTushare['area'].astype(str)\n",
    "    rawStockCompanyDataInTushare['industry']=rawStockCompanyDataInTushare['industry'].astype(str)\n",
    "    rawStockCompanyDataInTushare['fullname']=rawStockCompanyDataInTushare['fullname'].astype(str)\n",
    "    rawStockCompanyDataInTushare['enname']=rawStockCompanyDataInTushare['enname'].astype(str)\n",
    "    rawStockCompanyDataInTushare['list_date']=rawStockCompanyDataInTushare['list_date'].astype('float64')\n",
    "\n",
    "    rawStockCompanyDataInTushare['list_date']=pd.to_datetime(rawStockCompanyDataInTushare['list_date'], format='%Y%m%d')\n",
    "    return rawStockCompanyDataInTushare\n",
    "\n",
    "\n",
    "# 拉取数据\n",
    "def getDailyStockData(stock_code=\"\",start=\"20130101\",end=\"20230101\"):\n",
    "    \"\"\"\n",
    "    拉取股票日结交易信息，时间段默认 2018-1-1 到 2022-1-1，注意：该函数单次只能查询6000条记录。\n",
    "    :param stock_code: 股票代码，默认为空，输入为空的时候，拉取这段时期所有股票的交易消息；若不为空，拉去这只股票这段时间的交易消息\n",
    "    :param start: 开始日期\n",
    "    :param end: 结束日期\n",
    "    :return:\n",
    "    \"\"\"\n",
    "    rawData = pro.daily(**{\n",
    "        \"ts_code\": stock_code,\n",
    "        \"trade_date\": \"\",\n",
    "        \"start_date\": start,\n",
    "        \"end_date\": end,\n",
    "        \"offset\": \"\",\n",
    "        \"limit\": \"\",\n",
    "    }, fields=[\n",
    "        \"ts_code\",\n",
    "        \"trade_date\",\n",
    "        \"open\",\n",
    "        \"high\",\n",
    "        \"low\",\n",
    "        \"close\",\n",
    "        \"pre_close\",\n",
    "        \"change\",\n",
    "        \"pct_chg\",\n",
    "        \"vol\",\n",
    "        \"amount\"\n",
    "    ])\n",
    "    rawData['ts_code']=rawData['ts_code'].astype(str)\n",
    "    rawData['trade_date']=rawData['trade_date'].astype('float64')\n",
    "\n",
    "    rawData['trade_date']=pd.to_datetime(rawData['trade_date'], format='%Y%m%d')\n",
    "    return rawData\n"
   ],
   "metadata": {
    "collapsed": false,
    "ExecuteTime": {
     "end_time": "2023-05-19T15:18:03.518643700Z",
     "start_time": "2023-05-19T15:18:03.446336500Z"
    }
   }
  },
  {
   "cell_type": "code",
   "execution_count": 3,
   "outputs": [
    {
     "name": "stdout",
     "output_type": "stream",
     "text": [
      "The shape of the data frame: (5185, 8)\n",
      "The types in the data frame ts_code              object\n",
      "symbol              float64\n",
      "name                 object\n",
      "area                 object\n",
      "industry             object\n",
      "fullname             object\n",
      "enname               object\n",
      "list_date    datetime64[ns]\n",
      "dtype: object\n"
     ]
    },
    {
     "data": {
      "text/plain": "        ts_code    symbol     name  area industry          fullname   \n0     000996.SZ     996.0    *ST中期    北京     汽车服务      中国中期投资股份有限公司  \\\n1     002008.SZ    2008.0     大族激光    深圳     电器仪表  大族激光科技产业集团股份有限公司   \n2     002014.SZ    2014.0     永新股份    安徽       塑料        黄山永新股份有限公司   \n3     002026.SZ    2026.0     山东威达    山东     机械基件      山东威达机械股份有限公司   \n4     002033.SZ    2033.0     丽江股份    云南     旅游景点      丽江玉龙旅游股份有限公司   \n...         ...       ...      ...   ...      ...               ...   \n5180  688552.SH  688552.0      C南湖    湖北     通信设备  航天南湖电子信息技术股份有限公司   \n5181  688515.SH  688515.0    裕太微-U    江苏      半导体       裕太微电子股份有限公司   \n5182  872541.BJ  872541.0     铁大科技  None     None    上海铁大电信科技股份有限公司   \n5183  833075.BJ  833075.0      柏星龙  None     None  深圳市柏星龙创意包装股份有限公司   \n5184  689009.SH  689009.0  九号公司-WD    北京      摩托车            九号有限公司   \n\n                                                 enname  list_date  \n0                        China CIFCO Investment Co.,Ltd 2000-07-18  \n1        Han's Laser Technology Industry Group Co.,Ltd. 2004-06-25  \n2                               Huangshan Novel Co.,Ltd 2004-07-08  \n3                     Shandong Weida Machinery Co.,Ltd. 2004-07-27  \n4                       Lijiang Yulong Tourism Co.,Ltd. 2004-08-25  \n...                                                 ...        ...  \n5180  Aerospace Nanhu Electronic Information Technol... 2023-05-18  \n5181          Motorcomm Electronic Technology Co., Ltd. 2023-02-10  \n5182  Shanghai Tieda Electronic and Information Tech... 2023-03-10  \n5183   Shenzhen Baixinglong Creative Packaging Co., Ltd 2022-12-14  \n5184                                    Ninebot Limited 2020-10-29  \n\n[5185 rows x 8 columns]",
      "text/html": "<div>\n<style scoped>\n    .dataframe tbody tr th:only-of-type {\n        vertical-align: middle;\n    }\n\n    .dataframe tbody tr th {\n        vertical-align: top;\n    }\n\n    .dataframe thead th {\n        text-align: right;\n    }\n</style>\n<table border=\"1\" class=\"dataframe\">\n  <thead>\n    <tr style=\"text-align: right;\">\n      <th></th>\n      <th>ts_code</th>\n      <th>symbol</th>\n      <th>name</th>\n      <th>area</th>\n      <th>industry</th>\n      <th>fullname</th>\n      <th>enname</th>\n      <th>list_date</th>\n    </tr>\n  </thead>\n  <tbody>\n    <tr>\n      <th>0</th>\n      <td>000996.SZ</td>\n      <td>996.0</td>\n      <td>*ST中期</td>\n      <td>北京</td>\n      <td>汽车服务</td>\n      <td>中国中期投资股份有限公司</td>\n      <td>China CIFCO Investment Co.,Ltd</td>\n      <td>2000-07-18</td>\n    </tr>\n    <tr>\n      <th>1</th>\n      <td>002008.SZ</td>\n      <td>2008.0</td>\n      <td>大族激光</td>\n      <td>深圳</td>\n      <td>电器仪表</td>\n      <td>大族激光科技产业集团股份有限公司</td>\n      <td>Han's Laser Technology Industry Group Co.,Ltd.</td>\n      <td>2004-06-25</td>\n    </tr>\n    <tr>\n      <th>2</th>\n      <td>002014.SZ</td>\n      <td>2014.0</td>\n      <td>永新股份</td>\n      <td>安徽</td>\n      <td>塑料</td>\n      <td>黄山永新股份有限公司</td>\n      <td>Huangshan Novel Co.,Ltd</td>\n      <td>2004-07-08</td>\n    </tr>\n    <tr>\n      <th>3</th>\n      <td>002026.SZ</td>\n      <td>2026.0</td>\n      <td>山东威达</td>\n      <td>山东</td>\n      <td>机械基件</td>\n      <td>山东威达机械股份有限公司</td>\n      <td>Shandong Weida Machinery Co.,Ltd.</td>\n      <td>2004-07-27</td>\n    </tr>\n    <tr>\n      <th>4</th>\n      <td>002033.SZ</td>\n      <td>2033.0</td>\n      <td>丽江股份</td>\n      <td>云南</td>\n      <td>旅游景点</td>\n      <td>丽江玉龙旅游股份有限公司</td>\n      <td>Lijiang Yulong Tourism Co.,Ltd.</td>\n      <td>2004-08-25</td>\n    </tr>\n    <tr>\n      <th>...</th>\n      <td>...</td>\n      <td>...</td>\n      <td>...</td>\n      <td>...</td>\n      <td>...</td>\n      <td>...</td>\n      <td>...</td>\n      <td>...</td>\n    </tr>\n    <tr>\n      <th>5180</th>\n      <td>688552.SH</td>\n      <td>688552.0</td>\n      <td>C南湖</td>\n      <td>湖北</td>\n      <td>通信设备</td>\n      <td>航天南湖电子信息技术股份有限公司</td>\n      <td>Aerospace Nanhu Electronic Information Technol...</td>\n      <td>2023-05-18</td>\n    </tr>\n    <tr>\n      <th>5181</th>\n      <td>688515.SH</td>\n      <td>688515.0</td>\n      <td>裕太微-U</td>\n      <td>江苏</td>\n      <td>半导体</td>\n      <td>裕太微电子股份有限公司</td>\n      <td>Motorcomm Electronic Technology Co., Ltd.</td>\n      <td>2023-02-10</td>\n    </tr>\n    <tr>\n      <th>5182</th>\n      <td>872541.BJ</td>\n      <td>872541.0</td>\n      <td>铁大科技</td>\n      <td>None</td>\n      <td>None</td>\n      <td>上海铁大电信科技股份有限公司</td>\n      <td>Shanghai Tieda Electronic and Information Tech...</td>\n      <td>2023-03-10</td>\n    </tr>\n    <tr>\n      <th>5183</th>\n      <td>833075.BJ</td>\n      <td>833075.0</td>\n      <td>柏星龙</td>\n      <td>None</td>\n      <td>None</td>\n      <td>深圳市柏星龙创意包装股份有限公司</td>\n      <td>Shenzhen Baixinglong Creative Packaging Co., Ltd</td>\n      <td>2022-12-14</td>\n    </tr>\n    <tr>\n      <th>5184</th>\n      <td>689009.SH</td>\n      <td>689009.0</td>\n      <td>九号公司-WD</td>\n      <td>北京</td>\n      <td>摩托车</td>\n      <td>九号有限公司</td>\n      <td>Ninebot Limited</td>\n      <td>2020-10-29</td>\n    </tr>\n  </tbody>\n</table>\n<p>5185 rows × 8 columns</p>\n</div>"
     },
     "execution_count": 3,
     "metadata": {},
     "output_type": "execute_result"
    }
   ],
   "source": [
    "rawCompanyDataInTushare=getStockCompanyInformation()\n",
    "print(\"The shape of the data frame: {}\".format(rawCompanyDataInTushare.shape))\n",
    "print(\"The types in the data frame {}\".format(rawCompanyDataInTushare.dtypes))\n",
    "rawCompanyDataInTushare"
   ],
   "metadata": {
    "collapsed": false,
    "ExecuteTime": {
     "end_time": "2023-05-19T15:18:04.881868600Z",
     "start_time": "2023-05-19T15:18:03.477252700Z"
    }
   }
  },
  {
   "cell_type": "code",
   "execution_count": 4,
   "outputs": [
    {
     "name": "stdout",
     "output_type": "stream",
     "text": [
      "The shape of the data frame: (6000, 11)\n",
      "The types in the data frame:\n",
      "ts_code               object\n",
      "trade_date    datetime64[ns]\n",
      "open                 float64\n",
      "high                 float64\n",
      "low                  float64\n",
      "close                float64\n",
      "pre_close            float64\n",
      "change               float64\n",
      "pct_chg              float64\n",
      "vol                  float64\n",
      "amount               float64\n",
      "dtype: object\n",
      "The unique stock code: 5061\n"
     ]
    },
    {
     "data": {
      "text/plain": "        ts_code trade_date   open   high    low  close  pre_close  change   \n0     002198.SZ 2022-12-30   6.39   6.57   6.33   6.52       6.40    0.12  \\\n1     002199.SZ 2022-12-30   6.36   6.43   6.28   6.39       6.29    0.10   \n2     002194.SZ 2022-12-30   9.13   9.26   9.07   9.21       9.10    0.11   \n3     002181.SZ 2022-12-30   5.28   5.52   5.28   5.46       5.31    0.15   \n4     002195.SZ 2022-12-30   1.99   2.02   1.98   2.01       1.98    0.03   \n...         ...        ...    ...    ...    ...    ...        ...     ...   \n5995  300185.SZ 2022-12-29   2.43   2.43   2.38   2.39       2.43   -0.04   \n5996  002212.SZ 2022-12-29   9.51   9.93   9.48   9.85       9.59    0.26   \n5997  002213.SZ 2022-12-29  16.37  16.37  15.61  15.68      14.88    0.80   \n5998  002397.SZ 2022-12-29   4.54   4.67   4.51   4.54       4.60   -0.06   \n5999  300024.SZ 2022-12-29   8.83   8.99   8.83   8.88       8.92   -0.04   \n\n      pct_chg        vol      amount  \n0      1.8750  101579.12   65646.164  \n1      1.5898   38684.00   24640.014  \n2      1.2088  101101.41   92895.425  \n3      2.8249  547665.70  297495.407  \n4      1.5152  444728.72   89088.620  \n...       ...        ...         ...  \n5995  -1.6461  169697.00   40744.559  \n5996   2.7112  166568.42  163068.690  \n5997   5.3763  238641.86  386408.221  \n5998  -1.3043  127870.79   58483.435  \n5999  -0.4484   66528.10   59381.114  \n\n[6000 rows x 11 columns]",
      "text/html": "<div>\n<style scoped>\n    .dataframe tbody tr th:only-of-type {\n        vertical-align: middle;\n    }\n\n    .dataframe tbody tr th {\n        vertical-align: top;\n    }\n\n    .dataframe thead th {\n        text-align: right;\n    }\n</style>\n<table border=\"1\" class=\"dataframe\">\n  <thead>\n    <tr style=\"text-align: right;\">\n      <th></th>\n      <th>ts_code</th>\n      <th>trade_date</th>\n      <th>open</th>\n      <th>high</th>\n      <th>low</th>\n      <th>close</th>\n      <th>pre_close</th>\n      <th>change</th>\n      <th>pct_chg</th>\n      <th>vol</th>\n      <th>amount</th>\n    </tr>\n  </thead>\n  <tbody>\n    <tr>\n      <th>0</th>\n      <td>002198.SZ</td>\n      <td>2022-12-30</td>\n      <td>6.39</td>\n      <td>6.57</td>\n      <td>6.33</td>\n      <td>6.52</td>\n      <td>6.40</td>\n      <td>0.12</td>\n      <td>1.8750</td>\n      <td>101579.12</td>\n      <td>65646.164</td>\n    </tr>\n    <tr>\n      <th>1</th>\n      <td>002199.SZ</td>\n      <td>2022-12-30</td>\n      <td>6.36</td>\n      <td>6.43</td>\n      <td>6.28</td>\n      <td>6.39</td>\n      <td>6.29</td>\n      <td>0.10</td>\n      <td>1.5898</td>\n      <td>38684.00</td>\n      <td>24640.014</td>\n    </tr>\n    <tr>\n      <th>2</th>\n      <td>002194.SZ</td>\n      <td>2022-12-30</td>\n      <td>9.13</td>\n      <td>9.26</td>\n      <td>9.07</td>\n      <td>9.21</td>\n      <td>9.10</td>\n      <td>0.11</td>\n      <td>1.2088</td>\n      <td>101101.41</td>\n      <td>92895.425</td>\n    </tr>\n    <tr>\n      <th>3</th>\n      <td>002181.SZ</td>\n      <td>2022-12-30</td>\n      <td>5.28</td>\n      <td>5.52</td>\n      <td>5.28</td>\n      <td>5.46</td>\n      <td>5.31</td>\n      <td>0.15</td>\n      <td>2.8249</td>\n      <td>547665.70</td>\n      <td>297495.407</td>\n    </tr>\n    <tr>\n      <th>4</th>\n      <td>002195.SZ</td>\n      <td>2022-12-30</td>\n      <td>1.99</td>\n      <td>2.02</td>\n      <td>1.98</td>\n      <td>2.01</td>\n      <td>1.98</td>\n      <td>0.03</td>\n      <td>1.5152</td>\n      <td>444728.72</td>\n      <td>89088.620</td>\n    </tr>\n    <tr>\n      <th>...</th>\n      <td>...</td>\n      <td>...</td>\n      <td>...</td>\n      <td>...</td>\n      <td>...</td>\n      <td>...</td>\n      <td>...</td>\n      <td>...</td>\n      <td>...</td>\n      <td>...</td>\n      <td>...</td>\n    </tr>\n    <tr>\n      <th>5995</th>\n      <td>300185.SZ</td>\n      <td>2022-12-29</td>\n      <td>2.43</td>\n      <td>2.43</td>\n      <td>2.38</td>\n      <td>2.39</td>\n      <td>2.43</td>\n      <td>-0.04</td>\n      <td>-1.6461</td>\n      <td>169697.00</td>\n      <td>40744.559</td>\n    </tr>\n    <tr>\n      <th>5996</th>\n      <td>002212.SZ</td>\n      <td>2022-12-29</td>\n      <td>9.51</td>\n      <td>9.93</td>\n      <td>9.48</td>\n      <td>9.85</td>\n      <td>9.59</td>\n      <td>0.26</td>\n      <td>2.7112</td>\n      <td>166568.42</td>\n      <td>163068.690</td>\n    </tr>\n    <tr>\n      <th>5997</th>\n      <td>002213.SZ</td>\n      <td>2022-12-29</td>\n      <td>16.37</td>\n      <td>16.37</td>\n      <td>15.61</td>\n      <td>15.68</td>\n      <td>14.88</td>\n      <td>0.80</td>\n      <td>5.3763</td>\n      <td>238641.86</td>\n      <td>386408.221</td>\n    </tr>\n    <tr>\n      <th>5998</th>\n      <td>002397.SZ</td>\n      <td>2022-12-29</td>\n      <td>4.54</td>\n      <td>4.67</td>\n      <td>4.51</td>\n      <td>4.54</td>\n      <td>4.60</td>\n      <td>-0.06</td>\n      <td>-1.3043</td>\n      <td>127870.79</td>\n      <td>58483.435</td>\n    </tr>\n    <tr>\n      <th>5999</th>\n      <td>300024.SZ</td>\n      <td>2022-12-29</td>\n      <td>8.83</td>\n      <td>8.99</td>\n      <td>8.83</td>\n      <td>8.88</td>\n      <td>8.92</td>\n      <td>-0.04</td>\n      <td>-0.4484</td>\n      <td>66528.10</td>\n      <td>59381.114</td>\n    </tr>\n  </tbody>\n</table>\n<p>6000 rows × 11 columns</p>\n</div>"
     },
     "execution_count": 4,
     "metadata": {},
     "output_type": "execute_result"
    }
   ],
   "source": [
    "rawDailyDataInTushare=getDailyStockData()\n",
    "print(\"The shape of the data frame: {}\".format(rawDailyDataInTushare.shape))\n",
    "print(\"The types in the data frame:\\n{}\".format(rawDailyDataInTushare.dtypes))\n",
    "print(\"The unique stock code: {}\".format(len(rawDailyDataInTushare['ts_code'].unique())))\n",
    "rawDailyDataInTushare"
   ],
   "metadata": {
    "collapsed": false,
    "ExecuteTime": {
     "end_time": "2023-05-19T15:18:09.595595100Z",
     "start_time": "2023-05-19T15:18:04.883862400Z"
    }
   }
  },
  {
   "cell_type": "code",
   "execution_count": 5,
   "outputs": [
    {
     "data": {
      "text/plain": "        ts_code trade_date  open  high   low  close  pre_close  change   \n0     000006.SZ 2022-12-30  6.29  6.46  6.21   6.30       6.13    0.17  \\\n1     000006.SZ 2022-12-29  6.60  6.65  6.13   6.13       6.81   -0.68   \n2     000006.SZ 2022-12-28  6.47  7.17  6.40   6.81       6.64    0.17   \n3     000006.SZ 2022-12-27  6.00  6.64  5.96   6.64       6.04    0.60   \n4     000006.SZ 2022-12-26  5.69  6.18  5.65   6.04       5.91    0.13   \n...         ...        ...   ...   ...   ...    ...        ...     ...   \n2308  000006.SZ 2013-01-10  5.02  5.12  4.99   5.06       5.01    0.05   \n2309  000006.SZ 2013-01-09  5.02  5.07  4.95   5.01       5.08   -0.07   \n2310  000006.SZ 2013-01-08  5.15  5.30  5.01   5.08       4.92    0.16   \n2311  000006.SZ 2013-01-07  4.90  4.94  4.82   4.92       4.93   -0.01   \n2312  000006.SZ 2013-01-04  5.02  5.10  4.90   4.93       4.95   -0.02   \n\n      pct_chg         vol        amount  \n0      2.7732  1280164.06  8.071626e+05  \n1     -9.9853  2067778.94  1.305957e+06  \n2      2.5602  2646897.32  1.789639e+06  \n3      9.9338  2469265.08  1.612829e+06  \n4      2.1997  1502166.93  8.940131e+05  \n...       ...         ...           ...  \n2308   1.0000   231290.95  1.167205e+05  \n2309  -1.3800   218039.31  1.094010e+05  \n2310   3.2500   472007.79  2.412159e+05  \n2311  -0.2000   132315.27  6.452564e+04  \n2312  -0.4000   262711.01  1.312452e+05  \n\n[2313 rows x 11 columns]",
      "text/html": "<div>\n<style scoped>\n    .dataframe tbody tr th:only-of-type {\n        vertical-align: middle;\n    }\n\n    .dataframe tbody tr th {\n        vertical-align: top;\n    }\n\n    .dataframe thead th {\n        text-align: right;\n    }\n</style>\n<table border=\"1\" class=\"dataframe\">\n  <thead>\n    <tr style=\"text-align: right;\">\n      <th></th>\n      <th>ts_code</th>\n      <th>trade_date</th>\n      <th>open</th>\n      <th>high</th>\n      <th>low</th>\n      <th>close</th>\n      <th>pre_close</th>\n      <th>change</th>\n      <th>pct_chg</th>\n      <th>vol</th>\n      <th>amount</th>\n    </tr>\n  </thead>\n  <tbody>\n    <tr>\n      <th>0</th>\n      <td>000006.SZ</td>\n      <td>2022-12-30</td>\n      <td>6.29</td>\n      <td>6.46</td>\n      <td>6.21</td>\n      <td>6.30</td>\n      <td>6.13</td>\n      <td>0.17</td>\n      <td>2.7732</td>\n      <td>1280164.06</td>\n      <td>8.071626e+05</td>\n    </tr>\n    <tr>\n      <th>1</th>\n      <td>000006.SZ</td>\n      <td>2022-12-29</td>\n      <td>6.60</td>\n      <td>6.65</td>\n      <td>6.13</td>\n      <td>6.13</td>\n      <td>6.81</td>\n      <td>-0.68</td>\n      <td>-9.9853</td>\n      <td>2067778.94</td>\n      <td>1.305957e+06</td>\n    </tr>\n    <tr>\n      <th>2</th>\n      <td>000006.SZ</td>\n      <td>2022-12-28</td>\n      <td>6.47</td>\n      <td>7.17</td>\n      <td>6.40</td>\n      <td>6.81</td>\n      <td>6.64</td>\n      <td>0.17</td>\n      <td>2.5602</td>\n      <td>2646897.32</td>\n      <td>1.789639e+06</td>\n    </tr>\n    <tr>\n      <th>3</th>\n      <td>000006.SZ</td>\n      <td>2022-12-27</td>\n      <td>6.00</td>\n      <td>6.64</td>\n      <td>5.96</td>\n      <td>6.64</td>\n      <td>6.04</td>\n      <td>0.60</td>\n      <td>9.9338</td>\n      <td>2469265.08</td>\n      <td>1.612829e+06</td>\n    </tr>\n    <tr>\n      <th>4</th>\n      <td>000006.SZ</td>\n      <td>2022-12-26</td>\n      <td>5.69</td>\n      <td>6.18</td>\n      <td>5.65</td>\n      <td>6.04</td>\n      <td>5.91</td>\n      <td>0.13</td>\n      <td>2.1997</td>\n      <td>1502166.93</td>\n      <td>8.940131e+05</td>\n    </tr>\n    <tr>\n      <th>...</th>\n      <td>...</td>\n      <td>...</td>\n      <td>...</td>\n      <td>...</td>\n      <td>...</td>\n      <td>...</td>\n      <td>...</td>\n      <td>...</td>\n      <td>...</td>\n      <td>...</td>\n      <td>...</td>\n    </tr>\n    <tr>\n      <th>2308</th>\n      <td>000006.SZ</td>\n      <td>2013-01-10</td>\n      <td>5.02</td>\n      <td>5.12</td>\n      <td>4.99</td>\n      <td>5.06</td>\n      <td>5.01</td>\n      <td>0.05</td>\n      <td>1.0000</td>\n      <td>231290.95</td>\n      <td>1.167205e+05</td>\n    </tr>\n    <tr>\n      <th>2309</th>\n      <td>000006.SZ</td>\n      <td>2013-01-09</td>\n      <td>5.02</td>\n      <td>5.07</td>\n      <td>4.95</td>\n      <td>5.01</td>\n      <td>5.08</td>\n      <td>-0.07</td>\n      <td>-1.3800</td>\n      <td>218039.31</td>\n      <td>1.094010e+05</td>\n    </tr>\n    <tr>\n      <th>2310</th>\n      <td>000006.SZ</td>\n      <td>2013-01-08</td>\n      <td>5.15</td>\n      <td>5.30</td>\n      <td>5.01</td>\n      <td>5.08</td>\n      <td>4.92</td>\n      <td>0.16</td>\n      <td>3.2500</td>\n      <td>472007.79</td>\n      <td>2.412159e+05</td>\n    </tr>\n    <tr>\n      <th>2311</th>\n      <td>000006.SZ</td>\n      <td>2013-01-07</td>\n      <td>4.90</td>\n      <td>4.94</td>\n      <td>4.82</td>\n      <td>4.92</td>\n      <td>4.93</td>\n      <td>-0.01</td>\n      <td>-0.2000</td>\n      <td>132315.27</td>\n      <td>6.452564e+04</td>\n    </tr>\n    <tr>\n      <th>2312</th>\n      <td>000006.SZ</td>\n      <td>2013-01-04</td>\n      <td>5.02</td>\n      <td>5.10</td>\n      <td>4.90</td>\n      <td>4.93</td>\n      <td>4.95</td>\n      <td>-0.02</td>\n      <td>-0.4000</td>\n      <td>262711.01</td>\n      <td>1.312452e+05</td>\n    </tr>\n  </tbody>\n</table>\n<p>2313 rows × 11 columns</p>\n</div>"
     },
     "execution_count": 5,
     "metadata": {},
     "output_type": "execute_result"
    }
   ],
   "source": [
    "##test\n",
    "testDailyStockData=getDailyStockData(stock_code=\"000006.SZ\")\n",
    "testDailyStockData"
   ],
   "metadata": {
    "collapsed": false,
    "ExecuteTime": {
     "end_time": "2023-05-19T15:18:09.595595100Z",
     "start_time": "2023-05-19T15:18:09.570660Z"
    }
   }
  },
  {
   "cell_type": "code",
   "execution_count": 6,
   "outputs": [],
   "source": [
    "###由于Toshare社区限制每次查询只能拿到 6000 行日结交易信息（每日每公司为一行），而且每分钟只能查500次。为了得到当前所有上市公司，每次查询只查一家上市公司而且将会延迟0.2秒\n",
    "def bindDailyAndCompanyInformation():\n",
    "    notIncludedData=['name']\n",
    "\n",
    "    startTime=datetime.now()\n",
    "    companies=getStockCompanyInformation()\n",
    "    bindData=pd.DataFrame()\n",
    "    i=2\n",
    "    for company in companies['ts_code'].to_numpy():\n",
    "        dailyData=getDailyStockData(stock_code=company)\n",
    "        for header in companies.columns:\n",
    "            if header!=\"ts_code\":\n",
    "                #test only\n",
    "                # print(\"------------------------------------\")\n",
    "                # print(companies[companies['ts_code'] == company][header].values.repeat(5))\n",
    "                # print(dailyData.shape[0])\n",
    "                # print(\"------------------------------------\")\n",
    "                dailyData[header]= companies[companies['ts_code'] == company][header].values.repeat(dailyData.shape[0])\n",
    "\n",
    "        dailyData=dailyData.drop(columns=notIncludedData)\n",
    "        bindData=bindData.append(dailyData)\n",
    "        #time.sleep(0.15)\n",
    "        ###########test only\n",
    "        #print(dailyData)\n",
    "        # if i==1:\n",
    "        #     break\n",
    "        # else:\n",
    "        #     i-=1\n",
    "        ###########\n",
    "    timeConsume=datetime.now()-startTime\n",
    "    print(\"Run time: {}\".format(timeConsume))\n",
    "    return bindData\n"
   ],
   "metadata": {
    "collapsed": false,
    "ExecuteTime": {
     "end_time": "2023-05-19T15:18:09.595595100Z",
     "start_time": "2023-05-19T15:18:09.571669400Z"
    }
   }
  },
  {
   "cell_type": "code",
   "execution_count": 7,
   "outputs": [],
   "source": [
    "###此cell仅用于下载股票数据，由于信息量庞大，可导入下好的 TushareRawData.csv 文件即可\n",
    "# theBindDataInTushare=bindDailyAndCompanyInformation()\n",
    "# print(\"The shape of the data frame: {}\".format(theBindDataInTushare.shape))\n",
    "# print(\"The types in the data frame:\\n{}\".format(theBindDataInTushare.dtypes))\n",
    "# print(\"The unique stock code: {}\".format(len(theBindDataInTushare['ts_code'].unique())))\n",
    "# theBindDataInTushare.to_csv('stockData/TushareRawData.csv', header=theBindDataInTushare.columns, index=False)"
   ],
   "metadata": {
    "collapsed": false,
    "ExecuteTime": {
     "end_time": "2023-05-19T15:18:09.595595100Z",
     "start_time": "2023-05-19T15:18:09.571669400Z"
    }
   }
  },
  {
   "cell_type": "code",
   "execution_count": 8,
   "outputs": [
    {
     "name": "stdout",
     "output_type": "stream",
     "text": [
      "The shape of the data frame: (7792078, 17)\n",
      "The types in the data frame:\n",
      "ts_code        object\n",
      "trade_date     object\n",
      "open          float64\n",
      "high          float64\n",
      "low           float64\n",
      "close         float64\n",
      "pre_close     float64\n",
      "change        float64\n",
      "pct_chg       float64\n",
      "vol           float64\n",
      "amount        float64\n",
      "symbol        float64\n",
      "area           object\n",
      "industry       object\n",
      "fullname       object\n",
      "enname         object\n",
      "list_date      object\n",
      "dtype: object\n",
      "The unique stock code: 5061\n"
     ]
    }
   ],
   "source": [
    "###此cell是本地读取tushare股票信息，如果本地有csv文件就用这个，并且注释上一个cell，如果没下载csv文件就取消注释上一个cell\n",
    "theBindDataInTushare=pd.read_csv('stockData/TushareRawData.csv')\n",
    "print(\"The shape of the data frame: {}\".format(theBindDataInTushare.shape))\n",
    "print(\"The types in the data frame:\\n{}\".format(theBindDataInTushare.dtypes))\n",
    "print(\"The unique stock code: {}\".format(len(theBindDataInTushare['ts_code'].unique())))"
   ],
   "metadata": {
    "collapsed": false,
    "ExecuteTime": {
     "end_time": "2023-05-19T15:18:44.969084400Z",
     "start_time": "2023-05-19T15:18:09.571669400Z"
    }
   }
  },
  {
   "cell_type": "code",
   "execution_count": 9,
   "outputs": [
    {
     "name": "stdout",
     "output_type": "stream",
     "text": [
      "The num of miss company: 124\n"
     ]
    }
   ],
   "source": [
    "###todo 不知道为什么有100家公司查不到，手动查询看看情况，然后手动合并吧\n",
    "missedCompany=[]\n",
    "bindCompany=theBindDataInTushare['ts_code'].unique()\n",
    "for code in rawCompanyDataInTushare['ts_code'].values:\n",
    "    if code not in bindCompany:\n",
    "        missedCompany.append(code)\n",
    "\n",
    "\n",
    "# for code in missedCompany:\n",
    "#     print(\"-------------------------------------\")\n",
    "#     print(getDailyStockData(stock_code=code,end=\"20220505\"))\n",
    "#     print(getStockCompanyInformation(stock_code=code))\n",
    "#     print(\"-------------------------------------\")\n",
    "\n",
    "print(\"The num of miss company: {}\".format(len(missedCompany)))\n",
    "\n",
    "###todo 这些股票查不到，这些公司基本都是2023年上市的，可能数据还没更新吧"
   ],
   "metadata": {
    "collapsed": false,
    "ExecuteTime": {
     "end_time": "2023-05-19T15:18:46.873958600Z",
     "start_time": "2023-05-19T15:18:44.971077900Z"
    }
   }
  },
  {
   "cell_type": "code",
   "execution_count": 10,
   "outputs": [
    {
     "name": "stdout",
     "output_type": "stream",
     "text": [
      "The number of industry: 111\n",
      "The exact number of company: 5061\n",
      "--------------------------------------------------------\n",
      "the number of company in different industry:\n",
      " [('None', 397), ('软件服务', 270), ('电气设备', 270), ('元器件', 259), ('化工原料', 225), ('专用机械', 217), ('汽车配件', 191), ('医疗保健', 163), ('半导体', 145), ('化学制药', 135), ('通信设备', 132), ('环境保护', 119), ('建筑工程', 111), ('机械基件', 104), ('电器仪表', 88), ('食品', 83), ('互联网', 83), ('家用电器', 77), ('中成药', 69), ('生物制药', 66), ('服饰', 64), ('家居用品', 63), ('塑料', 62), ('小金属', 53), ('仓储物流', 51), ('农药化肥', 50), ('证券', 50), ('纺织', 48), ('文教休闲', 48), ('广告包装', 47), ('航空', 45), ('IT设备', 45), ('区域地产', 44), ('影视音像', 42), ('运输设备', 42), ('银行', 41), ('农业综合', 41), ('供气供热', 37), ('医药商业', 34), ('百货', 33), ('矿物制品', 31), ('铝', 31), ('其他建材', 30), ('造纸', 30), ('装修装饰', 30), ('染料涂料', 30), ('出版业', 28), ('化纤', 27), ('普钢', 26), ('火力发电', 26), ('全国地产', 25), ('工程机械', 25), ('煤炭开采', 24), ('钢加工', 21), ('水泥', 21), ('机床制造', 21), ('多元金融', 21), ('汽车整车', 20), ('乳制品', 20), ('石油开采', 20), ('新型电力', 18), ('饲料', 18), ('白酒', 18), ('玻璃', 18), ('铜', 17), ('种植业', 17), ('路桥', 17), ('商贸代理', 17), ('水力发电', 17), ('综合类', 16), ('日用化工', 16), ('港口', 16), ('水务', 15), ('园区开发', 13), ('汽车服务', 12), ('水运', 12), ('船舶', 12), ('黄金', 12), ('超市连锁', 11), ('纺织机械', 11), ('其他商业', 11), ('摩托车', 11), ('橡胶', 11), ('旅游景点', 10), ('石油加工', 10), ('特种钢', 10), ('化工机械', 10), ('旅游服务', 10), ('铅锌', 10), ('红黄酒', 10), ('房产服务', 10), ('电信运营', 10), ('农用机械', 9), ('软饮料', 9), ('啤酒', 8), ('焦炭加工', 8), ('轻工机械', 8), ('空运', 8), ('渔业', 7), ('酒店餐饮', 7), ('公共交通', 6), ('铁路', 5), ('保险', 5), ('陶瓷', 5), ('石油贸易', 4), ('机场', 4), ('批发业', 4), ('商品城', 3), ('林业', 3), ('电器连锁', 2), ('公路', 2), ('建材', 1)]\n"
     ]
    }
   ],
   "source": [
    "print(\"The number of industry: {}\".format(len(theBindDataInTushare['industry'].unique())))\n",
    "print(\"The exact number of company: {}\".format(len(theBindDataInTushare['ts_code'].unique())))\n",
    "# print(\"--------------------------------------------------------\\n\"+\"The industries: {}\".format(theBindDataInTushare['industry'].unique()))\n",
    "\n",
    "theCounter={}\n",
    "uniqueList=rawCompanyDataInTushare['industry'].values\n",
    "for industry in uniqueList:\n",
    "    if industry in theCounter:\n",
    "        theCounter[industry]+=1\n",
    "    else:\n",
    "        theCounter[industry]=1\n",
    "theCounter=sorted(theCounter.items(), key = lambda kv:kv[1],reverse=True)\n",
    "print(\"--------------------------------------------------------\\n\"+\"the number of company in different industry:\\n {}\".format(theCounter))"
   ],
   "metadata": {
    "collapsed": false,
    "ExecuteTime": {
     "end_time": "2023-05-19T15:18:48.133608900Z",
     "start_time": "2023-05-19T15:18:46.877946900Z"
    }
   }
  },
  {
   "cell_type": "markdown",
   "source": [
    "### test science data"
   ],
   "metadata": {
    "collapsed": false
   }
  },
  {
   "cell_type": "code",
   "execution_count": 11,
   "outputs": [
    {
     "data": {
      "text/plain": "<Figure size 1200x800 with 1 Axes>",
      "image/png": "[encoded data removed]"
     },
     "metadata": {},
     "output_type": "display_data"
    },
    {
     "data": {
      "text/plain": "          ts_code  trade_date  open  high   low  close  pre_close  change   \n134489  000100.SZ  2013-01-04  2.20  2.21  2.16   2.21       2.19    0.02  \\\n134488  000100.SZ  2013-01-07  2.21  2.26  2.20   2.25       2.21    0.04   \n134487  000100.SZ  2013-01-08  2.25  2.25  2.21   2.24       2.25   -0.01   \n134486  000100.SZ  2013-01-09  2.23  2.24  2.20   2.22       2.24   -0.02   \n134485  000100.SZ  2013-01-10  2.22  2.23  2.20   2.22       2.22    0.00   \n...           ...         ...   ...   ...   ...    ...        ...     ...   \n132257  000100.SZ  2022-12-26  3.72  3.76  3.72   3.75       3.73    0.02   \n132256  000100.SZ  2022-12-27  3.76  3.77  3.73   3.75       3.75    0.00   \n132255  000100.SZ  2022-12-28  3.75  3.76  3.71   3.73       3.75   -0.02   \n132254  000100.SZ  2022-12-29  3.72  3.73  3.68   3.70       3.73   -0.03   \n132253  000100.SZ  2022-12-30  3.71  3.73  3.69   3.72       3.70    0.02   \n\n        pct_chg         vol       amount  symbol area industry       fullname   \n134489   0.9100  1603589.32  350309.8057   100.0   广东      元器件  TCL科技集团股份有限公司  \\\n134488   1.8100  2446465.65  548610.2820   100.0   广东      元器件  TCL科技集团股份有限公司   \n134487  -0.4400  1223850.55  273030.6377   100.0   广东      元器件  TCL科技集团股份有限公司   \n134486  -0.8900  1173131.58  260120.9124   100.0   广东      元器件  TCL科技集团股份有限公司   \n134485   0.0000   805958.97  178699.0808   100.0   广东      元器件  TCL科技集团股份有限公司   \n...         ...         ...          ...     ...  ...      ...            ...   \n132257   0.5362   533547.21  199601.1210   100.0   广东      元器件  TCL科技集团股份有限公司   \n132256   0.0000   514072.58  192359.1930   100.0   广东      元器件  TCL科技集团股份有限公司   \n132255  -0.5333   690095.26  257697.4930   100.0   广东      元器件  TCL科技集团股份有限公司   \n132254  -0.8043   839641.79  310683.4180   100.0   广东      元器件  TCL科技集团股份有限公司   \n132253   0.5405   746469.94  277090.8330   100.0   广东      元器件  TCL科技集团股份有限公司   \n\n                                  enname   list_date  \n134489  Tcl Technology Group Corporation  2004-01-30  \n134488  Tcl Technology Group Corporation  2004-01-30  \n134487  Tcl Technology Group Corporation  2004-01-30  \n134486  Tcl Technology Group Corporation  2004-01-30  \n134485  Tcl Technology Group Corporation  2004-01-30  \n...                                  ...         ...  \n132257  Tcl Technology Group Corporation  2004-01-30  \n132256  Tcl Technology Group Corporation  2004-01-30  \n132255  Tcl Technology Group Corporation  2004-01-30  \n132254  Tcl Technology Group Corporation  2004-01-30  \n132253  Tcl Technology Group Corporation  2004-01-30  \n\n[2237 rows x 17 columns]",
      "text/html": "<div>\n<style scoped>\n    .dataframe tbody tr th:only-of-type {\n        vertical-align: middle;\n    }\n\n    .dataframe tbody tr th {\n        vertical-align: top;\n    }\n\n    .dataframe thead th {\n        text-align: right;\n    }\n</style>\n<table border=\"1\" class=\"dataframe\">\n  <thead>\n    <tr style=\"text-align: right;\">\n      <th></th>\n      <th>ts_code</th>\n      <th>trade_date</th>\n      <th>open</th>\n      <th>high</th>\n      <th>low</th>\n      <th>close</th>\n      <th>pre_close</th>\n      <th>change</th>\n      <th>pct_chg</th>\n      <th>vol</th>\n      <th>amount</th>\n      <th>symbol</th>\n      <th>area</th>\n      <th>industry</th>\n      <th>fullname</th>\n      <th>enname</th>\n      <th>list_date</th>\n    </tr>\n  </thead>\n  <tbody>\n    <tr>\n      <th>134489</th>\n      <td>000100.SZ</td>\n      <td>2013-01-04</td>\n      <td>2.20</td>\n      <td>2.21</td>\n      <td>2.16</td>\n      <td>2.21</td>\n      <td>2.19</td>\n      <td>0.02</td>\n      <td>0.9100</td>\n      <td>1603589.32</td>\n      <td>350309.8057</td>\n      <td>100.0</td>\n      <td>广东</td>\n      <td>元器件</td>\n      <td>TCL科技集团股份有限公司</td>\n      <td>Tcl Technology Group Corporation</td>\n      <td>2004-01-30</td>\n    </tr>\n    <tr>\n      <th>134488</th>\n      <td>000100.SZ</td>\n      <td>2013-01-07</td>\n      <td>2.21</td>\n      <td>2.26</td>\n      <td>2.20</td>\n      <td>2.25</td>\n      <td>2.21</td>\n      <td>0.04</td>\n      <td>1.8100</td>\n      <td>2446465.65</td>\n      <td>548610.2820</td>\n      <td>100.0</td>\n      <td>广东</td>\n      <td>元器件</td>\n      <td>TCL科技集团股份有限公司</td>\n      <td>Tcl Technology Group Corporation</td>\n      <td>2004-01-30</td>\n    </tr>\n    <tr>\n      <th>134487</th>\n      <td>000100.SZ</td>\n      <td>2013-01-08</td>\n      <td>2.25</td>\n      <td>2.25</td>\n      <td>2.21</td>\n      <td>2.24</td>\n      <td>2.25</td>\n      <td>-0.01</td>\n      <td>-0.4400</td>\n      <td>1223850.55</td>\n      <td>273030.6377</td>\n      <td>100.0</td>\n      <td>广东</td>\n      <td>元器件</td>\n      <td>TCL科技集团股份有限公司</td>\n      <td>Tcl Technology Group Corporation</td>\n      <td>2004-01-30</td>\n    </tr>\n    <tr>\n      <th>134486</th>\n      <td>000100.SZ</td>\n      <td>2013-01-09</td>\n      <td>2.23</td>\n      <td>2.24</td>\n      <td>2.20</td>\n      <td>2.22</td>\n      <td>2.24</td>\n      <td>-0.02</td>\n      <td>-0.8900</td>\n      <td>1173131.58</td>\n      <td>260120.9124</td>\n      <td>100.0</td>\n      <td>广东</td>\n      <td>元器件</td>\n      <td>TCL科技集团股份有限公司</td>\n      <td>Tcl Technology Group Corporation</td>\n      <td>2004-01-30</td>\n    </tr>\n    <tr>\n      <th>134485</th>\n      <td>000100.SZ</td>\n      <td>2013-01-10</td>\n      <td>2.22</td>\n      <td>2.23</td>\n      <td>2.20</td>\n      <td>2.22</td>\n      <td>2.22</td>\n      <td>0.00</td>\n      <td>0.0000</td>\n      <td>805958.97</td>\n      <td>178699.0808</td>\n      <td>100.0</td>\n      <td>广东</td>\n      <td>元器件</td>\n      <td>TCL科技集团股份有限公司</td>\n      <td>Tcl Technology Group Corporation</td>\n      <td>2004-01-30</td>\n    </tr>\n    <tr>\n      <th>...</th>\n      <td>...</td>\n      <td>...</td>\n      <td>...</td>\n      <td>...</td>\n      <td>...</td>\n      <td>...</td>\n      <td>...</td>\n      <td>...</td>\n      <td>...</td>\n      <td>...</td>\n      <td>...</td>\n      <td>...</td>\n      <td>...</td>\n      <td>...</td>\n      <td>...</td>\n      <td>...</td>\n      <td>...</td>\n    </tr>\n    <tr>\n      <th>132257</th>\n      <td>000100.SZ</td>\n      <td>2022-12-26</td>\n      <td>3.72</td>\n      <td>3.76</td>\n      <td>3.72</td>\n      <td>3.75</td>\n      <td>3.73</td>\n      <td>0.02</td>\n      <td>0.5362</td>\n      <td>533547.21</td>\n      <td>199601.1210</td>\n      <td>100.0</td>\n      <td>广东</td>\n      <td>元器件</td>\n      <td>TCL科技集团股份有限公司</td>\n      <td>Tcl Technology Group Corporation</td>\n      <td>2004-01-30</td>\n    </tr>\n    <tr>\n      <th>132256</th>\n      <td>000100.SZ</td>\n      <td>2022-12-27</td>\n      <td>3.76</td>\n      <td>3.77</td>\n      <td>3.73</td>\n      <td>3.75</td>\n      <td>3.75</td>\n      <td>0.00</td>\n      <td>0.0000</td>\n      <td>514072.58</td>\n      <td>192359.1930</td>\n      <td>100.0</td>\n      <td>广东</td>\n      <td>元器件</td>\n      <td>TCL科技集团股份有限公司</td>\n      <td>Tcl Technology Group Corporation</td>\n      <td>2004-01-30</td>\n    </tr>\n    <tr>\n      <th>132255</th>\n      <td>000100.SZ</td>\n      <td>2022-12-28</td>\n      <td>3.75</td>\n      <td>3.76</td>\n      <td>3.71</td>\n      <td>3.73</td>\n      <td>3.75</td>\n      <td>-0.02</td>\n      <td>-0.5333</td>\n      <td>690095.26</td>\n      <td>257697.4930</td>\n      <td>100.0</td>\n      <td>广东</td>\n      <td>元器件</td>\n      <td>TCL科技集团股份有限公司</td>\n      <td>Tcl Technology Group Corporation</td>\n      <td>2004-01-30</td>\n    </tr>\n    <tr>\n      <th>132254</th>\n      <td>000100.SZ</td>\n      <td>2022-12-29</td>\n      <td>3.72</td>\n      <td>3.73</td>\n      <td>3.68</td>\n      <td>3.70</td>\n      <td>3.73</td>\n      <td>-0.03</td>\n      <td>-0.8043</td>\n      <td>839641.79</td>\n      <td>310683.4180</td>\n      <td>100.0</td>\n      <td>广东</td>\n      <td>元器件</td>\n      <td>TCL科技集团股份有限公司</td>\n      <td>Tcl Technology Group Corporation</td>\n      <td>2004-01-30</td>\n    </tr>\n    <tr>\n      <th>132253</th>\n      <td>000100.SZ</td>\n      <td>2022-12-30</td>\n      <td>3.71</td>\n      <td>3.73</td>\n      <td>3.69</td>\n      <td>3.72</td>\n      <td>3.70</td>\n      <td>0.02</td>\n      <td>0.5405</td>\n      <td>746469.94</td>\n      <td>277090.8330</td>\n      <td>100.0</td>\n      <td>广东</td>\n      <td>元器件</td>\n      <td>TCL科技集团股份有限公司</td>\n      <td>Tcl Technology Group Corporation</td>\n      <td>2004-01-30</td>\n    </tr>\n  </tbody>\n</table>\n<p>2237 rows × 17 columns</p>\n</div>"
     },
     "execution_count": 11,
     "metadata": {},
     "output_type": "execute_result"
    }
   ],
   "source": [
    "TCLStock=theBindDataInTushare[theBindDataInTushare['ts_code']==\"000100.SZ\"].sort_values(by='trade_date',ascending=True)\n",
    "plt.figure(figsize=(12,8))\n",
    "ax = plt.gca()\n",
    "locator = mdates.DayLocator(interval=30*3)\n",
    "ax.xaxis.set_major_locator(locator)\n",
    "plt.gcf().autofmt_xdate()\n",
    "plt.plot(TCLStock['trade_date'],TCLStock['high'],label=\"high\")\n",
    "plt.plot(TCLStock['trade_date'],TCLStock['low'],label=\"low\")\n",
    "plt.xlabel(\"Date\")\n",
    "plt.ylabel(\"Amount\")\n",
    "plt.title('TCL100')\n",
    "plt.legend()   #打上标签\n",
    "plt.show()\n",
    "TCLStock"
   ],
   "metadata": {
    "collapsed": false,
    "ExecuteTime": {
     "end_time": "2023-05-19T15:18:51.994577600Z",
     "start_time": "2023-05-19T15:18:48.134614200Z"
    }
   }
  },
  {
   "cell_type": "markdown",
   "source": [
    "### 1.1.1 大盘整体趋势"
   ],
   "metadata": {
    "collapsed": false
   }
  },
  {
   "cell_type": "code",
   "execution_count": 12,
   "outputs": [
    {
     "ename": "ValueError",
     "evalue": "Cannot subset columns with a tuple with more than one element. Use a list instead.",
     "output_type": "error",
     "traceback": [
      "\u001B[1;31m---------------------------------------------------------------------------\u001B[0m",
      "\u001B[1;31mValueError\u001B[0m                                Traceback (most recent call last)",
      "Cell \u001B[1;32mIn[12], line 1\u001B[0m\n\u001B[1;32m----> 1\u001B[0m theTrendResult\u001B[38;5;241m=\u001B[39m\u001B[43mtheBindDataInTushare\u001B[49m\u001B[38;5;241;43m.\u001B[39;49m\u001B[43mgroupby\u001B[49m\u001B[43m(\u001B[49m\u001B[38;5;124;43m'\u001B[39;49m\u001B[38;5;124;43mtrade_date\u001B[39;49m\u001B[38;5;124;43m'\u001B[39;49m\u001B[43m)\u001B[49m\u001B[43m[\u001B[49m\u001B[38;5;124;43m'\u001B[39;49m\u001B[38;5;124;43mclose\u001B[39;49m\u001B[38;5;124;43m'\u001B[39;49m\u001B[43m,\u001B[49m\u001B[38;5;124;43m'\u001B[39;49m\u001B[38;5;124;43mopen\u001B[39;49m\u001B[38;5;124;43m'\u001B[39;49m\u001B[43m]\u001B[49m\u001B[38;5;241m.\u001B[39mmean()\n\u001B[0;32m      3\u001B[0m plt\u001B[38;5;241m.\u001B[39mfigure(figsize\u001B[38;5;241m=\u001B[39m(\u001B[38;5;241m16\u001B[39m,\u001B[38;5;241m8\u001B[39m))\n\u001B[0;32m      4\u001B[0m ax \u001B[38;5;241m=\u001B[39m plt\u001B[38;5;241m.\u001B[39mgca()\n",
      "File \u001B[1;32mD:\\app\\anaconda\\envs\\machineLearning\\lib\\site-packages\\pandas\\core\\groupby\\generic.py:1767\u001B[0m, in \u001B[0;36mDataFrameGroupBy.__getitem__\u001B[1;34m(self, key)\u001B[0m\n\u001B[0;32m   1763\u001B[0m \u001B[38;5;66;03m# per GH 23566\u001B[39;00m\n\u001B[0;32m   1764\u001B[0m \u001B[38;5;28;01mif\u001B[39;00m \u001B[38;5;28misinstance\u001B[39m(key, \u001B[38;5;28mtuple\u001B[39m) \u001B[38;5;129;01mand\u001B[39;00m \u001B[38;5;28mlen\u001B[39m(key) \u001B[38;5;241m>\u001B[39m \u001B[38;5;241m1\u001B[39m:\n\u001B[0;32m   1765\u001B[0m     \u001B[38;5;66;03m# if len == 1, then it becomes a SeriesGroupBy and this is actually\u001B[39;00m\n\u001B[0;32m   1766\u001B[0m     \u001B[38;5;66;03m# valid syntax, so don't raise\u001B[39;00m\n\u001B[1;32m-> 1767\u001B[0m     \u001B[38;5;28;01mraise\u001B[39;00m \u001B[38;5;167;01mValueError\u001B[39;00m(\n\u001B[0;32m   1768\u001B[0m         \u001B[38;5;124m\"\u001B[39m\u001B[38;5;124mCannot subset columns with a tuple with more than one element. \u001B[39m\u001B[38;5;124m\"\u001B[39m\n\u001B[0;32m   1769\u001B[0m         \u001B[38;5;124m\"\u001B[39m\u001B[38;5;124mUse a list instead.\u001B[39m\u001B[38;5;124m\"\u001B[39m\n\u001B[0;32m   1770\u001B[0m     )\n\u001B[0;32m   1771\u001B[0m \u001B[38;5;28;01mreturn\u001B[39;00m \u001B[38;5;28msuper\u001B[39m()\u001B[38;5;241m.\u001B[39m\u001B[38;5;21m__getitem__\u001B[39m(key)\n",
      "\u001B[1;31mValueError\u001B[0m: Cannot subset columns with a tuple with more than one element. Use a list instead."
     ]
    }
   ],
   "source": [
    "theTrendResult=theBindDataInTushare.groupby('trade_date')['close','open'].mean()\n",
    "\n",
    "plt.figure(figsize=(16,8))\n",
    "ax = plt.gca()\n",
    "locator = mdates.DayLocator(interval=30*3)\n",
    "ax.xaxis.set_major_locator(locator)\n",
    "plt.gcf().autofmt_xdate()\n",
    "plt.plot(theTrendResult['open'],label=\"open\")\n",
    "plt.plot(theTrendResult['close'],label=\"close\")\n",
    "plt.xlabel(\"Date\")\n",
    "plt.ylabel(\"Amount (RMB)\")\n",
    "plt.title('The Trend')\n",
    "plt.legend()   #打上标签\n",
    "plt.show()\n",
    "\n",
    "theTrendResult"
   ],
   "metadata": {
    "collapsed": false,
    "ExecuteTime": {
     "end_time": "2023-05-19T15:18:53.412392200Z",
     "start_time": "2023-05-19T15:18:51.995580100Z"
    }
   }
  },
  {
   "cell_type": "markdown",
   "source": [
    "### 1.1.2 各个行业领域大盘\n",
    "\n",
    "注意: 该cell运行会绘制大量的图表，图表都被保存好了，如果不想运行可以查看路径stockData/tableForIndustry/raw"
   ],
   "metadata": {
    "collapsed": false
   }
  },
  {
   "cell_type": "code",
   "execution_count": null,
   "outputs": [],
   "source": [
    "###生成各个领域的平均总览图标\n",
    "#\n",
    "# for i in list(theIndustryGroupedTrendResult):\n",
    "#     plt.figure(figsize=(16,8))\n",
    "#     x = np.arange(0, 300, 20)\n",
    "#     plt.yticks(x)\n",
    "#     i[-1]['close'].plot()\n",
    "#     plt.xlabel(\"Date\")\n",
    "#     plt.ylabel(\"Amount (RMB)\")\n",
    "#     plt.title(\"The Industry Trend: {}\".format(i[-1]['industry'].unique()[0]))\n",
    "#     plt.legend()   #打上标签\n",
    "#\n",
    "#     ###下载图表\n",
    "#     # plt.savefig(\"stockData/tableForIndustry/raw/industryTablesFor{}.jpg\".format(format(i[-1]['industry'].unique()[0])))\n",
    "#\n",
    "# plt.show()\n",
    "#\n",
    "# theIndustryTrendResult"
   ],
   "metadata": {
    "collapsed": false,
    "ExecuteTime": {
     "start_time": "2023-05-19T15:18:52.502007200Z"
    }
   }
  },
  {
   "cell_type": "markdown",
   "source": [
    "### 1.1.3 数据异常处理 (industry 为 none，建议优化)\n",
    "注意: 行业总共110种，很多，在模型里面本身是建议降维的; 而且有些行业重复，例如金属被分成好几个领域，但是不建议归类，因为这些行业的走势都不一样，建议保留，等后续讨论。\n",
    "\n",
    "目前计划拿到这些公司的产品与介绍，nle分析并将其分类到合适的种类"
   ],
   "metadata": {
    "collapsed": false
   }
  },
  {
   "cell_type": "code",
   "execution_count": null,
   "outputs": [],
   "source": [
    "### 目前已知的行业有110种，还有一种没有归类，现在尝试归类\n",
    "print(\"the number of company with none industry: {}\".format(len(theBindDataInTushare[theBindDataInTushare['industry'] == \"None\"]['ts_code'].unique())))\n",
    "\n",
    "\n",
    "###查询行业缺失的公司简介与产品名称\n",
    "# noneIndustryCodeList=theBindDataInTushare[theBindDataInTushare['industry'] == \"None\"]['ts_code'].unique()\n",
    "# noneIndustryDF=pd.DataFrame()\n",
    "# now=datetime.now()\n",
    "# for code in noneIndustryCodeList:\n",
    "#     ###该接口每分钟最多10次，尼玛得搞16分钟，之后会存在stockData/CompanyIntroductionWithNoneIndustry.csv\n",
    "#     noneIndustrydf = pro.stock_company(ts_code=code, fields='ts_code,introduction,main_business')\n",
    "#     noneIndustryDF=noneIndustryDF.append(noneIndustrydf)\n",
    "#     time.sleep(6)\n",
    "#\n",
    "# noneIndustryDF.to_csv(\"stockData/CompanyIntroductionWithNoneIndustry.csv\")\n",
    "# print(\"cost time: {}\".format(datetime.now()-now))\n",
    "\n",
    "\n",
    "\n",
    "###查询行业已知的公司简介与产品名称\n",
    "# knownIndustryCodeList=theBindDataInTushare[theBindDataInTushare['industry'] != \"None\"]['ts_code'].unique()\n",
    "# knownIndustryDF=pd.DataFrame()\n",
    "# now=datetime.now()\n",
    "# for code in knownIndustryCodeList:\n",
    "#     ###该接口每分钟最多10次，尼玛得搞16分钟，之后会存在stockData/CompanyIntroductionWithNoneIndustry.csv\n",
    "#     knownIndustrydf = pro.stock_company(ts_code=code, fields='ts_code,introduction,main_business')\n",
    "#     knownIndustryDF=knownIndustryDF.append(knownIndustrydf)\n",
    "#     time.sleep(6)\n",
    "#\n",
    "# knownIndustryDF.to_csv(\"stockData/CompanyIntroductionWithKnownIndustry.csv\")\n",
    "# print(\"cost time: {}\".format(datetime.now()-now))\n",
    "\n",
    "\n",
    "noneIndustryDF=pd.read_csv(\"stockData/CompanyIntroductionWithNoneIndustry.csv\")\n",
    "\n",
    "knownIndustryDF=pd.read_csv(\"stockData/CompanyIntroductionWithKnownIndustry.csv\")"
   ],
   "metadata": {
    "collapsed": false,
    "ExecuteTime": {
     "start_time": "2023-05-19T15:18:52.506992700Z"
    }
   }
  },
  {
   "cell_type": "code",
   "execution_count": null,
   "outputs": [],
   "source": [
    "noneIndustryDF['industry']=noneIndustryDF.apply(lambda x:rawCompanyDataInTushare[x['ts_code']==rawCompanyDataInTushare['ts_code']]['industry'].values[0],axis=1)\n",
    "noneIndustryDF"
   ],
   "metadata": {
    "collapsed": false,
    "ExecuteTime": {
     "start_time": "2023-05-19T15:18:52.510983600Z"
    }
   }
  },
  {
   "cell_type": "code",
   "execution_count": null,
   "outputs": [],
   "source": [
    "knownIndustryDF['industry']=knownIndustryDF.apply(lambda x:rawCompanyDataInTushare[x['ts_code']==rawCompanyDataInTushare['ts_code']]['industry'].values[0],axis=1)\n",
    "knownIndustryDF=knownIndustryDF[knownIndustryDF['industry']!='None']\n",
    "print(\"行业数量（不包括None）: {}\\n行业:{}\".format(len(knownIndustryDF['industry'].unique()),knownIndustryDF['industry'].unique()))\n",
    "knownIndustryDF"
   ],
   "metadata": {
    "collapsed": false,
    "ExecuteTime": {
     "start_time": "2023-05-19T15:18:52.514974500Z"
    }
   }
  },
  {
   "cell_type": "code",
   "execution_count": null,
   "outputs": [],
   "source": [
    "###分词\n",
    "import jieba\n",
    "import re\n",
    "\n",
    "def getStopWords(url):\n",
    "    with open(\"NLP/stopwords/hit_stopwords.txt\",'r',encoding='utf8') as f:\n",
    "        stopword = f.readlines()\n",
    "    return [i.replace('\\n','') for i in stopword]\n",
    "\n",
    "def tokenizPara(text,stopword):\n",
    "    sentences=re.split('，|_|-|!|。|, ',text.strip())\n",
    "    cutSentences=[]\n",
    "\n",
    "    for sentence in sentences:\n",
    "        ex=\"///\".join(jieba.lcut(sentence))\n",
    "        cutSentences+=ex.split('///')\n",
    "\n",
    "    afterStop=list(set(cutSentences).difference(set(stopword)))\n",
    "    afterStop=[i for i in afterStop if len(i)>1 and not i.isdigit()]\n",
    "    return afterStop\n",
    "\n",
    "###加载stopword\n",
    "cn_stopwords=getStopWords(\"NLP/stopwords/cn_stopwords.txt\")\n",
    "baidu_stopword=getStopWords(\"NLP/stopwords/baidu_stopwords.txt\")\n",
    "hit_stopword=getStopWords(\"NLP/stopwords/hit_stopwords.txt\")\n",
    "scu_stopword=getStopWords(\"NLP/stopwords/scu_stopwords.txt\")\n",
    "myStopword=['一家','']\n",
    "stopword_list=cn_stopwords+hit_stopword+baidu_stopword+scu_stopword+myStopword\n",
    "\n",
    "\n",
    "unknownIndustryParagraphs=[]\n",
    "for item in noneIndustryDF.values:\n",
    "    tokens=tokenizPara(item[2],stopword_list)\n",
    "    unknownIndustryParagraphs.append(tokens)\n",
    "\n",
    "knownIndustryParagraphs=[]\n",
    "for item in knownIndustryDF.values:\n",
    "    tokens=tokenizPara(item[2],stopword_list)\n",
    "    knownIndustryParagraphs.append(tokens)\n",
    "\n",
    "\n",
    "# print(\"------------------------------------\\n\"\n",
    "#       \"unknowIndustry:\\n{}\"\n",
    "#       \"\\n------------------------------------\\n\"\n",
    "#       \"knowIndustry:\\n{}\".format(unknownIndustryParagraphs[:3],knownIndustryParagraphs[:3]))\n",
    "\n",
    "knownIndustryDF['keyword']=knownIndustryParagraphs\n",
    "noneIndustryDF['keyword']=unknownIndustryParagraphs\n",
    "###根据行业合并文本\n",
    "AllIntroduction=[]\n",
    "introductionByIndustry=pd.DataFrame()\n",
    "for intro in list(knownIndustryDF.groupby('industry')):\n",
    "    paras=[]\n",
    "    for para in intro[1]['keyword'].values:\n",
    "        paras+=para\n",
    "        AllIntroduction+=para\n",
    "    row={'industry':intro[0],'keywords':paras}\n",
    "    introductionByIndustry=introductionByIndustry.append(row,ignore_index=True)\n",
    "\n",
    "introductionByIndustry['cut_keywords']=introductionByIndustry.apply(lambda x:\" \".join(x['keywords']), axis=1)\n",
    "\n",
    "introductionByIndustry"
   ],
   "metadata": {
    "collapsed": false,
    "ExecuteTime": {
     "start_time": "2023-05-19T15:18:52.518962800Z"
    }
   }
  },
  {
   "cell_type": "code",
   "execution_count": null,
   "outputs": [],
   "source": [
    "###todo 开始训练LDA模型\n"
   ],
   "metadata": {
    "collapsed": false,
    "ExecuteTime": {
     "start_time": "2023-05-19T15:18:52.521953900Z"
    }
   }
  },
  {
   "cell_type": "code",
   "execution_count": null,
   "outputs": [],
   "source": [
    "###todo 验证\n"
   ],
   "metadata": {
    "collapsed": false,
    "ExecuteTime": {
     "start_time": "2023-05-19T15:18:52.526948700Z"
    }
   }
  },
  {
   "cell_type": "code",
   "execution_count": null,
   "outputs": [],
   "source": [
    "### todo 泛化"
   ],
   "metadata": {
    "collapsed": false,
    "ExecuteTime": {
     "start_time": "2023-05-19T15:18:52.530938200Z"
    }
   }
  },
  {
   "cell_type": "markdown",
   "source": [
    "## 1.2 use yfinance (雅虎非官方API) api get stock data"
   ],
   "metadata": {
    "collapsed": false
   }
  },
  {
   "cell_type": "code",
   "execution_count": null,
   "outputs": [],
   "source": [
    "#测试api\n",
    "data = yf.download(tickers='AMD',start='2013-01-1',end='2023-01-01')\n",
    "print(\"The types in the data frame:\\n{}\".format(data.dtypes))\n",
    "data"
   ],
   "metadata": {
    "collapsed": false,
    "ExecuteTime": {
     "start_time": "2023-05-19T15:18:52.534944900Z"
    }
   }
  },
  {
   "cell_type": "code",
   "execution_count": null,
   "outputs": [],
   "source": [
    "amd = yf.Ticker(\"AMD\")\n",
    "info=pd.DataFrame.from_dict(amd.info)\n",
    "print(\"The types in the data frame:\\n{}\".format(info.dtypes))\n",
    "info"
   ],
   "metadata": {
    "collapsed": false,
    "ExecuteTime": {
     "start_time": "2023-05-19T15:18:52.537928800Z"
    }
   }
  },
  {
   "cell_type": "code",
   "execution_count": null,
   "outputs": [],
   "source": [
    "data[\"Close\"].plot()\n",
    "plt.show()"
   ],
   "metadata": {
    "collapsed": false,
    "ExecuteTime": {
     "start_time": "2023-05-19T15:18:52.543909100Z"
    }
   }
  },
  {
   "cell_type": "code",
   "execution_count": null,
   "outputs": [],
   "source": [
    "##获取标普500股票公司名字\n",
    "import bs4 as bs\n",
    "import requests\n",
    "\n",
    "###爬取维基百科标普500公司名称\n",
    "resp = requests.get('http://en.wikipedia.org/wiki/List_of_S%26P_500_companies')\n",
    "soup = bs.BeautifulSoup(resp.text, 'lxml')\n",
    "table = soup.find('table', {'class': 'wikitable sortable'})\n",
    "\n",
    "###筛选元素\n",
    "tickers = []\n",
    "for row in table.findAll('tr')[1:]:\n",
    "   ticker = row.findAll('td')[0].text\n",
    "   ticker=ticker.replace(\"\\n\",\"\")\n",
    "   tickers.append(ticker)\n",
    "\n",
    "\n",
    "tickers"
   ],
   "metadata": {
    "collapsed": false,
    "ExecuteTime": {
     "start_time": "2023-05-19T15:18:52.547898200Z"
    }
   }
  },
  {
   "cell_type": "code",
   "execution_count": null,
   "outputs": [],
   "source": [
    "def getStockDataInYFinance(name,start='2013-01-1',end='2023-01-01'):\n",
    "    includedList=['country','zip','industry','sector']\n",
    "    data = yf.download(tickers=name,start=start,end=end)\n",
    "    data['trade_date'] = data.index\n",
    "    company = yf.Ticker(name)\n",
    "    try:\n",
    "        companyInfo=pd.DataFrame.from_dict(company.info)\n",
    "    except BaseException:\n",
    "        print(company.info)\n",
    "        return np.nan\n",
    "    else:\n",
    "        data['name']=[name]*data.shape[0]\n",
    "        for column in companyInfo.columns:\n",
    "            if column in includedList:\n",
    "                data[column]=np.array([companyInfo[column].values[0]]).repeat(data.shape[0])\n",
    "\n",
    "    return data\n",
    "\n",
    "\n",
    "### get all stock data and store them\n",
    "def storeAllStockDataForYFinance():\n",
    "    now=datetime.now()\n",
    "    allStockDataInYFinance=pd.DataFrame()\n",
    "    for company in tickers:\n",
    "        companyInfo=getStockDataInYFinance(company)\n",
    "        if companyInfo is np.nan:\n",
    "            print(\"break, company {} data is null\")\n",
    "            continue\n",
    "        else:\n",
    "            allStockDataInYFinance=allStockDataInYFinance.append(companyInfo)\n",
    "    print(\"Cost time: {}\".format(datetime.now()-now))\n",
    "    return allStockDataInYFinance"
   ],
   "metadata": {
    "collapsed": false,
    "ExecuteTime": {
     "start_time": "2023-05-19T15:18:52.550890200Z"
    }
   }
  },
  {
   "cell_type": "code",
   "execution_count": null,
   "outputs": [],
   "source": [
    "getStockDataInYFinance(tickers[0]).dtypes"
   ],
   "metadata": {
    "collapsed": false,
    "ExecuteTime": {
     "start_time": "2023-05-19T15:18:52.552894Z"
    }
   }
  },
  {
   "cell_type": "code",
   "execution_count": null,
   "outputs": [],
   "source": [
    "###仅用于下载yfinance 股票数据\n",
    "# stockDataInYFinance=storeAllStockDataForYFinance()\n",
    "# stockDataInYFinance.to_csv('stockData/YFinanceRawData.csv', header=stockDataInYFinance.columns,index=False)"
   ],
   "metadata": {
    "collapsed": false,
    "ExecuteTime": {
     "start_time": "2023-05-19T15:18:52.555912600Z"
    }
   }
  },
  {
   "cell_type": "code",
   "execution_count": null,
   "outputs": [],
   "source": [
    "###验证一下有多少个查漏了\n",
    "stockDataInYFinance=pd.read_csv('stockData/YFinanceRawData.csv')\n",
    "uniqueCompany=stockDataInYFinance['name'].unique()\n",
    "missedList=[]\n",
    "for ticker in tickers:\n",
    "    if ticker not in uniqueCompany:\n",
    "        missedList.append(ticker)\n",
    "\n",
    "print(\"length of miss company: {}\".format(len(missedList)))\n",
    "###总共有3个公司遗漏\n",
    "\n",
    "###手动查询\n",
    "for company in missedList:\n",
    "    print(\"------------------------------------------------------\")\n",
    "    print(\"This is the information for {}\".format(company))\n",
    "    print(getStockDataInYFinance(name=company))\n",
    "    print(\"------------------------------------------------------\")\n",
    "###经过调查，属于信息不完善，有的连公司信息都不全"
   ],
   "metadata": {
    "collapsed": false,
    "ExecuteTime": {
     "start_time": "2023-05-19T15:18:52.557872300Z"
    }
   }
  },
  {
   "cell_type": "code",
   "execution_count": null,
   "outputs": [],
   "source": [
    "print(\"types in data: {}\".format(stockDataInYFinance.dtypes))\n",
    "stockDataInYFinance"
   ],
   "metadata": {
    "collapsed": false,
    "ExecuteTime": {
     "start_time": "2023-05-19T15:18:52.560865400Z"
    }
   }
  },
  {
   "cell_type": "code",
   "execution_count": null,
   "outputs": [],
   "source": [
    "MMMStock=stockDataInYFinance[stockDataInYFinance['name']==\"MMM\"]\n",
    "\n",
    "plt.figure(figsize=(15,8))\n",
    "\n",
    "ax = plt.gca()\n",
    "locator = mdates.DayLocator(interval=30*3)\n",
    "ax.xaxis.set_major_locator(locator)\n",
    "\n",
    "x=MMMStock['trade_date']\n",
    "\n",
    "plt.plot(x,MMMStock['High'],label=\"high\")\n",
    "plt.plot(x,MMMStock['Low'],label=\"low\")\n",
    "plt.gcf().autofmt_xdate()\n",
    "plt.xlabel(\"Date\")\n",
    "plt.ylabel(\"Amount\")\n",
    "plt.title('MMM')\n",
    "plt.rc('xtick', labelsize=15)\n",
    "plt.rc('ytick', labelsize=15)\n",
    "plt.rcParams.update({'font.size': 15})\n",
    "plt.legend()   #打上标签\n",
    "plt.show()\n",
    "MMMStock"
   ],
   "metadata": {
    "collapsed": false,
    "ExecuteTime": {
     "start_time": "2023-05-19T15:18:52.563856800Z"
    }
   }
  },
  {
   "cell_type": "markdown",
   "source": [
    "# 2.0 Analysis the raw data in AI\n",
    "* data engineering\n",
    "* data cleaning\n",
    "* build model\n",
    "* train"
   ],
   "metadata": {
    "collapsed": false
   }
  },
  {
   "cell_type": "markdown",
   "source": [
    "------------------------------------------\n",
    "这里说一下训练集与验证集的分配:\n",
    "* 训练集: 截取 2013-01-01 to 2018-01-01，5年数据，占总比50%。\n",
    "* 验证集1: 截取 2018-01-01 to 2019-01-01 1年数据， 占总比10%，因为疫情就发生在2019年，该验证集用于检测模型准确度，确保该模型在疫情前时期可以正常使用\n",
    "* 验证集2: 截取 2019-01-01 to 2023-01-01 4年数据，占比40%，该数据集并非用于验证，而是在确保验证集1能正常运行的情况下，用于观察疫情发生与正常预期是否有大偏差（验证是否疫情对股票市场有巨大影响）"
   ],
   "metadata": {
    "collapsed": false
   }
  },
  {
   "cell_type": "code",
   "execution_count": null,
   "outputs": [],
   "source": [],
   "metadata": {
    "collapsed": false,
    "ExecuteTime": {
     "start_time": "2023-05-19T15:18:52.566834Z"
    }
   }
  }
 ],
 "metadata": {
  "kernelspec": {
   "display_name": "Python 3",
   "language": "python",
   "name": "python3"
  },
  "language_info": {
   "codemirror_mode": {
    "name": "ipython",
    "version": 2
   },
   "file_extension": ".py",
   "mimetype": "text/x-python",
   "name": "python",
   "nbconvert_exporter": "python",
   "pygments_lexer": "ipython2",
   "version": "2.7.6"
  }
 },
 "nbformat": 4,
 "nbformat_minor": 0
}
