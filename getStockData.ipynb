{
 "cells": [
  {
   "cell_type": "markdown",
   "source": [
    "# 1.0 Get Data Of Stock Market\n",
    "\n",
    "* 本篇代码用来查询所有股票数据，所有导出的数据都将导出到stockdata文件夹内，方便管理查看。\n",
    "* 平台api方面，国内用tushare，国外用的雅虎。\n",
    "* 本篇代码也计划用来做数据清洗并且数据展示，处理好的文件也存在stockdata文件夹里面。"
   ],
   "metadata": {
    "collapsed": false
   }
  },
  {
   "cell_type": "code",
   "execution_count": 1,
   "outputs": [
    {
     "name": "stdout",
     "output_type": "stream",
     "text": [
      "Hello,stock market\n",
      "Load Time:  0:00:00.886455\n"
     ]
    }
   ],
   "source": [
    "print(\"Hello,stock market\");\n",
    "import pandas as pd\n",
    "from datetime import datetime\n",
    "start_time = datetime.now()\n",
    "## todo: calculating the time of import libraries\n",
    "#先引入后面分析、可视化等可能用到的库\n",
    "import tushare as ts\n",
    "import pandas as pd\n",
    "import matplotlib.pyplot as plt\n",
    "#正常显示画图时出现的中文和负号\n",
    "from pylab import mpl\n",
    "import yfinance as yf\n",
    "import matplotlib.pyplot as plt\n",
    "# todo: solve chinese problem for plt\n",
    "mpl.rcParams['font.sans-serif']=['SimHei']\n",
    "mpl.rcParams['axes.unicode_minus']=False\n",
    "print(\"Load Time: \",datetime.now()-start_time)"
   ],
   "metadata": {
    "collapsed": false
   }
  },
  {
   "cell_type": "markdown",
   "source": [
    "## 1.1 use tushare api get data"
   ],
   "metadata": {
    "collapsed": false
   }
  },
  {
   "cell_type": "code",
   "execution_count": 2,
   "outputs": [],
   "source": [
    "# login tushare, use token\n",
    "pro = ts.pro_api('f7b384108cbed0026a4dfa35835f75b0fb9d04673a067e8b75d8810f')\n",
    "\n",
    "\n",
    "def getStockCompanyInformation(status='L', stock_code=''):\n",
    "    \"\"\"\n",
    "    得到目前所有的股票公司信息\n",
    "    :param status: 上市状态 L上市 D退市 P暂停上市，默认是L\n",
    "    :param stock_code: TS股票代码\n",
    "    :return:\n",
    "    \"\"\"\n",
    "    if stock_code== '':\n",
    "        rawStockCompanyDataInTushare = pro.stock_basic(exchange='', list_status=status, fields='ts_code,symbol,fullname,enname,name,area,industry,list_date')\n",
    "    else:\n",
    "        rawStockCompanyDataInTushare = pro.stock_basic(ts_code=stock_code, exchange='', list_status=status, fields='ts_code,symbol,fullname,enname,name,area,industry,list_date')\n",
    "    return rawStockCompanyDataInTushare\n",
    "\n",
    "\n",
    "# 拉取数据\n",
    "def getDailyStockData(stock_code=\"\",start=\"20180101\",end=\"20230101\"):\n",
    "    \"\"\"\n",
    "    拉取股票日结交易信息，时间段默认 2018-1-1 到 2022-1-1，注意：该函数单次只能查询6000条记录。\n",
    "    :param stock_code: 股票代码，默认为空，输入为空的时候，拉取这段时期所有股票的交易消息；若不为空，拉去这只股票这段时间的交易消息\n",
    "    :param start: 开始日期\n",
    "    :param end: 结束日期\n",
    "    :return:\n",
    "    \"\"\"\n",
    "    rawDailyDataInTushare = pro.daily(**{\n",
    "        \"ts_code\": stock_code,\n",
    "        \"trade_date\": \"\",\n",
    "        \"start_date\": start,\n",
    "        \"end_date\": end,\n",
    "        \"offset\": \"\",\n",
    "        \"limit\": \"\",\n",
    "    }, fields=[\n",
    "        \"ts_code\",\n",
    "        \"trade_date\",\n",
    "        \"open\",\n",
    "        \"high\",\n",
    "        \"low\",\n",
    "        \"close\",\n",
    "        \"pre_close\",\n",
    "        \"change\",\n",
    "        \"pct_chg\",\n",
    "        \"vol\",\n",
    "        \"amount\"\n",
    "    ])\n",
    "    return rawDailyDataInTushare\n"
   ],
   "metadata": {
    "collapsed": false
   }
  },
  {
   "cell_type": "code",
   "execution_count": 3,
   "outputs": [
    {
     "name": "stdout",
     "output_type": "stream",
     "text": [
      "The shape of the data frame: (5166, 8)\n",
      "The types in the data frame ts_code      object\n",
      "symbol       object\n",
      "name         object\n",
      "area         object\n",
      "industry     object\n",
      "fullname     object\n",
      "enname       object\n",
      "list_date    object\n",
      "dtype: object\n"
     ]
    },
    {
     "data": {
      "text/plain": "        ts_code  symbol     name  area industry          fullname  \\\n0     000001.SZ  000001     平安银行    深圳       银行        平安银行股份有限公司   \n1     000002.SZ  000002      万科A    深圳     全国地产        万科企业股份有限公司   \n2     000004.SZ  000004     ST国华    深圳     软件服务    深圳国华网安科技股份有限公司   \n3     000005.SZ  000005     ST星源    深圳     环境保护      深圳世纪星源股份有限公司   \n4     000006.SZ  000006     深振业A    深圳     区域地产   深圳市振业(集团)股份有限公司   \n...         ...     ...      ...   ...      ...               ...   \n5161  873305.BJ  873305     九菱科技  None     None      荆州九菱科技股份有限公司   \n5162  873339.BJ  873339     恒太照明  None     None      江苏恒太照明股份有限公司   \n5163  873527.BJ  873527      夜光明  None     None   浙江夜光明光电科技股份有限公司   \n5164  873593.BJ  873593     鼎智科技  None     None  江苏鼎智智能控制科技股份有限公司   \n5165  689009.SH  689009  九号公司-WD    北京      摩托车            九号有限公司   \n\n                                                 enname list_date  \n0                                Ping An Bank Co., Ltd.  19910403  \n1                                  China Vanke Co.,Ltd.  19910129  \n2     Shenzhen Guohua Network Security Technology Co...  19910114  \n3                         Shenzhen Fountain Corporation  19901210  \n4                       Shenzhen Zhenye(Group) Co., Ltd  19920427  \n...                                                 ...       ...  \n5161      Jingzhou Julin Science And Technology Co.,Ltd  20221221  \n5162                 Jiangsu Ever-Tie Lighting Co., Ltd  20221117  \n5163                    Zhejiang Ygm Technology Co.,Ltd  20221027  \n5164  Jiangsu DINGS Intelligent Control Technology C...  20230413  \n5165                                    Ninebot Limited  20201029  \n\n[5166 rows x 8 columns]",
      "text/html": "<div>\n<style scoped>\n    .dataframe tbody tr th:only-of-type {\n        vertical-align: middle;\n    }\n\n    .dataframe tbody tr th {\n        vertical-align: top;\n    }\n\n    .dataframe thead th {\n        text-align: right;\n    }\n</style>\n<table border=\"1\" class=\"dataframe\">\n  <thead>\n    <tr style=\"text-align: right;\">\n      <th></th>\n      <th>ts_code</th>\n      <th>symbol</th>\n      <th>name</th>\n      <th>area</th>\n      <th>industry</th>\n      <th>fullname</th>\n      <th>enname</th>\n      <th>list_date</th>\n    </tr>\n  </thead>\n  <tbody>\n    <tr>\n      <th>0</th>\n      <td>000001.SZ</td>\n      <td>000001</td>\n      <td>平安银行</td>\n      <td>深圳</td>\n      <td>银行</td>\n      <td>平安银行股份有限公司</td>\n      <td>Ping An Bank Co., Ltd.</td>\n      <td>19910403</td>\n    </tr>\n    <tr>\n      <th>1</th>\n      <td>000002.SZ</td>\n      <td>000002</td>\n      <td>万科A</td>\n      <td>深圳</td>\n      <td>全国地产</td>\n      <td>万科企业股份有限公司</td>\n      <td>China Vanke Co.,Ltd.</td>\n      <td>19910129</td>\n    </tr>\n    <tr>\n      <th>2</th>\n      <td>000004.SZ</td>\n      <td>000004</td>\n      <td>ST国华</td>\n      <td>深圳</td>\n      <td>软件服务</td>\n      <td>深圳国华网安科技股份有限公司</td>\n      <td>Shenzhen Guohua Network Security Technology Co...</td>\n      <td>19910114</td>\n    </tr>\n    <tr>\n      <th>3</th>\n      <td>000005.SZ</td>\n      <td>000005</td>\n      <td>ST星源</td>\n      <td>深圳</td>\n      <td>环境保护</td>\n      <td>深圳世纪星源股份有限公司</td>\n      <td>Shenzhen Fountain Corporation</td>\n      <td>19901210</td>\n    </tr>\n    <tr>\n      <th>4</th>\n      <td>000006.SZ</td>\n      <td>000006</td>\n      <td>深振业A</td>\n      <td>深圳</td>\n      <td>区域地产</td>\n      <td>深圳市振业(集团)股份有限公司</td>\n      <td>Shenzhen Zhenye(Group) Co., Ltd</td>\n      <td>19920427</td>\n    </tr>\n    <tr>\n      <th>...</th>\n      <td>...</td>\n      <td>...</td>\n      <td>...</td>\n      <td>...</td>\n      <td>...</td>\n      <td>...</td>\n      <td>...</td>\n      <td>...</td>\n    </tr>\n    <tr>\n      <th>5161</th>\n      <td>873305.BJ</td>\n      <td>873305</td>\n      <td>九菱科技</td>\n      <td>None</td>\n      <td>None</td>\n      <td>荆州九菱科技股份有限公司</td>\n      <td>Jingzhou Julin Science And Technology Co.,Ltd</td>\n      <td>20221221</td>\n    </tr>\n    <tr>\n      <th>5162</th>\n      <td>873339.BJ</td>\n      <td>873339</td>\n      <td>恒太照明</td>\n      <td>None</td>\n      <td>None</td>\n      <td>江苏恒太照明股份有限公司</td>\n      <td>Jiangsu Ever-Tie Lighting Co., Ltd</td>\n      <td>20221117</td>\n    </tr>\n    <tr>\n      <th>5163</th>\n      <td>873527.BJ</td>\n      <td>873527</td>\n      <td>夜光明</td>\n      <td>None</td>\n      <td>None</td>\n      <td>浙江夜光明光电科技股份有限公司</td>\n      <td>Zhejiang Ygm Technology Co.,Ltd</td>\n      <td>20221027</td>\n    </tr>\n    <tr>\n      <th>5164</th>\n      <td>873593.BJ</td>\n      <td>873593</td>\n      <td>鼎智科技</td>\n      <td>None</td>\n      <td>None</td>\n      <td>江苏鼎智智能控制科技股份有限公司</td>\n      <td>Jiangsu DINGS Intelligent Control Technology C...</td>\n      <td>20230413</td>\n    </tr>\n    <tr>\n      <th>5165</th>\n      <td>689009.SH</td>\n      <td>689009</td>\n      <td>九号公司-WD</td>\n      <td>北京</td>\n      <td>摩托车</td>\n      <td>九号有限公司</td>\n      <td>Ninebot Limited</td>\n      <td>20201029</td>\n    </tr>\n  </tbody>\n</table>\n<p>5166 rows × 8 columns</p>\n</div>"
     },
     "execution_count": 3,
     "metadata": {},
     "output_type": "execute_result"
    }
   ],
   "source": [
    "rawCompanyDataInTushare=getStockCompanyInformation()\n",
    "print(\"The shape of the data frame: {}\".format(rawCompanyDataInTushare.shape))\n",
    "print(\"The types in the data frame {}\".format(rawCompanyDataInTushare.dtypes))\n",
    "rawCompanyDataInTushare"
   ],
   "metadata": {
    "collapsed": false
   }
  },
  {
   "cell_type": "code",
   "execution_count": 4,
   "outputs": [
    {
     "name": "stdout",
     "output_type": "stream",
     "text": [
      "The shape of the data frame: (6000, 11)\n",
      "The types in the data frame ts_code        object\n",
      "trade_date     object\n",
      "open          float64\n",
      "high          float64\n",
      "low           float64\n",
      "close         float64\n",
      "pre_close     float64\n",
      "change        float64\n",
      "pct_chg       float64\n",
      "vol           float64\n",
      "amount        float64\n",
      "dtype: object\n"
     ]
    },
    {
     "data": {
      "text/plain": "        ts_code trade_date   open   high    low  close  pre_close  change  \\\n0     002198.SZ   20221230   6.39   6.57   6.33   6.52       6.40    0.12   \n1     002199.SZ   20221230   6.36   6.43   6.28   6.39       6.29    0.10   \n2     002194.SZ   20221230   9.13   9.26   9.07   9.21       9.10    0.11   \n3     002181.SZ   20221230   5.28   5.52   5.28   5.46       5.31    0.15   \n4     002195.SZ   20221230   1.99   2.02   1.98   2.01       1.98    0.03   \n...         ...        ...    ...    ...    ...    ...        ...     ...   \n5995  300185.SZ   20221229   2.43   2.43   2.38   2.39       2.43   -0.04   \n5996  002212.SZ   20221229   9.51   9.93   9.48   9.85       9.59    0.26   \n5997  002213.SZ   20221229  16.37  16.37  15.61  15.68      14.88    0.80   \n5998  002397.SZ   20221229   4.54   4.67   4.51   4.54       4.60   -0.06   \n5999  300024.SZ   20221229   8.83   8.99   8.83   8.88       8.92   -0.04   \n\n      pct_chg        vol      amount  \n0      1.8750  101579.12   65646.164  \n1      1.5898   38684.00   24640.014  \n2      1.2088  101101.41   92895.425  \n3      2.8249  547665.70  297495.407  \n4      1.5152  444728.72   89088.620  \n...       ...        ...         ...  \n5995  -1.6461  169697.00   40744.559  \n5996   2.7112  166568.42  163068.690  \n5997   5.3763  238641.86  386408.221  \n5998  -1.3043  127870.79   58483.435  \n5999  -0.4484   66528.10   59381.114  \n\n[6000 rows x 11 columns]",
      "text/html": "<div>\n<style scoped>\n    .dataframe tbody tr th:only-of-type {\n        vertical-align: middle;\n    }\n\n    .dataframe tbody tr th {\n        vertical-align: top;\n    }\n\n    .dataframe thead th {\n        text-align: right;\n    }\n</style>\n<table border=\"1\" class=\"dataframe\">\n  <thead>\n    <tr style=\"text-align: right;\">\n      <th></th>\n      <th>ts_code</th>\n      <th>trade_date</th>\n      <th>open</th>\n      <th>high</th>\n      <th>low</th>\n      <th>close</th>\n      <th>pre_close</th>\n      <th>change</th>\n      <th>pct_chg</th>\n      <th>vol</th>\n      <th>amount</th>\n    </tr>\n  </thead>\n  <tbody>\n    <tr>\n      <th>0</th>\n      <td>002198.SZ</td>\n      <td>20221230</td>\n      <td>6.39</td>\n      <td>6.57</td>\n      <td>6.33</td>\n      <td>6.52</td>\n      <td>6.40</td>\n      <td>0.12</td>\n      <td>1.8750</td>\n      <td>101579.12</td>\n      <td>65646.164</td>\n    </tr>\n    <tr>\n      <th>1</th>\n      <td>002199.SZ</td>\n      <td>20221230</td>\n      <td>6.36</td>\n      <td>6.43</td>\n      <td>6.28</td>\n      <td>6.39</td>\n      <td>6.29</td>\n      <td>0.10</td>\n      <td>1.5898</td>\n      <td>38684.00</td>\n      <td>24640.014</td>\n    </tr>\n    <tr>\n      <th>2</th>\n      <td>002194.SZ</td>\n      <td>20221230</td>\n      <td>9.13</td>\n      <td>9.26</td>\n      <td>9.07</td>\n      <td>9.21</td>\n      <td>9.10</td>\n      <td>0.11</td>\n      <td>1.2088</td>\n      <td>101101.41</td>\n      <td>92895.425</td>\n    </tr>\n    <tr>\n      <th>3</th>\n      <td>002181.SZ</td>\n      <td>20221230</td>\n      <td>5.28</td>\n      <td>5.52</td>\n      <td>5.28</td>\n      <td>5.46</td>\n      <td>5.31</td>\n      <td>0.15</td>\n      <td>2.8249</td>\n      <td>547665.70</td>\n      <td>297495.407</td>\n    </tr>\n    <tr>\n      <th>4</th>\n      <td>002195.SZ</td>\n      <td>20221230</td>\n      <td>1.99</td>\n      <td>2.02</td>\n      <td>1.98</td>\n      <td>2.01</td>\n      <td>1.98</td>\n      <td>0.03</td>\n      <td>1.5152</td>\n      <td>444728.72</td>\n      <td>89088.620</td>\n    </tr>\n    <tr>\n      <th>...</th>\n      <td>...</td>\n      <td>...</td>\n      <td>...</td>\n      <td>...</td>\n      <td>...</td>\n      <td>...</td>\n      <td>...</td>\n      <td>...</td>\n      <td>...</td>\n      <td>...</td>\n      <td>...</td>\n    </tr>\n    <tr>\n      <th>5995</th>\n      <td>300185.SZ</td>\n      <td>20221229</td>\n      <td>2.43</td>\n      <td>2.43</td>\n      <td>2.38</td>\n      <td>2.39</td>\n      <td>2.43</td>\n      <td>-0.04</td>\n      <td>-1.6461</td>\n      <td>169697.00</td>\n      <td>40744.559</td>\n    </tr>\n    <tr>\n      <th>5996</th>\n      <td>002212.SZ</td>\n      <td>20221229</td>\n      <td>9.51</td>\n      <td>9.93</td>\n      <td>9.48</td>\n      <td>9.85</td>\n      <td>9.59</td>\n      <td>0.26</td>\n      <td>2.7112</td>\n      <td>166568.42</td>\n      <td>163068.690</td>\n    </tr>\n    <tr>\n      <th>5997</th>\n      <td>002213.SZ</td>\n      <td>20221229</td>\n      <td>16.37</td>\n      <td>16.37</td>\n      <td>15.61</td>\n      <td>15.68</td>\n      <td>14.88</td>\n      <td>0.80</td>\n      <td>5.3763</td>\n      <td>238641.86</td>\n      <td>386408.221</td>\n    </tr>\n    <tr>\n      <th>5998</th>\n      <td>002397.SZ</td>\n      <td>20221229</td>\n      <td>4.54</td>\n      <td>4.67</td>\n      <td>4.51</td>\n      <td>4.54</td>\n      <td>4.60</td>\n      <td>-0.06</td>\n      <td>-1.3043</td>\n      <td>127870.79</td>\n      <td>58483.435</td>\n    </tr>\n    <tr>\n      <th>5999</th>\n      <td>300024.SZ</td>\n      <td>20221229</td>\n      <td>8.83</td>\n      <td>8.99</td>\n      <td>8.83</td>\n      <td>8.88</td>\n      <td>8.92</td>\n      <td>-0.04</td>\n      <td>-0.4484</td>\n      <td>66528.10</td>\n      <td>59381.114</td>\n    </tr>\n  </tbody>\n</table>\n<p>6000 rows × 11 columns</p>\n</div>"
     },
     "execution_count": 4,
     "metadata": {},
     "output_type": "execute_result"
    }
   ],
   "source": [
    "rawDailyDataInTushare=getDailyStockData()\n",
    "print(\"The shape of the data frame: {}\".format(rawDailyDataInTushare.shape))\n",
    "print(\"The types in the data frame {}\".format(rawDailyDataInTushare.dtypes))\n",
    "\n",
    "rawDailyDataInTushare"
   ],
   "metadata": {
    "collapsed": false
   }
  },
  {
   "cell_type": "markdown",
   "source": [
    "## 1.2 use yfinance (雅虎非官方API) api get stock data"
   ],
   "metadata": {
    "collapsed": false
   }
  },
  {
   "cell_type": "code",
   "execution_count": 5,
   "outputs": [
    {
     "name": "stdout",
     "output_type": "stream",
     "text": [
      "[*********************100%***********************]  1 of 1 completed\n"
     ]
    },
    {
     "data": {
      "text/plain": "                 Open       High        Low      Close  Adj Close     Volume\nDate                                                                        \n2018-01-02  10.420000  11.020000  10.340000  10.980000  10.980000   44146300\n2018-01-03  11.610000  12.140000  11.360000  11.550000  11.550000  154066700\n2018-01-04  12.100000  12.430000  11.970000  12.120000  12.120000  109503000\n2018-01-05  12.190000  12.220000  11.660000  11.880000  11.880000   63808900\n2018-01-08  12.010000  12.300000  11.850000  12.280000  12.280000   63346000\n...               ...        ...        ...        ...        ...        ...\n2022-12-23  63.110001  64.660004  62.720001  64.519997  64.519997   45923000\n2022-12-27  63.869999  64.279999  62.970001  63.270000  63.270000   36086000\n2022-12-28  62.540001  63.540001  61.959999  62.570000  62.570000   39526500\n2022-12-29  63.639999  65.180000  63.060001  64.820000  64.820000   41428500\n2022-12-30  63.770000  64.820000  63.139999  64.769997  64.769997   37127000\n\n[1259 rows x 6 columns]",
      "text/html": "<div>\n<style scoped>\n    .dataframe tbody tr th:only-of-type {\n        vertical-align: middle;\n    }\n\n    .dataframe tbody tr th {\n        vertical-align: top;\n    }\n\n    .dataframe thead th {\n        text-align: right;\n    }\n</style>\n<table border=\"1\" class=\"dataframe\">\n  <thead>\n    <tr style=\"text-align: right;\">\n      <th></th>\n      <th>Open</th>\n      <th>High</th>\n      <th>Low</th>\n      <th>Close</th>\n      <th>Adj Close</th>\n      <th>Volume</th>\n    </tr>\n    <tr>\n      <th>Date</th>\n      <th></th>\n      <th></th>\n      <th></th>\n      <th></th>\n      <th></th>\n      <th></th>\n    </tr>\n  </thead>\n  <tbody>\n    <tr>\n      <th>2018-01-02</th>\n      <td>10.420000</td>\n      <td>11.020000</td>\n      <td>10.340000</td>\n      <td>10.980000</td>\n      <td>10.980000</td>\n      <td>44146300</td>\n    </tr>\n    <tr>\n      <th>2018-01-03</th>\n      <td>11.610000</td>\n      <td>12.140000</td>\n      <td>11.360000</td>\n      <td>11.550000</td>\n      <td>11.550000</td>\n      <td>154066700</td>\n    </tr>\n    <tr>\n      <th>2018-01-04</th>\n      <td>12.100000</td>\n      <td>12.430000</td>\n      <td>11.970000</td>\n      <td>12.120000</td>\n      <td>12.120000</td>\n      <td>109503000</td>\n    </tr>\n    <tr>\n      <th>2018-01-05</th>\n      <td>12.190000</td>\n      <td>12.220000</td>\n      <td>11.660000</td>\n      <td>11.880000</td>\n      <td>11.880000</td>\n      <td>63808900</td>\n    </tr>\n    <tr>\n      <th>2018-01-08</th>\n      <td>12.010000</td>\n      <td>12.300000</td>\n      <td>11.850000</td>\n      <td>12.280000</td>\n      <td>12.280000</td>\n      <td>63346000</td>\n    </tr>\n    <tr>\n      <th>...</th>\n      <td>...</td>\n      <td>...</td>\n      <td>...</td>\n      <td>...</td>\n      <td>...</td>\n      <td>...</td>\n    </tr>\n    <tr>\n      <th>2022-12-23</th>\n      <td>63.110001</td>\n      <td>64.660004</td>\n      <td>62.720001</td>\n      <td>64.519997</td>\n      <td>64.519997</td>\n      <td>45923000</td>\n    </tr>\n    <tr>\n      <th>2022-12-27</th>\n      <td>63.869999</td>\n      <td>64.279999</td>\n      <td>62.970001</td>\n      <td>63.270000</td>\n      <td>63.270000</td>\n      <td>36086000</td>\n    </tr>\n    <tr>\n      <th>2022-12-28</th>\n      <td>62.540001</td>\n      <td>63.540001</td>\n      <td>61.959999</td>\n      <td>62.570000</td>\n      <td>62.570000</td>\n      <td>39526500</td>\n    </tr>\n    <tr>\n      <th>2022-12-29</th>\n      <td>63.639999</td>\n      <td>65.180000</td>\n      <td>63.060001</td>\n      <td>64.820000</td>\n      <td>64.820000</td>\n      <td>41428500</td>\n    </tr>\n    <tr>\n      <th>2022-12-30</th>\n      <td>63.770000</td>\n      <td>64.820000</td>\n      <td>63.139999</td>\n      <td>64.769997</td>\n      <td>64.769997</td>\n      <td>37127000</td>\n    </tr>\n  </tbody>\n</table>\n<p>1259 rows × 6 columns</p>\n</div>"
     },
     "execution_count": 5,
     "metadata": {},
     "output_type": "execute_result"
    }
   ],
   "source": [
    "data = yf.download(tickers=['AMD'],start='2018-01-1',end='2023-01-01')\n",
    "data"
   ],
   "metadata": {
    "collapsed": false
   }
  },
  {
   "cell_type": "code",
   "execution_count": 6,
   "outputs": [
    {
     "name": "stdout",
     "output_type": "stream",
     "text": [
      "[*********************100%***********************]  1 of 1 completed\n"
     ]
    },
    {
     "data": {
      "text/plain": "<Figure size 640x480 with 1 Axes>",
      "image/png": "[encoded data removed]"
     },
     "metadata": {},
     "output_type": "display_data"
    }
   ],
   "source": [
    "data = yf.download(['AMD'],'2018-01-01','2023-01-01')\n",
    "data[\"Close\"].plot()\n",
    "plt.show()"
   ],
   "metadata": {
    "collapsed": false
   }
  },
  {
   "cell_type": "code",
   "execution_count": 7,
   "outputs": [],
   "source": [
    "rawDailyDataInTushare.to_csv('stockData/file2.csv', header=rawDailyDataInTushare.head, index=False)"
   ],
   "metadata": {
    "collapsed": false
   }
  }
 ],
 "metadata": {
  "kernelspec": {
   "display_name": "Python 3",
   "language": "python",
   "name": "python3"
  },
  "language_info": {
   "codemirror_mode": {
    "name": "ipython",
    "version": 2
   },
   "file_extension": ".py",
   "mimetype": "text/x-python",
   "name": "python",
   "nbconvert_exporter": "python",
   "pygments_lexer": "ipython2",
   "version": "2.7.6"
  }
 },
 "nbformat": 4,
 "nbformat_minor": 0
}
