{
 "cells": [
  {
   "cell_type": "markdown",
   "source": [
    "# 合并表格"
   ],
   "metadata": {
    "collapsed": false
   }
  },
  {
   "cell_type": "code",
   "execution_count": 53,
   "outputs": [],
   "source": [
    "import numpy as np\n",
    "import pandas as pd\n",
    "\n",
    "# ### 读取\n",
    "# trd_dalyr0=pd.read_excel(\"stockData/furtherInformation/日个股回报率文件185043337(仅供中央财经大学使用)/TRD_Dalyr.xlsx\")\n",
    "# trd_dalyr0=trd_dalyr0.drop([0,1],axis=0)\n",
    "# trd_dalyr1=pd.read_excel(\"stockData/furtherInformation/日个股回报率文件185043337(仅供中央财经大学使用)/TRD_Dalyr1.xlsx\")\n",
    "# trd_dalyr1=trd_dalyr1.drop([0,1],axis=0)\n",
    "# trd_dalyr2=pd.read_excel(\"stockData/furtherInformation/日个股回报率文件185043337(仅供中央财经大学使用)/TRD_Dalyr2.xlsx\")\n",
    "# trd_dalyr2=trd_dalyr2.drop([0,1],axis=0)\n",
    "# trd_dalyr3=pd.read_excel(\"stockData/furtherInformation/日个股回报率文件185043337(仅供中央财经大学使用)/TRD_Dalyr3.xlsx\")\n",
    "# trd_dalyr3=trd_dalyr3.drop([0,1],axis=0)\n",
    "# trd_dalyr4=pd.read_excel(\"stockData/furtherInformation/日个股回报率文件185043337(仅供中央财经大学使用)/TRD_Dalyr4.xlsx\")\n",
    "# trd_dalyr4=trd_dalyr4.drop([0,1],axis=0)\n",
    "# diaryData=[trd_dalyr0,trd_dalyr1,trd_dalyr2,trd_dalyr3,trd_dalyr4]\n",
    "# finalDF=pd.concat(diaryData)\n",
    "# finalDF"
   ],
   "metadata": {
    "collapsed": false,
    "ExecuteTime": {
     "end_time": "2023-09-09T01:59:03.093544Z",
     "start_time": "2023-09-09T01:59:03.040492Z"
    }
   }
  },
  {
   "cell_type": "code",
   "execution_count": 54,
   "outputs": [],
   "source": [
    "# companyData=pd.read_excel(\"stockData/furtherInformation/公司文件184301535(仅供中央财经大学使用)/TRD_Co.xlsx\")\n",
    "# companyData=companyData.drop([0,1],axis=0)\n",
    "# companyData"
   ],
   "metadata": {
    "collapsed": false,
    "ExecuteTime": {
     "end_time": "2023-09-09T01:59:03.103504Z",
     "start_time": "2023-09-09T01:59:03.044238Z"
    }
   }
  },
  {
   "cell_type": "code",
   "execution_count": 55,
   "outputs": [],
   "source": [
    "# companyAssetData=pd.read_excel(\"stockData/furtherInformation/资产负债表(联表查询)181028530/FS_Combas(Merge Query).xlsx\")\n",
    "# companyAssetData=companyAssetData.drop([0,1],axis=0)\n",
    "# companyAssetData"
   ],
   "metadata": {
    "collapsed": false,
    "ExecuteTime": {
     "end_time": "2023-09-09T01:59:03.103716Z",
     "start_time": "2023-09-09T01:59:03.047564Z"
    }
   }
  },
  {
   "cell_type": "code",
   "execution_count": 56,
   "outputs": [],
   "source": [
    "# ### 去除b部分\n",
    "# companyAssetData=companyAssetData[companyAssetData[\"FS_Combas.Typrep\"]!=\"B\"]\n",
    "# companyAssetData=companyAssetData.reindex()\n",
    "# ### 去除12-31，因为与1-1有重复\n",
    "# companyAssetData=companyAssetData[companyAssetData['FS_Combas.Accper'].str.contains(\"01-01|03-31|06-30|09-30\")]\n",
    "# companyAssetData['FS_Combas.Accper']=pd.to_datetime(companyAssetData['FS_Combas.Accper'], format=\"%Y-%m-%d\")\n",
    "# \n",
    "# companyAssetData=companyAssetData.rename(columns={\"FS_Combas.Stkcd\":\"Stkcd\",\"FS_Combas.Accper\":\"Trddt_quarter\"})\n",
    "# companyAssetData"
   ],
   "metadata": {
    "collapsed": false,
    "ExecuteTime": {
     "end_time": "2023-09-09T01:59:03.115790Z",
     "start_time": "2023-09-09T01:59:03.051058Z"
    }
   }
  },
  {
   "cell_type": "code",
   "execution_count": 57,
   "outputs": [],
   "source": [
    "# ### todo：开始合并 日个股回报与公司信息\n",
    "# df=pd.merge(finalDF,companyData,on='Stkcd')\n",
    "# df['Trddt']=pd.to_datetime(df[\"Trddt\"], format=\"%Y-%m-%d\")\n",
    "# df"
   ],
   "metadata": {
    "collapsed": false,
    "ExecuteTime": {
     "end_time": "2023-09-09T01:59:03.115928Z",
     "start_time": "2023-09-09T01:59:03.055173Z"
    }
   }
  },
  {
   "cell_type": "code",
   "execution_count": 58,
   "outputs": [],
   "source": [
    "###转换时间为季度\n",
    "def dateToQuarter(date):\n",
    "        # print(\"time: \",date)\n",
    "        quarter_date={1:\"01-01\",2:\"03-31\",3:\"06-30\",4:\"09-30\"}\n",
    "        year=date.astype('datetime64[Y]').astype(int) + 1970\n",
    "        month = date.astype('datetime64[M]').astype(int) % 12 + 1\n",
    "        the_quarter = (month - 1) // 3 + 1                  #计算季度\n",
    "        quarter_name = str(year) + '年' + str(the_quarter) + '季度'\n",
    "        quarter_name_short = str(year) + 'Q' + str(the_quarter)\n",
    "        # print(\"quarter time: \",quarter_name)\n",
    "        return [str(year)+\"-\"+quarter_date[the_quarter],the_quarter]\n",
    "\n",
    "# dateToQuarter(numpy.datetime64(\"2020-04-30\"))"
   ],
   "metadata": {
    "collapsed": false,
    "ExecuteTime": {
     "end_time": "2023-09-09T01:59:03.115990Z",
     "start_time": "2023-09-09T01:59:03.060108Z"
    }
   }
  },
  {
   "cell_type": "code",
   "execution_count": 59,
   "outputs": [],
   "source": [
    "# df[\"Trddt_quarter\"]=[dateToQuarter(i)[0] for i in df['Trddt'].values]\n",
    "# df[\"Trddt_quarter\"]=pd.to_datetime(df[\"Trddt_quarter\"], format=\"%Y-%m-%d\")\n",
    "# df"
   ],
   "metadata": {
    "collapsed": false,
    "ExecuteTime": {
     "end_time": "2023-09-09T01:59:03.116054Z",
     "start_time": "2023-09-09T01:59:03.062585Z"
    }
   }
  },
  {
   "cell_type": "code",
   "execution_count": 60,
   "outputs": [],
   "source": [
    "# ###todo：根据季度与股票代码合并之前的总表与资产负债表\n",
    "# allData=pd.merge(df,companyAssetData,on=[\"Stkcd\",'Trddt_quarter'],how='outer')\n",
    "# # allData['Stkcd']=allData['Stkcd'].astype(str)\n",
    "# allData"
   ],
   "metadata": {
    "collapsed": false,
    "ExecuteTime": {
     "end_time": "2023-09-09T01:59:03.116094Z",
     "start_time": "2023-09-09T01:59:03.065100Z"
    }
   }
  },
  {
   "cell_type": "code",
   "execution_count": 61,
   "outputs": [],
   "source": [
    "# allData.to_csv(\"stockData/furtherInformation/AllData.csv\")"
   ],
   "metadata": {
    "collapsed": false,
    "ExecuteTime": {
     "end_time": "2023-09-09T01:59:03.116130Z",
     "start_time": "2023-09-09T01:59:03.067994Z"
    }
   }
  },
  {
   "cell_type": "markdown",
   "source": [
    "# 读取疫情数据并合并表格"
   ],
   "metadata": {
    "collapsed": false
   }
  },
  {
   "cell_type": "code",
   "execution_count": 62,
   "outputs": [
    {
     "data": {
      "text/plain": "                         Title  \\\n0         1月23日新型冠状病毒感染的肺炎疫情情况   \n1         1月22日新型冠状病毒感染的肺炎疫情情况   \n2         1月21日新型冠状病毒感染的肺炎疫情情况   \n3         1月24日新型冠状病毒感染的肺炎疫情情况   \n4    截至11月26日24时新型冠状病毒肺炎疫情最新情况   \n..                         ...   \n881   截至9月30日24时新型冠状病毒肺炎疫情最新情况   \n882   截至10月4日24时新型冠状病毒肺炎疫情最新情况   \n883   截至10月4日24时新型冠状病毒肺炎疫情最新情况   \n884   截至10月6日24时新型冠状病毒肺炎疫情最新情况   \n885   截至10月6日24时新型冠状病毒肺炎疫情最新情况   \n\n                                                  Link  \\\n0    http://www.nhc.gov.cn/yjb/s3578/202001/5d19a4f...   \n1    http://www.nhc.gov.cn/yjb/s3578/202001/a3c8b51...   \n2    http://www.nhc.gov.cn/yjb/s3578/202001/930c021...   \n3    http://www.nhc.gov.cn/yjb/s3578/202001/c5da49c...   \n4    http://www.nhc.gov.cn/yjb/s7860/202111/322b052...   \n..                                                 ...   \n881  http://www.nhc.gov.cn/yjb/s7860/202110/0a5882f...   \n882  http://www.nhc.gov.cn/yjb/s7860/202010/9fac34d...   \n883  http://www.nhc.gov.cn/yjb/s7860/202110/cfe33a2...   \n884  http://www.nhc.gov.cn/yjb/s7860/202010/2bf38d3...   \n885  http://www.nhc.gov.cn/yjb/s7860/202110/194cf40...   \n\n                                               Content Public_Time   Source  \n0    截至1月22日24时，我委收到国内25个省（区、市）累计报告新型冠状病毒感染的肺炎确诊病例5...  2020-01-23  卫生应急办公室  \n1    2020年1月21日0-24时，我委收到国内13省（区、市）报告新增新型冠状病毒感染的肺炎确...  2020-01-22  卫生应急办公室  \n2    2020年1月20日0-24时，我委收到国内3省（区、市）报告新增新型冠状病毒感染的肺炎确诊...  2020-01-21  卫生应急办公室  \n3    1月23日0-24时，27个省（区、市）报告新增确诊病例259例，新增死亡患者8例。新增治愈...  2020-01-24  卫生应急办公室  \n4    11月26日0—24时，31个省（自治区、直辖市）和新疆生产建设兵团报告新增确诊病例25例。...  2021-11-27  卫生应急办公室  \n..                                                 ...         ...      ...  \n881  9月30日0—24时，31个省（自治区、直辖市）和新疆生产建设兵团报告新增确诊病例34例。其...  2021-10-01  卫生应急办公室  \n882  10月4日0—24时，31个省（自治区、直辖市）和新疆生产建设兵团报告新增确诊病例20例，均...  2020-10-05  卫生应急办公室  \n883  10月4日0—24时，31个省（自治区、直辖市）和新疆生产建设兵团报告新增确诊病例26例，均...  2021-10-05  卫生应急办公室  \n884  10月6日0—24时，31个省（自治区、直辖市）和新疆生产建设兵团报告新增确诊病例7例，均为...  2020-10-07  卫生应急办公室  \n885  10月6日0—24时，31个省（自治区、直辖市）和新疆生产建设兵团报告新增确诊病例25例，均...  2021-10-07  卫生应急办公室  \n\n[886 rows x 5 columns]",
      "text/html": "<div>\n<style scoped>\n    .dataframe tbody tr th:only-of-type {\n        vertical-align: middle;\n    }\n\n    .dataframe tbody tr th {\n        vertical-align: top;\n    }\n\n    .dataframe thead th {\n        text-align: right;\n    }\n</style>\n<table border=\"1\" class=\"dataframe\">\n  <thead>\n    <tr style=\"text-align: right;\">\n      <th></th>\n      <th>Title</th>\n      <th>Link</th>\n      <th>Content</th>\n      <th>Public_Time</th>\n      <th>Source</th>\n    </tr>\n  </thead>\n  <tbody>\n    <tr>\n      <th>0</th>\n      <td>1月23日新型冠状病毒感染的肺炎疫情情况</td>\n      <td>http://www.nhc.gov.cn/yjb/s3578/202001/5d19a4f...</td>\n      <td>截至1月22日24时，我委收到国内25个省（区、市）累计报告新型冠状病毒感染的肺炎确诊病例5...</td>\n      <td>2020-01-23</td>\n      <td>卫生应急办公室</td>\n    </tr>\n    <tr>\n      <th>1</th>\n      <td>1月22日新型冠状病毒感染的肺炎疫情情况</td>\n      <td>http://www.nhc.gov.cn/yjb/s3578/202001/a3c8b51...</td>\n      <td>2020年1月21日0-24时，我委收到国内13省（区、市）报告新增新型冠状病毒感染的肺炎确...</td>\n      <td>2020-01-22</td>\n      <td>卫生应急办公室</td>\n    </tr>\n    <tr>\n      <th>2</th>\n      <td>1月21日新型冠状病毒感染的肺炎疫情情况</td>\n      <td>http://www.nhc.gov.cn/yjb/s3578/202001/930c021...</td>\n      <td>2020年1月20日0-24时，我委收到国内3省（区、市）报告新增新型冠状病毒感染的肺炎确诊...</td>\n      <td>2020-01-21</td>\n      <td>卫生应急办公室</td>\n    </tr>\n    <tr>\n      <th>3</th>\n      <td>1月24日新型冠状病毒感染的肺炎疫情情况</td>\n      <td>http://www.nhc.gov.cn/yjb/s3578/202001/c5da49c...</td>\n      <td>1月23日0-24时，27个省（区、市）报告新增确诊病例259例，新增死亡患者8例。新增治愈...</td>\n      <td>2020-01-24</td>\n      <td>卫生应急办公室</td>\n    </tr>\n    <tr>\n      <th>4</th>\n      <td>截至11月26日24时新型冠状病毒肺炎疫情最新情况</td>\n      <td>http://www.nhc.gov.cn/yjb/s7860/202111/322b052...</td>\n      <td>11月26日0—24时，31个省（自治区、直辖市）和新疆生产建设兵团报告新增确诊病例25例。...</td>\n      <td>2021-11-27</td>\n      <td>卫生应急办公室</td>\n    </tr>\n    <tr>\n      <th>...</th>\n      <td>...</td>\n      <td>...</td>\n      <td>...</td>\n      <td>...</td>\n      <td>...</td>\n    </tr>\n    <tr>\n      <th>881</th>\n      <td>截至9月30日24时新型冠状病毒肺炎疫情最新情况</td>\n      <td>http://www.nhc.gov.cn/yjb/s7860/202110/0a5882f...</td>\n      <td>9月30日0—24时，31个省（自治区、直辖市）和新疆生产建设兵团报告新增确诊病例34例。其...</td>\n      <td>2021-10-01</td>\n      <td>卫生应急办公室</td>\n    </tr>\n    <tr>\n      <th>882</th>\n      <td>截至10月4日24时新型冠状病毒肺炎疫情最新情况</td>\n      <td>http://www.nhc.gov.cn/yjb/s7860/202010/9fac34d...</td>\n      <td>10月4日0—24时，31个省（自治区、直辖市）和新疆生产建设兵团报告新增确诊病例20例，均...</td>\n      <td>2020-10-05</td>\n      <td>卫生应急办公室</td>\n    </tr>\n    <tr>\n      <th>883</th>\n      <td>截至10月4日24时新型冠状病毒肺炎疫情最新情况</td>\n      <td>http://www.nhc.gov.cn/yjb/s7860/202110/cfe33a2...</td>\n      <td>10月4日0—24时，31个省（自治区、直辖市）和新疆生产建设兵团报告新增确诊病例26例，均...</td>\n      <td>2021-10-05</td>\n      <td>卫生应急办公室</td>\n    </tr>\n    <tr>\n      <th>884</th>\n      <td>截至10月6日24时新型冠状病毒肺炎疫情最新情况</td>\n      <td>http://www.nhc.gov.cn/yjb/s7860/202010/2bf38d3...</td>\n      <td>10月6日0—24时，31个省（自治区、直辖市）和新疆生产建设兵团报告新增确诊病例7例，均为...</td>\n      <td>2020-10-07</td>\n      <td>卫生应急办公室</td>\n    </tr>\n    <tr>\n      <th>885</th>\n      <td>截至10月6日24时新型冠状病毒肺炎疫情最新情况</td>\n      <td>http://www.nhc.gov.cn/yjb/s7860/202110/194cf40...</td>\n      <td>10月6日0—24时，31个省（自治区、直辖市）和新疆生产建设兵团报告新增确诊病例25例，均...</td>\n      <td>2021-10-07</td>\n      <td>卫生应急办公室</td>\n    </tr>\n  </tbody>\n</table>\n<p>886 rows × 5 columns</p>\n</div>"
     },
     "execution_count": 62,
     "metadata": {},
     "output_type": "execute_result"
    }
   ],
   "source": [
    "covidData=pd.read_csv(\"stockData/furtherInformation/covid19/CovidNews01.csv\")\n",
    "covidData['Public_Time']=pd.to_datetime(covidData[\"Public_Time\"], format=\"%Y-%m-%d\")\n",
    "covidData"
   ],
   "metadata": {
    "collapsed": false,
    "ExecuteTime": {
     "end_time": "2023-09-09T01:59:03.117424Z",
     "start_time": "2023-09-09T01:59:03.071129Z"
    }
   }
  },
  {
   "cell_type": "code",
   "execution_count": 63,
   "outputs": [
    {
     "name": "stdout",
     "output_type": "stream",
     "text": [
      "(886, 5)\n",
      "886\n",
      "886\n"
     ]
    }
   ],
   "source": [
    "print(covidData.shape)\n",
    "print(len(covidData['Link'].unique()))\n",
    "print(len(covidData['Public_Time'].unique()))"
   ],
   "metadata": {
    "collapsed": false,
    "ExecuteTime": {
     "end_time": "2023-09-09T01:59:03.119135Z",
     "start_time": "2023-09-09T01:59:03.104377Z"
    }
   }
  },
  {
   "cell_type": "code",
   "execution_count": 72,
   "outputs": [
    {
     "name": "stdout",
     "output_type": "stream",
     "text": [
      "title:  1月23日新型冠状病毒感染的肺炎疫情情况\n",
      "-----------------------\n",
      "截至1月22日24时，我委收到国内25个省（区、市）累计报告新型冠状病毒感染的肺炎确诊病例571例，其中重症95例，死亡17例（均来自湖北省）。13个省（区、市）累计报告疑似病例393例。\n"
     ]
    },
    {
     "ename": "TypeError",
     "evalue": "'bool' object is not iterable",
     "output_type": "error",
     "traceback": [
      "\u001B[0;31m---------------------------------------------------------------------------\u001B[0m",
      "\u001B[0;31mTypeError\u001B[0m                                 Traceback (most recent call last)",
      "Cell \u001B[0;32mIn[72], line 9\u001B[0m\n\u001B[1;32m      7\u001B[0m \u001B[38;5;28mprint\u001B[39m(para\u001B[38;5;241m.\u001B[39mstrip())\n\u001B[1;32m      8\u001B[0m \u001B[38;5;66;03m# keywords = analyse.extract_tags(para.strip(),withWeight=False)\u001B[39;00m\n\u001B[0;32m----> 9\u001B[0m keywords\u001B[38;5;241m=\u001B[39m\u001B[43manalyse\u001B[49m\u001B[38;5;241;43m.\u001B[39;49m\u001B[43mextract_tags\u001B[49m\u001B[43m(\u001B[49m\u001B[43mpara\u001B[49m\u001B[38;5;241;43m.\u001B[39;49m\u001B[43mstrip\u001B[49m\u001B[43m(\u001B[49m\u001B[43m)\u001B[49m\u001B[43m,\u001B[49m\u001B[43mallowPOS\u001B[49m\u001B[38;5;241;43m=\u001B[39;49m\u001B[38;5;28;43;01mTrue\u001B[39;49;00m\u001B[43m)\u001B[49m\n\u001B[1;32m     10\u001B[0m \u001B[38;5;28mprint\u001B[39m(\u001B[38;5;124m\"\u001B[39m\u001B[38;5;124mtf-idf筛选：\u001B[39m\u001B[38;5;124m\"\u001B[39m,keywords)\n",
      "File \u001B[0;32m~/anaconda3/envs/DataAnalysis/lib/python3.9/site-packages/jieba/analyse/tfidf.py:89\u001B[0m, in \u001B[0;36mTFIDF.extract_tags\u001B[0;34m(self, sentence, topK, withWeight, allowPOS, withFlag)\u001B[0m\n\u001B[1;32m     76\u001B[0m \u001B[38;5;250m\u001B[39m\u001B[38;5;124;03m\"\"\"\u001B[39;00m\n\u001B[1;32m     77\u001B[0m \u001B[38;5;124;03mExtract keywords from sentence using TF-IDF algorithm.\u001B[39;00m\n\u001B[1;32m     78\u001B[0m \u001B[38;5;124;03mParameter:\u001B[39;00m\n\u001B[0;32m   (...)\u001B[0m\n\u001B[1;32m     86\u001B[0m \u001B[38;5;124;03m                if False, return a list of words\u001B[39;00m\n\u001B[1;32m     87\u001B[0m \u001B[38;5;124;03m\"\"\"\u001B[39;00m\n\u001B[1;32m     88\u001B[0m \u001B[38;5;28;01mif\u001B[39;00m allowPOS:\n\u001B[0;32m---> 89\u001B[0m     allowPOS \u001B[38;5;241m=\u001B[39m \u001B[38;5;28;43mfrozenset\u001B[39;49m\u001B[43m(\u001B[49m\u001B[43mallowPOS\u001B[49m\u001B[43m)\u001B[49m\n\u001B[1;32m     90\u001B[0m     words \u001B[38;5;241m=\u001B[39m \u001B[38;5;28mself\u001B[39m\u001B[38;5;241m.\u001B[39mpostokenizer\u001B[38;5;241m.\u001B[39mcut(sentence)\n\u001B[1;32m     91\u001B[0m \u001B[38;5;28;01melse\u001B[39;00m:\n",
      "\u001B[0;31mTypeError\u001B[0m: 'bool' object is not iterable"
     ]
    }
   ],
   "source": [
    "from jieba import analyse\n",
    "\n",
    "print(\"title: \",covidData['Title'].values[0])\n",
    "for para in covidData['Content'].values[0].split(\"\\n\"):\n",
    "    if para.strip()!=\"\":\n",
    "        print(\"-----------------------\")\n",
    "        print(para.strip())\n",
    "        keywords = analyse.extract_tags(para.strip(),withWeight=False)\n",
    "        print(\"tf-idf筛选：\",keywords)"
   ],
   "metadata": {
    "collapsed": false,
    "ExecuteTime": {
     "end_time": "2023-09-09T02:52:04.734176Z",
     "start_time": "2023-09-09T02:52:04.689816Z"
    }
   }
  },
  {
   "cell_type": "code",
   "execution_count": 36,
   "outputs": [
    {
     "name": "stdout",
     "output_type": "stream",
     "text": [
      "截至11月26日24时新型冠状病毒肺炎疫情最新情况\n",
      "11月26日0—24时，31个省（自治区、直辖市）和新疆生产建设兵团报告新增确诊病例25例。其中境外输入病例20例（上海5例，广东3例，云南3例，山东2例，湖南2例，广西2例，天津1例，辽宁1例，河南1例），含4例由无症状感染者转为确诊病例（湖南2例，河南1例，广西1例）；本土病例5例（辽宁3例，均在大连市；云南2例，均在德宏傣族景颇族自治州）。无新增死亡病例。无新增疑似病例。\n",
      "当日新增治愈出院病例76例，解除医学观察的密切接触者1858人，重症病例较前一日减少1例。\n",
      "境外输入现有确诊病例390例（其中重症病例3例），现有疑似病例2例。累计确诊病例10111例，累计治愈出院病例9721例，无死亡病例。\n",
      "截至11月26日24时，据31个省（自治区、直辖市）和新疆生产建设兵团报告，现有确诊病例809例（其中重症病例7例），累计治愈出院病例93163例，累计死亡病例4636例，累计报告确诊病例98608例，现有疑似病例2例。累计追踪到密切接触者1319872人，尚在医学观察的密切接触者30826人。\n",
      "31个省（自治区、直辖市）和新疆生产建设兵团报告新增无症状感染者15例（均为境外输入）；当日转为确诊病例4例（均为境外输入）；当日解除医学观察21例（境外输入13例）；尚在医学观察的无症状感染者439例（境外输入370例）。\n",
      "累计收到港澳台地区通报确诊病例29064例。其中，香港特别行政区12421例（出院12128例，死亡213例），澳门特别行政区77例（出院77例），台湾地区16566例（出院13742例，死亡848例）。\n",
      "\n",
      "\n",
      "（注：媒体引用时，请标注“信息来自国家卫生健康委员会官方网站”。）\n"
     ]
    }
   ],
   "source": [
    "print(covidData['Title'].values[4])\n",
    "print(covidData['Content'].values[4])"
   ],
   "metadata": {
    "collapsed": false,
    "ExecuteTime": {
     "end_time": "2023-09-08T14:41:35.290623Z",
     "start_time": "2023-09-08T14:41:35.275100Z"
    }
   }
  },
  {
   "cell_type": "markdown",
   "source": [
    "# 数据去重，并且删除部分缺失值"
   ],
   "metadata": {
    "collapsed": false
   }
  },
  {
   "cell_type": "code",
   "execution_count": null,
   "outputs": [],
   "source": [
    "# allData=pd.read_csv(\"stockData/furtherInformation/AllData.csv\",index_col=0,dtype=object)\n",
    "# allData['Trddt']=pd.to_datetime(allData[\"Trddt\"], format=\"%Y-%m-%d\")\n",
    "# allData"
   ],
   "metadata": {
    "collapsed": false
   }
  },
  {
   "cell_type": "code",
   "execution_count": null,
   "outputs": [],
   "source": [
    "# ###todo：要删除的重复列名\n",
    "# deleteColumns=[\"Trddt_quarter\",\"FS_Combas.Typrep\",\"FS_Combas.ShortName\",\"csmar_listedcoinfo.Stknme\",\"csmar_listedcoinfo.Conme\",\"FS_Comscfd.ShortName\",\"FS_Comins.ShortName\",\"csmar_listedcoinfo.Conme_en\",\"csmar_listedcoinfo.Nnindcd\",\"csmar_listedcoinfo.PROVINCECD\",\"csmar_listedcoinfo.CITY\",\"csmar_listedcoinfo.Nnindnme\"]\n",
    "# afterDeleteData=allData[[i for i in allData.columns if i not in deleteColumns]]\n",
    "# afterDeleteData"
   ],
   "metadata": {
    "collapsed": false
   }
  },
  {
   "cell_type": "code",
   "execution_count": null,
   "outputs": [],
   "source": [
    "# afterDeleteData.to_csv(\"stockData/furtherInformation/afterDeleteData.csv\")"
   ],
   "metadata": {
    "collapsed": false
   }
  },
  {
   "cell_type": "code",
   "execution_count": null,
   "outputs": [],
   "source": [
    "# ### 检查是否有缺失值达到50%的，有的话就删除\n",
    "# totalNumRows=5000412\n",
    "# num = afterDeleteData.isna().sum()\n",
    "# indexs=[]\n",
    "# nullNums=[]\n",
    "# nullPerc=[]\n",
    "# for index in num.index:\n",
    "#     indexs.append(index)\n",
    "#     nullNums.append(num[index])\n",
    "#     nullPerc.append(str(round(float(num[index]/totalNumRows),3)*100)+\" %\")\n",
    "# \n",
    "# num=pd.DataFrame.from_dict({\"Variance\":indexs,\"Number Of Null\":nullNums,\"Percentage Of Null\":nullPerc})\n",
    "# num"
   ],
   "metadata": {
    "collapsed": false
   }
  },
  {
   "cell_type": "code",
   "execution_count": null,
   "outputs": [],
   "source": [
    "# ###todo：删除和处理回归不能输入的数据,删除回报率为null的行,同时删除缺失值过多的 [FS_Combas.A001127000,FS_Combas.A001220000,FS_Combas.A001219000,FS_Combas.A001109000] 列\n",
    "# uselessColumns=[\"FS_Combas.A001127000\",\"FS_Combas.A001220000\",\"FS_Combas.A001219000\",\"FS_Combas.A001109000\",\"Stknme\",\"Listdt\",\"csmar_listedcoinfo.BUSSINESSRANGE\",\"Conme_en\",\"PROVINCECODE\",\"Parvcur\",\"csmar_listedcoinfo.MAINBUSSINESS\",\"CITYCODE\",\"PROVINCE\",\"Cuntrycd\",\"Conme\",\"Nindcd\",\"Nindcd\",\"Nnindcd\",\"OWNERSHIPTYPECODE\",\"Opnprc\",\"Hiprc\",\"Loprc\",\"Clsprc\",\"Indcd\",\"csmar_listedcoinfo.OWNERSHIPTYPE\",\"Markettype\",\"Sctcd\"]\n",
    "# \n",
    "# uselessDeletedDf=allData[[i for i in allData.columns if i not in deleteColumns and i not in uselessColumns]]\n",
    "# uselessDeletedDf=uselessDeletedDf.dropna()\n",
    "# uselessDeletedDf"
   ],
   "metadata": {
    "collapsed": false
   }
  },
  {
   "cell_type": "code",
   "execution_count": null,
   "outputs": [],
   "source": [
    "###查看并确定目前的数据类型\n",
    "# print(\"占有类型： \",uselessDeletedDf[\"OWNERSHIPTYPE\"].unique())\n",
    "# print(\"财产类型：\",uselessDeletedDf[\"csmar_listedcoinfo.EquityNature\"].unique())\n",
    "# print(\"产业类型：\",uselessDeletedDf[\"Indnme\"].unique())\n",
    "# print(\"产业细分1：\",uselessDeletedDf[\"Nindnme\"].unique())\n",
    "# print(\"产业细分2：\",uselessDeletedDf[\"Nnindnme\"].unique())\n",
    "# print(\"公司所在地区：\",uselessDeletedDf[\"CITY\"].unique())"
   ],
   "metadata": {
    "collapsed": false
   }
  },
  {
   "cell_type": "code",
   "execution_count": null,
   "outputs": [],
   "source": [
    "# uselessDeletedDf.to_csv(\"stockData/furtherInformation/Input.csv\",index=False)"
   ],
   "metadata": {
    "collapsed": false
   }
  },
  {
   "cell_type": "markdown",
   "source": [
    "# 数据转换 与 回归"
   ],
   "metadata": {
    "collapsed": false
   }
  },
  {
   "cell_type": "code",
   "execution_count": null,
   "outputs": [],
   "source": [
    "uselessDeletedDf=pd.read_csv(\"stockData/furtherInformation/Input.csv\")"
   ],
   "metadata": {
    "collapsed": false
   }
  },
  {
   "cell_type": "code",
   "execution_count": null,
   "outputs": [],
   "source": [
    "### 使用onehot 与 lable转换一些数据\n",
    "from datetime import datetime\n",
    "from sklearn.preprocessing import LabelEncoder, OrdinalEncoder, OneHotEncoder\n",
    "uselessDeletedDf['Trddt']=pd.to_datetime(uselessDeletedDf[\"Trddt\"], format=\"%Y-%m-%d\")\n",
    "start = datetime(2019, 1, 1)\n",
    "end = datetime(2019, 6, 1)\n",
    "uselessDeletedDf=uselessDeletedDf[(uselessDeletedDf['Trddt'] < end) | (uselessDeletedDf['Trddt'] > start)]\n",
    "###增加一个季度变量\n",
    "lableEncoder=LabelEncoder()\n",
    "uselessDeletedDf['Quarter']=[dateToQuarter(i)[1] for i in uselessDeletedDf['Trddt'].values]\n",
    "Trddt_lable=lableEncoder.fit_transform([[x] for x in uselessDeletedDf['Trddt'].values])\n",
    "uselessDeletedDf['Trddt']=Trddt_lable\n",
    "# Stkcd_lable=lableEncoder.fit_transform([[x] for x in uselessDeletedDf['Stkcd'].values])\n",
    "# uselessDeletedDf['Stkcd']=Trddt_lable\n",
    "\n",
    "encoder = OneHotEncoder(sparse=False)\n",
    "OWNERSHIPTYPE_onehot = encoder.fit_transform([[x] for x in uselessDeletedDf['OWNERSHIPTYPE'].values])\n",
    "EquityNature_onehot = encoder.fit_transform([[x] for x in uselessDeletedDf['csmar_listedcoinfo.EquityNature'].values])\n",
    "Indnme_onehot = encoder.fit_transform([[x] for x in uselessDeletedDf['Indnme'].values])\n",
    "Nindnme_onehot = encoder.fit_transform([[x] for x in uselessDeletedDf['Nindnme'].values])\n",
    "Nnindnme_onehot = encoder.fit_transform([[x] for x in uselessDeletedDf['Nnindnme'].values])\n",
    "CITY_onehot = encoder.fit_transform([[x] for x in uselessDeletedDf['CITY'].values])\n",
    "# uselessDeletedDf['Stkcd']=uselessDeletedDf['Stkcd'].astype(int)\n",
    "# Stkcd_onehot = encoder.fit_transform([[x] for x in uselessDeletedDf['Stkcd'].values])\n",
    "# Stkcd_onehot"
   ],
   "metadata": {
    "collapsed": false
   }
  },
  {
   "cell_type": "code",
   "execution_count": null,
   "outputs": [],
   "source": [
    "def addColumnToDataFrame(name:str, theArray, theDataFrame=uselessDeletedDf):\n",
    "    theDict={}\n",
    "    thelist = [[r[col] for r in theArray] for col in range(len(theArray[0]))]\n",
    "    # print(f\"{name} column: {len(thelist)}\")\n",
    "    # print(f\"{name} row: {[len(a) for a in Color_onehot][0]}\")\n",
    "    numOfColumn = 0\n",
    "    for column in thelist:\n",
    "        theDict[name + str(numOfColumn)] = column\n",
    "        numOfColumn += 1\n",
    "    newDF=pd.DataFrame.from_dict(theDict)\n",
    "    theDataFrame=pd.concat([theDataFrame,newDF])\n",
    "    # return theDataFrame"
   ],
   "metadata": {
    "collapsed": false
   }
  },
  {
   "cell_type": "code",
   "execution_count": null,
   "outputs": [],
   "source": [
    "addColumnToDataFrame('OWNERSHIPTYPE',OWNERSHIPTYPE_onehot)\n",
    "addColumnToDataFrame('csmar_listedcoinfo.EquityNature',EquityNature_onehot)\n",
    "addColumnToDataFrame('Indnme',Indnme_onehot)\n",
    "addColumnToDataFrame('Nindnme',Nindnme_onehot)\n",
    "addColumnToDataFrame('Nnindnme',Nnindnme_onehot)\n",
    "addColumnToDataFrame('CITY',CITY_onehot)\n",
    "# addColumnToDataFrame('Stkcd',Stkcd_onehot)\n",
    "uselessDeletedDf=uselessDeletedDf.drop(columns=['OWNERSHIPTYPE','csmar_listedcoinfo.EquityNature','Indnme','Nindnme','Nnindnme','CITY','Stkcd'])\n",
    "uselessDeletedDf"
   ],
   "metadata": {
    "collapsed": false
   }
  },
  {
   "cell_type": "code",
   "execution_count": null,
   "outputs": [],
   "source": [
    "from sklearn.model_selection import train_test_split\n",
    "\n",
    "### train & test data\n",
    "Y=uselessDeletedDf['ChangeRatio']\n",
    "X=uselessDeletedDf.drop(columns='ChangeRatio')\n",
    "x_train , x_test , y_train , y_test = train_test_split(X,Y , test_size= 0.3 ,random_state=42)"
   ],
   "metadata": {
    "collapsed": false
   }
  },
  {
   "cell_type": "markdown",
   "source": [
    "## Linear Regression"
   ],
   "metadata": {
    "collapsed": false
   }
  },
  {
   "cell_type": "code",
   "execution_count": null,
   "outputs": [],
   "source": [
    "from sklearn.linear_model import LinearRegression\n",
    "\n",
    "linear_regressor = LinearRegression()\n",
    "linear_regressor.fit(x_train, y_train)"
   ],
   "metadata": {
    "collapsed": false
   }
  },
  {
   "cell_type": "code",
   "execution_count": null,
   "outputs": [],
   "source": [
    "y_pred = linear_regressor.predict(x_test)\n",
    "y_trainPredicted=linear_regressor.predict(x_train[-3000:])\n",
    "LR = pd.DataFrame({'y_test':y_test,'y_pred':y_pred})\n",
    "LR"
   ],
   "metadata": {
    "collapsed": false
   }
  },
  {
   "cell_type": "code",
   "execution_count": null,
   "outputs": [],
   "source": [
    "from matplotlib import pyplot as plt\n",
    "\n",
    "plt.figure(figsize=(12,8))\n",
    "plt.plot(LR[:50])\n",
    "plt.legend(['Actual' , 'Predicted'])"
   ],
   "metadata": {
    "collapsed": false
   }
  }
 ],
 "metadata": {
  "kernelspec": {
   "display_name": "Python 3",
   "language": "python",
   "name": "python3"
  },
  "language_info": {
   "codemirror_mode": {
    "name": "ipython",
    "version": 2
   },
   "file_extension": ".py",
   "mimetype": "text/x-python",
   "name": "python",
   "nbconvert_exporter": "python",
   "pygments_lexer": "ipython2",
   "version": "2.7.6"
  }
 },
 "nbformat": 4,
 "nbformat_minor": 0
}
