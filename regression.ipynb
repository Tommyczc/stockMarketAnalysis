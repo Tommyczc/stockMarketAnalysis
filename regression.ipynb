{
 "cells": [
  {
   "cell_type": "markdown",
   "source": [
    "# 合并表格"
   ],
   "metadata": {
    "collapsed": false
   }
  },
  {
   "cell_type": "code",
   "execution_count": 1,
   "outputs": [],
   "source": [
    "import numpy as np\n",
    "import pandas as pd\n",
    "\n",
    "# ### 读取\n",
    "# trd_dalyr0=pd.read_excel(\"stockData/furtherInformation/日个股回报率文件185043337(仅供中央财经大学使用)/TRD_Dalyr.xlsx\")\n",
    "# trd_dalyr0=trd_dalyr0.drop([0,1],axis=0)\n",
    "# trd_dalyr1=pd.read_excel(\"stockData/furtherInformation/日个股回报率文件185043337(仅供中央财经大学使用)/TRD_Dalyr1.xlsx\")\n",
    "# trd_dalyr1=trd_dalyr1.drop([0,1],axis=0)\n",
    "# trd_dalyr2=pd.read_excel(\"stockData/furtherInformation/日个股回报率文件185043337(仅供中央财经大学使用)/TRD_Dalyr2.xlsx\")\n",
    "# trd_dalyr2=trd_dalyr2.drop([0,1],axis=0)\n",
    "# trd_dalyr3=pd.read_excel(\"stockData/furtherInformation/日个股回报率文件185043337(仅供中央财经大学使用)/TRD_Dalyr3.xlsx\")\n",
    "# trd_dalyr3=trd_dalyr3.drop([0,1],axis=0)\n",
    "# trd_dalyr4=pd.read_excel(\"stockData/furtherInformation/日个股回报率文件185043337(仅供中央财经大学使用)/TRD_Dalyr4.xlsx\")\n",
    "# trd_dalyr4=trd_dalyr4.drop([0,1],axis=0)\n",
    "# diaryData=[trd_dalyr0,trd_dalyr1,trd_dalyr2,trd_dalyr3,trd_dalyr4]\n",
    "# finalDF=pd.concat(diaryData)\n",
    "# finalDF"
   ],
   "metadata": {
    "collapsed": false,
    "ExecuteTime": {
     "end_time": "2023-08-25T18:17:30.841361200Z",
     "start_time": "2023-08-25T18:17:30.424522300Z"
    }
   }
  },
  {
   "cell_type": "code",
   "execution_count": 2,
   "outputs": [],
   "source": [
    "# companyData=pd.read_excel(\"stockData/furtherInformation/公司文件184301535(仅供中央财经大学使用)/TRD_Co.xlsx\")\n",
    "# companyData=companyData.drop([0,1],axis=0)\n",
    "# companyData"
   ],
   "metadata": {
    "collapsed": false,
    "ExecuteTime": {
     "end_time": "2023-08-25T18:17:30.857349800Z",
     "start_time": "2023-08-25T18:17:30.842359200Z"
    }
   }
  },
  {
   "cell_type": "code",
   "execution_count": 3,
   "outputs": [],
   "source": [
    "# companyAssetData=pd.read_excel(\"stockData/furtherInformation/资产负债表(联表查询)181028530/FS_Combas(Merge Query).xlsx\")\n",
    "# companyAssetData=companyAssetData.drop([0,1],axis=0)\n",
    "# companyAssetData"
   ],
   "metadata": {
    "collapsed": false,
    "ExecuteTime": {
     "end_time": "2023-08-25T18:17:30.882306800Z",
     "start_time": "2023-08-25T18:17:30.857349800Z"
    }
   }
  },
  {
   "cell_type": "code",
   "execution_count": 4,
   "outputs": [],
   "source": [
    "# ### 去除b部分\n",
    "# companyAssetData=companyAssetData[companyAssetData[\"FS_Combas.Typrep\"]!=\"B\"]\n",
    "# companyAssetData=companyAssetData.reindex()\n",
    "# ### 去除12-31，因为与1-1有重复\n",
    "# companyAssetData=companyAssetData[companyAssetData['FS_Combas.Accper'].str.contains(\"01-01|03-31|06-30|09-30\")]\n",
    "# companyAssetData['FS_Combas.Accper']=pd.to_datetime(companyAssetData['FS_Combas.Accper'], format=\"%Y-%m-%d\")\n",
    "# \n",
    "# companyAssetData=companyAssetData.rename(columns={\"FS_Combas.Stkcd\":\"Stkcd\",\"FS_Combas.Accper\":\"Trddt_quarter\"})\n",
    "# companyAssetData"
   ],
   "metadata": {
    "collapsed": false,
    "ExecuteTime": {
     "end_time": "2023-08-25T18:17:30.895271600Z",
     "start_time": "2023-08-25T18:17:30.875325Z"
    }
   }
  },
  {
   "cell_type": "code",
   "execution_count": 5,
   "outputs": [],
   "source": [
    "# ### todo：开始合并 日个股回报与公司信息\n",
    "# df=pd.merge(finalDF,companyData,on='Stkcd')\n",
    "# df['Trddt']=pd.to_datetime(df[\"Trddt\"], format=\"%Y-%m-%d\")\n",
    "# df"
   ],
   "metadata": {
    "collapsed": false,
    "ExecuteTime": {
     "end_time": "2023-08-25T18:17:30.907239600Z",
     "start_time": "2023-08-25T18:17:30.888290800Z"
    }
   }
  },
  {
   "cell_type": "code",
   "execution_count": 6,
   "outputs": [],
   "source": [
    "# ###转换时间为季度\n",
    "# def dateToQuarter(date):\n",
    "#         # print(\"time: \",date)\n",
    "#         quarter_date={1:\"01-01\",2:\"03-31\",3:\"06-30\",4:\"09-30\"}\n",
    "#         year=date.astype('datetime64[Y]').astype(int) + 1970\n",
    "#         month = date.astype('datetime64[M]').astype(int) % 12 + 1\n",
    "#         the_quarter = (month - 1) // 3 + 1                  #计算季度\n",
    "#         quarter_name = str(year) + '年' + str(the_quarter) + '季度'\n",
    "#         quarter_name_short = str(year) + 'Q' + str(the_quarter)\n",
    "#         # print(\"quarter time: \",quarter_name)\n",
    "#         return str(year)+\"-\"+quarter_date[the_quarter]\n",
    "# \n",
    "# # dateToQuarter(numpy.datetime64(\"2020-04-30\"))"
   ],
   "metadata": {
    "collapsed": false,
    "ExecuteTime": {
     "end_time": "2023-08-25T18:17:30.928184300Z",
     "start_time": "2023-08-25T18:17:30.905245200Z"
    }
   }
  },
  {
   "cell_type": "code",
   "execution_count": 7,
   "outputs": [],
   "source": [
    "# df[\"Trddt_quarter\"]=[dateToQuarter(i) for i in df['Trddt'].values]\n",
    "# df[\"Trddt_quarter\"]=pd.to_datetime(df[\"Trddt_quarter\"], format=\"%Y-%m-%d\")\n",
    "# df"
   ],
   "metadata": {
    "collapsed": false,
    "ExecuteTime": {
     "end_time": "2023-08-25T18:17:30.936164300Z",
     "start_time": "2023-08-25T18:17:30.917213500Z"
    }
   }
  },
  {
   "cell_type": "code",
   "execution_count": 8,
   "outputs": [],
   "source": [
    "# ###todo：根据季度与股票代码合并之前的总表与资产负债表\n",
    "# allData=pd.merge(df,companyAssetData,on=[\"Stkcd\",'Trddt_quarter'],how='outer')\n",
    "# # allData['Stkcd']=allData['Stkcd'].astype(str)\n",
    "# allData"
   ],
   "metadata": {
    "collapsed": false,
    "ExecuteTime": {
     "end_time": "2023-08-25T18:17:30.949128500Z",
     "start_time": "2023-08-25T18:17:30.934167200Z"
    }
   }
  },
  {
   "cell_type": "code",
   "execution_count": 9,
   "outputs": [],
   "source": [
    "# allData.to_csv(\"stockData/furtherInformation/AllData.csv\")"
   ],
   "metadata": {
    "collapsed": false,
    "ExecuteTime": {
     "end_time": "2023-08-25T18:17:30.976055500Z",
     "start_time": "2023-08-25T18:17:30.952121900Z"
    }
   }
  },
  {
   "cell_type": "markdown",
   "source": [
    "# 数据去重，并且删除部分缺失值"
   ],
   "metadata": {
    "collapsed": false
   }
  },
  {
   "cell_type": "code",
   "execution_count": 10,
   "outputs": [
    {
     "data": {
      "text/plain": "          Stkcd       Trddt Opnprc Hiprc Loprc Clsprc ChangeRatio Stknme  \\\n0        000001  2019-01-02   9.39  9.42  9.16   9.19   -0.020256   平安银行   \n1        000001  2019-01-03   9.18  9.33  9.15   9.28    0.009793   平安银行   \n2        000001  2019-01-04   9.24  9.82  9.22   9.75    0.050647   平安银行   \n3        000001  2019-01-07   9.84  9.85  9.63   9.74   -0.001026   平安银行   \n4        000001  2019-01-08   9.73  9.74  9.62   9.66   -0.008214   平安银行   \n...         ...         ...    ...   ...   ...    ...         ...    ...   \n5000407  900957         NaN    NaN   NaN   NaN    NaN         NaN    NaN   \n5000408  900957         NaN    NaN   NaN   NaN    NaN         NaN    NaN   \n5000409  900957         NaN    NaN   NaN   NaN    NaN         NaN    NaN   \n5000410  900957         NaN    NaN   NaN   NaN    NaN         NaN    NaN   \n5000411  900957         NaN    NaN   NaN   NaN    NaN         NaN    NaN   \n\n             Listdt Cuntrycd  ... FS_Comins.B001200000 FS_Comins.B001209000  \\\n0        1991-04-03       10  ...          36540000000                  NaN   \n1        1991-04-03       10  ...          36540000000                  NaN   \n2        1991-04-03       10  ...          36540000000                  NaN   \n3        1991-04-03       10  ...          36540000000                  NaN   \n4        1991-04-03       10  ...          36540000000                  NaN   \n...             ...      ...  ...                  ...                  ...   \n5000407         NaN      NaN  ...          81882874.95                  NaN   \n5000408         NaN      NaN  ...          63733263.62                  NaN   \n5000409         NaN      NaN  ...          42807516.31                  NaN   \n5000410         NaN      NaN  ...          20546598.07                  NaN   \n5000411         NaN      NaN  ...          88668327.37                  NaN   \n\n        FS_Comins.B001210000 FS_Comins.B001211000 FS_Comins.B002000000  \\\n0                        NaN                  NaN          24818000000   \n1                        NaN                  NaN          24818000000   \n2                        NaN                  NaN          24818000000   \n3                        NaN                  NaN          24818000000   \n4                        NaN                  NaN          24818000000   \n...                      ...                  ...                  ...   \n5000407            7907748.5           38843715.6          30015892.98   \n5000408           5426585.84           28900349.1          18224007.47   \n5000409           3942872.92          18888703.28          11187154.83   \n5000410           1442184.13            9134941.6           5324024.45   \n5000411           8761403.72          43509182.37           3022152.74   \n\n        FS_Comins.ShortName FS_Comscfd.C001000000 FS_Comscfd.C002000000  \\\n0                      平安银行          -57323000000           61382000000   \n1                      平安银行          -57323000000           61382000000   \n2                      平安银行          -57323000000           61382000000   \n3                      平安银行          -57323000000           61382000000   \n4                      平安银行          -57323000000           61382000000   \n...                     ...                   ...                   ...   \n5000407                凌云B股          133876680.38             -10129431   \n5000408                凌云B股           17675525.34             -21115.35   \n5000409                凌云B股            8837480.07                 -9688   \n5000410                凌云B股           -3067349.05               -500000   \n5000411                凌云B股           13307848.99           -8427627.34   \n\n        FS_Comscfd.C003000000 FS_Comscfd.ShortName  \n0                 19021000000                 平安银行  \n1                 19021000000                 平安银行  \n2                 19021000000                 平安银行  \n3                 19021000000                 平安银行  \n4                 19021000000                 平安银行  \n...                       ...                  ...  \n5000407          -83419306.44                 凌云B股  \n5000408          -31465040.73                 凌云B股  \n5000409          -20944609.18                 凌云B股  \n5000410          -10836179.78                 凌云B股  \n5000411            5369730.03                 凌云B股  \n\n[5000412 rows x 69 columns]",
      "text/html": "<div>\n<style scoped>\n    .dataframe tbody tr th:only-of-type {\n        vertical-align: middle;\n    }\n\n    .dataframe tbody tr th {\n        vertical-align: top;\n    }\n\n    .dataframe thead th {\n        text-align: right;\n    }\n</style>\n<table border=\"1\" class=\"dataframe\">\n  <thead>\n    <tr style=\"text-align: right;\">\n      <th></th>\n      <th>Stkcd</th>\n      <th>Trddt</th>\n      <th>Opnprc</th>\n      <th>Hiprc</th>\n      <th>Loprc</th>\n      <th>Clsprc</th>\n      <th>ChangeRatio</th>\n      <th>Stknme</th>\n      <th>Listdt</th>\n      <th>Cuntrycd</th>\n      <th>...</th>\n      <th>FS_Comins.B001200000</th>\n      <th>FS_Comins.B001209000</th>\n      <th>FS_Comins.B001210000</th>\n      <th>FS_Comins.B001211000</th>\n      <th>FS_Comins.B002000000</th>\n      <th>FS_Comins.ShortName</th>\n      <th>FS_Comscfd.C001000000</th>\n      <th>FS_Comscfd.C002000000</th>\n      <th>FS_Comscfd.C003000000</th>\n      <th>FS_Comscfd.ShortName</th>\n    </tr>\n  </thead>\n  <tbody>\n    <tr>\n      <th>0</th>\n      <td>000001</td>\n      <td>2019-01-02</td>\n      <td>9.39</td>\n      <td>9.42</td>\n      <td>9.16</td>\n      <td>9.19</td>\n      <td>-0.020256</td>\n      <td>平安银行</td>\n      <td>1991-04-03</td>\n      <td>10</td>\n      <td>...</td>\n      <td>36540000000</td>\n      <td>NaN</td>\n      <td>NaN</td>\n      <td>NaN</td>\n      <td>24818000000</td>\n      <td>平安银行</td>\n      <td>-57323000000</td>\n      <td>61382000000</td>\n      <td>19021000000</td>\n      <td>平安银行</td>\n    </tr>\n    <tr>\n      <th>1</th>\n      <td>000001</td>\n      <td>2019-01-03</td>\n      <td>9.18</td>\n      <td>9.33</td>\n      <td>9.15</td>\n      <td>9.28</td>\n      <td>0.009793</td>\n      <td>平安银行</td>\n      <td>1991-04-03</td>\n      <td>10</td>\n      <td>...</td>\n      <td>36540000000</td>\n      <td>NaN</td>\n      <td>NaN</td>\n      <td>NaN</td>\n      <td>24818000000</td>\n      <td>平安银行</td>\n      <td>-57323000000</td>\n      <td>61382000000</td>\n      <td>19021000000</td>\n      <td>平安银行</td>\n    </tr>\n    <tr>\n      <th>2</th>\n      <td>000001</td>\n      <td>2019-01-04</td>\n      <td>9.24</td>\n      <td>9.82</td>\n      <td>9.22</td>\n      <td>9.75</td>\n      <td>0.050647</td>\n      <td>平安银行</td>\n      <td>1991-04-03</td>\n      <td>10</td>\n      <td>...</td>\n      <td>36540000000</td>\n      <td>NaN</td>\n      <td>NaN</td>\n      <td>NaN</td>\n      <td>24818000000</td>\n      <td>平安银行</td>\n      <td>-57323000000</td>\n      <td>61382000000</td>\n      <td>19021000000</td>\n      <td>平安银行</td>\n    </tr>\n    <tr>\n      <th>3</th>\n      <td>000001</td>\n      <td>2019-01-07</td>\n      <td>9.84</td>\n      <td>9.85</td>\n      <td>9.63</td>\n      <td>9.74</td>\n      <td>-0.001026</td>\n      <td>平安银行</td>\n      <td>1991-04-03</td>\n      <td>10</td>\n      <td>...</td>\n      <td>36540000000</td>\n      <td>NaN</td>\n      <td>NaN</td>\n      <td>NaN</td>\n      <td>24818000000</td>\n      <td>平安银行</td>\n      <td>-57323000000</td>\n      <td>61382000000</td>\n      <td>19021000000</td>\n      <td>平安银行</td>\n    </tr>\n    <tr>\n      <th>4</th>\n      <td>000001</td>\n      <td>2019-01-08</td>\n      <td>9.73</td>\n      <td>9.74</td>\n      <td>9.62</td>\n      <td>9.66</td>\n      <td>-0.008214</td>\n      <td>平安银行</td>\n      <td>1991-04-03</td>\n      <td>10</td>\n      <td>...</td>\n      <td>36540000000</td>\n      <td>NaN</td>\n      <td>NaN</td>\n      <td>NaN</td>\n      <td>24818000000</td>\n      <td>平安银行</td>\n      <td>-57323000000</td>\n      <td>61382000000</td>\n      <td>19021000000</td>\n      <td>平安银行</td>\n    </tr>\n    <tr>\n      <th>...</th>\n      <td>...</td>\n      <td>...</td>\n      <td>...</td>\n      <td>...</td>\n      <td>...</td>\n      <td>...</td>\n      <td>...</td>\n      <td>...</td>\n      <td>...</td>\n      <td>...</td>\n      <td>...</td>\n      <td>...</td>\n      <td>...</td>\n      <td>...</td>\n      <td>...</td>\n      <td>...</td>\n      <td>...</td>\n      <td>...</td>\n      <td>...</td>\n      <td>...</td>\n      <td>...</td>\n    </tr>\n    <tr>\n      <th>5000407</th>\n      <td>900957</td>\n      <td>NaN</td>\n      <td>NaN</td>\n      <td>NaN</td>\n      <td>NaN</td>\n      <td>NaN</td>\n      <td>NaN</td>\n      <td>NaN</td>\n      <td>NaN</td>\n      <td>NaN</td>\n      <td>...</td>\n      <td>81882874.95</td>\n      <td>NaN</td>\n      <td>7907748.5</td>\n      <td>38843715.6</td>\n      <td>30015892.98</td>\n      <td>凌云B股</td>\n      <td>133876680.38</td>\n      <td>-10129431</td>\n      <td>-83419306.44</td>\n      <td>凌云B股</td>\n    </tr>\n    <tr>\n      <th>5000408</th>\n      <td>900957</td>\n      <td>NaN</td>\n      <td>NaN</td>\n      <td>NaN</td>\n      <td>NaN</td>\n      <td>NaN</td>\n      <td>NaN</td>\n      <td>NaN</td>\n      <td>NaN</td>\n      <td>NaN</td>\n      <td>...</td>\n      <td>63733263.62</td>\n      <td>NaN</td>\n      <td>5426585.84</td>\n      <td>28900349.1</td>\n      <td>18224007.47</td>\n      <td>凌云B股</td>\n      <td>17675525.34</td>\n      <td>-21115.35</td>\n      <td>-31465040.73</td>\n      <td>凌云B股</td>\n    </tr>\n    <tr>\n      <th>5000409</th>\n      <td>900957</td>\n      <td>NaN</td>\n      <td>NaN</td>\n      <td>NaN</td>\n      <td>NaN</td>\n      <td>NaN</td>\n      <td>NaN</td>\n      <td>NaN</td>\n      <td>NaN</td>\n      <td>NaN</td>\n      <td>...</td>\n      <td>42807516.31</td>\n      <td>NaN</td>\n      <td>3942872.92</td>\n      <td>18888703.28</td>\n      <td>11187154.83</td>\n      <td>凌云B股</td>\n      <td>8837480.07</td>\n      <td>-9688</td>\n      <td>-20944609.18</td>\n      <td>凌云B股</td>\n    </tr>\n    <tr>\n      <th>5000410</th>\n      <td>900957</td>\n      <td>NaN</td>\n      <td>NaN</td>\n      <td>NaN</td>\n      <td>NaN</td>\n      <td>NaN</td>\n      <td>NaN</td>\n      <td>NaN</td>\n      <td>NaN</td>\n      <td>NaN</td>\n      <td>...</td>\n      <td>20546598.07</td>\n      <td>NaN</td>\n      <td>1442184.13</td>\n      <td>9134941.6</td>\n      <td>5324024.45</td>\n      <td>凌云B股</td>\n      <td>-3067349.05</td>\n      <td>-500000</td>\n      <td>-10836179.78</td>\n      <td>凌云B股</td>\n    </tr>\n    <tr>\n      <th>5000411</th>\n      <td>900957</td>\n      <td>NaN</td>\n      <td>NaN</td>\n      <td>NaN</td>\n      <td>NaN</td>\n      <td>NaN</td>\n      <td>NaN</td>\n      <td>NaN</td>\n      <td>NaN</td>\n      <td>NaN</td>\n      <td>...</td>\n      <td>88668327.37</td>\n      <td>NaN</td>\n      <td>8761403.72</td>\n      <td>43509182.37</td>\n      <td>3022152.74</td>\n      <td>凌云B股</td>\n      <td>13307848.99</td>\n      <td>-8427627.34</td>\n      <td>5369730.03</td>\n      <td>凌云B股</td>\n    </tr>\n  </tbody>\n</table>\n<p>5000412 rows × 69 columns</p>\n</div>"
     },
     "execution_count": 10,
     "metadata": {},
     "output_type": "execute_result"
    }
   ],
   "source": [
    "allData=pd.read_csv(\"stockData/furtherInformation/AllData.csv\",index_col=0,dtype=object)\n",
    "allData"
   ],
   "metadata": {
    "collapsed": false,
    "ExecuteTime": {
     "end_time": "2023-08-25T18:18:54.921939Z",
     "start_time": "2023-08-25T18:17:30.968078900Z"
    }
   }
  },
  {
   "cell_type": "code",
   "execution_count": 11,
   "outputs": [
    {
     "data": {
      "text/plain": "          Stkcd       Trddt Opnprc Hiprc Loprc Clsprc ChangeRatio Stknme  \\\n0        000001  2019-01-02   9.39  9.42  9.16   9.19   -0.020256   平安银行   \n1        000001  2019-01-03   9.18  9.33  9.15   9.28    0.009793   平安银行   \n2        000001  2019-01-04   9.24  9.82  9.22   9.75    0.050647   平安银行   \n3        000001  2019-01-07   9.84  9.85  9.63   9.74   -0.001026   平安银行   \n4        000001  2019-01-08   9.73  9.74  9.62   9.66   -0.008214   平安银行   \n...         ...         ...    ...   ...   ...    ...         ...    ...   \n5000407  900957         NaN    NaN   NaN   NaN    NaN         NaN    NaN   \n5000408  900957         NaN    NaN   NaN   NaN    NaN         NaN    NaN   \n5000409  900957         NaN    NaN   NaN   NaN    NaN         NaN    NaN   \n5000410  900957         NaN    NaN   NaN   NaN    NaN         NaN    NaN   \n5000411  900957         NaN    NaN   NaN   NaN    NaN         NaN    NaN   \n\n             Listdt Cuntrycd  ...  \\\n0        1991-04-03       10  ...   \n1        1991-04-03       10  ...   \n2        1991-04-03       10  ...   \n3        1991-04-03       10  ...   \n4        1991-04-03       10  ...   \n...             ...      ...  ...   \n5000407         NaN      NaN  ...   \n5000408         NaN      NaN  ...   \n5000409         NaN      NaN  ...   \n5000410         NaN      NaN  ...   \n5000411         NaN      NaN  ...   \n\n                         csmar_listedcoinfo.BUSSINESSRANGE  \\\n0        办理人民币存、贷、结算、汇兑业务；人民币票据承兑和贴现；各项信托业务；经监管机构批准发行或买...   \n1        办理人民币存、贷、结算、汇兑业务；人民币票据承兑和贴现；各项信托业务；经监管机构批准发行或买...   \n2        办理人民币存、贷、结算、汇兑业务；人民币票据承兑和贴现；各项信托业务；经监管机构批准发行或买...   \n3        办理人民币存、贷、结算、汇兑业务；人民币票据承兑和贴现；各项信托业务；经监管机构批准发行或买...   \n4        办理人民币存、贷、结算、汇兑业务；人民币票据承兑和贴现；各项信托业务；经监管机构批准发行或买...   \n...                                                    ...   \n5000407  旅游景点开发、旅游基础设施的建设、综合开发业务；房地产开发及商品房销售、物业管理；相关的咨询...   \n5000408  旅游景点开发、旅游基础设施的建设、综合开发业务；房地产开发及商品房销售、物业管理；相关的咨询...   \n5000409  旅游景点开发、旅游基础设施的建设、综合开发业务；房地产开发及商品房销售、物业管理；相关的咨询...   \n5000410  旅游景点开发、旅游基础设施的建设、综合开发业务；房地产开发及商品房销售、物业管理；相关的咨询...   \n5000411  旅游景点开发、旅游基础设施的建设、综合开发业务；房地产开发及商品房销售、物业管理；相关的咨询...   \n\n        FS_Comins.B001100000 FS_Comins.B001200000 FS_Comins.B001209000  \\\n0               106212000000          36540000000                  NaN   \n1               106212000000          36540000000                  NaN   \n2               106212000000          36540000000                  NaN   \n3               106212000000          36540000000                  NaN   \n4               106212000000          36540000000                  NaN   \n...                      ...                  ...                  ...   \n5000407          98113165.84          81882874.95                  NaN   \n5000408          75804279.65          63733263.62                  NaN   \n5000409          49636293.55          42807516.31                  NaN   \n5000410          22751337.48          20546598.07                  NaN   \n5000411          80629953.84          88668327.37                  NaN   \n\n        FS_Comins.B001210000 FS_Comins.B001211000 FS_Comins.B002000000  \\\n0                        NaN                  NaN          24818000000   \n1                        NaN                  NaN          24818000000   \n2                        NaN                  NaN          24818000000   \n3                        NaN                  NaN          24818000000   \n4                        NaN                  NaN          24818000000   \n...                      ...                  ...                  ...   \n5000407            7907748.5           38843715.6          30015892.98   \n5000408           5426585.84           28900349.1          18224007.47   \n5000409           3942872.92          18888703.28          11187154.83   \n5000410           1442184.13            9134941.6           5324024.45   \n5000411           8761403.72          43509182.37           3022152.74   \n\n        FS_Comscfd.C001000000 FS_Comscfd.C002000000 FS_Comscfd.C003000000  \n0                -57323000000           61382000000           19021000000  \n1                -57323000000           61382000000           19021000000  \n2                -57323000000           61382000000           19021000000  \n3                -57323000000           61382000000           19021000000  \n4                -57323000000           61382000000           19021000000  \n...                       ...                   ...                   ...  \n5000407          133876680.38             -10129431          -83419306.44  \n5000408           17675525.34             -21115.35          -31465040.73  \n5000409            8837480.07                 -9688          -20944609.18  \n5000410           -3067349.05               -500000          -10836179.78  \n5000411           13307848.99           -8427627.34            5369730.03  \n\n[5000412 rows x 57 columns]",
      "text/html": "<div>\n<style scoped>\n    .dataframe tbody tr th:only-of-type {\n        vertical-align: middle;\n    }\n\n    .dataframe tbody tr th {\n        vertical-align: top;\n    }\n\n    .dataframe thead th {\n        text-align: right;\n    }\n</style>\n<table border=\"1\" class=\"dataframe\">\n  <thead>\n    <tr style=\"text-align: right;\">\n      <th></th>\n      <th>Stkcd</th>\n      <th>Trddt</th>\n      <th>Opnprc</th>\n      <th>Hiprc</th>\n      <th>Loprc</th>\n      <th>Clsprc</th>\n      <th>ChangeRatio</th>\n      <th>Stknme</th>\n      <th>Listdt</th>\n      <th>Cuntrycd</th>\n      <th>...</th>\n      <th>csmar_listedcoinfo.BUSSINESSRANGE</th>\n      <th>FS_Comins.B001100000</th>\n      <th>FS_Comins.B001200000</th>\n      <th>FS_Comins.B001209000</th>\n      <th>FS_Comins.B001210000</th>\n      <th>FS_Comins.B001211000</th>\n      <th>FS_Comins.B002000000</th>\n      <th>FS_Comscfd.C001000000</th>\n      <th>FS_Comscfd.C002000000</th>\n      <th>FS_Comscfd.C003000000</th>\n    </tr>\n  </thead>\n  <tbody>\n    <tr>\n      <th>0</th>\n      <td>000001</td>\n      <td>2019-01-02</td>\n      <td>9.39</td>\n      <td>9.42</td>\n      <td>9.16</td>\n      <td>9.19</td>\n      <td>-0.020256</td>\n      <td>平安银行</td>\n      <td>1991-04-03</td>\n      <td>10</td>\n      <td>...</td>\n      <td>办理人民币存、贷、结算、汇兑业务；人民币票据承兑和贴现；各项信托业务；经监管机构批准发行或买...</td>\n      <td>106212000000</td>\n      <td>36540000000</td>\n      <td>NaN</td>\n      <td>NaN</td>\n      <td>NaN</td>\n      <td>24818000000</td>\n      <td>-57323000000</td>\n      <td>61382000000</td>\n      <td>19021000000</td>\n    </tr>\n    <tr>\n      <th>1</th>\n      <td>000001</td>\n      <td>2019-01-03</td>\n      <td>9.18</td>\n      <td>9.33</td>\n      <td>9.15</td>\n      <td>9.28</td>\n      <td>0.009793</td>\n      <td>平安银行</td>\n      <td>1991-04-03</td>\n      <td>10</td>\n      <td>...</td>\n      <td>办理人民币存、贷、结算、汇兑业务；人民币票据承兑和贴现；各项信托业务；经监管机构批准发行或买...</td>\n      <td>106212000000</td>\n      <td>36540000000</td>\n      <td>NaN</td>\n      <td>NaN</td>\n      <td>NaN</td>\n      <td>24818000000</td>\n      <td>-57323000000</td>\n      <td>61382000000</td>\n      <td>19021000000</td>\n    </tr>\n    <tr>\n      <th>2</th>\n      <td>000001</td>\n      <td>2019-01-04</td>\n      <td>9.24</td>\n      <td>9.82</td>\n      <td>9.22</td>\n      <td>9.75</td>\n      <td>0.050647</td>\n      <td>平安银行</td>\n      <td>1991-04-03</td>\n      <td>10</td>\n      <td>...</td>\n      <td>办理人民币存、贷、结算、汇兑业务；人民币票据承兑和贴现；各项信托业务；经监管机构批准发行或买...</td>\n      <td>106212000000</td>\n      <td>36540000000</td>\n      <td>NaN</td>\n      <td>NaN</td>\n      <td>NaN</td>\n      <td>24818000000</td>\n      <td>-57323000000</td>\n      <td>61382000000</td>\n      <td>19021000000</td>\n    </tr>\n    <tr>\n      <th>3</th>\n      <td>000001</td>\n      <td>2019-01-07</td>\n      <td>9.84</td>\n      <td>9.85</td>\n      <td>9.63</td>\n      <td>9.74</td>\n      <td>-0.001026</td>\n      <td>平安银行</td>\n      <td>1991-04-03</td>\n      <td>10</td>\n      <td>...</td>\n      <td>办理人民币存、贷、结算、汇兑业务；人民币票据承兑和贴现；各项信托业务；经监管机构批准发行或买...</td>\n      <td>106212000000</td>\n      <td>36540000000</td>\n      <td>NaN</td>\n      <td>NaN</td>\n      <td>NaN</td>\n      <td>24818000000</td>\n      <td>-57323000000</td>\n      <td>61382000000</td>\n      <td>19021000000</td>\n    </tr>\n    <tr>\n      <th>4</th>\n      <td>000001</td>\n      <td>2019-01-08</td>\n      <td>9.73</td>\n      <td>9.74</td>\n      <td>9.62</td>\n      <td>9.66</td>\n      <td>-0.008214</td>\n      <td>平安银行</td>\n      <td>1991-04-03</td>\n      <td>10</td>\n      <td>...</td>\n      <td>办理人民币存、贷、结算、汇兑业务；人民币票据承兑和贴现；各项信托业务；经监管机构批准发行或买...</td>\n      <td>106212000000</td>\n      <td>36540000000</td>\n      <td>NaN</td>\n      <td>NaN</td>\n      <td>NaN</td>\n      <td>24818000000</td>\n      <td>-57323000000</td>\n      <td>61382000000</td>\n      <td>19021000000</td>\n    </tr>\n    <tr>\n      <th>...</th>\n      <td>...</td>\n      <td>...</td>\n      <td>...</td>\n      <td>...</td>\n      <td>...</td>\n      <td>...</td>\n      <td>...</td>\n      <td>...</td>\n      <td>...</td>\n      <td>...</td>\n      <td>...</td>\n      <td>...</td>\n      <td>...</td>\n      <td>...</td>\n      <td>...</td>\n      <td>...</td>\n      <td>...</td>\n      <td>...</td>\n      <td>...</td>\n      <td>...</td>\n      <td>...</td>\n    </tr>\n    <tr>\n      <th>5000407</th>\n      <td>900957</td>\n      <td>NaN</td>\n      <td>NaN</td>\n      <td>NaN</td>\n      <td>NaN</td>\n      <td>NaN</td>\n      <td>NaN</td>\n      <td>NaN</td>\n      <td>NaN</td>\n      <td>NaN</td>\n      <td>...</td>\n      <td>旅游景点开发、旅游基础设施的建设、综合开发业务；房地产开发及商品房销售、物业管理；相关的咨询...</td>\n      <td>98113165.84</td>\n      <td>81882874.95</td>\n      <td>NaN</td>\n      <td>7907748.5</td>\n      <td>38843715.6</td>\n      <td>30015892.98</td>\n      <td>133876680.38</td>\n      <td>-10129431</td>\n      <td>-83419306.44</td>\n    </tr>\n    <tr>\n      <th>5000408</th>\n      <td>900957</td>\n      <td>NaN</td>\n      <td>NaN</td>\n      <td>NaN</td>\n      <td>NaN</td>\n      <td>NaN</td>\n      <td>NaN</td>\n      <td>NaN</td>\n      <td>NaN</td>\n      <td>NaN</td>\n      <td>...</td>\n      <td>旅游景点开发、旅游基础设施的建设、综合开发业务；房地产开发及商品房销售、物业管理；相关的咨询...</td>\n      <td>75804279.65</td>\n      <td>63733263.62</td>\n      <td>NaN</td>\n      <td>5426585.84</td>\n      <td>28900349.1</td>\n      <td>18224007.47</td>\n      <td>17675525.34</td>\n      <td>-21115.35</td>\n      <td>-31465040.73</td>\n    </tr>\n    <tr>\n      <th>5000409</th>\n      <td>900957</td>\n      <td>NaN</td>\n      <td>NaN</td>\n      <td>NaN</td>\n      <td>NaN</td>\n      <td>NaN</td>\n      <td>NaN</td>\n      <td>NaN</td>\n      <td>NaN</td>\n      <td>NaN</td>\n      <td>...</td>\n      <td>旅游景点开发、旅游基础设施的建设、综合开发业务；房地产开发及商品房销售、物业管理；相关的咨询...</td>\n      <td>49636293.55</td>\n      <td>42807516.31</td>\n      <td>NaN</td>\n      <td>3942872.92</td>\n      <td>18888703.28</td>\n      <td>11187154.83</td>\n      <td>8837480.07</td>\n      <td>-9688</td>\n      <td>-20944609.18</td>\n    </tr>\n    <tr>\n      <th>5000410</th>\n      <td>900957</td>\n      <td>NaN</td>\n      <td>NaN</td>\n      <td>NaN</td>\n      <td>NaN</td>\n      <td>NaN</td>\n      <td>NaN</td>\n      <td>NaN</td>\n      <td>NaN</td>\n      <td>NaN</td>\n      <td>...</td>\n      <td>旅游景点开发、旅游基础设施的建设、综合开发业务；房地产开发及商品房销售、物业管理；相关的咨询...</td>\n      <td>22751337.48</td>\n      <td>20546598.07</td>\n      <td>NaN</td>\n      <td>1442184.13</td>\n      <td>9134941.6</td>\n      <td>5324024.45</td>\n      <td>-3067349.05</td>\n      <td>-500000</td>\n      <td>-10836179.78</td>\n    </tr>\n    <tr>\n      <th>5000411</th>\n      <td>900957</td>\n      <td>NaN</td>\n      <td>NaN</td>\n      <td>NaN</td>\n      <td>NaN</td>\n      <td>NaN</td>\n      <td>NaN</td>\n      <td>NaN</td>\n      <td>NaN</td>\n      <td>NaN</td>\n      <td>...</td>\n      <td>旅游景点开发、旅游基础设施的建设、综合开发业务；房地产开发及商品房销售、物业管理；相关的咨询...</td>\n      <td>80629953.84</td>\n      <td>88668327.37</td>\n      <td>NaN</td>\n      <td>8761403.72</td>\n      <td>43509182.37</td>\n      <td>3022152.74</td>\n      <td>13307848.99</td>\n      <td>-8427627.34</td>\n      <td>5369730.03</td>\n    </tr>\n  </tbody>\n</table>\n<p>5000412 rows × 57 columns</p>\n</div>"
     },
     "execution_count": 11,
     "metadata": {},
     "output_type": "execute_result"
    }
   ],
   "source": [
    "###todo：要删除的重复列名\n",
    "deleteColumns=[\"Trddt_quarter\",\"FS_Combas.Typrep\",\"FS_Combas.ShortName\",\"csmar_listedcoinfo.Stknme\",\"csmar_listedcoinfo.Conme\",\"FS_Comscfd.ShortName\",\"FS_Comins.ShortName\",\"csmar_listedcoinfo.Conme_en\",\"csmar_listedcoinfo.Nnindcd\",\"csmar_listedcoinfo.PROVINCECD\",\"csmar_listedcoinfo.CITY\",\"csmar_listedcoinfo.Nnindnme\"]\n",
    "afterDeleteData=allData[[i for i in allData.columns if i not in deleteColumns]]\n",
    "afterDeleteData"
   ],
   "metadata": {
    "collapsed": false,
    "ExecuteTime": {
     "end_time": "2023-08-25T18:18:58.140059100Z",
     "start_time": "2023-08-25T18:18:54.923934700Z"
    }
   }
  },
  {
   "cell_type": "code",
   "execution_count": 12,
   "outputs": [
    {
     "data": {
      "text/plain": "                             Variance  Number Of Null    Percentage Of Null\n0                               Stkcd               0                 0.0 %\n1                               Trddt           32438                 0.6 %\n2                              Opnprc           32438                 0.6 %\n3                               Hiprc           32438                 0.6 %\n4                               Loprc           32438                 0.6 %\n5                              Clsprc           32438                 0.6 %\n6                         ChangeRatio           32438                 0.6 %\n7                              Stknme           32438                 0.6 %\n8                              Listdt           32438                 0.6 %\n9                            Cuntrycd           32438                 0.6 %\n10                              Conme           32438                 0.6 %\n11                           Conme_en           32438                 0.6 %\n12                              Indcd           32438                 0.6 %\n13                             Indnme           32438                 0.6 %\n14                             Nindcd           32438                 0.6 %\n15                            Nindnme           32438                 0.6 %\n16                            Nnindcd           32438                 0.6 %\n17                           Nnindnme           32438                 0.6 %\n18                           PROVINCE           32438                 0.6 %\n19                       PROVINCECODE           32438                 0.6 %\n20                               CITY           32438                 0.6 %\n21                           CITYCODE           32438                 0.6 %\n22                      OWNERSHIPTYPE           32438                 0.6 %\n23                  OWNERSHIPTYPECODE           32438                 0.6 %\n24                            Parvcur           32438                 0.6 %\n25                              Sctcd           32438                 0.6 %\n26                         Markettype           32438                 0.6 %\n27               FS_Combas.A001109000         5000411               100.0 %\n28               FS_Combas.A001111000          552974                11.1 %\n29               FS_Combas.A001123000          643890                12.9 %\n30               FS_Combas.A001100000          575464                11.5 %\n31               FS_Combas.A001212000          484626   9.700000000000001 %\n32               FS_Combas.A001218000          518461                10.4 %\n33               FS_Combas.A001219000         4045562                80.9 %\n34               FS_Combas.A001220000         2615060  52.300000000000004 %\n35               FS_Combas.A001200000          575523                11.5 %\n36               FS_Combas.A001000000          484045   9.700000000000001 %\n37               FS_Combas.A002108000          752943                15.1 %\n38               FS_Combas.A002100000          575399                11.5 %\n39               FS_Combas.A002200000          638637                12.8 %\n40               FS_Combas.A002000000          483980   9.700000000000001 %\n41               FS_Combas.A003105000          484299   9.700000000000001 %\n42               FS_Combas.A003000000          483980   9.700000000000001 %\n43               FS_Combas.A001127000         2893753                57.9 %\n44    csmar_listedcoinfo.EquityNature          664400                13.3 %\n45   csmar_listedcoinfo.OWNERSHIPTYPE          483993   9.700000000000001 %\n46   csmar_listedcoinfo.MAINBUSSINESS          483993   9.700000000000001 %\n47  csmar_listedcoinfo.BUSSINESSRANGE          484653   9.700000000000001 %\n48               FS_Comins.B001100000          485401   9.700000000000001 %\n49               FS_Comins.B001200000          483986   9.700000000000001 %\n50               FS_Comins.B001209000          658792  13.200000000000001 %\n51               FS_Comins.B001210000          576110                11.5 %\n52               FS_Comins.B001211000          577398                11.5 %\n53               FS_Comins.B002000000          483986   9.700000000000001 %\n54              FS_Comscfd.C001000000          484089   9.700000000000001 %\n55              FS_Comscfd.C002000000          497770                10.0 %\n56              FS_Comscfd.C003000000          620391                12.4 %",
      "text/html": "<div>\n<style scoped>\n    .dataframe tbody tr th:only-of-type {\n        vertical-align: middle;\n    }\n\n    .dataframe tbody tr th {\n        vertical-align: top;\n    }\n\n    .dataframe thead th {\n        text-align: right;\n    }\n</style>\n<table border=\"1\" class=\"dataframe\">\n  <thead>\n    <tr style=\"text-align: right;\">\n      <th></th>\n      <th>Variance</th>\n      <th>Number Of Null</th>\n      <th>Percentage Of Null</th>\n    </tr>\n  </thead>\n  <tbody>\n    <tr>\n      <th>0</th>\n      <td>Stkcd</td>\n      <td>0</td>\n      <td>0.0 %</td>\n    </tr>\n    <tr>\n      <th>1</th>\n      <td>Trddt</td>\n      <td>32438</td>\n      <td>0.6 %</td>\n    </tr>\n    <tr>\n      <th>2</th>\n      <td>Opnprc</td>\n      <td>32438</td>\n      <td>0.6 %</td>\n    </tr>\n    <tr>\n      <th>3</th>\n      <td>Hiprc</td>\n      <td>32438</td>\n      <td>0.6 %</td>\n    </tr>\n    <tr>\n      <th>4</th>\n      <td>Loprc</td>\n      <td>32438</td>\n      <td>0.6 %</td>\n    </tr>\n    <tr>\n      <th>5</th>\n      <td>Clsprc</td>\n      <td>32438</td>\n      <td>0.6 %</td>\n    </tr>\n    <tr>\n      <th>6</th>\n      <td>ChangeRatio</td>\n      <td>32438</td>\n      <td>0.6 %</td>\n    </tr>\n    <tr>\n      <th>7</th>\n      <td>Stknme</td>\n      <td>32438</td>\n      <td>0.6 %</td>\n    </tr>\n    <tr>\n      <th>8</th>\n      <td>Listdt</td>\n      <td>32438</td>\n      <td>0.6 %</td>\n    </tr>\n    <tr>\n      <th>9</th>\n      <td>Cuntrycd</td>\n      <td>32438</td>\n      <td>0.6 %</td>\n    </tr>\n    <tr>\n      <th>10</th>\n      <td>Conme</td>\n      <td>32438</td>\n      <td>0.6 %</td>\n    </tr>\n    <tr>\n      <th>11</th>\n      <td>Conme_en</td>\n      <td>32438</td>\n      <td>0.6 %</td>\n    </tr>\n    <tr>\n      <th>12</th>\n      <td>Indcd</td>\n      <td>32438</td>\n      <td>0.6 %</td>\n    </tr>\n    <tr>\n      <th>13</th>\n      <td>Indnme</td>\n      <td>32438</td>\n      <td>0.6 %</td>\n    </tr>\n    <tr>\n      <th>14</th>\n      <td>Nindcd</td>\n      <td>32438</td>\n      <td>0.6 %</td>\n    </tr>\n    <tr>\n      <th>15</th>\n      <td>Nindnme</td>\n      <td>32438</td>\n      <td>0.6 %</td>\n    </tr>\n    <tr>\n      <th>16</th>\n      <td>Nnindcd</td>\n      <td>32438</td>\n      <td>0.6 %</td>\n    </tr>\n    <tr>\n      <th>17</th>\n      <td>Nnindnme</td>\n      <td>32438</td>\n      <td>0.6 %</td>\n    </tr>\n    <tr>\n      <th>18</th>\n      <td>PROVINCE</td>\n      <td>32438</td>\n      <td>0.6 %</td>\n    </tr>\n    <tr>\n      <th>19</th>\n      <td>PROVINCECODE</td>\n      <td>32438</td>\n      <td>0.6 %</td>\n    </tr>\n    <tr>\n      <th>20</th>\n      <td>CITY</td>\n      <td>32438</td>\n      <td>0.6 %</td>\n    </tr>\n    <tr>\n      <th>21</th>\n      <td>CITYCODE</td>\n      <td>32438</td>\n      <td>0.6 %</td>\n    </tr>\n    <tr>\n      <th>22</th>\n      <td>OWNERSHIPTYPE</td>\n      <td>32438</td>\n      <td>0.6 %</td>\n    </tr>\n    <tr>\n      <th>23</th>\n      <td>OWNERSHIPTYPECODE</td>\n      <td>32438</td>\n      <td>0.6 %</td>\n    </tr>\n    <tr>\n      <th>24</th>\n      <td>Parvcur</td>\n      <td>32438</td>\n      <td>0.6 %</td>\n    </tr>\n    <tr>\n      <th>25</th>\n      <td>Sctcd</td>\n      <td>32438</td>\n      <td>0.6 %</td>\n    </tr>\n    <tr>\n      <th>26</th>\n      <td>Markettype</td>\n      <td>32438</td>\n      <td>0.6 %</td>\n    </tr>\n    <tr>\n      <th>27</th>\n      <td>FS_Combas.A001109000</td>\n      <td>5000411</td>\n      <td>100.0 %</td>\n    </tr>\n    <tr>\n      <th>28</th>\n      <td>FS_Combas.A001111000</td>\n      <td>552974</td>\n      <td>11.1 %</td>\n    </tr>\n    <tr>\n      <th>29</th>\n      <td>FS_Combas.A001123000</td>\n      <td>643890</td>\n      <td>12.9 %</td>\n    </tr>\n    <tr>\n      <th>30</th>\n      <td>FS_Combas.A001100000</td>\n      <td>575464</td>\n      <td>11.5 %</td>\n    </tr>\n    <tr>\n      <th>31</th>\n      <td>FS_Combas.A001212000</td>\n      <td>484626</td>\n      <td>9.700000000000001 %</td>\n    </tr>\n    <tr>\n      <th>32</th>\n      <td>FS_Combas.A001218000</td>\n      <td>518461</td>\n      <td>10.4 %</td>\n    </tr>\n    <tr>\n      <th>33</th>\n      <td>FS_Combas.A001219000</td>\n      <td>4045562</td>\n      <td>80.9 %</td>\n    </tr>\n    <tr>\n      <th>34</th>\n      <td>FS_Combas.A001220000</td>\n      <td>2615060</td>\n      <td>52.300000000000004 %</td>\n    </tr>\n    <tr>\n      <th>35</th>\n      <td>FS_Combas.A001200000</td>\n      <td>575523</td>\n      <td>11.5 %</td>\n    </tr>\n    <tr>\n      <th>36</th>\n      <td>FS_Combas.A001000000</td>\n      <td>484045</td>\n      <td>9.700000000000001 %</td>\n    </tr>\n    <tr>\n      <th>37</th>\n      <td>FS_Combas.A002108000</td>\n      <td>752943</td>\n      <td>15.1 %</td>\n    </tr>\n    <tr>\n      <th>38</th>\n      <td>FS_Combas.A002100000</td>\n      <td>575399</td>\n      <td>11.5 %</td>\n    </tr>\n    <tr>\n      <th>39</th>\n      <td>FS_Combas.A002200000</td>\n      <td>638637</td>\n      <td>12.8 %</td>\n    </tr>\n    <tr>\n      <th>40</th>\n      <td>FS_Combas.A002000000</td>\n      <td>483980</td>\n      <td>9.700000000000001 %</td>\n    </tr>\n    <tr>\n      <th>41</th>\n      <td>FS_Combas.A003105000</td>\n      <td>484299</td>\n      <td>9.700000000000001 %</td>\n    </tr>\n    <tr>\n      <th>42</th>\n      <td>FS_Combas.A003000000</td>\n      <td>483980</td>\n      <td>9.700000000000001 %</td>\n    </tr>\n    <tr>\n      <th>43</th>\n      <td>FS_Combas.A001127000</td>\n      <td>2893753</td>\n      <td>57.9 %</td>\n    </tr>\n    <tr>\n      <th>44</th>\n      <td>csmar_listedcoinfo.EquityNature</td>\n      <td>664400</td>\n      <td>13.3 %</td>\n    </tr>\n    <tr>\n      <th>45</th>\n      <td>csmar_listedcoinfo.OWNERSHIPTYPE</td>\n      <td>483993</td>\n      <td>9.700000000000001 %</td>\n    </tr>\n    <tr>\n      <th>46</th>\n      <td>csmar_listedcoinfo.MAINBUSSINESS</td>\n      <td>483993</td>\n      <td>9.700000000000001 %</td>\n    </tr>\n    <tr>\n      <th>47</th>\n      <td>csmar_listedcoinfo.BUSSINESSRANGE</td>\n      <td>484653</td>\n      <td>9.700000000000001 %</td>\n    </tr>\n    <tr>\n      <th>48</th>\n      <td>FS_Comins.B001100000</td>\n      <td>485401</td>\n      <td>9.700000000000001 %</td>\n    </tr>\n    <tr>\n      <th>49</th>\n      <td>FS_Comins.B001200000</td>\n      <td>483986</td>\n      <td>9.700000000000001 %</td>\n    </tr>\n    <tr>\n      <th>50</th>\n      <td>FS_Comins.B001209000</td>\n      <td>658792</td>\n      <td>13.200000000000001 %</td>\n    </tr>\n    <tr>\n      <th>51</th>\n      <td>FS_Comins.B001210000</td>\n      <td>576110</td>\n      <td>11.5 %</td>\n    </tr>\n    <tr>\n      <th>52</th>\n      <td>FS_Comins.B001211000</td>\n      <td>577398</td>\n      <td>11.5 %</td>\n    </tr>\n    <tr>\n      <th>53</th>\n      <td>FS_Comins.B002000000</td>\n      <td>483986</td>\n      <td>9.700000000000001 %</td>\n    </tr>\n    <tr>\n      <th>54</th>\n      <td>FS_Comscfd.C001000000</td>\n      <td>484089</td>\n      <td>9.700000000000001 %</td>\n    </tr>\n    <tr>\n      <th>55</th>\n      <td>FS_Comscfd.C002000000</td>\n      <td>497770</td>\n      <td>10.0 %</td>\n    </tr>\n    <tr>\n      <th>56</th>\n      <td>FS_Comscfd.C003000000</td>\n      <td>620391</td>\n      <td>12.4 %</td>\n    </tr>\n  </tbody>\n</table>\n</div>"
     },
     "execution_count": 12,
     "metadata": {},
     "output_type": "execute_result"
    }
   ],
   "source": [
    "### 检查是否有缺失值达到50%的，有的话就删除\n",
    "totalNumRows=5000412\n",
    "num = afterDeleteData.isna().sum()\n",
    "indexs=[]\n",
    "nullNums=[]\n",
    "nullPerc=[]\n",
    "for index in num.index:\n",
    "    indexs.append(index)\n",
    "    nullNums.append(num[index])\n",
    "    nullPerc.append(str(round(float(num[index]/totalNumRows),3)*100)+\" %\")\n",
    "\n",
    "num=pd.DataFrame.from_dict({\"Variance\":indexs,\"Number Of Null\":nullNums,\"Percentage Of Null\":nullPerc})\n",
    "num"
   ],
   "metadata": {
    "collapsed": false,
    "ExecuteTime": {
     "end_time": "2023-08-25T18:19:05.750036400Z",
     "start_time": "2023-08-25T18:18:58.144047900Z"
    }
   }
  },
  {
   "cell_type": "code",
   "execution_count": 13,
   "outputs": [
    {
     "data": {
      "text/plain": "          Stkcd Opnprc Hiprc Loprc Clsprc ChangeRatio Indcd Indnme Nindnme  \\\n0        000001   9.39  9.42  9.16   9.19   -0.020256  0001     金融     银行业   \n1        000001   9.18  9.33  9.15   9.28    0.009793  0001     金融     银行业   \n2        000001   9.24  9.82  9.22   9.75    0.050647  0001     金融     银行业   \n3        000001   9.84  9.85  9.63   9.74   -0.001026  0001     金融     银行业   \n4        000001   9.73  9.74  9.62   9.66   -0.008214  0001     金融     银行业   \n...         ...    ...   ...   ...    ...         ...   ...    ...     ...   \n5000407  900957    NaN   NaN   NaN    NaN         NaN   NaN    NaN     NaN   \n5000408  900957    NaN   NaN   NaN    NaN         NaN   NaN    NaN     NaN   \n5000409  900957    NaN   NaN   NaN    NaN         NaN   NaN    NaN     NaN   \n5000410  900957    NaN   NaN   NaN    NaN         NaN   NaN    NaN     NaN   \n5000411  900957    NaN   NaN   NaN    NaN         NaN   NaN    NaN     NaN   \n\n        Nnindnme  ... csmar_listedcoinfo.OWNERSHIPTYPE FS_Comins.B001100000  \\\n0         货币金融服务  ...                             私营企业         106212000000   \n1         货币金融服务  ...                             私营企业         106212000000   \n2         货币金融服务  ...                             私营企业         106212000000   \n3         货币金融服务  ...                             私营企业         106212000000   \n4         货币金融服务  ...                             私营企业         106212000000   \n...          ...  ...                              ...                  ...   \n5000407      NaN  ...                             私营企业          98113165.84   \n5000408      NaN  ...                             私营企业          75804279.65   \n5000409      NaN  ...                             私营企业          49636293.55   \n5000410      NaN  ...                             私营企业          22751337.48   \n5000411      NaN  ...                             私营企业          80629953.84   \n\n        FS_Comins.B001200000 FS_Comins.B001209000 FS_Comins.B001210000  \\\n0                36540000000                  NaN                  NaN   \n1                36540000000                  NaN                  NaN   \n2                36540000000                  NaN                  NaN   \n3                36540000000                  NaN                  NaN   \n4                36540000000                  NaN                  NaN   \n...                      ...                  ...                  ...   \n5000407          81882874.95                  NaN            7907748.5   \n5000408          63733263.62                  NaN           5426585.84   \n5000409          42807516.31                  NaN           3942872.92   \n5000410          20546598.07                  NaN           1442184.13   \n5000411          88668327.37                  NaN           8761403.72   \n\n        FS_Comins.B001211000 FS_Comins.B002000000 FS_Comscfd.C001000000  \\\n0                        NaN          24818000000          -57323000000   \n1                        NaN          24818000000          -57323000000   \n2                        NaN          24818000000          -57323000000   \n3                        NaN          24818000000          -57323000000   \n4                        NaN          24818000000          -57323000000   \n...                      ...                  ...                   ...   \n5000407           38843715.6          30015892.98          133876680.38   \n5000408           28900349.1          18224007.47           17675525.34   \n5000409          18888703.28          11187154.83            8837480.07   \n5000410            9134941.6           5324024.45           -3067349.05   \n5000411          43509182.37           3022152.74           13307848.99   \n\n        FS_Comscfd.C002000000 FS_Comscfd.C003000000  \n0                 61382000000           19021000000  \n1                 61382000000           19021000000  \n2                 61382000000           19021000000  \n3                 61382000000           19021000000  \n4                 61382000000           19021000000  \n...                       ...                   ...  \n5000407             -10129431          -83419306.44  \n5000408             -21115.35          -31465040.73  \n5000409                 -9688          -20944609.18  \n5000410               -500000          -10836179.78  \n5000411           -8427627.34            5369730.03  \n\n[5000412 rows x 38 columns]",
      "text/html": "<div>\n<style scoped>\n    .dataframe tbody tr th:only-of-type {\n        vertical-align: middle;\n    }\n\n    .dataframe tbody tr th {\n        vertical-align: top;\n    }\n\n    .dataframe thead th {\n        text-align: right;\n    }\n</style>\n<table border=\"1\" class=\"dataframe\">\n  <thead>\n    <tr style=\"text-align: right;\">\n      <th></th>\n      <th>Stkcd</th>\n      <th>Opnprc</th>\n      <th>Hiprc</th>\n      <th>Loprc</th>\n      <th>Clsprc</th>\n      <th>ChangeRatio</th>\n      <th>Indcd</th>\n      <th>Indnme</th>\n      <th>Nindnme</th>\n      <th>Nnindnme</th>\n      <th>...</th>\n      <th>csmar_listedcoinfo.OWNERSHIPTYPE</th>\n      <th>FS_Comins.B001100000</th>\n      <th>FS_Comins.B001200000</th>\n      <th>FS_Comins.B001209000</th>\n      <th>FS_Comins.B001210000</th>\n      <th>FS_Comins.B001211000</th>\n      <th>FS_Comins.B002000000</th>\n      <th>FS_Comscfd.C001000000</th>\n      <th>FS_Comscfd.C002000000</th>\n      <th>FS_Comscfd.C003000000</th>\n    </tr>\n  </thead>\n  <tbody>\n    <tr>\n      <th>0</th>\n      <td>000001</td>\n      <td>9.39</td>\n      <td>9.42</td>\n      <td>9.16</td>\n      <td>9.19</td>\n      <td>-0.020256</td>\n      <td>0001</td>\n      <td>金融</td>\n      <td>银行业</td>\n      <td>货币金融服务</td>\n      <td>...</td>\n      <td>私营企业</td>\n      <td>106212000000</td>\n      <td>36540000000</td>\n      <td>NaN</td>\n      <td>NaN</td>\n      <td>NaN</td>\n      <td>24818000000</td>\n      <td>-57323000000</td>\n      <td>61382000000</td>\n      <td>19021000000</td>\n    </tr>\n    <tr>\n      <th>1</th>\n      <td>000001</td>\n      <td>9.18</td>\n      <td>9.33</td>\n      <td>9.15</td>\n      <td>9.28</td>\n      <td>0.009793</td>\n      <td>0001</td>\n      <td>金融</td>\n      <td>银行业</td>\n      <td>货币金融服务</td>\n      <td>...</td>\n      <td>私营企业</td>\n      <td>106212000000</td>\n      <td>36540000000</td>\n      <td>NaN</td>\n      <td>NaN</td>\n      <td>NaN</td>\n      <td>24818000000</td>\n      <td>-57323000000</td>\n      <td>61382000000</td>\n      <td>19021000000</td>\n    </tr>\n    <tr>\n      <th>2</th>\n      <td>000001</td>\n      <td>9.24</td>\n      <td>9.82</td>\n      <td>9.22</td>\n      <td>9.75</td>\n      <td>0.050647</td>\n      <td>0001</td>\n      <td>金融</td>\n      <td>银行业</td>\n      <td>货币金融服务</td>\n      <td>...</td>\n      <td>私营企业</td>\n      <td>106212000000</td>\n      <td>36540000000</td>\n      <td>NaN</td>\n      <td>NaN</td>\n      <td>NaN</td>\n      <td>24818000000</td>\n      <td>-57323000000</td>\n      <td>61382000000</td>\n      <td>19021000000</td>\n    </tr>\n    <tr>\n      <th>3</th>\n      <td>000001</td>\n      <td>9.84</td>\n      <td>9.85</td>\n      <td>9.63</td>\n      <td>9.74</td>\n      <td>-0.001026</td>\n      <td>0001</td>\n      <td>金融</td>\n      <td>银行业</td>\n      <td>货币金融服务</td>\n      <td>...</td>\n      <td>私营企业</td>\n      <td>106212000000</td>\n      <td>36540000000</td>\n      <td>NaN</td>\n      <td>NaN</td>\n      <td>NaN</td>\n      <td>24818000000</td>\n      <td>-57323000000</td>\n      <td>61382000000</td>\n      <td>19021000000</td>\n    </tr>\n    <tr>\n      <th>4</th>\n      <td>000001</td>\n      <td>9.73</td>\n      <td>9.74</td>\n      <td>9.62</td>\n      <td>9.66</td>\n      <td>-0.008214</td>\n      <td>0001</td>\n      <td>金融</td>\n      <td>银行业</td>\n      <td>货币金融服务</td>\n      <td>...</td>\n      <td>私营企业</td>\n      <td>106212000000</td>\n      <td>36540000000</td>\n      <td>NaN</td>\n      <td>NaN</td>\n      <td>NaN</td>\n      <td>24818000000</td>\n      <td>-57323000000</td>\n      <td>61382000000</td>\n      <td>19021000000</td>\n    </tr>\n    <tr>\n      <th>...</th>\n      <td>...</td>\n      <td>...</td>\n      <td>...</td>\n      <td>...</td>\n      <td>...</td>\n      <td>...</td>\n      <td>...</td>\n      <td>...</td>\n      <td>...</td>\n      <td>...</td>\n      <td>...</td>\n      <td>...</td>\n      <td>...</td>\n      <td>...</td>\n      <td>...</td>\n      <td>...</td>\n      <td>...</td>\n      <td>...</td>\n      <td>...</td>\n      <td>...</td>\n      <td>...</td>\n    </tr>\n    <tr>\n      <th>5000407</th>\n      <td>900957</td>\n      <td>NaN</td>\n      <td>NaN</td>\n      <td>NaN</td>\n      <td>NaN</td>\n      <td>NaN</td>\n      <td>NaN</td>\n      <td>NaN</td>\n      <td>NaN</td>\n      <td>NaN</td>\n      <td>...</td>\n      <td>私营企业</td>\n      <td>98113165.84</td>\n      <td>81882874.95</td>\n      <td>NaN</td>\n      <td>7907748.5</td>\n      <td>38843715.6</td>\n      <td>30015892.98</td>\n      <td>133876680.38</td>\n      <td>-10129431</td>\n      <td>-83419306.44</td>\n    </tr>\n    <tr>\n      <th>5000408</th>\n      <td>900957</td>\n      <td>NaN</td>\n      <td>NaN</td>\n      <td>NaN</td>\n      <td>NaN</td>\n      <td>NaN</td>\n      <td>NaN</td>\n      <td>NaN</td>\n      <td>NaN</td>\n      <td>NaN</td>\n      <td>...</td>\n      <td>私营企业</td>\n      <td>75804279.65</td>\n      <td>63733263.62</td>\n      <td>NaN</td>\n      <td>5426585.84</td>\n      <td>28900349.1</td>\n      <td>18224007.47</td>\n      <td>17675525.34</td>\n      <td>-21115.35</td>\n      <td>-31465040.73</td>\n    </tr>\n    <tr>\n      <th>5000409</th>\n      <td>900957</td>\n      <td>NaN</td>\n      <td>NaN</td>\n      <td>NaN</td>\n      <td>NaN</td>\n      <td>NaN</td>\n      <td>NaN</td>\n      <td>NaN</td>\n      <td>NaN</td>\n      <td>NaN</td>\n      <td>...</td>\n      <td>私营企业</td>\n      <td>49636293.55</td>\n      <td>42807516.31</td>\n      <td>NaN</td>\n      <td>3942872.92</td>\n      <td>18888703.28</td>\n      <td>11187154.83</td>\n      <td>8837480.07</td>\n      <td>-9688</td>\n      <td>-20944609.18</td>\n    </tr>\n    <tr>\n      <th>5000410</th>\n      <td>900957</td>\n      <td>NaN</td>\n      <td>NaN</td>\n      <td>NaN</td>\n      <td>NaN</td>\n      <td>NaN</td>\n      <td>NaN</td>\n      <td>NaN</td>\n      <td>NaN</td>\n      <td>NaN</td>\n      <td>...</td>\n      <td>私营企业</td>\n      <td>22751337.48</td>\n      <td>20546598.07</td>\n      <td>NaN</td>\n      <td>1442184.13</td>\n      <td>9134941.6</td>\n      <td>5324024.45</td>\n      <td>-3067349.05</td>\n      <td>-500000</td>\n      <td>-10836179.78</td>\n    </tr>\n    <tr>\n      <th>5000411</th>\n      <td>900957</td>\n      <td>NaN</td>\n      <td>NaN</td>\n      <td>NaN</td>\n      <td>NaN</td>\n      <td>NaN</td>\n      <td>NaN</td>\n      <td>NaN</td>\n      <td>NaN</td>\n      <td>NaN</td>\n      <td>...</td>\n      <td>私营企业</td>\n      <td>80629953.84</td>\n      <td>88668327.37</td>\n      <td>NaN</td>\n      <td>8761403.72</td>\n      <td>43509182.37</td>\n      <td>3022152.74</td>\n      <td>13307848.99</td>\n      <td>-8427627.34</td>\n      <td>5369730.03</td>\n    </tr>\n  </tbody>\n</table>\n<p>5000412 rows × 38 columns</p>\n</div>"
     },
     "execution_count": 13,
     "metadata": {},
     "output_type": "execute_result"
    }
   ],
   "source": [
    "###todo：删除和处理回归不能输入的数据,删除回报率为null的行,同时删除缺失值过多的 [FS_Combas.A001127000,FS_Combas.A001220000,FS_Combas.A001219000,FS_Combas.A001109000] 列\n",
    "uselessColumns=[\"FS_Combas.A001127000\",\"FS_Combas.A001220000\",\"FS_Combas.A001219000\",\"FS_Combas.A001109000\",\"Stknme\",\"Listdt\",\"Trddt\",\"csmar_listedcoinfo.BUSSINESSRANGE\",\"Conme_en\",\"PROVINCECODE\",\"Parvcur\",\"csmar_listedcoinfo.MAINBUSSINESS\",\"CITYCODE\",\"PROVINCE\",\"Cuntrycd\",\"Conme\",\"Nindcd\",\"Nindcd\",\"Nnindcd\",\"OWNERSHIPTYPECODE\"]\n",
    "\n",
    "uselessDeletedDf=allData[[i for i in allData.columns if i not in deleteColumns and i not in uselessColumns]]\n",
    "uselessDeletedDf=uselessDeletedDf.dropna(how=\"all\")\n",
    "uselessDeletedDf"
   ],
   "metadata": {
    "collapsed": false,
    "ExecuteTime": {
     "end_time": "2023-08-25T18:19:14.644047500Z",
     "start_time": "2023-08-25T18:19:05.752994500Z"
    }
   }
  },
  {
   "cell_type": "code",
   "execution_count": 14,
   "outputs": [],
   "source": [
    "# afterDeleteData.to_csv(\"stockData/furtherInformation/afterDeleteData.csv\")"
   ],
   "metadata": {
    "collapsed": false,
    "ExecuteTime": {
     "end_time": "2023-08-25T18:19:14.654021600Z",
     "start_time": "2023-08-25T18:19:14.635072400Z"
    }
   }
  }
 ],
 "metadata": {
  "kernelspec": {
   "display_name": "Python 3",
   "language": "python",
   "name": "python3"
  },
  "language_info": {
   "codemirror_mode": {
    "name": "ipython",
    "version": 2
   },
   "file_extension": ".py",
   "mimetype": "text/x-python",
   "name": "python",
   "nbconvert_exporter": "python",
   "pygments_lexer": "ipython2",
   "version": "2.7.6"
  }
 },
 "nbformat": 4,
 "nbformat_minor": 0
}
