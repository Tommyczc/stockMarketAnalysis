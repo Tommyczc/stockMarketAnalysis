{
 "cells": [
  {
   "cell_type": "markdown",
   "source": [
    "# 合并表格"
   ],
   "metadata": {
    "collapsed": false
   }
  },
  {
   "cell_type": "code",
   "execution_count": 1,
   "outputs": [],
   "source": [
    "import numpy as np\n",
    "import pandas as pd\n",
    "\n",
    "# ### 读取\n",
    "# trd_dalyr0=pd.read_excel(\"stockData/furtherInformation/日个股回报率文件185043337(仅供中央财经大学使用)/TRD_Dalyr.xlsx\")\n",
    "# trd_dalyr0=trd_dalyr0.drop([0,1],axis=0)\n",
    "# trd_dalyr1=pd.read_excel(\"stockData/furtherInformation/日个股回报率文件185043337(仅供中央财经大学使用)/TRD_Dalyr1.xlsx\")\n",
    "# trd_dalyr1=trd_dalyr1.drop([0,1],axis=0)\n",
    "# trd_dalyr2=pd.read_excel(\"stockData/furtherInformation/日个股回报率文件185043337(仅供中央财经大学使用)/TRD_Dalyr2.xlsx\")\n",
    "# trd_dalyr2=trd_dalyr2.drop([0,1],axis=0)\n",
    "# trd_dalyr3=pd.read_excel(\"stockData/furtherInformation/日个股回报率文件185043337(仅供中央财经大学使用)/TRD_Dalyr3.xlsx\")\n",
    "# trd_dalyr3=trd_dalyr3.drop([0,1],axis=0)\n",
    "# trd_dalyr4=pd.read_excel(\"stockData/furtherInformation/日个股回报率文件185043337(仅供中央财经大学使用)/TRD_Dalyr4.xlsx\")\n",
    "# trd_dalyr4=trd_dalyr4.drop([0,1],axis=0)\n",
    "# diaryData=[trd_dalyr0,trd_dalyr1,trd_dalyr2,trd_dalyr3,trd_dalyr4]\n",
    "# finalDF=pd.concat(diaryData)\n",
    "# finalDF"
   ],
   "metadata": {
    "collapsed": false,
    "ExecuteTime": {
     "end_time": "2023-10-13T15:20:54.544613500Z",
     "start_time": "2023-10-13T15:20:53.909487700Z"
    }
   }
  },
  {
   "cell_type": "code",
   "execution_count": 2,
   "outputs": [],
   "source": [
    "# companyData=pd.read_excel(\"stockData/furtherInformation/公司文件184301535(仅供中央财经大学使用)/TRD_Co.xlsx\")\n",
    "# companyData=companyData.drop([0,1],axis=0)\n",
    "# companyData"
   ],
   "metadata": {
    "collapsed": false,
    "ExecuteTime": {
     "end_time": "2023-10-13T15:20:54.559573200Z",
     "start_time": "2023-10-13T15:20:54.547605100Z"
    }
   }
  },
  {
   "cell_type": "code",
   "execution_count": 3,
   "outputs": [],
   "source": [
    "# companyAssetData=pd.read_excel(\"stockData/furtherInformation/资产负债表(联表查询)181028530/FS_Combas(Merge Query).xlsx\")\n",
    "# companyAssetData=companyAssetData.drop([0,1],axis=0)\n",
    "# companyAssetData"
   ],
   "metadata": {
    "collapsed": false,
    "ExecuteTime": {
     "end_time": "2023-10-13T15:20:54.595477200Z",
     "start_time": "2023-10-13T15:20:54.562565200Z"
    }
   }
  },
  {
   "cell_type": "code",
   "execution_count": 4,
   "outputs": [],
   "source": [
    "# ### 去除b部分\n",
    "# companyAssetData=companyAssetData[companyAssetData[\"FS_Combas.Typrep\"]!=\"B\"]\n",
    "# companyAssetData=companyAssetData.reindex()\n",
    "# ### 去除12-31，因为与1-1有重复\n",
    "# companyAssetData=companyAssetData[companyAssetData['FS_Combas.Accper'].str.contains(\"01-01|03-31|06-30|09-30\")]\n",
    "# companyAssetData['FS_Combas.Accper']=pd.to_datetime(companyAssetData['FS_Combas.Accper'], format=\"%Y-%m-%d\")\n",
    "# \n",
    "# companyAssetData=companyAssetData.rename(columns={\"FS_Combas.Stkcd\":\"Stkcd\",\"FS_Combas.Accper\":\"Trddt_quarter\"})\n",
    "# companyAssetData"
   ],
   "metadata": {
    "collapsed": false,
    "ExecuteTime": {
     "end_time": "2023-10-13T15:20:54.595477200Z",
     "start_time": "2023-10-13T15:20:54.579519600Z"
    }
   }
  },
  {
   "cell_type": "code",
   "execution_count": 5,
   "outputs": [],
   "source": [
    "# ### todo：开始合并 日个股回报与公司信息\n",
    "# df=pd.merge(finalDF,companyData,on='Stkcd')\n",
    "# df['Trddt']=pd.to_datetime(df[\"Trddt\"], format=\"%Y-%m-%d\")\n",
    "# df"
   ],
   "metadata": {
    "collapsed": false,
    "ExecuteTime": {
     "end_time": "2023-10-13T15:20:54.610437Z",
     "start_time": "2023-10-13T15:20:54.591488Z"
    }
   }
  },
  {
   "cell_type": "code",
   "execution_count": 6,
   "outputs": [],
   "source": [
    "###转换时间为季度\n",
    "def dateToQuarter(date):\n",
    "        # print(\"time: \",date)\n",
    "        quarter_date={1:\"01-01\",2:\"03-31\",3:\"06-30\",4:\"09-30\"}\n",
    "        year=date.astype('datetime64[Y]').astype(int) + 1970\n",
    "        month = date.astype('datetime64[M]').astype(int) % 12 + 1\n",
    "        the_quarter = (month - 1) // 3 + 1                  #计算季度\n",
    "        quarter_name = str(year) + '年' + str(the_quarter) + '季度'\n",
    "        quarter_name_short = str(year) + 'Q' + str(the_quarter)\n",
    "        # print(\"quarter time: \",quarter_name)\n",
    "        return [str(year)+\"-\"+quarter_date[the_quarter],the_quarter]\n",
    "\n",
    "# dateToQuarter(numpy.datetime64(\"2020-04-30\"))"
   ],
   "metadata": {
    "collapsed": false,
    "ExecuteTime": {
     "end_time": "2023-10-13T15:20:54.639359500Z",
     "start_time": "2023-10-13T15:20:54.609439900Z"
    }
   }
  },
  {
   "cell_type": "code",
   "execution_count": 7,
   "outputs": [],
   "source": [
    "# df[\"Trddt_quarter\"]=[dateToQuarter(i)[0] for i in df['Trddt'].values]\n",
    "# df[\"Trddt_quarter\"]=pd.to_datetime(df[\"Trddt_quarter\"], format=\"%Y-%m-%d\")\n",
    "# df"
   ],
   "metadata": {
    "collapsed": false,
    "ExecuteTime": {
     "end_time": "2023-10-13T15:20:54.640357200Z",
     "start_time": "2023-10-13T15:20:54.624400400Z"
    }
   }
  },
  {
   "cell_type": "code",
   "execution_count": 8,
   "outputs": [],
   "source": [
    "# ###todo：根据季度与股票代码合并之前的总表与资产负债表\n",
    "# allData=pd.merge(df,companyAssetData,on=[\"Stkcd\",'Trddt_quarter'],how='outer')\n",
    "# # allData['Stkcd']=allData['Stkcd'].astype(str)\n",
    "# allData"
   ],
   "metadata": {
    "collapsed": false,
    "ExecuteTime": {
     "end_time": "2023-10-13T15:20:54.661301200Z",
     "start_time": "2023-10-13T15:20:54.637365400Z"
    }
   }
  },
  {
   "cell_type": "code",
   "execution_count": 9,
   "outputs": [],
   "source": [
    "# allData.to_csv(\"stockData/furtherInformation/AllData.csv\")"
   ],
   "metadata": {
    "collapsed": false,
    "ExecuteTime": {
     "end_time": "2023-10-13T15:20:54.678255800Z",
     "start_time": "2023-10-13T15:20:54.654319600Z"
    }
   }
  },
  {
   "cell_type": "markdown",
   "source": [
    "# 读取疫情数据并合并表格"
   ],
   "metadata": {
    "collapsed": false
   }
  },
  {
   "cell_type": "code",
   "execution_count": 10,
   "outputs": [
    {
     "data": {
      "text/plain": "                         Title  \\\n0         1月23日新型冠状病毒感染的肺炎疫情情况   \n1         1月22日新型冠状病毒感染的肺炎疫情情况   \n2         1月21日新型冠状病毒感染的肺炎疫情情况   \n3         1月24日新型冠状病毒感染的肺炎疫情情况   \n4    截至11月26日24时新型冠状病毒肺炎疫情最新情况   \n..                         ...   \n881   截至9月30日24时新型冠状病毒肺炎疫情最新情况   \n882   截至10月4日24时新型冠状病毒肺炎疫情最新情况   \n883   截至10月4日24时新型冠状病毒肺炎疫情最新情况   \n884   截至10月6日24时新型冠状病毒肺炎疫情最新情况   \n885   截至10月6日24时新型冠状病毒肺炎疫情最新情况   \n\n                                                  Link  \\\n0    http://www.nhc.gov.cn/yjb/s3578/202001/5d19a4f...   \n1    http://www.nhc.gov.cn/yjb/s3578/202001/a3c8b51...   \n2    http://www.nhc.gov.cn/yjb/s3578/202001/930c021...   \n3    http://www.nhc.gov.cn/yjb/s3578/202001/c5da49c...   \n4    http://www.nhc.gov.cn/yjb/s7860/202111/322b052...   \n..                                                 ...   \n881  http://www.nhc.gov.cn/yjb/s7860/202110/0a5882f...   \n882  http://www.nhc.gov.cn/yjb/s7860/202010/9fac34d...   \n883  http://www.nhc.gov.cn/yjb/s7860/202110/cfe33a2...   \n884  http://www.nhc.gov.cn/yjb/s7860/202010/2bf38d3...   \n885  http://www.nhc.gov.cn/yjb/s7860/202110/194cf40...   \n\n                                               Content Public_Time   Source  \n0    截至1月22日24时，我委收到国内25个省（区、市）累计报告新型冠状病毒感染的肺炎确诊病例5...  2020-01-23  卫生应急办公室  \n1    2020年1月21日0-24时，我委收到国内13省（区、市）报告新增新型冠状病毒感染的肺炎确...  2020-01-22  卫生应急办公室  \n2    2020年1月20日0-24时，我委收到国内3省（区、市）报告新增新型冠状病毒感染的肺炎确诊...  2020-01-21  卫生应急办公室  \n3    1月23日0-24时，27个省（区、市）报告新增确诊病例259例，新增死亡患者8例。新增治愈...  2020-01-24  卫生应急办公室  \n4    11月26日0—24时，31个省（自治区、直辖市）和新疆生产建设兵团报告新增确诊病例25例。...  2021-11-27  卫生应急办公室  \n..                                                 ...         ...      ...  \n881  9月30日0—24时，31个省（自治区、直辖市）和新疆生产建设兵团报告新增确诊病例34例。其...  2021-10-01  卫生应急办公室  \n882  10月4日0—24时，31个省（自治区、直辖市）和新疆生产建设兵团报告新增确诊病例20例，均...  2020-10-05  卫生应急办公室  \n883  10月4日0—24时，31个省（自治区、直辖市）和新疆生产建设兵团报告新增确诊病例26例，均...  2021-10-05  卫生应急办公室  \n884  10月6日0—24时，31个省（自治区、直辖市）和新疆生产建设兵团报告新增确诊病例7例，均为...  2020-10-07  卫生应急办公室  \n885  10月6日0—24时，31个省（自治区、直辖市）和新疆生产建设兵团报告新增确诊病例25例，均...  2021-10-07  卫生应急办公室  \n\n[886 rows x 5 columns]",
      "text/html": "<div>\n<style scoped>\n    .dataframe tbody tr th:only-of-type {\n        vertical-align: middle;\n    }\n\n    .dataframe tbody tr th {\n        vertical-align: top;\n    }\n\n    .dataframe thead th {\n        text-align: right;\n    }\n</style>\n<table border=\"1\" class=\"dataframe\">\n  <thead>\n    <tr style=\"text-align: right;\">\n      <th></th>\n      <th>Title</th>\n      <th>Link</th>\n      <th>Content</th>\n      <th>Public_Time</th>\n      <th>Source</th>\n    </tr>\n  </thead>\n  <tbody>\n    <tr>\n      <th>0</th>\n      <td>1月23日新型冠状病毒感染的肺炎疫情情况</td>\n      <td>http://www.nhc.gov.cn/yjb/s3578/202001/5d19a4f...</td>\n      <td>截至1月22日24时，我委收到国内25个省（区、市）累计报告新型冠状病毒感染的肺炎确诊病例5...</td>\n      <td>2020-01-23</td>\n      <td>卫生应急办公室</td>\n    </tr>\n    <tr>\n      <th>1</th>\n      <td>1月22日新型冠状病毒感染的肺炎疫情情况</td>\n      <td>http://www.nhc.gov.cn/yjb/s3578/202001/a3c8b51...</td>\n      <td>2020年1月21日0-24时，我委收到国内13省（区、市）报告新增新型冠状病毒感染的肺炎确...</td>\n      <td>2020-01-22</td>\n      <td>卫生应急办公室</td>\n    </tr>\n    <tr>\n      <th>2</th>\n      <td>1月21日新型冠状病毒感染的肺炎疫情情况</td>\n      <td>http://www.nhc.gov.cn/yjb/s3578/202001/930c021...</td>\n      <td>2020年1月20日0-24时，我委收到国内3省（区、市）报告新增新型冠状病毒感染的肺炎确诊...</td>\n      <td>2020-01-21</td>\n      <td>卫生应急办公室</td>\n    </tr>\n    <tr>\n      <th>3</th>\n      <td>1月24日新型冠状病毒感染的肺炎疫情情况</td>\n      <td>http://www.nhc.gov.cn/yjb/s3578/202001/c5da49c...</td>\n      <td>1月23日0-24时，27个省（区、市）报告新增确诊病例259例，新增死亡患者8例。新增治愈...</td>\n      <td>2020-01-24</td>\n      <td>卫生应急办公室</td>\n    </tr>\n    <tr>\n      <th>4</th>\n      <td>截至11月26日24时新型冠状病毒肺炎疫情最新情况</td>\n      <td>http://www.nhc.gov.cn/yjb/s7860/202111/322b052...</td>\n      <td>11月26日0—24时，31个省（自治区、直辖市）和新疆生产建设兵团报告新增确诊病例25例。...</td>\n      <td>2021-11-27</td>\n      <td>卫生应急办公室</td>\n    </tr>\n    <tr>\n      <th>...</th>\n      <td>...</td>\n      <td>...</td>\n      <td>...</td>\n      <td>...</td>\n      <td>...</td>\n    </tr>\n    <tr>\n      <th>881</th>\n      <td>截至9月30日24时新型冠状病毒肺炎疫情最新情况</td>\n      <td>http://www.nhc.gov.cn/yjb/s7860/202110/0a5882f...</td>\n      <td>9月30日0—24时，31个省（自治区、直辖市）和新疆生产建设兵团报告新增确诊病例34例。其...</td>\n      <td>2021-10-01</td>\n      <td>卫生应急办公室</td>\n    </tr>\n    <tr>\n      <th>882</th>\n      <td>截至10月4日24时新型冠状病毒肺炎疫情最新情况</td>\n      <td>http://www.nhc.gov.cn/yjb/s7860/202010/9fac34d...</td>\n      <td>10月4日0—24时，31个省（自治区、直辖市）和新疆生产建设兵团报告新增确诊病例20例，均...</td>\n      <td>2020-10-05</td>\n      <td>卫生应急办公室</td>\n    </tr>\n    <tr>\n      <th>883</th>\n      <td>截至10月4日24时新型冠状病毒肺炎疫情最新情况</td>\n      <td>http://www.nhc.gov.cn/yjb/s7860/202110/cfe33a2...</td>\n      <td>10月4日0—24时，31个省（自治区、直辖市）和新疆生产建设兵团报告新增确诊病例26例，均...</td>\n      <td>2021-10-05</td>\n      <td>卫生应急办公室</td>\n    </tr>\n    <tr>\n      <th>884</th>\n      <td>截至10月6日24时新型冠状病毒肺炎疫情最新情况</td>\n      <td>http://www.nhc.gov.cn/yjb/s7860/202010/2bf38d3...</td>\n      <td>10月6日0—24时，31个省（自治区、直辖市）和新疆生产建设兵团报告新增确诊病例7例，均为...</td>\n      <td>2020-10-07</td>\n      <td>卫生应急办公室</td>\n    </tr>\n    <tr>\n      <th>885</th>\n      <td>截至10月6日24时新型冠状病毒肺炎疫情最新情况</td>\n      <td>http://www.nhc.gov.cn/yjb/s7860/202110/194cf40...</td>\n      <td>10月6日0—24时，31个省（自治区、直辖市）和新疆生产建设兵团报告新增确诊病例25例，均...</td>\n      <td>2021-10-07</td>\n      <td>卫生应急办公室</td>\n    </tr>\n  </tbody>\n</table>\n<p>886 rows × 5 columns</p>\n</div>"
     },
     "execution_count": 10,
     "metadata": {},
     "output_type": "execute_result"
    }
   ],
   "source": [
    "covidData=pd.read_csv(\"stockData/furtherInformation/covid19/CovidNews01.csv\")\n",
    "covidData['Public_Time']=pd.to_datetime(covidData[\"Public_Time\"], format=\"%Y-%m-%d\")\n",
    "covidData"
   ],
   "metadata": {
    "collapsed": false,
    "ExecuteTime": {
     "end_time": "2023-10-13T15:20:54.745077400Z",
     "start_time": "2023-10-13T15:20:54.671274600Z"
    }
   }
  },
  {
   "cell_type": "code",
   "execution_count": 11,
   "outputs": [
    {
     "name": "stdout",
     "output_type": "stream",
     "text": [
      "(886, 5)\n",
      "886\n",
      "886\n"
     ]
    }
   ],
   "source": [
    "print(covidData.shape)\n",
    "print(len(covidData['Link'].unique()))\n",
    "print(len(covidData['Public_Time'].unique()))"
   ],
   "metadata": {
    "collapsed": false,
    "ExecuteTime": {
     "end_time": "2023-10-13T15:20:54.759039500Z",
     "start_time": "2023-10-13T15:20:54.744079800Z"
    }
   }
  },
  {
   "cell_type": "code",
   "execution_count": 12,
   "outputs": [],
   "source": [
    "from jieba import analyse\n",
    "\n",
    "# print(\"title: \",covidData['Title'].values[0])\n",
    "# for para in covidData['Content'].values[0].split(\"\\n\"):\n",
    "#     if para.strip()!=\"\":\n",
    "#         print(\"-----------------------\")\n",
    "#         print(para.strip())\n",
    "#         keywords = analyse.extract_tags(para.strip(),withWeight=False)\n",
    "#         print(\"tf-idf筛选：\",keywords)"
   ],
   "metadata": {
    "collapsed": false,
    "ExecuteTime": {
     "end_time": "2023-10-13T15:20:55.755374100Z",
     "start_time": "2023-10-13T15:20:54.762031700Z"
    }
   }
  },
  {
   "cell_type": "code",
   "execution_count": 13,
   "outputs": [
    {
     "name": "stdout",
     "output_type": "stream",
     "text": [
      "截至11月26日24时新型冠状病毒肺炎疫情最新情况\n",
      "11月26日0—24时，31个省（自治区、直辖市）和新疆生产建设兵团报告新增确诊病例25例。其中境外输入病例20例（上海5例，广东3例，云南3例，山东2例，湖南2例，广西2例，天津1例，辽宁1例，河南1例），含4例由无症状感染者转为确诊病例（湖南2例，河南1例，广西1例）；本土病例5例（辽宁3例，均在大连市；云南2例，均在德宏傣族景颇族自治州）。无新增死亡病例。无新增疑似病例。\n",
      "当日新增治愈出院病例76例，解除医学观察的密切接触者1858人，重症病例较前一日减少1例。\n",
      "境外输入现有确诊病例390例（其中重症病例3例），现有疑似病例2例。累计确诊病例10111例，累计治愈出院病例9721例，无死亡病例。\n",
      "截至11月26日24时，据31个省（自治区、直辖市）和新疆生产建设兵团报告，现有确诊病例809例（其中重症病例7例），累计治愈出院病例93163例，累计死亡病例4636例，累计报告确诊病例98608例，现有疑似病例2例。累计追踪到密切接触者1319872人，尚在医学观察的密切接触者30826人。\n",
      "31个省（自治区、直辖市）和新疆生产建设兵团报告新增无症状感染者15例（均为境外输入）；当日转为确诊病例4例（均为境外输入）；当日解除医学观察21例（境外输入13例）；尚在医学观察的无症状感染者439例（境外输入370例）。\n",
      "累计收到港澳台地区通报确诊病例29064例。其中，香港特别行政区12421例（出院12128例，死亡213例），澳门特别行政区77例（出院77例），台湾地区16566例（出院13742例，死亡848例）。\n",
      "\n",
      "\n",
      "（注：媒体引用时，请标注“信息来自国家卫生健康委员会官方网站”。）\n"
     ]
    }
   ],
   "source": [
    "print(covidData['Title'].values[4])\n",
    "print(covidData['Content'].values[4])"
   ],
   "metadata": {
    "collapsed": false,
    "ExecuteTime": {
     "end_time": "2023-10-13T15:20:55.772329400Z",
     "start_time": "2023-10-13T15:20:55.758367100Z"
    }
   }
  },
  {
   "cell_type": "markdown",
   "source": [
    "# 数据去重，并且删除部分缺失值"
   ],
   "metadata": {
    "collapsed": false
   }
  },
  {
   "cell_type": "code",
   "execution_count": 14,
   "outputs": [],
   "source": [
    "# allData=pd.read_csv(\"stockData/furtherInformation/AllData.csv\",index_col=0,dtype=object)\n",
    "# allData['Trddt']=pd.to_datetime(allData[\"Trddt\"], format=\"%Y-%m-%d\")\n",
    "# allData"
   ],
   "metadata": {
    "collapsed": false,
    "ExecuteTime": {
     "end_time": "2023-10-13T15:20:55.813219Z",
     "start_time": "2023-10-13T15:20:55.772329400Z"
    }
   }
  },
  {
   "cell_type": "code",
   "execution_count": 15,
   "outputs": [],
   "source": [
    "# ###todo：要删除的重复列名\n",
    "# deleteColumns=[\"Trddt_quarter\",\"FS_Combas.Typrep\",\"FS_Combas.ShortName\",\"csmar_listedcoinfo.Stknme\",\"csmar_listedcoinfo.Conme\",\"FS_Comscfd.ShortName\",\"FS_Comins.ShortName\",\"csmar_listedcoinfo.Conme_en\",\"csmar_listedcoinfo.Nnindcd\",\"csmar_listedcoinfo.PROVINCECD\",\"csmar_listedcoinfo.CITY\",\"csmar_listedcoinfo.Nnindnme\"]\n",
    "# afterDeleteData=allData[[i for i in allData.columns if i not in deleteColumns]]\n",
    "# afterDeleteData"
   ],
   "metadata": {
    "collapsed": false,
    "ExecuteTime": {
     "end_time": "2023-10-13T15:20:55.835160800Z",
     "start_time": "2023-10-13T15:20:55.788287700Z"
    }
   }
  },
  {
   "cell_type": "code",
   "execution_count": 16,
   "outputs": [],
   "source": [
    "# afterDeleteData.to_csv(\"stockData/furtherInformation/afterDeleteData.csv\")"
   ],
   "metadata": {
    "collapsed": false,
    "ExecuteTime": {
     "end_time": "2023-10-13T15:20:55.837155600Z",
     "start_time": "2023-10-13T15:20:55.804244200Z"
    }
   }
  },
  {
   "cell_type": "code",
   "execution_count": 17,
   "outputs": [],
   "source": [
    "# ### 检查是否有缺失值达到50%的，有的话就删除\n",
    "# totalNumRows=5000412\n",
    "# num = afterDeleteData.isna().sum()\n",
    "# indexs=[]\n",
    "# nullNums=[]\n",
    "# nullPerc=[]\n",
    "# for index in num.index:\n",
    "#     indexs.append(index)\n",
    "#     nullNums.append(num[index])\n",
    "#     nullPerc.append(str(round(float(num[index]/totalNumRows),3)*100)+\" %\")\n",
    "# \n",
    "# num=pd.DataFrame.from_dict({\"Variance\":indexs,\"Number Of Null\":nullNums,\"Percentage Of Null\":nullPerc})\n",
    "# num"
   ],
   "metadata": {
    "collapsed": false,
    "ExecuteTime": {
     "end_time": "2023-10-13T15:20:55.838153800Z",
     "start_time": "2023-10-13T15:20:55.818205800Z"
    }
   }
  },
  {
   "cell_type": "code",
   "execution_count": 18,
   "outputs": [],
   "source": [
    "# ###todo：删除和处理回归不能输入的数据,删除回报率为null的行,同时删除缺失值过多的 [FS_Combas.A001127000,FS_Combas.A001220000,FS_Combas.A001219000,FS_Combas.A001109000] 列\n",
    "# uselessColumns=[\"FS_Combas.A001127000\",\"FS_Combas.A001220000\",\"FS_Combas.A001219000\",\"FS_Combas.A001109000\",\"Stknme\",\"Listdt\",\"csmar_listedcoinfo.BUSSINESSRANGE\",\"Conme_en\",\"PROVINCECODE\",\"Parvcur\",\"csmar_listedcoinfo.MAINBUSSINESS\",\"CITYCODE\",\"PROVINCE\",\"Cuntrycd\",\"Conme\",\"Nindcd\",\"Nindcd\",\"Nnindcd\",\"OWNERSHIPTYPECODE\",\"Opnprc\",\"Hiprc\",\"Loprc\",\"Clsprc\",\"Indcd\",\"csmar_listedcoinfo.OWNERSHIPTYPE\",\"Markettype\",\"Sctcd\"]\n",
    "# \n",
    "# uselessDeletedDf=allData[[i for i in allData.columns if i not in deleteColumns and i not in uselessColumns]]\n",
    "# uselessDeletedDf=uselessDeletedDf.dropna()\n",
    "# uselessDeletedDf"
   ],
   "metadata": {
    "collapsed": false,
    "ExecuteTime": {
     "end_time": "2023-10-13T15:20:55.901982400Z",
     "start_time": "2023-10-13T15:20:55.836158100Z"
    }
   }
  },
  {
   "cell_type": "code",
   "execution_count": 19,
   "outputs": [],
   "source": [
    "###查看并确定目前的数据类型\n",
    "# print(\"占有类型： \",uselessDeletedDf[\"OWNERSHIPTYPE\"].unique())\n",
    "# print(\"财产类型：\",uselessDeletedDf[\"csmar_listedcoinfo.EquityNature\"].unique())\n",
    "# print(\"产业类型：\",uselessDeletedDf[\"Indnme\"].unique())\n",
    "# print(\"产业细分1：\",uselessDeletedDf[\"Nindnme\"].unique())\n",
    "# print(\"产业细分2：\",uselessDeletedDf[\"Nnindnme\"].unique())\n",
    "# print(\"公司所在地区：\",uselessDeletedDf[\"CITY\"].unique())"
   ],
   "metadata": {
    "collapsed": false,
    "ExecuteTime": {
     "end_time": "2023-10-13T15:20:55.902979900Z",
     "start_time": "2023-10-13T15:20:55.849124800Z"
    }
   }
  },
  {
   "cell_type": "code",
   "execution_count": 20,
   "outputs": [],
   "source": [
    "# uselessDeletedDf.to_csv(\"stockData/furtherInformation/Input.csv\",index=False)"
   ],
   "metadata": {
    "collapsed": false,
    "ExecuteTime": {
     "end_time": "2023-10-13T15:20:55.902979900Z",
     "start_time": "2023-10-13T15:20:55.864084100Z"
    }
   }
  },
  {
   "cell_type": "markdown",
   "source": [
    "# 数据转换 与 回归"
   ],
   "metadata": {
    "collapsed": false
   }
  },
  {
   "cell_type": "code",
   "execution_count": 21,
   "outputs": [
    {
     "data": {
      "text/plain": "          Stkcd       Trddt  ChangeRatio Indnme  Nindnme Nnindnme CITY  \\\n0             2  2019-01-02     0.003359    房地产     房地产业     房地产业  深圳市   \n1             2  2019-01-03     0.007113    房地产     房地产业     房地产业  深圳市   \n2             2  2019-01-04     0.035729    房地产     房地产业     房地产业  深圳市   \n3             2  2019-01-07     0.004813    房地产     房地产业     房地产业  深圳市   \n4             2  2019-01-08    -0.001996    房地产     房地产业     房地产业  深圳市   \n...         ...         ...          ...    ...      ...      ...  ...   \n3738097  900956  2020-10-29     0.009154     工业  普通机械制造业  通用设备制造业  黄石市   \n3738098  900956  2020-10-30     0.001564     工业  普通机械制造业  通用设备制造业  黄石市   \n3738099  900956  2020-11-02    -0.012180     工业  普通机械制造业  通用设备制造业  黄石市   \n3738100  900956  2020-11-03     0.011698     工业  普通机械制造业  通用设备制造业  黄石市   \n3738101  900956  2020-11-04    -0.040625     工业  普通机械制造业  通用设备制造业  黄石市   \n\n        OWNERSHIPTYPE  FS_Combas.A001111000  FS_Combas.A001123000  ...  \\\n0             国营或国有控股          1.586181e+09          7.503026e+11  ...   \n1             国营或国有控股          1.586181e+09          7.503026e+11  ...   \n2             国营或国有控股          1.586181e+09          7.503026e+11  ...   \n3             国营或国有控股          1.586181e+09          7.503026e+11  ...   \n4             国营或国有控股          1.586181e+09          7.503026e+11  ...   \n...               ...                   ...                   ...  ...   \n3738097       国营或国有控股          1.472750e+09          4.206667e+08  ...   \n3738098       国营或国有控股          1.472750e+09          4.206667e+08  ...   \n3738099       国营或国有控股          1.472750e+09          4.206667e+08  ...   \n3738100       国营或国有控股          1.472750e+09          4.206667e+08  ...   \n3738101       国营或国有控股          1.472750e+09          4.206667e+08  ...   \n\n         csmar_listedcoinfo.EquityNature  FS_Comins.B001100000  \\\n0                                     国企          2.976793e+11   \n1                                     国企          2.976793e+11   \n2                                     国企          2.976793e+11   \n3                                     国企          2.976793e+11   \n4                                     国企          2.976793e+11   \n...                                  ...                   ...   \n3738097                               民营          3.397009e+09   \n3738098                               民营          3.397009e+09   \n3738099                               民营          3.397009e+09   \n3738100                               民营          3.397009e+09   \n3738101                               民营          3.397009e+09   \n\n         FS_Comins.B001200000  FS_Comins.B001209000  FS_Comins.B001210000  \\\n0                2.344338e+11          7.868076e+09          1.034081e+10   \n1                2.344338e+11          7.868076e+09          1.034081e+10   \n2                2.344338e+11          7.868076e+09          1.034081e+10   \n3                2.344338e+11          7.868076e+09          1.034081e+10   \n4                2.344338e+11          7.868076e+09          1.034081e+10   \n...                       ...                   ...                   ...   \n3738097          3.265786e+09          1.351150e+08          1.019188e+08   \n3738098          3.265786e+09          1.351150e+08          1.019188e+08   \n3738099          3.265786e+09          1.351150e+08          1.019188e+08   \n3738100          3.265786e+09          1.351150e+08          1.019188e+08   \n3738101          3.265786e+09          1.351150e+08          1.019188e+08   \n\n         FS_Comins.B001211000  FS_Comins.B002000000  FS_Comscfd.C001000000  \\\n0                5.998575e+09          4.927229e+10           3.361818e+10   \n1                5.998575e+09          4.927229e+10           3.361818e+10   \n2                5.998575e+09          4.927229e+10           3.361818e+10   \n3                5.998575e+09          4.927229e+10           3.361818e+10   \n4                5.998575e+09          4.927229e+10           3.361818e+10   \n...                       ...                   ...                    ...   \n3738097          4.815918e+07          1.193740e+08           5.500335e+07   \n3738098          4.815918e+07          1.193740e+08           5.500335e+07   \n3738099          4.815918e+07          1.193740e+08           5.500335e+07   \n3738100          4.815918e+07          1.193740e+08           5.500335e+07   \n3738101          4.815918e+07          1.193740e+08           5.500335e+07   \n\n         FS_Comscfd.C002000000  FS_Comscfd.C003000000  \n0                -6.736444e+10           4.479765e+10  \n1                -6.736444e+10           4.479765e+10  \n2                -6.736444e+10           4.479765e+10  \n3                -6.736444e+10           4.479765e+10  \n4                -6.736444e+10           4.479765e+10  \n...                        ...                    ...  \n3738097          -6.344244e+07           2.123621e+08  \n3738098          -6.344244e+07           2.123621e+08  \n3738099          -6.344244e+07           2.123621e+08  \n3738100          -6.344244e+07           2.123621e+08  \n3738101          -6.344244e+07           2.123621e+08  \n\n[3738102 rows x 31 columns]",
      "text/html": "<div>\n<style scoped>\n    .dataframe tbody tr th:only-of-type {\n        vertical-align: middle;\n    }\n\n    .dataframe tbody tr th {\n        vertical-align: top;\n    }\n\n    .dataframe thead th {\n        text-align: right;\n    }\n</style>\n<table border=\"1\" class=\"dataframe\">\n  <thead>\n    <tr style=\"text-align: right;\">\n      <th></th>\n      <th>Stkcd</th>\n      <th>Trddt</th>\n      <th>ChangeRatio</th>\n      <th>Indnme</th>\n      <th>Nindnme</th>\n      <th>Nnindnme</th>\n      <th>CITY</th>\n      <th>OWNERSHIPTYPE</th>\n      <th>FS_Combas.A001111000</th>\n      <th>FS_Combas.A001123000</th>\n      <th>...</th>\n      <th>csmar_listedcoinfo.EquityNature</th>\n      <th>FS_Comins.B001100000</th>\n      <th>FS_Comins.B001200000</th>\n      <th>FS_Comins.B001209000</th>\n      <th>FS_Comins.B001210000</th>\n      <th>FS_Comins.B001211000</th>\n      <th>FS_Comins.B002000000</th>\n      <th>FS_Comscfd.C001000000</th>\n      <th>FS_Comscfd.C002000000</th>\n      <th>FS_Comscfd.C003000000</th>\n    </tr>\n  </thead>\n  <tbody>\n    <tr>\n      <th>0</th>\n      <td>2</td>\n      <td>2019-01-02</td>\n      <td>0.003359</td>\n      <td>房地产</td>\n      <td>房地产业</td>\n      <td>房地产业</td>\n      <td>深圳市</td>\n      <td>国营或国有控股</td>\n      <td>1.586181e+09</td>\n      <td>7.503026e+11</td>\n      <td>...</td>\n      <td>国企</td>\n      <td>2.976793e+11</td>\n      <td>2.344338e+11</td>\n      <td>7.868076e+09</td>\n      <td>1.034081e+10</td>\n      <td>5.998575e+09</td>\n      <td>4.927229e+10</td>\n      <td>3.361818e+10</td>\n      <td>-6.736444e+10</td>\n      <td>4.479765e+10</td>\n    </tr>\n    <tr>\n      <th>1</th>\n      <td>2</td>\n      <td>2019-01-03</td>\n      <td>0.007113</td>\n      <td>房地产</td>\n      <td>房地产业</td>\n      <td>房地产业</td>\n      <td>深圳市</td>\n      <td>国营或国有控股</td>\n      <td>1.586181e+09</td>\n      <td>7.503026e+11</td>\n      <td>...</td>\n      <td>国企</td>\n      <td>2.976793e+11</td>\n      <td>2.344338e+11</td>\n      <td>7.868076e+09</td>\n      <td>1.034081e+10</td>\n      <td>5.998575e+09</td>\n      <td>4.927229e+10</td>\n      <td>3.361818e+10</td>\n      <td>-6.736444e+10</td>\n      <td>4.479765e+10</td>\n    </tr>\n    <tr>\n      <th>2</th>\n      <td>2</td>\n      <td>2019-01-04</td>\n      <td>0.035729</td>\n      <td>房地产</td>\n      <td>房地产业</td>\n      <td>房地产业</td>\n      <td>深圳市</td>\n      <td>国营或国有控股</td>\n      <td>1.586181e+09</td>\n      <td>7.503026e+11</td>\n      <td>...</td>\n      <td>国企</td>\n      <td>2.976793e+11</td>\n      <td>2.344338e+11</td>\n      <td>7.868076e+09</td>\n      <td>1.034081e+10</td>\n      <td>5.998575e+09</td>\n      <td>4.927229e+10</td>\n      <td>3.361818e+10</td>\n      <td>-6.736444e+10</td>\n      <td>4.479765e+10</td>\n    </tr>\n    <tr>\n      <th>3</th>\n      <td>2</td>\n      <td>2019-01-07</td>\n      <td>0.004813</td>\n      <td>房地产</td>\n      <td>房地产业</td>\n      <td>房地产业</td>\n      <td>深圳市</td>\n      <td>国营或国有控股</td>\n      <td>1.586181e+09</td>\n      <td>7.503026e+11</td>\n      <td>...</td>\n      <td>国企</td>\n      <td>2.976793e+11</td>\n      <td>2.344338e+11</td>\n      <td>7.868076e+09</td>\n      <td>1.034081e+10</td>\n      <td>5.998575e+09</td>\n      <td>4.927229e+10</td>\n      <td>3.361818e+10</td>\n      <td>-6.736444e+10</td>\n      <td>4.479765e+10</td>\n    </tr>\n    <tr>\n      <th>4</th>\n      <td>2</td>\n      <td>2019-01-08</td>\n      <td>-0.001996</td>\n      <td>房地产</td>\n      <td>房地产业</td>\n      <td>房地产业</td>\n      <td>深圳市</td>\n      <td>国营或国有控股</td>\n      <td>1.586181e+09</td>\n      <td>7.503026e+11</td>\n      <td>...</td>\n      <td>国企</td>\n      <td>2.976793e+11</td>\n      <td>2.344338e+11</td>\n      <td>7.868076e+09</td>\n      <td>1.034081e+10</td>\n      <td>5.998575e+09</td>\n      <td>4.927229e+10</td>\n      <td>3.361818e+10</td>\n      <td>-6.736444e+10</td>\n      <td>4.479765e+10</td>\n    </tr>\n    <tr>\n      <th>...</th>\n      <td>...</td>\n      <td>...</td>\n      <td>...</td>\n      <td>...</td>\n      <td>...</td>\n      <td>...</td>\n      <td>...</td>\n      <td>...</td>\n      <td>...</td>\n      <td>...</td>\n      <td>...</td>\n      <td>...</td>\n      <td>...</td>\n      <td>...</td>\n      <td>...</td>\n      <td>...</td>\n      <td>...</td>\n      <td>...</td>\n      <td>...</td>\n      <td>...</td>\n      <td>...</td>\n    </tr>\n    <tr>\n      <th>3738097</th>\n      <td>900956</td>\n      <td>2020-10-29</td>\n      <td>0.009154</td>\n      <td>工业</td>\n      <td>普通机械制造业</td>\n      <td>通用设备制造业</td>\n      <td>黄石市</td>\n      <td>国营或国有控股</td>\n      <td>1.472750e+09</td>\n      <td>4.206667e+08</td>\n      <td>...</td>\n      <td>民营</td>\n      <td>3.397009e+09</td>\n      <td>3.265786e+09</td>\n      <td>1.351150e+08</td>\n      <td>1.019188e+08</td>\n      <td>4.815918e+07</td>\n      <td>1.193740e+08</td>\n      <td>5.500335e+07</td>\n      <td>-6.344244e+07</td>\n      <td>2.123621e+08</td>\n    </tr>\n    <tr>\n      <th>3738098</th>\n      <td>900956</td>\n      <td>2020-10-30</td>\n      <td>0.001564</td>\n      <td>工业</td>\n      <td>普通机械制造业</td>\n      <td>通用设备制造业</td>\n      <td>黄石市</td>\n      <td>国营或国有控股</td>\n      <td>1.472750e+09</td>\n      <td>4.206667e+08</td>\n      <td>...</td>\n      <td>民营</td>\n      <td>3.397009e+09</td>\n      <td>3.265786e+09</td>\n      <td>1.351150e+08</td>\n      <td>1.019188e+08</td>\n      <td>4.815918e+07</td>\n      <td>1.193740e+08</td>\n      <td>5.500335e+07</td>\n      <td>-6.344244e+07</td>\n      <td>2.123621e+08</td>\n    </tr>\n    <tr>\n      <th>3738099</th>\n      <td>900956</td>\n      <td>2020-11-02</td>\n      <td>-0.012180</td>\n      <td>工业</td>\n      <td>普通机械制造业</td>\n      <td>通用设备制造业</td>\n      <td>黄石市</td>\n      <td>国营或国有控股</td>\n      <td>1.472750e+09</td>\n      <td>4.206667e+08</td>\n      <td>...</td>\n      <td>民营</td>\n      <td>3.397009e+09</td>\n      <td>3.265786e+09</td>\n      <td>1.351150e+08</td>\n      <td>1.019188e+08</td>\n      <td>4.815918e+07</td>\n      <td>1.193740e+08</td>\n      <td>5.500335e+07</td>\n      <td>-6.344244e+07</td>\n      <td>2.123621e+08</td>\n    </tr>\n    <tr>\n      <th>3738100</th>\n      <td>900956</td>\n      <td>2020-11-03</td>\n      <td>0.011698</td>\n      <td>工业</td>\n      <td>普通机械制造业</td>\n      <td>通用设备制造业</td>\n      <td>黄石市</td>\n      <td>国营或国有控股</td>\n      <td>1.472750e+09</td>\n      <td>4.206667e+08</td>\n      <td>...</td>\n      <td>民营</td>\n      <td>3.397009e+09</td>\n      <td>3.265786e+09</td>\n      <td>1.351150e+08</td>\n      <td>1.019188e+08</td>\n      <td>4.815918e+07</td>\n      <td>1.193740e+08</td>\n      <td>5.500335e+07</td>\n      <td>-6.344244e+07</td>\n      <td>2.123621e+08</td>\n    </tr>\n    <tr>\n      <th>3738101</th>\n      <td>900956</td>\n      <td>2020-11-04</td>\n      <td>-0.040625</td>\n      <td>工业</td>\n      <td>普通机械制造业</td>\n      <td>通用设备制造业</td>\n      <td>黄石市</td>\n      <td>国营或国有控股</td>\n      <td>1.472750e+09</td>\n      <td>4.206667e+08</td>\n      <td>...</td>\n      <td>民营</td>\n      <td>3.397009e+09</td>\n      <td>3.265786e+09</td>\n      <td>1.351150e+08</td>\n      <td>1.019188e+08</td>\n      <td>4.815918e+07</td>\n      <td>1.193740e+08</td>\n      <td>5.500335e+07</td>\n      <td>-6.344244e+07</td>\n      <td>2.123621e+08</td>\n    </tr>\n  </tbody>\n</table>\n<p>3738102 rows × 31 columns</p>\n</div>"
     },
     "execution_count": 21,
     "metadata": {},
     "output_type": "execute_result"
    }
   ],
   "source": [
    "uselessDeletedDf=pd.read_csv(\"stockData/furtherInformation/Input.csv\")\n",
    "uselessDeletedDf"
   ],
   "metadata": {
    "collapsed": false,
    "ExecuteTime": {
     "end_time": "2023-10-13T15:21:18.793736700Z",
     "start_time": "2023-10-13T15:20:55.879043900Z"
    }
   }
  },
  {
   "cell_type": "code",
   "execution_count": 24,
   "outputs": [
    {
     "data": {
      "text/plain": "           ts_code  trade_date   open   high    low  close  pre_close  change  \\\n0        000001.SZ  2022-12-30  13.04  13.28  12.96  13.16      13.03    0.13   \n1        000001.SZ  2022-12-29  13.07  13.13  12.85  13.03      13.14   -0.11   \n2        000001.SZ  2022-12-28  13.16  13.38  13.00  13.14      13.11    0.03   \n3        000001.SZ  2022-12-27  12.87  13.22  12.87  13.11      12.77    0.34   \n4        000001.SZ  2022-12-26  12.99  13.04  12.71  12.77      12.98   -0.21   \n...            ...         ...    ...    ...    ...    ...        ...     ...   \n7792073  689009.SH  2020-11-04  57.45  57.80  51.90  54.40      57.39   -2.99   \n7792074  689009.SH  2020-11-03  56.50  59.55  53.36  57.39      56.77    0.62   \n7792075  689009.SH  2020-11-02  50.20  56.78  48.81  56.77      47.60    9.17   \n7792076  689009.SH  2020-10-30  40.02  51.56  40.02  47.60      38.50    9.10   \n7792077  689009.SH  2020-10-29  33.00  49.80  33.00  38.50      18.94   19.56   \n\n          pct_chg        vol       amount    symbol area industry    fullname  \\\n0          0.9977  818035.98  1074756.754       1.0   深圳       银行  平安银行股份有限公司   \n1         -0.8371  666890.09   865144.967       1.0   深圳       银行  平安银行股份有限公司   \n2          0.2288  791191.98  1042402.080       1.0   深圳       银行  平安银行股份有限公司   \n3          2.6625  886004.12  1160090.119       1.0   深圳       银行  平安银行股份有限公司   \n4         -1.6179  797119.87  1021903.963       1.0   深圳       银行  平安银行股份有限公司   \n...           ...        ...          ...       ...  ...      ...         ...   \n7792073   -5.2100  208464.50  1138491.187  689009.0   北京      摩托车      九号有限公司   \n7792074    1.0921  251214.45  1409432.109  689009.0   北京      摩托车      九号有限公司   \n7792075   19.2647  271934.02  1428223.165  689009.0   北京      摩托车      九号有限公司   \n7792076   23.6364  336005.51  1515930.836  689009.0   北京      摩托车      九号有限公司   \n7792077  103.2735  409549.22  1584100.687  689009.0   北京      摩托车      九号有限公司   \n\n                         enname   list_date ts_code_nosuffix  \n0        Ping An Bank Co., Ltd.  1991-04-03           000001  \n1        Ping An Bank Co., Ltd.  1991-04-03           000001  \n2        Ping An Bank Co., Ltd.  1991-04-03           000001  \n3        Ping An Bank Co., Ltd.  1991-04-03           000001  \n4        Ping An Bank Co., Ltd.  1991-04-03           000001  \n...                         ...         ...              ...  \n7792073         Ninebot Limited  2020-10-29           689009  \n7792074         Ninebot Limited  2020-10-29           689009  \n7792075         Ninebot Limited  2020-10-29           689009  \n7792076         Ninebot Limited  2020-10-29           689009  \n7792077         Ninebot Limited  2020-10-29           689009  \n\n[7792078 rows x 18 columns]",
      "text/html": "<div>\n<style scoped>\n    .dataframe tbody tr th:only-of-type {\n        vertical-align: middle;\n    }\n\n    .dataframe tbody tr th {\n        vertical-align: top;\n    }\n\n    .dataframe thead th {\n        text-align: right;\n    }\n</style>\n<table border=\"1\" class=\"dataframe\">\n  <thead>\n    <tr style=\"text-align: right;\">\n      <th></th>\n      <th>ts_code</th>\n      <th>trade_date</th>\n      <th>open</th>\n      <th>high</th>\n      <th>low</th>\n      <th>close</th>\n      <th>pre_close</th>\n      <th>change</th>\n      <th>pct_chg</th>\n      <th>vol</th>\n      <th>amount</th>\n      <th>symbol</th>\n      <th>area</th>\n      <th>industry</th>\n      <th>fullname</th>\n      <th>enname</th>\n      <th>list_date</th>\n      <th>ts_code_nosuffix</th>\n    </tr>\n  </thead>\n  <tbody>\n    <tr>\n      <th>0</th>\n      <td>000001.SZ</td>\n      <td>2022-12-30</td>\n      <td>13.04</td>\n      <td>13.28</td>\n      <td>12.96</td>\n      <td>13.16</td>\n      <td>13.03</td>\n      <td>0.13</td>\n      <td>0.9977</td>\n      <td>818035.98</td>\n      <td>1074756.754</td>\n      <td>1.0</td>\n      <td>深圳</td>\n      <td>银行</td>\n      <td>平安银行股份有限公司</td>\n      <td>Ping An Bank Co., Ltd.</td>\n      <td>1991-04-03</td>\n      <td>000001</td>\n    </tr>\n    <tr>\n      <th>1</th>\n      <td>000001.SZ</td>\n      <td>2022-12-29</td>\n      <td>13.07</td>\n      <td>13.13</td>\n      <td>12.85</td>\n      <td>13.03</td>\n      <td>13.14</td>\n      <td>-0.11</td>\n      <td>-0.8371</td>\n      <td>666890.09</td>\n      <td>865144.967</td>\n      <td>1.0</td>\n      <td>深圳</td>\n      <td>银行</td>\n      <td>平安银行股份有限公司</td>\n      <td>Ping An Bank Co., Ltd.</td>\n      <td>1991-04-03</td>\n      <td>000001</td>\n    </tr>\n    <tr>\n      <th>2</th>\n      <td>000001.SZ</td>\n      <td>2022-12-28</td>\n      <td>13.16</td>\n      <td>13.38</td>\n      <td>13.00</td>\n      <td>13.14</td>\n      <td>13.11</td>\n      <td>0.03</td>\n      <td>0.2288</td>\n      <td>791191.98</td>\n      <td>1042402.080</td>\n      <td>1.0</td>\n      <td>深圳</td>\n      <td>银行</td>\n      <td>平安银行股份有限公司</td>\n      <td>Ping An Bank Co., Ltd.</td>\n      <td>1991-04-03</td>\n      <td>000001</td>\n    </tr>\n    <tr>\n      <th>3</th>\n      <td>000001.SZ</td>\n      <td>2022-12-27</td>\n      <td>12.87</td>\n      <td>13.22</td>\n      <td>12.87</td>\n      <td>13.11</td>\n      <td>12.77</td>\n      <td>0.34</td>\n      <td>2.6625</td>\n      <td>886004.12</td>\n      <td>1160090.119</td>\n      <td>1.0</td>\n      <td>深圳</td>\n      <td>银行</td>\n      <td>平安银行股份有限公司</td>\n      <td>Ping An Bank Co., Ltd.</td>\n      <td>1991-04-03</td>\n      <td>000001</td>\n    </tr>\n    <tr>\n      <th>4</th>\n      <td>000001.SZ</td>\n      <td>2022-12-26</td>\n      <td>12.99</td>\n      <td>13.04</td>\n      <td>12.71</td>\n      <td>12.77</td>\n      <td>12.98</td>\n      <td>-0.21</td>\n      <td>-1.6179</td>\n      <td>797119.87</td>\n      <td>1021903.963</td>\n      <td>1.0</td>\n      <td>深圳</td>\n      <td>银行</td>\n      <td>平安银行股份有限公司</td>\n      <td>Ping An Bank Co., Ltd.</td>\n      <td>1991-04-03</td>\n      <td>000001</td>\n    </tr>\n    <tr>\n      <th>...</th>\n      <td>...</td>\n      <td>...</td>\n      <td>...</td>\n      <td>...</td>\n      <td>...</td>\n      <td>...</td>\n      <td>...</td>\n      <td>...</td>\n      <td>...</td>\n      <td>...</td>\n      <td>...</td>\n      <td>...</td>\n      <td>...</td>\n      <td>...</td>\n      <td>...</td>\n      <td>...</td>\n      <td>...</td>\n      <td>...</td>\n    </tr>\n    <tr>\n      <th>7792073</th>\n      <td>689009.SH</td>\n      <td>2020-11-04</td>\n      <td>57.45</td>\n      <td>57.80</td>\n      <td>51.90</td>\n      <td>54.40</td>\n      <td>57.39</td>\n      <td>-2.99</td>\n      <td>-5.2100</td>\n      <td>208464.50</td>\n      <td>1138491.187</td>\n      <td>689009.0</td>\n      <td>北京</td>\n      <td>摩托车</td>\n      <td>九号有限公司</td>\n      <td>Ninebot Limited</td>\n      <td>2020-10-29</td>\n      <td>689009</td>\n    </tr>\n    <tr>\n      <th>7792074</th>\n      <td>689009.SH</td>\n      <td>2020-11-03</td>\n      <td>56.50</td>\n      <td>59.55</td>\n      <td>53.36</td>\n      <td>57.39</td>\n      <td>56.77</td>\n      <td>0.62</td>\n      <td>1.0921</td>\n      <td>251214.45</td>\n      <td>1409432.109</td>\n      <td>689009.0</td>\n      <td>北京</td>\n      <td>摩托车</td>\n      <td>九号有限公司</td>\n      <td>Ninebot Limited</td>\n      <td>2020-10-29</td>\n      <td>689009</td>\n    </tr>\n    <tr>\n      <th>7792075</th>\n      <td>689009.SH</td>\n      <td>2020-11-02</td>\n      <td>50.20</td>\n      <td>56.78</td>\n      <td>48.81</td>\n      <td>56.77</td>\n      <td>47.60</td>\n      <td>9.17</td>\n      <td>19.2647</td>\n      <td>271934.02</td>\n      <td>1428223.165</td>\n      <td>689009.0</td>\n      <td>北京</td>\n      <td>摩托车</td>\n      <td>九号有限公司</td>\n      <td>Ninebot Limited</td>\n      <td>2020-10-29</td>\n      <td>689009</td>\n    </tr>\n    <tr>\n      <th>7792076</th>\n      <td>689009.SH</td>\n      <td>2020-10-30</td>\n      <td>40.02</td>\n      <td>51.56</td>\n      <td>40.02</td>\n      <td>47.60</td>\n      <td>38.50</td>\n      <td>9.10</td>\n      <td>23.6364</td>\n      <td>336005.51</td>\n      <td>1515930.836</td>\n      <td>689009.0</td>\n      <td>北京</td>\n      <td>摩托车</td>\n      <td>九号有限公司</td>\n      <td>Ninebot Limited</td>\n      <td>2020-10-29</td>\n      <td>689009</td>\n    </tr>\n    <tr>\n      <th>7792077</th>\n      <td>689009.SH</td>\n      <td>2020-10-29</td>\n      <td>33.00</td>\n      <td>49.80</td>\n      <td>33.00</td>\n      <td>38.50</td>\n      <td>18.94</td>\n      <td>19.56</td>\n      <td>103.2735</td>\n      <td>409549.22</td>\n      <td>1584100.687</td>\n      <td>689009.0</td>\n      <td>北京</td>\n      <td>摩托车</td>\n      <td>九号有限公司</td>\n      <td>Ninebot Limited</td>\n      <td>2020-10-29</td>\n      <td>689009</td>\n    </tr>\n  </tbody>\n</table>\n<p>7792078 rows × 18 columns</p>\n</div>"
     },
     "execution_count": 24,
     "metadata": {},
     "output_type": "execute_result"
    }
   ],
   "source": [
    "###由于资产那个表格没有显示医药股，所以需要tushare的表格来查询\n",
    "def getCodeWithoutSuffix(suffix:list,code:str):\n",
    "    for su in suffix:\n",
    "        code=code.replace(su,\"\")\n",
    "    return int(code)\n",
    "tushareData=pd.read_csv(\"stockData/TushareRawData.csv\")\n",
    "suffix=['.SH','.SZ','.BJ']\n",
    "tushareData['ts_code_nosuffix']=[getCodeWithoutSuffix(suffix,str(i)) for i in tushareData['ts_code'].values]\n",
    "tushareData"
   ],
   "metadata": {
    "collapsed": false,
    "ExecuteTime": {
     "end_time": "2023-10-13T15:37:19.550733Z",
     "start_time": "2023-10-13T15:36:56.617422300Z"
    }
   }
  },
  {
   "cell_type": "code",
   "execution_count": null,
   "outputs": [],
   "source": [],
   "metadata": {
    "collapsed": false
   }
  },
  {
   "cell_type": "code",
   "execution_count": null,
   "outputs": [],
   "source": [
    "### 使用onehot 与 lable转换一些数据\n",
    "from datetime import datetime\n",
    "from sklearn.preprocessing import LabelEncoder, OrdinalEncoder, OneHotEncoder\n",
    "uselessDeletedDf['Trddt']=pd.to_datetime(uselessDeletedDf[\"Trddt\"], format=\"%Y-%m-%d\")\n",
    "start = datetime(2019, 1, 1)\n",
    "end = datetime(2019, 6, 1)\n",
    "uselessDeletedDf=uselessDeletedDf[(uselessDeletedDf['Trddt'] < end) | (uselessDeletedDf['Trddt'] > start)]\n",
    "###增加一个季度变量\n",
    "lableEncoder=LabelEncoder()\n",
    "uselessDeletedDf['Quarter']=[dateToQuarter(i)[1] for i in uselessDeletedDf['Trddt'].values]\n",
    "Trddt_lable=lableEncoder.fit_transform([[x] for x in uselessDeletedDf['Trddt'].values])\n",
    "uselessDeletedDf['Trddt']=Trddt_lable\n",
    "# Stkcd_lable=lableEncoder.fit_transform([[x] for x in uselessDeletedDf['Stkcd'].values])\n",
    "# uselessDeletedDf['Stkcd']=Trddt_lable\n",
    "\n",
    "encoder = OneHotEncoder(sparse=False)\n",
    "OWNERSHIPTYPE_onehot = encoder.fit_transform([[x] for x in uselessDeletedDf['OWNERSHIPTYPE'].values])\n",
    "EquityNature_onehot = encoder.fit_transform([[x] for x in uselessDeletedDf['csmar_listedcoinfo.EquityNature'].values])\n",
    "Indnme_onehot = encoder.fit_transform([[x] for x in uselessDeletedDf['Indnme'].values])\n",
    "Nindnme_onehot = encoder.fit_transform([[x] for x in uselessDeletedDf['Nindnme'].values])\n",
    "Nnindnme_onehot = encoder.fit_transform([[x] for x in uselessDeletedDf['Nnindnme'].values])\n",
    "CITY_onehot = encoder.fit_transform([[x] for x in uselessDeletedDf['CITY'].values])\n",
    "# uselessDeletedDf['Stkcd']=uselessDeletedDf['Stkcd'].astype(int)\n",
    "# Stkcd_onehot = encoder.fit_transform([[x] for x in uselessDeletedDf['Stkcd'].values])\n",
    "# Stkcd_onehot"
   ],
   "metadata": {
    "collapsed": false
   }
  },
  {
   "cell_type": "code",
   "execution_count": null,
   "outputs": [],
   "source": [
    "def addColumnToDataFrame(name:str, theArray, theDataFrame=uselessDeletedDf):\n",
    "    theDict={}\n",
    "    thelist = [[r[col] for r in theArray] for col in range(len(theArray[0]))]\n",
    "    # print(f\"{name} column: {len(thelist)}\")\n",
    "    # print(f\"{name} row: {[len(a) for a in Color_onehot][0]}\")\n",
    "    numOfColumn = 0\n",
    "    for column in thelist:\n",
    "        theDict[name + str(numOfColumn)] = column\n",
    "        numOfColumn += 1\n",
    "    newDF=pd.DataFrame.from_dict(theDict)\n",
    "    theDataFrame=pd.concat([theDataFrame,newDF])\n",
    "    # return theDataFrame"
   ],
   "metadata": {
    "collapsed": false
   }
  },
  {
   "cell_type": "code",
   "execution_count": null,
   "outputs": [],
   "source": [
    "addColumnToDataFrame('OWNERSHIPTYPE',OWNERSHIPTYPE_onehot)\n",
    "addColumnToDataFrame('csmar_listedcoinfo.EquityNature',EquityNature_onehot)\n",
    "addColumnToDataFrame('Indnme',Indnme_onehot)\n",
    "addColumnToDataFrame('Nindnme',Nindnme_onehot)\n",
    "addColumnToDataFrame('Nnindnme',Nnindnme_onehot)\n",
    "addColumnToDataFrame('CITY',CITY_onehot)\n",
    "# addColumnToDataFrame('Stkcd',Stkcd_onehot)\n",
    "uselessDeletedDf=uselessDeletedDf.drop(columns=['OWNERSHIPTYPE','csmar_listedcoinfo.EquityNature','Indnme','Nindnme','Nnindnme','CITY','Stkcd'])\n",
    "uselessDeletedDf"
   ],
   "metadata": {
    "collapsed": false
   }
  },
  {
   "cell_type": "code",
   "execution_count": null,
   "outputs": [],
   "source": [
    "from sklearn.model_selection import train_test_split\n",
    "\n",
    "### train & test data\n",
    "Y=uselessDeletedDf['ChangeRatio']\n",
    "X=uselessDeletedDf.drop(columns='ChangeRatio')\n",
    "x_train , x_test , y_train , y_test = train_test_split(X,Y , test_size= 0.3 ,random_state=42)"
   ],
   "metadata": {
    "collapsed": false
   }
  },
  {
   "cell_type": "markdown",
   "source": [
    "## Linear Regression"
   ],
   "metadata": {
    "collapsed": false
   }
  },
  {
   "cell_type": "code",
   "execution_count": null,
   "outputs": [],
   "source": [
    "from sklearn.linear_model import LinearRegression\n",
    "\n",
    "linear_regressor = LinearRegression()\n",
    "linear_regressor.fit(x_train, y_train)"
   ],
   "metadata": {
    "collapsed": false
   }
  },
  {
   "cell_type": "code",
   "execution_count": null,
   "outputs": [],
   "source": [
    "y_pred = linear_regressor.predict(x_test)\n",
    "y_trainPredicted=linear_regressor.predict(x_train[-3000:])\n",
    "LR = pd.DataFrame({'y_test':y_test,'y_pred':y_pred})\n",
    "LR"
   ],
   "metadata": {
    "collapsed": false
   }
  },
  {
   "cell_type": "code",
   "execution_count": null,
   "outputs": [],
   "source": [
    "from matplotlib import pyplot as plt\n",
    "\n",
    "plt.figure(figsize=(12,8))\n",
    "plt.plot(LR[:50])\n",
    "plt.legend(['Actual' , 'Predicted'])"
   ],
   "metadata": {
    "collapsed": false
   }
  }
 ],
 "metadata": {
  "kernelspec": {
   "display_name": "Python 3",
   "language": "python",
   "name": "python3"
  },
  "language_info": {
   "codemirror_mode": {
    "name": "ipython",
    "version": 2
   },
   "file_extension": ".py",
   "mimetype": "text/x-python",
   "name": "python",
   "nbconvert_exporter": "python",
   "pygments_lexer": "ipython2",
   "version": "2.7.6"
  }
 },
 "nbformat": 4,
 "nbformat_minor": 0
}
