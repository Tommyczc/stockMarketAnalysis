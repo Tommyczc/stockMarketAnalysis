{
 "cells": [
  {
   "cell_type": "code",
   "execution_count": 12,
   "metadata": {
    "collapsed": true,
    "ExecuteTime": {
     "end_time": "2023-06-05T11:08:53.519287500Z",
     "start_time": "2023-06-05T11:08:53.506321900Z"
    }
   },
   "outputs": [
    {
     "name": "stdout",
     "output_type": "stream",
     "text": [
      "['SinaNewsRawData.csv', 'test.csv']\n"
     ]
    }
   ],
   "source": [
    "import os\n",
    "import pandas as pd\n",
    "path=\"newsData\"\n",
    "files= os.listdir(path)\n",
    "s = []\n",
    "for file in files: #遍历文件夹\n",
    "    s.append(file)\n",
    "\n",
    "print(s)\n",
    "\n",
    "fileNames={'file names':s}\n",
    "exportFile=pd.DataFrame(fileNames)\n",
    "exportFile.to_csv(\"lala.csv\")"
   ]
  },
  {
   "cell_type": "code",
   "execution_count": null,
   "outputs": [],
   "source": [],
   "metadata": {
    "collapsed": false
   }
  }
 ],
 "metadata": {
  "kernelspec": {
   "display_name": "Python 3",
   "language": "python",
   "name": "python3"
  },
  "language_info": {
   "codemirror_mode": {
    "name": "ipython",
    "version": 2
   },
   "file_extension": ".py",
   "mimetype": "text/x-python",
   "name": "python",
   "nbconvert_exporter": "python",
   "pygments_lexer": "ipython2",
   "version": "2.7.6"
  }
 },
 "nbformat": 4,
 "nbformat_minor": 0
}
